{
 "cells": [
  {
   "cell_type": "markdown",
   "metadata": {},
   "source": [
    "# Benchmark CBCE"
   ]
  },
  {
   "cell_type": "code",
   "execution_count": 1,
   "metadata": {},
   "outputs": [],
   "source": [
    "%load_ext autoreload\n",
    "%autoreload 2"
   ]
  },
  {
   "cell_type": "code",
   "execution_count": 2,
   "metadata": {},
   "outputs": [],
   "source": [
    "import numpy as np\n",
    "import scanpy as sc\n",
    "import time\n",
    "from pathlib import Path\n",
    "import torch\n",
    "import Concord as ccd\n",
    "import warnings\n",
    "warnings.filterwarnings('ignore')\n",
    "%matplotlib inline\n",
    "import matplotlib as mpl\n",
    "import matplotlib.pyplot as plt\n",
    "\n",
    "from matplotlib import font_manager, rcParams\n",
    "custom_rc = {\n",
    "    'font.family': 'Arial',  # Set the desired font for this plot\n",
    "}\n",
    "\n",
    "mpl.rcParams['svg.fonttype'] = 'none'\n",
    "mpl.rcParams['pdf.fonttype'] = 42"
   ]
  },
  {
   "cell_type": "code",
   "execution_count": null,
   "metadata": {},
   "outputs": [],
   "source": [
    "proj_name = \"cellcycle_CBCE\"\n",
    "data_dir = Path('../data/CE_CB/')\n",
    "save_dir = f\"../save/dev_{proj_name}-{time.strftime('%b%d')}/\"\n",
    "save_dir = Path(save_dir)\n",
    "save_dir.mkdir(parents=True, exist_ok=True)\n",
    "device = torch.device('cuda:3' if torch.cuda.is_available() else 'cpu')\n",
    "print(device)\n",
    "seed = 0\n",
    "ccd.ul.set_seed(seed)\n",
    "file_suffix = f\"{time.strftime('%b%d-%H%M')}\""
   ]
  },
  {
   "cell_type": "code",
   "execution_count": null,
   "metadata": {},
   "outputs": [],
   "source": [
    "adata = sc.read(data_dir / \"adata_cbce_Dec21-0244.h5ad\")\n",
    "adata.obsm.keys()"
   ]
  },
  {
   "cell_type": "code",
   "execution_count": 5,
   "metadata": {},
   "outputs": [],
   "source": [
    "concord_keys = [\"Concord\", 'Concord-decoder']\n",
    "other_keys = [\"Unintegrated\", \"Scanorama\", \"Liger\", \"Harmony\", \"scVI\", \"Seurat\"]\n",
    "combined_keys = other_keys + concord_keys"
   ]
  },
  {
   "cell_type": "code",
   "execution_count": 6,
   "metadata": {},
   "outputs": [],
   "source": [
    "# Define color palette for broad_cell_type_qz\n",
    "_, _, tissue_pal = ccd.pl.get_color_mapping(adata, 'broad_cell_type_qz', pal='Paired', seed=2)\n",
    "_, _, species_pal = ccd.pl.get_color_mapping(adata, 'species', pal='Set1', seed=seed)\n",
    "_, _, broadlin_pal = ccd.pl.get_color_mapping(adata,'broad_lineage', pal='Paired', seed=seed)\n",
    "_, _, batch_pal = ccd.pl.get_color_mapping(adata,'dataset3', pal='Set1', seed=seed)\n",
    "pal = {'embryo.time': 'BlueGreenRed', \n",
    "       \"cell_type\": 'Paired', \n",
    "       'species': species_pal, \n",
    "       'dataset3': batch_pal,\n",
    "       'lineage_complete': 'Paired',\n",
    "       'broad_lineage': broadlin_pal,\n",
    "       'ct_or_lin': 'Paired', \n",
    "       'broad_cell_type_qz': tissue_pal, \n",
    "       'ct_or_broad_lin': 'Paired',\n",
    "       'plot_cell_type': 'Paired',}\n"
   ]
  },
  {
   "cell_type": "code",
   "execution_count": null,
   "metadata": {},
   "outputs": [],
   "source": [
    "output_key = 'Concord-decoder'\n",
    "basis = output_key\n",
    "adata_clean = adata[adata.obs['broad_cell_type_qz'] != 'doublet/debris']\n",
    "#ccd.ul.run_umap(adata, source_key=basis, result_key=f'{basis}_UMAP', n_components=2, n_neighbors=30, min_dist=0.1, metric='euclidean', random_state=seed)\n",
    "show_basis = basis + '_UMAP'\n",
    "show_cols = ['broad_cell_type_qz', 'cell_type', 'ct_or_broad_lin', 'broad_lineage', 'embryo.time', 'species']\n",
    "with plt.rc_context(rc=custom_rc):\n",
    "    ccd.pl.plot_embedding(\n",
    "        adata_clean, show_basis, show_cols, figsize=(10, 6.7), dpi=600, ncols=3, font_size=3, point_size=.8, legend_loc='on data',\n",
    "        pal = pal, seed=seed,\n",
    "        save_path=save_dir / f\"{show_basis}_{file_suffix}_cleaned_wttext.pdf\"\n",
    "    )"
   ]
  },
  {
   "cell_type": "code",
   "execution_count": null,
   "metadata": {},
   "outputs": [],
   "source": [
    "# Example lists of marker genes by cell-cycle phase (C. elegans)\n",
    "G1_genes = [\n",
    "    \"cyd-1\",   # Cyclin D\n",
    "    \"cdk-4\",   # CDK4 partner\n",
    "    \"cki-1\",   # G1 inhibitor\n",
    "    \"cki-2\",   # G1 inhibitor\n",
    "    \"lin-35\"   # Rb\n",
    "]\n",
    "\n",
    "S_genes = [\n",
    "    \"cye-1\",   # Cyclin E\n",
    "    \"cdk-2\",   # CDK2 partner\n",
    "    \"efl-1\",   # E2F\n",
    "    \"dpl-1\",   # DP\n",
    "    \"cdc-6\",   # Licensing factor\n",
    "    \"cdt-1\",   # Licensing factor\n",
    "    \"cdt-2\"    # E3 ligase component\n",
    "]\n",
    "\n",
    "G2M_genes = [\n",
    "    \"cdk-1\",   # CDK1\n",
    "    # cdc-25 family (G2/M transition), you can expand as needed\n",
    "    \"cdc-25.1\",\n",
    "    \"cdc-25.2\",\n",
    "    \"cdc-25.3\",\n",
    "    \"cdc-25.4\",\n",
    "    \"cdc-25.5\"\n",
    "]\n",
    "\n",
    "M_exit_genes = [\n",
    "    \"fzr-1\",   # Cdh1 homolog\n",
    "    \"cdc-14\"   # Cdc14 phosphatase\n",
    "]\n",
    "\n",
    "cc_genes = G1_genes + S_genes + G2M_genes + M_exit_genes\n",
    "cc_genes = list(set(cc_genes))\n",
    "print(\"Number of cell-cycle genes:\", len(cc_genes))"
   ]
  },
  {
   "cell_type": "code",
   "execution_count": null,
   "metadata": {},
   "outputs": [],
   "source": [
    "genes_in = [g for g in cc_genes if g in adata.var_names]\n",
    "print(\"Number of cell-cycle genes in the dataset:\", len(genes_in))"
   ]
  },
  {
   "cell_type": "code",
   "execution_count": null,
   "metadata": {},
   "outputs": [],
   "source": [
    "output_key = 'Concord-decoder'\n",
    "basis = output_key\n",
    "#ccd.ul.run_umap(adata, source_key=basis, result_key=f'{basis}_UMAP', n_components=2, n_neighbors=30, min_dist=0.1, metric='euclidean', random_state=seed)\n",
    "show_basis = basis + '_UMAP'\n",
    "show_cols = genes_in\n",
    "base_fig_size = (3,3)\n",
    "ncols = 6\n",
    "nrows = int(np.ceil(len(show_cols) / ncols))\n",
    "figsize = (base_fig_size[0]*ncols, base_fig_size[1]*nrows)\n",
    "with plt.rc_context(rc=custom_rc):\n",
    "    ccd.pl.plot_embedding(\n",
    "        adata_clean, show_basis, show_cols, figsize=figsize, dpi=600, ncols=ncols, font_size=3, point_size=.4, legend_loc='on data',\n",
    "        pal = pal, seed=seed,\n",
    "        save_path=save_dir / f\"{show_basis}_{file_suffix}_gexpr.pdf\"\n",
    "    )"
   ]
  },
  {
   "cell_type": "code",
   "execution_count": null,
   "metadata": {},
   "outputs": [],
   "source": [
    "gene_sym = ['mom-2', 'pop-1', 'sys-1', 'lin-44', 'lin-17', 'par-6', 'par-1']\n",
    "gene_sym = [g for g in gene_sym if g in adata.var_names]\n",
    "print(\"Number of genes in the dataset:\", len(gene_sym))"
   ]
  },
  {
   "cell_type": "code",
   "execution_count": null,
   "metadata": {},
   "outputs": [],
   "source": [
    "output_key = 'Concord-decoder'\n",
    "basis = output_key\n",
    "#ccd.ul.run_umap(adata, source_key=basis, result_key=f'{basis}_UMAP', n_components=2, n_neighbors=30, min_dist=0.1, metric='euclidean', random_state=seed)\n",
    "show_basis = f'{basis}_UMAP'\n",
    "show_cols = gene_sym\n",
    "base_fig_size = (3,3)\n",
    "ncols = 6\n",
    "nrows = int(np.ceil(len(show_cols) / ncols))\n",
    "figsize = (base_fig_size[0]*ncols, base_fig_size[1]*nrows)\n",
    "with plt.rc_context(rc=custom_rc):\n",
    "    ccd.pl.plot_embedding(\n",
    "        adata, show_basis, show_cols, figsize=figsize, dpi=600, ncols=ncols, font_size=3, point_size=2, legend_loc='on data',\n",
    "        pal = pal, seed=seed,\n",
    "        save_path=save_dir / f\"{show_basis}_{file_suffix}_sym_gexpr.pdf\"\n",
    "    )"
   ]
  },
  {
   "cell_type": "markdown",
   "metadata": {},
   "source": [
    "### Early 200"
   ]
  },
  {
   "cell_type": "code",
   "execution_count": 18,
   "metadata": {},
   "outputs": [],
   "source": [
    "subset_name = 'early200'\n",
    "adata_subset = adata[adata.obs['embryo.time'] <= 200]"
   ]
  },
  {
   "cell_type": "code",
   "execution_count": null,
   "metadata": {},
   "outputs": [],
   "source": [
    "# Run umap and PCA for all latent embeddings\n",
    "for basis in combined_keys:\n",
    "    print(\"Running UMAP for\", basis)\n",
    "    if basis not in adata_subset.obsm:\n",
    "        continue\n",
    "    #if 'UMAP' not in basis:\n",
    "    ccd.ul.run_umap(adata_subset, source_key=basis, result_key=f'{basis}_UMAP_{subset_name}', n_components=2, n_neighbors=30, min_dist=0.1, metric='euclidean', random_state=seed)\n"
   ]
  },
  {
   "cell_type": "code",
   "execution_count": 20,
   "metadata": {},
   "outputs": [],
   "source": [
    "adata_subset.write_h5ad(data_dir / f\"adata_cbce_{file_suffix}_{subset_name}.h5ad\")"
   ]
  },
  {
   "cell_type": "code",
   "execution_count": null,
   "metadata": {},
   "outputs": [],
   "source": [
    "output_key = 'Concord-decoder'\n",
    "basis = output_key\n",
    "#ccd.ul.run_umap(adata, source_key=basis, result_key=f'{basis}_UMAP', n_components=2, n_neighbors=30, min_dist=0.1, metric='euclidean', random_state=seed)\n",
    "show_basis = f'{basis}_UMAP_{subset_name}'\n",
    "show_cols = genes_in\n",
    "base_fig_size = (3,3)\n",
    "ncols = 6\n",
    "nrows = int(np.ceil(len(show_cols) / ncols))\n",
    "figsize = (base_fig_size[0]*ncols, base_fig_size[1]*nrows)\n",
    "with plt.rc_context(rc=custom_rc):\n",
    "    ccd.pl.plot_embedding(\n",
    "        adata_subset, show_basis, show_cols, figsize=figsize, dpi=600, ncols=ncols, font_size=3, point_size=2, legend_loc='on data',\n",
    "        pal = pal, seed=seed,\n",
    "        save_path=save_dir / f\"{show_basis}_{file_suffix}_gexpr.pdf\"\n",
    "    )"
   ]
  },
  {
   "cell_type": "code",
   "execution_count": null,
   "metadata": {},
   "outputs": [],
   "source": [
    "gene_sym = ['mom-2', 'pop-1', 'sys-1', 'wrm-1', 'lin-44', 'lin-17', 'par-6', 'par-1', 'F21D5.9', 'sem-2', ]\n",
    "gene_sym = [g for g in gene_sym if g in adata.var_names]\n",
    "print(\"Number of genes in the dataset:\", len(gene_sym))"
   ]
  },
  {
   "cell_type": "code",
   "execution_count": null,
   "metadata": {},
   "outputs": [],
   "source": [
    "output_key = 'Concord-decoder'\n",
    "basis = output_key\n",
    "#ccd.ul.run_umap(adata, source_key=basis, result_key=f'{basis}_UMAP', n_components=2, n_neighbors=30, min_dist=0.1, metric='euclidean', random_state=seed)\n",
    "show_basis = f'{basis}_UMAP_{subset_name}'\n",
    "show_cols = gene_sym\n",
    "base_fig_size = (3,3)\n",
    "ncols = 6\n",
    "nrows = int(np.ceil(len(show_cols) / ncols))\n",
    "figsize = (base_fig_size[0]*ncols, base_fig_size[1]*nrows)\n",
    "with plt.rc_context(rc=custom_rc):\n",
    "    ccd.pl.plot_embedding(\n",
    "        adata_subset, show_basis, show_cols, figsize=figsize, dpi=600, ncols=ncols, font_size=3, point_size=2, legend_loc='on data',\n",
    "        pal = pal, seed=seed,\n",
    "        save_path=save_dir / f\"{show_basis}_{file_suffix}_sym_gexpr.pdf\"\n",
    "    )"
   ]
  }
 ],
 "metadata": {
  "kernelspec": {
   "display_name": "concord",
   "language": "python",
   "name": "python3"
  },
  "language_info": {
   "codemirror_mode": {
    "name": "ipython",
    "version": 3
   },
   "file_extension": ".py",
   "mimetype": "text/x-python",
   "name": "python",
   "nbconvert_exporter": "python",
   "pygments_lexer": "ipython3",
   "version": "3.9.20"
  }
 },
 "nbformat": 4,
 "nbformat_minor": 2
}
