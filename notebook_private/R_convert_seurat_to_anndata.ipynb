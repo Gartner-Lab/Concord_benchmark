{
 "cells": [
  {
   "cell_type": "code",
   "execution_count": 26,
   "metadata": {
    "vscode": {
     "languageId": "r"
    }
   },
   "outputs": [
    {
     "data": {
      "text/html": [
       "<style>\n",
       ".list-inline {list-style: none; margin:0; padding: 0}\n",
       ".list-inline>li {display: inline-block}\n",
       ".list-inline>li:not(:last-child)::after {content: \"\\00b7\"; padding: 0 .5ex}\n",
       "</style>\n",
       "<ol class=list-inline><li>'S10'</li><li>'S11'</li><li>'S12'</li><li>'S13'</li><li>'S14'</li><li>'S16'</li><li>'S18'</li><li>'S20'</li><li>'S22'</li><li>'S8'</li></ol>\n"
      ],
      "text/latex": [
       "\\begin{enumerate*}\n",
       "\\item 'S10'\n",
       "\\item 'S11'\n",
       "\\item 'S12'\n",
       "\\item 'S13'\n",
       "\\item 'S14'\n",
       "\\item 'S16'\n",
       "\\item 'S18'\n",
       "\\item 'S20'\n",
       "\\item 'S22'\n",
       "\\item 'S8'\n",
       "\\end{enumerate*}\n"
      ],
      "text/markdown": [
       "1. 'S10'\n",
       "2. 'S11'\n",
       "3. 'S12'\n",
       "4. 'S13'\n",
       "5. 'S14'\n",
       "6. 'S16'\n",
       "7. 'S18'\n",
       "8. 'S20'\n",
       "9. 'S22'\n",
       "10. 'S8'\n",
       "\n",
       "\n"
      ],
      "text/plain": [
       " [1] \"S10\" \"S11\" \"S12\" \"S13\" \"S14\" \"S16\" \"S18\" \"S20\" \"S22\" \"S8\" "
      ]
     },
     "metadata": {},
     "output_type": "display_data"
    }
   ],
   "source": [
    "library(Seurat)\n",
    "species <- 'frog'\n",
    "pyenv = 'cellpath'\n",
    "\n",
    "library(anndata)\n",
    "library(reticulate)\n",
    "use_condaenv(pyenv, required = TRUE)\n",
    "data_dir = paste0('../data/', species, '_tome/')\n",
    "file_names <- list.files(path = data_dir,pattern = \"*.rds\")\n",
    "stages = sapply(strsplit(gsub('.rds', '', file_names), '_'), function(x)x[3])\n",
    "stages"
   ]
  },
  {
   "cell_type": "code",
   "execution_count": 27,
   "metadata": {
    "vscode": {
     "languageId": "r"
    }
   },
   "outputs": [
    {
     "name": "stdout",
     "output_type": "stream",
     "text": [
      "[1] \"Processing stageS10\"\n",
      "[1] \"Processing stageS11\"\n",
      "[1] \"Processing stageS12\"\n",
      "[1] \"Processing stageS13\"\n",
      "[1] \"Processing stageS14\"\n",
      "[1] \"Processing stageS16\"\n",
      "[1] \"Processing stageS18\"\n",
      "[1] \"Processing stageS20\"\n",
      "[1] \"Processing stageS22\"\n",
      "[1] \"Processing stageS8\"\n"
     ]
    }
   ],
   "source": [
    "for (stage in stages) {\n",
    "    print(paste0(\"Processing stage\", stage))\n",
    "    seu_obj <- readRDS(paste0(data_dir, 'seurat_object_', stage, '.rds'))\n",
    "    fmeta <- data.frame(gene_id = rownames(seu_obj))\n",
    "    rownames(fmeta) <- rownames(seu_obj)\n",
    "\n",
    "    adata <- AnnData(\n",
    "        X =  t(seu_obj@assays$RNA@counts),\n",
    "        obs = seu_obj@meta.data,\n",
    "        var = fmeta,\n",
    "    )\n",
    "\n",
    "    adata$write_h5ad(paste0('../data/', species, '_tome/anndata_', stage, '.h5ad'))\n",
    "}"
   ]
  },
  {
   "cell_type": "code",
   "execution_count": null,
   "metadata": {
    "vscode": {
     "languageId": "r"
    }
   },
   "outputs": [],
   "source": []
  }
 ],
 "metadata": {
  "kernelspec": {
   "display_name": "R",
   "language": "R",
   "name": "ir"
  },
  "language_info": {
   "codemirror_mode": "r",
   "file_extension": ".r",
   "mimetype": "text/x-r-source",
   "name": "R",
   "pygments_lexer": "r",
   "version": "4.3.3"
  }
 },
 "nbformat": 4,
 "nbformat_minor": 2
}
