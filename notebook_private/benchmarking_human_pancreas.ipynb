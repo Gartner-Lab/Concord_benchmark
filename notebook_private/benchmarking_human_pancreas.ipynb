{
 "cells": [
  {
   "cell_type": "code",
   "execution_count": null,
   "metadata": {
    "collapsed": false,
    "jupyter": {
     "outputs_hidden": false
    }
   },
   "outputs": [],
   "source": [
    "%load_ext autoreload\n",
    "%autoreload 2"
   ]
  },
  {
   "cell_type": "code",
   "execution_count": null,
   "metadata": {},
   "outputs": [],
   "source": [
    "import numpy as np\n",
    "import scanpy as sc\n",
    "import time\n",
    "from pathlib import Path\n",
    "import torch\n",
    "import Concord as ccd\n",
    "import warnings\n",
    "warnings.filterwarnings('ignore')\n",
    "%matplotlib inline\n",
    "import matplotlib as mpl\n",
    "\n",
    "from matplotlib import font_manager, rcParams\n",
    "custom_rc = {\n",
    "    'font.family': 'Arial',  # Set the desired font for this plot\n",
    "}\n",
    "\n",
    "mpl.rcParams['svg.fonttype'] = 'none'\n",
    "mpl.rcParams['pdf.fonttype'] = 42"
   ]
  },
  {
   "cell_type": "code",
   "execution_count": null,
   "metadata": {
    "collapsed": false,
    "jupyter": {
     "outputs_hidden": false
    }
   },
   "outputs": [],
   "source": [
    "proj_name = \"human_pancreas_benchmarking\"\n",
    "save_dir = f\"../save/dev_{proj_name}-{time.strftime('%b%d')}/\"\n",
    "save_dir = Path(save_dir)\n",
    "save_dir.mkdir(parents=True, exist_ok=True)\n",
    "file_suffix = f\"{proj_name}_{time.strftime('%b%d-%H%M')}\"\n",
    "device = torch.device('cuda:3' if torch.cuda.is_available() else 'cpu')\n",
    "seed = 0\n",
    "ccd.ul.set_seed(seed)"
   ]
  },
  {
   "cell_type": "code",
   "execution_count": null,
   "metadata": {},
   "outputs": [],
   "source": [
    "data_dir = Path(\"../data/pancreas/\")\n",
    "adata = sc.read(\n",
    "    data_dir / \"dataset.h5ad\"\n",
    ")\n",
    "# Load existing\n",
    "adata = adata = sc.read( data_dir / f\"adata_human_pancreas_benchmarking_Dec11-1918.h5ad\")\n",
    "adata"
   ]
  },
  {
   "cell_type": "code",
   "execution_count": null,
   "metadata": {},
   "outputs": [],
   "source": [
    "adata.X = adata.layers[\"counts\"].copy()\n",
    "feature_list = ccd.ul.select_features(adata, n_top_features=3000, flavor='seurat_v3', normalize=False, log1p=False)\n",
    "adata = adata[:, feature_list]\n",
    "adata.X = adata.layers[\"log_normalized\"].copy()\n",
    "adata.obs['log_ncounts'] = np.log1p(adata.obs['n_counts'])"
   ]
  },
  {
   "cell_type": "markdown",
   "metadata": {},
   "source": [
    "Load previous results."
   ]
  },
  {
   "cell_type": "code",
   "execution_count": null,
   "metadata": {},
   "outputs": [],
   "source": [
    "adata.obsm = ccd.ul.load_obsm_from_hdf5(Path('../save/dev_human_pancreas_benchmarking-Oct10/') / \"obsm_human_pancreas_benchmarking_Oct10-1845.h5\")\n",
    "adata.obsm"
   ]
  },
  {
   "cell_type": "markdown",
   "metadata": {},
   "source": [
    "### No correction"
   ]
  },
  {
   "cell_type": "code",
   "execution_count": null,
   "metadata": {},
   "outputs": [],
   "source": [
    "sc.tl.pca(adata, n_comps=30)\n",
    "adata.obsm[\"Unintegrated\"] = adata.obsm[\"X_pca\"]\n",
    "sc.pp.neighbors(adata, n_neighbors=30, n_pcs=30)\n",
    "sc.tl.umap(adata, min_dist=0.1)"
   ]
  },
  {
   "cell_type": "code",
   "execution_count": null,
   "metadata": {},
   "outputs": [],
   "source": [
    "show_basis = 'X_umap'\n",
    "show_cols = ['log_ncounts', 'celltype', 'batch']\n",
    "ccd.pl.plot_embedding(\n",
    "    adata, show_basis, show_cols, figsize=(10,3), dpi=300, ncols=3, font_size=5, point_size=5, legend_loc='on data',\n",
    "    save_path=save_dir / f\"embeddings_{show_basis}_{file_suffix}.png\"\n",
    ")"
   ]
  },
  {
   "cell_type": "code",
   "execution_count": null,
   "metadata": {},
   "outputs": [],
   "source": [
    "file_suffix = f\"{time.strftime('%b%d-%H%M')}\"\n",
    "ccd.set_verbose_mode(True)\n",
    "state_key = 'cell_type'\n",
    "batch_key= 'batch'\n",
    "show_cols = [state_key, batch_key]\n",
    "timer = ccd.ul.Timer()\n",
    "time_log = {}"
   ]
  },
  {
   "cell_type": "markdown",
   "metadata": {},
   "source": [
    "### Scanorama"
   ]
  },
  {
   "cell_type": "code",
   "execution_count": null,
   "metadata": {},
   "outputs": [],
   "source": [
    "output_key = 'Scanorama'\n",
    "\n",
    "with timer:\n",
    "    ccd.ul.run_scanorama(adata, batch_key=\"batch\", output_key=output_key, return_corrected=False)\n",
    "\n",
    "time_log[output_key] = timer.interval\n",
    "ccd.ul.save_obsm_to_hdf5(adata, save_dir / f\"obsm_{file_suffix}.h5\")"
   ]
  },
  {
   "cell_type": "code",
   "execution_count": null,
   "metadata": {},
   "outputs": [],
   "source": [
    "output_key = 'Scanorama'\n",
    "ccd.ul.run_umap(adata, source_key=output_key, result_key=f'{output_key}_UMAP', n_components=2, n_neighbors=30, min_dist=0.1, metric='euclidean', random_state=seed)\n",
    "show_basis = f'{output_key}_UMAP'\n",
    "show_cols = ['log_ncounts', 'celltype', 'batch']\n",
    "ccd.pl.plot_embedding(\n",
    "    adata, show_basis, show_cols, figsize=(10,3), dpi=300, ncols=3, font_size=5, point_size=5, legend_loc='on data',\n",
    "    save_path=save_dir / f\"embeddings_{show_basis}_{file_suffix}.png\"\n",
    ")"
   ]
  },
  {
   "cell_type": "code",
   "execution_count": null,
   "metadata": {},
   "outputs": [],
   "source": [
    "import scib\n",
    "output_key = 'Scanorama'\n",
    "cluster_key = f'leiden_{output_key}'\n",
    "label_key = 'cell_type'\n",
    "sc.pp.neighbors(adata, n_neighbors=30, use_rep=output_key, metric='euclidean')\n",
    "sc.tl.leiden(adata, resolution=1.0, key_added=cluster_key)\n",
    "show_basis = f'{output_key}_UMAP'\n",
    "show_cols = [cluster_key, label_key, 'batch']\n",
    "\n",
    "ccd.pl.plot_embedding(\n",
    "    adata, show_basis, show_cols, figsize=(10,3), dpi=300, ncols=3, font_size=5, point_size=5, legend_loc='on data',\n",
    "    save_path=save_dir / f\"embeddings_leiden_{show_basis}_{file_suffix}.png\"\n",
    ")\n",
    "nmi_val = scib.metrics.nmi(adata, cluster_key, label_key)\n",
    "ari_val = scib.metrics.ari(adata, cluster_key, label_key)\n",
    "label_asw = scib.metrics.isolated_labels_asw(adata, label_key, batch_key, embed = output_key)\n",
    "label_f1 = scib.metrics.isolated_labels_f1(adata, label_key, batch_key, embed = output_key)\n",
    "silhouette = scib.me.silhouette(adata, label_key=label_key, embed=output_key)\n",
    "print(f\"NMI: {nmi_val:.3f}, ARI: {ari_val:.3f}, isolated_labels_asw: {label_asw:.3f}, isolated_labels_f1: {label_f1:.3f}, silhouette: {silhouette:.3f}\")"
   ]
  },
  {
   "cell_type": "code",
   "execution_count": null,
   "metadata": {},
   "outputs": [],
   "source": [
    "import scib\n",
    "output_key = 'Concord'\n",
    "cluster_key = f'leiden_{output_key}'\n",
    "label_key = 'cell_type'\n",
    "sc.pp.neighbors(adata, n_neighbors=30, use_rep=output_key, metric='euclidean')\n",
    "sc.tl.leiden(adata, resolution=0.1, key_added=cluster_key)\n",
    "show_basis = f'{output_key}_UMAP'\n",
    "show_cols = [cluster_key, label_key, 'batch']\n",
    "\n",
    "ccd.pl.plot_embedding(\n",
    "    adata, show_basis, show_cols, figsize=(10,3), dpi=300, ncols=3, font_size=5, point_size=5, legend_loc='on data',\n",
    "    save_path=save_dir / f\"embeddings_leiden_{show_basis}_{file_suffix}.png\"\n",
    ")\n",
    "nmi_val = scib.metrics.nmi(adata, cluster_key, label_key)\n",
    "ari_val = scib.metrics.ari(adata, cluster_key, label_key)\n",
    "#silhouette = scib.me.silhouette(adata, label_key=label_key, embed=output_key)\n",
    "print(f\"NMI: {nmi_val:.3f}, ARI: {ari_val:.3f}\")"
   ]
  },
  {
   "cell_type": "markdown",
   "metadata": {},
   "source": [
    "### Liger"
   ]
  },
  {
   "cell_type": "code",
   "execution_count": null,
   "metadata": {},
   "outputs": [],
   "source": [
    "output_key = 'Liger'\n",
    "with timer:\n",
    "    ccd.ul.run_liger(adata, batch_key=\"batch\", count_layer=\"counts\", output_key=output_key, k=30, return_corrected=True)\n",
    "\n",
    "time_log[output_key] = timer.interval\n",
    "ccd.ul.save_obsm_to_hdf5(adata, save_dir / f\"obsm_{file_suffix}.h5\")"
   ]
  },
  {
   "cell_type": "code",
   "execution_count": null,
   "metadata": {},
   "outputs": [],
   "source": [
    "ccd.ul.run_umap(adata, source_key=output_key, result_key=f'{output_key}_UMAP', n_components=2, n_neighbors=30, min_dist=0.1, metric='euclidean', random_state=seed)\n",
    "show_basis = f'{output_key}_UMAP'\n",
    "show_cols = ['log_ncounts', 'celltype', 'batch']\n",
    "ccd.pl.plot_embedding(\n",
    "    adata, show_basis, show_cols, figsize=(10,3), dpi=300, ncols=3, font_size=5, point_size=5, legend_loc='on data',\n",
    "    save_path=save_dir / f\"embeddings_{show_basis}_{file_suffix}.png\"\n",
    ")"
   ]
  },
  {
   "cell_type": "markdown",
   "metadata": {},
   "source": [
    "### Harmony"
   ]
  },
  {
   "cell_type": "code",
   "execution_count": null,
   "metadata": {},
   "outputs": [],
   "source": [
    "output_key = 'Harmony'\n",
    "with timer:\n",
    "    ccd.ul.run_harmony(adata, batch_key=\"batch\", input_key='X_pca', output_key=output_key)\n",
    "\n",
    "time_log[output_key] = timer.interval\n",
    "ccd.ul.save_obsm_to_hdf5(adata, save_dir / f\"obsm_{file_suffix}.h5\")"
   ]
  },
  {
   "cell_type": "code",
   "execution_count": null,
   "metadata": {},
   "outputs": [],
   "source": [
    "output_key = 'Harmony'\n",
    "ccd.ul.run_umap(adata, source_key=output_key, result_key=f'{output_key}_UMAP', n_components=2, n_neighbors=30, min_dist=0.1, metric='euclidean', random_state=seed)\n",
    "show_basis = f'{output_key}_UMAP'\n",
    "ccd.pl.plot_embedding(\n",
    "    adata, show_basis, show_cols, figsize=(10,3), dpi=300, ncols=3, font_size=5, point_size=5, legend_loc='on data',\n",
    "    save_path=save_dir / f\"embeddings_{show_basis}_{file_suffix}.png\"\n",
    ")"
   ]
  },
  {
   "cell_type": "markdown",
   "metadata": {},
   "source": [
    "### scVI"
   ]
  },
  {
   "cell_type": "code",
   "execution_count": null,
   "metadata": {},
   "outputs": [],
   "source": [
    "output_key = 'scVI'\n",
    "import scvi\n",
    "scvi.settings.device = device\n",
    "with timer:\n",
    "    scvi_vae = ccd.ul.run_scvi(adata, batch_key=\"batch\", output_key=output_key, return_model=True, return_corrected=False, transform_batch=None)\n",
    "\n",
    "time_log[output_key] = timer.interval\n",
    "ccd.ul.save_obsm_to_hdf5(adata, save_dir / f\"obsm_{file_suffix}.h5\")"
   ]
  },
  {
   "cell_type": "code",
   "execution_count": null,
   "metadata": {},
   "outputs": [],
   "source": [
    "ccd.ul.run_umap(adata, source_key=output_key, result_key=f'{output_key}_UMAP', n_components=2, n_neighbors=30, min_dist=0.1, metric='euclidean', random_state=seed)\n",
    "output_key = 'scVI'\n",
    "show_basis = f'{output_key}_UMAP'\n",
    "ccd.pl.plot_embedding(\n",
    "    adata, show_basis, show_cols, figsize=(10,3), dpi=300, ncols=3, font_size=5, point_size=5, legend_loc='on data',\n",
    "    save_path=save_dir / f\"embeddings_{show_basis}_{file_suffix}.png\"\n",
    ")"
   ]
  },
  {
   "cell_type": "markdown",
   "metadata": {},
   "source": [
    "### scANVI"
   ]
  },
  {
   "cell_type": "code",
   "execution_count": null,
   "metadata": {},
   "outputs": [],
   "source": [
    "output_key = 'scANVI'\n",
    "with timer:\n",
    "    ccd.ul.run_scanvi(adata, batch_key=\"batch\", labels_key='cell_type', output_key=output_key, scvi_model=scvi_vae, return_corrected=True, transform_batch=None)\n",
    "\n",
    "time_log[output_key] = timer.interval\n",
    "ccd.ul.save_obsm_to_hdf5(adata, save_dir / f\"obsm_{file_suffix}.h5\")"
   ]
  },
  {
   "cell_type": "code",
   "execution_count": null,
   "metadata": {},
   "outputs": [],
   "source": [
    "ccd.ul.run_umap(adata, source_key=output_key, result_key=f'{output_key}_UMAP', n_components=2, n_neighbors=30, min_dist=0.1, metric='euclidean', random_state=seed)\n",
    "output_key = 'scANVI'\n",
    "show_basis = f'{output_key}_UMAP'\n",
    "ccd.pl.plot_embedding(\n",
    "    adata, show_basis, show_cols, figsize=(10,3), dpi=300, ncols=3, font_size=5, point_size=5, legend_loc='on data',\n",
    "    save_path=save_dir / f\"embeddings_{show_basis}_{file_suffix}.png\"\n",
    ")"
   ]
  },
  {
   "cell_type": "code",
   "execution_count": null,
   "metadata": {},
   "outputs": [],
   "source": [
    "adata.layers"
   ]
  },
  {
   "cell_type": "markdown",
   "metadata": {},
   "source": [
    "### Concord"
   ]
  },
  {
   "cell_type": "code",
   "execution_count": null,
   "metadata": {},
   "outputs": [],
   "source": [
    "adata.shape"
   ]
  },
  {
   "cell_type": "code",
   "execution_count": null,
   "metadata": {},
   "outputs": [],
   "source": [
    "adata.obs['cell_type'].value_counts()"
   ]
  },
  {
   "cell_type": "code",
   "execution_count": null,
   "metadata": {},
   "outputs": [],
   "source": [
    "concord_args = {\n",
    "    'adata': adata,\n",
    "    'input_feature': None, \n",
    "    'min_p_intra_domain': 0.95,\n",
    "    'n_epochs': 15,\n",
    "    'p_intra_knn': 0.3,\n",
    "    #'sampler_knn': 100,\n",
    "    'augmentation_mask_prob': 0.4,\n",
    "    'clr_temperature': 0.3,\n",
    "    'latent_dim': 64,\n",
    "    'domain_key': 'batch',\n",
    "    'seed': seed, # random seed\n",
    "    'verbose': False, # print training progress\n",
    "    'device': device, # device to run on\n",
    "    'save_dir': save_dir # directory to save model checkpoints\n",
    "}\n"
   ]
  },
  {
   "cell_type": "code",
   "execution_count": null,
   "metadata": {},
   "outputs": [],
   "source": [
    "cur_ccd = ccd.Concord( use_decoder=False, **concord_args)\n",
    "\n",
    "# Encode data, saving the latent embedding in adata.obsm['Concord']\n",
    "output_key = 'Concord'\n",
    "with timer:\n",
    "    cur_ccd.encode_adata(input_layer_key='X_log1p', preprocess=True, output_key=output_key)\n",
    "\n",
    "time_log[output_key] = timer.interval\n",
    "# Save the latent embedding to a file, so that it can be loaded later\n",
    "ccd.ul.save_obsm_to_hdf5(cur_ccd.adata, save_dir / f\"obsm_{file_suffix}.h5\")"
   ]
  },
  {
   "cell_type": "code",
   "execution_count": null,
   "metadata": {},
   "outputs": [],
   "source": [
    "ccd.ul.run_umap(adata, source_key=output_key, result_key=f'{output_key}_UMAP', n_components=2, n_neighbors=30, min_dist=0.1, metric='euclidean', random_state=seed)\n",
    "output_key = 'Concord'\n",
    "show_cols = ['log_ncounts', 'celltype', 'batch']\n",
    "show_basis = f'{output_key}_UMAP'\n",
    "ccd.pl.plot_embedding(\n",
    "    adata, show_basis, show_cols, figsize=(10,3), dpi=300, ncols=3, font_size=5, point_size=5, legend_loc='on data',\n",
    "    save_path=save_dir / f\"embeddings_{show_basis}_{file_suffix}.png\"\n",
    ")"
   ]
  },
  {
   "cell_type": "code",
   "execution_count": null,
   "metadata": {},
   "outputs": [],
   "source": [
    "output_key = 'Concord'\n",
    "adata_sub = adata[adata.obs['cell_type'].isin(['activated_stellate', 'quiescent_stellate', 'schwann', 'macrophage', 'mast', 't_cell'])]\n",
    "ccd.ul.run_umap(adata_sub, source_key=output_key, result_key=f'{output_key}_UMAP', n_components=2, n_neighbors=30, min_dist=0.1, metric='euclidean', random_state=seed)\n",
    "show_basis = f'{output_key}_UMAP'\n",
    "show_cols = ['log_ncounts', 'celltype', 'batch']\n",
    "ccd.pl.plot_embedding(\n",
    "    adata_sub, show_basis, show_cols, figsize=(10,3), dpi=300, ncols=3, font_size=5, point_size=20, legend_loc='on data',\n",
    "    save_path=save_dir / f\"embeddings_sub_{show_basis}_{file_suffix}.png\"\n",
    ")"
   ]
  },
  {
   "cell_type": "code",
   "execution_count": null,
   "metadata": {},
   "outputs": [],
   "source": [
    "output_key = 'Concord'\n",
    "adata_sub = adata[adata.obs['cell_type'].isin(['macrophage', 'mast', 't_cell'])]\n",
    "ccd.ul.run_umap(adata_sub, source_key=output_key, result_key=f'{output_key}_UMAP', n_components=2, n_neighbors=30, min_dist=0.1, metric='euclidean', random_state=seed)\n",
    "show_basis = f'{output_key}_UMAP'\n",
    "show_cols = ['log_ncounts', 'celltype', 'batch']\n",
    "ccd.pl.plot_embedding(\n",
    "    adata_sub, show_basis, show_cols, figsize=(10,3), dpi=300, ncols=3, font_size=5, point_size=30, legend_loc='on data',\n",
    "    save_path=save_dir / f\"embeddings_sub_{show_basis}_{file_suffix}.png\"\n",
    ")"
   ]
  },
  {
   "cell_type": "code",
   "execution_count": null,
   "metadata": {},
   "outputs": [],
   "source": [
    "import scib\n",
    "output_key = 'Concord'\n",
    "cluster_key = f'leiden_{output_key}'\n",
    "label_key = 'cell_type'\n",
    "sc.pp.neighbors(adata, n_neighbors=30, use_rep=output_key, metric='euclidean')\n",
    "sc.tl.leiden(adata, resolution=1.0, key_added=cluster_key)\n",
    "show_basis = f'{output_key}_UMAP'\n",
    "show_cols = [cluster_key, label_key, 'batch']\n",
    "nmi_val = scib.metrics.nmi(adata, cluster_key, label_key)\n",
    "ari_val = scib.metrics.ari(adata, cluster_key, label_key)\n",
    "print(f\"NMI: {nmi_val:.3f}, ARI: {ari_val:.3f}, isolated_labels_asw: {label_asw:.3f}, isolated_labels_f1: {label_f1:.3f}, silhouette: {silhouette:.3f}\")"
   ]
  },
  {
   "cell_type": "code",
   "execution_count": null,
   "metadata": {},
   "outputs": [],
   "source": [
    "import scib\n",
    "output_key = 'Concord'\n",
    "cluster_key = f'leiden_{output_key}'\n",
    "label_key = 'cell_type'\n",
    "sc.pp.neighbors(adata, n_neighbors=30, use_rep=output_key, metric='euclidean')\n",
    "sc.tl.leiden(adata, resolution=0.2, key_added=cluster_key)\n",
    "show_basis = f'{output_key}_UMAP'\n",
    "show_cols = [cluster_key, label_key, 'batch']\n",
    "\n",
    "ccd.pl.plot_embedding(\n",
    "    adata, show_basis, show_cols, figsize=(10,3), dpi=300, ncols=3, font_size=5, point_size=5, legend_loc='on data',\n",
    "    save_path=save_dir / f\"embeddings_leiden_{show_basis}_{file_suffix}.png\"\n",
    ")\n",
    "nmi_val = scib.metrics.nmi(adata, cluster_key, label_key)\n",
    "ari_val = scib.metrics.ari(adata, cluster_key, label_key)\n",
    "silhouette = scib.me.silhouette(adata, label_key=label_key, embed=output_key)\n",
    "print(f\"NMI: {nmi_val:.3f}, ARI: {ari_val:.3f}, silhouette: {silhouette:.3f}\")"
   ]
  },
  {
   "cell_type": "markdown",
   "metadata": {},
   "source": [
    "### Concord-decoder"
   ]
  },
  {
   "cell_type": "code",
   "execution_count": null,
   "metadata": {},
   "outputs": [],
   "source": [
    "decoder_ccd = ccd.Concord(use_decoder=True, **concord_args)\n",
    "\n",
    "output_key = 'Concord-decoder'\n",
    "with timer:\n",
    "    decoder_ccd.encode_adata(input_layer_key='X_log1p', preprocess=True, output_key=output_key)\n",
    "\n",
    "time_log[output_key] = timer.interval\n",
    "# Save the latent embedding to a file, so that it can be loaded later\n",
    "ccd.ul.save_obsm_to_hdf5(decoder_ccd.adata, save_dir / f\"obsm_{file_suffix}.h5\")"
   ]
  },
  {
   "cell_type": "code",
   "execution_count": null,
   "metadata": {},
   "outputs": [],
   "source": [
    "output_key = 'Concord-decoder'\n",
    "ccd.ul.run_umap(adata, source_key=output_key, result_key=f'{output_key}_UMAP', n_components=2, n_neighbors=30, min_dist=0.1, metric='euclidean', random_state=seed)\n",
    "show_basis = f'{output_key}_UMAP'\n",
    "show_cols = ['log_ncounts', 'celltype', 'batch']\n",
    "ccd.pl.plot_embedding(\n",
    "    adata, show_basis, show_cols, figsize=(10,3), dpi=300, ncols=3, font_size=5, point_size=5, legend_loc='on data',\n",
    "    save_path=save_dir / f\"embeddings_{show_basis}_{file_suffix}.png\"\n",
    ")"
   ]
  },
  {
   "cell_type": "code",
   "execution_count": null,
   "metadata": {},
   "outputs": [],
   "source": [
    "output_key = 'Concord-decoder'\n",
    "adata_sub = adata[adata.obs['cell_type'].isin(['activated_stellate', 'quiescent_stellate', 'schwann', 'macrophage', 'mast', 't_cell'])]\n",
    "ccd.ul.run_umap(adata_sub, source_key=output_key, result_key=f'{output_key}_UMAP', n_components=2, n_neighbors=30, min_dist=0.1, metric='euclidean', random_state=seed)\n",
    "show_basis = f'{output_key}_UMAP'\n",
    "show_cols = ['log_ncounts', 'celltype', 'batch']\n",
    "ccd.pl.plot_embedding(\n",
    "    adata_sub, show_basis, show_cols, figsize=(10,3), dpi=300, ncols=3, font_size=5, point_size=20, legend_loc='on data',\n",
    "    save_path=save_dir / f\"embeddings_sub_{show_basis}_{file_suffix}.png\"\n",
    ")"
   ]
  },
  {
   "cell_type": "code",
   "execution_count": null,
   "metadata": {},
   "outputs": [],
   "source": [
    "adata_sub = adata[adata.obs['cell_type'].isin(['macrophage', 'mast', 't_cell'])]\n",
    "ccd.ul.run_umap(adata_sub, source_key=output_key, result_key=f'{output_key}_UMAP', n_components=2, n_neighbors=30, min_dist=0.1, metric='euclidean', random_state=seed)\n",
    "show_basis = f'{output_key}_UMAP'\n",
    "show_cols = ['log_ncounts', 'celltype', 'batch']\n",
    "ccd.pl.plot_embedding(\n",
    "    adata_sub, show_basis, show_cols, figsize=(10,3), dpi=300, ncols=3, font_size=5, point_size=30, legend_loc='on data',\n",
    "    save_path=save_dir / f\"embeddings_sub_{show_basis}_{file_suffix}.png\"\n",
    ")"
   ]
  },
  {
   "cell_type": "markdown",
   "metadata": {},
   "source": [
    "### Concord-class"
   ]
  },
  {
   "cell_type": "code",
   "execution_count": null,
   "metadata": {},
   "outputs": [],
   "source": [
    "cur_ccd = ccd.Concord(use_classifier=True, # use classifier\n",
    "                      class_key = 'cell_type', # key indicating cell type\n",
    "                      train_frac=1.0, # fraction of data to use for training\n",
    "                      **concord_args\n",
    "                      ) \n",
    "\n",
    "# Encode data, saving the latent embedding in adata.obsm['Concord']\n",
    "file_suffix = f\"{proj_name}_{time.strftime('%b%d-%H%M')}\"\n",
    "output_key = 'Concord-class'\n",
    "with timer:\n",
    "    cur_ccd.encode_adata(input_layer_key='X_log1p', output_key=output_key, preprocess=True)\n",
    "\n",
    "time_log[output_key] = timer.interval\n",
    "# Save the latent embedding to a file, so that it can be loaded later\n",
    "ccd.ul.save_obsm_to_hdf5(cur_ccd.adata, save_dir / f\"obsm_{file_suffix}.h5\")"
   ]
  },
  {
   "cell_type": "code",
   "execution_count": null,
   "metadata": {},
   "outputs": [],
   "source": [
    "output_key = 'Concord-class'\n",
    "ccd.ul.run_umap(adata, source_key=output_key, result_key=f'{output_key}_UMAP', n_components=2, n_neighbors=30, min_dist=0.1, metric='euclidean', random_state=seed)\n",
    "show_basis = f'{output_key}_UMAP'\n",
    "show_cols = ['log_ncounts', 'celltype', 'batch']\n",
    "ccd.pl.plot_embedding(\n",
    "    adata, show_basis, show_cols, figsize=(10,3), dpi=300, ncols=3, font_size=5, point_size=5, legend_loc='on data',\n",
    "    save_path=save_dir / f\"embeddings_{show_basis}_{file_suffix}.png\"\n",
    ")"
   ]
  },
  {
   "cell_type": "code",
   "execution_count": null,
   "metadata": {},
   "outputs": [],
   "source": [
    "output_key = 'Concord-class'\n",
    "adata_sub = adata[adata.obs['cell_type'].isin(['activated_stellate', 'quiescent_stellate', 'schwann', 'macrophage', 'mast', 't_cell'])]\n",
    "ccd.ul.run_umap(adata_sub, source_key=output_key, result_key=f'{output_key}_UMAP', n_components=2, n_neighbors=30, min_dist=0.1, metric='euclidean', random_state=seed)\n",
    "show_basis = f'{output_key}_UMAP'\n",
    "show_cols = ['log_ncounts', 'celltype', 'batch']\n",
    "ccd.pl.plot_embedding(\n",
    "    adata_sub, show_basis, show_cols, figsize=(10,3), dpi=300, ncols=3, font_size=5, point_size=20, legend_loc='on data',\n",
    "    save_path=save_dir / f\"embeddings_sub_{show_basis}_{file_suffix}.png\"\n",
    ")"
   ]
  },
  {
   "cell_type": "code",
   "execution_count": null,
   "metadata": {},
   "outputs": [],
   "source": [
    "obsm_filename = save_dir / f\"obsm_{file_suffix}.h5\"\n",
    "ccd.ul.save_obsm_to_hdf5(adata, obsm_filename)\n",
    "adata.write_h5ad( data_dir / f\"adata_{file_suffix}.h5ad\")\n",
    "file_suffix"
   ]
  },
  {
   "cell_type": "markdown",
   "metadata": {},
   "source": [
    "## Benchmarking"
   ]
  },
  {
   "cell_type": "code",
   "execution_count": null,
   "metadata": {},
   "outputs": [],
   "source": [
    "latent_keys = [\"Unintegrated\", \"Scanorama\", \"LIGER\", \"Harmony\", \"scVI\", \"scANVI\", \"Concord\", 'Concord-decoder', \"Concord-class\"]\n",
    "#latent_keys = [\"Unintegrated\", \"Concord\", 'Concord-decoder', \"Concord-class\"]"
   ]
  },
  {
   "cell_type": "code",
   "execution_count": null,
   "metadata": {},
   "outputs": [],
   "source": [
    "from scib_metrics.benchmark import Benchmarker\n",
    "bm = Benchmarker(\n",
    "    adata,\n",
    "    batch_key='batch',\n",
    "    label_key='cell_type',\n",
    "    embedding_obsm_keys=latent_keys,\n",
    "    n_jobs=6,\n",
    ")\n",
    "bm.benchmark()"
   ]
  },
  {
   "cell_type": "code",
   "execution_count": null,
   "metadata": {},
   "outputs": [],
   "source": [
    "import matplotlib.pyplot as plt\n",
    "import os\n",
    "bm.plot_results_table(min_max_scale=False, show=False)\n",
    "fig = plt.gcf()\n",
    "fig.set_size_inches(16, 6) \n",
    "fig.savefig(os.path.join(save_dir, f'scibmetrics_results_{file_suffix}.pdf'), facecolor='white', dpi=600)\n",
    "plt.show()\n",
    "plt.close(fig)"
   ]
  },
  {
   "cell_type": "code",
   "execution_count": null,
   "metadata": {},
   "outputs": [],
   "source": [
    "# Recompute nmi and ari using the approach described in paper, with resolution range from 0.1 to 1.0 step 0.1\n",
    "label_key = 'cell_type'\n",
    "nmi_df, ari_df = ccd.ul.benchmark_nmi_ari(adata, emb_keys=latent_keys, label_key=label_key, resolution_range=np.arange(0.1, 1.1, 0.1), n_neighbors=15, metric='euclidean', verbose=True)\n",
    "nmi_df.to_csv(save_dir / f\"nmi_{file_suffix}.csv\")\n",
    "ari_df.to_csv(save_dir / f\"ari_{file_suffix}.csv\")"
   ]
  },
  {
   "cell_type": "code",
   "execution_count": null,
   "metadata": {},
   "outputs": [],
   "source": [
    "import pandas as pd\n",
    "scib_scores = bm.get_results(min_max_scale=False)\n",
    "scib_scores.to_csv(save_dir / f\"scib_scores_{file_suffix}.csv\")\n",
    "# Take the max across resolutions for nmi and ari\n",
    "nmi_max = nmi_df.max()\n",
    "ari_max = ari_df.max()\n",
    "# Replace '('Bio conservation', 'KMeans NMI'), ('Bio conservation', 'KMeans ARI') in scib_scores with the max values\n",
    "# Also remove Kmeans from the column names\n",
    "scib_scores.loc[nmi_max.index, 'KMeans NMI'] = nmi_max\n",
    "scib_scores.loc[ari_max.index, 'KMeans ARI'] = ari_max\n",
    "\n",
    "# Change column names from 'KMeans NMI' to 'NMI' and 'KMeans ARI' to 'ARI'\n",
    "scib_scores.columns = scib_scores.columns.str.replace('KMeans ', '')\n",
    "scib_scores\n"
   ]
  },
  {
   "cell_type": "code",
   "execution_count": null,
   "metadata": {},
   "outputs": [],
   "source": [
    "import pandas as pd\n",
    "# Convert row 'Metric Type' to multi-index column, first level is 'Metric Type', second level is existing column name\n",
    "metric_type = scib_scores.loc['Metric Type']\n",
    "scib_scores = scib_scores.drop('Metric Type')  # Drop the last row now that it's stored in metric_type\n",
    "scib_scores.columns = pd.MultiIndex.from_tuples([(metric_type[col], col) for col in scib_scores.columns])\n",
    "scib_scores = ccd.ul.benchmark_stats_to_score(scib_scores, min_max_scale=False, one_minus=False, aggregate_score=False, rank=True, rank_col=('Aggregate score', 'Total'), name_exact=False)\n",
    "\n",
    "custom_rc = {\n",
    "    'font.family': 'Arial',  # Set the desired font for this plot\n",
    "}\n",
    "\n",
    "with plt.rc_context(rc=custom_rc):\n",
    "    ccd.pl.plot_benchmark_table(scib_scores, pal='PRGn', pal_agg='RdYlBu_r', cmap_method = 'minmax', save_path=save_dir / f\"scib_results_{file_suffix}.pdf\", figsize=(16, 6), dpi=300)"
   ]
  },
  {
   "cell_type": "markdown",
   "metadata": {},
   "source": [
    "### Benchmarking hyperparam test"
   ]
  },
  {
   "cell_type": "code",
   "execution_count": null,
   "metadata": {},
   "outputs": [],
   "source": [
    "# Batch run\n",
    "param_grid = {\n",
    "    \"augmentation_mask_prob\": [0.0, 0.1, 0.3, 0.5, 0.7, 0.9],\n",
    "    \"p_intra_knn\": [0.0, 0.05, 0.1, 0.3, 0.5],\n",
    "    \"min_p_intra_domain\": [0.3, 0.5, 0.8, 1.0],\n",
    "}\n",
    "ccd.ul.run_hyperparameter_tests(adata, params, param_grid, output_key='Concord', return_decoded=False, trace_memory=True, trace_gpu_memory=True, save_dir=save_dir)\n",
    "\n",
    "params_cdt = params.copy()\n",
    "params_cdt['use_classifier'] = True\n",
    "param_grid = {\n",
    "    \"augmentation_mask_prob\": [0.0, 0.1, 0.3, 0.5, 0.7, 0.9],\n",
    "    \"p_intra_knn\": [0.0, 0.05, 0.1, 0.3, 0.5],\n",
    "    \"min_p_intra_domain\": [0.3, 0.5, 0.8, 1.0],\n",
    "}\n",
    "ccd.ul.run_hyperparameter_tests(adata, params_cdt, param_grid, output_key='Concord-ant', return_decoded=False, trace_memory=True, trace_gpu_memory=True, save_dir=save_dir)\n"
   ]
  },
  {
   "cell_type": "code",
   "execution_count": null,
   "metadata": {},
   "outputs": [],
   "source": [
    "\n",
    "file_suffix = f\"{time.strftime('%b%d-%H%M')}\"\n",
    "bm = Benchmarker(\n",
    "    adata,\n",
    "    batch_key=\"batch\",\n",
    "    label_key=\"cell_type\",\n",
    "    embedding_obsm_keys= [key for key in adata.obsm.keys() if all(substring not in key for substring in [\"UMAP\"])],\n",
    "    n_jobs=3\n",
    ")\n",
    "bm.benchmark()\n",
    "ccd.ul.save_object(bm, save_dir / f\"bm_{file_suffix}.pkl\")\n",
    "bm.get_results(min_max_scale=False).to_excel(save_dir / f\"bm_results_{file_suffix}.xlsx\")\n"
   ]
  },
  {
   "cell_type": "code",
   "execution_count": null,
   "metadata": {},
   "outputs": [],
   "source": [
    "\n",
    "import matplotlib.pyplot as plt\n",
    "import os\n",
    "bm.plot_results_table(min_max_scale=False, show=False)\n",
    "fig = plt.gcf()\n",
    "fig.set_size_inches(25, 5) \n",
    "fig.savefig(os.path.join(save_dir, f'scibmetrics_results_{file_suffix}.pdf'), facecolor='white', dpi=300)\n",
    "plt.show()\n",
    "plt.close(fig)\n"
   ]
  },
  {
   "cell_type": "code",
   "execution_count": null,
   "metadata": {},
   "outputs": [],
   "source": [
    "output_key = \"Concord-ant_augmentation_mask_prob_0.5\"\n",
    "ccd.ul.run_umap(adata, source_key=output_key, umap_key=f'{output_key}_UMAP', n_components=2, n_epochs=500, n_neighbors=15, min_dist=0.1, metric='euclidean', random_state=seed, use_cuml=False)\n",
    "\n",
    "show_emb = f'{output_key}_UMAP'\n",
    "\n",
    "ccd.pl.plot_embedding(\n",
    "    adata, show_emb, show_cols, figsize=(10,8), dpi=600, ncols=2, font_size=8, point_size=2, legend_loc='on data',\n",
    "    save_path=save_dir / f\"embeddings_{show_emb}_{file_suffix}.png\"\n",
    ")\n"
   ]
  }
 ],
 "metadata": {
  "kernelspec": {
   "display_name": "concord",
   "language": "python",
   "name": "python3"
  },
  "language_info": {
   "codemirror_mode": {
    "name": "ipython",
    "version": 3
   },
   "file_extension": ".py",
   "mimetype": "text/x-python",
   "name": "python",
   "nbconvert_exporter": "python",
   "pygments_lexer": "ipython3",
   "version": "3.9.20"
  }
 },
 "nbformat": 4,
 "nbformat_minor": 4
}
