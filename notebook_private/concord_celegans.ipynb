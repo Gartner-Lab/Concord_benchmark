{
 "cells": [
  {
   "cell_type": "code",
   "execution_count": null,
   "metadata": {},
   "outputs": [],
   "source": [
    "%load_ext autoreload\n",
    "%autoreload 2"
   ]
  },
  {
   "cell_type": "markdown",
   "metadata": {},
   "source": [
    "## Basic setup"
   ]
  },
  {
   "cell_type": "code",
   "execution_count": null,
   "metadata": {},
   "outputs": [],
   "source": [
    "import Concord as ccd\n",
    "import scanpy as sc\n",
    "import torch\n",
    "import warnings\n",
    "from pathlib import Path\n",
    "warnings.filterwarnings('ignore')\n",
    "\n",
    "data_dir = Path('../data/celegans_data/')\n",
    "data_path = data_dir / \"celegans_global_adata.h5ad\"\n",
    "# adata = sc.read(\n",
    "#     data_path\n",
    "# )\n",
    "adata = sc.read(data_dir/'celegans_Dec17-2043.h5ad')"
   ]
  },
  {
   "cell_type": "code",
   "execution_count": null,
   "metadata": {},
   "outputs": [],
   "source": [
    "import time\n",
    "from pathlib import Path\n",
    "proj_name = \"concord_celegans\"\n",
    "save_dir = f\"../save/dev_{proj_name}-{time.strftime('%b%d')}/\"\n",
    "save_dir = Path(save_dir)\n",
    "save_dir.mkdir(parents=True, exist_ok=True)\n",
    "device = torch.device('cuda:3' if torch.cuda.is_available() else 'cpu')\n",
    "file_suffix = f\"{time.strftime('%b%d-%H%M')}\"\n",
    "seed = 0"
   ]
  },
  {
   "cell_type": "code",
   "execution_count": null,
   "metadata": {},
   "outputs": [],
   "source": [
    "adata.layers[\"counts\"] = adata.X.copy()\n",
    "sc.pp.normalize_total(adata)\n",
    "sc.pp.log1p(adata)\n",
    "adata = adata[adata.obs['to.filter'] == 'FALSE']"
   ]
  },
  {
   "cell_type": "markdown",
   "metadata": {},
   "source": [
    "## Run Concord"
   ]
  },
  {
   "cell_type": "code",
   "execution_count": null,
   "metadata": {},
   "outputs": [],
   "source": [
    "feature_list = ccd.ul.select_features(adata, n_top_features=10000, flavor='seurat_v3')\n",
    "file_suffix = f\"{time.strftime('%b%d-%H%M')}\"\n",
    "concord_args = {\n",
    "        'adata': adata,\n",
    "        'input_feature': feature_list,\n",
    "        'batch_size': 128,\n",
    "        'latent_dim': 300,\n",
    "        'encoder_dims':[1000],\n",
    "        'decoder_dims':[1000],\n",
    "        'augmentation_mask_prob': 0.3, \n",
    "        'clr_temperature': 0.5,\n",
    "        'p_intra_knn': 0.3,\n",
    "        'sampler_knn': 300,\n",
    "        'min_p_intra_domain': .95,\n",
    "        'n_epochs': 15,\n",
    "        'domain_key': 'batch',\n",
    "        'verbose': False,\n",
    "        'inplace': False,\n",
    "        'seed': seed,\n",
    "        'device': device,\n",
    "        'save_dir': save_dir\n",
    "    }"
   ]
  },
  {
   "cell_type": "markdown",
   "metadata": {},
   "source": [
    "### Concord, no decoder"
   ]
  },
  {
   "cell_type": "code",
   "execution_count": null,
   "metadata": {},
   "outputs": [],
   "source": [
    "output_key = f'Concord_{file_suffix}'\n",
    "cur_ccd = ccd.Concord(use_decoder=False, **concord_args)\n",
    "cur_ccd.encode_adata(input_layer_key='X_log1p', output_key=output_key)\n",
    "# Save the latent embedding to a filem, so that it can be loaded later\n",
    "ccd.ul.save_obsm_to_hdf5(cur_ccd.adata, save_dir / f\"obsm_{file_suffix}.h5\")\n",
    "adata.obsm = cur_ccd.adata.obsm # If not inplace"
   ]
  },
  {
   "cell_type": "code",
   "execution_count": null,
   "metadata": {},
   "outputs": [],
   "source": [
    "basis = output_key\n",
    "ccd.ul.run_umap(adata, source_key=basis, result_key=f'{basis}_UMAP', n_components=2, n_neighbors=30, min_dist=0.1, metric='euclidean', random_state=seed)\n",
    "show_basis = basis + '_UMAP'\n",
    "show_cols = ['cell.type', 'raw.embryo.time', \"lineage\"]\n",
    "pal = {'cell.type': 'tab20', 'raw.embryo.time': 'BlueGreenRed', \"lineage\": 'tab20'}\n",
    "ccd.pl.plot_embedding(\n",
    "    adata, show_basis, show_cols, figsize=(13,5), dpi=600, ncols=3, font_size=5, point_size=1, legend_loc=None,\n",
    "    pal = pal,\n",
    "    save_path=save_dir / f\"{show_basis}_{file_suffix}.png\"\n",
    ")"
   ]
  },
  {
   "cell_type": "code",
   "execution_count": null,
   "metadata": {},
   "outputs": [],
   "source": [
    "ccd.ul.run_umap(adata, source_key=basis, result_key=f'{basis}_UMAP_3D', n_components=3, n_neighbors=30, min_dist=0.1, metric='euclidean', random_state=seed)\n",
    "for col in show_cols:\n",
    "    show_basis = f'{basis}_UMAP_3D'\n",
    "    ccd.pl.plot_embedding_3d(\n",
    "            adata, basis=show_basis, color_by=col,\n",
    "            pal = pal[col],\n",
    "            save_path=save_dir / f'{show_basis}_{col}_{file_suffix}.html',\n",
    "            point_size=1, opacity=0.8, width=1500, height=1000\n",
    "        )"
   ]
  },
  {
   "cell_type": "markdown",
   "metadata": {},
   "source": [
    "### Concord, with decoder"
   ]
  },
  {
   "cell_type": "code",
   "execution_count": null,
   "metadata": {},
   "outputs": [],
   "source": [
    "output_key = f'Concord-decoder_{file_suffix}'\n",
    "cur_ccd = ccd.Concord(use_decoder=True, **concord_args)\n",
    "cur_ccd.encode_adata(input_layer_key='X_log1p', output_key=output_key)\n",
    "# Save the latent embedding to a filem, so that it can be loaded later\n",
    "ccd.ul.save_obsm_to_hdf5(cur_ccd.adata, save_dir / f\"obsm_{file_suffix}.h5\")\n",
    "adata.obsm = cur_ccd.adata.obsm # If not inplace"
   ]
  },
  {
   "cell_type": "code",
   "execution_count": null,
   "metadata": {},
   "outputs": [],
   "source": [
    "output_key = 'Concord-decoder_Dec15-1329'\n",
    "basis = output_key\n",
    "#ccd.ul.run_umap(adata, source_key=basis, result_key=f'{basis}_UMAP', n_components=2, n_neighbors=30, min_dist=0.1, metric='euclidean', random_state=seed)\n",
    "show_basis = basis + '_UMAP'\n",
    "show_cols = ['cell.type', 'raw.embryo.time', \"lineage\"]\n",
    "pal = {'cell.type': 'tab20', 'raw.embryo.time': 'BlueGreenRed', \"lineage\": 'tab20'}\n",
    "ccd.pl.plot_embedding(\n",
    "    adata, show_basis, show_cols, figsize=(13,5), dpi=600, ncols=3, font_size=5, point_size=1, legend_loc=None,\n",
    "    pal = pal,\n",
    "    save_path=save_dir / f\"{show_basis}_{file_suffix}.png\"\n",
    ")"
   ]
  },
  {
   "cell_type": "code",
   "execution_count": null,
   "metadata": {},
   "outputs": [],
   "source": [
    "ccd.ul.run_umap(adata, source_key=basis, result_key=f'{basis}_UMAP_3D', n_components=3, n_neighbors=30, min_dist=0.1, metric='euclidean', random_state=seed)\n",
    "for col in show_cols:\n",
    "    show_basis = f'{basis}_UMAP_3D'\n",
    "    ccd.pl.plot_embedding_3d(\n",
    "            adata, basis=show_basis, color_by=col,\n",
    "            pal = pal[col],\n",
    "            save_path=save_dir / f'{show_basis}_{col}_{file_suffix}.html',\n",
    "            point_size=1, opacity=0.8, width=1500, height=1000\n",
    "        )"
   ]
  },
  {
   "cell_type": "code",
   "execution_count": null,
   "metadata": {},
   "outputs": [],
   "source": [
    "adata = sc.read(data_dir / f\"celegans_{file_suffix}.h5ad\")"
   ]
  },
  {
   "cell_type": "code",
   "execution_count": null,
   "metadata": {},
   "outputs": [],
   "source": [
    "adata.obsm"
   ]
  },
  {
   "cell_type": "markdown",
   "metadata": {},
   "source": [
    "### PAGA analysis"
   ]
  },
  {
   "cell_type": "code",
   "execution_count": null,
   "metadata": {},
   "outputs": [],
   "source": [
    "## Run leiden clustering on the latent\n",
    "sc.pp.neighbors(adata, n_neighbors=10, use_rep='Concord_Dec16-1646')\n",
    "sc.tl.leiden(adata, resolution=5.0, key_added='leiden_Concord', random_state=seed)"
   ]
  },
  {
   "cell_type": "code",
   "execution_count": null,
   "metadata": {},
   "outputs": [],
   "source": [
    "## Run leiden clustering on the latent\n",
    "sc.pp.neighbors(adata, n_neighbors=30, use_rep='Concord_Dec16-1646')\n",
    "sc.tl.leiden(adata, resolution=0.2, key_added='leiden_Concord_broad', random_state=seed)"
   ]
  },
  {
   "cell_type": "code",
   "execution_count": null,
   "metadata": {},
   "outputs": [],
   "source": [
    "adata.obs['lineage_ctype'] = adata.obs['lineage'].copy().astype(str)\n",
    "adata.obs['lineage_ctype'][adata.obs['lineage'] == 'unannotated'] = adata.obs['plot.cell.type'][adata.obs['lineage'] == 'unannotated'].astype(str)"
   ]
  },
  {
   "cell_type": "code",
   "execution_count": null,
   "metadata": {},
   "outputs": [],
   "source": [
    "output_key = 'Concord_Dec16-1646'\n",
    "basis = output_key\n",
    "#ccd.ul.run_umap(adata, source_key=basis, result_key=f'{basis}_UMAP', n_components=2, n_neighbors=30, min_dist=0.1, metric='euclidean', random_state=seed)\n",
    "show_basis = basis + '_UMAP'\n",
    "show_cols = ['raw.embryo.time', 'leiden_Concord', 'lineage_ctype', 'cell.type', 'leiden_Concord_broad']\n",
    "pal = {'leiden_Concord': 'tab20', 'raw.embryo.time': 'BlueGreenRed', \"lineage_ctype\": 'tab20', 'cell.type': 'tab20', 'leiden_Concord_broad': 'tab20'}\n",
    "ccd.pl.plot_embedding(\n",
    "    adata, show_basis, show_cols, figsize=(13,8), dpi=600, ncols=3, font_size=5, point_size=1, legend_loc='on data',\n",
    "    pal = pal,\n",
    "    save_path=save_dir / f\"{show_basis}_{file_suffix}.png\"\n",
    ")"
   ]
  },
  {
   "cell_type": "code",
   "execution_count": null,
   "metadata": {},
   "outputs": [],
   "source": [
    "ccd.ul.ensure_categorical(adata, 'leiden_Concord')\n",
    "sc.tl.paga(adata, groups='leiden_Concord')"
   ]
  },
  {
   "cell_type": "code",
   "execution_count": null,
   "metadata": {},
   "outputs": [],
   "source": [
    "#data_col, cmap, palette = ccd.pl.get_color_mapping(adata, color_by, pal)\n",
    "color_by = 'leiden_Concord'\n",
    "threshold=0.5\n",
    "node_size_scale=0.3\n",
    "edge_width_scale = 0.05\n",
    "import matplotlib.pyplot as plt\n",
    "fig, ax = plt.subplots(figsize=(10, 10), dpi=300)\n",
    "sc.pl.paga(\n",
    "            adata, threshold=threshold, color=color_by, ax=ax, show=False,\n",
    "            layout='fa', fontsize=2, cmap=None, node_size_scale=node_size_scale,\n",
    "            edge_width_scale=edge_width_scale, colorbar=False\n",
    "        )\n",
    "plt.savefig(save_dir / f\"paga_{color_by}_{file_suffix}.png\")"
   ]
  },
  {
   "cell_type": "code",
   "execution_count": null,
   "metadata": {},
   "outputs": [],
   "source": [
    "ccd.ul.compute_meta_attributes(\n",
    "    adata,\n",
    "    groupby_key='leiden_Concord',\n",
    "    attribute_key='lineage_ctype',\n",
    "    method='majority_vote',\n",
    "    meta_label_name='meta_lineage'\n",
    ")\n",
    "ccd.ul.compute_meta_attributes(\n",
    "    adata,\n",
    "    groupby_key='leiden_Concord',\n",
    "    attribute_key='cell.type',\n",
    "    method='majority_vote',\n",
    "    meta_label_name='meta_celltype'\n",
    ")\n",
    "\n",
    "ccd.ul.compute_meta_attributes(\n",
    "    adata,\n",
    "    groupby_key='leiden_Concord',\n",
    "    attribute_key='raw.embryo.time',\n",
    "    method='average',\n",
    "    meta_label_name='meta_time'\n",
    ")\n",
    "# Convert meta_time to numeric\n",
    "adata.obs['meta_time'] = adata.obs['meta_time'].astype(float)\n",
    "\n",
    "adata.obs['broad_lineage'] = adata.obs['lineage'].copy().astype(str)\n",
    "# Take the first 5 characters of the lineage\n",
    "adata.obs['broad_lineage'] = adata.obs['broad_lineage'].str[:5]\n",
    "ccd.ul.compute_meta_attributes(\n",
    "    adata,\n",
    "    groupby_key='leiden_Concord',\n",
    "    attribute_key='broad_lineage',\n",
    "    method='majority_vote',\n",
    "    meta_label_name='meta_broad_lineage'\n",
    ")\n",
    "\n",
    "adata.obs['broad_lineage_ctype'] = adata.obs['broad_lineage'].copy().astype(str)\n",
    "adata.obs['broad_lineage_ctype'][adata.obs['broad_lineage'] == 'unann'] = adata.obs['cell.type'][adata.obs['broad_lineage'] == 'unann'].astype(str)\n",
    "ccd.ul.compute_meta_attributes(\n",
    "    adata,\n",
    "    groupby_key='leiden_Concord',\n",
    "    attribute_key='broad_lineage_ctype',\n",
    "    method='majority_vote',\n",
    "    meta_label_name='meta_broad_lineage_ctype'\n",
    ")"
   ]
  },
  {
   "cell_type": "code",
   "execution_count": null,
   "metadata": {},
   "outputs": [],
   "source": [
    "filtered_graph, pos = ccd.pl.compute_paga_layout(\n",
    "    adata,\n",
    "    groupby_key='leiden_Concord',\n",
    "    weight_threshold=0.8,\n",
    "    spring_k=0.05,\n",
    "    seed=1\n",
    ")"
   ]
  },
  {
   "cell_type": "code",
   "execution_count": null,
   "metadata": {},
   "outputs": [],
   "source": [
    "meta_key = 'meta_time'\n",
    "ccd.pl.plot_paga_custom(\n",
    "    adata,\n",
    "    meta_attribute_key=meta_key,\n",
    "    groupby_key='leiden_Concord',\n",
    "    filtered_graph=filtered_graph,\n",
    "    pos=pos,\n",
    "    with_labels=False,\n",
    "    pal={'meta_time': 'BlueGreenRed'},\n",
    "    figsize=(20,20),\n",
    "    save_path=save_dir / f\"paga_graph_{meta_key}_{file_suffix}.svg\"\n",
    ")"
   ]
  },
  {
   "cell_type": "code",
   "execution_count": null,
   "metadata": {},
   "outputs": [],
   "source": [
    "meta_key = 'meta_broad_lineage_ctype'\n",
    "ccd.pl.plot_paga_custom(\n",
    "    adata,\n",
    "    meta_attribute_key='meta_broad_lineage_ctype',\n",
    "    groupby_key='leiden_Concord',\n",
    "    filtered_graph=filtered_graph,\n",
    "    pos=pos,\n",
    "    with_labels=True,\n",
    "    pal={meta_key: 'tab20'},\n",
    "    figsize=(20,20),\n",
    "    save_path=save_dir / f\"paga_graph_{meta_key}_{file_suffix}.svg\"\n",
    ")"
   ]
  },
  {
   "cell_type": "code",
   "execution_count": null,
   "metadata": {},
   "outputs": [],
   "source": [
    "\n",
    "adata.write_h5ad(data_dir / f\"celegans_{file_suffix}.h5ad\")\n",
    "\n",
    "file_suffix"
   ]
  },
  {
   "cell_type": "markdown",
   "metadata": {},
   "source": [
    "### Subgroup analysis"
   ]
  },
  {
   "cell_type": "markdown",
   "metadata": {},
   "source": [
    "### Early 250 min"
   ]
  },
  {
   "cell_type": "code",
   "execution_count": null,
   "metadata": {},
   "outputs": [],
   "source": [
    "sub_name = 'early250_noE'\n",
    "adata_sub = adata[(adata.obs['raw.embryo.time'] <= 250) & (adata.obs['cell.type'].astype(str) != 'Intestine')]\n",
    "print(adata_sub.shape)\n",
    "## Run leiden clustering on the latent\n",
    "cluster_key = f'leiden_{sub_name}'\n",
    "sc.pp.neighbors(adata_sub, n_neighbors=10, use_rep='Concord_Dec16-1646')\n",
    "sc.tl.leiden(adata_sub, resolution=8.0, key_added=cluster_key, random_state=seed)"
   ]
  },
  {
   "cell_type": "code",
   "execution_count": null,
   "metadata": {},
   "outputs": [],
   "source": [
    "output_key = 'Concord_Dec16-1646'\n",
    "basis = output_key\n",
    "ccd.ul.run_umap(adata_sub, source_key=basis, result_key=f'{basis}_UMAP', n_components=2, n_neighbors=30, min_dist=0.1, metric='euclidean', random_state=seed)\n",
    "show_basis = basis + '_UMAP'\n",
    "show_cols = ['raw.embryo.time', cluster_key, 'lineage']\n",
    "pal = {cluster_key: 'tab20', 'raw.embryo.time': 'BlueGreenRed', \"lineage\": 'tab20'}\n",
    "ccd.pl.plot_embedding(\n",
    "    adata_sub, show_basis, show_cols, figsize=(13,5), dpi=600, ncols=3, font_size=5, point_size=10, legend_loc=None,\n",
    "    pal = pal,\n",
    "    save_path=save_dir / f\"{show_basis}_{file_suffix}.png\"\n",
    ")"
   ]
  },
  {
   "cell_type": "code",
   "execution_count": null,
   "metadata": {},
   "outputs": [],
   "source": [
    "ccd.ul.ensure_categorical(adata_sub, cluster_key)\n",
    "sc.tl.paga(adata_sub, groups=cluster_key)\n",
    "filtered_graph, pos = ccd.pl.compute_paga_layout(\n",
    "    adata_sub,\n",
    "    groupby_key=cluster_key,\n",
    "    weight_threshold=0.6,\n",
    "    spring_k=0.02,\n",
    "    seed=1\n",
    ")"
   ]
  },
  {
   "cell_type": "code",
   "execution_count": null,
   "metadata": {},
   "outputs": [],
   "source": [
    "meta_key = f'meta_lineage_{sub_name}'\n",
    "ccd.ul.compute_meta_attributes(\n",
    "    adata_sub,\n",
    "    groupby_key=cluster_key,\n",
    "    attribute_key='lineage',\n",
    "    method='majority_vote',\n",
    "    meta_label_name=meta_key\n",
    ")\n",
    "ccd.pl.plot_paga_custom(\n",
    "    adata_sub,\n",
    "    meta_attribute_key=meta_key,\n",
    "    groupby_key=cluster_key,\n",
    "    filtered_graph=filtered_graph,\n",
    "    pos=pos,\n",
    "    with_labels=True,\n",
    "    pal={meta_key: 'tab20'},\n",
    "    figsize=(20,20),\n",
    "    save_path=save_dir / f\"paga_graph_{meta_key}_{file_suffix}.svg\"\n",
    ")"
   ]
  },
  {
   "cell_type": "code",
   "execution_count": null,
   "metadata": {},
   "outputs": [],
   "source": [
    "meta_key = f'meta_broad_lineage_{sub_name}'\n",
    "adata_sub.obs['broad_lineage'] = adata_sub.obs['lineage'].copy().astype(str)\n",
    "# Take the first 5 characters of the lineage\n",
    "adata_sub.obs['broad_lineage'] = adata_sub.obs['broad_lineage'].str[:5]\n",
    "ccd.ul.compute_meta_attributes(\n",
    "    adata_sub,\n",
    "    groupby_key=cluster_key,\n",
    "    attribute_key='broad_lineage',\n",
    "    method='majority_vote',\n",
    "    meta_label_name=meta_key\n",
    ")\n",
    "ccd.pl.plot_paga_custom(\n",
    "    adata_sub,\n",
    "    meta_attribute_key=meta_key,\n",
    "    groupby_key=cluster_key,\n",
    "    filtered_graph=filtered_graph,\n",
    "    pos=pos,\n",
    "    with_labels=True,\n",
    "    pal={meta_key: 'tab20'},\n",
    "    figsize=(20,20),\n",
    "    save_path=save_dir / f\"paga_graph_{meta_key}_{file_suffix}.svg\"\n",
    ")"
   ]
  },
  {
   "cell_type": "markdown",
   "metadata": {},
   "source": [
    "### Muscle"
   ]
  },
  {
   "cell_type": "code",
   "execution_count": null,
   "metadata": {},
   "outputs": [],
   "source": [
    "sub_name = 'muscle'\n",
    "adata_sub = adata[(adata.obs['cell.type'].astype(str) == 'Body_wall_muscle')]\n",
    "print(adata_sub.shape)\n",
    "## Run leiden clustering on the latent\n",
    "cluster_key = f'leiden_{sub_name}'\n",
    "sc.pp.neighbors(adata_sub, n_neighbors=10, use_rep='Concord_Dec16-1646')\n",
    "sc.tl.leiden(adata_sub, resolution=8.0, key_added=cluster_key, random_state=seed)"
   ]
  },
  {
   "cell_type": "code",
   "execution_count": null,
   "metadata": {},
   "outputs": [],
   "source": [
    "rare_lineage = (adata_sub.obs['lineage'].value_counts()[adata_sub.obs['lineage'].value_counts() < 5]).index.astype(str)\n",
    "rare_lineage"
   ]
  },
  {
   "cell_type": "code",
   "execution_count": null,
   "metadata": {},
   "outputs": [],
   "source": [
    "output_key = 'Concord_Dec16-1646'\n",
    "basis = output_key\n",
    "ccd.ul.run_umap(adata_sub, source_key=basis, result_key=f'{basis}_UMAP', n_components=2, n_neighbors=30, min_dist=0.1, metric='euclidean', random_state=1)\n",
    "show_basis = basis + '_UMAP'\n",
    "show_cols = ['raw.embryo.time', cluster_key, 'cell.type', 'cell.subtype', 'lineage', 'lineage_ctype']\n",
    "pal = {cluster_key: 'tab20', 'raw.embryo.time': 'BlueGreenRed', \"cell.type\": 'tab20', 'cell.subtype':'tab20', 'lineage': 'tab20', 'lineage_ctype': 'tab20'}\n",
    "ccd.pl.plot_embedding(\n",
    "    adata_sub[~adata_sub.obs['lineage'].isin(rare_lineage)], show_basis, show_cols, figsize=(13,8), dpi=600, ncols=3, font_size=5, point_size=10, legend_loc='on data',\n",
    "    pal = pal,\n",
    "    save_path=save_dir / f\"{show_basis}_{file_suffix}.svg\"\n",
    ")"
   ]
  },
  {
   "cell_type": "code",
   "execution_count": null,
   "metadata": {},
   "outputs": [],
   "source": [
    "ccd.ul.ensure_categorical(adata_sub, cluster_key)\n",
    "sc.tl.paga(adata_sub, groups=cluster_key)\n",
    "filtered_graph, pos = ccd.pl.compute_paga_layout(\n",
    "    adata_sub,\n",
    "    groupby_key=cluster_key,\n",
    "    weight_threshold=0.6,\n",
    "    spring_k=0.02,\n",
    "    seed=1\n",
    ")"
   ]
  },
  {
   "cell_type": "code",
   "execution_count": null,
   "metadata": {},
   "outputs": [],
   "source": [
    "meta_key = f'meta_lineage_ctype_{sub_name}'\n",
    "ccd.ul.compute_meta_attributes(\n",
    "    adata_sub,\n",
    "    groupby_key=cluster_key,\n",
    "    attribute_key='lineage_ctype',\n",
    "    method='majority_vote',\n",
    "    meta_label_name=meta_key\n",
    ")\n",
    "ccd.pl.plot_paga_custom(\n",
    "    adata_sub,\n",
    "    meta_attribute_key=meta_key,\n",
    "    groupby_key=cluster_key,\n",
    "    filtered_graph=filtered_graph,\n",
    "    pos=pos,\n",
    "    with_labels=True,\n",
    "    pal={meta_key: 'tab20'},\n",
    "    figsize=(20,20),\n",
    "    save_path=save_dir / f\"paga_graph_{meta_key}_{file_suffix}.svg\"\n",
    ")"
   ]
  },
  {
   "cell_type": "code",
   "execution_count": null,
   "metadata": {},
   "outputs": [],
   "source": [
    "# Save adata_sub\n"
   ]
  },
  {
   "cell_type": "code",
   "execution_count": null,
   "metadata": {},
   "outputs": [],
   "source": [
    "\n",
    "import numpy as np\n",
    "import scanpy as sc\n",
    "import time\n",
    "from pathlib import Path\n",
    "import torch\n",
    "import Concord as ccd\n",
    "import warnings\n",
    "warnings.filterwarnings('ignore')\n",
    "\n",
    "print(\"Import successful\")\n",
    "\n",
    "proj_name = \"cbce_1217\"\n",
    "data_dir = Path('../../data/CE_CB/')\n",
    "save_dir = f\"../../save/dev_{proj_name}-{time.strftime('%b%d')}/\"\n",
    "save_dir = Path(save_dir)\n",
    "save_dir.mkdir(parents=True, exist_ok=True)\n",
    "device = torch.device('cuda:0' if torch.cuda.is_available() else 'cpu')\n",
    "print(f\"Using device: {device}\")\n",
    "seed = 0\n",
    "ccd.ul.set_seed(seed)\n",
    "\n",
    "file_suffix = f\"{time.strftime('%b%d-%H%M')}\"\n",
    "\n",
    "\n",
    "adata = sc.read(data_dir / \"adata_cbce_Dec17-1824.h5ad\")\n",
    "adata.obsm = ccd.ul.load_obsm_from_hdf5(Path('../../save/dev_cbce_1217-Dec18/') / f\"obsm_Dec18-1227.h5\")\n",
    "print(\"Data loading successful\")\n",
    "\n",
    "file_suffix = f\"{time.strftime('%b%d-%H%M')}\"\n",
    "\n",
    "ccd.set_verbose_mode(True)\n",
    "timer = ccd.ul.Timer()\n",
    "time_log = {}\n",
    "\n",
    "\n",
    "# Run methods\n",
    "feature_list = ccd.ul.select_features(adata, n_top_features=10000, flavor='seurat_v3')\n",
    "adata = adata[:,feature_list].copy()\n",
    "output_key = 'Liger'\n",
    "with timer:\n",
    "    ccd.ul.run_liger(adata, batch_key=\"dataset3\", count_layer=\"counts\", output_key=output_key, k=30, return_corrected=False)\n",
    "\n",
    "time_log[output_key] = timer.interval\n",
    "ccd.ul.save_obsm_to_hdf5(adata, save_dir / f\"obsm_{output_key}_{file_suffix}.h5\")\n",
    "    \n",
    "# Save time_log as well using pickle\n",
    "import pickle\n",
    "import pickle\n",
    "with open(save_dir / f\"time_log_{output_key}_{file_suffix}.pkl\", 'wb') as f:\n",
    "    pickle.dump(time_log, f)\n",
    "\n",
    "\n",
    "\n"
   ]
  }
 ],
 "metadata": {
  "kernelspec": {
   "display_name": "concord",
   "language": "python",
   "name": "python3"
  },
  "language_info": {
   "codemirror_mode": {
    "name": "ipython",
    "version": 3
   },
   "file_extension": ".py",
   "mimetype": "text/x-python",
   "name": "python",
   "nbconvert_exporter": "python",
   "pygments_lexer": "ipython3",
   "version": "3.12.2"
  }
 },
 "nbformat": 4,
 "nbformat_minor": 2
}
