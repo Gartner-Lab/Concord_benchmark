{
 "cells": [
  {
   "cell_type": "code",
   "execution_count": null,
   "metadata": {
    "collapsed": false,
    "jupyter": {
     "outputs_hidden": false
    }
   },
   "outputs": [],
   "source": [
    "%load_ext autoreload\n",
    "%autoreload 2"
   ]
  },
  {
   "cell_type": "code",
   "execution_count": null,
   "metadata": {
    "pycharm": {
     "is_executing": true
    }
   },
   "outputs": [],
   "source": [
    "import numpy as np\n",
    "import scanpy as sc\n",
    "import time\n",
    "from pathlib import Path\n",
    "import torch\n",
    "import Concord as ccd\n",
    "import warnings\n",
    "warnings.filterwarnings('ignore')\n",
    "%matplotlib inline\n",
    "import matplotlib as mpl\n",
    "\n",
    "from matplotlib import font_manager, rcParams\n",
    "custom_rc = {\n",
    "    'font.family': 'Arial',  # Set the desired font for this plot\n",
    "}\n",
    "\n",
    "mpl.rcParams['svg.fonttype'] = 'none'\n",
    "mpl.rcParams['pdf.fonttype'] = 42"
   ]
  },
  {
   "cell_type": "code",
   "execution_count": null,
   "metadata": {
    "collapsed": false,
    "jupyter": {
     "outputs_hidden": false
    }
   },
   "outputs": [],
   "source": [
    "proj_name = \"lung_atlas_benchmarking\"\n",
    "save_dir = f\"../save/dev_{proj_name}-{time.strftime('%b%d')}/\"\n",
    "save_dir = Path(save_dir)\n",
    "save_dir.mkdir(parents=True, exist_ok=True)\n",
    "device = torch.device('cuda:0' if torch.cuda.is_available() else 'cpu')\n",
    "seed = 0\n",
    "ccd.ul.set_seed(seed)\n",
    "file_suffix = f\"{proj_name}_{time.strftime('%b%d-%H%M')}\""
   ]
  },
  {
   "cell_type": "code",
   "execution_count": null,
   "metadata": {
    "collapsed": false,
    "jupyter": {
     "outputs_hidden": false
    }
   },
   "outputs": [],
   "source": [
    "data_dir = Path(\"../data/lung_atlas/\")\n",
    "adata = sc.read(\n",
    "    data_dir / \"Lung_atlas_public.h5ad\"\n",
    ")\n",
    "# adata = sc.read(data_dir / 'adata_lung_atlas_benchmarking_Oct10-1440.h5ad')\n",
    "# adata"
   ]
  },
  {
   "cell_type": "code",
   "execution_count": null,
   "metadata": {},
   "outputs": [],
   "source": [
    "adata.shape"
   ]
  },
  {
   "cell_type": "code",
   "execution_count": null,
   "metadata": {
    "collapsed": false,
    "jupyter": {
     "outputs_hidden": false
    }
   },
   "outputs": [],
   "source": [
    "sc.pp.highly_variable_genes(adata, n_top_genes=10000, flavor=\"cell_ranger\", batch_key=\"batch\")\n",
    "adata = adata[:, adata.var.highly_variable].copy()"
   ]
  },
  {
   "cell_type": "code",
   "execution_count": null,
   "metadata": {
    "collapsed": false,
    "jupyter": {
     "outputs_hidden": false
    }
   },
   "outputs": [],
   "source": [
    "adata.shape"
   ]
  },
  {
   "cell_type": "code",
   "execution_count": null,
   "metadata": {},
   "outputs": [],
   "source": [
    "file_suffix = f\"{time.strftime('%b%d-%H%M')}\"\n",
    "ccd.set_verbose_mode(True)\n",
    "state_key = 'cell_type'\n",
    "batch_key= 'batch'\n",
    "show_cols = [state_key, batch_key]\n",
    "timer = ccd.ul.Timer()\n",
    "time_log = {}"
   ]
  },
  {
   "cell_type": "markdown",
   "metadata": {},
   "source": [
    "### No correction"
   ]
  },
  {
   "cell_type": "code",
   "execution_count": null,
   "metadata": {
    "collapsed": false,
    "jupyter": {
     "outputs_hidden": false
    }
   },
   "outputs": [],
   "source": [
    "sc.tl.pca(adata, n_comps=30, use_highly_variable=True)\n",
    "adata.obsm[\"Unintegrated\"] = adata.obsm[\"X_pca\"]\n",
    "sc.pp.neighbors(adata, n_neighbors=30, n_pcs=30)\n",
    "sc.tl.umap(adata, min_dist=0.1)"
   ]
  },
  {
   "cell_type": "code",
   "execution_count": null,
   "metadata": {
    "collapsed": false,
    "jupyter": {
     "outputs_hidden": false
    }
   },
   "outputs": [],
   "source": [
    "show_basis = 'X_umap'\n",
    "show_cols = ['dataset', 'nGene', 'protocol', 'batch', 'donor', 'cell_type']\n",
    "ccd.pl.plot_embedding(\n",
    "    adata, show_basis, show_cols, figsize=(13,8), dpi=300, ncols=3, font_size=5, point_size=1, legend_loc='on data',\n",
    "    save_path=save_dir / f\"embeddings_{show_basis}_{file_suffix}.png\"\n",
    ")"
   ]
  },
  {
   "cell_type": "markdown",
   "metadata": {
    "collapsed": false,
    "jupyter": {
     "outputs_hidden": false
    }
   },
   "source": [
    "### Scanorama"
   ]
  },
  {
   "cell_type": "code",
   "execution_count": null,
   "metadata": {
    "collapsed": false,
    "jupyter": {
     "outputs_hidden": false
    }
   },
   "outputs": [],
   "source": [
    "output_key = 'Scanorama'\n",
    "\n",
    "with timer:\n",
    "    ccd.ul.run_scanorama(adata, batch_key=\"batch\", output_key=output_key, return_corrected=False)\n",
    "\n",
    "time_log[output_key] = timer.interval\n",
    "ccd.ul.save_obsm_to_hdf5(adata, save_dir / f\"obsm_{file_suffix}.h5\")"
   ]
  },
  {
   "cell_type": "code",
   "execution_count": null,
   "metadata": {
    "collapsed": false,
    "jupyter": {
     "outputs_hidden": false
    }
   },
   "outputs": [],
   "source": [
    "output_key = 'Scanorama'\n",
    "#ccd.ul.run_umap(adata, source_key=output_key, result_key=f'{output_key}_UMAP', n_components=2, n_neighbors=30, min_dist=0.1, metric='euclidean', random_state=seed)\n",
    "show_basis = f'{output_key}_UMAP'\n",
    "show_cols = ['dataset', 'nGene', 'protocol', 'batch', 'donor', 'cell_type']\n",
    "ccd.pl.plot_embedding(\n",
    "    adata, show_basis, show_cols, figsize=(13,8), dpi=300, ncols=3, font_size=5, point_size=1, legend_loc='on data',\n",
    "    save_path=save_dir / f\"embeddings_{show_basis}_{file_suffix}.png\"\n",
    ")"
   ]
  },
  {
   "cell_type": "markdown",
   "metadata": {
    "collapsed": false,
    "jupyter": {
     "outputs_hidden": false
    }
   },
   "source": [
    "### Liger"
   ]
  },
  {
   "cell_type": "code",
   "execution_count": null,
   "metadata": {
    "collapsed": false,
    "jupyter": {
     "outputs_hidden": false
    }
   },
   "outputs": [],
   "source": [
    "output_key = 'Liger'\n",
    "with timer:\n",
    "    ccd.ul.run_liger(adata, batch_key=\"batch\", count_layer=\"counts\", output_key=output_key, k=30, return_corrected=True)\n",
    "\n",
    "time_log[output_key] = timer.interval\n",
    "ccd.ul.save_obsm_to_hdf5(adata, save_dir / f\"obsm_{file_suffix}.h5\")"
   ]
  },
  {
   "cell_type": "code",
   "execution_count": null,
   "metadata": {},
   "outputs": [],
   "source": [
    "#ccd.ul.run_umap(adata, source_key=output_key, result_key=f'{output_key}_UMAP', n_components=2, n_neighbors=30, min_dist=0.1, metric='euclidean', random_state=seed)\n",
    "show_basis = f'{output_key}_UMAP'\n",
    "ccd.pl.plot_embedding(\n",
    "    adata, show_basis, show_cols, figsize=(13,8), dpi=300, ncols=3, font_size=5, point_size=1, legend_loc='on data',\n",
    "    save_path=save_dir / f\"embeddings_{show_basis}_{file_suffix}.png\"\n",
    ")"
   ]
  },
  {
   "cell_type": "code",
   "execution_count": null,
   "metadata": {},
   "outputs": [],
   "source": [
    "adata.obsm"
   ]
  },
  {
   "cell_type": "markdown",
   "metadata": {
    "collapsed": false,
    "jupyter": {
     "outputs_hidden": false
    }
   },
   "source": [
    "### Harmony"
   ]
  },
  {
   "cell_type": "code",
   "execution_count": null,
   "metadata": {
    "collapsed": false,
    "jupyter": {
     "outputs_hidden": false
    }
   },
   "outputs": [],
   "source": [
    "output_key = 'Harmony'\n",
    "with timer:\n",
    "    ccd.ul.run_harmony(adata, batch_key=\"batch\", input_key='X_pca', output_key=output_key)\n",
    "\n",
    "time_log[output_key] = timer.interval\n",
    "ccd.ul.save_obsm_to_hdf5(adata, save_dir / f\"obsm_{file_suffix}.h5\")"
   ]
  },
  {
   "cell_type": "code",
   "execution_count": null,
   "metadata": {
    "collapsed": false,
    "jupyter": {
     "outputs_hidden": false
    }
   },
   "outputs": [],
   "source": [
    "ccd.ul.run_umap(adata, source_key=output_key, result_key=f'{output_key}_UMAP', n_components=2, n_neighbors=30, min_dist=0.1, metric='euclidean', random_state=seed)\n",
    "show_basis = f'{output_key}_UMAP'\n",
    "ccd.pl.plot_embedding(\n",
    "    adata, show_basis, show_cols, figsize=(13,8), dpi=300, ncols=3, font_size=5, point_size=1, legend_loc='on data',\n",
    "    save_path=save_dir / f\"embeddings_{show_basis}_{file_suffix}.png\"\n",
    ")"
   ]
  },
  {
   "cell_type": "markdown",
   "metadata": {
    "collapsed": false,
    "jupyter": {
     "outputs_hidden": false
    }
   },
   "source": [
    "### scVI"
   ]
  },
  {
   "cell_type": "code",
   "execution_count": null,
   "metadata": {},
   "outputs": [],
   "source": [
    "output_key = 'scVI'\n",
    "import scvi\n",
    "scvi.settings.device = device\n",
    "with timer:\n",
    "    scvi_vae = ccd.ul.run_scvi(adata, batch_key=\"batch\", output_key=output_key, return_model=True, return_corrected=False, transform_batch=None)\n",
    "\n",
    "time_log[output_key] = timer.interval\n",
    "ccd.ul.save_obsm_to_hdf5(adata, save_dir / f\"obsm_{file_suffix}.h5\")"
   ]
  },
  {
   "cell_type": "code",
   "execution_count": null,
   "metadata": {
    "collapsed": false,
    "jupyter": {
     "outputs_hidden": false
    }
   },
   "outputs": [],
   "source": [
    "output_key = 'scVI'\n",
    "ccd.ul.run_umap(adata, source_key=output_key, result_key=f'{output_key}_UMAP', n_components=2, n_neighbors=30, min_dist=0.1, metric='euclidean', random_state=seed)\n",
    "show_basis = f'{output_key}_UMAP'\n",
    "ccd.pl.plot_embedding(\n",
    "    adata, show_basis, show_cols, figsize=(13,8), dpi=300, ncols=3, font_size=5, point_size=1, legend_loc='on data',\n",
    "    save_path=save_dir / f\"embeddings_{show_basis}_{file_suffix}.png\"\n",
    ")"
   ]
  },
  {
   "cell_type": "markdown",
   "metadata": {
    "collapsed": false,
    "jupyter": {
     "outputs_hidden": false
    }
   },
   "source": [
    "### scANVI"
   ]
  },
  {
   "cell_type": "code",
   "execution_count": null,
   "metadata": {
    "collapsed": false,
    "jupyter": {
     "outputs_hidden": false
    }
   },
   "outputs": [],
   "source": [
    "output_key = 'scANVI'\n",
    "with timer:\n",
    "    ccd.ul.run_scanvi(adata, batch_key=\"batch\", labels_key='cell_type', output_key=output_key, scvi_model=scvi_vae, return_corrected=True, transform_batch=None)\n",
    "\n",
    "time_log[output_key] = timer.interval\n",
    "ccd.ul.save_obsm_to_hdf5(adata, save_dir / f\"obsm_{file_suffix}.h5\")"
   ]
  },
  {
   "cell_type": "code",
   "execution_count": null,
   "metadata": {
    "collapsed": false,
    "jupyter": {
     "outputs_hidden": false
    }
   },
   "outputs": [],
   "source": [
    "output_key = 'scANVI'\n",
    "ccd.ul.run_umap(adata, source_key=output_key, result_key=f'{output_key}_UMAP', n_components=2, n_neighbors=30, min_dist=0.1, metric='euclidean', random_state=seed)\n",
    "show_basis = f'{output_key}_UMAP'\n",
    "ccd.pl.plot_embedding(\n",
    "    adata, show_basis, show_cols, figsize=(13,8), dpi=300, ncols=3, font_size=6, point_size=2, legend_loc='on data',\n",
    "    save_path=save_dir / f\"embeddings_{show_basis}_{file_suffix}.png\"\n",
    ")"
   ]
  },
  {
   "cell_type": "markdown",
   "metadata": {
    "collapsed": false,
    "jupyter": {
     "outputs_hidden": false
    }
   },
   "source": [
    "### Concord"
   ]
  },
  {
   "cell_type": "code",
   "execution_count": null,
   "metadata": {},
   "outputs": [],
   "source": [
    "min_p_intra_domain = .95\n",
    "n_epochs=10\n",
    "#min_p_intra_domain=1.0\n",
    "batch_key = 'batch'"
   ]
  },
  {
   "cell_type": "code",
   "execution_count": null,
   "metadata": {
    "collapsed": false,
    "jupyter": {
     "outputs_hidden": false
    }
   },
   "outputs": [],
   "source": [
    "cur_ccd = ccd.Concord(adata=adata, \n",
    "                      input_feature=None, \n",
    "                      batch_size=64,\n",
    "                      n_epochs=n_epochs,\n",
    "                      p_intra_knn=0.3,\n",
    "                      use_decoder=False,\n",
    "                      min_p_intra_domain=min_p_intra_domain,\n",
    "                      domain_key=batch_key, # key indicating batch\n",
    "                      seed=seed, # random seed\n",
    "                      verbose=False, # print training progress\n",
    "                      device=device, # device to run on\n",
    "                      save_dir=save_dir # directory to save model checkpoints\n",
    "                      ) \n",
    "\n",
    "# Encode data, saving the latent embedding in adata.obsm['Concord']\n",
    "output_key = 'Concord'\n",
    "with timer:\n",
    "    cur_ccd.encode_adata(input_layer_key='X_log1p', preprocess=True, output_key=output_key)\n",
    "\n",
    "time_log[output_key] = timer.interval\n",
    "# Save the latent embedding to a file, so that it can be loaded later\n",
    "ccd.ul.save_obsm_to_hdf5(cur_ccd.adata, save_dir / f\"obsm_{file_suffix}.h5\")"
   ]
  },
  {
   "cell_type": "code",
   "execution_count": null,
   "metadata": {
    "collapsed": false,
    "jupyter": {
     "outputs_hidden": false
    }
   },
   "outputs": [],
   "source": [
    "ccd.ul.run_umap(adata, source_key=output_key, result_key=f'{output_key}_UMAP', n_components=2, n_neighbors=30, min_dist=0.1, metric='euclidean', random_state=seed)\n",
    "output_key = 'Concord'\n",
    "show_basis = f'{output_key}_UMAP'\n",
    "show_cols = ['dataset', 'nGene', 'protocol', 'batch', 'donor', 'cell_type']\n",
    "ccd.pl.plot_embedding(\n",
    "    adata, show_basis, show_cols, figsize=(13,8), dpi=300, ncols=3, font_size=6, point_size=2, legend_loc='on data',\n",
    "    save_path=save_dir / f\"embeddings_{show_basis}_{file_suffix}.png\"\n",
    ")"
   ]
  },
  {
   "cell_type": "markdown",
   "metadata": {},
   "source": [
    "### Concord-decoder"
   ]
  },
  {
   "cell_type": "code",
   "execution_count": null,
   "metadata": {},
   "outputs": [],
   "source": [
    "decoder_ccd = ccd.Concord(adata=adata, \n",
    "                      input_feature=None, \n",
    "                      batch_size=64,\n",
    "                      n_epochs=n_epochs,\n",
    "                      p_intra_knn=0.3,\n",
    "                      domain_key=batch_key, # key indicating batch\n",
    "                      use_classifier=False, # use classifier\n",
    "                      use_decoder=True,\n",
    "                      min_p_intra_domain=min_p_intra_domain,\n",
    "                      domain_embedding_dim=8,\n",
    "                      seed=seed, # random seed\n",
    "                      verbose=False, # print training progress\n",
    "                      device=device, # device to run on\n",
    "                      save_dir=save_dir # directory to save model checkpoints\n",
    "                      ) \n",
    "\n",
    "output_key = 'Concord-decoder'\n",
    "with timer:\n",
    "    decoder_ccd.encode_adata(input_layer_key='X_log1p', preprocess=True, output_key=output_key)\n",
    "\n",
    "time_log[output_key] = timer.interval\n",
    "# Save the latent embedding to a file, so that it can be loaded later\n",
    "ccd.ul.save_obsm_to_hdf5(decoder_ccd.adata, save_dir / f\"obsm_{file_suffix}.h5\")"
   ]
  },
  {
   "cell_type": "code",
   "execution_count": null,
   "metadata": {},
   "outputs": [],
   "source": [
    "ccd.ul.run_umap(adata, source_key=output_key, result_key=f'{output_key}_UMAP', n_components=2, n_neighbors=30, min_dist=0.1, metric='euclidean', random_state=seed)\n",
    "show_basis = f'{output_key}_UMAP'\n",
    "show_cols = ['dataset', 'nGene', 'protocol', 'batch', 'donor', 'cell_type']\n",
    "ccd.pl.plot_embedding(\n",
    "    adata, show_basis, show_cols, figsize=(13,8), dpi=300, ncols=3, font_size=6, point_size=2, legend_loc='on data',\n",
    "    save_path=save_dir / f\"embeddings_{show_basis}_{file_suffix}.png\"\n",
    ")"
   ]
  },
  {
   "cell_type": "markdown",
   "metadata": {},
   "source": [
    "## Concord-class"
   ]
  },
  {
   "cell_type": "code",
   "execution_count": null,
   "metadata": {},
   "outputs": [],
   "source": [
    "cur_ccd = ccd.Concord(adata=adata, \n",
    "                      input_feature=None, \n",
    "                      n_epochs=n_epochs,\n",
    "                      domain_key=batch_key, # key indicating batch\n",
    "                      augmentation_mask_prob = 0.5, # augmentation mask probability, recommend between 0.1 and 0.7\n",
    "                      clr_temperature = 0.5, # temperature for NT-Xent loss\n",
    "                      seed=seed, # random seed\n",
    "                      p_intra_knn=0.3,\n",
    "                      verbose=False, # print training progress\n",
    "                      inplace=True, # whether to modify original adata, set to False if you want to keep all expressions\n",
    "                      device=device, # device to run on\n",
    "                      save_dir=save_dir, # directory to save model checkpoints\n",
    "                      use_classifier=True, # use classifier\n",
    "                      class_key = 'cell_type', # key indicating cell type\n",
    "                      train_frac=1.0 # fraction of data to use for training\n",
    "                      ) \n",
    "\n",
    "# Encode data, saving the latent embedding in adata.obsm['Concord']\n",
    "file_suffix = f\"{proj_name}_{time.strftime('%b%d-%H%M')}\"\n",
    "output_key = 'Concord-class'\n",
    "with timer:\n",
    "    cur_ccd.encode_adata(input_layer_key='X_log1p', output_key=output_key, preprocess=True)\n",
    "\n",
    "time_log[output_key] = timer.interval\n",
    "# Save the latent embedding to a file, so that it can be loaded later\n",
    "ccd.ul.save_obsm_to_hdf5(cur_ccd.adata, save_dir / f\"obsm_{file_suffix}.h5\")"
   ]
  },
  {
   "cell_type": "code",
   "execution_count": null,
   "metadata": {},
   "outputs": [],
   "source": [
    "ccd.ul.run_umap(adata, source_key=output_key, result_key=f'{output_key}_UMAP', n_components=2, n_neighbors=30, min_dist=0.1, metric='euclidean', random_state=seed)\n",
    "show_basis = f'{output_key}_UMAP'\n",
    "show_cols = ['dataset', 'nGene', 'protocol', 'batch', 'donor', 'cell_type']\n",
    "ccd.pl.plot_embedding(\n",
    "    adata, show_basis, show_cols, figsize=(13,8), dpi=300, ncols=3, font_size=6, point_size=2, legend_loc='on data',\n",
    "    save_path=save_dir / f\"embeddings_{show_basis}_{file_suffix}.png\"\n",
    ")"
   ]
  },
  {
   "cell_type": "code",
   "execution_count": null,
   "metadata": {},
   "outputs": [],
   "source": [
    "obsm_filename = save_dir / f\"obsm_{file_suffix}.h5\"\n",
    "ccd.ul.save_obsm_to_hdf5(adata, obsm_filename)\n",
    "adata.write_h5ad( data_dir / f\"adata_{file_suffix}.h5ad\")"
   ]
  },
  {
   "cell_type": "markdown",
   "metadata": {},
   "source": [
    "## Benchmarking"
   ]
  },
  {
   "cell_type": "code",
   "execution_count": null,
   "metadata": {},
   "outputs": [],
   "source": [
    "latent_keys = [\"Unintegrated\", \"Scanorama\", \"Liger\", \"Harmony\", \"scVI\", \"scANVI\", \"Concord\", 'Concord-decoder', \"Concord-class\"]"
   ]
  },
  {
   "cell_type": "code",
   "execution_count": null,
   "metadata": {
    "collapsed": false,
    "jupyter": {
     "outputs_hidden": false
    }
   },
   "outputs": [],
   "source": [
    "from scib_metrics.benchmark import Benchmarker\n",
    "bm = Benchmarker(\n",
    "    adata,\n",
    "    batch_key='batch',\n",
    "    label_key='cell_type',\n",
    "    embedding_obsm_keys=latent_keys,\n",
    "    n_jobs=6,\n",
    ")\n",
    "bm.benchmark()"
   ]
  },
  {
   "cell_type": "code",
   "execution_count": null,
   "metadata": {},
   "outputs": [],
   "source": [
    "import matplotlib.pyplot as plt\n",
    "import os\n",
    "bm.plot_results_table(min_max_scale=False, show=False)\n",
    "fig = plt.gcf()\n",
    "fig.set_size_inches(15, 6) \n",
    "fig.savefig(os.path.join(save_dir, f'scibmetrics_results_{file_suffix}.pdf'), facecolor='white', dpi=600)\n",
    "plt.show()\n",
    "plt.close(fig)"
   ]
  },
  {
   "cell_type": "code",
   "execution_count": null,
   "metadata": {},
   "outputs": [],
   "source": [
    "import pandas as pd\n",
    "scib_scores = bm.get_results(min_max_scale=False)\n",
    "# Convert row 'Metric Type' to multi-index column, first level is 'Metric Type', second level is existing column name\n",
    "metric_type = scib_scores.loc['Metric Type']\n",
    "scib_scores = scib_scores.drop('Metric Type')  # Drop the last row now that it's stored in metric_type\n",
    "scib_scores.columns = pd.MultiIndex.from_tuples([(metric_type[col], col) for col in scib_scores.columns])\n",
    "scib_scores = ccd.ul.benchmark_stats_to_score(scib_scores, min_max_scale=False, one_minus=False, aggregate_score=False, rank=True, rank_col=('Aggregate score', 'Total'), name_exact=False)\n",
    "\n",
    "ccd.pl.plot_benchmark_table(scib_scores, pal='PRGn', pal_agg='RdYlBu_r', cmap_method = 'minmax', save_path=save_dir / f\"scib_results_{file_suffix}.pdf\", figsize=(16, 6), dpi=300)"
   ]
  },
  {
   "cell_type": "code",
   "execution_count": null,
   "metadata": {},
   "outputs": [],
   "source": []
  }
 ],
 "metadata": {
  "kernelspec": {
   "display_name": "concord",
   "language": "python",
   "name": "python3"
  },
  "language_info": {
   "codemirror_mode": {
    "name": "ipython",
    "version": 3
   },
   "file_extension": ".py",
   "mimetype": "text/x-python",
   "name": "python",
   "nbconvert_exporter": "python",
   "pygments_lexer": "ipython3",
   "version": "3.9.20"
  }
 },
 "nbformat": 4,
 "nbformat_minor": 4
}
