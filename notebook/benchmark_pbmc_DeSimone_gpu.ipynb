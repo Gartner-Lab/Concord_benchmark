{
 "cells": [
  {
   "cell_type": "code",
   "execution_count": 1,
   "id": "6d578d26",
   "metadata": {},
   "outputs": [
    {
     "name": "stderr",
     "output_type": "stream",
     "text": [
      "/wynton/group/gartner/zuzhi/.conda/envs/scenv/lib/python3.13/site-packages/louvain/__init__.py:54: UserWarning: pkg_resources is deprecated as an API. See https://setuptools.pypa.io/en/latest/pkg_resources.html. The pkg_resources package is slated for removal as early as 2025-11-30. Refrain from using this package or pin to Setuptools<81.\n",
      "  from pkg_resources import get_distribution, DistributionNotFound\n"
     ]
    }
   ],
   "source": [
    "import os\n",
    "import numpy as np\n",
    "import scanpy as sc\n",
    "import time\n",
    "from pathlib import Path\n",
    "import torch\n",
    "import concord as ccd\n",
    "import warnings\n",
    "warnings.filterwarnings('ignore')\n",
    "%matplotlib inline\n",
    "import matplotlib as mpl\n",
    "\n",
    "from matplotlib import font_manager, rcParams\n",
    "custom_rc = {\n",
    "    'font.family': 'Arial',  # Set the desired font for this plot\n",
    "}\n",
    "\n",
    "mpl.rcParams['svg.fonttype'] = 'none'\n",
    "mpl.rcParams['pdf.fonttype'] = 42"
   ]
  },
  {
   "cell_type": "code",
   "execution_count": null,
   "id": "9816cfad",
   "metadata": {},
   "outputs": [
    {
     "name": "stdout",
     "output_type": "stream",
     "text": [
      "cuda:3\n"
     ]
    },
    {
     "data": {
      "text/plain": [
       "'Jun12-1635'"
      ]
     },
     "execution_count": 2,
     "metadata": {},
     "output_type": "execute_result"
    }
   ],
   "source": [
    "proj_name = \"pbmc_DeSimone\"\n",
    "save_dir = f\"../save/{proj_name}-{time.strftime('%b%d')}/\"\n",
    "save_dir = Path(save_dir)\n",
    "save_dir.mkdir(parents=True, exist_ok=True)\n",
    "\n",
    "data_dir = f\"../data/{proj_name}/\"\n",
    "data_dir = Path(data_dir)\n",
    "data_dir.mkdir(parents=True, exist_ok=True)\n",
    "device = torch.device('cuda:3' if torch.cuda.is_available() else 'cpu')\n",
    "print(device)\n",
    "seed = 0\n",
    "ccd.ul.set_seed(seed)\n",
    "\n",
    "file_suffix = f\"{time.strftime('%b%d-%H%M')}\"\n",
    "file_suffix"
   ]
  },
  {
   "cell_type": "code",
   "execution_count": 3,
   "id": "deaa1fea",
   "metadata": {},
   "outputs": [],
   "source": [
    "ANNDATA_OBJECT_DIR='../data/pbmc_Darmanis/'\n",
    "adata = sc.read_h5ad(ANNDATA_OBJECT_DIR + 'pbmc_Darmanis_subset_9K.h5ad')"
   ]
  },
  {
   "cell_type": "code",
   "execution_count": 4,
   "id": "51deede5",
   "metadata": {},
   "outputs": [],
   "source": [
    "batch_key = 'dataset'\n",
    "state_key = 'cell_type'"
   ]
  },
  {
   "cell_type": "code",
   "execution_count": 5,
   "id": "9483b355",
   "metadata": {},
   "outputs": [],
   "source": [
    "combined_keys = [\n",
    "        # \"unintegrated\",\n",
    "        # \"scanorama\", \"liger\", \"harmony\",\n",
    "        # \"scvi\", \"scanvi\",\n",
    "        \"concord\",\n",
    "        # \"concord_class\", \n",
    "        # \"concord_decoder\", \"contrastive\"\n",
    "    ]"
   ]
  },
  {
   "cell_type": "code",
   "execution_count": 7,
   "id": "ff32fda5",
   "metadata": {},
   "outputs": [
    {
     "name": "stdout",
     "output_type": "stream",
     "text": [
      "Concord - WARNING - save_dir is None. Model and log files will not be saved.\n",
      "Concord - WARNING - No input feature list provided. It is recommended to first select features using the command `concord.ul.select_features()`.\n"
     ]
    },
    {
     "name": "stderr",
     "output_type": "stream",
     "text": [
      "FAISS not found. Using sklearn for k-NN computation.\n"
     ]
    },
    {
     "name": "stdout",
     "output_type": "stream",
     "text": [
      "p_intra_knn: 0.3\n"
     ]
    },
    {
     "name": "stderr",
     "output_type": "stream",
     "text": [
      "Epoch 0 Training: 119it [00:02, 45.21it/s, loss=3.88] \n",
      "Epoch 1 Training: 100%|██████████| 119/119 [00:01<00:00, 109.70it/s, loss=3.78]\n",
      "Epoch 2 Training: 100%|██████████| 119/119 [00:01<00:00, 109.42it/s, loss=3.85]\n",
      "Epoch 3 Training: 100%|██████████| 119/119 [00:01<00:00, 109.20it/s, loss=3.72]\n",
      "Epoch 4 Training: 100%|██████████| 119/119 [00:01<00:00, 108.72it/s, loss=3.68]\n",
      "Epoch 5 Training: 100%|██████████| 119/119 [00:01<00:00, 108.30it/s, loss=3.6] \n",
      "Epoch 6 Training: 100%|██████████| 119/119 [00:01<00:00, 108.67it/s, loss=3.75]\n",
      "Epoch 7 Training: 100%|██████████| 119/119 [00:01<00:00, 108.20it/s, loss=3.64]\n",
      "Epoch 8 Training: 100%|██████████| 119/119 [00:01<00:00, 99.86it/s, loss=3.62] \n",
      "Epoch 9 Training: 100%|██████████| 119/119 [00:01<00:00, 108.00it/s, loss=3.65]"
     ]
    },
    {
     "name": "stdout",
     "output_type": "stream",
     "text": [
      "Concord - WARNING - save_dir is None. Skipping model/config saving.\n"
     ]
    },
    {
     "name": "stderr",
     "output_type": "stream",
     "text": [
      "\n",
      "concord completed in 14.12 sec.\n",
      "✅ Selected methods completed.\n"
     ]
    }
   ],
   "source": [
    "time_log, ram_log, vram_log = ccd.ul.run_integration_methods_pipeline(\n",
    "    adata=adata,                          # Your input AnnData object\n",
    "    methods=combined_keys,            # List of methods to run\n",
    "    batch_key=batch_key,                    # Column in adata.obs for batch info\n",
    "    count_layer=\"counts\",                 # Layer name containing raw counts\n",
    "    class_key=state_key,               # Column in adata.obs for class labels (used in SCANVI and CONCORD variants)\n",
    "    latent_dim=30,                        # Latent dimensionality for PCA and embeddings\n",
    "    device=device,                        # Or \"cpu\", or \"mps\" for Apple Silicon\n",
    "    return_corrected=False,                   # Whether to store corrected expression matrices\n",
    "    transform_batch=None,                 # Optionally specify a batch to transform to in scVI\n",
    "    seed=42,                              # Random seed for reproducibility\n",
    "    compute_umap=False,                    # Run UMAP for all output embeddings\n",
    "    umap_n_components=2,\n",
    "    umap_n_neighbors=30,\n",
    "    umap_min_dist=0.5,\n",
    "    verbose=True,                        # Print progress messages\n",
    ")"
   ]
  },
  {
   "cell_type": "code",
   "execution_count": 8,
   "id": "ca39a8c1",
   "metadata": {},
   "outputs": [
    {
     "data": {
      "text/plain": [
       "AnnData object with n_obs × n_vars = 8500 × 2000\n",
       "    obs: 'kit', 'organism_ontology_term_id', 'tissue_ontology_term_id', 'tissue_type', 'assay_ontology_term_id', 'disease_ontology_term_id', 'cell_type_ontology_term_id', 'self_reported_ethnicity_ontology_term_id', 'development_stage_ontology_term_id', 'sex_ontology_term_id', 'donor_id', 'suspension_type', 'predicted_celltype', 'is_primary_data', 'cell_type', 'assay', 'disease', 'organism', 'sex', 'tissue', 'self_reported_ethnicity', 'development_stage', 'observation_joinid', 'dataset'\n",
       "    var: 'feature_is_filtered', 'feature_reference', 'feature_biotype', 'gene_name-10X_3-rep1_annotated', 'highly_deviant-10X_3-rep1_annotated', 'feature_name-10X_3-rep1_annotated', 'feature_length-10X_3-rep1_annotated', 'feature_type-10X_3-rep1_annotated', 'gene_name-10X_3-rep2_annotated', 'highly_deviant-10X_3-rep2_annotated', 'feature_name-10X_3-rep2_annotated', 'feature_length-10X_3-rep2_annotated', 'feature_type-10X_3-rep2_annotated', 'gene_name-10X_5-rep1_annotated', 'highly_deviant-10X_5-rep1_annotated', 'feature_name-10X_5-rep1_annotated', 'feature_length-10X_5-rep1_annotated', 'feature_type-10X_5-rep1_annotated', 'gene_name-10X_5-rep2_annotated', 'highly_deviant-10X_5-rep2_annotated', 'feature_name-10X_5-rep2_annotated', 'feature_length-10X_5-rep2_annotated', 'feature_type-10X_5-rep2_annotated', 'gene_name-10X_FRP-rep1_annotated', 'highly_deviant-10X_FRP-rep1_annotated', 'feature_name-10X_FRP-rep1_annotated', 'feature_length-10X_FRP-rep1_annotated', 'feature_type-10X_FRP-rep1_annotated', 'gene_name-10X_FRP-rep2_annotated', 'highly_deviant-10X_FRP-rep2_annotated', 'feature_name-10X_FRP-rep2_annotated', 'feature_length-10X_FRP-rep2_annotated', 'feature_type-10X_FRP-rep2_annotated', 'gene_name-BD-rep1_annotated', 'highly_deviant-BD-rep1_annotated', 'feature_name-BD-rep1_annotated', 'feature_length-BD-rep1_annotated', 'feature_type-BD-rep1_annotated', 'gene_name-BD-rep2_annotated', 'highly_deviant-BD-rep2_annotated', 'feature_name-BD-rep2_annotated', 'feature_length-BD-rep2_annotated', 'feature_type-BD-rep2_annotated', 'gene_name-Fluent-rep1_annotated', 'highly_deviant-Fluent-rep1_annotated', 'feature_name-Fluent-rep1_annotated', 'feature_length-Fluent-rep1_annotated', 'feature_type-Fluent-rep1_annotated', 'gene_name-Fluent-rep2_annotated', 'highly_deviant-Fluent-rep2_annotated', 'feature_name-Fluent-rep2_annotated', 'feature_length-Fluent-rep2_annotated', 'feature_type-Fluent-rep2_annotated', 'gene_name-Fluent-rep3_annotated', 'highly_deviant-Fluent-rep3_annotated', 'feature_name-Fluent-rep3_annotated', 'feature_length-Fluent-rep3_annotated', 'feature_type-Fluent-rep3_annotated', 'gene_name-Honeycomb-rep1_annotated', 'highly_deviant-Honeycomb-rep1_annotated', 'feature_name-Honeycomb-rep1_annotated', 'feature_length-Honeycomb-rep1_annotated', 'feature_type-Honeycomb-rep1_annotated', 'gene_name-Honeycomb-rep2_annotated', 'highly_deviant-Honeycomb-rep2_annotated', 'feature_name-Honeycomb-rep2_annotated', 'feature_length-Honeycomb-rep2_annotated', 'feature_type-Honeycomb-rep2_annotated', 'gene_name-Parse-rep1_annotated', 'highly_deviant-Parse-rep1_annotated', 'feature_name-Parse-rep1_annotated', 'feature_length-Parse-rep1_annotated', 'feature_type-Parse-rep1_annotated', 'gene_name-Scale-rep1_annotated', 'highly_deviant-Scale-rep1_annotated', 'feature_name-Scale-rep1_annotated', 'feature_length-Scale-rep1_annotated', 'feature_type-Scale-rep1_annotated', 'gene_name-Scipio-rep1_annotated', 'highly_deviant-Scipio-rep1_annotated', 'feature_name-Scipio-rep1_annotated', 'feature_length-Scipio-rep1_annotated', 'feature_type-Scipio-rep1_annotated', 'gene_name-Scipio-rep2_annotated', 'highly_deviant-Scipio-rep2_annotated', 'feature_name-Scipio-rep2_annotated', 'feature_length-Scipio-rep2_annotated', 'feature_type-Scipio-rep2_annotated', 'highly_variable', 'means', 'dispersions', 'dispersions_norm', 'highly_variable_nbatches', 'highly_variable_intersection'\n",
       "    uns: 'hvg', 'pca'\n",
       "    obsm: 'X_pca', 'X_umap', 'concord'\n",
       "    varm: 'PCs'\n",
       "    layers: 'counts'"
      ]
     },
     "execution_count": 8,
     "metadata": {},
     "output_type": "execute_result"
    }
   ],
   "source": [
    "adata"
   ]
  },
  {
   "cell_type": "code",
   "execution_count": null,
   "id": "fcce120f",
   "metadata": {},
   "outputs": [],
   "source": []
  }
 ],
 "metadata": {
  "kernelspec": {
   "display_name": "scenv",
   "language": "python",
   "name": "python3"
  },
  "language_info": {
   "codemirror_mode": {
    "name": "ipython",
    "version": 3
   },
   "file_extension": ".py",
   "mimetype": "text/x-python",
   "name": "python",
   "nbconvert_exporter": "python",
   "pygments_lexer": "ipython3",
   "version": "3.13.3"
  }
 },
 "nbformat": 4,
 "nbformat_minor": 5
}
