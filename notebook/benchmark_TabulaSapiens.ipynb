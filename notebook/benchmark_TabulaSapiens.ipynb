{
 "cells": [
  {
   "cell_type": "markdown",
   "id": "eea2e144",
   "metadata": {},
   "source": [
    "# Download cell atlas"
   ]
  },
  {
   "cell_type": "markdown",
   "id": "fdd4db11",
   "metadata": {},
   "source": [
    "https://datasets.cellxgene.cziscience.com/9daa676b-07ec-4cea-80aa-daa49200aa64.h5ad"
   ]
  },
  {
   "cell_type": "markdown",
   "id": "1c142857",
   "metadata": {},
   "source": [
    "# Benchmark"
   ]
  },
  {
   "cell_type": "code",
   "execution_count": 1,
   "id": "2fbf1ce5",
   "metadata": {},
   "outputs": [],
   "source": [
    "%load_ext autoreload\n",
    "%autoreload 2\n"
   ]
  },
  {
   "cell_type": "code",
   "execution_count": 4,
   "id": "946c1102",
   "metadata": {},
   "outputs": [],
   "source": [
    "import os\n",
    "import numpy as np\n",
    "import scanpy as sc\n",
    "import time\n",
    "from pathlib import Path\n",
    "import torch\n",
    "import concord as ccd\n",
    "import warnings\n",
    "warnings.filterwarnings('ignore')\n",
    "%matplotlib inline\n",
    "import matplotlib as mpl\n",
    "from scipy import sparse\n",
    "\n",
    "# from matplotlib import font_manager, rcParams\n",
    "# custom_rc = {\n",
    "#     'font.family': 'DejaVu Sans',\n",
    "# }\n",
    "\n",
    "# mpl.rcParams['svg.fonttype'] = 'none'\n",
    "# mpl.rcParams['pdf.fonttype'] = 42"
   ]
  },
  {
   "cell_type": "code",
   "execution_count": 5,
   "id": "83b7d9f5",
   "metadata": {},
   "outputs": [],
   "source": [
    "proj_name = \"TabulaSapiens\"\n",
    "file_name = \"TabulaSapiens\"\n",
    "file_suffix = time.strftime('%b%d-%H%M')\n",
    "\n",
    "# save_dir = Path(f\"../save/{proj_name}-{file_suffix}\")\n",
    "# save_dir.mkdir(parents=True, exist_ok=True)\n",
    "\n",
    "data_dir = Path(f\"../data/{proj_name}\")\n",
    "data_dir.mkdir(parents=True, exist_ok=True)\n",
    "\n",
    "seed = 0\n",
    "ccd.ul.set_seed(seed)"
   ]
  },
  {
   "cell_type": "code",
   "execution_count": 6,
   "id": "6810713e",
   "metadata": {},
   "outputs": [
    {
     "ename": "",
     "evalue": "",
     "output_type": "error",
     "traceback": [
      "\u001b[1;31mThe Kernel crashed while executing code in the current cell or a previous cell. \n",
      "\u001b[1;31mPlease review the code in the cell(s) to identify a possible cause of the failure. \n",
      "\u001b[1;31mClick <a href='https://aka.ms/vscodeJupyterKernelCrash'>here</a> for more info. \n",
      "\u001b[1;31mView Jupyter <a href='command:jupyter.viewOutput'>log</a> for further details."
     ]
    }
   ],
   "source": [
    "# load the data\n",
    "adata = sc.read_h5ad(data_dir / f\"{file_name}.h5ad\", backed='r')"
   ]
  },
  {
   "cell_type": "code",
   "execution_count": 1,
   "id": "910a0c84",
   "metadata": {},
   "outputs": [
    {
     "ename": "",
     "evalue": "",
     "output_type": "error",
     "traceback": [
      "\u001b[1;31mThe Kernel crashed while executing code in the current cell or a previous cell. \n",
      "\u001b[1;31mPlease review the code in the cell(s) to identify a possible cause of the failure. \n",
      "\u001b[1;31mClick <a href='https://aka.ms/vscodeJupyterKernelCrash'>here</a> for more info. \n",
      "\u001b[1;31mView Jupyter <a href='command:jupyter.viewOutput'>log</a> for further details."
     ]
    }
   ],
   "source": [
    "import anndata as ad\n",
    "\n",
    "adata = ad.read_h5ad(\"../data/TabulaSapiens/TabulaSapiens.h5ad\", backed='r')\n",
    "\n",
    "print(adata.shape)\n",
    "print(\"obs keys:\", list(adata.obs.keys())[:5])\n",
    "print(\"var keys:\", list(adata.var.keys())[:5])"
   ]
  },
  {
   "cell_type": "code",
   "execution_count": null,
   "id": "f4f2646f",
   "metadata": {},
   "outputs": [],
   "source": []
  }
 ],
 "metadata": {
  "kernelspec": {
   "display_name": "concord_env",
   "language": "python",
   "name": "python3"
  },
  "language_info": {
   "codemirror_mode": {
    "name": "ipython",
    "version": 3
   },
   "file_extension": ".py",
   "mimetype": "text/x-python",
   "name": "python",
   "nbconvert_exporter": "python",
   "pygments_lexer": "ipython3",
   "version": "3.12.2"
  }
 },
 "nbformat": 4,
 "nbformat_minor": 5
}
