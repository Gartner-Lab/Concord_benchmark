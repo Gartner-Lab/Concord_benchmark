{
 "cells": [
  {
   "cell_type": "code",
   "execution_count": 1,
   "id": "a2af417d",
   "metadata": {},
   "outputs": [],
   "source": [
    "%load_ext autoreload\n",
    "%autoreload 2"
   ]
  },
  {
   "cell_type": "code",
   "execution_count": 2,
   "id": "1fcc82f0",
   "metadata": {},
   "outputs": [
    {
     "name": "stderr",
     "output_type": "stream",
     "text": [
      "/opt/anaconda3/envs/concord/lib/python3.10/site-packages/anndata/utils.py:429: FutureWarning: Importing read_csv from `anndata` is deprecated. Import anndata.io.read_csv instead.\n",
      "  warnings.warn(msg, FutureWarning)\n",
      "/opt/anaconda3/envs/concord/lib/python3.10/site-packages/anndata/utils.py:429: FutureWarning: Importing read_excel from `anndata` is deprecated. Import anndata.io.read_excel instead.\n",
      "  warnings.warn(msg, FutureWarning)\n",
      "/opt/anaconda3/envs/concord/lib/python3.10/site-packages/anndata/utils.py:429: FutureWarning: Importing read_hdf from `anndata` is deprecated. Import anndata.io.read_hdf instead.\n",
      "  warnings.warn(msg, FutureWarning)\n",
      "/opt/anaconda3/envs/concord/lib/python3.10/site-packages/anndata/utils.py:429: FutureWarning: Importing read_loom from `anndata` is deprecated. Import anndata.io.read_loom instead.\n",
      "  warnings.warn(msg, FutureWarning)\n",
      "/opt/anaconda3/envs/concord/lib/python3.10/site-packages/anndata/utils.py:429: FutureWarning: Importing read_mtx from `anndata` is deprecated. Import anndata.io.read_mtx instead.\n",
      "  warnings.warn(msg, FutureWarning)\n",
      "/opt/anaconda3/envs/concord/lib/python3.10/site-packages/anndata/utils.py:429: FutureWarning: Importing read_text from `anndata` is deprecated. Import anndata.io.read_text instead.\n",
      "  warnings.warn(msg, FutureWarning)\n",
      "/opt/anaconda3/envs/concord/lib/python3.10/site-packages/anndata/utils.py:429: FutureWarning: Importing read_umi_tools from `anndata` is deprecated. Import anndata.io.read_umi_tools instead.\n",
      "  warnings.warn(msg, FutureWarning)\n",
      "/opt/anaconda3/envs/concord/lib/python3.10/site-packages/louvain/__init__.py:54: UserWarning: pkg_resources is deprecated as an API. See https://setuptools.pypa.io/en/latest/pkg_resources.html. The pkg_resources package is slated for removal as early as 2025-11-30. Refrain from using this package or pin to Setuptools<81.\n",
      "  from pkg_resources import get_distribution, DistributionNotFound\n",
      "/opt/anaconda3/envs/concord/lib/python3.10/site-packages/pkg_resources/__init__.py:2211: UserWarning: /Volumes/Shared/Concord/src/._concord_sc.egg-info could not be properly decoded in UTF-8\n",
      "  warnings.warn(msg)\n"
     ]
    }
   ],
   "source": [
    "import os\n",
    "import numpy as np\n",
    "import pandas as pd\n",
    "import seaborn as sns\n",
    "import matplotlib.pyplot as plt\n",
    "import scanpy as sc\n",
    "import time\n",
    "from pathlib import Path\n",
    "import torch\n",
    "import concord as ccd\n",
    "import warnings\n",
    "warnings.filterwarnings('ignore')\n",
    "%matplotlib inline\n",
    "import matplotlib as mpl\n",
    "from scipy import sparse\n",
    "\n",
    "from matplotlib import font_manager, rcParams\n",
    "custom_rc = {\n",
    "    'font.family': 'Arial',\n",
    "}\n",
    "\n",
    "mpl.rcParams['svg.fonttype'] = 'none'\n",
    "mpl.rcParams['pdf.fonttype'] = 42"
   ]
  },
  {
   "cell_type": "code",
   "execution_count": 3,
   "id": "a2e28d77",
   "metadata": {},
   "outputs": [],
   "source": [
    "proj_name = \"ranking_integration_methods\"\n",
    "\n",
    "file_suffix = time.strftime('%b%d-%H%M')\n",
    "\n",
    "save_dir = Path(f\"../save/{proj_name}-{file_suffix}\")\n",
    "save_dir.mkdir(parents=True, exist_ok=True)"
   ]
  },
  {
   "cell_type": "markdown",
   "id": "46d5e53e",
   "metadata": {},
   "source": [
    "# load the pickle files"
   ]
  },
  {
   "cell_type": "code",
   "execution_count": 4,
   "id": "cb91bdda",
   "metadata": {},
   "outputs": [],
   "source": [
    "import pickle as pkl"
   ]
  },
  {
   "cell_type": "code",
   "execution_count": 5,
   "id": "3cfd3de0",
   "metadata": {},
   "outputs": [],
   "source": [
    "# cross_tissue_Eraslan\n",
    "file_path = (\n",
    "    Path(\"/Volumes/Shared/Concord_backup/save/results_concord-1.0.6_adjusted_metrics_Jul24\")\n",
    "    / \"benchmark_cell_type_summary_updated\"\n",
    "    / \"benchmark_cross_tissue_Eraslan_Jul24-1358.pkl\"\n",
    ")\n",
    "\n",
    "with open(file_path, \"rb\") as f:\n",
    "    bm_cross_tissue_Eraslan = pkl.load(f)\n"
   ]
  },
  {
   "cell_type": "code",
   "execution_count": 6,
   "id": "b52dab3f",
   "metadata": {},
   "outputs": [],
   "source": [
    "# HypoMap_Steuernagel\n",
    "file_path = (\n",
    "    Path(\"/Volumes/Shared/Concord_backup/save/results_concord-1.0.6_adjusted_metrics_Jul24\")\n",
    "    / \"benchmark_cell_type_summary_updated\"\n",
    "    / \"benchmark_HypoMap_Steuernagel_refined_Jul24-1358.pkl\"\n",
    ")\n",
    "with open(file_path, \"rb\") as f:\n",
    "    bm_HypoMap_Steuernagel = pkl.load(f)"
   ]
  },
  {
   "cell_type": "code",
   "execution_count": 7,
   "id": "db44d6a0",
   "metadata": {},
   "outputs": [],
   "source": [
    "# immune_DominguezConde\n",
    "file_path = (\n",
    "    Path(\"/Volumes/Shared/Concord_backup/save/results_concord-1.0.6_adjusted_metrics_Jul24\")\n",
    "    / \"benchmark_cell_type_summary_updated\"\n",
    "    / \"benchmark_immune_DominguezConde_Jul24-1358.pkl\"\n",
    ")\n",
    "with open(file_path, \"rb\") as f:\n",
    "    bm_immune_DominguezConde = pkl.load(f)"
   ]
  },
  {
   "cell_type": "code",
   "execution_count": 8,
   "id": "cdba516d",
   "metadata": {},
   "outputs": [],
   "source": [
    "# pancreatic_islet_Hrovatin\n",
    "file_path = (\n",
    "    Path(\"/Volumes/Shared/Concord_backup/save/results_concord-1.0.6_adjusted_metrics_Jul24\")\n",
    "    / \"benchmark_cell_type_summary_updated\"\n",
    "    / \"benchmark_pancreatic_islet_Hrovatin_Jul24-1358.pkl\"\n",
    ")\n",
    "with open(file_path, \"rb\") as f:\n",
    "    bm_pancreatic_islet_Hrovatin = pkl.load(f)"
   ]
  },
  {
   "cell_type": "code",
   "execution_count": 9,
   "id": "e4ebf0eb",
   "metadata": {},
   "outputs": [],
   "source": [
    "# TabulaSapiens\n",
    "file_path = (\n",
    "    Path(\"/Volumes/Shared/Concord_backup/save/results_concord-1.0.6_adjusted_metrics_Jul24\")\n",
    "    / \"benchmark_cell_type_summary_updated\"\n",
    "    / \"benchmark_TabulaSapiens_Jul24-1358.pkl\"\n",
    ")\n",
    "with open(file_path, \"rb\") as f:\n",
    "    bm_TabulaSapiens = pkl.load(f)"
   ]
  },
  {
   "cell_type": "markdown",
   "id": "9f693676",
   "metadata": {},
   "source": [
    "----"
   ]
  },
  {
   "cell_type": "markdown",
   "id": "14e5d582",
   "metadata": {},
   "source": [
    "# update the combined score"
   ]
  },
  {
   "cell_type": "code",
   "execution_count": 40,
   "id": "ad1e08e7",
   "metadata": {},
   "outputs": [],
   "source": [
    "import pandas as pd\n",
    "import pickle\n",
    "from pathlib import Path\n",
    "\n",
    "def update_combined_aggregate_scores(pickle_path: str | Path, output_path: str | Path = None):\n",
    "    \"\"\"\n",
    "    Load a nested benchmark dictionary from a pickle file, update the\n",
    "    'Aggregate score' fields in the 'combined' DataFrame, and save the result.\n",
    "\n",
    "    Parameters\n",
    "    ----------\n",
    "    pickle_path : str or Path\n",
    "        Path to the input pickle file.\n",
    "    output_path : str or Path, optional\n",
    "        Path to save the updated pickle. If not provided, appends '_updated' to the input filename.\n",
    "    \"\"\"\n",
    "    pickle_path = Path(pickle_path)\n",
    "    if output_path is None:\n",
    "        output_path = pickle_path.with_stem(pickle_path.stem + \"_updated\")\n",
    "    \n",
    "    # Load\n",
    "    with open(pickle_path, \"rb\") as f:\n",
    "        bm = pickle.load(f)\n",
    "\n",
    "    df = bm[\"combined\"]\n",
    "\n",
    "    # Recompute scores\n",
    "    df.loc[:, (\"Aggregate score\", \"Batch correction\")] = df[\"Batch correction\"].mean(axis=1)\n",
    "    df.loc[:, (\"Aggregate score\", \"Bio conservation\")] = df[\"Bio conservation\"].mean(axis=1)\n",
    "\n",
    "    # Average the two sub-aggregate scores directly\n",
    "    total_score = df.loc[:, (\"Aggregate score\", \"Batch correction\")].astype(float).add(\n",
    "        df.loc[:, (\"Aggregate score\", \"Bio conservation\")].astype(float)\n",
    "    ).div(2)\n",
    "\n",
    "    df.loc[:, (\"Aggregate score\", \"Total\")] = total_score\n",
    "\n",
    "    # Drop the old \"Aggregate score\", \"Average\" column\n",
    "    if (\"Aggregate score\", \"Average\") in df.columns:\n",
    "        df.drop(columns=[(\"Aggregate score\", \"Average\")], inplace=True) \n",
    "\n",
    "    # Save to new file\n",
    "    with open(output_path, \"wb\") as f:\n",
    "        pickle.dump(bm, f)\n",
    "\n",
    "    print(f\"Updated file saved to: {output_path}\")\n"
   ]
  },
  {
   "cell_type": "code",
   "execution_count": 51,
   "id": "c125f479",
   "metadata": {},
   "outputs": [],
   "source": [
    "file_path = (\n",
    "    Path(\"/Volumes/Shared/Concord_backup/save/results_concord-1.0.6_adjusted_metrics_Jul24\")\n",
    "    / \"benchmark_cell_type_summary_old\"\n",
    "    / \"benchmark_TabulaSapiens_n=300_Jul23-2142.pkl\"\n",
    ")\n",
    "\n",
    "output_path = (\n",
    "    Path(\"/Volumes/Shared/Concord_backup/save/results_concord-1.0.6_adjusted_metrics_Jul24\")\n",
    "    / \"benchmark_cell_type_summary_updated\"\n",
    "    / f\"benchmark_TabulaSapiens_n=300_{file_suffix}.pkl\"\n",
    ")"
   ]
  },
  {
   "cell_type": "code",
   "execution_count": 52,
   "id": "71727215",
   "metadata": {},
   "outputs": [
    {
     "name": "stdout",
     "output_type": "stream",
     "text": [
      "Updated file saved to: /Volumes/Shared/Concord_backup/save/results_concord-1.0.6_adjusted_metrics_Jul24/benchmark_cell_type_summary_updated/benchmark_TabulaSapiens_n=300_Jul24-1358.pkl\n"
     ]
    }
   ],
   "source": [
    "update_combined_aggregate_scores(file_path, output_path)"
   ]
  },
  {
   "cell_type": "markdown",
   "id": "24c8980a",
   "metadata": {},
   "source": [
    "----"
   ]
  },
  {
   "cell_type": "markdown",
   "id": "689d9a3e",
   "metadata": {},
   "source": [
    "# plot the ranking results of the integration methods"
   ]
  },
  {
   "cell_type": "code",
   "execution_count": 10,
   "id": "1e1b7545",
   "metadata": {},
   "outputs": [],
   "source": [
    "from benchmark_utils import plot_ranked_scores"
   ]
  },
  {
   "cell_type": "code",
   "execution_count": 11,
   "id": "f5cac1b3",
   "metadata": {},
   "outputs": [
    {
     "data": {
      "text/html": [
       "<div>\n",
       "<style scoped>\n",
       "    .dataframe tbody tr th:only-of-type {\n",
       "        vertical-align: middle;\n",
       "    }\n",
       "\n",
       "    .dataframe tbody tr th {\n",
       "        vertical-align: top;\n",
       "    }\n",
       "\n",
       "    .dataframe thead tr th {\n",
       "        text-align: left;\n",
       "    }\n",
       "</style>\n",
       "<table border=\"1\" class=\"dataframe\">\n",
       "  <thead>\n",
       "    <tr>\n",
       "      <th></th>\n",
       "      <th colspan=\"5\" halign=\"left\">Batch correction</th>\n",
       "      <th colspan=\"7\" halign=\"left\">Bio conservation</th>\n",
       "      <th colspan=\"3\" halign=\"left\">Aggregate score</th>\n",
       "    </tr>\n",
       "    <tr>\n",
       "      <th></th>\n",
       "      <th>Graph connectivity</th>\n",
       "      <th>iLISI</th>\n",
       "      <th>KBET</th>\n",
       "      <th>PCR comparison</th>\n",
       "      <th>Silhouette batch</th>\n",
       "      <th>cLISI</th>\n",
       "      <th>Isolated labels</th>\n",
       "      <th>KNN state accuracy</th>\n",
       "      <th>Leiden ARI</th>\n",
       "      <th>Leiden NMI</th>\n",
       "      <th>Linear state accuracy</th>\n",
       "      <th>Silhouette label</th>\n",
       "      <th>Batch correction</th>\n",
       "      <th>Bio conservation</th>\n",
       "      <th>Total</th>\n",
       "    </tr>\n",
       "  </thead>\n",
       "  <tbody>\n",
       "    <tr>\n",
       "      <th>scvi</th>\n",
       "      <td>0.877559</td>\n",
       "      <td>0.023635</td>\n",
       "      <td>0.388263</td>\n",
       "      <td>0.448019</td>\n",
       "      <td>0.914381</td>\n",
       "      <td>0.999777</td>\n",
       "      <td>0.632937</td>\n",
       "      <td>0.930824</td>\n",
       "      <td>0.716627</td>\n",
       "      <td>0.835843</td>\n",
       "      <td>0.918658</td>\n",
       "      <td>0.528235</td>\n",
       "      <td>0.530372</td>\n",
       "      <td>0.7947</td>\n",
       "      <td>0.662536</td>\n",
       "    </tr>\n",
       "    <tr>\n",
       "      <th>concord_knn</th>\n",
       "      <td>0.819248</td>\n",
       "      <td>0.031493</td>\n",
       "      <td>0.465666</td>\n",
       "      <td>0.708057</td>\n",
       "      <td>0.746029</td>\n",
       "      <td>0.999785</td>\n",
       "      <td>0.561614</td>\n",
       "      <td>0.901492</td>\n",
       "      <td>0.627627</td>\n",
       "      <td>0.76866</td>\n",
       "      <td>0.905105</td>\n",
       "      <td>0.495792</td>\n",
       "      <td>0.554099</td>\n",
       "      <td>0.751439</td>\n",
       "      <td>0.652769</td>\n",
       "    </tr>\n",
       "    <tr>\n",
       "      <th>concord_hcl</th>\n",
       "      <td>0.833946</td>\n",
       "      <td>0.031818</td>\n",
       "      <td>0.487603</td>\n",
       "      <td>0.553236</td>\n",
       "      <td>0.827863</td>\n",
       "      <td>0.99943</td>\n",
       "      <td>0.591711</td>\n",
       "      <td>0.888083</td>\n",
       "      <td>0.621618</td>\n",
       "      <td>0.75356</td>\n",
       "      <td>0.894378</td>\n",
       "      <td>0.502826</td>\n",
       "      <td>0.546893</td>\n",
       "      <td>0.750229</td>\n",
       "      <td>0.648561</td>\n",
       "    </tr>\n",
       "    <tr>\n",
       "      <th>scanorama</th>\n",
       "      <td>0.791832</td>\n",
       "      <td>0.01882</td>\n",
       "      <td>0.398996</td>\n",
       "      <td>0</td>\n",
       "      <td>0.906145</td>\n",
       "      <td>0.999935</td>\n",
       "      <td>0.620763</td>\n",
       "      <td>0.941264</td>\n",
       "      <td>0.574064</td>\n",
       "      <td>0.804237</td>\n",
       "      <td>0.935156</td>\n",
       "      <td>0.513693</td>\n",
       "      <td>0.423159</td>\n",
       "      <td>0.769873</td>\n",
       "      <td>0.596516</td>\n",
       "    </tr>\n",
       "    <tr>\n",
       "      <th>unintegrated</th>\n",
       "      <td>0.722673</td>\n",
       "      <td>0.015155</td>\n",
       "      <td>0.351505</td>\n",
       "      <td>0</td>\n",
       "      <td>0.946103</td>\n",
       "      <td>0.999897</td>\n",
       "      <td>0.570762</td>\n",
       "      <td>0.940067</td>\n",
       "      <td>0.605722</td>\n",
       "      <td>0.821357</td>\n",
       "      <td>0.942627</td>\n",
       "      <td>0.5167</td>\n",
       "      <td>0.407087</td>\n",
       "      <td>0.771019</td>\n",
       "      <td>0.589053</td>\n",
       "    </tr>\n",
       "    <tr>\n",
       "      <th>harmony</th>\n",
       "      <td>0.622444</td>\n",
       "      <td>0.051538</td>\n",
       "      <td>0.501787</td>\n",
       "      <td>0.686608</td>\n",
       "      <td>0.883754</td>\n",
       "      <td>0.991094</td>\n",
       "      <td>0.544888</td>\n",
       "      <td>0.728803</td>\n",
       "      <td>0.412395</td>\n",
       "      <td>0.59357</td>\n",
       "      <td>0.645946</td>\n",
       "      <td>0.481109</td>\n",
       "      <td>0.549226</td>\n",
       "      <td>0.628258</td>\n",
       "      <td>0.588742</td>\n",
       "    </tr>\n",
       "    <tr>\n",
       "      <th>contrastive</th>\n",
       "      <td>0.76016</td>\n",
       "      <td>0.020304</td>\n",
       "      <td>0.474118</td>\n",
       "      <td>0</td>\n",
       "      <td>0.691881</td>\n",
       "      <td>0.999977</td>\n",
       "      <td>0.579254</td>\n",
       "      <td>0.933865</td>\n",
       "      <td>0.411019</td>\n",
       "      <td>0.772556</td>\n",
       "      <td>0.932403</td>\n",
       "      <td>0.551992</td>\n",
       "      <td>0.389293</td>\n",
       "      <td>0.740152</td>\n",
       "      <td>0.564722</td>\n",
       "    </tr>\n",
       "  </tbody>\n",
       "</table>\n",
       "</div>"
      ],
      "text/plain": [
       "               Batch correction                                     \\\n",
       "             Graph connectivity     iLISI      KBET PCR comparison   \n",
       "scvi                   0.877559  0.023635  0.388263       0.448019   \n",
       "concord_knn            0.819248  0.031493  0.465666       0.708057   \n",
       "concord_hcl            0.833946  0.031818  0.487603       0.553236   \n",
       "scanorama              0.791832   0.01882  0.398996              0   \n",
       "unintegrated           0.722673  0.015155  0.351505              0   \n",
       "harmony                0.622444  0.051538  0.501787       0.686608   \n",
       "contrastive             0.76016  0.020304  0.474118              0   \n",
       "\n",
       "                              Bio conservation                  \\\n",
       "             Silhouette batch            cLISI Isolated labels   \n",
       "scvi                 0.914381         0.999777        0.632937   \n",
       "concord_knn          0.746029         0.999785        0.561614   \n",
       "concord_hcl          0.827863          0.99943        0.591711   \n",
       "scanorama            0.906145         0.999935        0.620763   \n",
       "unintegrated         0.946103         0.999897        0.570762   \n",
       "harmony              0.883754         0.991094        0.544888   \n",
       "contrastive          0.691881         0.999977        0.579254   \n",
       "\n",
       "                                                                             \\\n",
       "             KNN state accuracy Leiden ARI Leiden NMI Linear state accuracy   \n",
       "scvi                   0.930824   0.716627   0.835843              0.918658   \n",
       "concord_knn            0.901492   0.627627    0.76866              0.905105   \n",
       "concord_hcl            0.888083   0.621618    0.75356              0.894378   \n",
       "scanorama              0.941264   0.574064   0.804237              0.935156   \n",
       "unintegrated           0.940067   0.605722   0.821357              0.942627   \n",
       "harmony                0.728803   0.412395    0.59357              0.645946   \n",
       "contrastive            0.933865   0.411019   0.772556              0.932403   \n",
       "\n",
       "                               Aggregate score                             \n",
       "             Silhouette label Batch correction Bio conservation     Total  \n",
       "scvi                 0.528235         0.530372           0.7947  0.662536  \n",
       "concord_knn          0.495792         0.554099         0.751439  0.652769  \n",
       "concord_hcl          0.502826         0.546893         0.750229  0.648561  \n",
       "scanorama            0.513693         0.423159         0.769873  0.596516  \n",
       "unintegrated           0.5167         0.407087         0.771019  0.589053  \n",
       "harmony              0.481109         0.549226         0.628258  0.588742  \n",
       "contrastive          0.551992         0.389293         0.740152  0.564722  "
      ]
     },
     "execution_count": 11,
     "metadata": {},
     "output_type": "execute_result"
    }
   ],
   "source": [
    "bm_cross_tissue_Eraslan[\"combined\"]"
   ]
  },
  {
   "cell_type": "code",
   "execution_count": null,
   "id": "46a7ffca",
   "metadata": {},
   "outputs": [
    {
     "data": {
      "image/png": "[encoded data removed]",
      "text/plain": [
       "<Figure size 400x320 with 1 Axes>"
      ]
     },
     "metadata": {},
     "output_type": "display_data"
    }
   ],
   "source": [
    "score_dict = {\n",
    "    \"GTEX v9\": bm_cross_tissue_Eraslan[\"combined\"][\"Aggregate score\"][\"Total\"],\n",
    "    \"HypoMap\": bm_HypoMap_Steuernagel[\"combined\"][\"Aggregate score\"][\"Total\"],\n",
    "    \"Mouse Pancreatic Islet Atlas\": bm_pancreatic_islet_Hrovatin[\"combined\"][\"Aggregate score\"][\"Total\"],\n",
    "    \"Immune Cell Atlas\": bm_immune_DominguezConde[\"combined\"][\"Aggregate score\"][\"Total\"],\n",
    "    \"Tabula Sapiens\": bm_TabulaSapiens[\"combined\"][\"Aggregate score\"][\"Total\"]\n",
    "}\n",
    "\n",
    "method_order = [\n",
    "    \"unintegrated\", \"liger\", \"harmony\", \"scanorama\",\n",
    "    \"scvi\", \"contrastive\", \"concord_knn\", \"concord_hcl\"\n",
    "]\n",
    "\n",
    "title = \"Overall Rank\"\n",
    "\n",
    "plot_ranked_scores(score_dict,\n",
    "                   figsize = (len(method_order) * 0.5, len(score_dict) * 0.5 + 0.7),\n",
    "                   custom_rc=custom_rc,\n",
    "                   method_order=method_order,\n",
    "                   title=title,\n",
    "                   save_dir=save_dir,\n",
    "                   file_name=f\"ranked_scores_heatmap_{title}_{file_suffix}\",\n",
    "                    save_format=\"pdf\"\n",
    "                   )"
   ]
  },
  {
   "cell_type": "code",
   "execution_count": 16,
   "id": "8f719a92",
   "metadata": {},
   "outputs": [
    {
     "data": {
      "image/png": "[encoded data removed]",
      "text/plain": [
       "<Figure size 400x320 with 1 Axes>"
      ]
     },
     "metadata": {},
     "output_type": "display_data"
    }
   ],
   "source": [
    "score_dict = {\n",
    "    \"GTEX v9\": bm_cross_tissue_Eraslan[\"combined\"][\"Aggregate score\"][\"Batch correction\"],\n",
    "    \"HypoMap\": bm_HypoMap_Steuernagel[\"combined\"][\"Aggregate score\"][\"Batch correction\"],\n",
    "    \"Mouse Pancreatic Islet Atlas\": bm_pancreatic_islet_Hrovatin[\"combined\"][\"Aggregate score\"][\"Batch correction\"],\n",
    "    \"Immune Cell Atlas\": bm_immune_DominguezConde[\"combined\"][\"Aggregate score\"][\"Batch correction\"],\n",
    "    \"Tabula Sapiens\": bm_TabulaSapiens[\"combined\"][\"Aggregate score\"][\"Batch correction\"]\n",
    "}\n",
    "\n",
    "method_order = [\n",
    "    \"unintegrated\", \"liger\", \"harmony\", \"scanorama\",\n",
    "    \"scvi\", \"contrastive\", \"concord_knn\", \"concord_hcl\"\n",
    "]\n",
    "\n",
    "title = \"Batch Correction Rank\"\n",
    "\n",
    "plot_ranked_scores(score_dict,\n",
    "                   figsize = (len(method_order) * 0.5, len(score_dict) * 0.5 + 0.7),\n",
    "                   custom_rc=custom_rc,\n",
    "                   method_order=method_order,\n",
    "                   title=title,\n",
    "                   save_dir=save_dir,\n",
    "                   file_name=f\"ranked_scores_heatmap_{title}_{file_suffix}\",\n",
    "                    save_format=\"pdf\"\n",
    "                   )"
   ]
  },
  {
   "cell_type": "code",
   "execution_count": 17,
   "id": "317744b3",
   "metadata": {},
   "outputs": [
    {
     "data": {
      "image/png": "[encoded data removed]",
      "text/plain": [
       "<Figure size 400x320 with 1 Axes>"
      ]
     },
     "metadata": {},
     "output_type": "display_data"
    }
   ],
   "source": [
    "score_dict = {\n",
    "    \"GTEX v9\": bm_cross_tissue_Eraslan[\"combined\"][\"Aggregate score\"][\"Bio conservation\"],\n",
    "    \"HypoMap\": bm_HypoMap_Steuernagel[\"combined\"][\"Aggregate score\"][\"Bio conservation\"],\n",
    "    \"Mouse Pancreatic Islet Atlas\": bm_pancreatic_islet_Hrovatin[\"combined\"][\"Aggregate score\"][\"Bio conservation\"],\n",
    "    \"Immune Cell Atlas\": bm_immune_DominguezConde[\"combined\"][\"Aggregate score\"][\"Bio conservation\"],\n",
    "    \"Tabula Sapiens\": bm_TabulaSapiens[\"combined\"][\"Aggregate score\"][\"Bio conservation\"]\n",
    "}\n",
    "\n",
    "method_order = [\n",
    "    \"unintegrated\", \"liger\", \"harmony\", \"scanorama\",\n",
    "    \"scvi\", \"contrastive\", \"concord_knn\", \"concord_hcl\"\n",
    "]\n",
    "\n",
    "title = \"Bio Conservation Rank\"\n",
    "\n",
    "plot_ranked_scores(score_dict,\n",
    "                   figsize = (len(method_order) * 0.5, len(score_dict) * 0.5 + 0.7),\n",
    "                   custom_rc=custom_rc,\n",
    "                   method_order=method_order,\n",
    "                   title=title,\n",
    "                   save_dir=save_dir,\n",
    "                   file_name=f\"ranked_scores_heatmap_{title}_{file_suffix}\",\n",
    "                    save_format=\"svg\"\n",
    "                   )"
   ]
  },
  {
   "cell_type": "code",
   "execution_count": null,
   "id": "ddf3d123",
   "metadata": {},
   "outputs": [],
   "source": []
  }
 ],
 "metadata": {
  "kernelspec": {
   "display_name": "concord",
   "language": "python",
   "name": "python3"
  },
  "language_info": {
   "codemirror_mode": {
    "name": "ipython",
    "version": 3
   },
   "file_extension": ".py",
   "mimetype": "text/x-python",
   "name": "python",
   "nbconvert_exporter": "python",
   "pygments_lexer": "ipython3",
   "version": "3.10.18"
  }
 },
 "nbformat": 4,
 "nbformat_minor": 5
}
