{
 "cells": [
  {
   "cell_type": "code",
   "execution_count": 1,
   "metadata": {},
   "outputs": [],
   "source": [
    "%load_ext autoreload\n",
    "%autoreload 2"
   ]
  },
  {
   "cell_type": "markdown",
   "metadata": {},
   "source": [
    "## Basic setup"
   ]
  },
  {
   "cell_type": "code",
   "execution_count": 2,
   "metadata": {},
   "outputs": [],
   "source": [
    "import concord as ccd\n",
    "import scanpy as sc\n",
    "import torch\n",
    "import warnings\n",
    "from pathlib import Path\n",
    "warnings.filterwarnings('ignore')\n",
    "\n",
    "data_dir = Path('../data/CBCE')\n",
    "data_dir.mkdir(parents=True, exist_ok=True)\n",
    "import time\n",
    "from pathlib import Path\n",
    "proj_name = \"CBCE\"\n",
    "save_dir = f\"../save/dev_{proj_name}-{time.strftime('%b%d')}/\"\n",
    "save_dir = Path(save_dir)\n",
    "save_dir.mkdir(parents=True, exist_ok=True)\n",
    "proj_name = \"CBCE\"\n",
    "file_name = \"CBCE\"\n",
    "device = torch.device('cuda:3' if torch.cuda.is_available() else 'cpu')\n",
    "file_suffix = f\"{time.strftime('%b%d-%H%M')}\"\n",
    "seed = 0"
   ]
  },
  {
   "cell_type": "code",
   "execution_count": 3,
   "metadata": {},
   "outputs": [],
   "source": [
    "adata = sc.read_h5ad('../data/CE_CB/adata_cbce_Jan30-1028.h5ad')"
   ]
  },
  {
   "cell_type": "code",
   "execution_count": 4,
   "metadata": {},
   "outputs": [
    {
     "name": "stdout",
     "output_type": "stream",
     "text": [
      "WARNING: adata.X seems to be already log-transformed.\n",
      "Saved adata to ../data/CBCE/CBCE_Jul16-1955.h5ad\n"
     ]
    }
   ],
   "source": [
    "adata.obs['batch_fine'] = adata.obs['batch'].copy()\n",
    "adata.obs['batch_broad'] = adata.obs['dataset3'].astype(str).copy()\n",
    "adata.X = adata.layers[\"counts\"].copy()\n",
    "# Compute basic statistics\n",
    "sc.pp.calculate_qc_metrics(adata, inplace=True)\n",
    "sc.pp.normalize_total(adata)\n",
    "sc.pp.log1p(adata)\n",
    "\n",
    "adata.obs['batch'] = adata.obs['batch_broad'].copy()\n",
    "sc.pp.highly_variable_genes(adata, flavor='seurat_v3', n_top_genes=10000, subset=False)\n",
    "sc.tl.pca(adata, n_comps=300, svd_solver='arpack', use_highly_variable=True)\n",
    "\n",
    "adata.write_h5ad(data_dir / f\"{proj_name}_{file_suffix}.h5ad\") # Save the adata object with the encoded embeddings\n",
    "print(f\"Saved adata to {data_dir / f'{proj_name}_{file_suffix}.h5ad'}\")"
   ]
  },
  {
   "cell_type": "markdown",
   "metadata": {},
   "source": [
    "### Run pipeline"
   ]
  },
  {
   "cell_type": "code",
   "execution_count": null,
   "metadata": {},
   "outputs": [],
   "source": [
    "adata = sc.read_h5ad(\"../data/CBCE/CBCE_Jul16-1955.h5ad\")"
   ]
  },
  {
   "cell_type": "code",
   "execution_count": null,
   "metadata": {},
   "outputs": [
    {
     "name": "stdout",
     "output_type": "stream",
     "text": [
      "✅ Preprocessed data saved to ../data/CBCE/CBCE_preprocessed.h5ad\n"
     ]
    },
    {
     "ename": "",
     "evalue": "",
     "output_type": "error",
     "traceback": [
      "\u001b[1;31mThe Kernel crashed while executing code in the current cell or a previous cell. \n",
      "\u001b[1;31mPlease review the code in the cell(s) to identify a possible cause of the failure. \n",
      "\u001b[1;31mClick <a href='https://aka.ms/vscodeJupyterKernelCrash'>here</a> for more info. \n",
      "\u001b[1;31mView Jupyter <a href='command:jupyter.viewOutput'>log</a> for further details."
     ]
    }
   ],
   "source": [
    "adata = adata[:, adata.var.highly_variable].copy()\n",
    "adata.write_h5ad(data_dir / f\"{file_name}_preprocessed.h5ad\")\n",
    "print(f\"✅ Preprocessed data saved to {data_dir / f'{file_name}_preprocessed.h5ad'}\")"
   ]
  },
  {
   "cell_type": "code",
   "execution_count": null,
   "metadata": {},
   "outputs": [],
   "source": [
    "ccd.ul.anndata_to_viscello(adata,\n",
    "                        output_dir=data_dir / f\"viscello_{proj_name}\",\n",
    "                        project_name=proj_name,\n",
    "                        organism='cel')"
   ]
  },
  {
   "cell_type": "markdown",
   "metadata": {},
   "source": [
    "#### Create jobs"
   ]
  },
  {
   "cell_type": "code",
   "execution_count": 3,
   "metadata": {},
   "outputs": [],
   "source": [
    "adata = sc.read_h5ad(data_dir / f\"{proj_name}_preprocessed.h5ad\")"
   ]
  },
  {
   "cell_type": "code",
   "execution_count": 4,
   "metadata": {},
   "outputs": [],
   "source": [
    "# Check if nan in adata.obs['batch'], if so show the rows with nan\n",
    "if adata.obs['batch'].isna().any():\n",
    "    print(\"Rows with NaN in 'batch':\")\n",
    "    print(adata.obs[adata.obs['batch'].isna()])"
   ]
  },
  {
   "cell_type": "code",
   "execution_count": 9,
   "metadata": {},
   "outputs": [],
   "source": [
    "concord_args = {\n",
    "        'element_mask_prob': 0.4, # Probability of masking features, recommended to be between 0.2 and 0.5\n",
    "        'feature_mask_prob': 0.2, # Probability of masking features, recommended to be between 0.2 and 0.5\n",
    "        'clr_temperature': 0.4, # Temperature for contrastive loss, recommended to be between 0.1 and 0.5\n",
    "        'n_epochs': 15, # Number of epochs for training, adjust as needed\n",
    "        'save_dir': '../'+str(save_dir) # Directory to save the model and results\n",
    "    }"
   ]
  },
  {
   "cell_type": "code",
   "execution_count": 10,
   "metadata": {},
   "outputs": [
    {
     "name": "stdout",
     "output_type": "stream",
     "text": [
      "✅ Generated: benchmark_CBCE/benchmark_CBCE_scvi.py\n",
      "✅ Generated: benchmark_CBCE/benchmark_CBCE_scvi.sh\n",
      "\n",
      "✅ Generated: benchmark_CBCE/benchmark_CBCE_harmony.py\n",
      "✅ Generated: benchmark_CBCE/benchmark_CBCE_harmony.sh\n",
      "\n",
      "✅ Generated: benchmark_CBCE/benchmark_CBCE_scanorama.py\n",
      "✅ Generated: benchmark_CBCE/benchmark_CBCE_scanorama.sh\n",
      "\n",
      "✅ Generated: benchmark_CBCE/benchmark_CBCE_liger.py\n",
      "✅ Generated: benchmark_CBCE/benchmark_CBCE_liger.sh\n",
      "\n",
      "✅ Generated: benchmark_CBCE/benchmark_CBCE_unintegrated.py\n",
      "✅ Generated: benchmark_CBCE/benchmark_CBCE_unintegrated.sh\n",
      "\n",
      "✅ Generated: benchmark_CBCE/benchmark_CBCE_concord_hcl.py\n",
      "✅ Generated: benchmark_CBCE/benchmark_CBCE_concord_hcl.sh\n",
      "\n",
      "✅ Generated: benchmark_CBCE/benchmark_CBCE_concord_knn.py\n",
      "✅ Generated: benchmark_CBCE/benchmark_CBCE_concord_knn.sh\n",
      "\n",
      "✅ Generated: benchmark_CBCE/benchmark_CBCE_contrastive.py\n",
      "✅ Generated: benchmark_CBCE/benchmark_CBCE_contrastive.sh\n",
      "\n"
     ]
    },
    {
     "data": {
      "text/plain": [
       "CompletedProcess(args=['python', './generate_py_jobs.py', '--proj_name', 'CBCE', '--adata_filename', 'CBCE_preprocessed.h5ad', '--methods', 'scvi', 'harmony', 'scanorama', 'liger', 'unintegrated', 'concord_hcl', 'concord_knn', 'contrastive', '--batch_key', 'batch', '--state_key', 'None', '--latent_dim', '300', '--output_dir', '../jobs', '--device', 'auto', '--conda_env', 'cellpath', '--mem', '32G', '--runtime', '1:00:00', '--concord_kwargs', '{\"element_mask_prob\": 0.4, \"feature_mask_prob\": 0.2, \"clr_temperature\": 0.4, \"n_epochs\": 15, \"save_dir\": \"../../save/dev_CBCE-Jul16\"}', '--mode', 'wynton'], returncode=0)"
      ]
     },
     "execution_count": 10,
     "metadata": {},
     "output_type": "execute_result"
    }
   ],
   "source": [
    "import subprocess, json\n",
    "py_methods = [\"scvi\", \"harmony\", \"scanorama\", \"liger\", \"unintegrated\", \"concord_hcl\", \"concord_knn\", \"contrastive\"]\n",
    "output_dir = '../jobs'\n",
    "device = 'auto'\n",
    "conda_env = 'cellpath'\n",
    "#conda_env = 'concord'\n",
    "batch_key = 'batch'\n",
    "state_key = 'None'\n",
    "latent_dim = '300'  # Adjust as needed, but should match the encoder_dims in concord_args\n",
    "subprocess.run([\n",
    "    \"python\", \"./generate_py_jobs.py\",\n",
    "    \"--proj_name\", proj_name,\n",
    "    \"--adata_filename\", f\"{file_name}_preprocessed.h5ad\",\n",
    "    \"--methods\", *py_methods,\n",
    "    \"--batch_key\", batch_key,\n",
    "    \"--state_key\", state_key,\n",
    "    \"--latent_dim\", latent_dim,\n",
    "    \"--output_dir\", output_dir,\n",
    "    \"--device\", device,\n",
    "    \"--conda_env\", conda_env,\n",
    "    \"--mem\", \"32G\",  # Adjust memory as needed\n",
    "    \"--runtime\", \"1:00:00\",\n",
    "    \"--concord_kwargs\", json.dumps(concord_args),\n",
    "    \"--mode\", \"wynton\"\n",
    "])\n"
   ]
  },
  {
   "cell_type": "code",
   "execution_count": 11,
   "metadata": {},
   "outputs": [
    {
     "name": "stdout",
     "output_type": "stream",
     "text": [
      "📌  Run “../jobs/benchmark_CBCE/submit_all_CBCE.sh” to queue every job.\n"
     ]
    }
   ],
   "source": [
    "proj_folder = Path(output_dir) / f\"benchmark_{proj_name}\"   # ../jobs/benchmark_<proj>\n",
    "proj_folder.mkdir(exist_ok=True)                      # defensive\n",
    "\n",
    "submit_all = proj_folder / f\"submit_all_{proj_name}.sh\"\n",
    "with submit_all.open(\"w\") as f:\n",
    "    f.write(\"#!/bin/bash\\n\")\n",
    "    f.write(\"# Auto-generated — submits every job for this project\\n\")\n",
    "    f.write(\"# Run from this folder, or let the script cd into it.\\n\\n\")\n",
    "    f.write('cd \"$(dirname \"$0\")\"\\n\\n')          # ensures we’re in the right dir\n",
    "    for sh_file in sorted(proj_folder.glob(f\"benchmark_{proj_name}_*.sh\")):\n",
    "        f.write(f'qsub \"{sh_file.name}\"\\n')\n",
    "\n",
    "submit_all.chmod(0o755)\n",
    "print(f\"📌  Run “{submit_all}” to queue every job.\")"
   ]
  },
  {
   "cell_type": "code",
   "execution_count": 12,
   "metadata": {},
   "outputs": [
    {
     "name": "stdout",
     "output_type": "stream",
     "text": [
      "✅ Generated: benchmark_CBCE/benchmark_CBCE_seurat_cca.R\n",
      "✅ Generated: benchmark_CBCE/benchmark_CBCE_seurat_cca.sh\n",
      "\n",
      "✅ Generated: benchmark_CBCE/benchmark_CBCE_seurat_rpca.R\n",
      "✅ Generated: benchmark_CBCE/benchmark_CBCE_seurat_rpca.sh\n",
      "\n"
     ]
    },
    {
     "data": {
      "text/plain": [
       "CompletedProcess(args=['python', './generate_seurat_script.py', '--proj_name', 'CBCE', '--eset_dir', '../../data/CBCE/viscello_CBCE', '--methods', 'seurat_cca', 'seurat_rpca', '--batch_key', 'batch', '--state_key', 'None', '--latent_dim', '300', '--mem', '250G', '--runtime', '72:00:00', '--output_dir', '../jobs', '--device', 'auto', '--conda_env', 'cellpath'], returncode=0)"
      ]
     },
     "execution_count": 12,
     "metadata": {},
     "output_type": "execute_result"
    }
   ],
   "source": [
    "# Generate script for Seurat\n",
    "import subprocess\n",
    "r_methods = [\"seurat_cca\", \"seurat_rpca\"]\n",
    "output_dir = '../jobs'\n",
    "device = 'auto'\n",
    "conda_env = 'cellpath'\n",
    "batch_key = 'batch'\n",
    "state_key = 'None'\n",
    "latent_dim = '300' \n",
    "subprocess.run([\n",
    "    \"python\", \"./generate_seurat_script.py\",\n",
    "    \"--proj_name\", proj_name,\n",
    "    \"--eset_dir\", '../'+ str(data_dir / f\"viscello_{proj_name}\"),   # <- folder w/ eset.rds\n",
    "    \"--methods\", *r_methods,\n",
    "    \"--batch_key\", batch_key,\n",
    "    \"--state_key\", state_key,\n",
    "    \"--latent_dim\", latent_dim,\n",
    "    \"--mem\", \"250G\",  # Adjust memory as needed\n",
    "    \"--runtime\", \"72:00:00\",\n",
    "    \"--output_dir\", output_dir,\n",
    "    \"--device\", device,\n",
    "    \"--conda_env\", conda_env\n",
    "])"
   ]
  },
  {
   "cell_type": "code",
   "execution_count": 9,
   "metadata": {},
   "outputs": [
    {
     "name": "stdout",
     "output_type": "stream",
     "text": [
      "📌  Run “../jobs/benchmark_CBCEcombineN2/submit_sequential_CBCEcombineN2.sh” to queue jobs sequentially.\n"
     ]
    }
   ],
   "source": [
    "# ------------------------------------------------------------------\n",
    "# create submit_sequential_<proj>.sh  (runs each *.py job in order)\n",
    "# ------------------------------------------------------------------\n",
    "sequential_submit = proj_folder / f\"submit_sequential_{proj_name}.sh\"\n",
    "\n",
    "sequential_template = f\"\"\"#!/usr/bin/env bash\n",
    "set -euo pipefail\n",
    "cd \"$(dirname \"$0\")\"            # work inside this folder (../jobs)\n",
    "shopt -s nullglob\n",
    "\n",
    "for job in benchmark_{proj_name}_*.py; do\n",
    "  base=${{job%.py}}\n",
    "  log=\"${{base}}.log\"\n",
    "\n",
    "  # ───────────────────────────────────────────────────────────────\n",
    "  # skip if a previous run finished successfully\n",
    "  # ───────────────────────────────────────────────────────────────\n",
    "  if [[ -f \"$log\" ]] && grep -q \"finished OK\" \"$log\"; then\n",
    "      echo \">>> SKIP $job  — already completed\"\n",
    "      continue\n",
    "  fi\n",
    "\n",
    "  echo \">>> $job   $(date)\" | tee -a \"$log\"\n",
    "  if python \"$job\" >>\"$log\" 2>&1; then\n",
    "      echo \">>> finished OK\" | tee -a \"$log\"\n",
    "  else\n",
    "      echo \">>> FAILED\"      | tee -a \"$log\"\n",
    "  fi\n",
    "done\n",
    "\"\"\"\n",
    "\n",
    "sequential_submit.write_text(sequential_template)\n",
    "sequential_submit.chmod(0o755)\n",
    "print(f\"📌  Run “{sequential_submit}” to queue jobs sequentially.\")\n"
   ]
  },
  {
   "cell_type": "markdown",
   "metadata": {},
   "source": [
    "### Collect results"
   ]
  }
 ],
 "metadata": {
  "kernelspec": {
   "display_name": "cellpath",
   "language": "python",
   "name": "python3"
  },
  "language_info": {
   "codemirror_mode": {
    "name": "ipython",
    "version": 3
   },
   "file_extension": ".py",
   "mimetype": "text/x-python",
   "name": "python",
   "nbconvert_exporter": "python",
   "pygments_lexer": "ipython3",
   "version": "3.9.18"
  }
 },
 "nbformat": 4,
 "nbformat_minor": 2
}
