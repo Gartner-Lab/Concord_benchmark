{
 "cells": [
  {
   "cell_type": "markdown",
   "id": "4b8a254d",
   "metadata": {},
   "source": [
    "## PBMC atlas"
   ]
  },
  {
   "cell_type": "markdown",
   "id": "1a98b8fd",
   "metadata": {},
   "source": [
    "https://www.nature.com/articles/s41587-023-01881-x#data-availability"
   ]
  },
  {
   "cell_type": "code",
   "execution_count": 1,
   "id": "e07ba200",
   "metadata": {},
   "outputs": [],
   "source": [
    "%load_ext autoreload\n",
    "%autoreload 2"
   ]
  },
  {
   "cell_type": "code",
   "execution_count": 2,
   "id": "698800ee",
   "metadata": {},
   "outputs": [],
   "source": [
    "import concord as ccd\n",
    "import scanpy as sc\n",
    "import torch\n",
    "import warnings\n",
    "from pathlib import Path\n",
    "warnings.filterwarnings('ignore')\n",
    "import time\n",
    "from pathlib import Path\n",
    "device = torch.device('cuda:0' if torch.cuda.is_available() else 'cpu')\n",
    "seed = 0"
   ]
  },
  {
   "cell_type": "code",
   "execution_count": 3,
   "id": "97728fcc",
   "metadata": {},
   "outputs": [],
   "source": [
    "import time\n",
    "from pathlib import Path\n",
    "proj_name = \"pbmc_atac\"\n",
    "file_name = proj_name\n",
    "file_suffix = time.strftime('%b%d-%H%M')\n",
    "seed = 0\n",
    "\n",
    "save_dir = Path(f\"../save/{proj_name}\")\n",
    "save_dir.mkdir(parents=True, exist_ok=True)\n",
    "\n",
    "data_dir = Path(f\"../data/{proj_name}\")\n",
    "data_dir.mkdir(parents=True, exist_ok=True)\n"
   ]
  },
  {
   "cell_type": "code",
   "execution_count": 4,
   "id": "2ec919bb",
   "metadata": {},
   "outputs": [
    {
     "data": {
      "text/plain": [
       "(169227, 198421)"
      ]
     },
     "execution_count": 4,
     "metadata": {},
     "output_type": "execute_result"
    }
   ],
   "source": [
    "adata = sc.read_h5ad(data_dir / \"adata_fixedcells_consensus_processed_Jun07-1959.h5ad\")\n",
    "adata.shape"
   ]
  },
  {
   "cell_type": "code",
   "execution_count": 7,
   "id": "b834e4ca",
   "metadata": {},
   "outputs": [
    {
     "data": {
      "text/plain": [
       "PosixPath('../data/pbmc_atac')"
      ]
     },
     "execution_count": 7,
     "metadata": {},
     "output_type": "execute_result"
    }
   ],
   "source": [
    "data_dir"
   ]
  },
  {
   "cell_type": "code",
   "execution_count": 8,
   "id": "e9e07fea",
   "metadata": {},
   "outputs": [
    {
     "name": "stdout",
     "output_type": "stream",
     "text": [
      "Number of overlapping cells: 107176\n"
     ]
    }
   ],
   "source": [
    "# Load genotype txt file\n",
    "import pandas as pd\n",
    "genotype_res = pd.read_csv(data_dir / \"genotype_concordance_unified.fixedcells_2_cistopic.txt\", sep=\"\\t\")\n",
    "# extract the technology, remove anything after 'FIXEDCELLS'\n",
    "genotype_res['technology'] = genotype_res.index.str.replace(r'FIXEDCELLS.*', 'FIXEDCELLS', regex=True)\n",
    "genotype_res['cell_name'] = genotype_res['BARCODE'] + \"___\" + genotype_res['technology']\n",
    "# Check overlap between adata and genotype_res\n",
    "overlap = adata.obs_names.intersection(genotype_res['cell_name'])\n",
    "print(f\"Number of overlapping cells: {len(overlap)}\")"
   ]
  },
  {
   "cell_type": "code",
   "execution_count": 9,
   "id": "938e2f8f",
   "metadata": {},
   "outputs": [
    {
     "data": {
      "text/plain": [
       "called_sample\n",
       "sampleA    54256\n",
       "sampleB    52920\n",
       "Name: count, dtype: int64"
      ]
     },
     "execution_count": 9,
     "metadata": {},
     "output_type": "execute_result"
    }
   ],
   "source": [
    "# Assign called sample to adata.obs\n",
    "import numpy as np\n",
    "adata.obs['called_sample'] = np.nan\n",
    "adata.obs.loc[overlap, 'called_sample'] = genotype_res.set_index('cell_name').loc[overlap, 'sample'].values\n",
    "adata.obs['called_sample'].value_counts()"
   ]
  },
  {
   "cell_type": "code",
   "execution_count": 59,
   "id": "a149737b",
   "metadata": {},
   "outputs": [],
   "source": [
    "# FInd highly variable genes\n",
    "sc.pp.highly_variable_genes(adata, n_top_genes=10000, flavor='seurat_v3', subset=False)\n",
    "# PCA and UMAP\n",
    "n_latent = 50\n",
    "sc.pp.pca(adata, n_comps=n_latent, svd_solver='arpack', use_highly_variable=True)\n",
    "sc.pp.neighbors(adata, n_neighbors=15, n_pcs=n_latent)\n",
    "sc.tl.umap(adata, min_dist=0.1, n_components=2)"
   ]
  },
  {
   "cell_type": "code",
   "execution_count": 10,
   "id": "ea0aca7d",
   "metadata": {},
   "outputs": [
    {
     "name": "stdout",
     "output_type": "stream",
     "text": [
      "✅ Preprocessed data saved to ../data/pbmc_atac/pbmc_atac_preprocessed_HVG.h5ad\n"
     ]
    }
   ],
   "source": [
    "adata = adata[:, adata.var.highly_variable].copy()\n",
    "adata.write_h5ad(data_dir / f\"{file_name}_preprocessed_HVG.h5ad\")\n",
    "print(f\"✅ Preprocessed data saved to {data_dir / f'{file_name}_preprocessed_HVG.h5ad'}\")"
   ]
  },
  {
   "cell_type": "markdown",
   "id": "51da01ce",
   "metadata": {},
   "source": [
    "### Create jobs"
   ]
  },
  {
   "cell_type": "code",
   "execution_count": 22,
   "id": "ec938d18",
   "metadata": {},
   "outputs": [
    {
     "name": "stdout",
     "output_type": "stream",
     "text": [
      "✅ Generated: benchmark_pbmc_atac/benchmark_pbmc_atac_scvi.py\n",
      "✅ Generated: benchmark_pbmc_atac/benchmark_pbmc_atac_scvi.sh\n",
      "\n",
      "✅ Generated: benchmark_pbmc_atac/benchmark_pbmc_atac_harmony.py\n",
      "✅ Generated: benchmark_pbmc_atac/benchmark_pbmc_atac_harmony.sh\n",
      "\n",
      "✅ Generated: benchmark_pbmc_atac/benchmark_pbmc_atac_scanorama.py\n",
      "✅ Generated: benchmark_pbmc_atac/benchmark_pbmc_atac_scanorama.sh\n",
      "\n",
      "✅ Generated: benchmark_pbmc_atac/benchmark_pbmc_atac_liger.py\n",
      "✅ Generated: benchmark_pbmc_atac/benchmark_pbmc_atac_liger.sh\n",
      "\n",
      "✅ Generated: benchmark_pbmc_atac/benchmark_pbmc_atac_unintegrated.py\n",
      "✅ Generated: benchmark_pbmc_atac/benchmark_pbmc_atac_unintegrated.sh\n",
      "\n",
      "✅ Generated: benchmark_pbmc_atac/benchmark_pbmc_atac_concord_hcl.py\n",
      "✅ Generated: benchmark_pbmc_atac/benchmark_pbmc_atac_concord_hcl.sh\n",
      "\n",
      "✅ Generated: benchmark_pbmc_atac/benchmark_pbmc_atac_concord_knn.py\n",
      "✅ Generated: benchmark_pbmc_atac/benchmark_pbmc_atac_concord_knn.sh\n",
      "\n",
      "✅ Generated: benchmark_pbmc_atac/benchmark_pbmc_atac_contrastive.py\n",
      "✅ Generated: benchmark_pbmc_atac/benchmark_pbmc_atac_contrastive.sh\n",
      "\n"
     ]
    },
    {
     "data": {
      "text/plain": [
       "CompletedProcess(args=['python', './generate_py_jobs.py', '--proj_name', 'pbmc_atac', '--adata_filename', 'pbmc_atac_preprocessed_HVG.h5ad', '--methods', 'scvi', 'harmony', 'scanorama', 'liger', 'unintegrated', 'concord_hcl', 'concord_knn', 'contrastive', '--batch_key', 'dataset', '--state_key', 'None', '--latent_dim', '50', '--output_dir', '../jobs', '--device', 'auto', '--mem', '32G', '--conda_env', 'cellpath', '--runtime', '3:00:00', '--mode', 'wynton'], returncode=0)"
      ]
     },
     "execution_count": 22,
     "metadata": {},
     "output_type": "execute_result"
    }
   ],
   "source": [
    "import subprocess, json\n",
    "py_methods = [\"scvi\", \"harmony\", \"scanorama\", \"liger\", \"unintegrated\", \"concord_hcl\", \"concord_knn\", \"contrastive\"]\n",
    "output_dir = '../jobs'\n",
    "device = 'auto'\n",
    "conda_env = 'cellpath'\n",
    "batch_key = 'dataset'\n",
    "state_key = 'None'\n",
    "latent_dim = '50'  # Adjust as needed, but should match the encoder_dims in concord_args\n",
    "subprocess.run([\n",
    "    \"python\", \"./generate_py_jobs.py\",\n",
    "    \"--proj_name\", proj_name,\n",
    "    \"--adata_filename\", f\"{file_name}_preprocessed_HVG.h5ad\",\n",
    "    \"--methods\", *py_methods,\n",
    "    \"--batch_key\", batch_key,\n",
    "    \"--state_key\", state_key,\n",
    "    \"--latent_dim\", latent_dim,\n",
    "    \"--output_dir\", output_dir,\n",
    "    \"--device\", device,\n",
    "    \"--mem\", \"32G\",  # Adjust memory as needed\n",
    "    \"--conda_env\", conda_env,\n",
    "    \"--runtime\", \"3:00:00\",\n",
    "    \"--mode\", \"wynton\"\n",
    "])\n"
   ]
  },
  {
   "cell_type": "code",
   "execution_count": 18,
   "id": "891cd960",
   "metadata": {},
   "outputs": [
    {
     "name": "stdout",
     "output_type": "stream",
     "text": [
      "📌  Run “../jobs/benchmark_pbmc_atac/submit_all_pbmc_atac.sh” to queue every job.\n"
     ]
    }
   ],
   "source": [
    "proj_folder = Path(output_dir) / f\"benchmark_{proj_name}\"   # ../jobs/benchmark_<proj>\n",
    "proj_folder.mkdir(exist_ok=True)                      # defensive\n",
    "\n",
    "submit_all = proj_folder / f\"submit_all_{proj_name}.sh\"\n",
    "with submit_all.open(\"w\") as f:\n",
    "    f.write(\"#!/bin/bash\\n\")\n",
    "    f.write(\"# Auto-generated — submits every job for this project\\n\")\n",
    "    f.write(\"# Run from this folder, or let the script cd into it.\\n\\n\")\n",
    "    f.write('cd \"$(dirname \"$0\")\"\\n\\n')          # ensures we’re in the right dir\n",
    "    for sh_file in sorted(proj_folder.glob(f\"benchmark_{proj_name}_*.sh\")):\n",
    "        f.write(f'qsub \"{sh_file.name}\"\\n')\n",
    "\n",
    "submit_all.chmod(0o755)\n",
    "print(f\"📌  Run “{submit_all}” to queue every job.\")"
   ]
  },
  {
   "cell_type": "code",
   "execution_count": 13,
   "id": "7f3b8509",
   "metadata": {},
   "outputs": [
    {
     "name": "stdout",
     "output_type": "stream",
     "text": [
      "VisCello project created at ../data/pbmc_atac/viscello_pbmc_atac\n"
     ]
    }
   ],
   "source": [
    "ccd.ul.anndata_to_viscello(adata,\n",
    "                        output_dir=data_dir / f\"viscello_{proj_name}\",\n",
    "                        project_name=proj_name,\n",
    "                        organism='hsa')"
   ]
  },
  {
   "cell_type": "code",
   "execution_count": 17,
   "id": "4eba7f81",
   "metadata": {},
   "outputs": [
    {
     "name": "stdout",
     "output_type": "stream",
     "text": [
      "✅ Generated: benchmark_pbmc_atac/benchmark_pbmc_atac_seurat_cca.R\n",
      "✅ Generated: benchmark_pbmc_atac/benchmark_pbmc_atac_seurat_cca.sh\n",
      "\n",
      "✅ Generated: benchmark_pbmc_atac/benchmark_pbmc_atac_seurat_rpca.R\n",
      "✅ Generated: benchmark_pbmc_atac/benchmark_pbmc_atac_seurat_rpca.sh\n",
      "\n"
     ]
    },
    {
     "data": {
      "text/plain": [
       "CompletedProcess(args=['python', './generate_seurat_script.py', '--proj_name', 'pbmc_atac', '--eset_dir', '../../data/pbmc_atac/viscello_pbmc_atac', '--methods', 'seurat_cca', 'seurat_rpca', '--batch_key', 'dataset', '--state_key', 'None', '--latent_dim', '50', '--mem', '200G', '--runtime', '72:00:00', '--output_dir', '../jobs', '--device', 'auto', '--conda_env', 'cellpath'], returncode=0)"
      ]
     },
     "execution_count": 17,
     "metadata": {},
     "output_type": "execute_result"
    }
   ],
   "source": [
    "# Generate script for Seurat\n",
    "import subprocess\n",
    "r_methods = [\"seurat_cca\", \"seurat_rpca\"]\n",
    "output_dir = '../jobs'\n",
    "device = 'auto'\n",
    "subprocess.run([\n",
    "    \"python\", \"./generate_seurat_script.py\",\n",
    "    \"--proj_name\", proj_name,\n",
    "    \"--eset_dir\", '../'+ str(data_dir / f\"viscello_{proj_name}\"),   # <- folder w/ eset.rds\n",
    "    \"--methods\", *r_methods,\n",
    "    \"--batch_key\", batch_key,\n",
    "    \"--state_key\", state_key,\n",
    "    \"--latent_dim\", latent_dim,\n",
    "    \"--mem\", \"200G\",  # Adjust memory as needed\n",
    "    \"--runtime\", \"72:00:00\",\n",
    "    \"--output_dir\", output_dir,\n",
    "    \"--device\", device,\n",
    "    \"--conda_env\", conda_env\n",
    "])"
   ]
  },
  {
   "cell_type": "code",
   "execution_count": 18,
   "id": "fd72e3e0",
   "metadata": {},
   "outputs": [
    {
     "name": "stdout",
     "output_type": "stream",
     "text": [
      "📌  Run “../jobs/benchmark_pbmc_atac/submit_all_pbmc_atac.sh” to queue every job.\n"
     ]
    }
   ],
   "source": [
    "proj_folder = Path(output_dir) / f\"benchmark_{proj_name}\"   # ../jobs/benchmark_<proj>\n",
    "proj_folder.mkdir(exist_ok=True)                      # defensive\n",
    "\n",
    "submit_all = proj_folder / f\"submit_all_{proj_name}.sh\"\n",
    "with submit_all.open(\"w\") as f:\n",
    "    f.write(\"#!/bin/bash\\n\")\n",
    "    f.write(\"# Auto-generated — submits every job for this project\\n\")\n",
    "    f.write(\"# Run from this folder, or let the script cd into it.\\n\\n\")\n",
    "    f.write('cd \"$(dirname \"$0\")\"\\n\\n')          # ensures we’re in the right dir\n",
    "    for sh_file in sorted(proj_folder.glob(f\"benchmark_{proj_name}_*.sh\")):\n",
    "        f.write(f'qsub \"{sh_file.name}\"\\n')\n",
    "\n",
    "submit_all.chmod(0o755)\n",
    "print(f\"📌  Run “{submit_all}” to queue every job.\")"
   ]
  },
  {
   "cell_type": "code",
   "execution_count": 81,
   "id": "a2409856",
   "metadata": {},
   "outputs": [
    {
     "name": "stdout",
     "output_type": "stream",
     "text": [
      "Saved adata to ../data/human_pbmc_atac_benchmark/adata_fixedcells_consensus_processed_Jun11-1522.h5ad\n",
      "Concord - INFO - Normalized expression data (adata.layers['X_log1p']) not found. Renormalize and log transforming.\n",
      "WARNING: adata.X seems to be already log-transformed.\n",
      "VisCello project created at ../data/human_pbmc_atac_benchmark/cello_fixedcells_consensus_processed_pbmc_atac_dev_Jun11-1522\n",
      "Saved viscello to ../data/human_pbmc_atac_benchmark/cello_fixedcells_consensus_processed_pbmc_atac_dev_Jun11-1522\n"
     ]
    }
   ],
   "source": [
    "# save adata\n",
    "adata.write_h5ad(data_dir / f\"adata_fixedcells_consensus_processed_{file_suffix}.h5ad\")\n",
    "print(f\"Saved adata to {data_dir / f'adata_fixedcells_consensus_processed_{file_suffix}.h5ad'}\")\n",
    "ccd.ul.anndata_to_viscello(adata, data_dir / f\"cello_fixedcells_consensus_processed_{proj_name}_{file_suffix}\", project_name = proj_name, organism='hsa')\n",
    "print(f\"Saved viscello to {data_dir / f'cello_fixedcells_consensus_processed_{proj_name}_{file_suffix}'}\")\n"
   ]
  },
  {
   "cell_type": "markdown",
   "id": "0a34d80c",
   "metadata": {},
   "source": [
    "### Compute gene activity matrix"
   ]
  },
  {
   "cell_type": "code",
   "execution_count": 17,
   "id": "6182220c",
   "metadata": {},
   "outputs": [
    {
     "name": "stdout",
     "output_type": "stream",
     "text": [
      "Step 1: Parsing peaks...\n",
      "Step 2: Processing gene annotations...\n"
     ]
    }
   ],
   "source": [
    "import pandas as pd\n",
    "import numpy as np\n",
    "import pybedtools\n",
    "from anndata import AnnData\n",
    "from scipy.sparse import csr_matrix, find\n",
    "import re\n",
    "\n",
    "# Assume 'adata' is your input scATAC AnnData object (cells x peaks)\n",
    "# and adata.layers['counts'] contains the raw counts. If using adata.X, replace as needed.\n",
    "# adata: AnnData object with shape (n_cells, n_peaks)\n",
    "\n",
    "# Step 1: Create a BEDTool object from peak annotations\n",
    "print(\"Step 1: Parsing peaks...\")\n",
    "peak_df = adata.var_names.to_series().str.extract(r'(chr[\\w]+):(\\d+)-(\\d+)')\n",
    "peak_df.columns = ['chrom', 'start', 'end']\n",
    "peak_df['start'] = peak_df['start'].astype(int)\n",
    "peak_df['end'] = peak_df['end'].astype(int)\n",
    "peak_df['peak_id'] = adata.var_names\n",
    "peak_bed = pybedtools.BedTool.from_dataframe(peak_df)\n",
    "\n",
    "# Step 2: Load gene annotations and define gene activity regions\n",
    "print(\"Step 2: Processing gene annotations...\")\n",
    "gtf_path = \"../resources/refdata-gex-GRCh38-2024-A/genes/genes.gtf\"\n",
    "gtf = pd.read_csv(\n",
    "    gtf_path,\n",
    "    sep=\"\\t\",\n",
    "    comment=\"#\",\n",
    "    header=None,\n",
    "    names=[\"chrom\", \"source\", \"feature\", \"start\", \"end\", \"score\", \"strand\", \"frame\", \"attributes\"]\n",
    ")\n",
    "\n",
    "# Filter for gene features and parse attributes\n",
    "genes_df = gtf[gtf[\"feature\"] == \"gene\"].copy()\n",
    "\n",
    "def parse_attributes(attr_str):\n",
    "    attrs = dict(re.findall(r'(\\S+) \"(.*?)\"', attr_str))\n",
    "    # Use gene_name as the primary identifier, falling back to gene_id if name is absent\n",
    "    return attrs.get(\"gene_name\", attrs.get(\"gene_id\"))\n",
    "\n",
    "genes_df[\"gene_name\"] = genes_df[\"attributes\"].apply(parse_attributes)\n",
    "genes_df = genes_df.dropna(subset=[\"gene_name\"])\n",
    "\n",
    "# Define gene activity region (gene body + 2kb upstream of TSS)\n",
    "def make_gene_activity_region(row, upstream=2000):\n",
    "    # For '+' strand, TSS is at the start\n",
    "    if row[\"strand\"] == \"+\":\n",
    "        promoter_start = max(0, row[\"start\"] - upstream)\n",
    "        promoter_end = row[\"start\"]\n",
    "        # The region includes the promoter and the gene body\n",
    "        return pd.Series([row[\"chrom\"], promoter_start, row[\"end\"], row[\"gene_name\"]])\n",
    "    # For '-' strand, TSS is at the end\n",
    "    else:\n",
    "        promoter_start = row[\"end\"]\n",
    "        promoter_end = row[\"end\"] + upstream\n",
    "        # The region includes the gene body and the promoter\n",
    "        return pd.Series([row[\"chrom\"], row[\"start\"], promoter_end, row[\"gene_name\"]])\n",
    "\n",
    "gene_regions_df = genes_df.apply(make_gene_activity_region, axis=1)\n",
    "gene_regions_df.columns = [\"chrom\", \"start\", \"end\", \"gene_name\"]\n",
    "gene_regions_bed = pybedtools.BedTool.from_dataframe(gene_regions_df)\n",
    "\n"
   ]
  },
  {
   "cell_type": "code",
   "execution_count": 20,
   "id": "fd91924a",
   "metadata": {},
   "outputs": [
    {
     "name": "stdout",
     "output_type": "stream",
     "text": [
      "Step 3: Intersecting peaks and genes...\n"
     ]
    },
    {
     "name": "stderr",
     "output_type": "stream",
     "text": [
      "***** WARNING: File /var/folders/wl/5x49grmn56v77c01bw965mj00000gn/T/pybedtools.m15ua464.tmp has inconsistent naming convention for record:\n",
      "GL000009.2\t56140\t60376\tENSG00000278704\n",
      "\n",
      "***** WARNING: File /var/folders/wl/5x49grmn56v77c01bw965mj00000gn/T/pybedtools.m15ua464.tmp has inconsistent naming convention for record:\n",
      "GL000009.2\t56140\t60376\tENSG00000278704\n",
      "\n"
     ]
    },
    {
     "data": {
      "application/vnd.microsoft.datawrangler.viewer.v0+json": {
       "columns": [
        {
         "name": "index",
         "rawType": "int64",
         "type": "integer"
        },
        {
         "name": "peak_chrom",
         "rawType": "object",
         "type": "string"
        },
        {
         "name": "peak_start",
         "rawType": "int64",
         "type": "integer"
        },
        {
         "name": "peak_end",
         "rawType": "int64",
         "type": "integer"
        },
        {
         "name": "peak_id",
         "rawType": "object",
         "type": "string"
        },
        {
         "name": "gene_chrom",
         "rawType": "object",
         "type": "string"
        },
        {
         "name": "gene_start",
         "rawType": "int64",
         "type": "integer"
        },
        {
         "name": "gene_end",
         "rawType": "int64",
         "type": "integer"
        },
        {
         "name": "gene_name",
         "rawType": "object",
         "type": "string"
        }
       ],
       "ref": "4e957000-5ea5-41c1-943a-d305eb392de5",
       "rows": [
        [
         "0",
         "chr19",
         "44722219",
         "44722719",
         "chr19:44722219-44722719",
         "chr19",
         "44631573",
         "44727217",
         "CEACAM16-AS1"
        ],
        [
         "1",
         "chr9",
         "129865026",
         "129865526",
         "chr9:129865026-129865526",
         "chr9",
         "129832698",
         "129881828",
         "USP20"
        ],
        [
         "2",
         "chr11",
         "102317693",
         "102318193",
         "chr11:102317693-102318193",
         "chr11",
         "102316173",
         "102330586",
         "ENSG00000288528"
        ],
        [
         "3",
         "chr11",
         "102317693",
         "102318193",
         "chr11:102317693-102318193",
         "chr11",
         "102315484",
         "102339403",
         "BIRC3"
        ],
        [
         "4",
         "chr13",
         "113112853",
         "113113353",
         "chr13:113112853-113113353",
         "chr13",
         "113103788",
         "113120685",
         "F7"
        ],
        [
         "5",
         "chr12",
         "11762130",
         "11762630",
         "chr12:11762130-11762630",
         "chr12",
         "11647674",
         "11895377",
         "ETV6"
        ],
        [
         "6",
         "chr17",
         "40482271",
         "40482771",
         "chr17:40482271-40482771",
         "chr17",
         "40475828",
         "40503623",
         "TNS4"
        ],
        [
         "7",
         "chr15",
         "64046298",
         "64046798",
         "chr15:64046298-64046798",
         "chr15",
         "63907036",
         "64074033",
         "DAPK2"
        ],
        [
         "8",
         "chr3",
         "4841794",
         "4842294",
         "chr3:4841794-4842294",
         "chr3",
         "4491345",
         "4847506",
         "ITPR1"
        ],
        [
         "9",
         "chr3",
         "4841794",
         "4842294",
         "chr3:4841794-4842294",
         "chr3",
         "4793222",
         "4889293",
         "ENSG00000235978"
        ],
        [
         "10",
         "chr11",
         "61752016",
         "61752516",
         "chr11:61752016-61752516",
         "chr11",
         "61746493",
         "61759655",
         "MYRF-AS1"
        ],
        [
         "11",
         "chr11",
         "61752016",
         "61752516",
         "chr11:61752016-61752516",
         "chr11",
         "61750636",
         "61788518",
         "MYRF"
        ],
        [
         "12",
         "chr20",
         "38472461",
         "38472961",
         "chr20:38472461-38472961",
         "chr20",
         "38470816",
         "38578859",
         "RALGAPB"
        ],
        [
         "13",
         "chr13",
         "95301750",
         "95302250",
         "chr13:95301750-95302250",
         "chr13",
         "95019835",
         "95303475",
         "ABCC4"
        ],
        [
         "14",
         "chr5",
         "43555350",
         "43555850",
         "chr5:43555350-43555850",
         "chr5",
         "43526267",
         "43559758",
         "PAIP1"
        ],
        [
         "15",
         "chr1",
         "23810206",
         "23810706",
         "chr1:23810206-23810706",
         "chr1",
         "23801885",
         "23840620",
         "HMGCL"
        ],
        [
         "16",
         "chr20",
         "20331774",
         "20332274",
         "chr20:20331774-20332274",
         "chr20",
         "20050514",
         "20360703",
         "CFAP61"
        ],
        [
         "17",
         "chr3",
         "156674758",
         "156675258",
         "chr3:156674758-156675258",
         "chr3",
         "156671859",
         "156676446",
         "TIPARP-AS1"
        ],
        [
         "18",
         "chr3",
         "156674758",
         "156675258",
         "chr3:156674758-156675258",
         "chr3",
         "156671235",
         "156706770",
         "TIPARP"
        ],
        [
         "19",
         "chr1",
         "1472448",
         "1472948",
         "chr1:1472448-1472948",
         "chr1",
         "1469765",
         "1497848",
         "ATAD3B"
        ],
        [
         "20",
         "chr5",
         "132425464",
         "132425964",
         "chr5:132425464-132425964",
         "chr5",
         "132419416",
         "132428714",
         "LINC02863"
        ],
        [
         "21",
         "chr5",
         "132425464",
         "132425964",
         "chr5:132425464-132425964",
         "chr5",
         "132408636",
         "132488702",
         "IRF1-AS1"
        ],
        [
         "22",
         "chr4",
         "105405804",
         "105406304",
         "chr4:105405804-105406304",
         "chr4",
         "105369077",
         "105476067",
         "PPA2"
        ],
        [
         "23",
         "chr19",
         "2664133",
         "2664633",
         "chr19:2664133-2664633",
         "chr19",
         "2511219",
         "2704694",
         "GNG7"
        ],
        [
         "24",
         "chr20",
         "53736614",
         "53737114",
         "chr20:53736614-53737114",
         "chr20",
         "53736728",
         "53741797",
         "ENSG00000287886"
        ],
        [
         "25",
         "chr3",
         "49929615",
         "49930115",
         "chr3:49929615-49930115",
         "chr3",
         "49907160",
         "49932173",
         "MON1A"
        ],
        [
         "26",
         "chr16",
         "88591546",
         "88592046",
         "chr16:88591546-88592046",
         "chr16",
         "88568403",
         "88631964",
         "ZC3H18"
        ],
        [
         "27",
         "chr1",
         "221741349",
         "221741849",
         "chr1:221741349-221741849",
         "chr1",
         "221701424",
         "221744089",
         "DUSP10"
        ],
        [
         "28",
         "chr16",
         "31400719",
         "31401219",
         "chr16:31400719-31401219",
         "chr16",
         "31400565",
         "31404699",
         "ENSG00000260757"
        ],
        [
         "29",
         "chr16",
         "31400719",
         "31401219",
         "chr16:31400719-31401219",
         "chr16",
         "31391335",
         "31426505",
         "ITGAD"
        ],
        [
         "30",
         "chr20",
         "380041",
         "380541",
         "chr20:380041-380541",
         "chr20",
         "360835",
         "397559",
         "TRIB3"
        ],
        [
         "31",
         "chr22",
         "39916973",
         "39917473",
         "chr22:39916973-39917473",
         "chr22",
         "39899084",
         "39973721",
         "GRAP2"
        ],
        [
         "32",
         "chr6",
         "90273063",
         "90273563",
         "chr6:90273063-90273563",
         "chr6",
         "89926528",
         "90298843",
         "BACH2"
        ],
        [
         "33",
         "chr16",
         "15642400",
         "15642900",
         "chr16:15642400-15642900",
         "chr16",
         "15594387",
         "15645154",
         "MARF1"
        ],
        [
         "34",
         "chr16",
         "15642400",
         "15642900",
         "chr16:15642400-15642900",
         "chr16",
         "15641267",
         "15734691",
         "NDE1"
        ],
        [
         "35",
         "chr6",
         "30684598",
         "30685098",
         "chr6:30684598-30685098",
         "chr6",
         "30676389",
         "30689895",
         "PPP1R18"
        ],
        [
         "36",
         "chr1",
         "224358274",
         "224358774",
         "chr1:224358274-224358774",
         "chr1",
         "224354858",
         "224379459",
         "CNIH4"
        ],
        [
         "37",
         "chr9",
         "89425359",
         "89425859",
         "chr9:89425359-89425859",
         "chr9",
         "89360787",
         "89500130",
         "SEMA4D"
        ],
        [
         "38",
         "chr11",
         "73396057",
         "73396557",
         "chr11:73396057-73396557",
         "chr11",
         "73395559",
         "73398436",
         "ENSG00000256928"
        ],
        [
         "39",
         "chr11",
         "73396057",
         "73396557",
         "chr11:73396057-73396557",
         "chr11",
         "73374399",
         "73397474",
         "RELT"
        ],
        [
         "40",
         "chr1",
         "25330668",
         "25331168",
         "chr1:25330668-25331168",
         "chr1",
         "25242249",
         "25340213",
         "RSRP1"
        ],
        [
         "41",
         "chr2",
         "162318709",
         "162319209",
         "chr2:162318709-162319209",
         "chr2",
         "162316840",
         "162371595",
         "GCA"
        ],
        [
         "42",
         "chr2",
         "162318709",
         "162319209",
         "chr2:162318709-162319209",
         "chr2",
         "162267074",
         "162320684",
         "IFIH1"
        ],
        [
         "43",
         "chr3",
         "123719029",
         "123719529",
         "chr3:123719029-123719529",
         "chr3",
         "123610049",
         "123886332",
         "MYLK"
        ],
        [
         "44",
         "chr13",
         "112691276",
         "112691776",
         "chr13:112691276-112691776",
         "chr13",
         "112686769",
         "112691859",
         "ENSG00000274922"
        ],
        [
         "45",
         "chr13",
         "112691276",
         "112691776",
         "chr13:112691276-112691776",
         "chr13",
         "112688038",
         "112887168",
         "ATP11A"
        ],
        [
         "46",
         "chr11",
         "128632544",
         "128633044",
         "chr11:128632544-128633044",
         "chr11",
         "128614340",
         "128688922",
         "ENSG00000245008"
        ],
        [
         "47",
         "chr11",
         "119550259",
         "119550759",
         "chr11:119550259-119550759",
         "chr11",
         "119354467",
         "119659284",
         "USP2-AS1"
        ],
        [
         "48",
         "chr3",
         "72756841",
         "72757341",
         "chr3:72756841-72757341",
         "chr3",
         "72749277",
         "72863914",
         "SHQ1"
        ],
        [
         "49",
         "chr2",
         "106104984",
         "106105484",
         "chr2:106104984-106105484",
         "chr2",
         "106093308",
         "106196301",
         "UXS1"
        ]
       ],
       "shape": {
        "columns": 8,
        "rows": 196557
       }
      },
      "text/html": [
       "<div>\n",
       "<style scoped>\n",
       "    .dataframe tbody tr th:only-of-type {\n",
       "        vertical-align: middle;\n",
       "    }\n",
       "\n",
       "    .dataframe tbody tr th {\n",
       "        vertical-align: top;\n",
       "    }\n",
       "\n",
       "    .dataframe thead th {\n",
       "        text-align: right;\n",
       "    }\n",
       "</style>\n",
       "<table border=\"1\" class=\"dataframe\">\n",
       "  <thead>\n",
       "    <tr style=\"text-align: right;\">\n",
       "      <th></th>\n",
       "      <th>peak_chrom</th>\n",
       "      <th>peak_start</th>\n",
       "      <th>peak_end</th>\n",
       "      <th>peak_id</th>\n",
       "      <th>gene_chrom</th>\n",
       "      <th>gene_start</th>\n",
       "      <th>gene_end</th>\n",
       "      <th>gene_name</th>\n",
       "    </tr>\n",
       "  </thead>\n",
       "  <tbody>\n",
       "    <tr>\n",
       "      <th>0</th>\n",
       "      <td>chr19</td>\n",
       "      <td>44722219</td>\n",
       "      <td>44722719</td>\n",
       "      <td>chr19:44722219-44722719</td>\n",
       "      <td>chr19</td>\n",
       "      <td>44631573</td>\n",
       "      <td>44727217</td>\n",
       "      <td>CEACAM16-AS1</td>\n",
       "    </tr>\n",
       "    <tr>\n",
       "      <th>1</th>\n",
       "      <td>chr9</td>\n",
       "      <td>129865026</td>\n",
       "      <td>129865526</td>\n",
       "      <td>chr9:129865026-129865526</td>\n",
       "      <td>chr9</td>\n",
       "      <td>129832698</td>\n",
       "      <td>129881828</td>\n",
       "      <td>USP20</td>\n",
       "    </tr>\n",
       "    <tr>\n",
       "      <th>2</th>\n",
       "      <td>chr11</td>\n",
       "      <td>102317693</td>\n",
       "      <td>102318193</td>\n",
       "      <td>chr11:102317693-102318193</td>\n",
       "      <td>chr11</td>\n",
       "      <td>102316173</td>\n",
       "      <td>102330586</td>\n",
       "      <td>ENSG00000288528</td>\n",
       "    </tr>\n",
       "    <tr>\n",
       "      <th>3</th>\n",
       "      <td>chr11</td>\n",
       "      <td>102317693</td>\n",
       "      <td>102318193</td>\n",
       "      <td>chr11:102317693-102318193</td>\n",
       "      <td>chr11</td>\n",
       "      <td>102315484</td>\n",
       "      <td>102339403</td>\n",
       "      <td>BIRC3</td>\n",
       "    </tr>\n",
       "    <tr>\n",
       "      <th>4</th>\n",
       "      <td>chr13</td>\n",
       "      <td>113112853</td>\n",
       "      <td>113113353</td>\n",
       "      <td>chr13:113112853-113113353</td>\n",
       "      <td>chr13</td>\n",
       "      <td>113103788</td>\n",
       "      <td>113120685</td>\n",
       "      <td>F7</td>\n",
       "    </tr>\n",
       "    <tr>\n",
       "      <th>...</th>\n",
       "      <td>...</td>\n",
       "      <td>...</td>\n",
       "      <td>...</td>\n",
       "      <td>...</td>\n",
       "      <td>...</td>\n",
       "      <td>...</td>\n",
       "      <td>...</td>\n",
       "      <td>...</td>\n",
       "    </tr>\n",
       "    <tr>\n",
       "      <th>196552</th>\n",
       "      <td>chr22</td>\n",
       "      <td>20266642</td>\n",
       "      <td>20267142</td>\n",
       "      <td>chr22:20266642-20267142</td>\n",
       "      <td>chr22</td>\n",
       "      <td>20241415</td>\n",
       "      <td>20285246</td>\n",
       "      <td>RTN4R</td>\n",
       "    </tr>\n",
       "    <tr>\n",
       "      <th>196553</th>\n",
       "      <td>chr9</td>\n",
       "      <td>37034670</td>\n",
       "      <td>37035170</td>\n",
       "      <td>chr9:37034670-37035170</td>\n",
       "      <td>chr9</td>\n",
       "      <td>36833269</td>\n",
       "      <td>37036268</td>\n",
       "      <td>PAX5</td>\n",
       "    </tr>\n",
       "    <tr>\n",
       "      <th>196554</th>\n",
       "      <td>chr3</td>\n",
       "      <td>46929956</td>\n",
       "      <td>46930456</td>\n",
       "      <td>chr3:46929956-46930456</td>\n",
       "      <td>chr3</td>\n",
       "      <td>46921726</td>\n",
       "      <td>46984010</td>\n",
       "      <td>CCDC12</td>\n",
       "    </tr>\n",
       "    <tr>\n",
       "      <th>196555</th>\n",
       "      <td>chr14</td>\n",
       "      <td>68513770</td>\n",
       "      <td>68514270</td>\n",
       "      <td>chr14:68513770-68514270</td>\n",
       "      <td>chr14</td>\n",
       "      <td>67817779</td>\n",
       "      <td>68730218</td>\n",
       "      <td>RAD51B</td>\n",
       "    </tr>\n",
       "    <tr>\n",
       "      <th>196556</th>\n",
       "      <td>chr17</td>\n",
       "      <td>78800112</td>\n",
       "      <td>78800612</td>\n",
       "      <td>chr17:78800112-78800612</td>\n",
       "      <td>chr17</td>\n",
       "      <td>78787381</td>\n",
       "      <td>78843441</td>\n",
       "      <td>USP36</td>\n",
       "    </tr>\n",
       "  </tbody>\n",
       "</table>\n",
       "<p>196557 rows × 8 columns</p>\n",
       "</div>"
      ],
      "text/plain": [
       "       peak_chrom  peak_start   peak_end                    peak_id  \\\n",
       "0           chr19    44722219   44722719    chr19:44722219-44722719   \n",
       "1            chr9   129865026  129865526   chr9:129865026-129865526   \n",
       "2           chr11   102317693  102318193  chr11:102317693-102318193   \n",
       "3           chr11   102317693  102318193  chr11:102317693-102318193   \n",
       "4           chr13   113112853  113113353  chr13:113112853-113113353   \n",
       "...           ...         ...        ...                        ...   \n",
       "196552      chr22    20266642   20267142    chr22:20266642-20267142   \n",
       "196553       chr9    37034670   37035170     chr9:37034670-37035170   \n",
       "196554       chr3    46929956   46930456     chr3:46929956-46930456   \n",
       "196555      chr14    68513770   68514270    chr14:68513770-68514270   \n",
       "196556      chr17    78800112   78800612    chr17:78800112-78800612   \n",
       "\n",
       "       gene_chrom  gene_start   gene_end        gene_name  \n",
       "0           chr19    44631573   44727217     CEACAM16-AS1  \n",
       "1            chr9   129832698  129881828            USP20  \n",
       "2           chr11   102316173  102330586  ENSG00000288528  \n",
       "3           chr11   102315484  102339403            BIRC3  \n",
       "4           chr13   113103788  113120685               F7  \n",
       "...           ...         ...        ...              ...  \n",
       "196552      chr22    20241415   20285246            RTN4R  \n",
       "196553       chr9    36833269   37036268             PAX5  \n",
       "196554       chr3    46921726   46984010           CCDC12  \n",
       "196555      chr14    67817779   68730218           RAD51B  \n",
       "196556      chr17    78787381   78843441            USP36  \n",
       "\n",
       "[196557 rows x 8 columns]"
      ]
     },
     "execution_count": 20,
     "metadata": {},
     "output_type": "execute_result"
    }
   ],
   "source": [
    "# Step 3: Find overlaps between peaks and gene activity regions\n",
    "print(\"Step 3: Intersecting peaks and genes...\")\n",
    "# Use wa=True, wb=True to get both peak and gene info\n",
    "# Corrected column names for the output DataFrame\n",
    "overlap_df = peak_bed.intersect(gene_regions_bed, wa=True, wb=True).to_dataframe(\n",
    "    names=['peak_chrom', 'peak_start', 'peak_end', 'peak_id',\n",
    "           'gene_chrom', 'gene_start', 'gene_end', 'gene_name']\n",
    ")\n",
    "\n",
    "overlap_df"
   ]
  },
  {
   "cell_type": "code",
   "execution_count": 21,
   "id": "d59b1ca5",
   "metadata": {},
   "outputs": [
    {
     "name": "stdout",
     "output_type": "stream",
     "text": [
      "Step 4: Building peak-to-gene mapping matrix...\n",
      "Peak-to-gene mapping matrix shape: (198421, 26221)\n"
     ]
    }
   ],
   "source": [
    "# Step 4: Create a binary peak-to-gene mapping matrix (Efficient Method)\n",
    "print(\"Step 4: Building peak-to-gene mapping matrix...\")\n",
    "# Create categorical types for faster mapping\n",
    "overlap_df['peak_id'] = overlap_df['peak_id'].astype('category')\n",
    "overlap_df['gene_name'] = overlap_df['gene_name'].astype('category')\n",
    "\n",
    "# Get the integer indices for peaks and genes\n",
    "peak_indices = overlap_df['peak_id'].cat.codes.values\n",
    "gene_indices = overlap_df['gene_name'].cat.codes.values\n",
    "\n",
    "# Get the dimensions for the mapping matrix\n",
    "n_peaks = len(adata.var_names)\n",
    "n_genes = len(overlap_df['gene_name'].cat.categories)\n",
    "\n",
    "# Create the sparse mapping matrix (peaks x genes)\n",
    "# A value of 1 at (i, j) means peak i maps to gene j\n",
    "peak_to_gene_matrix = csr_matrix((np.ones_like(peak_indices), (peak_indices, gene_indices)),\n",
    "                                 shape=(n_peaks, n_genes))\n",
    "print(f\"Peak-to-gene mapping matrix shape: {peak_to_gene_matrix.shape}\")"
   ]
  },
  {
   "cell_type": "code",
   "execution_count": 48,
   "id": "496728d8",
   "metadata": {},
   "outputs": [
    {
     "name": "stdout",
     "output_type": "stream",
     "text": [
      "Step 5: Calculating gene activities...\n"
     ]
    }
   ],
   "source": [
    "# Step 5: Calculate gene activities via matrix multiplication\n",
    "print(\"Step 5: Calculating gene activities...\")\n",
    "# This is the core calculation: (cells x peaks) @ (peaks x genes) -> (cells x genes)\n",
    "# Ensure you are using the correct count matrix (e.g., adata.X or adata.layers['counts'])\n",
    "X_activity = adata.layers['counts'] @ peak_to_gene_matrix"
   ]
  },
  {
   "cell_type": "code",
   "execution_count": 49,
   "id": "149da186",
   "metadata": {},
   "outputs": [
    {
     "data": {
      "text/plain": [
       "array([[0., 0., 0., 0., 0., 0., 0., 0., 0., 0., 0., 0., 0., 0., 0., 0.,\n",
       "        0., 0., 0., 0.],\n",
       "       [0., 0., 0., 0., 0., 0., 0., 0., 0., 0., 0., 0., 0., 0., 0., 0.,\n",
       "        0., 0., 0., 0.],\n",
       "       [0., 0., 0., 0., 0., 0., 0., 0., 0., 0., 0., 0., 0., 0., 0., 0.,\n",
       "        1., 0., 0., 0.],\n",
       "       [1., 1., 0., 0., 0., 0., 0., 0., 0., 0., 0., 0., 0., 0., 1., 2.,\n",
       "        0., 0., 0., 0.],\n",
       "       [0., 0., 0., 0., 0., 0., 0., 0., 0., 0., 0., 0., 0., 0., 0., 0.,\n",
       "        0., 0., 1., 0.],\n",
       "       [0., 0., 0., 0., 0., 0., 0., 0., 0., 0., 0., 0., 0., 0., 0., 1.,\n",
       "        0., 0., 0., 0.],\n",
       "       [0., 0., 0., 0., 0., 0., 0., 0., 0., 0., 0., 0., 0., 0., 0., 0.,\n",
       "        0., 0., 0., 0.],\n",
       "       [0., 0., 1., 0., 0., 0., 0., 0., 0., 0., 0., 0., 0., 0., 0., 0.,\n",
       "        0., 0., 0., 0.],\n",
       "       [0., 0., 0., 0., 0., 0., 0., 0., 0., 0., 0., 0., 0., 0., 0., 2.,\n",
       "        0., 0., 0., 0.],\n",
       "       [0., 0., 0., 0., 0., 0., 0., 0., 0., 0., 0., 2., 0., 0., 0., 0.,\n",
       "        0., 0., 0., 0.],\n",
       "       [0., 0., 0., 0., 0., 0., 0., 0., 0., 0., 0., 0., 0., 0., 0., 0.,\n",
       "        0., 0., 0., 0.],\n",
       "       [0., 0., 0., 0., 0., 0., 0., 0., 0., 0., 0., 1., 0., 0., 0., 0.,\n",
       "        0., 0., 0., 0.],\n",
       "       [0., 0., 0., 0., 0., 0., 0., 0., 0., 0., 0., 0., 0., 0., 1., 1.,\n",
       "        0., 0., 0., 0.],\n",
       "       [0., 0., 0., 0., 0., 0., 0., 0., 0., 0., 0., 0., 0., 0., 0., 1.,\n",
       "        0., 0., 0., 0.],\n",
       "       [0., 0., 0., 0., 0., 0., 0., 0., 0., 0., 1., 0., 0., 0., 0., 2.,\n",
       "        0., 1., 0., 0.],\n",
       "       [0., 0., 0., 0., 0., 0., 0., 0., 0., 0., 0., 0., 0., 0., 0., 0.,\n",
       "        0., 0., 0., 0.],\n",
       "       [0., 0., 0., 0., 0., 0., 0., 0., 0., 0., 0., 0., 0., 0., 0., 1.,\n",
       "        0., 0., 0., 0.],\n",
       "       [0., 0., 0., 0., 0., 0., 0., 0., 0., 1., 0., 0., 0., 0., 0., 0.,\n",
       "        1., 0., 0., 0.],\n",
       "       [0., 0., 0., 0., 0., 0., 0., 0., 0., 0., 0., 0., 0., 0., 0., 0.,\n",
       "        0., 0., 0., 0.],\n",
       "       [0., 0., 0., 0., 0., 0., 0., 0., 0., 0., 0., 0., 0., 0., 0., 1.,\n",
       "        0., 0., 0., 0.]])"
      ]
     },
     "execution_count": 49,
     "metadata": {},
     "output_type": "execute_result"
    }
   ],
   "source": [
    "X_activity[:20,:20].toarray()"
   ]
  },
  {
   "cell_type": "code",
   "execution_count": 50,
   "id": "b31bb368",
   "metadata": {},
   "outputs": [
    {
     "name": "stdout",
     "output_type": "stream",
     "text": [
      "Step 6: Creating final AnnData object...\n",
      "\n",
      "Gene activity AnnData created successfully!\n",
      "Shape: 169227 cells × 26221 genes\n"
     ]
    }
   ],
   "source": [
    "# Step 6: Construct the final gene activity AnnData object\n",
    "print(\"Step 6: Creating final AnnData object...\")\n",
    "gene_names = overlap_df['gene_name'].cat.categories.tolist()\n",
    "adata_activity = AnnData(\n",
    "    X=X_activity,\n",
    "    obs=adata.obs.copy(),\n",
    "    var=pd.DataFrame(index=gene_names)\n",
    ")\n",
    "\n",
    "print(\"\\nGene activity AnnData created successfully!\")\n",
    "print(f\"Shape: {adata_activity.shape[0]} cells × {adata_activity.shape[1]} genes\")\n"
   ]
  },
  {
   "cell_type": "code",
   "execution_count": 51,
   "id": "07ee089d",
   "metadata": {},
   "outputs": [
    {
     "data": {
      "text/plain": [
       "array([[0., 0., 0., 0., 0., 0., 0., 0., 0., 0., 0., 0., 0., 0., 0., 0.,\n",
       "        0., 0., 0., 0.],\n",
       "       [0., 0., 0., 0., 0., 0., 0., 0., 0., 0., 0., 0., 0., 0., 0., 0.,\n",
       "        0., 0., 0., 0.],\n",
       "       [0., 0., 0., 0., 0., 0., 0., 0., 0., 0., 0., 0., 0., 0., 0., 0.,\n",
       "        1., 0., 0., 0.],\n",
       "       [1., 1., 0., 0., 0., 0., 0., 0., 0., 0., 0., 0., 0., 0., 1., 2.,\n",
       "        0., 0., 0., 0.],\n",
       "       [0., 0., 0., 0., 0., 0., 0., 0., 0., 0., 0., 0., 0., 0., 0., 0.,\n",
       "        0., 0., 1., 0.],\n",
       "       [0., 0., 0., 0., 0., 0., 0., 0., 0., 0., 0., 0., 0., 0., 0., 1.,\n",
       "        0., 0., 0., 0.],\n",
       "       [0., 0., 0., 0., 0., 0., 0., 0., 0., 0., 0., 0., 0., 0., 0., 0.,\n",
       "        0., 0., 0., 0.],\n",
       "       [0., 0., 1., 0., 0., 0., 0., 0., 0., 0., 0., 0., 0., 0., 0., 0.,\n",
       "        0., 0., 0., 0.],\n",
       "       [0., 0., 0., 0., 0., 0., 0., 0., 0., 0., 0., 0., 0., 0., 0., 2.,\n",
       "        0., 0., 0., 0.],\n",
       "       [0., 0., 0., 0., 0., 0., 0., 0., 0., 0., 0., 2., 0., 0., 0., 0.,\n",
       "        0., 0., 0., 0.],\n",
       "       [0., 0., 0., 0., 0., 0., 0., 0., 0., 0., 0., 0., 0., 0., 0., 0.,\n",
       "        0., 0., 0., 0.],\n",
       "       [0., 0., 0., 0., 0., 0., 0., 0., 0., 0., 0., 1., 0., 0., 0., 0.,\n",
       "        0., 0., 0., 0.],\n",
       "       [0., 0., 0., 0., 0., 0., 0., 0., 0., 0., 0., 0., 0., 0., 1., 1.,\n",
       "        0., 0., 0., 0.],\n",
       "       [0., 0., 0., 0., 0., 0., 0., 0., 0., 0., 0., 0., 0., 0., 0., 1.,\n",
       "        0., 0., 0., 0.],\n",
       "       [0., 0., 0., 0., 0., 0., 0., 0., 0., 0., 1., 0., 0., 0., 0., 2.,\n",
       "        0., 1., 0., 0.],\n",
       "       [0., 0., 0., 0., 0., 0., 0., 0., 0., 0., 0., 0., 0., 0., 0., 0.,\n",
       "        0., 0., 0., 0.],\n",
       "       [0., 0., 0., 0., 0., 0., 0., 0., 0., 0., 0., 0., 0., 0., 0., 1.,\n",
       "        0., 0., 0., 0.],\n",
       "       [0., 0., 0., 0., 0., 0., 0., 0., 0., 1., 0., 0., 0., 0., 0., 0.,\n",
       "        1., 0., 0., 0.],\n",
       "       [0., 0., 0., 0., 0., 0., 0., 0., 0., 0., 0., 0., 0., 0., 0., 0.,\n",
       "        0., 0., 0., 0.],\n",
       "       [0., 0., 0., 0., 0., 0., 0., 0., 0., 0., 0., 0., 0., 0., 0., 1.,\n",
       "        0., 0., 0., 0.]])"
      ]
     },
     "execution_count": 51,
     "metadata": {},
     "output_type": "execute_result"
    }
   ],
   "source": [
    "adata_activity.X[:20,:20].toarray()"
   ]
  },
  {
   "cell_type": "code",
   "execution_count": 52,
   "id": "554f90fe",
   "metadata": {},
   "outputs": [],
   "source": [
    "# Copy adata.obsm to the new AnnData object\n",
    "adata_activity.layers['counts'] = adata_activity.X.copy()  # Store the original counts in a layer\n",
    "adata_activity.obsm = adata.obsm.copy()\n",
    "sc.pp.normalize_total(adata_activity, target_sum=1e4)\n",
    "# Log transform the gene activity matrix\n",
    "sc.pp.log1p(adata_activity)"
   ]
  },
  {
   "cell_type": "code",
   "execution_count": 54,
   "id": "131bd1d5",
   "metadata": {},
   "outputs": [
    {
     "name": "stdout",
     "output_type": "stream",
     "text": [
      "Saved adata to ../data/human_pbmc_atac_benchmark/adata_activity_fixedcells_consensus_processed_Jun08-1850.h5ad\n",
      "Concord - INFO - Normalized expression data (adata.layers['X_log1p']) not found. Renormalize and log transforming.\n",
      "WARNING: adata.X seems to be already log-transformed.\n",
      "VisCello project created at ../data/human_pbmc_atac_benchmark/cello_activity_fixedcells_consensus_processed_pbmc_atac_dev_Jun08-1850\n",
      "Saved viscello to ../data/human_pbmc_atac_benchmark/cello_activity_fixedcells_consensus_processed_pbmc_atac_dev_Jun08-1850\n"
     ]
    }
   ],
   "source": [
    "# save adata_activity\n",
    "import concord as ccd\n",
    "adata_activity.write_h5ad(data_dir / f\"adata_activity_fixedcells_consensus_processed_{file_suffix}.h5ad\")\n",
    "print(f\"Saved adata to {data_dir / f'adata_activity_fixedcells_consensus_processed_{file_suffix}.h5ad'}\")\n",
    "ccd.ul.anndata_to_viscello(adata_activity, data_dir / f\"cello_activity_fixedcells_consensus_processed_{proj_name}_{file_suffix}\", project_name = proj_name, organism='hsa')\n",
    "print(f\"Saved viscello to {data_dir / f'cello_activity_fixedcells_consensus_processed_{proj_name}_{file_suffix}'}\")"
   ]
  },
  {
   "cell_type": "code",
   "execution_count": 60,
   "id": "4387f577",
   "metadata": {},
   "outputs": [
    {
     "data": {
      "text/plain": [
       "<Axes: >"
      ]
     },
     "execution_count": 60,
     "metadata": {},
     "output_type": "execute_result"
    },
    {
     "data": {
      "image/png": "[encoded data removed]",
      "text/plain": [
       "<Figure size 640x480 with 1 Axes>"
      ]
     },
     "metadata": {},
     "output_type": "display_data"
    }
   ],
   "source": [
    "adata.obs['Dupl_rate'].hist(bins=100)"
   ]
  },
  {
   "cell_type": "code",
   "execution_count": null,
   "id": "bdc479fe",
   "metadata": {},
   "outputs": [],
   "source": []
  }
 ],
 "metadata": {
  "kernelspec": {
   "display_name": "cellpath",
   "language": "python",
   "name": "python3"
  },
  "language_info": {
   "codemirror_mode": {
    "name": "ipython",
    "version": 3
   },
   "file_extension": ".py",
   "mimetype": "text/x-python",
   "name": "python",
   "nbconvert_exporter": "python",
   "pygments_lexer": "ipython3",
   "version": "3.9.18"
  }
 },
 "nbformat": 4,
 "nbformat_minor": 5
}
