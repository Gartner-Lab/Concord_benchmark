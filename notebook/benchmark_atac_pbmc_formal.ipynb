{
 "cells": [
  {
   "cell_type": "markdown",
   "id": "4b8a254d",
   "metadata": {},
   "source": [
    "## PBMC atlas"
   ]
  },
  {
   "cell_type": "markdown",
   "id": "1a98b8fd",
   "metadata": {},
   "source": [
    "https://www.nature.com/articles/s41587-023-01881-x#data-availability"
   ]
  },
  {
   "cell_type": "code",
   "execution_count": 1,
   "id": "e07ba200",
   "metadata": {},
   "outputs": [],
   "source": [
    "%load_ext autoreload\n",
    "%autoreload 2"
   ]
  },
  {
   "cell_type": "code",
   "execution_count": 2,
   "id": "698800ee",
   "metadata": {},
   "outputs": [],
   "source": [
    "import concord as ccd\n",
    "import scanpy as sc\n",
    "import torch\n",
    "import warnings\n",
    "from pathlib import Path\n",
    "warnings.filterwarnings('ignore')\n",
    "import time\n",
    "from pathlib import Path\n",
    "device = torch.device('cuda:0' if torch.cuda.is_available() else 'cpu')\n",
    "seed = 0"
   ]
  },
  {
   "cell_type": "code",
   "execution_count": 3,
   "id": "97728fcc",
   "metadata": {},
   "outputs": [],
   "source": [
    "import time\n",
    "from pathlib import Path\n",
    "proj_name = \"pbmc_atac\"\n",
    "file_name = proj_name\n",
    "file_suffix = time.strftime('%b%d-%H%M')\n",
    "seed = 0\n",
    "\n",
    "save_dir = Path(f\"../save/{proj_name}\")\n",
    "save_dir.mkdir(parents=True, exist_ok=True)\n",
    "\n",
    "data_dir = Path(f\"../data/{proj_name}\")\n",
    "data_dir.mkdir(parents=True, exist_ok=True)\n"
   ]
  },
  {
   "cell_type": "code",
   "execution_count": 4,
   "id": "2ec919bb",
   "metadata": {},
   "outputs": [
    {
     "data": {
      "text/plain": [
       "(169227, 198421)"
      ]
     },
     "execution_count": 4,
     "metadata": {},
     "output_type": "execute_result"
    }
   ],
   "source": [
    "adata = sc.read_h5ad(data_dir / \"adata_fixedcells_consensus_processed_Jun07-1959.h5ad\")\n",
    "adata.shape"
   ]
  },
  {
   "cell_type": "code",
   "execution_count": 5,
   "id": "e9e07fea",
   "metadata": {},
   "outputs": [
    {
     "name": "stdout",
     "output_type": "stream",
     "text": [
      "Number of overlapping cells: 107176\n"
     ]
    },
    {
     "data": {
      "text/plain": [
       "called_sample\n",
       "sampleA    54256\n",
       "sampleB    52920\n",
       "Name: count, dtype: int64"
      ]
     },
     "execution_count": 5,
     "metadata": {},
     "output_type": "execute_result"
    }
   ],
   "source": [
    "# Load genotype txt file\n",
    "import pandas as pd\n",
    "genotype_res = pd.read_csv(data_dir / \"genotype_concordance_unified.fixedcells_2_cistopic.txt\", sep=\"\\t\")\n",
    "# extract the technology, remove anything after 'FIXEDCELLS'\n",
    "genotype_res['technology'] = genotype_res.index.str.replace(r'FIXEDCELLS.*', 'FIXEDCELLS', regex=True)\n",
    "genotype_res['cell_name'] = genotype_res['BARCODE'] + \"___\" + genotype_res['technology']\n",
    "# Check overlap between adata and genotype_res\n",
    "overlap = adata.obs_names.intersection(genotype_res['cell_name'])\n",
    "print(f\"Number of overlapping cells: {len(overlap)}\")\n",
    "# Assign called sample to adata.obs\n",
    "import numpy as np\n",
    "adata.obs['called_sample'] = np.nan\n",
    "adata.obs.loc[overlap, 'called_sample'] = genotype_res.set_index('cell_name').loc[overlap, 'sample'].values\n",
    "adata.obs['called_sample'].value_counts()"
   ]
  },
  {
   "cell_type": "code",
   "execution_count": 6,
   "id": "a149737b",
   "metadata": {},
   "outputs": [
    {
     "name": "stdout",
     "output_type": "stream",
     "text": [
      "ℹ️  Keeping cells with ≥10 expressed genes (168817/169227 kept, 410 dropped).\n",
      "✅ Preprocessed data saved to ../data/pbmc_atac/pbmc_atac_preprocessed_HVG.h5ad\n"
     ]
    }
   ],
   "source": [
    "# Find highly variable genes\n",
    "sc.pp.highly_variable_genes(adata, n_top_genes=10000, flavor='seurat_v3', subset=False)\n",
    "adata_filtered = adata[:, adata.var.highly_variable].copy()\n",
    "adata_filtered = ccd.ul.filter_cells_min_genes(adata_filtered, min_genes=10)\n",
    "adata_filtered.write_h5ad(data_dir / f\"{file_name}_preprocessed_HVG.h5ad\")\n",
    "print(f\"✅ Preprocessed data saved to {data_dir / f'{file_name}_preprocessed_HVG.h5ad'}\")\n",
    "# Filter original adata to match the cells in adata_filtered\n",
    "adata = adata[adata_filtered.obs_names, :].copy()\n",
    "adata.write_h5ad(data_dir / f\"{file_name}_preprocessed.h5ad\")\n"
   ]
  },
  {
   "cell_type": "markdown",
   "id": "51da01ce",
   "metadata": {},
   "source": [
    "### Create jobs"
   ]
  },
  {
   "cell_type": "code",
   "execution_count": 4,
   "id": "b26ae9f9",
   "metadata": {},
   "outputs": [],
   "source": [
    "adata = sc.read_h5ad(data_dir / f\"{file_name}_preprocessed_HVG.h5ad\")"
   ]
  },
  {
   "cell_type": "code",
   "execution_count": 9,
   "id": "ec938d18",
   "metadata": {},
   "outputs": [
    {
     "name": "stdout",
     "output_type": "stream",
     "text": [
      "✅ Generated: benchmark_pbmc_atac/benchmark_pbmc_atac_scvi.py\n",
      "✅ Generated: benchmark_pbmc_atac/benchmark_pbmc_atac_scvi.sh\n",
      "\n",
      "✅ Generated: benchmark_pbmc_atac/benchmark_pbmc_atac_harmony.py\n",
      "✅ Generated: benchmark_pbmc_atac/benchmark_pbmc_atac_harmony.sh\n",
      "\n",
      "✅ Generated: benchmark_pbmc_atac/benchmark_pbmc_atac_scanorama.py\n",
      "✅ Generated: benchmark_pbmc_atac/benchmark_pbmc_atac_scanorama.sh\n",
      "\n",
      "✅ Generated: benchmark_pbmc_atac/benchmark_pbmc_atac_liger.py\n",
      "✅ Generated: benchmark_pbmc_atac/benchmark_pbmc_atac_liger.sh\n",
      "\n",
      "✅ Generated: benchmark_pbmc_atac/benchmark_pbmc_atac_unintegrated.py\n",
      "✅ Generated: benchmark_pbmc_atac/benchmark_pbmc_atac_unintegrated.sh\n",
      "\n",
      "✅ Generated: benchmark_pbmc_atac/benchmark_pbmc_atac_concord_hcl.py\n",
      "✅ Generated: benchmark_pbmc_atac/benchmark_pbmc_atac_concord_hcl.sh\n",
      "\n",
      "✅ Generated: benchmark_pbmc_atac/benchmark_pbmc_atac_concord_knn.py\n",
      "✅ Generated: benchmark_pbmc_atac/benchmark_pbmc_atac_concord_knn.sh\n",
      "\n",
      "✅ Generated: benchmark_pbmc_atac/benchmark_pbmc_atac_contrastive.py\n",
      "✅ Generated: benchmark_pbmc_atac/benchmark_pbmc_atac_contrastive.sh\n",
      "\n"
     ]
    },
    {
     "data": {
      "text/plain": [
       "CompletedProcess(args=['python', './generate_py_jobs.py', '--proj_name', 'pbmc_atac', '--adata_filename', 'pbmc_atac_preprocessed_HVG.h5ad', '--methods', 'scvi', 'harmony', 'scanorama', 'liger', 'unintegrated', 'concord_hcl', 'concord_knn', 'contrastive', '--batch_key', 'dataset', '--state_key', 'None', '--latent_dim', '50', '--output_dir', '../jobs', '--device', 'auto', '--mem', '32G', '--conda_env', 'cellpath', '--runtime', '3:00:00', '--mode', 'wynton'], returncode=0)"
      ]
     },
     "execution_count": 9,
     "metadata": {},
     "output_type": "execute_result"
    }
   ],
   "source": [
    "import subprocess, json\n",
    "py_methods = [\"scvi\", \"harmony\", \"scanorama\", \"liger\", \"unintegrated\", \"concord_hcl\", \"concord_knn\", \"contrastive\"]\n",
    "output_dir = '../jobs'\n",
    "device = 'auto'\n",
    "conda_env = 'cellpath'\n",
    "batch_key = 'dataset'\n",
    "state_key = 'None'\n",
    "latent_dim = '50'  # Adjust as needed, but should match the encoder_dims in concord_args\n",
    "subprocess.run([\n",
    "    \"python\", \"./generate_py_jobs.py\",\n",
    "    \"--proj_name\", proj_name,\n",
    "    \"--adata_filename\", f\"{file_name}_preprocessed_HVG.h5ad\",\n",
    "    \"--methods\", *py_methods,\n",
    "    \"--batch_key\", batch_key,\n",
    "    \"--state_key\", state_key,\n",
    "    \"--latent_dim\", latent_dim,\n",
    "    \"--output_dir\", output_dir,\n",
    "    \"--device\", device,\n",
    "    \"--mem\", \"32G\",  # Adjust memory as needed\n",
    "    \"--conda_env\", conda_env,\n",
    "    \"--runtime\", \"3:00:00\",\n",
    "    \"--mode\", \"wynton\"\n",
    "])\n"
   ]
  },
  {
   "cell_type": "code",
   "execution_count": 6,
   "id": "891cd960",
   "metadata": {},
   "outputs": [
    {
     "name": "stdout",
     "output_type": "stream",
     "text": [
      "📌  Run “../jobs/benchmark_pbmc_atac/submit_all_pbmc_atac.sh” to queue every job.\n"
     ]
    }
   ],
   "source": [
    "proj_folder = Path(output_dir) / f\"benchmark_{proj_name}\"   # ../jobs/benchmark_<proj>\n",
    "proj_folder.mkdir(exist_ok=True)                      # defensive\n",
    "\n",
    "submit_all = proj_folder / f\"submit_all_{proj_name}.sh\"\n",
    "with submit_all.open(\"w\") as f:\n",
    "    f.write(\"#!/bin/bash\\n\")\n",
    "    f.write(\"# Auto-generated — submits every job for this project\\n\")\n",
    "    f.write(\"# Run from this folder, or let the script cd into it.\\n\\n\")\n",
    "    f.write('cd \"$(dirname \"$0\")\"\\n\\n')          # ensures we’re in the right dir\n",
    "    for sh_file in sorted(proj_folder.glob(f\"benchmark_{proj_name}_*.sh\")):\n",
    "        f.write(f'qsub \"{sh_file.name}\"\\n')\n",
    "\n",
    "submit_all.chmod(0o755)\n",
    "print(f\"📌  Run “{submit_all}” to queue every job.\")"
   ]
  },
  {
   "cell_type": "code",
   "execution_count": 8,
   "id": "7f3b8509",
   "metadata": {},
   "outputs": [
    {
     "name": "stdout",
     "output_type": "stream",
     "text": [
      "VisCello project created at ../data/pbmc_atac/viscello_pbmc_atac\n"
     ]
    }
   ],
   "source": [
    "ccd.ul.anndata_to_viscello(adata,\n",
    "                        output_dir=data_dir / f\"viscello_{proj_name}\",\n",
    "                        project_name=proj_name,\n",
    "                        organism='hsa')"
   ]
  },
  {
   "cell_type": "code",
   "execution_count": 10,
   "id": "4eba7f81",
   "metadata": {},
   "outputs": [
    {
     "name": "stdout",
     "output_type": "stream",
     "text": [
      "✅ Generated: benchmark_pbmc_atac/benchmark_pbmc_atac_seurat_rpca.R\n",
      "✅ Generated: benchmark_pbmc_atac/benchmark_pbmc_atac_seurat_rpca.sh\n",
      "\n"
     ]
    },
    {
     "data": {
      "text/plain": [
       "CompletedProcess(args=['python', './generate_seurat_script.py', '--proj_name', 'pbmc_atac', '--eset_dir', '../../data/pbmc_atac/viscello_pbmc_atac', '--methods', 'seurat_rpca', '--batch_key', 'dataset', '--state_key', 'None', '--latent_dim', '50', '--mem', '200G', '--runtime', '72:00:00', '--output_dir', '../jobs', '--device', 'auto', '--conda_env', 'cellpath'], returncode=0)"
      ]
     },
     "execution_count": 10,
     "metadata": {},
     "output_type": "execute_result"
    }
   ],
   "source": [
    "# Generate script for Seurat\n",
    "import subprocess\n",
    "r_methods = [\"seurat_rpca\"]\n",
    "output_dir = '../jobs'\n",
    "device = 'auto'\n",
    "subprocess.run([\n",
    "    \"python\", \"./generate_seurat_script.py\",\n",
    "    \"--proj_name\", proj_name,\n",
    "    \"--eset_dir\", '../'+ str(data_dir / f\"viscello_{proj_name}\"),   # <- folder w/ eset.rds\n",
    "    \"--methods\", *r_methods,\n",
    "    \"--batch_key\", batch_key,\n",
    "    \"--state_key\", state_key,\n",
    "    \"--latent_dim\", latent_dim,\n",
    "    \"--mem\", \"200G\",  # Adjust memory as needed\n",
    "    \"--runtime\", \"72:00:00\",\n",
    "    \"--output_dir\", output_dir,\n",
    "    \"--device\", device,\n",
    "    \"--conda_env\", conda_env\n",
    "])"
   ]
  },
  {
   "cell_type": "code",
   "execution_count": 11,
   "id": "fd72e3e0",
   "metadata": {},
   "outputs": [
    {
     "name": "stdout",
     "output_type": "stream",
     "text": [
      "📌  Run “../jobs/benchmark_pbmc_atac/submit_all_pbmc_atac.sh” to queue every job.\n"
     ]
    }
   ],
   "source": [
    "proj_folder = Path(output_dir) / f\"benchmark_{proj_name}\"   # ../jobs/benchmark_<proj>\n",
    "proj_folder.mkdir(exist_ok=True)                      # defensive\n",
    "\n",
    "submit_all = proj_folder / f\"submit_all_{proj_name}.sh\"\n",
    "with submit_all.open(\"w\") as f:\n",
    "    f.write(\"#!/bin/bash\\n\")\n",
    "    f.write(\"# Auto-generated — submits every job for this project\\n\")\n",
    "    f.write(\"# Run from this folder, or let the script cd into it.\\n\\n\")\n",
    "    f.write('cd \"$(dirname \"$0\")\"\\n\\n')          # ensures we’re in the right dir\n",
    "    for sh_file in sorted(proj_folder.glob(f\"benchmark_{proj_name}_*.sh\")):\n",
    "        f.write(f'qsub \"{sh_file.name}\"\\n')\n",
    "\n",
    "submit_all.chmod(0o755)\n",
    "print(f\"📌  Run “{submit_all}” to queue every job.\")"
   ]
  }
 ],
 "metadata": {
  "kernelspec": {
   "display_name": "cellpath",
   "language": "python",
   "name": "python3"
  },
  "language_info": {
   "codemirror_mode": {
    "name": "ipython",
    "version": 3
   },
   "file_extension": ".py",
   "mimetype": "text/x-python",
   "name": "python",
   "nbconvert_exporter": "python",
   "pygments_lexer": "ipython3",
   "version": "3.9.18"
  }
 },
 "nbformat": 4,
 "nbformat_minor": 5
}
