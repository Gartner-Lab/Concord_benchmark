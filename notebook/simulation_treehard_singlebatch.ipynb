{
 "cells": [
  {
   "cell_type": "markdown",
   "metadata": {},
   "source": [
    "# Simulation using Concord"
   ]
  },
  {
   "cell_type": "code",
   "execution_count": 1,
   "metadata": {},
   "outputs": [],
   "source": [
    "%load_ext autoreload\n",
    "%autoreload 2"
   ]
  },
  {
   "cell_type": "code",
   "execution_count": 2,
   "metadata": {},
   "outputs": [],
   "source": [
    "import numpy as np\n",
    "import scanpy as sc\n",
    "import time\n",
    "from pathlib import Path\n",
    "import torch\n",
    "import concord as ccd\n",
    "import warnings\n",
    "warnings.filterwarnings('ignore')\n",
    "%matplotlib inline\n",
    "import matplotlib as mpl\n",
    "import matplotlib.pyplot as plt\n",
    "\n",
    "from matplotlib import font_manager, rcParams\n",
    "custom_rc = {\n",
    "    'font.family': 'Arial',  # Set the desired font for this plot\n",
    "}\n",
    "\n",
    "mpl.rcParams['svg.fonttype'] = 'none'\n",
    "mpl.rcParams['pdf.fonttype'] = 42"
   ]
  },
  {
   "cell_type": "code",
   "execution_count": 3,
   "metadata": {},
   "outputs": [
    {
     "name": "stdout",
     "output_type": "stream",
     "text": [
      "cpu\n"
     ]
    },
    {
     "data": {
      "text/plain": [
       "'Aug16-2021'"
      ]
     },
     "execution_count": 3,
     "metadata": {},
     "output_type": "execute_result"
    }
   ],
   "source": [
    "proj_name = \"simulation_treehard_singlebatch\"\n",
    "save_dir = f\"../save/dev_{proj_name}-{time.strftime('%b%d')}/\"\n",
    "save_dir = Path(save_dir)\n",
    "save_dir.mkdir(parents=True, exist_ok=True)\n",
    "\n",
    "data_dir = f\"../data/{proj_name}/\"\n",
    "data_dir = Path(data_dir)\n",
    "data_dir.mkdir(parents=True, exist_ok=True)\n",
    "device = torch.device('cuda:3' if torch.cuda.is_available() else 'cpu')\n",
    "print(device)\n",
    "seed = 0\n",
    "ccd.ul.set_seed(seed)\n",
    "\n",
    "file_suffix = f\"{time.strftime('%b%d-%H%M')}\"\n",
    "file_suffix"
   ]
  },
  {
   "cell_type": "code",
   "execution_count": 4,
   "metadata": {},
   "outputs": [],
   "source": [
    "group_key = 'depth'\n",
    "batch_key = 'batch'\n",
    "state_key = 'branch'\n",
    "leiden_key = 'leiden_no_noise'\n",
    "time_key = 'time'\n",
    "state_type = 'tree'\n",
    "batch_type = 'batch_specific_features'\n",
    "distribution = 'normal'\n",
    "\n",
    "concord_methods = [\"contrastive\", 'concord_hcl', 'concord_knn']\n",
    "other_methods = [\n",
    "    \"PCA\", \"UMAP\", \"t-SNE\", \"DiffusionMap\", \"NMF\", \n",
    "    \"FactorAnalysis\", \"FastICA\", \"LDA\", \"scVI\", \"PHATE\", \n",
    "]\n",
    "run_methods = concord_methods + other_methods\n",
    "# exclude [\"UMAP\", \"t-SNE\"] from run_method, and save as combined_keys\n",
    "exclude_keys = [\"PCA\", \"UMAP\", \"t-SNE\"]\n",
    "combined_methods = ['no_noise', 'wt_noise'] + [key for key in run_methods if key not in exclude_keys]"
   ]
  },
  {
   "cell_type": "code",
   "execution_count": null,
   "metadata": {},
   "outputs": [],
   "source": [
    "from concord.simulation import (\n",
    "    Simulation,\n",
    "    SimConfig,\n",
    "    TreeConfig,\n",
    "    BatchConfig,\n",
    ")\n",
    "\n",
    "# ── 1. global settings ──────────────────────────────────────────────\n",
    "sim_cfg = SimConfig(\n",
    "    n_cells = 6_000,\n",
    "    n_genes = 3_000,\n",
    "    seed    = 42,\n",
    "    non_neg = True,\n",
    "    to_int  = True,\n",
    ")\n",
    "\n",
    "# ── 2. state / tree settings ───────────────────────────────────────\n",
    "tree_cfg = TreeConfig(\n",
    "    # generic state parameters\n",
    "    distribution   = \"normal\",\n",
    "    level          = 10,      # <- state_level\n",
    "    min_level      = 1,       # <- state_min_level\n",
    "    dispersion     = 5.0,     # <- state_dispersion\n",
    "\n",
    "    # tree-specific knobs (straight copy of your old call)\n",
    "    branching_factor        = [3, 5, 8],\n",
    "    depth                   = 3,\n",
    "    program_structure       = \"linear_increasing\",\n",
    "    program_on_time_fraction= 0.2,\n",
    "    program_decay           = 0.4,\n",
    "    cellcount_decay         = 0.5,\n",
    "    # program_gap_size, noise_in_block, initial_inherited_genes keep defaults\n",
    ")\n",
    "\n",
    "# ── 3. batch settings (only one batch in the old call) ─────────────\n",
    "batch_cfg = BatchConfig(\n",
    "    n_batches    = 1,\n",
    "    effect_type  = \"batch_specific_features\",\n",
    "    distribution = \"normal\",\n",
    "    level        = 10,        # same value for the single batch\n",
    "    dispersion   = 5.0,\n",
    "    feature_frac = 0.1,       # → 0.1 was the old default; change if needed\n",
    "    # cell_proportion defaults to [1.0] because n_batches == 1\n",
    ")\n",
    "\n",
    "# ── 4. run the simulation ──────────────────────────────────────────\n",
    "sim   = Simulation(sim_cfg, tree_cfg, batch_cfg)\n",
    "adata, adata_state = sim.simulate_data()\n",
    "\n",
    "adata.layers[\"counts\"] = adata.X.copy()\n"
   ]
  },
  {
   "cell_type": "code",
   "execution_count": null,
   "metadata": {},
   "outputs": [],
   "source": [
    "ccd.pl.heatmap_with_annotations(adata, val='no_noise', obs_keys=[state_key], yticklabels=False, cluster_cols=False, cluster_rows=False, value_annot=False, cmap='viridis', title='True state', save_path=save_dir/f'true_state_heatmap_{file_suffix}.svg', figsize=(6, 4), dpi=300)\n",
    "ccd.pl.heatmap_with_annotations(adata, val='wt_noise', obs_keys=[state_key], yticklabels=False, cluster_cols=False, cluster_rows=False, value_annot=False, cmap='viridis', title='True state with noise', save_path=save_dir/f'true_state_with_noise_heatmap_{file_suffix}.svg', figsize=(6, 4), dpi=300)\n",
    "ccd.pl.heatmap_with_annotations(adata, val='X', obs_keys=[state_key, batch_key], yticklabels=False, cluster_cols=False, cluster_rows=False, value_annot=False, cmap='viridis', title='Simulated data with batch signal', save_path=save_dir/f'simulated_data_heatmap_{file_suffix}.svg', figsize=(6, 4), dpi=300)"
   ]
  },
  {
   "cell_type": "markdown",
   "metadata": {},
   "source": [
    "### Run dimension reduction"
   ]
  },
  {
   "cell_type": "code",
   "execution_count": null,
   "metadata": {},
   "outputs": [],
   "source": [
    "# adata = sc.read(data_dir / f\"adata_Feb07-1524.h5ad\")\n",
    "# adata_state = sc.read(data_dir / f\"adata_state_Feb07-1524.h5ad\")\n",
    "adata = sc.read(data_dir / f\"adata_Jul20-2008.h5ad\")\n",
    "adata_state = sc.read(data_dir / f\"adata_Jul20-2008.h5ad\")"
   ]
  },
  {
   "cell_type": "code",
   "execution_count": null,
   "metadata": {},
   "outputs": [],
   "source": [
    "import matplotlib.pyplot as plt\n",
    "figsize = (2.3, 1.8)\n",
    "ncols = 6\n",
    "title_fontsize = 9\n",
    "dpi = 600\n",
    "_, _, state_pal = ccd.pl.get_color_mapping(adata, state_key, pal='Paired', seed=seed)\n",
    "_, _, batch_pal = ccd.pl.get_color_mapping(adata, batch_key, pal='Set1', seed=seed)\n",
    "pal = {state_key: state_pal, batch_key: batch_pal}\n",
    "color_bys = [state_key, batch_key]"
   ]
  },
  {
   "cell_type": "code",
   "execution_count": null,
   "metadata": {},
   "outputs": [],
   "source": [
    "latent_dim = 100\n",
    "ccd.ul.run_pca(adata, source_key='no_noise', result_key='PCA_no_noise', n_pc=latent_dim, random_state=seed)\n",
    "ccd.ul.run_umap(adata, source_key='no_noise', result_key='UMAP_no_noise', random_state=seed)\n",
    "sc.pp.neighbors(adata, use_rep='PCA_no_noise', n_neighbors=30, random_state=seed)\n",
    "adata.obsm['no_noise'] = adata.layers['no_noise']\n",
    "adata.obsm['wt_noise'] = adata.layers['wt_noise']"
   ]
  },
  {
   "cell_type": "code",
   "execution_count": null,
   "metadata": {},
   "outputs": [],
   "source": [
    "concord_kwargs = {\n",
    "    'latent_dim': latent_dim,\n",
    "    'batch_size':32,\n",
    "    'n_epochs': 10,\n",
    "    'element_mask_prob': 0.3,\n",
    "    'feature_mask_prob': 0.0,\n",
    "    'load_data_into_memory': True,\n",
    "    'verbose': False,\n",
    "}\n",
    "\n",
    "bench_res = ccd.bm.run_dimensionality_reduction_pipeline(\n",
    "    adata,\n",
    "    source_key=\"X\",\n",
    "    methods=run_methods,\n",
    "    n_components=latent_dim,\n",
    "    seed=seed,\n",
    "    device=device,\n",
    "    save_dir=save_dir,\n",
    "    concord_kwargs=concord_kwargs,\n",
    ")"
   ]
  },
  {
   "cell_type": "code",
   "execution_count": null,
   "metadata": {},
   "outputs": [],
   "source": [
    "# Use previous knn result for consistency\n",
    "adata.obsm['concord_knn'] = adata.obsm['Concord_p_intra_knn_0.3']"
   ]
  },
  {
   "cell_type": "code",
   "execution_count": null,
   "metadata": {},
   "outputs": [],
   "source": [
    "# Run umap and PCA for all latent embeddings\n",
    "for basis in combined_methods:\n",
    "    if 'UMAP' in basis or 't-SNE' in basis:\n",
    "        continue  # Skip UMAP and t-SNE for now\n",
    "    print(\"Running UMAP for\", basis)\n",
    "    #if 'UMAP' not in basis:\n",
    "    ccd.ul.run_umap(adata, source_key=basis, result_key=f'{basis}_UMAP', n_components=2, n_neighbors=30, min_dist=0.5, metric='euclidean', random_state=seed)"
   ]
  },
  {
   "cell_type": "code",
   "execution_count": null,
   "metadata": {},
   "outputs": [],
   "source": [
    "adata.write_h5ad(data_dir / f\"adata_{file_suffix}.h5ad\")\n",
    "print(\"Data saved to\", data_dir / f\"adata_{file_suffix}.h5ad\")\n",
    "adata_state.write_h5ad(data_dir / f\"adata_state_{file_suffix}.h5ad\")\n",
    "print(\"State data saved to\", data_dir / f\"adata_state_{file_suffix}.h5ad\")\n",
    "bench_res.to_csv(save_dir / f\"benchmark_results_{file_suffix}.csv\", index=False)\n",
    "print(\"Benchmark results saved to\", save_dir / f\"benchmark_results_{file_suffix}.csv\")"
   ]
  },
  {
   "cell_type": "code",
   "execution_count": null,
   "metadata": {},
   "outputs": [],
   "source": [
    "# Highlight cells in branch 0_4 in global knn\n",
    "show_branch = '2_0'\n",
    "hl_cells = adata.obs['branch'].str.startswith(show_branch)\n",
    "hl_cell_indices = np.where(hl_cells)[0]\n",
    "font_size=8\n",
    "point_size=1\n",
    "alpha=0.8\n",
    "figsize=(0.9*len(combined_methods),1)\n",
    "ncols = len(combined_methods)\n",
    "nrows = 1\n",
    "k=15\n",
    "edges_color='grey'\n",
    "edges_width=0.01\n",
    "layout='kk'\n",
    "threshold = 0.1\n",
    "node_size_scale=0.1\n",
    "edge_width_scale=0.1\n",
    "with plt.rc_context(rc=custom_rc):\n",
    "    ccd.pl.plot_all_embeddings(\n",
    "        adata,\n",
    "        combined_methods,\n",
    "        color_bys=color_bys,\n",
    "        basis_types=basis_types,\n",
    "        pal=pal,\n",
    "        k=k,\n",
    "        edges_color=edges_color,\n",
    "        edges_width=edges_width,\n",
    "        layout=layout,\n",
    "        threshold=threshold,\n",
    "        node_size_scale=node_size_scale,\n",
    "        edge_width_scale=edge_width_scale,\n",
    "        font_size=font_size,\n",
    "        point_size=point_size,\n",
    "        alpha=alpha,\n",
    "        figsize=figsize,\n",
    "        ncols=ncols,\n",
    "        seed=seed,\n",
    "        leiden_key='leiden',\n",
    "        save_dir=save_dir,\n",
    "        highlight_indices = hl_cell_indices,\n",
    "        highlight_size=point_size,\n",
    "        file_suffix=file_suffix+f'hl_cells_branch{show_branch}',\n",
    "        save_format='pdf'\n",
    "    )\n"
   ]
  },
  {
   "cell_type": "code",
   "execution_count": null,
   "metadata": {},
   "outputs": [],
   "source": [
    "show_branches = adata[adata.obs['depth']==1].obs['branch'].unique()\n",
    "show_keys = [] \n",
    "for key in combined_methods:\n",
    "    key_new = f\"p_knn={key.split('_')[-1]}\" if 'p_intra_knn' in key else key\n",
    "    #adata.obsm[key_new] = adata.obsm[key]\n",
    "    show_keys.append(key_new)\n",
    "\n",
    "for show_branch in show_branches:\n",
    "    # Change the names of combined_keys for easy plotting, like Concord_p_intra_knn_0.0 to p_knn=0.0\n",
    "    adata_sub = adata[adata.obs['branch'].str.startswith(show_branch)].copy()\n",
    "\n",
    "    basis_types = ['KNN']\n",
    "    font_size=8\n",
    "    point_size=20\n",
    "    alpha=0.8\n",
    "    figsize=(0.9*len(combined_methods),1)\n",
    "    ncols = len(combined_methods)\n",
    "    nrows = 1\n",
    "    k=15\n",
    "\n",
    "    with plt.rc_context(rc=custom_rc):\n",
    "        ccd.pl.plot_all_embeddings(\n",
    "            adata_sub,\n",
    "            show_keys,\n",
    "            color_bys=color_bys,\n",
    "            basis_types=basis_types,\n",
    "            pal=pal,\n",
    "            k=k,\n",
    "            edges_color=edges_color,\n",
    "            edges_width=edges_width,\n",
    "            layout=layout,\n",
    "            threshold=threshold,\n",
    "            node_size_scale=node_size_scale,\n",
    "            edge_width_scale=edge_width_scale,\n",
    "            font_size=font_size,\n",
    "            point_size=point_size,\n",
    "            alpha=alpha,\n",
    "            figsize=figsize,\n",
    "            ncols=ncols,\n",
    "            seed=seed,\n",
    "            leiden_key='leiden',\n",
    "            save_dir=save_dir,\n",
    "            file_suffix= 'allmethods_' + file_suffix + f'_branch{show_branch}',\n",
    "            save_format='pdf'\n",
    "        )\n"
   ]
  },
  {
   "cell_type": "markdown",
   "metadata": {},
   "source": [
    "### Concord-kNN"
   ]
  },
  {
   "cell_type": "code",
   "execution_count": null,
   "metadata": {},
   "outputs": [],
   "source": [
    "import copy\n",
    "concord_args_base = {\n",
    "    'latent_dim': 100,\n",
    "    'encoder_dims':[300],\n",
    "    'decoder_dims':[300],\n",
    "    'batch_size':16,\n",
    "    'n_epochs': 10,\n",
    "    'p_intra_knn': 0.0,\n",
    "    'element_mask_prob': 0.3,\n",
    "    'feature_mask_prob': 0.0,\n",
    "    'clr_temperature':0.2,\n",
    "    'sampler_knn':100,\n",
    "    'domain_key': batch_key,\n",
    "    'seed': seed,\n",
    "    'device': device,\n",
    "    'save_dir': save_dir, \n",
    "    'load_data_into_memory': True,\n",
    "    'verbose': False,\n",
    "}"
   ]
  },
  {
   "cell_type": "code",
   "execution_count": null,
   "metadata": {},
   "outputs": [],
   "source": [
    "param_variations = {\n",
    "    'p_intra_knn': [0.0, 0.1, 0.2, 0.3, 0.4, 0.5, 0.6, 0.7, 0.8, 0.9, 1.0],  # Example: vary p_intra_knn\n",
    "    #'p_intra_knn': [0.0, 0.1, 0.2, 0.3, 0.5, 0.7, 1.0 ],  # Example: vary p_intra_knn\n",
    "}\n",
    "param_keys = []\n",
    "# -------------------------------------\n",
    "# 3. Loop over each parameter to vary\n",
    "# -------------------------------------\n",
    "for param_name, values in param_variations.items():\n",
    "    print(f\"\\n[INFO] Varying '{param_name}' with possible values: {values}\\n\")\n",
    "    \n",
    "    for value in values:\n",
    "        # 3a. Copy the base arguments\n",
    "        concord_args = copy.deepcopy(concord_args_base)\n",
    "        \n",
    "        # 3b. Update the specific parameter we want to vary\n",
    "        concord_args[param_name] = value\n",
    "        \n",
    "        # 3c. Indicate which param is varied and to which value\n",
    "        output_key = f\"Concord_{param_name}_{value}\"\n",
    "        umap_key   = output_key + '_UMAP'\n",
    "        param_keys.append(output_key)\n",
    "        print(f\"[INFO] Running Concord with {param_name} = {value}\")\n",
    "        \n",
    "        # -------------------------------------\n",
    "        # 4. Run Concord\n",
    "        # -------------------------------------\n",
    "        cur_ccd = ccd.Concord(adata, **concord_args)\n",
    "\n",
    "        # Encode data, saving the latent embedding in adata.obsm[output_key]\n",
    "        cur_ccd.fit_transform(\n",
    "            output_key=output_key,\n",
    "        )       \n",
    "\n",
    "print(\"[DONE] Finished varying each parameter individually.\")\n"
   ]
  },
  {
   "cell_type": "code",
   "execution_count": null,
   "metadata": {},
   "outputs": [],
   "source": [
    "combined_keys = ['no_noise', 'wt_noise'] + param_keys\n",
    "for key in combined_keys:\n",
    "    ccd.ul.run_umap(adata, source_key=key, result_key=key + '_UMAP', random_state=seed, min_dist=0.5)"
   ]
  },
  {
   "cell_type": "code",
   "execution_count": null,
   "metadata": {},
   "outputs": [],
   "source": [
    "show_branches = adata[adata.obs['depth']==1].obs['branch'].unique()\n",
    "show_keys = [] \n",
    "for key in combined_keys:\n",
    "    key_new = f\"p_knn={key.split('_')[-1]}\" if 'p_intra_knn' in key else key\n",
    "    #adata.obsm[key_new] = adata.obsm[key]\n",
    "    show_keys.append(key_new)\n",
    "\n",
    "for show_branch in show_branches:\n",
    "    # Change the names of combined_keys for easy plotting, like Concord_p_intra_knn_0.0 to p_knn=0.0\n",
    "    adata_sub = adata[adata.obs['branch'].str.startswith(show_branch)].copy()\n",
    "\n",
    "    basis_types = ['KNN']\n",
    "    font_size=8\n",
    "    point_size=20\n",
    "    alpha=0.8\n",
    "    figsize=(0.9*len(combined_keys),1)\n",
    "    ncols = len(combined_keys)\n",
    "    nrows = int(np.ceil(len(param_keys) / ncols))\n",
    "    k=15\n",
    "\n",
    "    with plt.rc_context(rc=custom_rc):\n",
    "        ccd.pl.plot_all_embeddings(\n",
    "            adata_sub,\n",
    "            show_keys,\n",
    "            color_bys=color_bys,\n",
    "            basis_types=basis_types,\n",
    "            pal=pal,\n",
    "            k=k,\n",
    "            edges_color=edges_color,\n",
    "            edges_width=edges_width,\n",
    "            layout=layout,\n",
    "            threshold=threshold,\n",
    "            node_size_scale=node_size_scale,\n",
    "            edge_width_scale=edge_width_scale,\n",
    "            font_size=font_size,\n",
    "            point_size=point_size,\n",
    "            alpha=alpha,\n",
    "            figsize=figsize,\n",
    "            ncols=ncols,\n",
    "            seed=seed,\n",
    "            leiden_key='leiden',\n",
    "            save_dir=save_dir,\n",
    "            file_suffix=file_suffix + f'_branch{show_branch}',\n",
    "            save_format='pdf'\n",
    "        )\n"
   ]
  },
  {
   "cell_type": "code",
   "execution_count": null,
   "metadata": {},
   "outputs": [],
   "source": [
    "# Highlight cells in branch 0_4 in global knn\n",
    "show_branch = '2_0'\n",
    "hl_cells = adata.obs['branch'].str.startswith(show_branch)\n",
    "hl_cell_indices = np.where(hl_cells)[0]\n",
    "font_size=8\n",
    "point_size=1\n",
    "alpha=0.8\n",
    "figsize=(0.9*len(combined_keys),1)\n",
    "ncols = len(combined_keys)\n",
    "nrows = int(np.ceil(len(param_keys) / ncols))\n",
    "k=15\n",
    "edges_color='grey'\n",
    "edges_width=0.01\n",
    "layout='kk'\n",
    "threshold = 0.1\n",
    "node_size_scale=0.1\n",
    "edge_width_scale=0.1\n",
    "with plt.rc_context(rc=custom_rc):\n",
    "    ccd.pl.plot_all_embeddings(\n",
    "        adata,\n",
    "        combined_keys,\n",
    "        color_bys=color_bys,\n",
    "        basis_types=basis_types,\n",
    "        pal=pal,\n",
    "        k=k,\n",
    "        edges_color=edges_color,\n",
    "        edges_width=edges_width,\n",
    "        layout=layout,\n",
    "        threshold=threshold,\n",
    "        node_size_scale=node_size_scale,\n",
    "        edge_width_scale=edge_width_scale,\n",
    "        font_size=font_size,\n",
    "        point_size=point_size,\n",
    "        alpha=alpha,\n",
    "        figsize=figsize,\n",
    "        ncols=ncols,\n",
    "        seed=seed,\n",
    "        leiden_key='leiden',\n",
    "        save_dir=save_dir,\n",
    "        highlight_indices = hl_cell_indices,\n",
    "        highlight_size=point_size,\n",
    "        file_suffix=file_suffix+f'hl_cells_branch{show_branch}',\n",
    "        save_format='pdf'\n",
    "    )\n"
   ]
  },
  {
   "cell_type": "markdown",
   "metadata": {},
   "source": [
    "### Concord-hcl"
   ]
  },
  {
   "cell_type": "code",
   "execution_count": null,
   "metadata": {},
   "outputs": [],
   "source": [
    "# Zoom in to one of the branches\n",
    "import copy\n",
    "concord_args_base = {\n",
    "    'latent_dim': 100,\n",
    "    'batch_size':32,\n",
    "    'n_epochs': 10,\n",
    "    'p_intra_knn': 0.0,\n",
    "    'clr_beta': 1.0,\n",
    "    'element_mask_prob': 0.3,\n",
    "    'feature_mask_prob': 0.0,\n",
    "    'domain_key': batch_key,\n",
    "    'seed': seed,\n",
    "    'device': device,\n",
    "    'save_dir': save_dir, \n",
    "    'load_data_into_memory': True,\n",
    "    'verbose': False,\n",
    "}"
   ]
  },
  {
   "cell_type": "code",
   "execution_count": null,
   "metadata": {},
   "outputs": [],
   "source": [
    "param_variations = {\n",
    "    'clr_beta': [0.0, 0.5, 1.0, 2.0, 10.0, 20.0],  # Example: vary clr_beta\n",
    "}\n",
    "param_keys = []\n",
    "\n",
    "for param_name, values in param_variations.items():\n",
    "    print(f\"\\n[INFO] Varying '{param_name}' with possible values: {values}\\n\")\n",
    "    \n",
    "    for value in values:\n",
    "        concord_args = copy.deepcopy(concord_args_base)\n",
    "        concord_args[param_name] = value\n",
    "        output_key = f\"Concord_{param_name}_{value}\"\n",
    "        umap_key   = output_key + '_UMAP'\n",
    "        param_keys.append(output_key)\n",
    "        print(f\"[INFO] Running Concord with {param_name} = {value}\")\n",
    "        \n",
    "        cur_ccd = ccd.Concord(adata, **concord_args)\n",
    "        cur_ccd.fit_transform(\n",
    "            output_key=output_key,\n",
    "        )       \n",
    "\n",
    "print(\"[DONE] Finished varying each parameter individually.\")\n"
   ]
  },
  {
   "cell_type": "code",
   "execution_count": null,
   "metadata": {},
   "outputs": [],
   "source": [
    "combined_keys = ['no_noise', 'wt_noise'] + param_keys\n",
    "for key in combined_keys:\n",
    "    ccd.ul.run_umap(adata, source_key=key, result_key=key + '_UMAP', random_state=seed, min_dist=0.5)"
   ]
  },
  {
   "cell_type": "code",
   "execution_count": null,
   "metadata": {},
   "outputs": [],
   "source": [
    "show_keys = [] \n",
    "for key in combined_keys:\n",
    "    key_new = f\"beta={key.split('_')[-1]}\" if 'clr_beta' in key else key\n",
    "    adata.obsm[key_new] = adata.obsm[key]\n",
    "    show_keys.append(key_new)\n"
   ]
  },
  {
   "cell_type": "code",
   "execution_count": null,
   "metadata": {},
   "outputs": [],
   "source": [
    "show_branches = adata[adata.obs['depth']==1].obs['branch'].unique()\n",
    "\n",
    "for show_branch in show_branches:\n",
    "    # Change the names of combined_keys for easy plotting, like Concord_p_intra_knn_0.0 to p_knn=0.0\n",
    "    adata_sub = adata[adata.obs['branch'].str.startswith(show_branch)].copy()\n",
    "\n",
    "    basis_types = ['KNN']\n",
    "    font_size=8\n",
    "    point_size=20\n",
    "    alpha=0.8\n",
    "    figsize=(0.9*len(show_keys),1)\n",
    "    ncols = len(show_keys)\n",
    "    nrows = int(np.ceil(len(param_keys) / ncols))\n",
    "    k=15\n",
    "\n",
    "    with plt.rc_context(rc=custom_rc):\n",
    "        ccd.pl.plot_all_embeddings(\n",
    "            adata_sub,\n",
    "            show_keys,\n",
    "            color_bys=color_bys,\n",
    "            basis_types=basis_types,\n",
    "            pal=pal,\n",
    "            k=k,\n",
    "            edges_color=edges_color,\n",
    "            edges_width=edges_width,\n",
    "            layout=layout,\n",
    "            threshold=threshold,\n",
    "            node_size_scale=node_size_scale,\n",
    "            edge_width_scale=edge_width_scale,\n",
    "            font_size=font_size,\n",
    "            point_size=point_size,\n",
    "            alpha=alpha,\n",
    "            figsize=figsize,\n",
    "            ncols=ncols,\n",
    "            seed=seed,\n",
    "            leiden_key='leiden',\n",
    "            save_dir=save_dir,\n",
    "            file_suffix='hcl' + file_suffix + f'_branch{show_branch}',\n",
    "            save_format='pdf'\n",
    "        )\n"
   ]
  },
  {
   "cell_type": "code",
   "execution_count": null,
   "metadata": {},
   "outputs": [],
   "source": [
    "show_branch = '2_0'\n",
    "hl_cells = adata.obs['branch'].str.startswith(show_branch)\n",
    "hl_cell_indices = np.where(hl_cells)[0]\n",
    "font_size=8\n",
    "point_size=1\n",
    "alpha=0.8\n",
    "figsize=(0.9*len(show_keys),1)\n",
    "ncols = len(show_keys)\n",
    "nrows = 1\n",
    "k=15\n",
    "edges_color='grey'\n",
    "edges_width=0.01\n",
    "layout='kk'\n",
    "threshold = 0.1\n",
    "node_size_scale=0.1\n",
    "edge_width_scale=0.1\n",
    "basis_types = ['KNN']\n",
    "with plt.rc_context(rc=custom_rc):\n",
    "    ccd.pl.plot_all_embeddings(\n",
    "        adata,\n",
    "        show_keys,\n",
    "        color_bys=color_bys,\n",
    "        basis_types=basis_types,\n",
    "        pal=pal,\n",
    "        k=k,\n",
    "        edges_color=edges_color,\n",
    "        edges_width=edges_width,\n",
    "        layout=layout,\n",
    "        threshold=threshold,\n",
    "        node_size_scale=node_size_scale,\n",
    "        edge_width_scale=edge_width_scale,\n",
    "        font_size=font_size,\n",
    "        point_size=point_size,\n",
    "        alpha=alpha,\n",
    "        figsize=figsize,\n",
    "        ncols=ncols,\n",
    "        seed=seed,\n",
    "        leiden_key='leiden',\n",
    "        save_dir=save_dir,\n",
    "        highlight_indices = hl_cell_indices,\n",
    "        highlight_size=point_size,\n",
    "        file_suffix=file_suffix+f'clr_hl_cells_branch{show_branch}',\n",
    "        save_format='pdf'\n",
    "    )\n"
   ]
  },
  {
   "cell_type": "markdown",
   "metadata": {},
   "source": [
    "### Visualize heatmap"
   ]
  },
  {
   "cell_type": "code",
   "execution_count": null,
   "metadata": {},
   "outputs": [],
   "source": [
    "# sort and smooth the signal along the path\n",
    "batch_id=adata.obs['batch'].unique()[0]\n",
    "batch_indices = np.where(adata.obs['batch'] == batch_id)[0]\n",
    "_, _, _, feature_order = ccd.ul.sort_and_smooth_signal_along_path(adata, signal_key='contrastive', path=batch_indices, sigma=2)\n",
    "adata.obsm['contrastive_sorted'] = adata.obsm['contrastive'][:, feature_order]\n",
    "\n",
    "_, _, _, feature_order = ccd.ul.sort_and_smooth_signal_along_path(adata, signal_key='concord_hcl', path=batch_indices, sigma=2)\n",
    "adata.obsm['concord_hcl_sorted'] = adata.obsm['concord_hcl'][:, feature_order]\n",
    "\n",
    "_, _, _, feature_order = ccd.ul.sort_and_smooth_signal_along_path(adata, signal_key='concord_knn', path=batch_indices, sigma=2)\n",
    "adata.obsm['concord_knn_sorted'] = adata.obsm['concord_knn'][:, feature_order]"
   ]
  },
  {
   "cell_type": "code",
   "execution_count": null,
   "metadata": {},
   "outputs": [],
   "source": [
    "# Plot heatmap of original data and Concord latent\n",
    "import matplotlib.pyplot as plt\n",
    "figsize = (2.3, 1.8)\n",
    "ncols = 6\n",
    "title_fontsize = 9\n",
    "dpi = 600\n",
    "_, _, state_pal = ccd.pl.get_color_mapping(adata, state_key, pal='Paired', seed=seed)\n",
    "_, _, batch_pal = ccd.pl.get_color_mapping(adata, batch_key, pal='Set1', seed=seed)\n",
    "pal = {state_key: state_pal, batch_key: batch_pal}\n",
    "with plt.rc_context(rc=custom_rc):\n",
    "    fig, axes = plt.subplots(1, ncols, figsize=(figsize[0] * ncols, figsize[1]), dpi=dpi)\n",
    "    ccd.pl.heatmap_with_annotations(adata, val='no_noise', obs_keys=[state_key], pal=pal, ax = axes[0], use_clustermap=False, yticklabels=False, cluster_cols=False, cluster_rows=False, value_annot=False, cmap='viridis', title='State', save_path=None, figsize=figsize, dpi=dpi, title_fontsize=title_fontsize)\n",
    "    ccd.pl.heatmap_with_annotations(adata, val='wt_noise', obs_keys=[state_key], pal=pal, ax = axes[1], use_clustermap=False, yticklabels=False, cluster_cols=False, cluster_rows=False, value_annot=False, cmap='viridis', title='State+noise', save_path=None, figsize=figsize, dpi=dpi, title_fontsize=title_fontsize)\n",
    "    ccd.pl.heatmap_with_annotations(adata, val='X', obs_keys=[state_key, batch_key], pal=pal, ax = axes[2], use_clustermap=False, yticklabels=False, cluster_cols=False, cluster_rows=False, value_annot=False, cmap='viridis', title='State+noise+batch', save_path=None, figsize=figsize, dpi=dpi, title_fontsize=title_fontsize)\n",
    "    ccd.pl.heatmap_with_annotations(adata, val='contrastive_sorted', obs_keys=[state_key, batch_key], pal=pal, ax = axes[3], use_clustermap=False, yticklabels=False, cluster_cols=False, cluster_rows=False, value_annot=False, cmap='viridis', title='Contrastive', save_path=None, figsize=figsize, dpi=dpi, title_fontsize=title_fontsize)\n",
    "    ccd.pl.heatmap_with_annotations(adata, val='concord_hcl_sorted', obs_keys=[state_key, batch_key], pal=pal, ax = axes[4], use_clustermap=False, yticklabels=False, cluster_cols=False, cluster_rows=False, value_annot=False, cmap='viridis', title='Concord_hcl', save_path=None, figsize=figsize, dpi=dpi, title_fontsize=title_fontsize)\n",
    "    ccd.pl.heatmap_with_annotations(adata, val='concord_knn_sorted', obs_keys=[state_key, batch_key], pal=pal, ax = axes[5], use_clustermap=False, yticklabels=False, cluster_cols=False, cluster_rows=False, value_annot=False, cmap='viridis', title='Concord_knn', save_path=None, figsize=figsize, dpi=dpi, title_fontsize=title_fontsize)\n",
    "    plt.tight_layout(w_pad=0.0, h_pad=0.1)\n",
    "    plt.savefig(save_dir / f\"all_heatmaps_{file_suffix}.svg\", dpi=dpi, bbox_inches='tight')"
   ]
  },
  {
   "cell_type": "code",
   "execution_count": null,
   "metadata": {},
   "outputs": [],
   "source": [
    "adata.write_h5ad(data_dir / f\"adata_{file_suffix}.h5ad\")\n",
    "adata_state.write_h5ad(data_dir / f\"adata_state_{file_suffix}.h5ad\")\n",
    "\n",
    "print(\"Data saved to\", data_dir / f\"adata_{file_suffix}.h5ad\")\n",
    "print(\"State data saved to\", data_dir / f\"adata_state_{file_suffix}.h5ad\")"
   ]
  },
  {
   "cell_type": "markdown",
   "metadata": {},
   "source": [
    "## Evaluation"
   ]
  },
  {
   "cell_type": "code",
   "execution_count": 5,
   "metadata": {},
   "outputs": [],
   "source": [
    "adata = sc.read(data_dir / f\"adata_Jul20-2008.h5ad\")"
   ]
  },
  {
   "cell_type": "code",
   "execution_count": 6,
   "metadata": {},
   "outputs": [
    {
     "data": {
      "text/plain": [
       "(4620, 1471)"
      ]
     },
     "execution_count": 6,
     "metadata": {},
     "output_type": "execute_result"
    }
   ],
   "source": [
    "adata.shape"
   ]
  },
  {
   "cell_type": "code",
   "execution_count": null,
   "metadata": {},
   "outputs": [],
   "source": [
    "concord_methods = [\"contrastive\", 'concord_hcl', 'concord_knn']\n",
    "other_methods = [\n",
    "    \"PCA\", \"UMAP\", \"t-SNE\", \"DiffusionMap\", \"NMF\", \n",
    "    \"FactorAnalysis\", \"FastICA\", \"LDA\", \"scVI\", \"PHATE\", \n",
    "]\n",
    "run_methods = concord_methods + other_methods\n",
    "# exclude [\"UMAP\", \"t-SNE\"] from run_method, and save as combined_keys\n",
    "exclude_keys = [\"PCA\", \"UMAP\", \"t-SNE\"]\n",
    "main_methods = ['no_noise', 'wt_noise'] + [key for key in run_methods if key not in exclude_keys]\n",
    "hcl_param_keys = ['beta=0.5', 'beta=1.0', 'beta=2.0', 'beta=10.0']  # Example: vary beta\n",
    "knn_param_keys = ['p_knn=0.1', 'p_knn=0.3', 'p_knn=0.5', 'p_knn=0.7', 'p_knn=1.0']  # Example: vary p_intra_knn\n",
    "all_keys = main_methods + hcl_param_keys + knn_param_keys\n",
    "all_keys"
   ]
  },
  {
   "cell_type": "code",
   "execution_count": null,
   "metadata": {},
   "outputs": [],
   "source": [
    "results = ccd.bm.run_benchmark_pipeline(\n",
    "    adata,\n",
    "    embedding_keys=all_keys,\n",
    "    state_key=state_key,\n",
    "    batch_key=batch_key,\n",
    "    groundtruth_key=\"no_noise\",  # use the Leiden clusters as ground truth\n",
    "    expected_betti_numbers=[0, 0, 0],\n",
    "    save_dir=save_dir / \"benchmarks_out\",\n",
    "    file_suffix=file_suffix,  # e.g. \"2025-06-25\"\n",
    "    run=(\"geometry\"),          # run only these blocks\n",
    "    plot_individual=False,          # skip the intermediate PDFs\n",
    "    combine_plots=True,  # combine the plots into a single PDF\n",
    ")"
   ]
  },
  {
   "cell_type": "code",
   "execution_count": null,
   "metadata": {},
   "outputs": [],
   "source": [
    "import pickle\n",
    "geometry_full = pickle.load(open('../save/dev_simulation_treehard_singlebatch-Jul20/benchmarks_out/geometry_results_Jul20-2008.pkl', 'rb'))\n"
   ]
  },
  {
   "cell_type": "code",
   "execution_count": null,
   "metadata": {},
   "outputs": [],
   "source": [
    "trustworthiness_scores = geometry_full['trustworthiness']['scores']\n",
    "# Drop row with column 'Embedding' in drop_methods\n",
    "trustworthiness_scores = trustworthiness_scores[trustworthiness_scores['Embedding'].isin(hcl_param_keys + ['contrastive'])]\n",
    "with plt.rc_context(rc=custom_rc):\n",
    "    ccd.pl.plot_trustworthiness(trustworthiness_scores, text_shift=0.2, min_gap=0.002, legend=False, save_path=save_dir / f\"hcl_trustworthiness_{file_suffix}.pdf\", y_range=(0.68, 1), figsize=(2.8,1.9))"
   ]
  },
  {
   "cell_type": "code",
   "execution_count": null,
   "metadata": {},
   "outputs": [],
   "source": [
    "\n",
    "x_cut = 20\n",
    "y_cut = 0.95\n",
    "trustworthiness_zoom = trustworthiness_scores[(trustworthiness_scores['n_neighbors'] <= x_cut) & (trustworthiness_scores['Trustworthiness'] > y_cut)]\n",
    "with plt.rc_context(rc=custom_rc):\n",
    "    ccd.pl.plot_trustworthiness(trustworthiness_zoom, text_shift=0.2, min_gap=0.0, fontsize=3, legend=False, save_path=save_dir / f\"hcl_trustworthiness_zoom{x_cut}_{file_suffix}.pdf\", figsize=(1,1))"
   ]
  },
  {
   "cell_type": "code",
   "execution_count": null,
   "metadata": {},
   "outputs": [],
   "source": [
    "trustworthiness_scores = geometry_full['trustworthiness']['scores']\n",
    "trustworthiness_scores = trustworthiness_scores[trustworthiness_scores['Embedding'].isin(knn_param_keys + ['contrastive'])]\n",
    "with plt.rc_context(rc=custom_rc):\n",
    "    ccd.pl.plot_trustworthiness(trustworthiness_scores, text_shift=0.2, min_gap=0.002, legend=False, save_path=save_dir / f\"knn_trustworthiness_{file_suffix}.pdf\", y_range=(0.68, 1), figsize=(2.8,1.9))"
   ]
  },
  {
   "cell_type": "code",
   "execution_count": null,
   "metadata": {},
   "outputs": [],
   "source": [
    "\n",
    "x_cut = 20\n",
    "y_cut = 0.95\n",
    "trustworthiness_zoom = trustworthiness_scores[(trustworthiness_scores['n_neighbors'] <= x_cut) & (trustworthiness_scores['Trustworthiness'] > y_cut)]\n",
    "with plt.rc_context(rc=custom_rc):\n",
    "    ccd.pl.plot_trustworthiness(trustworthiness_zoom, text_shift=0.2, min_gap=0.0, fontsize=3, legend=False, save_path=save_dir / f\"knn_trustworthiness_zoom{x_cut}_{file_suffix}.pdf\", figsize=(1,1))"
   ]
  },
  {
   "cell_type": "code",
   "execution_count": null,
   "metadata": {},
   "outputs": [],
   "source": []
  },
  {
   "cell_type": "markdown",
   "metadata": {},
   "source": [
    "## Combine all metrics"
   ]
  },
  {
   "cell_type": "code",
   "execution_count": null,
   "metadata": {},
   "outputs": [],
   "source": [
    "# Combine all metrics into one table\n",
    "import pandas as pd\n",
    "all_scores = pd.concat([geometry_scores, connectivity_scores], axis=1)\n",
    "all_scores"
   ]
  },
  {
   "cell_type": "code",
   "execution_count": null,
   "metadata": {},
   "outputs": [],
   "source": [
    "#all_scores[('Aggregate score', 'Topology')] = all_scores[('', 'Topology Score')]\n",
    "all_scores[('Aggregate score', 'Geometry')] = all_scores[('', 'Geometric Score')]\n",
    "all_scores[('Aggregate score', 'Graph')] = all_scores[('', 'Graph Score')]\n",
    "all_scores[('Aggregate score', 'Average Score')] = all_scores[\"Aggregate score\"][[\"Geometry\", \"Graph\"]].mean(axis=1)\n",
    "# sort by average score\n",
    "all_scores.sort_values(by=[('Aggregate score', 'Average Score')], ascending=False, inplace=True)\n",
    "all_scores.drop(\n",
    "    columns=[\n",
    "        ('', 'Graph Score'),\n",
    "        ('', 'Geometric Score')\n",
    "    ],\n",
    "    inplace=True\n",
    ")\n",
    "# Save table\n",
    "all_scores.to_csv(save_dir / f\"benchmark_results_{file_suffix}.csv\")\n",
    "all_scores"
   ]
  },
  {
   "cell_type": "code",
   "execution_count": null,
   "metadata": {},
   "outputs": [],
   "source": [
    "with plt.rc_context(rc=custom_rc):\n",
    "    ccd.pl.plot_benchmark_table(all_scores, pal='PRGn', pal_agg='RdBu_r', cmap_method = 'minmax', agg_name = 'Aggregate score', save_path=save_dir / f\"all_results_{file_suffix}.pdf\", figsize=(15, 7), dpi=300)"
   ]
  },
  {
   "cell_type": "code",
   "execution_count": null,
   "metadata": {},
   "outputs": [],
   "source": []
  }
 ],
 "metadata": {
  "kernelspec": {
   "display_name": "concord",
   "language": "python",
   "name": "python3"
  },
  "language_info": {
   "codemirror_mode": {
    "name": "ipython",
    "version": 3
   },
   "file_extension": ".py",
   "mimetype": "text/x-python",
   "name": "python",
   "nbconvert_exporter": "python",
   "pygments_lexer": "ipython3",
   "version": "3.12.2"
  }
 },
 "nbformat": 4,
 "nbformat_minor": 2
}
