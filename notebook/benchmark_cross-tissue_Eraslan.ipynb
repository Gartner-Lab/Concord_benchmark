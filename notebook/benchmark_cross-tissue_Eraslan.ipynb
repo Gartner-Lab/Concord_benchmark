{
 "cells": [
  {
   "cell_type": "markdown",
   "id": "2901e439",
   "metadata": {},
   "source": [
    "# Benchmark"
   ]
  },
  {
   "cell_type": "code",
   "execution_count": 2,
   "id": "9c9ffcec",
   "metadata": {},
   "outputs": [],
   "source": [
    "%load_ext autoreload\n",
    "%autoreload 2"
   ]
  },
  {
   "cell_type": "code",
   "execution_count": 3,
   "id": "95e5e20b",
   "metadata": {},
   "outputs": [
    {
     "name": "stderr",
     "output_type": "stream",
     "text": [
      "/wynton/group/gartner/zuzhi/.conda/envs/scenv/lib/python3.13/site-packages/louvain/__init__.py:54: UserWarning: pkg_resources is deprecated as an API. See https://setuptools.pypa.io/en/latest/pkg_resources.html. The pkg_resources package is slated for removal as early as 2025-11-30. Refrain from using this package or pin to Setuptools<81.\n",
      "  from pkg_resources import get_distribution, DistributionNotFound\n"
     ]
    }
   ],
   "source": [
    "import os\n",
    "import numpy as np\n",
    "import scanpy as sc\n",
    "import time\n",
    "from pathlib import Path\n",
    "import torch\n",
    "import concord as ccd\n",
    "import warnings\n",
    "warnings.filterwarnings('ignore')\n",
    "%matplotlib inline\n",
    "import matplotlib as mpl\n",
    "\n",
    "from matplotlib import font_manager, rcParams\n",
    "custom_rc = {\n",
    "    'font.family': 'Arial',  # Set the desired font for this plot\n",
    "}\n",
    "\n",
    "mpl.rcParams['svg.fonttype'] = 'none'\n",
    "mpl.rcParams['pdf.fonttype'] = 42"
   ]
  },
  {
   "cell_type": "code",
   "execution_count": 5,
   "id": "97b1e3f4",
   "metadata": {},
   "outputs": [
    {
     "name": "stdout",
     "output_type": "stream",
     "text": [
      "cuda:3\n"
     ]
    },
    {
     "data": {
      "text/plain": [
       "'Jun12-1520'"
      ]
     },
     "execution_count": 5,
     "metadata": {},
     "output_type": "execute_result"
    }
   ],
   "source": [
    "proj_name = \"cross-tissue_Eraslan\"\n",
    "save_dir = f\"../save/{proj_name}-{time.strftime('%b%d')}/\"\n",
    "save_dir = Path(save_dir)\n",
    "save_dir.mkdir(parents=True, exist_ok=True)\n",
    "\n",
    "data_dir = f\"../data/\"\n",
    "data_dir = Path(data_dir)\n",
    "data_dir.mkdir(parents=True, exist_ok=True)\n",
    "\n",
    "device = torch.device('cuda:3' if torch.cuda.is_available() else 'cpu')\n",
    "print(device)\n",
    "seed = 0\n",
    "ccd.ul.set_seed(seed)\n",
    "\n",
    "file_suffix = f\"{time.strftime('%b%d-%H%M')}\"\n",
    "file_suffix"
   ]
  },
  {
   "cell_type": "code",
   "execution_count": 5,
   "id": "7c5128f4",
   "metadata": {},
   "outputs": [],
   "source": [
    "# load the adata\n",
    "adata = sc.read_h5ad(data_dir / \"cross-tissue_Eraslan/cross-tissue_Eraslan.h5ad\")"
   ]
  },
  {
   "cell_type": "code",
   "execution_count": 6,
   "id": "900c0480",
   "metadata": {},
   "outputs": [
    {
     "data": {
      "text/plain": [
       "AnnData object with n_obs × n_vars = 209126 × 32839\n",
       "    obs: 'Sample ID_prep', 'assay_ontology_term_id', 'cell_type_ontology_term_id', 'disease_ontology_term_id', 'self_reported_ethnicity_ontology_term_id', 'is_primary_data', 'organism_ontology_term_id', 'sex_ontology_term_id', 'tissue_ontology_term_id', 'n_genes', 'fpr', 'prep', 'individual', 'nGenes', 'nUMIs', 'PercentMito', 'PercentRibo', 'Age_bin', 'Sample ID', 'donor_id', 'Sample ID short', 'RIN score from PAXgene tissue Aliquot', 'RIN score from Frozen tissue Aliquot', 'Autolysis Score', 'Sample Ischemic Time (mins)', 'scrublet', 'scrublet_score', 'batch', 'n_counts', 'tissue-individual-prep', 'Broad cell type', 'Granular cell type', 'introns', 'junctions', 'exons', 'sense', 'antisense', 'intergenic', 'exon_ratio', 'intron_ratio', 'junction_ratio', 'log10_nUMIs', 'leiden', 'leiden_tissue', 'Tissue composition', 'Cell types level 2', 'Cell types level 3', 'Broad cell type numbers', 'Broad cell type (numbers)', 'channel', 'development_stage_ontology_term_id', 'suspension_type', 'concat-identifier', 'hca_data_portal_donor_uuid', 'hca_data_portal_cellsuspension_uuid', 'tissue_type', 'cell_type', 'assay', 'disease', 'organism', 'sex', 'tissue', 'self_reported_ethnicity', 'development_stage', 'observation_joinid'\n",
       "    var: 'Chromosome', 'Source', 'Start', 'End', 'Strand', 'gene_name', 'gene_source', 'gene_biotype', 'gene_length', 'gene_coding_length', 'Approved symbol', 'Approved name', 'Status', 'Previous symbols', 'Alias symbols', 'feature_is_filtered', 'feature_name', 'feature_reference', 'feature_biotype', 'feature_length', 'feature_type'\n",
       "    uns: 'Broad cell type (numbers)_colors', 'Broad cell type_colors', 'Broad cell type_sizes', 'Tissue composition_colors', 'citation', \"dendrogram_['Broad cell type']\", 'leiden', 'neighbors', 'paga', 'prep_colors', 'schema_reference', 'schema_version', 'title', 'umap'\n",
       "    obsm: 'X_pca', 'X_umap', 'X_vae_mean', 'X_vae_samples', 'X_vae_var'"
      ]
     },
     "execution_count": 6,
     "metadata": {},
     "output_type": "execute_result"
    }
   ],
   "source": [
    "adata"
   ]
  },
  {
   "cell_type": "code",
   "execution_count": null,
   "id": "d86b7998",
   "metadata": {},
   "outputs": [],
   "source": [
    "# save the raw counts to adata.layers\n",
    "# adata.layers[\"counts\"] = adata.raw.X.copy()"
   ]
  },
  {
   "cell_type": "code",
   "execution_count": 28,
   "id": "2058e1f5",
   "metadata": {},
   "outputs": [],
   "source": [
    "# save (overwrite) the adata object with layers\n",
    "adata.write_h5ad(data_dir / \"cross-tissue_Eraslan/cross-tissue_Eraslan.h5ad\")\n"
   ]
  },
  {
   "cell_type": "code",
   "execution_count": 19,
   "id": "460eb65a",
   "metadata": {},
   "outputs": [
    {
     "data": {
      "text/plain": [
       "{32: 6466,\n",
       " 49: 5196,\n",
       " 62: 4359,\n",
       " 54: 4245,\n",
       " 71: 4226,\n",
       " 58: 4196,\n",
       " 30: 3961,\n",
       " 46: 3948,\n",
       " 59: 3942,\n",
       " 16: 3892,\n",
       " 70: 3891,\n",
       " 57: 3856,\n",
       " 84: 3851,\n",
       " 47: 3820,\n",
       " 40: 3819,\n",
       " 42: 3786,\n",
       " 28: 3759,\n",
       " 44: 3738,\n",
       " 43: 3699,\n",
       " 12: 3684,\n",
       " 76: 3573,\n",
       " 15: 3545,\n",
       " 51: 3542,\n",
       " 34: 3497,\n",
       " 69: 3491,\n",
       " 39: 3445,\n",
       " 38: 3444,\n",
       " 67: 3434,\n",
       " 48: 3397,\n",
       " 27: 3396,\n",
       " 75: 3296,\n",
       " 82: 3271,\n",
       " 14: 3269,\n",
       " 55: 3003,\n",
       " 24: 2964,\n",
       " 83: 2794,\n",
       " 87: 2711,\n",
       " 2: 2705,\n",
       " 81: 2589,\n",
       " 33: 2577,\n",
       " 79: 2577,\n",
       " 36: 2511,\n",
       " 23: 2497,\n",
       " 20: 2374,\n",
       " 73: 2291,\n",
       " 37: 2273,\n",
       " 50: 2269,\n",
       " 56: 2205,\n",
       " 68: 2111,\n",
       " 72: 2059,\n",
       " 31: 2015,\n",
       " 77: 1993,\n",
       " 80: 1988,\n",
       " 19: 1862,\n",
       " 0: 1777,\n",
       " 52: 1725,\n",
       " 74: 1714,\n",
       " 18: 1674,\n",
       " 53: 1650,\n",
       " 86: 1628,\n",
       " 61: 1607,\n",
       " 26: 1561,\n",
       " 41: 1530,\n",
       " 3: 1507,\n",
       " 35: 1435,\n",
       " 25: 1363,\n",
       " 22: 1211,\n",
       " 29: 1179,\n",
       " 13: 1010,\n",
       " 17: 964,\n",
       " 78: 940,\n",
       " 4: 892,\n",
       " 10: 888,\n",
       " 7: 713,\n",
       " 85: 622,\n",
       " 6: 574,\n",
       " 45: 561,\n",
       " 66: 545,\n",
       " 65: 493,\n",
       " 60: 439,\n",
       " 11: 292,\n",
       " 63: 242,\n",
       " 64: 222,\n",
       " 8: 196,\n",
       " 92: 161,\n",
       " 5: 145,\n",
       " 9: 80,\n",
       " 21: 78,\n",
       " 91: 74,\n",
       " 93: 74,\n",
       " 90: 22,\n",
       " 94: 17,\n",
       " 88: 16,\n",
       " 89: 2,\n",
       " 1: 1}"
      ]
     },
     "execution_count": 19,
     "metadata": {},
     "output_type": "execute_result"
    }
   ],
   "source": [
    "adata.obs['batch'].value_counts().to_dict()"
   ]
  },
  {
   "cell_type": "code",
   "execution_count": 17,
   "id": "0fd4e0e8",
   "metadata": {},
   "outputs": [
    {
     "data": {
      "text/plain": [
       "cell_type\n",
       "fibroblast                                        23901\n",
       "pulmonary alveolar epithelial cell                22305\n",
       "endothelial cell of vascular tree                 20883\n",
       "skeletal muscle fiber                             19491\n",
       "luminal cell of prostate epithelium               11104\n",
       "cardiac muscle cell                                9619\n",
       "enteric smooth muscle cell                         9159\n",
       "basal epithelial cell of tracheobronchial tree     8145\n",
       "macrophage                                         8004\n",
       "basal epithelial cell of prostatic duct            7295\n",
       "skeletal muscle fibroblast                         5913\n",
       "luminal epithelial cell of mammary gland           5546\n",
       "alveolar macrophage                                5229\n",
       "contractile cell                                   5078\n",
       "smooth muscle cell                                 4594\n",
       "epithelial cell of prostate                        4587\n",
       "endothelial cell of lymphatic vessel               4504\n",
       "T cell                                             3563\n",
       "professional antigen presenting cell               3370\n",
       "squamous epithelial cell                           2770\n",
       "basal cell                                         2399\n",
       "subcutaneous adipocyte                             2152\n",
       "smooth muscle cell of prostate                     2006\n",
       "basal cell of epidermis                            1815\n",
       "skin fibroblast                                    1644\n",
       "fast muscle cell                                   1581\n",
       "Schwann cell                                       1422\n",
       "basal-myoepithelial cell of mammary gland          1372\n",
       "respiratory basal cell                             1062\n",
       "mast cell                                           893\n",
       "dendritic cell                                      819\n",
       "fibroblast of breast                                762\n",
       "bronchial epithelial cell                           693\n",
       "slow muscle cell                                    646\n",
       "mature NK T cell                                    536\n",
       "skeletal muscle satellite cell                      461\n",
       "glandular secretory epithelial cell                 459\n",
       "epidermal cell                                      446\n",
       "epithelial cell of sweat gland                      301\n",
       "fibroblast of cardiac tissue                        297\n",
       "B cell                                              285\n",
       "melanocyte of skin                                  266\n",
       "cardiac endothelial cell                            265\n",
       "keratinocyte                                        261\n",
       "sebaceous gland cell                                233\n",
       "neutrophil                                          227\n",
       "interstitial cell of Cajal                          225\n",
       "adipocyte                                           168\n",
       "myeloid dendritic cell                              126\n",
       "neuroendocrine cell                                  91\n",
       "elicited macrophage                                  80\n",
       "epidermal Langerhans cell                            48\n",
       "neuron                                               25\n",
       "Name: count, dtype: int64"
      ]
     },
     "execution_count": 17,
     "metadata": {},
     "output_type": "execute_result"
    }
   ],
   "source": [
    "adata.obs['cell_type'].value_counts()"
   ]
  },
  {
   "cell_type": "code",
   "execution_count": 9,
   "id": "2bab2e21",
   "metadata": {},
   "outputs": [],
   "source": [
    "batch_key = 'batch'\n",
    "state_key = 'cell_type'"
   ]
  },
  {
   "cell_type": "code",
   "execution_count": 27,
   "id": "e6b9e646",
   "metadata": {},
   "outputs": [],
   "source": [
    "# adata.obs[batch_key] = adata.obs[batch_key].astype(\"category\")\n",
    "# print(adata.obs[batch_key].dtype)\n"
   ]
  },
  {
   "cell_type": "markdown",
   "id": "6347e518",
   "metadata": {},
   "source": [
    "# preprocess data"
   ]
  },
  {
   "cell_type": "code",
   "execution_count": 6,
   "id": "615b7ca3",
   "metadata": {},
   "outputs": [],
   "source": [
    "adata = sc.read_h5ad(data_dir / \"cross-tissue_Eraslan/cross-tissue_Eraslan.h5ad\")"
   ]
  },
  {
   "cell_type": "code",
   "execution_count": 10,
   "id": "b22071c0",
   "metadata": {},
   "outputs": [
    {
     "data": {
      "text/plain": [
       "AnnData object with n_obs × n_vars = 209126 × 32839\n",
       "    obs: 'Sample ID_prep', 'assay_ontology_term_id', 'cell_type_ontology_term_id', 'disease_ontology_term_id', 'self_reported_ethnicity_ontology_term_id', 'is_primary_data', 'organism_ontology_term_id', 'sex_ontology_term_id', 'tissue_ontology_term_id', 'n_genes', 'fpr', 'prep', 'individual', 'nGenes', 'nUMIs', 'PercentMito', 'PercentRibo', 'Age_bin', 'Sample ID', 'donor_id', 'Sample ID short', 'RIN score from PAXgene tissue Aliquot', 'RIN score from Frozen tissue Aliquot', 'Autolysis Score', 'Sample Ischemic Time (mins)', 'scrublet', 'scrublet_score', 'batch', 'n_counts', 'tissue-individual-prep', 'Broad cell type', 'Granular cell type', 'introns', 'junctions', 'exons', 'sense', 'antisense', 'intergenic', 'exon_ratio', 'intron_ratio', 'junction_ratio', 'log10_nUMIs', 'leiden', 'leiden_tissue', 'Tissue composition', 'Cell types level 2', 'Cell types level 3', 'Broad cell type numbers', 'Broad cell type (numbers)', 'channel', 'development_stage_ontology_term_id', 'suspension_type', 'concat-identifier', 'hca_data_portal_donor_uuid', 'hca_data_portal_cellsuspension_uuid', 'tissue_type', 'cell_type', 'assay', 'disease', 'organism', 'sex', 'tissue', 'self_reported_ethnicity', 'development_stage', 'observation_joinid'\n",
       "    var: 'Chromosome', 'Source', 'Start', 'End', 'Strand', 'gene_name', 'gene_source', 'gene_biotype', 'gene_length', 'gene_coding_length', 'Approved symbol', 'Approved name', 'Status', 'Previous symbols', 'Alias symbols', 'feature_is_filtered', 'feature_name', 'feature_reference', 'feature_biotype', 'feature_length', 'feature_type'\n",
       "    uns: 'Broad cell type (numbers)_colors', 'Broad cell type_colors', 'Broad cell type_sizes', 'Tissue composition_colors', 'citation', \"dendrogram_['Broad cell type']\", 'leiden', 'neighbors', 'paga', 'prep_colors', 'schema_reference', 'schema_version', 'title', 'umap'\n",
       "    obsm: 'X_pca', 'X_umap', 'X_vae_mean', 'X_vae_samples', 'X_vae_var'\n",
       "    layers: 'counts'"
      ]
     },
     "execution_count": 10,
     "metadata": {},
     "output_type": "execute_result"
    }
   ],
   "source": [
    "adata"
   ]
  },
  {
   "cell_type": "code",
   "execution_count": 11,
   "id": "ef1506f1",
   "metadata": {},
   "outputs": [],
   "source": [
    "sc.pp.highly_variable_genes(adata, n_top_genes=2000, flavor=\"seurat\", batch_key=batch_key)\n",
    "sc.tl.pca(adata, n_comps=30, use_highly_variable=True)"
   ]
  },
  {
   "cell_type": "code",
   "execution_count": 12,
   "id": "8e25ecac",
   "metadata": {},
   "outputs": [],
   "source": [
    "adata = adata[:, adata.var.highly_variable].copy()"
   ]
  },
  {
   "cell_type": "code",
   "execution_count": null,
   "id": "6f7f7124",
   "metadata": {},
   "outputs": [],
   "source": [
    "# save the adata\n",
    "# adata.write_h5ad(data_dir / \"cross-tissue_Eraslan/cross-tissue_Eraslan_processed.h5ad\")"
   ]
  },
  {
   "cell_type": "code",
   "execution_count": 15,
   "id": "00768305",
   "metadata": {},
   "outputs": [
    {
     "data": {
      "text/plain": [
       "AnnData object with n_obs × n_vars = 209126 × 2000\n",
       "    obs: 'Sample ID_prep', 'assay_ontology_term_id', 'cell_type_ontology_term_id', 'disease_ontology_term_id', 'self_reported_ethnicity_ontology_term_id', 'is_primary_data', 'organism_ontology_term_id', 'sex_ontology_term_id', 'tissue_ontology_term_id', 'n_genes', 'fpr', 'prep', 'individual', 'nGenes', 'nUMIs', 'PercentMito', 'PercentRibo', 'Age_bin', 'Sample ID', 'donor_id', 'Sample ID short', 'RIN score from PAXgene tissue Aliquot', 'RIN score from Frozen tissue Aliquot', 'Autolysis Score', 'Sample Ischemic Time (mins)', 'scrublet', 'scrublet_score', 'batch', 'n_counts', 'tissue-individual-prep', 'Broad cell type', 'Granular cell type', 'introns', 'junctions', 'exons', 'sense', 'antisense', 'intergenic', 'exon_ratio', 'intron_ratio', 'junction_ratio', 'log10_nUMIs', 'leiden', 'leiden_tissue', 'Tissue composition', 'Cell types level 2', 'Cell types level 3', 'Broad cell type numbers', 'Broad cell type (numbers)', 'channel', 'development_stage_ontology_term_id', 'suspension_type', 'concat-identifier', 'hca_data_portal_donor_uuid', 'hca_data_portal_cellsuspension_uuid', 'tissue_type', 'cell_type', 'assay', 'disease', 'organism', 'sex', 'tissue', 'self_reported_ethnicity', 'development_stage', 'observation_joinid'\n",
       "    var: 'Chromosome', 'Source', 'Start', 'End', 'Strand', 'gene_name', 'gene_source', 'gene_biotype', 'gene_length', 'gene_coding_length', 'Approved symbol', 'Approved name', 'Status', 'Previous symbols', 'Alias symbols', 'feature_is_filtered', 'feature_name', 'feature_reference', 'feature_biotype', 'feature_length', 'feature_type', 'highly_variable', 'means', 'dispersions', 'dispersions_norm', 'highly_variable_nbatches', 'highly_variable_intersection'\n",
       "    uns: 'Broad cell type (numbers)_colors', 'Broad cell type_colors', 'Broad cell type_sizes', 'Tissue composition_colors', 'citation', \"dendrogram_['Broad cell type']\", 'leiden', 'neighbors', 'paga', 'prep_colors', 'schema_reference', 'schema_version', 'title', 'umap', 'hvg', 'pca'\n",
       "    obsm: 'X_pca', 'X_umap', 'X_vae_mean', 'X_vae_samples', 'X_vae_var'\n",
       "    varm: 'PCs'\n",
       "    layers: 'counts'"
      ]
     },
     "execution_count": 15,
     "metadata": {},
     "output_type": "execute_result"
    }
   ],
   "source": [
    "adata"
   ]
  },
  {
   "cell_type": "markdown",
   "id": "e8eeedd3",
   "metadata": {},
   "source": [
    "----"
   ]
  },
  {
   "cell_type": "code",
   "execution_count": 31,
   "id": "95a8087e",
   "metadata": {},
   "outputs": [],
   "source": [
    "combined_keys = [\n",
    "        \"unintegrated\",\n",
    "        \"scanorama\", \"liger\", \"harmony\",\n",
    "        \"scvi\", \"scanvi\",\n",
    "        \"concord\",\n",
    "        \"concord_class\", \n",
    "        \"concord_decoder\", \"contrastive\"\n",
    "    ]"
   ]
  },
  {
   "cell_type": "code",
   "execution_count": 34,
   "id": "4f444fe9",
   "metadata": {},
   "outputs": [
    {
     "name": "stdout",
     "output_type": "stream",
     "text": [
      "Concord - WARNING - save_dir is None. Model and log files will not be saved.\n",
      "Concord - WARNING - No input feature list provided. It is recommended to first select features using the command `concord.ul.select_features()`.\n"
     ]
    },
    {
     "name": "stderr",
     "output_type": "stream",
     "text": [
      "FAISS not found. Using sklearn for k-NN computation.\n"
     ]
    },
    {
     "name": "stdout",
     "output_type": "stream",
     "text": [
      "p_intra_knn: 0.3\n"
     ]
    },
    {
     "name": "stderr",
     "output_type": "stream",
     "text": [
      "Epoch 0 Training: 3229it [01:11, 44.96it/s, loss=3.69] \n",
      "Epoch 1 Training: 100%|██████████| 3229/3229 [01:10<00:00, 46.13it/s, loss=3.54] \n",
      "Epoch 2 Training: 100%|██████████| 3229/3229 [01:10<00:00, 46.05it/s, loss=3.48] \n",
      "Epoch 3 Training: 100%|██████████| 3229/3229 [01:10<00:00, 45.91it/s, loss=3.68] \n",
      "Epoch 4 Training: 100%|██████████| 3229/3229 [01:10<00:00, 45.68it/s, loss=3.69] \n",
      "Epoch 5 Training: 100%|██████████| 3229/3229 [01:10<00:00, 45.72it/s, loss=3.41] \n",
      "Epoch 6 Training: 100%|██████████| 3229/3229 [01:10<00:00, 45.69it/s, loss=3.55] \n",
      "Epoch 7 Training: 100%|██████████| 3229/3229 [01:11<00:00, 45.43it/s, loss=3.58] \n",
      "Epoch 8 Training: 100%|██████████| 3229/3229 [01:11<00:00, 45.15it/s, loss=3.58] \n",
      "Epoch 9 Training: 100%|██████████| 3229/3229 [01:11<00:00, 45.01it/s, loss=3.42] "
     ]
    },
    {
     "name": "stdout",
     "output_type": "stream",
     "text": [
      "Concord - WARNING - save_dir is None. Skipping model/config saving.\n"
     ]
    },
    {
     "name": "stderr",
     "output_type": "stream",
     "text": [
      "\n",
      "concord completed in 724.71 sec.\n",
      "Running UMAP on concord...\n"
     ]
    },
    {
     "name": "stdout",
     "output_type": "stream",
     "text": [
      "Concord - WARNING - save_dir is None. Model and log files will not be saved.\n",
      "Concord - WARNING - No input feature list provided. It is recommended to first select features using the command `concord.ul.select_features()`.\n"
     ]
    },
    {
     "name": "stderr",
     "output_type": "stream",
     "text": [
      "FAISS not found. Using sklearn for k-NN computation.\n"
     ]
    },
    {
     "name": "stdout",
     "output_type": "stream",
     "text": [
      "p_intra_knn: 0.3\n"
     ]
    },
    {
     "name": "stderr",
     "output_type": "stream",
     "text": [
      "Epoch 0 Training: 3229it [01:15, 42.78it/s, loss=4.37]\n",
      "Epoch 1 Training: 100%|██████████| 3229/3229 [01:10<00:00, 45.67it/s, loss=4.07] \n",
      "Epoch 2 Training: 100%|██████████| 3229/3229 [01:09<00:00, 46.44it/s, loss=3.82] \n",
      "Epoch 3 Training: 100%|██████████| 3229/3229 [01:09<00:00, 46.52it/s, loss=3.89] \n",
      "Epoch 4 Training: 100%|██████████| 3229/3229 [01:09<00:00, 46.60it/s, loss=4.22] \n",
      "Epoch 5 Training: 100%|██████████| 3229/3229 [01:09<00:00, 46.52it/s, loss=3.86] \n",
      "Epoch 6 Training: 100%|██████████| 3229/3229 [01:14<00:00, 43.17it/s, loss=3.56] \n",
      "Epoch 7 Training: 100%|██████████| 3229/3229 [01:18<00:00, 41.30it/s, loss=3.59]\n",
      "Epoch 8 Training: 100%|██████████| 3229/3229 [01:18<00:00, 41.30it/s, loss=4.01]\n",
      "Epoch 9 Training: 100%|██████████| 3229/3229 [01:18<00:00, 41.36it/s, loss=3.8] \n"
     ]
    },
    {
     "name": "stdout",
     "output_type": "stream",
     "text": [
      "Concord - WARNING - save_dir is None. Skipping model/config saving.\n"
     ]
    },
    {
     "name": "stderr",
     "output_type": "stream",
     "text": [
      "concord_class completed in 753.28 sec.\n",
      "Running UMAP on concord_class...\n"
     ]
    },
    {
     "name": "stdout",
     "output_type": "stream",
     "text": [
      "Concord - WARNING - save_dir is None. Model and log files will not be saved.\n",
      "Concord - WARNING - No input feature list provided. It is recommended to first select features using the command `concord.ul.select_features()`.\n"
     ]
    },
    {
     "name": "stderr",
     "output_type": "stream",
     "text": [
      "FAISS not found. Using sklearn for k-NN computation.\n"
     ]
    },
    {
     "name": "stdout",
     "output_type": "stream",
     "text": [
      "p_intra_knn: 0.3\n"
     ]
    },
    {
     "name": "stderr",
     "output_type": "stream",
     "text": [
      "Epoch 0 Training: 3229it [01:13, 43.95it/s, loss=3.76] \n",
      "Epoch 1 Training: 100%|██████████| 3229/3229 [01:07<00:00, 47.79it/s, loss=3.87] \n",
      "Epoch 2 Training: 100%|██████████| 3229/3229 [01:08<00:00, 47.48it/s, loss=3.83] \n",
      "Epoch 3 Training: 100%|██████████| 3229/3229 [01:07<00:00, 47.55it/s, loss=3.9]  \n",
      "Epoch 4 Training: 100%|██████████| 3229/3229 [01:07<00:00, 47.52it/s, loss=3.91] \n",
      "Epoch 5 Training: 100%|██████████| 3229/3229 [01:07<00:00, 47.52it/s, loss=4.07] \n",
      "Epoch 6 Training: 100%|██████████| 3229/3229 [01:08<00:00, 47.34it/s, loss=3.87] \n",
      "Epoch 7 Training: 100%|██████████| 3229/3229 [01:09<00:00, 46.53it/s, loss=3.69] \n",
      "Epoch 8 Training: 100%|██████████| 3229/3229 [01:09<00:00, 46.74it/s, loss=3.87] \n",
      "Epoch 9 Training: 100%|██████████| 3229/3229 [01:10<00:00, 45.81it/s, loss=4.06] "
     ]
    },
    {
     "name": "stdout",
     "output_type": "stream",
     "text": [
      "Concord - WARNING - save_dir is None. Skipping model/config saving.\n"
     ]
    },
    {
     "name": "stderr",
     "output_type": "stream",
     "text": [
      "\n",
      "concord_decoder completed in 703.88 sec.\n",
      "Running UMAP on concord_decoder...\n"
     ]
    },
    {
     "name": "stdout",
     "output_type": "stream",
     "text": [
      "Concord - WARNING - save_dir is None. Model and log files will not be saved.\n",
      "Concord - WARNING - No input feature list provided. It is recommended to first select features using the command `concord.ul.select_features()`.\n",
      "Concord - WARNING - domain/batch information not found, all samples will be treated as from single domain/batch.\n"
     ]
    },
    {
     "name": "stderr",
     "output_type": "stream",
     "text": [
      "FAISS not found. Using sklearn for k-NN computation.\n",
      "You specified p_intra_domain as 0.95 but you only have one domain. Resetting p_intra_domain to 1.0.\n"
     ]
    },
    {
     "name": "stdout",
     "output_type": "stream",
     "text": [
      "p_intra_knn: 0.3\n"
     ]
    },
    {
     "name": "stderr",
     "output_type": "stream",
     "text": [
      "Epoch 0 Training: 3267it [01:06, 49.04it/s, loss=3.43] \n",
      "Epoch 1 Training: 100%|██████████| 3267/3267 [01:06<00:00, 48.93it/s, loss=3.41] \n",
      "Epoch 2 Training: 100%|██████████| 3267/3267 [01:06<00:00, 48.96it/s, loss=3.32] \n",
      "Epoch 3 Training: 100%|██████████| 3267/3267 [01:05<00:00, 49.71it/s, loss=3.32] \n",
      "Epoch 4 Training: 100%|██████████| 3267/3267 [01:05<00:00, 49.77it/s, loss=3.42] \n",
      "Epoch 5 Training: 100%|██████████| 3267/3267 [01:05<00:00, 49.60it/s, loss=3.35] \n",
      "Epoch 6 Training: 100%|██████████| 3267/3267 [01:06<00:00, 49.37it/s, loss=3.34] \n",
      "Epoch 7 Training: 100%|██████████| 3267/3267 [01:06<00:00, 49.27it/s, loss=3.25] \n",
      "Epoch 8 Training: 100%|██████████| 3267/3267 [01:06<00:00, 49.33it/s, loss=3.33] \n",
      "Epoch 9 Training: 100%|██████████| 3267/3267 [01:06<00:00, 49.07it/s, loss=3.32] "
     ]
    },
    {
     "name": "stdout",
     "output_type": "stream",
     "text": [
      "Concord - WARNING - save_dir is None. Skipping model/config saving.\n"
     ]
    },
    {
     "name": "stderr",
     "output_type": "stream",
     "text": [
      "\n",
      "contrastive completed in 675.58 sec.\n",
      "Running UMAP on contrastive...\n",
      "Running UMAP on unintegrated...\n"
     ]
    },
    {
     "ename": "",
     "evalue": "",
     "output_type": "error",
     "traceback": [
      "\u001b[1;31mThe Kernel crashed while executing code in the current cell or a previous cell. \n",
      "\u001b[1;31mPlease review the code in the cell(s) to identify a possible cause of the failure. \n",
      "\u001b[1;31mClick <a href='https://aka.ms/vscodeJupyterKernelCrash'>here</a> for more info. \n",
      "\u001b[1;31mView Jupyter <a href='command:jupyter.viewOutput'>log</a> for further details."
     ]
    }
   ],
   "source": [
    "time_log, ram_log, vram_log = ccd.ul.run_integration_methods_pipeline(\n",
    "    adata=adata,                          # Your input AnnData object\n",
    "    methods=combined_keys,            # List of methods to run\n",
    "    batch_key=batch_key,                    # Column in adata.obs for batch info\n",
    "    count_layer=\"counts\",                 # Layer name containing raw counts\n",
    "    class_key=state_key,               # Column in adata.obs for class labels (used in SCANVI and CONCORD variants)\n",
    "    latent_dim=30,                        # Latent dimensionality for PCA and embeddings\n",
    "    device=device,                        # Or \"cpu\", or \"mps\" for Apple Silicon\n",
    "    return_corrected=False,                   # Whether to store corrected expression matrices\n",
    "    transform_batch=None,                 # Optionally specify a batch to transform to in scVI\n",
    "    seed=42,                              # Random seed for reproducibility\n",
    "    compute_umap=True,                    # Run UMAP for all output embeddings\n",
    "    umap_n_components=2,\n",
    "    umap_n_neighbors=30,\n",
    "    umap_min_dist=0.5,\n",
    "    verbose=True,                        # Print progress messages\n",
    ")"
   ]
  },
  {
   "cell_type": "code",
   "execution_count": null,
   "id": "cc378b9d",
   "metadata": {},
   "outputs": [],
   "source": []
  }
 ],
 "metadata": {
  "kernelspec": {
   "display_name": "scenv",
   "language": "python",
   "name": "python3"
  },
  "language_info": {
   "codemirror_mode": {
    "name": "ipython",
    "version": 3
   },
   "file_extension": ".py",
   "mimetype": "text/x-python",
   "name": "python",
   "nbconvert_exporter": "python",
   "pygments_lexer": "ipython3",
   "version": "3.13.3"
  }
 },
 "nbformat": 4,
 "nbformat_minor": 5
}
