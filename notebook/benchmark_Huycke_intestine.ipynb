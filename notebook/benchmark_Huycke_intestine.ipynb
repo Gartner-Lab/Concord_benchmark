{
 "cells": [
  {
   "cell_type": "code",
   "execution_count": 2,
   "metadata": {},
   "outputs": [],
   "source": [
    "%load_ext autoreload\n",
    "%autoreload 2"
   ]
  },
  {
   "cell_type": "markdown",
   "metadata": {},
   "source": [
    "## Basic setup"
   ]
  },
  {
   "cell_type": "code",
   "execution_count": 3,
   "metadata": {},
   "outputs": [],
   "source": [
    "import concord as ccd\n",
    "import scanpy as sc\n",
    "import torch\n",
    "import warnings\n",
    "from pathlib import Path\n",
    "warnings.filterwarnings('ignore')\n",
    "import time\n",
    "from pathlib import Path\n",
    "device = torch.device('cuda:0' if torch.cuda.is_available() else 'cpu')\n",
    "seed = 0"
   ]
  },
  {
   "cell_type": "code",
   "execution_count": 4,
   "metadata": {},
   "outputs": [],
   "source": [
    "import time\n",
    "from pathlib import Path\n",
    "proj_name = \"huycke_intestine\"\n",
    "file_name = proj_name\n",
    "file_suffix = time.strftime('%b%d-%H%M')\n",
    "seed = 0\n",
    "\n",
    "save_dir = Path(f\"../save/{proj_name}\")\n",
    "save_dir.mkdir(parents=True, exist_ok=True)\n",
    "\n",
    "data_dir = Path(f\"../data/{proj_name}\")\n",
    "data_dir.mkdir(parents=True, exist_ok=True)\n"
   ]
  },
  {
   "cell_type": "code",
   "execution_count": null,
   "metadata": {},
   "outputs": [],
   "source": [
    "data_path = Path(f\"../data/huycke_intestine\") / 'adata_huycke_Mar31-2314.h5ad'\n",
    "adata = sc.read(\n",
    "    data_path\n",
    ")"
   ]
  },
  {
   "cell_type": "code",
   "execution_count": null,
   "metadata": {},
   "outputs": [],
   "source": [
    "# Find highly variable genes\n",
    "sc.pp.highly_variable_genes(adata, n_top_genes=5000, flavor='seurat_v3', subset=False)"
   ]
  },
  {
   "cell_type": "code",
   "execution_count": null,
   "metadata": {},
   "outputs": [],
   "source": [
    "adata = adata[:, adata.var.highly_variable].copy()\n",
    "adata.write_h5ad(data_dir / f\"{file_name}_preprocessed_HVG.h5ad\")\n",
    "print(f\"✅ Preprocessed data saved to {data_dir / f'{file_name}_preprocessed_HVG.h5ad'}\")"
   ]
  },
  {
   "cell_type": "code",
   "execution_count": 5,
   "metadata": {},
   "outputs": [],
   "source": [
    "adata = sc.read_h5ad(data_dir / f\"{file_name}_preprocessed_HVG.h5ad\")"
   ]
  },
  {
   "cell_type": "code",
   "execution_count": 6,
   "metadata": {},
   "outputs": [
    {
     "data": {
      "text/plain": [
       "(65468, 10000)"
      ]
     },
     "execution_count": 6,
     "metadata": {},
     "output_type": "execute_result"
    }
   ],
   "source": [
    "adata.shape"
   ]
  },
  {
   "cell_type": "code",
   "execution_count": null,
   "metadata": {},
   "outputs": [],
   "source": [
    "concord_args = {\n",
    "        'n_epochs': 15, # Number of epochs for training, adjust as needed\n",
    "        'save_dir': '../'+str(save_dir) # Directory to save the model and results\n",
    "    }"
   ]
  },
  {
   "cell_type": "code",
   "execution_count": null,
   "metadata": {},
   "outputs": [],
   "source": [
    "import subprocess, json\n",
    "py_methods = [\"scvi\", \"harmony\", \"scanorama\", \"liger\", \"unintegrated\", \"concord_hcl\", \"concord_knn\", \"contrastive\"]\n",
    "output_dir = '../jobs'\n",
    "device = 'auto'\n",
    "conda_env = 'cellpath'\n",
    "batch_key = 'LaneID'\n",
    "state_key = 'None'\n",
    "latent_dim = '50'  # Adjust as needed, but should match the encoder_dims in concord_args\n",
    "subprocess.run([\n",
    "    \"python\", \"./generate_py_jobs.py\",\n",
    "    \"--proj_name\", proj_name,\n",
    "    \"--adata_filename\", f\"{file_name}_preprocessed_HVG.h5ad\",\n",
    "    \"--methods\", *py_methods,\n",
    "    \"--batch_key\", batch_key,\n",
    "    \"--state_key\", state_key,\n",
    "    \"--latent_dim\", latent_dim,\n",
    "    \"--output_dir\", output_dir,\n",
    "    \"--device\", device,\n",
    "    \"--mem\", \"32G\",  # Adjust memory as needed\n",
    "    \"--conda_env\", conda_env,\n",
    "    \"--runtime\", \"2:00:00\",\n",
    "    \"--mode\", \"wynton\",\n",
    "    \"--concord_kwargs\", json.dumps(concord_args)\n",
    "])\n"
   ]
  },
  {
   "cell_type": "code",
   "execution_count": null,
   "metadata": {},
   "outputs": [],
   "source": [
    "ccd.ul.anndata_to_viscello(adata,\n",
    "                        output_dir=data_dir / f\"viscello_{proj_name}\",\n",
    "                        project_name=proj_name,\n",
    "                        organism='mmu')"
   ]
  },
  {
   "cell_type": "code",
   "execution_count": null,
   "metadata": {},
   "outputs": [],
   "source": [
    "# Generate script for Seurat\n",
    "import subprocess\n",
    "r_methods = [\"seurat_cca\", \"seurat_rpca\"]\n",
    "output_dir = '../jobs'\n",
    "device = 'auto'\n",
    "subprocess.run([\n",
    "    \"python\", \"./generate_seurat_script.py\",\n",
    "    \"--proj_name\", proj_name,\n",
    "    \"--eset_dir\", '../'+ str(data_dir / f\"viscello_{proj_name}\"),   # <- folder w/ eset.rds\n",
    "    \"--methods\", *r_methods,\n",
    "    \"--batch_key\", batch_key,\n",
    "    \"--state_key\", state_key,\n",
    "    \"--latent_dim\", latent_dim,\n",
    "    \"--mem\", \"100G\",  # Adjust memory as needed\n",
    "    \"--runtime\", \"36:00:00\",\n",
    "    \"--output_dir\", output_dir,\n",
    "    \"--device\", device,\n",
    "    \"--conda_env\", conda_env\n",
    "])"
   ]
  },
  {
   "cell_type": "code",
   "execution_count": null,
   "metadata": {},
   "outputs": [],
   "source": [
    "proj_folder = Path(output_dir) / f\"benchmark_{proj_name}\"   # ../jobs/benchmark_<proj>\n",
    "proj_folder.mkdir(exist_ok=True)                      # defensive\n",
    "\n",
    "submit_all = proj_folder / f\"submit_all_{proj_name}.sh\"\n",
    "with submit_all.open(\"w\") as f:\n",
    "    f.write(\"#!/bin/bash\\n\")\n",
    "    f.write(\"# Auto-generated — submits every job for this project\\n\")\n",
    "    f.write(\"# Run from this folder, or let the script cd into it.\\n\\n\")\n",
    "    f.write('cd \"$(dirname \"$0\")\"\\n\\n')          # ensures we’re in the right dir\n",
    "    for sh_file in sorted(proj_folder.glob(f\"benchmark_{proj_name}_*.sh\")):\n",
    "        f.write(f'qsub \"{sh_file.name}\"\\n')\n",
    "\n",
    "submit_all.chmod(0o755)\n",
    "print(f\"📌  Run “{submit_all}” to queue every job.\")"
   ]
  },
  {
   "cell_type": "markdown",
   "metadata": {},
   "source": [
    "### Collect results"
   ]
  },
  {
   "cell_type": "code",
   "execution_count": null,
   "metadata": {},
   "outputs": [],
   "source": [
    "data_path = data_dir / 'adata_huycke_Mar31-2314.h5ad'\n",
    "#data_path = data_dir / f\"adata_huycke_Jul07-1048.h5ad\"\n",
    "adata = sc.read(\n",
    "    data_path\n",
    ")"
   ]
  },
  {
   "cell_type": "code",
   "execution_count": null,
   "metadata": {},
   "outputs": [],
   "source": [
    "from benchmark_utils import collect_benchmark_logs\n",
    "methods = [\"scvi\", \"harmony\", \"scanorama\", \"liger\", \"unintegrated\", \"concord_hcl\", \"concord_knn\", \"contrastive\", \"seurat_cca\", \"seurat_rpca\"]\n",
    "\n",
    "bench_df = collect_benchmark_logs(file_name, methods)\n",
    "# Save the benchmark results\n",
    "bench_df.to_csv(save_dir / f\"benchmark_summary_{file_suffix}.tsv\", sep=\"\\t\", index=False)\n",
    "print(f\"✅ Benchmark summary saved to: {save_dir / f'benchmark_summary_{file_suffix}.tsv'}\")\n",
    "# Plot benchmark results\n",
    "from benchmark_utils import plot_benchmark_performance\n",
    "import matplotlib.pyplot as plt\n",
    "custom_rc = {\n",
    "    'font.family': 'Arial',  # Set the desired font for this plot\n",
    "}\n",
    "with plt.rc_context(rc=custom_rc):\n",
    "    plot_benchmark_performance(bench_df, figsize=(8,2), dpi=300, save_path = save_dir / f\"benchmark_plot_{file_suffix}.pdf\")\n"
   ]
  },
  {
   "cell_type": "code",
   "execution_count": null,
   "metadata": {},
   "outputs": [],
   "source": [
    "adata.obsm.keys()"
   ]
  },
  {
   "cell_type": "code",
   "execution_count": null,
   "metadata": {},
   "outputs": [],
   "source": [
    "# Delete existing latents in adata.obsm\n",
    "for key in list(adata.obsm.keys()):\n",
    "    # if 'concord' in key:\n",
    "    #     print(f\"Deleting {key} from adata.obsm\")\n",
    "    del adata.obsm[key]"
   ]
  },
  {
   "cell_type": "code",
   "execution_count": null,
   "metadata": {},
   "outputs": [],
   "source": [
    "methods = [\"scvi\", \"harmony\", \"scanorama\", \"liger\", \"concord_hcl\", \"concord_knn\", \"contrastive\", \"seurat_cca\", \"seurat_rpca\"] # \"unintegrated\",\n",
    "from benchmark_utils import add_embeddings\n",
    "adata = add_embeddings(adata, proj_name=proj_name, methods=methods)"
   ]
  },
  {
   "cell_type": "code",
   "execution_count": null,
   "metadata": {},
   "outputs": [],
   "source": [
    "# Run umap for all latent embeddings\n",
    "for basis in methods:\n",
    "    print(\"Running UMAP for\", basis)\n",
    "    if basis not in adata.obsm:\n",
    "        print(f\"{basis} not found.\")\n",
    "        continue\n",
    "    #if 'UMAP' not in basis:\n",
    "    ccd.ul.run_umap(adata, source_key=basis, result_key=f'{basis}_UMAP', n_components=2, n_neighbors=30, min_dist=0.1, metric='euclidean', random_state=seed)\n",
    "    ccd.ul.run_umap(adata, source_key=basis, result_key=f'{basis}_UMAP_3D', n_components=3, n_neighbors=30, min_dist=0.1, metric='euclidean', random_state=seed)\n",
    "    #ccd.ul.run_umap(adata, source_key=basis, result_key=f'{basis}_UMAP_cosine', n_components=3, n_neighbors=30, min_dist=0.1, metric='cosine', random_state=seed)\n",
    "    #ccd.ul.run_umap(adata, source_key=basis, result_key=f'{basis}_UMAP_cosine_3D', n_components=2, n_neighbors=30, min_dist=0.1, metric='cosine', random_state=seed)\n",
    "\n",
    "ccd.ul.save_obsm_to_hdf5(adata, save_dir / f\"obsm_{file_suffix}.h5\")\n",
    "adata.write_h5ad(data_dir / f\"adata_final_{file_suffix}.h5ad\")\n",
    "print(f\"✅ Saved adata with embeddings to {data_dir / f'adata_final_{file_suffix}.h5ad'}\")"
   ]
  },
  {
   "cell_type": "code",
   "execution_count": null,
   "metadata": {},
   "outputs": [],
   "source": [
    "# Define color palette for broad_cell_type_qz\n",
    "adata.obs['stage'] = adata.obs['MouseAge_combined']\n",
    "_, _, celltype_pal = ccd.pl.get_color_mapping(adata, 'cell_type', pal='Paired', seed=seed)\n",
    "_, _, broad_celltype_pal = ccd.pl.get_color_mapping(adata, 'broad_cell_type', pal='tab20', seed=seed)\n",
    "broad_celltype_pal['Doublet-like'] = '#757575'\n",
    "_, _, mes_pal = ccd.pl.get_color_mapping(adata, 'mes_subtype', pal='Paired', seed=seed)\n",
    "_, _, epi_pal = ccd.pl.get_color_mapping(adata, 'epi_subtype', pal='Paired', seed=seed)\n",
    "_, _, batch_pal = ccd.pl.get_color_mapping(adata,'batch', pal='Set1', seed=seed)\n",
    "_, _, phase_pal = ccd.pl.get_color_mapping(adata, 'phase', pal='Set1', seed=seed)\n",
    "_, _, seg_pal = ccd.pl.get_color_mapping(adata, 'seg_classify', pal='tab10', seed=seed)\n",
    "_, _, lane_pal = ccd.pl.get_color_mapping(adata,'LaneID', pal='Paired', seed=7)\n",
    "stage_pal = {\n",
    "    '12.5':\"midnightblue\", \n",
    "    '13.5':\"dodgerblue\", \n",
    "    '14.5':\"seagreen\", \n",
    "    '15.5':\"#00C000\", \n",
    "    '16.5':\"#EEC900\", \n",
    "    '17.5':\"#FF7F00\", \n",
    "    '18.5':\"#FF0000\"\n",
    "}\n",
    "pal = {\"cell_type\": celltype_pal,\n",
    "    \"broad_cell_type\": broad_celltype_pal,\n",
    "    \"mes_subtype\": mes_pal,\n",
    "    \"epi_subtype\": epi_pal,\n",
    "    \"batch\": batch_pal,\n",
    "    'phase': phase_pal,\n",
    "    'stage': stage_pal,\n",
    "    'seg_classify': seg_pal,\n",
    "    'LaneID': lane_pal}"
   ]
  },
  {
   "cell_type": "code",
   "execution_count": null,
   "metadata": {},
   "outputs": [],
   "source": [
    "# plot everything\n",
    "import matplotlib.pyplot as plt\n",
    "import numpy as np\n",
    "from matplotlib import rcParams\n",
    "\n",
    "# Set Arial as the default font\n",
    "custom_rc = {\n",
    "    'font.family': 'Arial',  # Set the desired font for this plot\n",
    "}\n",
    "\n",
    "show_keys = methods\n",
    "show_cols = ['batch', 'broad_cell_type', 'cell_type', 'mes_subtype', 'phase', 'seg_classify', 'LaneID', 'stage']\n",
    "basis_types = ['UMAP']\n",
    "\n",
    "font_size=10\n",
    "point_size=.1\n",
    "alpha=0.8\n",
    "ncols = len(show_keys)\n",
    "figsize=(ncols * 1.5,1.5)\n",
    "nrows = int(np.ceil(len(show_keys) / ncols))\n",
    "\n",
    "with plt.rc_context(rc=custom_rc):\n",
    "    ccd.pl.plot_all_embeddings(\n",
    "        adata,\n",
    "        show_keys,\n",
    "        color_bys=show_cols,\n",
    "        basis_types=basis_types,\n",
    "        pal=pal,\n",
    "        font_size=font_size,\n",
    "        point_size=point_size,\n",
    "        alpha=alpha,\n",
    "        figsize=figsize,\n",
    "        ncols=ncols,\n",
    "        seed=seed,\n",
    "        save_dir=save_dir,\n",
    "        file_suffix=file_suffix,\n",
    "        dpi=600,\n",
    "        save_format='svg'\n",
    "    )\n"
   ]
  },
  {
   "cell_type": "markdown",
   "metadata": {},
   "source": [
    "### Run CONCORD"
   ]
  },
  {
   "cell_type": "code",
   "execution_count": null,
   "metadata": {},
   "outputs": [],
   "source": [
    "#data_path = data_dir / 'adata_huycke_Mar31-2314.h5ad'\n",
    "data_path = data_dir / f\"adata_final_Jul17-1624.h5ad\"\n",
    "adata = sc.read(\n",
    "    data_path\n",
    ")"
   ]
  },
  {
   "cell_type": "code",
   "execution_count": null,
   "metadata": {},
   "outputs": [],
   "source": [
    "feature_list = ccd.ul.select_features(adata, n_top_features=5000, flavor='seurat_v3')\n",
    "concord_args = {\n",
    "        'adata': adata,\n",
    "        'input_feature': feature_list,\n",
    "        'domain_key': 'LaneID',\n",
    "        'batch_size': 256,\n",
    "        'latent_dim': 50,\n",
    "        'element_mask_prob': 0.4,\n",
    "        'feature_mask_prob': 0.0,\n",
    "        'clr_beta':0.0,\n",
    "        'clr_temperature': 0.3,\n",
    "        'p_intra_domain': 0.85,\n",
    "        'p_intra_knn': 0.1,\n",
    "        'n_epochs': 15,  # Number of epochs for training, adjust as needed\n",
    "        'save_dir': save_dir,\n",
    "        'load_data_into_memory': True,\n",
    "    }\n",
    "\n",
    "output_key = f'concord_knn'\n",
    "cur_ccd = ccd.Concord(**concord_args)\n",
    "cur_ccd.fit_transform(output_key=output_key)\n"
   ]
  },
  {
   "cell_type": "code",
   "execution_count": null,
   "metadata": {},
   "outputs": [],
   "source": [
    "feature_list = ccd.ul.select_features(adata, n_top_features=10000, flavor='seurat_v3')\n",
    "concord_args = {\n",
    "        'adata': adata,\n",
    "        'input_feature': feature_list,\n",
    "        'domain_key': 'LaneID',\n",
    "        'batch_size': 256,\n",
    "        'latent_dim': 50,\n",
    "        'element_mask_prob': 0.3,\n",
    "        'feature_mask_prob': 0.2,\n",
    "        'clr_beta':0.5,\n",
    "        'clr_temperature': 0.3,\n",
    "        'n_epochs': 15,  # Number of epochs for training, adjust as needed\n",
    "        'save_dir': save_dir,\n",
    "        'load_data_into_memory': True,\n",
    "    }\n",
    "\n",
    "output_key = f'concord_hcl'\n",
    "cur_ccd = ccd.Concord(**concord_args)\n",
    "cur_ccd.fit_transform(output_key=output_key)\n"
   ]
  },
  {
   "cell_type": "code",
   "execution_count": null,
   "metadata": {},
   "outputs": [],
   "source": [
    "basis = output_key\n",
    "file_suffix = time.strftime('%b%d-%H%M')\n",
    "ccd.ul.run_umap(adata, source_key=basis, result_key=f'{basis}_UMAP', n_components=2, n_neighbors=30, min_dist=0.1, metric='euclidean', random_state=seed)\n",
    "ccd.ul.run_umap(adata, source_key=basis, result_key=f'{basis}_UMAP_3D', n_components=3, n_neighbors=30, min_dist=0.1, metric='euclidean', random_state=seed)"
   ]
  },
  {
   "cell_type": "code",
   "execution_count": null,
   "metadata": {},
   "outputs": [],
   "source": [
    "basis = 'concord_hcl'\n",
    "show_basis = basis + '_UMAP'\n",
    "show_cols = ['batch', 'broad_cell_type', 'cell_type', 'mes_subtype', 'epi_subtype', 'phase', 'seg_classify', 'LaneID', 'stage']\n",
    "ccd.pl.plot_embedding(\n",
    "    adata, show_basis, show_cols, figsize=(13,12), dpi=600, ncols=3, font_size=6, point_size=1, legend_loc=\"on data\",\n",
    "    pal=pal,\n",
    "    save_path=save_dir / f\"{show_basis}_{file_suffix}.pdf\"\n",
    ")"
   ]
  },
  {
   "cell_type": "code",
   "execution_count": null,
   "metadata": {},
   "outputs": [],
   "source": [
    "show_cols = ['batch', 'broad_cell_type', 'cell_type', 'mes_subtype', 'phase', 'seg_classify', 'LaneID', 'stage']\n",
    "for col in show_cols:\n",
    "    show_basis = f'{basis}_UMAP_3D'\n",
    "    ccd.pl.plot_embedding_3d(\n",
    "            adata, basis=show_basis, color_by=col,\n",
    "            pal = pal, \n",
    "            save_path=save_dir / f'{show_basis}_{col}_{file_suffix}.html',\n",
    "            point_size=1, opacity=0.8, width=1300, height=1000, \n",
    "            autosize=True,\n",
    "            static=False\n",
    "        )"
   ]
  },
  {
   "cell_type": "code",
   "execution_count": null,
   "metadata": {},
   "outputs": [],
   "source": []
  },
  {
   "cell_type": "code",
   "execution_count": null,
   "metadata": {},
   "outputs": [],
   "source": []
  }
 ],
 "metadata": {
  "kernelspec": {
   "display_name": "cellpath",
   "language": "python",
   "name": "python3"
  },
  "language_info": {
   "codemirror_mode": {
    "name": "ipython",
    "version": 3
   },
   "file_extension": ".py",
   "mimetype": "text/x-python",
   "name": "python",
   "nbconvert_exporter": "python",
   "pygments_lexer": "ipython3",
   "version": "3.9.18"
  }
 },
 "nbformat": 4,
 "nbformat_minor": 2
}
