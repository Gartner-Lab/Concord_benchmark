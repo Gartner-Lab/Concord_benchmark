{
 "cells": [
  {
   "cell_type": "code",
   "execution_count": null,
   "metadata": {},
   "outputs": [],
   "source": [
    "%load_ext autoreload\n",
    "%autoreload 2"
   ]
  },
  {
   "cell_type": "markdown",
   "metadata": {},
   "source": [
    "## Basic setup"
   ]
  },
  {
   "cell_type": "code",
   "execution_count": null,
   "metadata": {},
   "outputs": [],
   "source": [
    "import numpy as np\n",
    "import scanpy as sc\n",
    "import time\n",
    "from pathlib import Path\n",
    "import torch\n",
    "import Concord as ccd\n",
    "import warnings\n",
    "warnings.filterwarnings('ignore')\n",
    "%matplotlib inline\n",
    "import matplotlib as mpl\n",
    "import matplotlib.pyplot as plt\n",
    "\n",
    "from matplotlib import font_manager, rcParams\n",
    "custom_rc = {\n",
    "    'font.family': 'Arial',  # Set the desired font for this plot\n",
    "}\n",
    "\n",
    "mpl.rcParams['svg.fonttype'] = 'none'\n",
    "mpl.rcParams['pdf.fonttype'] = 42"
   ]
  },
  {
   "cell_type": "code",
   "execution_count": 3,
   "metadata": {},
   "outputs": [],
   "source": [
    "data_dir = Path('../data/intestine_dev/')\n",
    "data_path = data_dir / 'adata_huycke_Jan08-1324.h5ad'\n",
    "\n",
    "adata = sc.read(\n",
    "    data_path\n",
    ")\n"
   ]
  },
  {
   "cell_type": "code",
   "execution_count": 4,
   "metadata": {},
   "outputs": [],
   "source": [
    "latent_obsm = ccd.ul.load_obsm_from_hdf5('../save/dev_benchmark_Huycke-Jan10/obsm_Jan10-1504.h5')\n",
    "for key in latent_obsm.keys():\n",
    "    if key not in adata.obsm.keys():\n",
    "        adata.obsm[key] = latent_obsm[key]"
   ]
  },
  {
   "cell_type": "code",
   "execution_count": null,
   "metadata": {},
   "outputs": [],
   "source": [
    "proj_name = \"benchmark_Huycke_cc_\"\n",
    "save_dir = f\"../save/dev_{proj_name}-{time.strftime('%b%d')}/\"\n",
    "save_dir = Path(save_dir)\n",
    "save_dir.mkdir(parents=True, exist_ok=True)\n",
    "#device = torch.device('cuda:0' if torch.cuda.is_available() else 'cpu')\n",
    "device = torch.device(\"mps\" if torch.backends.mps.is_available() else \"cpu\")\n",
    "print(f\"Using device: {device}\")\n",
    "seed = 0\n",
    "ccd.ul.set_seed(seed)\n",
    "file_suffix = f\"{time.strftime('%b%d-%H%M')}\""
   ]
  },
  {
   "cell_type": "markdown",
   "metadata": {},
   "source": [
    "### PCA space of the cell cycle genes"
   ]
  },
  {
   "cell_type": "code",
   "execution_count": null,
   "metadata": {},
   "outputs": [],
   "source": [
    "# Define cell cycle marker genes of mouse\n",
    "s_genes = [\n",
    "    'MCM5', 'PCNA', 'TYMS', 'FEN1', 'MCM2', 'MCM4', 'RRM1', 'UNG', 'GINS2', 'MCM6', 'CDCA7',\n",
    "    'DTL', 'PRIM1', 'UHRF1', 'MLF1IP', 'HELLS', 'RFC2', 'RPA2', 'NASP', 'RAD51AP1', 'GMNN',\n",
    "    'WDR76', 'SLBP', 'CCNE2', 'UBR7', 'POLD3', 'MSH2', 'ATAD2', 'RAD51', 'RRM2', 'CDC45',\n",
    "    'CDC6', 'EXO1', 'TIPIN', 'DSCC1', 'BLM', 'CASP8AP2', 'USP1', 'CLSPN', 'POLA1', 'CHAF1B',\n",
    "    'BRIP1', 'E2F8'\n",
    "]\n",
    "g2m_genes = [\n",
    "    'HMGB2', 'CDK1', 'NUSAP1', 'UBE2C', 'BIRC5', 'TPX2', 'TOP2A', 'NDC80', 'CKS2', 'NUF2',\n",
    "    'CKS1B', 'MKI67', 'TMPO', 'CENPF', 'TACC3', 'FAM64A', 'SMC4', 'CCNB2', 'CKAP2L', 'CKAP2',\n",
    "    'AURKB', 'BUB1', 'KIF11', 'ANP32E', 'TUBB4B', 'GTSE1', 'KIF20B', 'HJURP', 'CDCA3', 'HN1',\n",
    "    'CDC20', 'TTK', 'CDC25C', 'KIF2C', 'RANGAP1', 'NCAPD2', 'DLGAP5', 'CDCA2', 'CDCA8', 'ECT2',\n",
    "    'KIF23', 'HMMR', 'AURKA', 'PSRC1', 'ANLN', 'LBR', 'CKAP5', 'CENPE', 'CTCF', 'NEK2', 'G2E3',\n",
    "    'GAS2L3', 'CBX5', 'CENPA'\n",
    "]\n",
    "\n",
    "s_genes = ccd.ul.get_mouse_genes(s_genes)\n",
    "g2m_genes = ccd.ul.get_mouse_genes(g2m_genes)\n",
    "cc_genes = s_genes + g2m_genes\n",
    "\n",
    "# get the cc_genes that are in adata.var\n",
    "cc_genes = [gene for gene in cc_genes if gene in adata.var_names]\n",
    "\n",
    "adata_cc = adata[:, cc_genes].copy()\n",
    "\n",
    "# Remove erythrocytes\n",
    "#adata_cc = adata_cc[~adata_cc.obs['broad_cell_type'].isin(['Erythrocyte'])]"
   ]
  },
  {
   "cell_type": "code",
   "execution_count": null,
   "metadata": {},
   "outputs": [],
   "source": [
    "import pandas as pd\n",
    "\n",
    "cc_genes = pd.read_csv(data_dir / 'cello_benchmark_Huycke_cc__Jan09-1846/fmeta.csv', index_col=0)\n",
    "cc_genes"
   ]
  },
  {
   "cell_type": "code",
   "execution_count": 205,
   "metadata": {},
   "outputs": [],
   "source": [
    "adata_cc = adata[:, cc_genes.index]\n"
   ]
  },
  {
   "cell_type": "code",
   "execution_count": null,
   "metadata": {},
   "outputs": [],
   "source": [
    "# run PCA on the adata_cc\n",
    "ccd.ul.run_pca(adata_cc, source_key = 'X', result_key='PCA_cc', n_pc=30, random_state=seed)"
   ]
  },
  {
   "cell_type": "code",
   "execution_count": 207,
   "metadata": {},
   "outputs": [],
   "source": [
    "# run UMAP on the adata_cc\n",
    "ccd.ul.run_umap(adata_cc, source_key = 'PCA_cc', result_key='UMAP_cc', min_dist=0.1, metric='cosine', random_state=seed)"
   ]
  },
  {
   "cell_type": "code",
   "execution_count": 6,
   "metadata": {},
   "outputs": [],
   "source": [
    "# Define color palette for broad_cell_type_qz\n",
    "adata.obs['stage'] = adata.obs['MouseAge_combined']\n",
    "_, _, celltype_pal = ccd.pl.get_color_mapping(adata, 'cell_type', pal='Paired', seed=seed)\n",
    "_, _, broad_celltype_pal = ccd.pl.get_color_mapping(adata, 'broad_cell_type', pal='tab20', seed=seed)\n",
    "broad_celltype_pal['Doublet-like'] = '#757575'\n",
    "_, _, mes_pal = ccd.pl.get_color_mapping(adata, 'mes_subtype', pal='Paired', seed=seed)\n",
    "_, _, batch_pal = ccd.pl.get_color_mapping(adata,'batch', pal='Set1', seed=seed)\n",
    "_, _, phase_pal = ccd.pl.get_color_mapping(adata, 'phase', pal='Set1', seed=seed)\n",
    "_, _, seg_pal = ccd.pl.get_color_mapping(adata, 'seg_classify', pal='tab10', seed=seed)\n",
    "_, _, lane_pal = ccd.pl.get_color_mapping(adata,'LaneID', pal='Paired', seed=7)\n",
    "stage_pal = {\n",
    "    '12.5':\"midnightblue\", \n",
    "    '13.5':\"dodgerblue\", \n",
    "    '14.5':\"seagreen\", \n",
    "    '15.5':\"#00C000\", \n",
    "    '16.5':\"#EEC900\", \n",
    "    '17.5':\"#FF7F00\", \n",
    "    '18.5':\"#FF0000\"\n",
    "}\n",
    "pal = {\"cell_type\": celltype_pal,\n",
    "    \"broad_cell_type\": broad_celltype_pal,\n",
    "    \"mes_subtype\": mes_pal,\n",
    "    \"batch\": batch_pal,\n",
    "    'phase': phase_pal,\n",
    "    'stage': stage_pal,\n",
    "    'seg_classify': seg_pal,\n",
    "    'LaneID': lane_pal}\n",
    "\n",
    "concord_keys = [\"Concord\", 'Concord-decoder']\n",
    "other_keys = [\"Unintegrated\", \"Scanorama\", \"Liger\", \"Harmony\", \"scVI\", \"Seurat\"]\n",
    "combined_keys = other_keys + concord_keys\n",
    "unique_broad_cell_types = adata.obs['broad_cell_type'].unique()\n",
    "all_cts = [ct for ct in list(unique_broad_cell_types) if ct not in ['Doublet-like', 'Erythrocyte']] + ['Erythrocyte']"
   ]
  },
  {
   "cell_type": "code",
   "execution_count": 209,
   "metadata": {},
   "outputs": [],
   "source": [
    "# Cluster\n",
    "sc.pp.neighbors(adata_cc, n_neighbors=30, use_rep='PCA_cc', metric='cosine')\n",
    "sc.tl.leiden(adata_cc, resolution=0.5, key_added='leiden_cc')"
   ]
  },
  {
   "cell_type": "code",
   "execution_count": 210,
   "metadata": {},
   "outputs": [],
   "source": [
    "# Refine phase based on clustering\n",
    "adata_cc.obs['phase_refined'] = adata_cc.obs['phase'].astype(str)\n",
    "adata_cc.obs.loc[(adata_cc.obs['phase_refined'] == 'G2M') & (adata_cc.obs['leiden_cc'] == '4'), 'phase_refined'] = 'M'\n",
    "adata_cc.obs.loc[adata_cc.obs['phase_refined'] == 'G2M', 'phase_refined'] = 'G2'\n",
    "# copy to adata\n",
    "adata.obs['phase_refined'] = adata_cc.obs['phase_refined']"
   ]
  },
  {
   "cell_type": "code",
   "execution_count": 211,
   "metadata": {},
   "outputs": [],
   "source": [
    "pal['phase_refined'] = {'G1': '#4daf4a', 'S': '#e41a1c', 'G2': '#377eb8', 'M': '#984ea3'}"
   ]
  },
  {
   "cell_type": "code",
   "execution_count": null,
   "metadata": {},
   "outputs": [],
   "source": [
    "show_emb = 'PCA_cc'\n",
    "\n",
    "show_cols = ['phase', 'broad_cell_type', 'leiden_cc', 'phase_refined']\n",
    "\n",
    "ccd.pl.plot_embedding(\n",
    "    adata_cc, show_emb, show_cols, \n",
    "    pal=pal,\n",
    "    figsize=(6,1.5), dpi=600, ncols=len(show_cols), font_size=3, point_size=1, legend_loc='on data',\n",
    "    save_path=save_dir / f\"embeddings_{show_emb}_{file_suffix}.pdf\"\n",
    ")"
   ]
  },
  {
   "cell_type": "code",
   "execution_count": null,
   "metadata": {},
   "outputs": [],
   "source": [
    "show_emb = 'UMAP_cc'\n",
    "\n",
    "ccd.pl.plot_embedding(\n",
    "    adata_cc, show_emb, show_cols, \n",
    "    pal=pal,\n",
    "    figsize=(6,1.5), dpi=600, ncols=len(show_cols), font_size=3, point_size=1, legend_loc='on data',\n",
    "    save_path=save_dir / f\"embeddings_{show_emb}_{file_suffix}.pdf\"\n",
    ")"
   ]
  },
  {
   "cell_type": "code",
   "execution_count": null,
   "metadata": {},
   "outputs": [],
   "source": [
    "ccd.ul.anndata_to_viscello(adata_cc, data_dir / f\"cello_{proj_name}_{file_suffix}\", project_name = proj_name, organism='mmu')"
   ]
  },
  {
   "cell_type": "code",
   "execution_count": null,
   "metadata": {},
   "outputs": [],
   "source": [
    "show_emb = 'PCA_cc'\n",
    "\n",
    "show_cols = ['phase', 'phase_refined']\n",
    "\n",
    "# check the PCA results in the cc gene space for the 10 cell types\n",
    "ncols = len(all_cts)\n",
    "\n",
    "for col in show_cols:\n",
    "    fig, axs = plt.subplots(1, ncols, figsize=(13, 1.5))\n",
    "    axs = axs.flatten()\n",
    "\n",
    "    # Change legend font size to 10\n",
    "    for i in range(len(all_cts)):\n",
    "        ct = all_cts[i]\n",
    "        adata_sub = adata_cc[adata_cc.obs['broad_cell_type'] == ct].copy()\n",
    "        sc.pl.embedding(adata_sub, basis=show_emb, color=col, ax=axs[i], show=False, s=2, legend_loc='on data', legend_fontsize=7, palette=pal[col])\n",
    "        axs[i].set_xlabel('')\n",
    "        axs[i].set_ylabel('')\n",
    "        axs[i].set_title(ct, fontsize=10)\n",
    "\n",
    "    plt.tight_layout()\n",
    "    plt.savefig(save_dir / f\"embeddings_{show_emb}_{col}_{file_suffix}.png\", dpi=600)\n",
    "    plt.show()"
   ]
  },
  {
   "cell_type": "code",
   "execution_count": null,
   "metadata": {},
   "outputs": [],
   "source": [
    "adata.obsm['Seurat']"
   ]
  },
  {
   "cell_type": "markdown",
   "metadata": {},
   "source": [
    "### Latent correlation with cell cycle"
   ]
  },
  {
   "cell_type": "code",
   "execution_count": null,
   "metadata": {},
   "outputs": [],
   "source": [
    "import pandas as pd\n",
    "#use_key = 'Concord-decoder'\n",
    "use_key = 'Concord'\n",
    "#use_key = 'Seurat'\n",
    "# use_key = 'scVI'\n",
    "latent = adata.obsm[use_key]\n",
    "# Compute correlation matrix between each cell cycle score and the latent in adata.obsm[use_key]\n",
    "\n",
    "data = pd.DataFrame(latent)\n",
    "data = data.reset_index(drop=True)  # Drop any existing index in the latent data\n",
    "data"
   ]
  },
  {
   "cell_type": "code",
   "execution_count": null,
   "metadata": {},
   "outputs": [],
   "source": [
    "import pandas as pd\n",
    "#use_key = 'Concord-decoder'\n",
    "use_key = 'Concord'\n",
    "#use_key = 'Seurat'\n",
    "# use_key = 'scVI'\n",
    "latent = adata.obsm[use_key]\n",
    "# Compute correlation matrix between each cell cycle score and the latent in adata.obsm[use_key]\n",
    "\n",
    "latent = pd.DataFrame(latent)\n",
    "data = latent.reset_index(drop=True)  # Drop any existing index in the latent data\n",
    "\n",
    "# Add S_score and G2M_score after resetting their indices\n",
    "data['S'] = adata.obs['S_score'].reset_index(drop=True)\n",
    "\n",
    "data['G2M'] = adata.obs['G2M_score'].reset_index(drop=True)\n",
    "data['S-G2M'] = adata.obs['S_score'].reset_index(drop=True) - adata.obs['G2M_score'].reset_index(drop=True)\n",
    "data['G2M-S'] = adata.obs['G2M_score'].reset_index(drop=True) - adata.obs['S_score'].reset_index(drop=True)\n",
    "\n",
    "correlation_matrix = data.corr()\n",
    "\n",
    "# Extract correlations of S_score and G2M_score with the latent dimensions\n",
    "correlations = correlation_matrix.loc[['S', 'G2M', 'G2M-S', 'S-G2M'], latent.columns]\n",
    "\n",
    "correlations\n"
   ]
  },
  {
   "cell_type": "code",
   "execution_count": null,
   "metadata": {},
   "outputs": [],
   "source": [
    "import seaborn as sns\n",
    "import matplotlib.pyplot as plt\n",
    "from scipy.cluster.hierarchy import fcluster\n",
    "import numpy as np\n",
    "\n",
    "# Create clustermap\n",
    "clustermap = sns.clustermap(correlations, cmap='coolwarm', center=0, annot=False, fmt=\".2f\", figsize=(10, 4))\n",
    "\n",
    "# Extract the linkage matrix for columns (latent dimensions)\n",
    "linkage_matrix = clustermap.dendrogram_col.linkage  # Column dendrogram\n",
    "\n",
    "# Cut the dendrogram to form clusters at a specific level (e.g., max_distance = 1.0)\n",
    "max_distance = 0.3\n",
    "clusters = fcluster(linkage_matrix, t=max_distance, criterion='distance')\n",
    "\n",
    "# Map latent to cluster\n",
    "latent_dimension_clusters = pd.DataFrame(\n",
    "    data={\n",
    "        \"latent\": [f\"{i}\" for i in range(len(clusters))],\n",
    "        \"cluster\": clusters\n",
    "    }\n",
    ")\n",
    "\n",
    "# Visualize clusters as a bar in the clustermap\n",
    "# Create a color bar for the cluster assignments\n",
    "cluster_colors = sns.color_palette(\"tab10\", len(np.unique(clusters)))\n",
    "cluster_colors_mapped = [cluster_colors[c - 1] for c in clusters]\n",
    "\n",
    "# Add a color bar to the clustermap\n",
    "clustermap = sns.clustermap(\n",
    "    correlations,\n",
    "    cmap='coolwarm',\n",
    "    center=0,\n",
    "    annot=False,\n",
    "    fmt=\".2f\",\n",
    "    figsize=(10, 4),\n",
    "    col_colors=cluster_colors_mapped,\n",
    "    xticklabels=True,\n",
    "    yticklabels=True\n",
    ")\n",
    "\n",
    "# Set title and save the updated clustermap\n",
    "plt.title(f\"Correlation matrix with clusters in {use_key}\")\n",
    "plt.savefig(save_dir / f\"correlation_matrix_clusters_{use_key}_{file_suffix}.png\", dpi=600)\n"
   ]
  },
  {
   "cell_type": "code",
   "execution_count": null,
   "metadata": {},
   "outputs": [],
   "source": [
    "adata.obsm['Concord'][:,32]"
   ]
  },
  {
   "cell_type": "code",
   "execution_count": null,
   "metadata": {},
   "outputs": [],
   "source": [
    "show_basis = 'Concord_UMAP'\n",
    "\n",
    "for neuron_id in range(adata.obsm['Concord'].shape[1]):\n",
    "    adata.obs[f'N{neuron_id}'] = adata.obsm['Concord'][:,neuron_id]\n",
    "    show_cols = [f'N{neuron_id}']\n",
    "    with plt.rc_context(rc=custom_rc):\n",
    "        ccd.pl.plot_embedding(\n",
    "            adata, show_basis, show_cols, \n",
    "            pal='RdBu_r', vmax_quantile=.995,\n",
    "            figsize=(1.09,.9), dpi=600, ncols=len(show_cols), font_size=6, point_size=.1, legend_loc='on data', \n",
    "            save_path=save_dir / f\"embeddings__{show_basis}_{show_cols[0]}_{file_suffix}.pdf\"\n",
    "        )"
   ]
  },
  {
   "cell_type": "code",
   "execution_count": null,
   "metadata": {},
   "outputs": [],
   "source": [
    "# corrs_df = correlations.T\n",
    "# corrs_df['neuron'] = corrs_df.index.astype(int)\n",
    "# #corrs_df = corrs_df.sort_values('neuron')\n",
    "# top_threshold = 0.35\n",
    "# bottom_threshold = 0.2\n",
    "\n",
    "# top_nodes = corrs_df[(corrs_df['S'].abs() > top_threshold) | (corrs_df['G2M'].abs() > top_threshold)]\n",
    "# top_nodes_index = top_nodes['neuron']\n",
    "\n",
    "# bottom_nodes = corrs_df[(corrs_df['S'].abs() < bottom_threshold) & (corrs_df['G2M'].abs() < bottom_threshold)]\n",
    "# bottom_nodes_index = bottom_nodes['neuron']\n",
    "\n",
    "# top_nodes, bottom_nodes\n",
    "# cc_latents = top_nodes_index\n",
    "# noncc_latents = bottom_nodes_index"
   ]
  },
  {
   "cell_type": "code",
   "execution_count": null,
   "metadata": {},
   "outputs": [],
   "source": [
    "# # barplot the correlation between the S_score, G2M_score, G2M-S_score and the Concord latent\n",
    "# fig, ax = plt.subplots(1, 1, figsize=(6, 4))\n",
    "# corrs_df.plot(x='neuron', y=['S', 'G2M'], kind='bar', ax=ax)\n",
    "# # plot the threshold lines\n",
    "# plt.axhline(y=top_threshold, color='r', linestyle='--')\n",
    "# plt.axhline(y=-top_threshold, color='r', linestyle='--')\n",
    "# plt.axhline(y=bottom_threshold, color='b', linestyle=':')\n",
    "# plt.axhline(y=-bottom_threshold, color='b', linestyle=':')\n",
    "# plt.ylabel('Correlation')\n",
    "# plt.xlabel('Node index')\n",
    "# plt.title('Correlation between S, G2M and vConcord latent')\n",
    "\n",
    "# # highlight the top nodes' xticks\n",
    "# for i in range(len(top_nodes_index)):\n",
    "#     ax.get_xticklabels()[top_nodes_index[i]].set_color('r')\n",
    "#     ax.get_xticklabels()[top_nodes_index[i]].set_fontweight('bold')\n",
    "\n",
    "# # highlight the bottom nodes' xticks\n",
    "# for i in range(len(bottom_nodes_index)):\n",
    "#     ax.get_xticklabels()[bottom_nodes_index[i]].set_color('b')\n",
    "#     ax.get_xticklabels()[bottom_nodes_index[i]].set_fontweight('bold')\n",
    "\n",
    "# plt.tight_layout()"
   ]
  },
  {
   "cell_type": "code",
   "execution_count": null,
   "metadata": {},
   "outputs": [],
   "source": [
    "latent_dimension_clusters['cluster'].value_counts()"
   ]
  },
  {
   "cell_type": "code",
   "execution_count": null,
   "metadata": {},
   "outputs": [],
   "source": [
    "# Extract the latent belonging to cluster\n",
    "all_clusters = latent_dimension_clusters['cluster'].unique()\n",
    "#cc_clusters = [3,4,5]\n",
    "cc_clusters = [1,2,3,4,5,6]\n",
    "#cc_clusters = [1,3,4,5]\n",
    "noncc_clusters = all_clusters[~np.isin(all_clusters, cc_clusters)]\n",
    "cc_latents = np.where(latent_dimension_clusters['cluster'].isin(cc_clusters))[0]\n",
    "noncc_latents = np.where(latent_dimension_clusters['cluster'].isin(noncc_clusters))[0]\n",
    "print(f\"Cell cycle related latent dimensions: {cc_latents}\")\n",
    "print(f\"Non-cell cycle related latent dimensions: {noncc_latents}\")"
   ]
  },
  {
   "cell_type": "code",
   "execution_count": null,
   "metadata": {},
   "outputs": [],
   "source": [
    "adata.obsm[f'{use_key}_cc'] = adata.obsm[use_key][:, cc_latents]\n",
    "adata.obsm[f'{use_key}_noncc'] = adata.obsm[use_key][:, noncc_latents]\n",
    "n_pc = 3\n",
    "ccd.ul.run_pca(adata, source_key=f'{use_key}_cc', result_key=f'{use_key}_cc_PCA_global', n_pc=n_pc, random_state=seed)\n",
    "ccd.ul.run_pca(adata, source_key=f'{use_key}_noncc', result_key=f'{use_key}_noncc_PCA_global', n_pc=n_pc, random_state=seed)"
   ]
  },
  {
   "cell_type": "code",
   "execution_count": 82,
   "metadata": {},
   "outputs": [],
   "source": [
    "import re\n",
    "for i in range(len(all_cts)):\n",
    "    ct = all_cts[i]\n",
    "    sanitized_ct = re.sub(r'[^\\w\\-]', '_', ct)\n",
    "    adata_subset = adata[adata.obs['broad_cell_type'] == ct].copy()\n",
    "    #adata_subset = sc.read(data_dir / f\"adata_cc_{sanitized_ct}_Jan10-1241.h5ad\")\n",
    "    ccd.ul.run_pca(adata_subset, source_key=f'{use_key}_cc', result_key=f'{use_key}_cc_PCA', n_pc=n_pc, random_state=seed)\n",
    "    ccd.ul.run_umap(adata_subset, source_key=f'{use_key}_cc', result_key=f'{use_key}_cc_UMAP', metric='cosine', min_dist=0.1, random_state=seed)\n",
    "    ccd.ul.run_pca(adata_subset, source_key=f'{use_key}_noncc', result_key=f'{use_key}_noncc_PCA', n_pc=n_pc, random_state=seed)\n",
    "    ccd.ul.run_umap(adata_subset, source_key=f'{use_key}_noncc', result_key=f'{use_key}_noncc_UMAP', metric='cosine', min_dist=0.1, random_state=seed)\n",
    "\n",
    "    adata_subset.write_h5ad(data_dir / f\"adata_cc_{sanitized_ct}_{file_suffix}.h5ad\")"
   ]
  },
  {
   "cell_type": "code",
   "execution_count": null,
   "metadata": {},
   "outputs": [],
   "source": [
    "show_embs = [f'{use_key}_cc_PCA_global', f'{use_key}_cc_PCA', f'{use_key}_cc_UMAP'] + [f'{use_key}_noncc_PCA_global', f'{use_key}_noncc_PCA', f'{use_key}_noncc_UMAP']\n",
    "show_cols = ['phase', 'phase_refined']\n",
    "ncols = len(all_cts)\n",
    "for j, show_emb in enumerate(show_embs):\n",
    "    for col in show_cols:\n",
    "        fig, axs = plt.subplots(1, ncols, figsize=(13, 1.5))\n",
    "        axs = axs.flatten()\n",
    "\n",
    "        # Change legend font size to 10\n",
    "        for i in range(len(all_cts)):\n",
    "            ct = all_cts[i]\n",
    "            sanitized_ct = re.sub(r'[^\\w\\-]', '_', ct)\n",
    "            adata_subset = sc.read(data_dir / f\"adata_cc_{sanitized_ct}_Jan11-1338.h5ad\")\n",
    "            sc.pl.embedding(adata_subset, basis=show_emb, color=col, ax=axs[i], show=False, s=2, legend_loc='on data', legend_fontsize=7, palette=pal[col])\n",
    "            axs[i].set_xlabel('')\n",
    "            axs[i].set_ylabel('')\n",
    "            axs[i].set_title(ct, fontsize=10)\n",
    "\n",
    "        plt.tight_layout()\n",
    "        plt.savefig(save_dir / f\"embeddings_{show_emb}_{col}_{file_suffix}.pdf\", dpi=600)\n",
    "        plt.show()"
   ]
  },
  {
   "cell_type": "markdown",
   "metadata": {},
   "source": [
    "## Interpretation of neurons with importance analysis"
   ]
  },
  {
   "cell_type": "code",
   "execution_count": 272,
   "metadata": {},
   "outputs": [],
   "source": [
    "adata.obsm['Seurat'] = adata.obsm['Seurat'].to_numpy()"
   ]
  },
  {
   "cell_type": "code",
   "execution_count": null,
   "metadata": {},
   "outputs": [],
   "source": [
    "show_basis = 'Concord'\n",
    "#show_basis = 'Concord-decoder'\n",
    "show_basis = 'Seurat'\n",
    "show_basis = 'scVI'\n",
    "ncells = 1000\n",
    "adata_ds = adata.copy()[np.random.choice(adata.n_obs, ncells, replace=False), :]\n",
    "ccd.pl.heatmap_with_annotations(adata_ds, val=show_basis, transpose=True, obs_keys=['broad_cell_type', 'phase'], \n",
    "                             cmap='viridis', vmin=None, vmax=None, \n",
    "                             cluster_rows=True, cluster_cols=True, pal=pal, add_color_legend=True,\n",
    "                             value_annot=False, title=None, title_fontsize=8, annot_fontsize=8,\n",
    "                             yticklabels=False, xticklabels=False, \n",
    "                             use_clustermap=True, \n",
    "                             cluster_method='ward',        \n",
    "                             cluster_metric='euclidean',\n",
    "                             rasterize=True,\n",
    "                             ax=None,\n",
    "                             figsize=(4.5,1.8), \n",
    "                             seed = seed,\n",
    "                             dpi=600, show=True, save_path=save_dir / f\"heatmap_{show_basis}_{file_suffix}.pdf\")"
   ]
  },
  {
   "cell_type": "code",
   "execution_count": 287,
   "metadata": {},
   "outputs": [],
   "source": [
    "# Load model and predict latent\n",
    "config_file = '../save/dev_benchmark_Huycke-Jan07/config_Jan07-1248.json'\n",
    "model_file = '../save/dev_benchmark_Huycke-Jan07/final_model_Jan07-1248.pt'\n",
    "# Load config\n",
    "concord_args = ccd.ul.load_json(str(config_file))\n",
    "concord_args['pretrained_model'] = model_file\n",
    "\n",
    "# Downsample data to a small subset for fast estimation of feature contribution to the latent space\n",
    "import re\n",
    "layer_index = 6\n",
    "import numpy as np\n",
    "#adata_subset = adata.copy()[np.random.choice(adata.n_obs, 10000, replace=False), cur_ccd.config.input_feature]\n"
   ]
  },
  {
   "cell_type": "markdown",
   "metadata": {},
   "source": [
    "### Importance analysis across cell types"
   ]
  },
  {
   "cell_type": "code",
   "execution_count": null,
   "metadata": {},
   "outputs": [],
   "source": [
    "unique_broad_cell_types = adata.obs['broad_cell_type'].unique()\n",
    "all_cts = [ct for ct in list(unique_broad_cell_types) if ct not in ['Doublet-like', 'Erythrocyte']] + ['Erythrocyte']\n",
    "importance_results = {}\n",
    "for ct in all_cts:\n",
    "    print(ct)\n",
    "    sanitized_ct = re.sub(r'[^\\w\\-]', '_', ct)\n",
    "    #adata_subset = adata[adata.obs['broad_cell_type'] == ct].copy()\n",
    "    adata_subset = sc.read(data_dir / f\"adata_huycke_{sanitized_ct}_Jan08-1324.h5ad\")\n",
    "    adata_subset = adata_subset[:, concord_args['input_feature']]\n",
    "\n",
    "    cur_ccd = ccd.Concord(adata=adata_subset, **concord_args)\n",
    "    cur_ccd.init_model()\n",
    "    cur_ccd.init_dataloader(input_layer_key='X', preprocess=True, train_frac=1.0, use_sampler=False)\n",
    "    input_tensors = torch.tensor(adata_subset.X.toarray()).to(cur_ccd.config.device)\n",
    "    importance_matrix = ccd.ul.compute_feature_importance(cur_ccd.model, input_tensors, layer_index=layer_index)\n",
    "    importance_results[ct] = importance_matrix\n"
   ]
  },
  {
   "cell_type": "markdown",
   "metadata": {},
   "source": [
    "Order neuron activation genes for each cell type"
   ]
  },
  {
   "cell_type": "code",
   "execution_count": 395,
   "metadata": {},
   "outputs": [],
   "source": [
    "ranked_gene_lists = {}\n",
    "for ct in all_cts:\n",
    "    sanitized_ct = re.sub(r'[^\\w\\-]', '_', ct)\n",
    "    adata_subset = sc.read(data_dir / f\"adata_huycke_{sanitized_ct}_Jan08-1324.h5ad\")\n",
    "    adata_subset = adata_subset[:, concord_args['input_feature']]\n",
    "    ranked_lists = ccd.ul.prepare_ranked_list(importance_results[ct], adata=adata_subset, expr_level=True)\n",
    "    # Define filters\n",
    "    min_zero_frac = 0.03\n",
    "    min_expression_level = 0\n",
    "\n",
    "    # Filter function\n",
    "    def filter_genes(df, min_zero_frac, min_expression_level):\n",
    "        return df[(df[\"Nonzero Fraction\"] > min_zero_frac) & (df[\"Expression Level\"] > min_expression_level)]\n",
    "\n",
    "    # Apply the filter to all neuron lists\n",
    "    filtered_gene_lists = {key: filter_genes(df, min_zero_frac, min_expression_level) for key, df in ranked_lists.items()}\n",
    "    ranked_gene_lists[ct] = filtered_gene_lists"
   ]
  },
  {
   "cell_type": "markdown",
   "metadata": {},
   "source": [
    "Plotting the top genes for each cell type"
   ]
  },
  {
   "cell_type": "code",
   "execution_count": null,
   "metadata": {},
   "outputs": [],
   "source": [
    "show_cts = all_cts\n",
    "# show_neurons = ['Neuron 32', 'Neuron 47',  # Global\n",
    "#                 'Neuron 11', 'Neuron 39', 'Neuron 46', 'Neuron 8', 'Neuron 23', 'Neuron 2', # ENS\n",
    "#                 'Neuron 42', 'Neuron 40', 'Neuron 31', 'Neuron 46', 'Neuron 37', 'Neuron 3', 'Neuron 19', 'Neuron 0'] # Epitheial\n",
    "#show_neurons = ['Neuron 46']\n",
    "show_neurons = np.unique(show_neurons)\n",
    "for ct in show_cts:\n",
    "       sanitized_ct = re.sub(r'[^\\w\\-]', '_', ct)\n",
    "       show_gene_lists = ranked_gene_lists[ct]\n",
    "       show_gene_lists = {key: show_gene_lists[key] for key in show_neurons}\n",
    "       show_basis = 'Concord_UMAP_sub'\n",
    "       adata_subset = sc.read(data_dir / f\"adata_huycke_{sanitized_ct}_Jan08-1324.h5ad\")\n",
    "       ccd.pl.plot_top_genes_embedding(adata_subset, show_gene_lists, show_basis, top_x=8, figsize=(7.5, 1), point_size=1,\n",
    "                                   font_size=7, colorbar_loc=None, vmax_quantile=.99,\n",
    "                            save_path=save_dir / f\"{sanitized_ct}_embeddings_{show_basis}\")"
   ]
  },
  {
   "cell_type": "code",
   "execution_count": 397,
   "metadata": {},
   "outputs": [],
   "source": [
    "# Select a neuron and show its activating top genes across cell types\n",
    "show_neuron = 'Neuron 46'\n",
    "show_cts = all_cts\n",
    "activation_gene_lists = {}\n",
    "for ct in show_cts:\n",
    "    sanitized_ct = re.sub(r'[^\\w\\-]', '_', ct)\n",
    "    activation_gene_lists[ct] = ranked_gene_lists[ct][show_neuron]"
   ]
  },
  {
   "cell_type": "code",
   "execution_count": null,
   "metadata": {},
   "outputs": [],
   "source": [
    "ccd.pl.plot_top_genes_per_neuron(activation_gene_lists, figsize=(4,3), save_path=save_dir / f\"top_genes_neuron_{show_neuron}_{file_suffix}.pdf\")"
   ]
  },
  {
   "cell_type": "code",
   "execution_count": null,
   "metadata": {},
   "outputs": [],
   "source": [
    "show_basis = 'Concord_UMAP_sub'\n",
    "show_ct = 'Epithelial'\n",
    "#show_ct = 'ENS'\n",
    "show_gene_list = {show_neuron: activation_gene_lists[show_ct]}\n",
    "sanitized_ct = re.sub(r'[^\\w\\-]', '_', show_ct)\n",
    "adata_subset = sc.read(data_dir / f\"adata_huycke_{sanitized_ct}_Jan08-1324.h5ad\")\n",
    "ccd.pl.plot_top_genes_embedding(adata_subset, show_gene_list, show_basis, top_x=10, figsize=(9, 1), point_size=1,\n",
    "                                font_size=7, colorbar_loc=None, vmax_quantile=.99,\n",
    "                         save_path=save_dir / f\"{sanitized_ct}_embeddings_{show_basis}\")"
   ]
  },
  {
   "cell_type": "code",
   "execution_count": 399,
   "metadata": {},
   "outputs": [],
   "source": [
    "import pandas as pd\n",
    "\n",
    "# Load ortholog table (adjust file path as needed)\n",
    "orthologs = pd.read_csv(\"../resources/HOM_MouseHumanSequence.rpt\", sep=\"\\t\")\n",
    "mouse_to_human_dict = ccd.ul.get_human_genes_offline(adata.var.index, orthologs=orthologs, return_type='dict')"
   ]
  },
  {
   "cell_type": "code",
   "execution_count": null,
   "metadata": {},
   "outputs": [],
   "source": [
    "import pandas as pd\n",
    "import copy\n",
    "\n",
    "gsea_gene_lists = copy.deepcopy(activation_gene_lists)\n",
    "# Convert mouse genes to human genes\n",
    "for key, df in gsea_gene_lists.items():\n",
    "    # Map mouse genes to human genes using mouse_to_human_dict\n",
    "    df['Gene_mouse'] = df['Gene'].copy()\n",
    "    df['Gene'] = df['Gene_mouse'].map(mouse_to_human_dict).fillna(df['Gene_mouse'])\n",
    "\n",
    "gsea_gene_lists\n"
   ]
  },
  {
   "cell_type": "code",
   "execution_count": null,
   "metadata": {},
   "outputs": [],
   "source": [
    "import gseapy as gp\n",
    "import os\n",
    "all_gsea_results = {}\n",
    "gene_sets='GO_Biological_Process_2021'\n",
    "\n",
    "condition_ct = 'Epithelial'\n",
    "#condition_ct = 'ENS'\n",
    "ranked_list = gsea_gene_lists[condition_ct]\n",
    "# Take top 2.5% of genes based on importance\n",
    "top_genes = ranked_list[ranked_list['Importance'] > ranked_list['Importance'].quantile(0.95)]\n",
    "with plt.rc_context(rc=custom_rc):\n",
    "    ccd.ul.compute_go(top_genes['Gene_mouse'], organism=\"mouse\", font_size=12, figsize=(7,3), dpi=600, save_path=save_dir / f\"gsea_{condition_ct}_{show_neuron}_{file_suffix}.pdf\")"
   ]
  },
  {
   "cell_type": "code",
   "execution_count": 527,
   "metadata": {},
   "outputs": [],
   "source": [
    "show_ct = 'Epithelial'\n",
    "show_ct = 'ENS'\n",
    "sanitized_ct = re.sub(r'[^\\w\\-]', '_', show_ct)\n",
    "adata_subset = sc.read(data_dir / f\"adata_huycke_{sanitized_ct}_Jan08-1324.h5ad\")\n",
    "score_name = f'{condition_ct}_{show_neuron}_top_gene_score'\n",
    "sc.tl.score_genes(adata_subset, gene_list=top_genes['Gene_mouse'], score_name=score_name)"
   ]
  },
  {
   "cell_type": "code",
   "execution_count": null,
   "metadata": {},
   "outputs": [],
   "source": [
    "show_basis = 'Concord_UMAP_sub'\n",
    "show_cols = [score_name]\n",
    "with plt.rc_context(rc=custom_rc):\n",
    "    ccd.pl.plot_embedding(\n",
    "        adata_subset, show_basis, show_cols, \n",
    "        pal='RdBu_r', vmax=.2,\n",
    "        figsize=(1.09,.9), dpi=600, ncols=len(show_cols), font_size=6, point_size=1, legend_loc='on data', \n",
    "        save_path=save_dir / f\"embeddings_{show_ct}_{show_basis}_{condition_ct}_score_{file_suffix}.pdf\"\n",
    "    )"
   ]
  },
  {
   "cell_type": "code",
   "execution_count": null,
   "metadata": {},
   "outputs": [],
   "source": []
  }
 ],
 "metadata": {
  "kernelspec": {
   "display_name": "concord",
   "language": "python",
   "name": "python3"
  },
  "language_info": {
   "codemirror_mode": {
    "name": "ipython",
    "version": 3
   },
   "file_extension": ".py",
   "mimetype": "text/x-python",
   "name": "python",
   "nbconvert_exporter": "python",
   "pygments_lexer": "ipython3",
   "version": "3.12.2"
  }
 },
 "nbformat": 4,
 "nbformat_minor": 2
}
