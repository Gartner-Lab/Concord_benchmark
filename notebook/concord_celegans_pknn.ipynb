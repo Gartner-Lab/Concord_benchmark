{
 "cells": [
  {
   "cell_type": "code",
   "execution_count": 1,
   "metadata": {},
   "outputs": [],
   "source": [
    "%load_ext autoreload\n",
    "%autoreload 2"
   ]
  },
  {
   "cell_type": "markdown",
   "metadata": {},
   "source": [
    "## Basic setup"
   ]
  },
  {
   "cell_type": "code",
   "execution_count": null,
   "metadata": {},
   "outputs": [],
   "source": [
    "import Concord as ccd\n",
    "import scanpy as sc\n",
    "import torch\n",
    "import warnings\n",
    "from pathlib import Path\n",
    "warnings.filterwarnings('ignore')\n",
    "import matplotlib as mpl\n",
    "mpl.rcParams['svg.fonttype'] = 'none'\n",
    "mpl.rcParams['pdf.fonttype'] = 42\n",
    "\n",
    "data_dir = Path('../data/celegans_data/')\n",
    "data_path = data_dir / \"celegans_global_adata.h5ad\"\n",
    "# adata = sc.read(\n",
    "#     data_path\n",
    "# )\n",
    "#adata = sc.read(data_dir/'celegans_Dec17-2043.h5ad')\n",
    "adata = sc.read(data_dir/'adata_pknn_Jan23-1836.h5ad')"
   ]
  },
  {
   "cell_type": "code",
   "execution_count": null,
   "metadata": {},
   "outputs": [],
   "source": [
    "adata.obsm.keys()"
   ]
  },
  {
   "cell_type": "code",
   "execution_count": null,
   "metadata": {},
   "outputs": [],
   "source": [
    "concord_keys = [key for key in adata.obsm.keys() if 'sknn300_clr0.5_aug0.3' in key and 'UMAP' not in key]\n",
    "concord_keys"
   ]
  },
  {
   "cell_type": "code",
   "execution_count": null,
   "metadata": {},
   "outputs": [],
   "source": [
    "import time\n",
    "from pathlib import Path\n",
    "proj_name = \"concord_celegans\"\n",
    "save_dir = f\"../save/dev_{proj_name}-{time.strftime('%b%d')}/\"\n",
    "save_dir = Path(save_dir)\n",
    "save_dir.mkdir(parents=True, exist_ok=True)\n",
    "#device = torch.device('mps' if torch.cuda.is_available() else 'cpu')\n",
    "device = torch.device('mps')\n",
    "file_suffix = f\"{time.strftime('%b%d-%H%M')}\"\n",
    "seed = 0"
   ]
  },
  {
   "cell_type": "code",
   "execution_count": null,
   "metadata": {},
   "outputs": [],
   "source": [
    "adata.layers[\"counts\"] = adata.X.copy()\n",
    "sc.pp.normalize_total(adata)\n",
    "sc.pp.log1p(adata)\n",
    "adata = adata[adata.obs['to.filter'] == 'FALSE']"
   ]
  },
  {
   "cell_type": "markdown",
   "metadata": {},
   "source": [
    "## Run Concord"
   ]
  },
  {
   "cell_type": "code",
   "execution_count": null,
   "metadata": {},
   "outputs": [],
   "source": [
    "feature_list = ccd.ul.select_features(adata, n_top_features=10000, flavor='seurat_v3')\n",
    "\n",
    "concord_args = {\n",
    "        'adata': adata,\n",
    "        'input_feature': feature_list,\n",
    "        'batch_size':64,\n",
    "        'latent_dim': 300,\n",
    "        'encoder_dims':[1000],\n",
    "        'decoder_dims':[1000],\n",
    "        'augmentation_mask_prob': 0.3, \n",
    "        'clr_temperature': 0.5,\n",
    "        'p_intra_knn': 0.3,\n",
    "        'sampler_knn': 300,\n",
    "        'min_p_intra_domain': .95,\n",
    "        'n_epochs': 10,\n",
    "        'domain_key': 'batch',\n",
    "        'verbose': False,\n",
    "        'inplace': False,\n",
    "        'seed': seed,\n",
    "        'device': device,\n",
    "        'save_dir': save_dir\n",
    "    }"
   ]
  },
  {
   "cell_type": "markdown",
   "metadata": {},
   "source": [
    "### Concord, no decoder"
   ]
  },
  {
   "cell_type": "code",
   "execution_count": null,
   "metadata": {},
   "outputs": [],
   "source": [
    "output_key = f'Concord_pknn{concord_args[\"p_intra_knn\"]}_sknn{concord_args[\"sampler_knn\"]}_clr{concord_args[\"clr_temperature\"]}_aug{concord_args[\"augmentation_mask_prob\"]}_bs{concord_args[\"batch_size\"]}_latent{concord_args[\"latent_dim\"]}'\n",
    "cur_ccd = ccd.Concord(use_decoder=False, **concord_args)"
   ]
  },
  {
   "cell_type": "code",
   "execution_count": null,
   "metadata": {},
   "outputs": [],
   "source": [
    "cur_ccd.encode_adata(input_layer_key='X_log1p', output_key=output_key)\n",
    "# Save the latent embedding to a filem, so that it can be loaded later\n",
    "ccd.ul.save_obsm_to_hdf5(cur_ccd.adata, save_dir / f\"obsm_{file_suffix}.h5\")\n",
    "adata.obsm = cur_ccd.adata.obsm # If not inplace"
   ]
  },
  {
   "cell_type": "code",
   "execution_count": null,
   "metadata": {},
   "outputs": [],
   "source": [
    "basis = output_key\n",
    "ccd.ul.run_umap(adata, source_key=basis, result_key=f'{basis}_UMAP', n_components=2, n_neighbors=30, min_dist=0.1, metric='euclidean', random_state=seed)"
   ]
  },
  {
   "cell_type": "code",
   "execution_count": null,
   "metadata": {},
   "outputs": [],
   "source": [
    "\n",
    "show_basis = basis + '_UMAP'\n",
    "show_cols = ['cell.type', 'plot.cell.type',  'raw.embryo.time']\n",
    "pal = {'cell.type': 'tab20', 'plot.cell.type':'tab20', 'raw.embryo.time': 'BlueGreenRed'}\n",
    "ccd.pl.plot_embedding(\n",
    "    adata, show_basis, show_cols, figsize=(11,4), dpi=600, ncols=3, font_size=3, point_size=1, legend_loc='on data',\n",
    "    pal = pal,\n",
    "    save_path=save_dir / f\"{show_basis}_{file_suffix}.pdf\"\n",
    ")"
   ]
  },
  {
   "cell_type": "code",
   "execution_count": null,
   "metadata": {},
   "outputs": [],
   "source": [
    "cur_ccd.init_dataloader(input_layer_key=\"X_log1p\", use_sampler=True)"
   ]
  },
  {
   "cell_type": "code",
   "execution_count": null,
   "metadata": {},
   "outputs": [],
   "source": [
    "import numpy as np\n",
    "dataloader = cur_ccd.loader[0][0]\n",
    "# from 0 to 100\n",
    "batch_indices = np.arange(10)\n",
    "data_structure = cur_ccd.data_structure\n",
    "attribute = 'idx'\n",
    "hl_indices = []\n",
    "found_indices = set()\n",
    "\n",
    "for batch_idx, batch in enumerate(dataloader):\n",
    "    if batch_idx in batch_indices:\n",
    "        attr_data = batch[data_structure.index(attribute)].cpu()\n",
    "        hl_indices.append(attr_data)\n",
    "        found_indices.add(batch_idx)\n",
    "        if len(found_indices) == len(batch_indices):\n",
    "            break\n",
    "\n",
    "hl_indices"
   ]
  },
  {
   "cell_type": "code",
   "execution_count": null,
   "metadata": {},
   "outputs": [],
   "source": [
    "# Plot embedding highlighting points in each batch\n",
    "batch_idx = 3\n",
    "show_cols = ['cell.type', 'plot.cell.type',  'raw.embryo.time']\n",
    "pal = {'cell.type': 'tab20', 'plot.cell.type':'tab20', 'raw.embryo.time': 'BlueGreenRed'}\n",
    "show_basis = f'{basis}_UMAP'\n",
    "ccd.pl.plot_embedding(\n",
    "    adata, show_basis, show_cols, figsize=(11,4), dpi=600, ncols=3, font_size=3, point_size=1, legend_loc=None,\n",
    "    highlight_indices = hl_indices[batch_idx].cpu().numpy(), highlight_color='black', highlight_size=2,\n",
    "    pal = pal,\n",
    "    save_path=save_dir / f\"{show_basis}_{file_suffix}_batchhl_{batch_idx}.pdf\"\n",
    ")"
   ]
  },
  {
   "cell_type": "code",
   "execution_count": null,
   "metadata": {},
   "outputs": [],
   "source": [
    "# plot everything\n",
    "import numpy as np\n",
    "import matplotlib.pyplot as plt\n",
    "import pandas as pd\n",
    "from matplotlib import font_manager, rcParams\n",
    "file_suffix = f\"{time.strftime('%b%d-%H%M')}\"\n",
    "# Set Arial as the default font\n",
    "custom_rc = {\n",
    "    'font.family': 'Arial',  # Set the desired font for this plot\n",
    "}\n",
    "\n",
    "show_cols = ['raw.embryo.time', 'cell.type', 'plot.cell.type']\n",
    "pal = {'cell.type': 'Set1', 'plot.cell.type':'tab20', 'raw.embryo.time': 'BlueGreenRed'}\n",
    "#basis_types = ['', 'PAGA', 'KNN', 'PCA', 'UMAP']\n",
    "basis_types = ['UMAP']\n",
    "font_size=5\n",
    "point_size=.5\n",
    "alpha=0.8\n",
    "figsize=(10,1.6)\n",
    "ncols = len(concord_keys)\n",
    "nrows = int(np.ceil(len(concord_keys) / ncols))\n",
    "k=15\n",
    "edges_color='grey'\n",
    "edges_width=0.05\n",
    "layout='kk'\n",
    "threshold = 0.1\n",
    "node_size_scale=0.1\n",
    "edge_width_scale=0.1\n",
    "\n",
    "with plt.rc_context(rc=custom_rc):\n",
    "    ccd.pl.plot_all_embeddings(\n",
    "        adata,\n",
    "        concord_keys,\n",
    "        color_bys=show_cols,\n",
    "        basis_types=basis_types,\n",
    "        pal=pal,\n",
    "        k=k,\n",
    "        edges_color=edges_color,\n",
    "        edges_width=edges_width,\n",
    "        layout=layout,\n",
    "        threshold=threshold,\n",
    "        node_size_scale=node_size_scale,\n",
    "        edge_width_scale=edge_width_scale,\n",
    "        font_size=font_size,\n",
    "        point_size=point_size,\n",
    "        alpha=alpha,\n",
    "        figsize=figsize,\n",
    "        ncols=ncols,\n",
    "        seed=1,\n",
    "        leiden_key='leiden',\n",
    "        legend_loc=None,\n",
    "        save_dir=save_dir,\n",
    "        file_suffix=file_suffix+'_subset',\n",
    "        save_format='pdf'\n",
    "    )"
   ]
  },
  {
   "cell_type": "markdown",
   "metadata": {},
   "source": [
    "### Subgroup analysis"
   ]
  },
  {
   "cell_type": "code",
   "execution_count": null,
   "metadata": {},
   "outputs": [],
   "source": [
    "subset_name = 'Neuron'\n",
    "selected_lins = ['Ciliated_non_amphid_neuron', 'Ciliated_amphid_neuron']\n",
    "adata_subset = adata[adata.obs['cell.type'].isin(selected_lins)]\n",
    "print(adata_subset.shape)"
   ]
  },
  {
   "cell_type": "code",
   "execution_count": null,
   "metadata": {},
   "outputs": [],
   "source": [
    "# Plot expression pattern of top VEGs\n",
    "n_veg = 3000\n",
    "top_vegs = ccd.ul.select_features(adata_subset, n_top_features=n_veg, flavor='seurat_v3')\n",
    "ds_cellnum=1000\n",
    "# downsample adata_subset\n",
    "adata_subset_ds = adata_subset[np.random.choice(adata_subset.obs.index, ds_cellnum, replace=False)]\n",
    "ccd.pl.heatmap_with_annotations(adata_subset_ds[:, top_vegs], val = 'X', obs_keys=['cell.type', 'plot.cell.type', 'embryo.time'], \n",
    "                                pal=pal,\n",
    "                                yticklabels=False, figsize=(5, 5),\n",
    "                                save_path=save_dir / f\"heatmap_{subset_name}_veg{n_veg}_{file_suffix}.pdf\")"
   ]
  },
  {
   "cell_type": "code",
   "execution_count": null,
   "metadata": {},
   "outputs": [],
   "source": [
    "# Plot expression pattern of top VEGs\n",
    "n_veg = 10000\n",
    "top_vegs = ccd.ul.select_features(adata, n_top_features=n_veg, flavor='seurat_v3')\n",
    "ds_cellnum=3000\n",
    "# downsample adata\n",
    "adata_ds = adata[np.random.choice(adata.obs.index, ds_cellnum, replace=False)]\n",
    "ccd.pl.heatmap_with_annotations(adata_ds[:, top_vegs], val = 'X', obs_keys=['cell.type', 'plot.cell.type', 'embryo.time'], \n",
    "                                pal=pal,\n",
    "                                yticklabels=False, figsize=(5, 5),\n",
    "                                save_path=save_dir / f\"heatmap_global_veg{n_veg}_{file_suffix}.pdf\")"
   ]
  },
  {
   "cell_type": "code",
   "execution_count": null,
   "metadata": {},
   "outputs": [],
   "source": [
    "# Run umap and PCA for all latent embeddings\n",
    "for basis in concord_keys:\n",
    "    print(\"Running UMAP for\", basis)\n",
    "    if basis not in adata_subset.obsm:\n",
    "        continue\n",
    "    if 'UMAP' not in basis:\n",
    "        ccd.ul.run_umap(adata_subset, source_key=basis, result_key=f'{basis}_UMAP_{subset_name}', n_components=2, n_neighbors=30, min_dist=0.1, metric='euclidean', random_state=seed)\n"
   ]
  },
  {
   "cell_type": "code",
   "execution_count": null,
   "metadata": {},
   "outputs": [],
   "source": [
    "# plot everything\n",
    "import numpy as np\n",
    "import matplotlib.pyplot as plt\n",
    "import pandas as pd\n",
    "from matplotlib import font_manager, rcParams\n",
    "file_suffix = f\"{time.strftime('%b%d-%H%M')}\"\n",
    "# Set Arial as the default font\n",
    "custom_rc = {\n",
    "    'font.family': 'Arial',  # Set the desired font for this plot\n",
    "}\n",
    "\n",
    "show_cols = ['raw.embryo.time']\n",
    "pal = {'cell.type': 'tab20', 'plot.cell.type':'tab20', 'raw.embryo.time': 'BlueGreenRed'}\n",
    "#basis_types = ['', 'PAGA', 'KNN', 'PCA', 'UMAP']\n",
    "basis_types = ['UMAP']\n",
    "font_size=5\n",
    "point_size=0.5\n",
    "alpha=0.8\n",
    "figsize=(10,1.6)\n",
    "ncols = len(concord_keys)\n",
    "nrows = int(np.ceil(len(concord_keys) / ncols))\n",
    "k=15\n",
    "edges_color='grey'\n",
    "edges_width=0.05\n",
    "layout='kk'\n",
    "threshold = 0.1\n",
    "node_size_scale=0.1\n",
    "edge_width_scale=0.1\n",
    "\n",
    "with plt.rc_context(rc=custom_rc):\n",
    "    ccd.pl.plot_all_embeddings(\n",
    "        adata_subset,\n",
    "        concord_keys,\n",
    "        color_bys=show_cols,\n",
    "        basis_types=basis_types,\n",
    "        pal=pal,\n",
    "        k=k,\n",
    "        edges_color=edges_color,\n",
    "        edges_width=edges_width,\n",
    "        layout=layout,\n",
    "        threshold=threshold,\n",
    "        node_size_scale=node_size_scale,\n",
    "        edge_width_scale=edge_width_scale,\n",
    "        font_size=font_size,\n",
    "        point_size=point_size,\n",
    "        alpha=alpha,\n",
    "        figsize=figsize,\n",
    "        ncols=ncols,\n",
    "        seed=1,\n",
    "        legend_loc='on data',\n",
    "        leiden_key='leiden',\n",
    "        save_dir=save_dir,\n",
    "        file_suffix=file_suffix,\n",
    "        save_format='pdf'\n",
    "    )\n"
   ]
  },
  {
   "cell_type": "code",
   "execution_count": null,
   "metadata": {},
   "outputs": [],
   "source": [
    "# Run umap and PCA for all latent embeddings\n",
    "for basis in concord_keys:\n",
    "    print(\"Running UMAP for\", basis)\n",
    "    if basis not in adata_subset.obsm:\n",
    "        continue\n",
    "    ccd.ul.run_umap(adata_subset, source_key=basis, result_key=f'{basis}_UMAP_{subset_name}', n_components=2, n_neighbors=30, min_dist=0.1, metric='euclidean', random_state=seed)\n"
   ]
  },
  {
   "cell_type": "code",
   "execution_count": null,
   "metadata": {},
   "outputs": [],
   "source": [
    "basis_types = ['UMAP_Neuron']\n",
    "point_size=1\n",
    "figsize=(10,1.6)\n",
    "with plt.rc_context(rc=custom_rc):\n",
    "    ccd.pl.plot_all_embeddings(\n",
    "        adata_subset,\n",
    "        concord_keys,\n",
    "        color_bys=show_cols,\n",
    "        basis_types=basis_types,\n",
    "        pal=pal,\n",
    "        k=k,\n",
    "        edges_color=edges_color,\n",
    "        edges_width=edges_width,\n",
    "        layout=layout,\n",
    "        threshold=threshold,\n",
    "        node_size_scale=node_size_scale,\n",
    "        edge_width_scale=edge_width_scale,\n",
    "        font_size=font_size,\n",
    "        point_size=point_size,\n",
    "        alpha=alpha,\n",
    "        figsize=figsize,\n",
    "        ncols=ncols,\n",
    "        seed=1,\n",
    "        legend_loc='on data',\n",
    "        leiden_key='leiden',\n",
    "        save_dir=save_dir,\n",
    "        file_suffix=file_suffix,\n",
    "        save_format='pdf'\n",
    "    )"
   ]
  },
  {
   "cell_type": "code",
   "execution_count": null,
   "metadata": {},
   "outputs": [],
   "source": [
    "ncols = len(concord_keys)\n",
    "    \n",
    "# Create a figure with subplots\n",
    "fig, axes = plt.subplots(1, ncols, figsize=(figsize[0] * ncols, figsize[1]))\n",
    "figsize=(10,10)\n",
    "# Plot heatmaps for each layer\n",
    "glist = []\n",
    "for i, key in enumerate(concord_keys):\n",
    "\n",
    "    g = ccd.pl.heatmap_with_annotations(\n",
    "        adata_subset, \n",
    "        key, \n",
    "        obs_keys=show_cols, \n",
    "        cmap='viridis', \n",
    "        cluster_rows=True, \n",
    "        cluster_cols=True, \n",
    "        value_annot=False, \n",
    "        vmax = 5,\n",
    "        figsize=figsize,\n",
    "        show=False\n",
    "    )\n",
    "        \n",
    "    # Save the clustermap figure to a buffer\n",
    "    from io import BytesIO\n",
    "    buf = BytesIO()\n",
    "    g.figure.savefig(buf, format='png', dpi=600)\n",
    "    buf.seek(0)\n",
    "\n",
    "    # Load the image from the buffer and display it in the subplot\n",
    "    import matplotlib.image as mpimg\n",
    "    img = mpimg.imread(buf)\n",
    "    axes[i].imshow(img)\n",
    "    axes[i].axis('off')\n",
    "    axes[i].set_title(f'{key}')\n",
    "\n",
    "    # Close the clustermap figure to free memory\n",
    "    plt.close(g.figure)\n",
    "    buf.close()\n",
    "\n",
    "\n",
    "\n",
    "plt.savefig(save_dir/f'heatmap_all_{file_suffix}_subset.pdf', dpi=600, bbox_inches='tight')\n"
   ]
  },
  {
   "cell_type": "code",
   "execution_count": null,
   "metadata": {},
   "outputs": [],
   "source": [
    "cur_ccd.init_dataloader(input_layer_key=\"X_log1p\", use_sampler=True)"
   ]
  },
  {
   "cell_type": "code",
   "execution_count": null,
   "metadata": {},
   "outputs": [],
   "source": [
    "data_structure"
   ]
  },
  {
   "cell_type": "code",
   "execution_count": null,
   "metadata": {},
   "outputs": [],
   "source": [
    "import numpy as np\n",
    "dataloader = cur_ccd.loader[0][0]\n",
    "# from 0 to 100\n",
    "batch_indices = np.arange(10)\n",
    "data_structure = cur_ccd.data_structure\n",
    "attribute = 'idx'\n",
    "hl_indices = []\n",
    "found_indices = set()\n",
    "\n",
    "for batch_idx, batch in enumerate(dataloader):\n",
    "    if batch_idx in batch_indices:\n",
    "        attr_data = batch[data_structure.index(attribute)].cpu()\n",
    "        hl_indices.append(attr_data)\n",
    "        found_indices.add(batch_idx)\n",
    "        if len(found_indices) == len(batch_indices):\n",
    "            break\n",
    "\n",
    "hl_indices"
   ]
  },
  {
   "cell_type": "code",
   "execution_count": null,
   "metadata": {},
   "outputs": [],
   "source": [
    "# Plot embedding highlighting points in each batch\n",
    "basis =  concord_keys[4]\n",
    "show_cols = ['cell.type', 'plot.cell.type',  'raw.embryo.time']\n",
    "pal = {'cell.type': 'tab20', 'plot.cell.type':'tab20', 'raw.embryo.time': 'BlueGreenRed'}\n",
    "show_basis = f'{basis}_UMAP'\n",
    "ccd.pl.plot_embedding(\n",
    "    adata, show_basis, show_cols, figsize=(11,4), dpi=600, ncols=3, font_size=3, point_size=1, legend_loc=None,\n",
    "    highlight_indices = hl_indices[0].cpu().numpy(), highlight_color='black', highlight_size=8,\n",
    "    pal = pal,\n",
    "    save_path=save_dir / f\"{show_basis}_{file_suffix}.pdf\"\n",
    ")"
   ]
  },
  {
   "cell_type": "code",
   "execution_count": null,
   "metadata": {},
   "outputs": [],
   "source": []
  }
 ],
 "metadata": {
  "kernelspec": {
   "display_name": "concord",
   "language": "python",
   "name": "python3"
  },
  "language_info": {
   "codemirror_mode": {
    "name": "ipython",
    "version": 3
   },
   "file_extension": ".py",
   "mimetype": "text/x-python",
   "name": "python",
   "nbconvert_exporter": "python",
   "pygments_lexer": "ipython3",
   "version": "3.12.2"
  }
 },
 "nbformat": 4,
 "nbformat_minor": 2
}
