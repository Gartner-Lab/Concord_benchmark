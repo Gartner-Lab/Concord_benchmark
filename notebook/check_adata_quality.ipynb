{
 "cells": [
  {
   "cell_type": "code",
   "execution_count": 1,
   "id": "5b22880f",
   "metadata": {},
   "outputs": [
    {
     "name": "stderr",
     "output_type": "stream",
     "text": [
      "/wynton/group/gartner/zuzhi/.conda/envs/scenv/lib/python3.13/site-packages/louvain/__init__.py:54: UserWarning: pkg_resources is deprecated as an API. See https://setuptools.pypa.io/en/latest/pkg_resources.html. The pkg_resources package is slated for removal as early as 2025-11-30. Refrain from using this package or pin to Setuptools<81.\n",
      "  from pkg_resources import get_distribution, DistributionNotFound\n"
     ]
    }
   ],
   "source": [
    "import scanpy as sc\n",
    "import pandas as pd\n",
    "import numpy as np\n",
    "import matplotlib.pyplot as plt"
   ]
  },
  {
   "cell_type": "code",
   "execution_count": 2,
   "id": "87b5df6c",
   "metadata": {},
   "outputs": [
    {
     "name": "stdout",
     "output_type": "stream",
     "text": [
      "Current date and time:  2025-06-25 19:50:06\n"
     ]
    }
   ],
   "source": [
    "# print the time and date\n",
    "from datetime import datetime\n",
    "print(\"Current date and time: \", datetime.now().strftime(\"%Y-%m-%d %H:%M:%S\"))"
   ]
  },
  {
   "cell_type": "markdown",
   "id": "dc048fae",
   "metadata": {},
   "source": [
    "# cross_tissue_Eraslan"
   ]
  },
  {
   "cell_type": "code",
   "execution_count": 3,
   "id": "0f852544",
   "metadata": {},
   "outputs": [],
   "source": [
    "# load the adata object\n",
    "adata_Eraslan = sc.read_h5ad('../data/cross_tissue_Eraslan/cross_tissue_Eraslan_final.h5ad')"
   ]
  },
  {
   "cell_type": "code",
   "execution_count": 4,
   "id": "3b324bee",
   "metadata": {},
   "outputs": [
    {
     "data": {
      "text/plain": [
       "array([[0.        , 0.        , 0.        , 0.        , 0.        ,\n",
       "        0.70614594, 0.70614594, 0.        , 0.        , 0.        ],\n",
       "       [0.        , 0.        , 0.        , 0.        , 0.        ,\n",
       "        0.        , 0.        , 0.        , 0.        , 0.        ],\n",
       "       [0.        , 0.        , 0.        , 0.        , 0.        ,\n",
       "        0.        , 1.4964045 , 0.        , 0.        , 1.0053275 ],\n",
       "       [0.        , 0.        , 0.        , 0.        , 0.        ,\n",
       "        0.        , 1.0142013 , 0.        , 1.0142013 , 0.        ],\n",
       "       [0.        , 0.        , 0.        , 0.        , 0.        ,\n",
       "        0.        , 1.5509802 , 0.        , 1.0501379 , 0.        ],\n",
       "       [0.        , 0.        , 0.        , 0.        , 0.        ,\n",
       "        0.        , 0.        , 0.        , 0.        , 0.        ],\n",
       "       [0.        , 0.        , 0.        , 0.        , 0.        ,\n",
       "        0.        , 0.        , 0.        , 0.        , 0.        ],\n",
       "       [0.        , 0.        , 0.        , 0.        , 0.        ,\n",
       "        0.        , 0.        , 0.        , 0.        , 0.        ],\n",
       "       [0.        , 0.        , 0.        , 0.        , 0.        ,\n",
       "        0.        , 0.        , 0.        , 0.        , 0.        ],\n",
       "       [0.        , 0.        , 0.        , 0.        , 0.        ,\n",
       "        1.224906  , 0.        , 0.        , 0.        , 0.        ]],\n",
       "      dtype=float32)"
      ]
     },
     "execution_count": 4,
     "metadata": {},
     "output_type": "execute_result"
    }
   ],
   "source": [
    "adata_Eraslan.X[0:10,0:10].toarray()"
   ]
  },
  {
   "cell_type": "code",
   "execution_count": null,
   "id": "c3cbed11",
   "metadata": {},
   "outputs": [
    {
     "data": {
      "text/plain": [
       "AnnData object with n_obs × n_vars = 209126 × 2000\n",
       "    obs: 'Sample ID_prep', 'assay_ontology_term_id', 'cell_type_ontology_term_id', 'disease_ontology_term_id', 'self_reported_ethnicity_ontology_term_id', 'is_primary_data', 'organism_ontology_term_id', 'sex_ontology_term_id', 'tissue_ontology_term_id', 'n_genes', 'fpr', 'prep', 'individual', 'nGenes', 'nUMIs', 'PercentMito', 'PercentRibo', 'Age_bin', 'Sample ID', 'donor_id', 'Sample ID short', 'RIN score from PAXgene tissue Aliquot', 'RIN score from Frozen tissue Aliquot', 'Autolysis Score', 'Sample Ischemic Time (mins)', 'scrublet', 'scrublet_score', 'batch', 'n_counts', 'tissue-individual-prep', 'Broad cell type', 'Granular cell type', 'introns', 'junctions', 'exons', 'sense', 'antisense', 'intergenic', 'exon_ratio', 'intron_ratio', 'junction_ratio', 'log10_nUMIs', 'leiden', 'leiden_tissue', 'Tissue composition', 'Cell types level 2', 'Cell types level 3', 'Broad cell type numbers', 'Broad cell type (numbers)', 'channel', 'development_stage_ontology_term_id', 'suspension_type', 'concat-identifier', 'hca_data_portal_donor_uuid', 'hca_data_portal_cellsuspension_uuid', 'tissue_type', 'cell_type', 'assay', 'disease', 'organism', 'sex', 'tissue', 'self_reported_ethnicity', 'development_stage', 'observation_joinid'\n",
       "    var: 'Chromosome', 'Source', 'Start', 'End', 'Strand', 'gene_name', 'gene_source', 'gene_biotype', 'gene_length', 'gene_coding_length', 'Approved symbol', 'Approved name', 'Status', 'Previous symbols', 'Alias symbols', 'feature_is_filtered', 'feature_name', 'feature_reference', 'feature_biotype', 'feature_length', 'feature_type', 'highly_variable', 'means', 'dispersions', 'dispersions_norm', 'highly_variable_nbatches', 'highly_variable_intersection'\n",
       "    uns: 'Broad cell type (numbers)_colors', 'Broad cell type_colors', 'Broad cell type_sizes', 'Tissue composition_colors', 'citation', \"dendrogram_['Broad cell type']\", 'hvg', 'leiden', 'neighbors', 'paga', 'pca', 'prep_colors', 'schema_reference', 'schema_version', 'title', 'umap'\n",
       "    obsm: 'X_harmony', 'X_liger', 'X_pca', 'X_scanorama', 'X_scvi', 'X_umap', 'X_unintegrated', 'X_vae_mean', 'X_vae_samples', 'X_vae_var', 'harmony_UMAP', 'liger_UMAP', 'scanorama_UMAP', 'scvi_UMAP', 'unintegrated_UMAP'\n",
       "    varm: 'PCs'\n",
       "    layers: 'counts'"
      ]
     },
     "execution_count": 7,
     "metadata": {},
     "output_type": "execute_result"
    }
   ],
   "source": [
    "adata_Eraslan\n",
    "# batch_key = 'donor_id'\n",
    "# state_key = 'cell_type'"
   ]
  },
  {
   "cell_type": "markdown",
   "id": "95d980a7",
   "metadata": {},
   "source": [
    "----"
   ]
  },
  {
   "cell_type": "markdown",
   "id": "2d2b9215",
   "metadata": {},
   "source": [
    "# dkd_Wilson"
   ]
  },
  {
   "cell_type": "code",
   "execution_count": 8,
   "id": "0d16c860",
   "metadata": {},
   "outputs": [],
   "source": [
    "# load the adata object\n",
    "adata_Wilson = sc.read_h5ad('../data/dkd_Wilson/dkd_Wilson_final.h5ad')"
   ]
  },
  {
   "cell_type": "code",
   "execution_count": 9,
   "id": "104f7c73",
   "metadata": {},
   "outputs": [
    {
     "data": {
      "text/plain": [
       "array([[0.       , 0.       , 0.       , 0.       , 0.       , 1.0986123,\n",
       "        0.6931472, 0.       , 0.       , 0.       ],\n",
       "       [0.       , 0.       , 0.       , 0.       , 0.       , 0.       ,\n",
       "        0.       , 0.       , 0.       , 0.       ],\n",
       "       [0.       , 0.       , 0.       , 0.       , 0.       , 0.       ,\n",
       "        0.       , 0.       , 0.       , 0.       ],\n",
       "       [0.       , 0.       , 0.       , 0.       , 0.       , 0.       ,\n",
       "        0.6931472, 0.       , 0.       , 0.       ],\n",
       "       [0.       , 0.       , 0.       , 0.       , 0.       , 0.       ,\n",
       "        0.       , 0.       , 0.       , 0.       ],\n",
       "       [0.       , 0.       , 0.       , 0.       , 0.       , 0.6931472,\n",
       "        0.       , 0.       , 0.       , 0.       ],\n",
       "       [0.       , 0.       , 0.       , 0.       , 0.       , 0.       ,\n",
       "        0.       , 0.       , 0.       , 0.       ],\n",
       "       [0.       , 0.       , 0.       , 0.       , 0.       , 0.       ,\n",
       "        0.       , 0.       , 0.       , 0.       ],\n",
       "       [0.       , 0.       , 0.       , 0.       , 0.       , 0.       ,\n",
       "        0.       , 0.       , 0.       , 0.       ],\n",
       "       [0.       , 0.       , 0.       , 0.       , 0.       , 0.       ,\n",
       "        1.0986123, 0.       , 0.       , 0.       ]], dtype=float32)"
      ]
     },
     "execution_count": 9,
     "metadata": {},
     "output_type": "execute_result"
    }
   ],
   "source": [
    "adata_Wilson.X[0:10,0:10].toarray()"
   ]
  },
  {
   "cell_type": "code",
   "execution_count": 10,
   "id": "f401ac4e",
   "metadata": {},
   "outputs": [
    {
     "data": {
      "text/plain": [
       "AnnData object with n_obs × n_vars = 39176 × 2000\n",
       "    obs: 'donor_id', 'self_reported_ethnicity_ontology_term_id', 'organism_ontology_term_id', 'sample_uuid', 'sample_preservation_method', 'tissue_ontology_term_id', 'development_stage_ontology_term_id', 'suspension_uuid', 'suspension_type', 'library_uuid', 'assay_ontology_term_id', 'mapped_reference_annotation', 'is_primary_data', 'cell_type_ontology_term_id', 'author_cell_type', 'disease_ontology_term_id', 'reported_diseases', 'sex_ontology_term_id', 'nCount_RNA', 'nFeature_RNA', 'percent.mt', 'percent.rpl', 'percent.rps', 'doublet_id', 'nCount_SCT', 'nFeature_SCT', 'seurat_clusters', 'tissue_type', 'cell_type', 'assay', 'disease', 'organism', 'sex', 'tissue', 'self_reported_ethnicity', 'development_stage', 'observation_joinid'\n",
       "    var: 'feature_is_filtered', 'feature_name', 'feature_reference', 'feature_biotype', 'feature_length', 'feature_type', 'highly_variable', 'means', 'dispersions', 'dispersions_norm', 'highly_variable_nbatches', 'highly_variable_intersection'\n",
       "    uns: 'citation', 'default_embedding', 'hvg', 'pca', 'schema_reference', 'schema_version', 'title'\n",
       "    obsm: 'X_harmony', 'X_liger', 'X_pca', 'X_scanorama', 'X_scvi', 'X_umap', 'X_unintegrated', 'harmony_UMAP', 'liger_UMAP', 'scanorama_UMAP', 'scvi_UMAP', 'unintegrated_UMAP'\n",
       "    varm: 'PCs'\n",
       "    layers: 'counts'"
      ]
     },
     "execution_count": 10,
     "metadata": {},
     "output_type": "execute_result"
    }
   ],
   "source": [
    "adata_Wilson\n",
    "# batch_key = 'donor_id'\n",
    "# state_key = 'cell_type'"
   ]
  },
  {
   "cell_type": "markdown",
   "id": "5df16978",
   "metadata": {},
   "source": [
    "----"
   ]
  },
  {
   "cell_type": "markdown",
   "id": "a5dcebb1",
   "metadata": {},
   "source": [
    "# endothelium_subset_TabulaSapiens"
   ]
  },
  {
   "cell_type": "code",
   "execution_count": 11,
   "id": "dadacb1a",
   "metadata": {},
   "outputs": [],
   "source": [
    "# load the adata object\n",
    "adata_TabulaSapiens = sc.read_h5ad('../data/endothelium_subset_TabulaSapiens/endothelium_subset_TabulaSapiens_final.h5ad')"
   ]
  },
  {
   "cell_type": "code",
   "execution_count": 12,
   "id": "12e3312e",
   "metadata": {},
   "outputs": [
    {
     "data": {
      "text/plain": [
       "array([[0.        , 0.        , 0.        , 0.        , 0.        ,\n",
       "        0.        , 0.        , 0.        , 0.33613026, 0.        ],\n",
       "       [0.        , 0.        , 0.        , 0.        , 0.        ,\n",
       "        0.75878024, 0.        , 0.        , 3.4857001 , 0.        ],\n",
       "       [0.        , 0.        , 0.        , 0.        , 0.        ,\n",
       "        2.070675  , 0.        , 0.        , 0.        , 0.        ],\n",
       "       [0.        , 0.        , 0.        , 0.        , 0.        ,\n",
       "        0.        , 0.        , 0.        , 3.3412762 , 0.        ],\n",
       "       [0.        , 0.        , 0.        , 0.        , 0.        ,\n",
       "        2.3630762 , 0.        , 0.        , 0.        , 0.        ],\n",
       "       [0.        , 0.        , 0.        , 0.        , 0.        ,\n",
       "        0.        , 0.        , 0.        , 0.        , 0.        ],\n",
       "       [0.        , 0.        , 0.        , 0.        , 0.        ,\n",
       "        0.        , 0.        , 0.        , 0.        , 0.        ],\n",
       "       [0.        , 0.        , 0.        , 0.        , 0.00816973,\n",
       "        0.        , 0.01627325, 1.9240843 , 0.        , 0.        ],\n",
       "       [0.        , 0.        , 0.        , 0.        , 0.        ,\n",
       "        0.        , 0.        , 0.        , 0.        , 0.        ],\n",
       "       [0.        , 0.        , 0.        , 0.        , 0.        ,\n",
       "        0.        , 0.        , 0.        , 0.        , 0.        ]],\n",
       "      dtype=float32)"
      ]
     },
     "execution_count": 12,
     "metadata": {},
     "output_type": "execute_result"
    }
   ],
   "source": [
    "adata_TabulaSapiens.X[0:10,0:10].toarray()"
   ]
  },
  {
   "cell_type": "code",
   "execution_count": 13,
   "id": "e681ec7b",
   "metadata": {},
   "outputs": [
    {
     "data": {
      "text/plain": [
       "AnnData object with n_obs × n_vars = 73195 × 2000\n",
       "    obs: 'donor_id', 'tissue_in_publication', 'anatomical_position', 'method', 'cdna_plate', 'library_plate', 'notes', 'cdna_well', 'assay_ontology_term_id', 'sample_id', 'replicate', '10X_run', 'ambient_removal', 'donor_method', 'donor_assay', 'donor_tissue', 'donor_tissue_assay', 'cell_type_ontology_term_id', 'compartment', 'broad_cell_class', 'free_annotation', 'manually_annotated', 'published_2022', 'n_genes_by_counts', 'total_counts', 'total_counts_mt', 'pct_counts_mt', 'total_counts_ercc', 'pct_counts_ercc', '_scvi_batch', '_scvi_labels', 'scvi_leiden_donorassay_full', 'ethnicity_original', 'scvi_leiden_res05_compartment', 'sample_number', 'organism_ontology_term_id', 'suspension_type', 'tissue_type', 'disease_ontology_term_id', 'is_primary_data', 'tissue_ontology_term_id', 'sex_ontology_term_id', 'self_reported_ethnicity_ontology_term_id', 'development_stage_ontology_term_id', 'cell_type', 'assay', 'disease', 'organism', 'sex', 'tissue', 'self_reported_ethnicity', 'development_stage', 'observation_joinid'\n",
       "    var: 'ensembl_id', 'genome', 'mt', 'ercc', 'n_cells_by_counts', 'mean_counts', 'pct_dropout_by_counts', 'total_counts', 'mean', 'std', 'feature_is_filtered', 'feature_name', 'feature_reference', 'feature_biotype', 'feature_length', 'feature_type', 'highly_variable', 'means', 'dispersions', 'dispersions_norm', 'highly_variable_nbatches', 'highly_variable_intersection'\n",
       "    uns: '_scvi_manager_uuid', '_scvi_uuid', '_training_mode', 'assay_ontology_term_id_colors', 'citation', 'compartment_colors', 'donor_id_colors', 'hvg', 'leiden', 'method_colors', 'neighbors', 'pca', 'schema_reference', 'schema_version', 'sex_ontology_term_id_colors', 'tissue_in_publication_colors', 'title', 'umap'\n",
       "    obsm: 'X_compartment_uncorrected_umap', 'X_harmony', 'X_liger', 'X_pca', 'X_scanorama', 'X_scvi', 'X_umap', 'X_umap_compartment_scvi_donorassay', 'X_umap_scvi_full_donorassay', 'X_uncorrected_umap', 'X_unintegrated', 'harmony_UMAP', 'liger_UMAP', 'scanorama_UMAP', 'scvi_UMAP', 'unintegrated_UMAP'\n",
       "    varm: 'PCs'\n",
       "    layers: 'counts', 'decontXcounts', 'scale_data'\n",
       "    obsp: 'connectivities', 'distances'"
      ]
     },
     "execution_count": 13,
     "metadata": {},
     "output_type": "execute_result"
    }
   ],
   "source": [
    "adata_TabulaSapiens\n",
    "# batch_key = 'donor_id'\n",
    "# state_key = 'cell_type'"
   ]
  },
  {
   "cell_type": "markdown",
   "id": "2d403691",
   "metadata": {},
   "source": [
    "----"
   ]
  },
  {
   "cell_type": "markdown",
   "id": "93c0497e",
   "metadata": {},
   "source": [
    "# HypoMap_Steuernagel"
   ]
  },
  {
   "cell_type": "code",
   "execution_count": 3,
   "id": "bbf52934",
   "metadata": {},
   "outputs": [],
   "source": [
    "# load the adata object\n",
    "adata_Steuernagel = sc.read_h5ad('../data/HypoMap_Steuernagel/HypoMap_Steuernagel_final.h5ad')"
   ]
  },
  {
   "cell_type": "code",
   "execution_count": 16,
   "id": "3aee934d",
   "metadata": {},
   "outputs": [
    {
     "data": {
      "text/plain": [
       "array([[0.       , 0.       , 0.       , 0.       , 0.       , 0.       ,\n",
       "        0.       , 0.       , 0.       , 0.       ],\n",
       "       [0.       , 0.       , 0.       , 0.       , 0.       , 0.       ,\n",
       "        0.       , 0.       , 0.       , 0.       ],\n",
       "       [0.       , 0.       , 0.       , 0.       , 0.       , 0.       ,\n",
       "        0.       , 0.       , 0.       , 0.       ],\n",
       "       [0.       , 0.       , 0.       , 0.       , 0.       , 0.       ,\n",
       "        0.       , 0.       , 0.       , 0.       ],\n",
       "       [0.       , 0.       , 0.       , 0.       , 0.       , 0.       ,\n",
       "        0.       , 0.       , 0.       , 0.       ],\n",
       "       [0.       , 0.       , 0.       , 0.       , 0.       , 0.       ,\n",
       "        0.       , 0.       , 0.       , 0.       ],\n",
       "       [0.       , 0.       , 0.       , 0.       , 0.       , 0.       ,\n",
       "        0.       , 0.       , 0.       , 0.       ],\n",
       "       [0.       , 0.       , 0.       , 0.       , 1.481257 , 0.       ,\n",
       "        0.       , 0.       , 0.       , 0.       ],\n",
       "       [0.       , 0.       , 0.       , 0.       , 1.2839754, 0.       ,\n",
       "        0.       , 0.       , 0.       , 0.       ],\n",
       "       [0.       , 0.       , 0.       , 0.       , 0.       , 0.       ,\n",
       "        0.       , 0.       , 0.       , 0.       ]], dtype=float32)"
      ]
     },
     "execution_count": 16,
     "metadata": {},
     "output_type": "execute_result"
    }
   ],
   "source": [
    "adata_Steuernagel.X[0:10,0:10].toarray()"
   ]
  },
  {
   "cell_type": "code",
   "execution_count": 17,
   "id": "9b7b81d6",
   "metadata": {},
   "outputs": [
    {
     "data": {
      "text/plain": [
       "AnnData object with n_obs × n_vars = 384925 × 2000\n",
       "    obs: 'SRA_ID', 'Sample_ID', 'organism_ontology_term_id', 'donor_id', 'development_stage_ontology_term_id', 'sex_ontology_term_id', 'self_reported_ethnicity_ontology_term_id', 'disease_ontology_term_id', 'tissue_ontology_term_id', 'cell_type_ontology_term_id', 'assay_ontology_term_id', 'suspension_type', 'Dataset', 'Batch_ID', 'nCount_RNA', 'nFeature_RNA', 'percent_mt', 'C7_named', 'C25_named', 'C66_named', 'C185_named', 'C286_named', 'C465_named', 'Author_Class_Curated', 'Author_CellType', 'Region_summarized', 'is_primary_data', 'tissue_type', 'cell_type', 'assay', 'disease', 'organism', 'sex', 'tissue', 'self_reported_ethnicity', 'development_stage', 'observation_joinid'\n",
       "    var: 'features', 'feature_is_filtered', 'feature_name', 'feature_reference', 'feature_biotype', 'feature_length', 'feature_type', 'highly_variable', 'means', 'dispersions', 'dispersions_norm', 'highly_variable_nbatches', 'highly_variable_intersection'\n",
       "    uns: 'batch_condition', 'citation', 'hvg', 'pca', 'schema_reference', 'schema_version', 'title'\n",
       "    obsm: 'X_harmony', 'X_liger', 'X_pca', 'X_scanorama', 'X_scvi', 'X_umap', 'X_unintegrated', 'harmony_UMAP', 'liger_UMAP', 'scanorama_UMAP', 'scvi_UMAP', 'unintegrated_UMAP'\n",
       "    varm: 'PCs'\n",
       "    layers: 'counts'"
      ]
     },
     "execution_count": 17,
     "metadata": {},
     "output_type": "execute_result"
    }
   ],
   "source": [
    "adata_Steuernagel\n",
    "# batch_key = 'Batch_ID'\n",
    "# state_key = 'cell_type'"
   ]
  },
  {
   "cell_type": "code",
   "execution_count": 4,
   "id": "233bddc0",
   "metadata": {},
   "outputs": [
    {
     "data": {
      "text/plain": [
       "Batch_ID\n",
       "Anderson10x_batch_1         60756\n",
       "Kim10x_batch_1              40599\n",
       "Rupp10x_batch_1             33502\n",
       "Dowsett10xnuc_batch_1       24759\n",
       "wen10x_batch_1              17483\n",
       "wenDropseq_batch_1          16181\n",
       "CampbellDropseq_batch_1     15641\n",
       "Moffit10x_batch_3           14958\n",
       "Morris10x_batch_1           13660\n",
       "ChenDropseq_batch_1         13329\n",
       "Morris10x_batch_3           11798\n",
       "Mousebrainorg10x_batch_2    11747\n",
       "Dowsett10xnuc_batch_2       11186\n",
       "Mousebrainorg10x_batch_1     9674\n",
       "RossiDropseq_batch_1         9292\n",
       "Moffit10x_batch_2            8892\n",
       "Affinati10x_batch_1          8477\n",
       "Mickelsen10x_batch_1         8441\n",
       "Affinati10x_batch_4          8404\n",
       "Flynn10x_batch_1             7489\n",
       "kimDev10x_batch_1            6912\n",
       "Affinati10x_batch_3          6056\n",
       "Flynn10x_batch_2             5864\n",
       "Morris10x_batch_2            5492\n",
       "CampbellDropseq_batch_2      5248\n",
       "Moffit10x_batch_1            4185\n",
       "LeeDropseq_batch_1           2212\n",
       "RomanovDev10x_batch_1        2152\n",
       "Affinati10x_batch_2           536\n",
       "Name: count, dtype: int64"
      ]
     },
     "execution_count": 4,
     "metadata": {},
     "output_type": "execute_result"
    }
   ],
   "source": [
    "adata_Steuernagel.obs['Batch_ID'].value_counts()"
   ]
  },
  {
   "cell_type": "markdown",
   "id": "11b7c5be",
   "metadata": {},
   "source": [
    "----"
   ]
  },
  {
   "cell_type": "markdown",
   "id": "e532b744",
   "metadata": {},
   "source": [
    "# immune_DominguezConde"
   ]
  },
  {
   "cell_type": "code",
   "execution_count": 18,
   "id": "f436d5eb",
   "metadata": {},
   "outputs": [],
   "source": [
    "adata_DominguezConde = sc.read_h5ad('../data/immune_DominguezConde/immune_DominguezConde_final.h5ad')"
   ]
  },
  {
   "cell_type": "code",
   "execution_count": 19,
   "id": "3589d79a",
   "metadata": {},
   "outputs": [
    {
     "data": {
      "text/plain": [
       "array([[0.        , 0.        , 0.        , 0.        , 0.        ,\n",
       "        0.92765963, 0.        , 0.        , 0.        , 0.        ],\n",
       "       [0.        , 0.        , 0.        , 0.        , 0.        ,\n",
       "        0.        , 0.        , 0.        , 0.        , 0.        ],\n",
       "       [0.        , 0.        , 0.        , 0.        , 0.        ,\n",
       "        0.        , 0.        , 0.        , 0.        , 0.        ],\n",
       "       [0.        , 0.        , 0.        , 0.        , 0.        ,\n",
       "        0.        , 0.        , 0.        , 0.        , 0.        ],\n",
       "       [0.9247127 , 2.455135  , 0.        , 0.9247127 , 0.        ,\n",
       "        0.        , 0.        , 0.        , 0.        , 0.        ],\n",
       "       [0.8185749 , 1.5689907 , 0.        , 0.        , 0.        ,\n",
       "        0.        , 0.        , 0.        , 0.        , 0.        ],\n",
       "       [0.        , 0.        , 0.        , 0.        , 0.        ,\n",
       "        0.        , 0.        , 0.        , 0.        , 2.1640284 ],\n",
       "       [0.        , 0.        , 0.        , 0.        , 0.        ,\n",
       "        0.        , 0.        , 0.        , 0.        , 0.        ],\n",
       "       [0.        , 2.4695103 , 0.        , 1.8575985 , 0.        ,\n",
       "        0.        , 0.        , 0.        , 0.        , 0.        ],\n",
       "       [0.        , 0.        , 0.        , 0.        , 0.        ,\n",
       "        0.        , 0.        , 0.        , 0.        , 0.8510487 ]],\n",
       "      dtype=float32)"
      ]
     },
     "execution_count": 19,
     "metadata": {},
     "output_type": "execute_result"
    }
   ],
   "source": [
    "adata_DominguezConde.X[0:10,0:10].toarray()"
   ]
  },
  {
   "cell_type": "code",
   "execution_count": 20,
   "id": "75e5e6c0",
   "metadata": {},
   "outputs": [
    {
     "data": {
      "text/plain": [
       "AnnData object with n_obs × n_vars = 329762 × 2000\n",
       "    obs: 'donor_id', 'Predicted_labels_CellTypist', 'Majority_voting_CellTypist', 'Majority_voting_CellTypist_high', 'Manually_curated_celltype', 'assay_ontology_term_id', 'cell_type_ontology_term_id', 'development_stage_ontology_term_id', 'disease_ontology_term_id', 'self_reported_ethnicity_ontology_term_id', 'is_primary_data', 'organism_ontology_term_id', 'sex_ontology_term_id', 'tissue_ontology_term_id', 'suspension_type', 'tissue_type', 'cell_type', 'assay', 'disease', 'organism', 'sex', 'tissue', 'self_reported_ethnicity', 'development_stage', 'observation_joinid'\n",
       "    var: 'gene_symbols', 'feature_is_filtered', 'feature_name', 'feature_reference', 'feature_biotype', 'feature_length', 'feature_type', 'highly_variable', 'means', 'dispersions', 'dispersions_norm', 'highly_variable_nbatches', 'highly_variable_intersection'\n",
       "    uns: 'cell_type_ontology_term_id_colors', 'citation', 'default_embedding', 'hvg', 'pca', 'schema_reference', 'schema_version', 'sex_ontology_term_id_colors', 'title'\n",
       "    obsm: 'X_harmony', 'X_liger', 'X_pca', 'X_scanorama', 'X_scvi', 'X_umap', 'X_unintegrated', 'harmony_UMAP', 'liger_UMAP', 'scanorama_UMAP', 'scvi_UMAP', 'unintegrated_UMAP'\n",
       "    varm: 'PCs'\n",
       "    layers: 'counts'"
      ]
     },
     "execution_count": 20,
     "metadata": {},
     "output_type": "execute_result"
    }
   ],
   "source": [
    "adata_DominguezConde\n",
    "# batch_key = 'donor_id'\n",
    "# state_key = 'cell_type'"
   ]
  },
  {
   "cell_type": "markdown",
   "id": "ce1ccf33",
   "metadata": {},
   "source": [
    "----"
   ]
  },
  {
   "cell_type": "markdown",
   "id": "1daead7e",
   "metadata": {},
   "source": [
    "# pancreatic_islet_Hrovatin"
   ]
  },
  {
   "cell_type": "code",
   "execution_count": 21,
   "id": "8baf3d41",
   "metadata": {},
   "outputs": [],
   "source": [
    "adata_Hrovatin = sc.read_h5ad('../data/pancreatic_islet_Hrovatin/pancreatic_islet_Hrovatin_final.h5ad')"
   ]
  },
  {
   "cell_type": "code",
   "execution_count": 22,
   "id": "7b3c1fc2",
   "metadata": {},
   "outputs": [
    {
     "data": {
      "text/plain": [
       "array([[0.        , 2.7333214 , 0.        , 0.        , 0.        ,\n",
       "        0.        , 0.        , 0.        , 3.8831608 , 0.        ],\n",
       "       [0.        , 1.2105592 , 0.        , 0.        , 0.        ,\n",
       "        0.        , 0.        , 0.        , 5.2685776 , 0.        ],\n",
       "       [1.5910618 , 1.9262085 , 0.        , 0.        , 0.        ,\n",
       "        0.        , 0.        , 0.        , 3.9092588 , 0.        ],\n",
       "       [0.        , 2.1863015 , 0.        , 0.        , 0.        ,\n",
       "        0.        , 0.        , 0.        , 2.821644  , 0.        ],\n",
       "       [0.        , 0.        , 0.        , 0.        , 0.        ,\n",
       "        0.        , 0.        , 0.        , 4.93392   , 0.        ],\n",
       "       [0.        , 0.        , 0.        , 0.        , 0.        ,\n",
       "        0.        , 0.        , 0.        , 5.8095374 , 0.        ],\n",
       "       [0.        , 0.        , 0.        , 0.        , 0.        ,\n",
       "        0.        , 0.        , 0.        , 0.        , 0.        ],\n",
       "       [0.        , 0.81427914, 0.        , 0.81427914, 0.        ,\n",
       "        0.        , 0.        , 0.        , 2.2826715 , 0.        ],\n",
       "       [0.        , 2.0327928 , 0.        , 0.        , 0.        ,\n",
       "        0.        , 0.        , 0.        , 3.9487648 , 0.        ],\n",
       "       [0.        , 0.        , 0.        , 0.        , 0.        ,\n",
       "        0.        , 0.        , 0.        , 2.155925  , 0.        ]],\n",
       "      dtype=float32)"
      ]
     },
     "execution_count": 22,
     "metadata": {},
     "output_type": "execute_result"
    }
   ],
   "source": [
    "adata_Hrovatin.X[0:10,0:10].toarray()"
   ]
  },
  {
   "cell_type": "code",
   "execution_count": 23,
   "id": "136efd62",
   "metadata": {},
   "outputs": [
    {
     "data": {
      "text/plain": [
       "AnnData object with n_obs × n_vars = 301796 × 2000\n",
       "    obs: 'batch_integration', 'dataset', 'design', 'cell_cycle_phase', 'ins_high', 'gcg_high', 'sst_high', 'ppy_high', 'cell_filtering', 'strain', 'age', 'cell_type_originalDataset_unified', 'cell_type_originalDataset', 'cell_type_reannotatedIntegrated', 'n_genes', 'mt_frac', 'doublet_score', 'log10_n_counts', 'age_approxDays', 'dataset__design__sample', 'cell_subtype_immune_reannotatedIntegrated', 'cell_subtype_endothelial_reannotatedIntegrated', 'emptyDrops_LogProb_scaled', 'cell_subtype_beta_coarse_reannotatedIntegrated', 'cell_subtype_beta_fine_reannotatedIntegrated', 'GP_1', 'GP_2', 'GP_3', 'GP_4', 'GP_5', 'GP_6', 'GP_7', 'GP_8', 'GP_9', 'GP_10', 'GP_11', 'GP_12', 'GP_13', 'GP_14', 'GP_15', 'GP_16', 'GP_17', 'GP_18', 'GP_19', 'GP_20', 'GP_21', 'GP_22', 'GP_23', 'GP_24', 'GP_25', 'GP_26', 'GP_27', 'assay_ontology_term_id', 'cell_type_ontology_term_id', 'development_stage_ontology_term_id', 'diabetes_model', 'chemical_stress', 'GEO_accession', 'disease_ontology_term_id', 'self_reported_ethnicity_ontology_term_id', 'is_primary_data', 'organism_ontology_term_id', 'sex_ontology_term_id', 'sex_annotation', 'tissue_ontology_term_id', 'low_q', 'donor_id', 'suspension_type', 'tissue_type', 'cell_type', 'assay', 'disease', 'organism', 'sex', 'tissue', 'self_reported_ethnicity', 'development_stage', 'observation_joinid'\n",
       "    var: 'present_Fltp_2y', 'present_Fltp_adult', 'present_Fltp_P16', 'present_NOD', 'present_NOD_elimination', 'present_spikein_drug', 'present_embryo', 'present_VSG', 'present_STZ', 'feature_is_filtered', 'feature_name', 'feature_reference', 'feature_biotype', 'feature_length', 'feature_type', 'highly_variable', 'means', 'dispersions', 'dispersions_norm', 'highly_variable_nbatches', 'highly_variable_intersection'\n",
       "    uns: 'batch_condition', 'cell_type_reannotatedIntegrated_colors', 'citation', 'dataset_colors', 'default_embedding', 'field_descriptions', 'hvg', 'pca', 'schema_reference', 'schema_version', 'title'\n",
       "    obsm: 'X_harmony', 'X_integrated_umap', 'X_integrated_umap_beta', 'X_liger', 'X_pca', 'X_scanorama', 'X_scvi', 'X_unintegrated', 'harmony_UMAP', 'liger_UMAP', 'scanorama_UMAP', 'scvi_UMAP', 'unintegrated_UMAP'\n",
       "    varm: 'PCs'\n",
       "    layers: 'counts'"
      ]
     },
     "execution_count": 23,
     "metadata": {},
     "output_type": "execute_result"
    }
   ],
   "source": [
    "adata_Hrovatin\n",
    "# batch_key = 'batch_integration'\n",
    "# state_key = 'cell_type'"
   ]
  },
  {
   "cell_type": "code",
   "execution_count": null,
   "id": "8690a02b",
   "metadata": {},
   "outputs": [],
   "source": []
  }
 ],
 "metadata": {
  "kernelspec": {
   "display_name": "scenv",
   "language": "python",
   "name": "python3"
  },
  "language_info": {
   "codemirror_mode": {
    "name": "ipython",
    "version": 3
   },
   "file_extension": ".py",
   "mimetype": "text/x-python",
   "name": "python",
   "nbconvert_exporter": "python",
   "pygments_lexer": "ipython3",
   "version": "3.13.3"
  }
 },
 "nbformat": 4,
 "nbformat_minor": 5
}
