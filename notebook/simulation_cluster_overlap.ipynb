{
 "cells": [
  {
   "cell_type": "markdown",
   "metadata": {},
   "source": [
    "# Simulation using Concord"
   ]
  },
  {
   "cell_type": "code",
   "execution_count": null,
   "metadata": {},
   "outputs": [],
   "source": [
    "%load_ext autoreload\n",
    "%autoreload 2"
   ]
  },
  {
   "cell_type": "code",
   "execution_count": 24,
   "metadata": {},
   "outputs": [],
   "source": [
    "import numpy as np\n",
    "import scanpy as sc\n",
    "import time\n",
    "from pathlib import Path\n",
    "import torch\n",
    "import Concord as ccd\n",
    "import warnings\n",
    "warnings.filterwarnings('ignore')\n",
    "%matplotlib inline\n",
    "import matplotlib as mpl\n",
    "\n",
    "from matplotlib import font_manager, rcParams\n",
    "custom_rc = {\n",
    "    'font.family': 'Arial',  # Set the desired font for this plot\n",
    "}\n",
    "\n",
    "mpl.rcParams['svg.fonttype'] = 'none'\n",
    "mpl.rcParams['pdf.fonttype'] = 42"
   ]
  },
  {
   "cell_type": "code",
   "execution_count": null,
   "metadata": {},
   "outputs": [],
   "source": [
    "proj_name = \"simulation_cluster_overlap\"\n",
    "save_dir = f\"../save/dev_{proj_name}-{time.strftime('%b%d')}/\"\n",
    "save_dir = Path(save_dir)\n",
    "save_dir.mkdir(parents=True, exist_ok=True)\n",
    "\n",
    "data_dir = f\"../data/{proj_name}/\"\n",
    "data_dir = Path(data_dir)\n",
    "data_dir.mkdir(parents=True, exist_ok=True)\n",
    "device = torch.device('cuda:3' if torch.cuda.is_available() else 'cpu')\n",
    "print(device)\n",
    "seed = 0\n",
    "ccd.ul.set_seed(seed)\n",
    "\n",
    "file_suffix = f\"{time.strftime('%b%d-%H%M')}\"\n",
    "file_suffix"
   ]
  },
  {
   "cell_type": "code",
   "execution_count": 26,
   "metadata": {},
   "outputs": [],
   "source": [
    "state_key = 'cluster'\n",
    "batch_key = 'batch'\n",
    "state_type = 'cluster'\n",
    "batch_type = 'batch_specific_features'\n",
    "distribution = 'normal'\n",
    "n_cells = [200,100,100,50,30]\n",
    "n_genes = [100,100,50,30,20]\n",
    "state_dispersion = [5.0,4.0,4.0,3.0,2.0]\n",
    "batch_dispersion = [3.0, 3.0]\n",
    "pairwise_non_specific_gene_fraction={\n",
    "                     (0,1):0.7, (0,2):0.0, (0,3):0.0, (0,4):0.0, \n",
    "                     (1,2):0.0, (1,3):0.0, (1,4):0.0, \n",
    "                     (2,3):0.4, (2,4):0.0,\n",
    "                     (3,4):0.0\n",
    "                 }"
   ]
  },
  {
   "cell_type": "code",
   "execution_count": null,
   "metadata": {},
   "outputs": [],
   "source": [
    "from Concord.utils.simulation import Simulation\n",
    "\n",
    "# Create an instance of the Simulation class\n",
    "\n",
    "sim = Simulation(n_cells=n_cells, n_genes=n_genes,\n",
    "                 n_batches=2, n_states=5, \n",
    "                 state_type=state_type, \n",
    "                 state_distribution = distribution, \n",
    "                 state_level=5, \n",
    "                 state_min_level=0,\n",
    "                 state_dispersion=state_dispersion, \n",
    "                 program_structure=\"uniform\",\n",
    "                 program_on_time_fraction=0.3,\n",
    "                 trajectory_program_num=4,\n",
    "                 trajectory_loop_to=[1],\n",
    "                 batch_feature_frac=0.15,\n",
    "                 batch_distribution = distribution,\n",
    "                 batch_type=batch_type, \n",
    "                 batch_level=[5,5], \n",
    "                 batch_dispersion=batch_dispersion, \n",
    "                 global_non_specific_gene_fraction=0.1,\n",
    "                 pairwise_non_specific_gene_fraction=pairwise_non_specific_gene_fraction,\n",
    "                 non_neg=True, to_int=True,\n",
    "                 seed=seed)\n",
    "\n",
    "# Generate the simulated data\n",
    "adata_state = sim.simulate_state()\n",
    "adata_state = adata_state[:, ccd.ul.sort_string_list(adata_state.var_names)]\n",
    "adata_state.shape"
   ]
  },
  {
   "cell_type": "code",
   "execution_count": 41,
   "metadata": {},
   "outputs": [],
   "source": [
    "# Define cell indices for each batch, with partial overlap\n",
    "batch1_clusters = ['cluster_'+str(i) for i in [1,2,3]]\n",
    "batch2_clusters = ['cluster_'+str(i) for i in [3,4,5]]\n",
    "\n",
    "batch_cell_proportion = 0.3\n",
    "batch_cell_count = int(adata_state.n_obs * batch_cell_proportion)\n",
    "batch1_idx = np.random.choice(adata_state.obs.query(f\"{state_key} in {batch1_clusters}\").index, batch_cell_count, replace=False)\n",
    "batch2_idx = np.random.choice(adata_state.obs.query(f\"{state_key} in {batch2_clusters}\").index, batch_cell_count, replace=False)\n",
    "\n",
    "batch_indices = {0:ccd.ul.sort_string_list(batch1_idx), 1:ccd.ul.sort_string_list(batch2_idx)}"
   ]
  },
  {
   "cell_type": "code",
   "execution_count": null,
   "metadata": {},
   "outputs": [],
   "source": [
    "from scipy import sparse as sp\n",
    "import anndata as ad\n",
    "\n",
    "batch_list = []\n",
    "state_list = []\n",
    "for i in range(sim.n_batches):\n",
    "    batch_adata, batch_adata_pre = sim.simulate_batch(\n",
    "        adata_state, \n",
    "        cell_proportion=sim.batch_cell_proportion[i], \n",
    "        cell_indices=batch_indices[i],\n",
    "        batch_name=f\"batch_{i+1}\", effect_type=sim.batch_type[i], \n",
    "        distribution = sim.batch_distribution[i],\n",
    "        level=sim.batch_level[i], dispersion=sim.batch_dispersion[i], \n",
    "        batch_feature_frac=sim.batch_feature_frac[i], seed=sim.seed+i)\n",
    "    batch_list.append(batch_adata)\n",
    "    state_list.append(batch_adata_pre)\n",
    "\n",
    "adata = ad.concat(batch_list, join='outer')\n",
    "adata.X = adata.X.toarray() if sp.issparse(adata.X) else adata.X\n",
    "adata.X = np.nan_to_num(adata.X, nan=0.0)\n",
    "\n",
    "adata = adata[:, ccd.ul.sort_string_list(adata.var_names)]\n",
    "\n",
    "adata_pre = ad.concat(state_list, join='outer')\n",
    "adata_pre = adata_pre[:, ccd.ul.sort_string_list(adata_pre.var_names)]\n",
    "\n",
    "# Concatenate batch name to cell names to make them unique\n",
    "adata.obs_names = [f\"{batch}_{cell}\" for batch, cell in zip(adata.obs['batch'], adata.obs_names)]\n",
    "adata_pre.obs_names = [f\"{batch}_{cell}\" for batch, cell in zip(adata_pre.obs['batch'], adata_pre.obs_names)]\n",
    "\n",
    "adata.obs['batch'] = adata.obs['batch'].astype('category')\n",
    "adata_pre.obs['batch'] = adata_pre.obs['batch'].astype('category')\n",
    "\n",
    "if sim.non_neg:\n",
    "    adata.X[adata.X < 0] = 0\n",
    "    adata_pre.X[adata_pre.X < 0] = 0\n",
    "if sim.to_int:\n",
    "    adata.X = adata.X.astype(int)\n",
    "    adata_pre.X = adata_pre.X.astype(int)\n",
    "\n",
    "adata.layers['wt_noise'] = adata.X \n",
    "adata_pre.layers['wt_noise'] = adata_pre.X\n",
    "adata.layers['counts'] = adata.X.copy()\n",
    "\n",
    "adata_state = adata_pre\n"
   ]
  },
  {
   "cell_type": "code",
   "execution_count": null,
   "metadata": {},
   "outputs": [],
   "source": [
    "ccd.pl.heatmap_with_annotations(adata_state, val='no_noise', obs_keys=[state_key], yticklabels=False, cluster_cols=False, cluster_rows=False, value_annot=False, cmap='viridis', title='True state', save_path=save_dir/f'true_state_heatmap_{file_suffix}.png', figsize=(6, 4), dpi=300)\n",
    "ccd.pl.heatmap_with_annotations(adata_state, val='wt_noise', obs_keys=[state_key], yticklabels=False, cluster_cols=False, cluster_rows=False, value_annot=False, cmap='viridis', title='True state with noise', save_path=save_dir/f'true_state_with_noise_heatmap_{file_suffix}.png', figsize=(6, 4), dpi=300)\n",
    "ccd.pl.heatmap_with_annotations(adata, val='X', obs_keys=[state_key, batch_key], yticklabels=False, cluster_cols=False, cluster_rows=False, value_annot=False, cmap='viridis', title='Simulated data with batch signal', save_path=save_dir/f'simulated_data_heatmap_{file_suffix}.png', figsize=(6, 4), dpi=300)"
   ]
  },
  {
   "cell_type": "markdown",
   "metadata": {},
   "source": [
    "### No batch effect, no noise"
   ]
  },
  {
   "cell_type": "code",
   "execution_count": null,
   "metadata": {},
   "outputs": [],
   "source": [
    "ccd.ul.run_pca(adata_state, source_key='no_noise', result_key='PCA_no_noise', n_pc=30, random_state=seed)\n",
    "ccd.ul.run_umap(adata_state, source_key='PCA_no_noise', result_key='UMAP_no_noise', random_state=seed)"
   ]
  },
  {
   "cell_type": "code",
   "execution_count": null,
   "metadata": {},
   "outputs": [],
   "source": [
    "show_basis = 'PCA_no_noise'\n",
    "show_cols = [state_key]\n",
    "\n",
    "ccd.pl.plot_embedding(\n",
    "    adata_state, show_basis, show_cols, figsize=(8,3), dpi=300, ncols=3, font_size=5, point_size=20, legend_loc='on data',\n",
    "    save_path=save_dir / f\"nobatch_{show_basis}_{file_suffix}.png\"\n",
    ")"
   ]
  },
  {
   "cell_type": "code",
   "execution_count": null,
   "metadata": {},
   "outputs": [],
   "source": [
    "show_basis = 'UMAP_no_noise'\n",
    "show_cols = [state_key]\n",
    "\n",
    "ccd.pl.plot_embedding(\n",
    "    adata_state, show_basis, show_cols, figsize=(8,3), dpi=300, ncols=3, font_size=5, point_size=20, legend_loc='on data',\n",
    "    save_path=save_dir / f\"nobatch_{show_basis}_{file_suffix}.png\"\n",
    ")"
   ]
  },
  {
   "cell_type": "markdown",
   "metadata": {},
   "source": [
    "### NO batch effect, noise added, PCA and UMAP"
   ]
  },
  {
   "cell_type": "code",
   "execution_count": null,
   "metadata": {},
   "outputs": [],
   "source": [
    "adata_state.X = adata_state.layers['wt_noise'].copy()\n",
    "ccd.ul.run_pca(adata_state, source_key='wt_noise', result_key='PCA_wt_noise', n_pc=30, random_state=seed)\n",
    "ccd.ul.run_umap(adata_state, source_key='PCA_wt_noise', result_key='UMAP_wt_noise', random_state=seed)"
   ]
  },
  {
   "cell_type": "code",
   "execution_count": null,
   "metadata": {},
   "outputs": [],
   "source": [
    "show_basis = 'PCA_wt_noise'\n",
    "show_cols = [state_key]\n",
    "\n",
    "ccd.pl.plot_embedding(\n",
    "    adata_state, show_basis, show_cols, figsize=(8,3), dpi=300, ncols=3, font_size=5, point_size=20, legend_loc='on data',\n",
    "    save_path=save_dir / f\"nobatch_{show_basis}_{file_suffix}.png\"\n",
    ")"
   ]
  },
  {
   "cell_type": "code",
   "execution_count": null,
   "metadata": {},
   "outputs": [],
   "source": [
    "show_basis = 'UMAP_wt_noise'\n",
    "show_cols = [state_key]\n",
    "\n",
    "ccd.pl.plot_embedding(\n",
    "    adata_state, show_basis, show_cols, figsize=(8,3), dpi=300, ncols=3, font_size=5, point_size=20, legend_loc='on data',\n",
    "    save_path=save_dir / f\"nobatch_{show_basis}_{file_suffix}.png\"\n",
    ")"
   ]
  },
  {
   "cell_type": "markdown",
   "metadata": {},
   "source": [
    "### No batch correction, PCA and UMAP"
   ]
  },
  {
   "cell_type": "code",
   "execution_count": 51,
   "metadata": {},
   "outputs": [],
   "source": [
    "n_pcs = min(adata.n_obs, adata.n_vars)-1\n",
    "sc.pp.pca(adata, n_comps=n_pcs)\n",
    "sc.pp.neighbors(adata, n_neighbors=30, n_pcs=n_pcs)\n",
    "sc.tl.umap(adata, min_dist=0.5)\n",
    "adata.obsm[\"Unintegrated\"] = adata.obsm[\"X_pca\"]"
   ]
  },
  {
   "cell_type": "code",
   "execution_count": null,
   "metadata": {},
   "outputs": [],
   "source": [
    "show_basis = 'X_pca'\n",
    "show_cols = [state_key, batch_key]\n",
    "\n",
    "ccd.pl.plot_embedding(\n",
    "    adata, show_basis, show_cols, figsize=(8,3), dpi=300, ncols=3, font_size=5, point_size=20, legend_loc='on data',\n",
    "    save_path=save_dir / f\"wtbatch_{show_basis}_{file_suffix}.png\"\n",
    ")"
   ]
  },
  {
   "cell_type": "code",
   "execution_count": null,
   "metadata": {},
   "outputs": [],
   "source": [
    "show_basis = 'X_umap'\n",
    "ccd.pl.plot_embedding(\n",
    "    adata, show_basis, show_cols, figsize=(8,3), dpi=300, ncols=3, font_size=5, point_size=20, legend_loc='on data',\n",
    "    save_path=save_dir / f\"wtbatch_{show_basis}_{file_suffix}.png\"\n",
    ")"
   ]
  },
  {
   "cell_type": "markdown",
   "metadata": {},
   "source": [
    "### Concord"
   ]
  },
  {
   "cell_type": "code",
   "execution_count": null,
   "metadata": {},
   "outputs": [],
   "source": [
    "cur_ccd = ccd.Concord(adata=adata, \n",
    "                      input_feature=None, \n",
    "                      batch_size=32,\n",
    "                      n_epochs=10,\n",
    "                      lr=1e-2,\n",
    "                      train_frac=1.0,\n",
    "                      schedule_ratio = 0.97,\n",
    "                      latent_dim=32, # latent dimension\n",
    "                      encoder_dims = [64], # encoder architecture\n",
    "                      decoder_dims = [64], # decoder architecture\n",
    "                      norm_type = 'layer_norm',\n",
    "                      use_importance_mask=False,\n",
    "                      #importance_penalty_weight=1.0,\n",
    "                      use_decoder=False,\n",
    "                      domain_embedding_dim=8,\n",
    "                      domain_key=batch_key, # key indicating batch\n",
    "                      augmentation_mask_prob = 0.5, # augmentation mask probability, recommend between 0.1 and 0.7\n",
    "                      clr_temperature = 0.5, # temperature for NT-Xent loss\n",
    "                      seed=seed, # random seed\n",
    "                      p_intra_domain = 1.0, # probability of intra-domain sampling\n",
    "                      p_intra_knn=0.3,\n",
    "                      use_faiss=False,\n",
    "                      sampler_knn = adata.n_obs//10,\n",
    "                      verbose=False, # print training progress\n",
    "                      inplace=True, # whether to modify original adata, set to False if you want to keep all expressions\n",
    "                      device=device, # device to run on\n",
    "                      save_dir=save_dir # directory to save model checkpoints\n",
    "                      ) \n",
    "\n",
    "# Encode data, saving the latent embedding in adata.obsm['Concord']\n",
    "output_key = 'Concord'\n",
    "cur_ccd.encode_adata(input_layer_key='X', output_key=output_key, preprocess=False)\n",
    "# Save the latent embedding to a file, so that it can be loaded later\n",
    "ccd.ul.save_obsm_to_hdf5(cur_ccd.adata, save_dir / f\"obsm_{file_suffix}.h5\")"
   ]
  },
  {
   "cell_type": "code",
   "execution_count": null,
   "metadata": {},
   "outputs": [],
   "source": [
    "state_key = 'cluster'\n",
    "ccd.pl.heatmap_with_annotations(adata, val='Concord', obs_keys=[state_key, batch_key], \n",
    "                                cluster_cols=True, cluster_rows=True, cmap='viridis', \n",
    "                                pal = {'cluster': 'Set1', 'batch':'Set2'}, add_color_legend=True,\n",
    "                                save_path=save_dir/f'Concord_latent_heatmap_{file_suffix}.png')"
   ]
  },
  {
   "cell_type": "code",
   "execution_count": null,
   "metadata": {},
   "outputs": [],
   "source": [
    "# Compute the correlation matrix\n",
    "cos_mtx = ccd.ul.cosine_sim(adata.obsm['Concord'])\n",
    "ccd.pl.heatmap_with_annotations(adata, val=cos_mtx,\n",
    "                                obs_keys=[state_key, batch_key], cluster_cols=True, cluster_rows=True, cmap='viridis', save_path=save_dir/f'Concord_cosine_{file_suffix}.png')"
   ]
  },
  {
   "cell_type": "code",
   "execution_count": null,
   "metadata": {},
   "outputs": [],
   "source": [
    "n_pc = min(adata.obsm[output_key].shape[1], adata.shape[0]) - 1\n",
    "ccd.ul.run_pca(adata, source_key=output_key, result_key=f'{output_key}_PCA', n_pc=n_pc, random_state=seed)\n",
    "show_basis = f'{output_key}'\n",
    "show_cols = [state_key, batch_key]\n",
    "ccd.pl.plot_embedding(\n",
    "    adata, show_basis, show_cols, figsize=(8,3), dpi=300, ncols=3, font_size=5, point_size=10, legend_loc='on data',\n",
    "    save_path=save_dir / f\"{show_basis}_{file_suffix}.png\"\n",
    ")"
   ]
  },
  {
   "cell_type": "code",
   "execution_count": null,
   "metadata": {},
   "outputs": [],
   "source": [
    "sc.pp.neighbors(adata, n_neighbors=30, use_rep = 'Concord')\n",
    "ccd.ul.run_umap(adata, source_key='Concord', result_key='Concord_UMAP_2D', n_components=2, n_neighbors=30, min_dist=0.5, metric='euclidean', random_state=seed)\n",
    "sc.tl.leiden(adata, resolution=1.0)\n",
    "show_cols = [state_key, batch_key, 'leiden']\n",
    "show_basis = 'Concord_UMAP_2D'   \n",
    "ccd.pl.plot_embedding(\n",
    "    adata, show_basis, show_cols, figsize=(8,3), dpi=300, ncols=3, font_size=5, point_size=10, legend_loc='on data',\n",
    "    pal = {'cluster':'Set1', 'batch':'Set2', 'leiden':'tab20'},\n",
    "    save_path=save_dir / f\"{show_basis}_{file_suffix}.png\"\n",
    ")\n"
   ]
  },
  {
   "cell_type": "code",
   "execution_count": 60,
   "metadata": {},
   "outputs": [],
   "source": [
    "adata.write_h5ad(data_dir / f\"adata_{file_suffix}.h5ad\") \n",
    "adata_state.write_h5ad(data_dir / f\"adata_state_{file_suffix}.h5ad\")"
   ]
  },
  {
   "cell_type": "markdown",
   "metadata": {},
   "source": [
    "# Run other methods"
   ]
  },
  {
   "cell_type": "code",
   "execution_count": 21,
   "metadata": {},
   "outputs": [],
   "source": [
    "file_suffix = f\"{time.strftime('%b%d-%H%M')}\"\n",
    "ccd.set_verbose_mode(True)\n",
    "show_cols = [state_key, batch_key]\n",
    "timer = ccd.ul.Timer()\n",
    "time_log = {}"
   ]
  },
  {
   "cell_type": "markdown",
   "metadata": {},
   "source": [
    "### Scanorama"
   ]
  },
  {
   "cell_type": "code",
   "execution_count": null,
   "metadata": {},
   "outputs": [],
   "source": [
    "output_key = 'Scanorama'\n",
    "\n",
    "with timer:\n",
    "    ccd.ul.run_scanorama(adata, batch_key=\"batch\", output_key=output_key, return_corrected=True)\n",
    "\n",
    "time_log[output_key] = timer.interval\n",
    "ccd.ul.save_obsm_to_hdf5(adata, save_dir / f\"obsm_{file_suffix}.h5\")"
   ]
  },
  {
   "cell_type": "code",
   "execution_count": null,
   "metadata": {},
   "outputs": [],
   "source": [
    "# Plot heatmap of Scanorama corrected data\n",
    "ccd.pl.heatmap_with_annotations(adata, val=f'{output_key}_corrected', obs_keys=[state_key, batch_key], \n",
    "                                cluster_cols=False, cluster_rows=False, cmap='viridis', \n",
    "                                pal = {'cluster': 'Set1', 'batch':'Set2'}, add_color_legend=True,\n",
    "                                save_path=save_dir/f'{output_key}_corrected_heatmap_{file_suffix}.png')"
   ]
  },
  {
   "cell_type": "code",
   "execution_count": null,
   "metadata": {},
   "outputs": [],
   "source": [
    "ccd.ul.run_umap(adata, source_key=output_key, result_key=f'{output_key}_UMAP', n_components=2, n_neighbors=30, min_dist=0.5, metric='euclidean', random_state=seed)\n",
    "show_basis = f'{output_key}_UMAP'\n",
    "ccd.pl.plot_embedding(\n",
    "    adata, show_basis, show_cols, figsize=(8,3), dpi=300, ncols=3, font_size=5, point_size=10, legend_loc='on data',\n",
    "    save_path=save_dir / f\"{show_basis}_{file_suffix}.png\"\n",
    ")"
   ]
  },
  {
   "cell_type": "markdown",
   "metadata": {},
   "source": [
    "### Liger"
   ]
  },
  {
   "cell_type": "code",
   "execution_count": null,
   "metadata": {},
   "outputs": [],
   "source": [
    "output_key = 'Liger'\n",
    "adata.layers[\"counts\"] = adata.X.copy()\n",
    "with timer:\n",
    "    ccd.ul.run_liger(adata, batch_key=\"batch\", count_layer=\"counts\", output_key=output_key, k=30, return_corrected=True)\n",
    "\n",
    "time_log[output_key] = timer.interval\n",
    "ccd.ul.save_obsm_to_hdf5(adata, save_dir / f\"obsm_{file_suffix}.h5\")"
   ]
  },
  {
   "cell_type": "code",
   "execution_count": null,
   "metadata": {},
   "outputs": [],
   "source": [
    "# Plot heatmap of Scanorama corrected data\n",
    "ccd.pl.heatmap_with_annotations(adata, val=f'{output_key}_corrected', obs_keys=[state_key, batch_key], \n",
    "                                cluster_cols=False, cluster_rows=False, cmap='viridis', \n",
    "                                pal = {'cluster': 'Set1', 'batch':'Set2'}, add_color_legend=True,\n",
    "                                save_path=save_dir/f'{output_key}_corrected_heatmap_{file_suffix}.png')"
   ]
  },
  {
   "cell_type": "code",
   "execution_count": null,
   "metadata": {},
   "outputs": [],
   "source": [
    "ccd.ul.run_umap(adata, source_key=output_key, result_key=f'{output_key}_UMAP', n_components=2, n_neighbors=30, min_dist=0.5, metric='euclidean', random_state=seed)\n",
    "show_basis = f'{output_key}_UMAP'\n",
    "ccd.pl.plot_embedding(\n",
    "    adata, show_basis, show_cols, figsize=(8,3), dpi=300, ncols=3, font_size=5, point_size=10, legend_loc='on data',\n",
    "    save_path=save_dir / f\"{show_basis}_{file_suffix}.png\"\n",
    ")"
   ]
  },
  {
   "cell_type": "markdown",
   "metadata": {},
   "source": [
    "### Harmony"
   ]
  },
  {
   "cell_type": "code",
   "execution_count": null,
   "metadata": {},
   "outputs": [],
   "source": [
    "output_key = 'Harmony'\n",
    "with timer:\n",
    "    ccd.ul.run_harmony(adata, batch_key=\"batch\", input_key='X_pca', output_key=output_key)\n",
    "\n",
    "time_log[output_key] = timer.interval\n",
    "ccd.ul.save_obsm_to_hdf5(adata, save_dir / f\"obsm_{file_suffix}.h5\")"
   ]
  },
  {
   "cell_type": "code",
   "execution_count": null,
   "metadata": {},
   "outputs": [],
   "source": [
    "ccd.ul.run_umap(adata, source_key=output_key, result_key=f'{output_key}_UMAP', n_components=2, n_neighbors=30, min_dist=0.5, metric='euclidean', random_state=seed)\n",
    "show_basis = f'{output_key}_UMAP'\n",
    "ccd.pl.plot_embedding(\n",
    "    adata, show_basis, show_cols, figsize=(8,3), dpi=300, ncols=3, font_size=5, point_size=10, legend_loc='on data',\n",
    "    save_path=save_dir / f\"{show_basis}_{file_suffix}.png\"\n",
    ")"
   ]
  },
  {
   "cell_type": "markdown",
   "metadata": {},
   "source": [
    "### scVI"
   ]
  },
  {
   "cell_type": "code",
   "execution_count": null,
   "metadata": {},
   "outputs": [],
   "source": [
    "output_key = 'scVI'\n",
    "transform_batch = 'batch_1'\n",
    "with timer:\n",
    "    scvi_vae = ccd.ul.run_scvi(adata, batch_key=\"batch\", output_key=output_key, return_model=True, return_corrected=True, transform_batch=transform_batch)\n",
    "\n",
    "time_log[output_key] = timer.interval\n",
    "ccd.ul.save_obsm_to_hdf5(adata, save_dir / f\"obsm_{file_suffix}.h5\")"
   ]
  },
  {
   "cell_type": "code",
   "execution_count": null,
   "metadata": {},
   "outputs": [],
   "source": [
    "# Plot heatmap of Scanorama corrected data\n",
    "ccd.pl.heatmap_with_annotations(adata, val=f'{output_key}_corrected_{transform_batch}', obs_keys=[state_key, batch_key], \n",
    "                                cluster_cols=False, cluster_rows=False, cmap='viridis', \n",
    "                                pal = {'cluster': 'Set1', 'batch':'Set2'}, add_color_legend=True,\n",
    "                                save_path=save_dir/f'{output_key}_{transform_batch}_corrected_heatmap_{file_suffix}.png')"
   ]
  },
  {
   "cell_type": "code",
   "execution_count": null,
   "metadata": {},
   "outputs": [],
   "source": [
    "output_key = 'scVI'\n",
    "ccd.ul.run_umap(adata, source_key=output_key, result_key=f'{output_key}_UMAP', n_components=2, n_neighbors=30, min_dist=0.5, metric='euclidean', random_state=seed)\n",
    "show_basis = f'{output_key}_UMAP'\n",
    "ccd.pl.plot_embedding(\n",
    "    adata, show_basis, show_cols, figsize=(8,3), dpi=300, ncols=3, font_size=5, point_size=10, legend_loc='on data',\n",
    "    save_path=save_dir / f\"{show_basis}_{file_suffix}.png\"\n",
    ")"
   ]
  },
  {
   "cell_type": "markdown",
   "metadata": {},
   "source": [
    "### scANVI"
   ]
  },
  {
   "cell_type": "code",
   "execution_count": null,
   "metadata": {},
   "outputs": [],
   "source": [
    "output_key = 'scANVI'\n",
    "with timer:\n",
    "    ccd.ul.run_scanvi(adata, batch_key=\"batch\", labels_key=state_key, output_key=output_key, scvi_model=scvi_vae, return_corrected=True, transform_batch=transform_batch)\n",
    "\n",
    "time_log[output_key] = timer.interval\n",
    "ccd.ul.save_obsm_to_hdf5(adata, save_dir / f\"obsm_{file_suffix}.h5\")"
   ]
  },
  {
   "cell_type": "code",
   "execution_count": null,
   "metadata": {},
   "outputs": [],
   "source": [
    "# Plot heatmap of Scanorama corrected data\n",
    "ccd.pl.heatmap_with_annotations(adata, val=f'{output_key}_corrected_{transform_batch}', obs_keys=[state_key, batch_key], \n",
    "                                cluster_cols=False, cluster_rows=False, cmap='viridis', \n",
    "                                pal = {'cluster': 'Set1', 'batch':'Set2'}, add_color_legend=True,\n",
    "                                save_path=save_dir/f'{output_key}_{transform_batch}_corrected_heatmap_{file_suffix}.png')"
   ]
  },
  {
   "cell_type": "code",
   "execution_count": null,
   "metadata": {},
   "outputs": [],
   "source": [
    "ccd.ul.run_umap(adata, source_key=output_key, result_key=f'{output_key}_UMAP', n_components=2, n_neighbors=30, min_dist=0.5, metric='euclidean', random_state=seed)\n",
    "show_basis = f'{output_key}_UMAP'\n",
    "ccd.pl.plot_embedding(\n",
    "    adata, show_basis, show_cols, figsize=(8,3), dpi=300, ncols=3, font_size=5, point_size=10, legend_loc='on data',\n",
    "    save_path=save_dir / f\"{show_basis}_{file_suffix}.png\"\n",
    ")"
   ]
  },
  {
   "cell_type": "markdown",
   "metadata": {},
   "source": [
    "### Concord"
   ]
  },
  {
   "cell_type": "code",
   "execution_count": 49,
   "metadata": {},
   "outputs": [],
   "source": [
    "min_p_intra_domain = .95\n",
    "#min_p_intra_domain=1.0"
   ]
  },
  {
   "cell_type": "code",
   "execution_count": null,
   "metadata": {},
   "outputs": [],
   "source": [
    "cur_ccd = ccd.Concord(adata=adata, \n",
    "                      input_feature=None, \n",
    "                      batch_size=64,\n",
    "                      n_epochs=15,\n",
    "                      use_decoder=False,\n",
    "                      min_p_intra_domain=min_p_intra_domain,\n",
    "                      domain_key=batch_key, # key indicating batch\n",
    "                      seed=seed, # random seed\n",
    "                      verbose=False, # print training progress\n",
    "                      device=device, # device to run on\n",
    "                      save_dir=save_dir # directory to save model checkpoints\n",
    "                      ) \n",
    "\n",
    "# Encode data, saving the latent embedding in adata.obsm['Concord']\n",
    "output_key = 'Concord'\n",
    "#with timer:\n",
    "cur_ccd.encode_adata(input_layer_key='X', output_key=output_key, preprocess=False)\n",
    "    \n",
    "#time_log[output_key] = timer.interval\n",
    "\n",
    "# Save the latent embedding to a file, so that it can be loaded later\n",
    "ccd.ul.save_obsm_to_hdf5(cur_ccd.adata, save_dir / f\"obsm_{file_suffix}.h5\")"
   ]
  },
  {
   "cell_type": "code",
   "execution_count": null,
   "metadata": {},
   "outputs": [],
   "source": [
    "ccd.ul.run_umap(adata, source_key=output_key, result_key=f'{output_key}_UMAP', n_components=2, n_neighbors=30, min_dist=0.5, metric='euclidean', random_state=seed)\n",
    "show_basis = f'{output_key}_UMAP'\n",
    "show_cols = [state_key, batch_key]\n",
    "ccd.pl.plot_embedding(\n",
    "    adata, show_basis, show_cols, figsize=(8,3), dpi=300, ncols=3, font_size=5, point_size=10, legend_loc='on data',\n",
    "    save_path=save_dir / f\"{show_basis}_{file_suffix}.png\"\n",
    ")"
   ]
  },
  {
   "cell_type": "markdown",
   "metadata": {},
   "source": [
    "### Concord with decoder"
   ]
  },
  {
   "cell_type": "code",
   "execution_count": null,
   "metadata": {},
   "outputs": [],
   "source": [
    "decoder_ccd = ccd.Concord(adata=adata, \n",
    "                      input_feature=None, \n",
    "                      batch_size=64,\n",
    "                      n_epochs=10,\n",
    "                      domain_key=batch_key, # key indicating batch\n",
    "                      class_key=state_key, # key indicating class\n",
    "                      use_classifier=False, # use classifier\n",
    "                      use_decoder=True,\n",
    "                      min_p_intra_domain=min_p_intra_domain,\n",
    "                      domain_embedding_dim=8,\n",
    "                      seed=seed, # random seed\n",
    "                      verbose=False, # print training progress\n",
    "                      device=device, # device to run on\n",
    "                      save_dir=save_dir # directory to save model checkpoints\n",
    "                      ) \n",
    "\n",
    "output_key = 'Concord-decoder'\n",
    "with timer:\n",
    "    decoder_ccd.encode_adata(input_layer_key='X', output_key=output_key, preprocess=False)\n",
    "    \n",
    "time_log[output_key] = timer.interval\n",
    "# Save the latent embedding to a file, so that it can be loaded later\n",
    "ccd.ul.save_obsm_to_hdf5(decoder_ccd.adata, save_dir / f\"obsm_{file_suffix}.h5\")\n"
   ]
  },
  {
   "cell_type": "code",
   "execution_count": null,
   "metadata": {},
   "outputs": [],
   "source": [
    "ccd.ul.run_umap(adata, source_key=output_key, result_key=f'{output_key}_UMAP', n_components=2, n_neighbors=30, min_dist=0.5, metric='euclidean', random_state=seed)\n",
    "show_basis = f'{output_key}_UMAP'\n",
    "ccd.pl.plot_embedding(\n",
    "    adata, show_basis, show_cols, figsize=(8,3), dpi=300, ncols=3, font_size=5, point_size=10, legend_loc='on data',\n",
    "    save_path=save_dir / f\"{show_basis}_{file_suffix}.png\"\n",
    ")"
   ]
  },
  {
   "cell_type": "code",
   "execution_count": null,
   "metadata": {},
   "outputs": [],
   "source": [
    "# Predict and store the results\n",
    "decoder_domains = adata.obs[batch_key].unique()\n",
    "for domain in decoder_domains:\n",
    "    _, decoded, _, _, _, _ = decoder_ccd.predict(decoder_ccd.loader, return_decoded=True, decoder_domain=domain, return_class=True, return_class_prob=True)\n",
    "    save_key = f\"{output_key}_decoded_{domain}\"\n",
    "    adata.layers[save_key] = decoded\n",
    "\n",
    "adata.layers"
   ]
  },
  {
   "cell_type": "markdown",
   "metadata": {},
   "source": [
    "### Concord with classifier"
   ]
  },
  {
   "cell_type": "code",
   "execution_count": null,
   "metadata": {},
   "outputs": [],
   "source": [
    "cur_ccd = ccd.Concord(adata=adata, \n",
    "                      input_feature=None, \n",
    "                      batch_size=64,\n",
    "                      n_epochs=10,\n",
    "                      min_p_intra_domain=min_p_intra_domain,\n",
    "                      domain_key=batch_key, # key indicating batch\n",
    "                      class_key=state_key, # key indicating class\n",
    "                      use_classifier=True, # use classifier\n",
    "                      seed=seed, # random seed\n",
    "                      verbose=False, # print training progress\n",
    "                      device=device, # device to run on\n",
    "                      save_dir=save_dir # directory to save model checkpoints\n",
    "                      ) \n",
    "\n",
    "# Encode data, saving the latent embedding in adata.obsm['Concord']\n",
    "output_key = 'Concord-class'\n",
    "with timer:\n",
    "    cur_ccd.encode_adata(input_layer_key='X', output_key=output_key, preprocess=False)\n",
    "    \n",
    "time_log[output_key] = timer.interval\n",
    "# Save the latent embedding to a file, so that it can be loaded later\n",
    "ccd.ul.save_obsm_to_hdf5(cur_ccd.adata, save_dir / f\"obsm_{file_suffix}.h5\")"
   ]
  },
  {
   "cell_type": "code",
   "execution_count": null,
   "metadata": {},
   "outputs": [],
   "source": [
    "ccd.ul.run_umap(adata, source_key=output_key, result_key=f'{output_key}_UMAP', n_components=2, n_neighbors=30, min_dist=0.5, metric='euclidean', random_state=seed)\n",
    "show_basis = f'{output_key}_UMAP'\n",
    "ccd.pl.plot_embedding(\n",
    "    adata, show_basis, show_cols, figsize=(8,3), dpi=300, ncols=3, font_size=5, point_size=10, legend_loc='on data',\n",
    "    save_path=save_dir / f\"{show_basis}_{file_suffix}.png\"\n",
    ")"
   ]
  },
  {
   "cell_type": "code",
   "execution_count": null,
   "metadata": {},
   "outputs": [],
   "source": [
    "cur_ccd = ccd.Concord(adata=adata, \n",
    "                      input_feature=None, \n",
    "                      batch_size=64,\n",
    "                      n_epochs=10,\n",
    "                      domain_key=None, # key indicating batch\n",
    "                      min_p_intra_domain=None, # probability of sampling intra-domain pairs\n",
    "                      seed=seed, # random seed\n",
    "                      verbose=False, # print training progress\n",
    "                      device=device, # device to run on\n",
    "                      save_dir=save_dir # directory to save model checkpoints\n",
    "                      ) \n",
    "\n",
    "# Encode data, saving the latent embedding in adata.obsm['Concord']\n",
    "output_key = 'Concord_nd'\n",
    "cur_ccd.encode_adata(input_layer_key='X', output_key=output_key, preprocess=False)\n"
   ]
  },
  {
   "cell_type": "code",
   "execution_count": null,
   "metadata": {},
   "outputs": [],
   "source": [
    "adata.obsm['Unintegrated'] = adata.obsm['X_pca']\n",
    "n_pc=30\n",
    "adata_state.layers['no_noise_wt_jitter'] = adata_state.layers['no_noise'].copy()\n",
    "# Add small jitter to the no_noise to avoid numerical issues\n",
    "adata_state.layers['no_noise_wt_jitter'] += np.random.normal(0, 1e-5, adata_state.layers['no_noise_wt_jitter'].shape)\n",
    "\n",
    "ccd.ul.run_pca(adata_state, source_key='no_noise_wt_jitter', result_key='PCA_no_noise', n_pc=n_pc, random_state=seed)\n",
    "ccd.ul.run_pca(adata_state, source_key='wt_noise', result_key='PCA_wt_noise', n_pc=n_pc, random_state=seed)\n",
    "\n",
    "# Put the PCA result in the adata object, so only one object is needed\n",
    "adata.obsm['PCA_wt_noise'] = adata_state.obsm['PCA_wt_noise']\n",
    "adata.obsm['PCA_no_noise'] = adata_state.obsm['PCA_no_noise']\n",
    "adata.obsm"
   ]
  },
  {
   "cell_type": "code",
   "execution_count": 17,
   "metadata": {},
   "outputs": [],
   "source": [
    "latent_keys = [\"Unintegrated\", \"Scanorama\", \"Liger\", \"Harmony\", \"scVI\",\"Concord_nd\", \"Concord\", 'Concord-decoder', \"Concord-class\",  \"scANVI\"]\n",
    "ground_keys = ['PCA_no_noise', 'PCA_wt_noise']\n",
    "combined_keys = ground_keys + latent_keys \n"
   ]
  },
  {
   "cell_type": "code",
   "execution_count": null,
   "metadata": {},
   "outputs": [],
   "source": [
    "# Run umap and PCA for all latent embeddings\n",
    "for basis in combined_keys:\n",
    "    print(\"Running UMAP and PCA for\", basis)\n",
    "    if basis not in adata.obsm:\n",
    "        continue\n",
    "    #if 'UMAP' not in basis:\n",
    "    ccd.ul.run_umap(adata, source_key=basis, result_key=f'{basis}_UMAP', n_components=2, n_neighbors=30, min_dist=0.5, metric='euclidean', random_state=seed)\n",
    "    if 'PCA' not in basis:\n",
    "        n_pc = min(adata.obsm[basis].shape[1], adata.shape[0]) - 1\n",
    "        ccd.ul.run_pca(adata, source_key=basis, result_key=f'{basis}_PCA', n_pc=n_pc, random_state=seed)\n"
   ]
  },
  {
   "cell_type": "code",
   "execution_count": null,
   "metadata": {},
   "outputs": [],
   "source": [
    "adata.write_h5ad(data_dir / f\"adata_{file_suffix}.h5ad\")\n",
    "adata_state.write_h5ad(data_dir / f\"adata_state_{file_suffix}.h5ad\")\n",
    "file_suffix"
   ]
  },
  {
   "cell_type": "code",
   "execution_count": null,
   "metadata": {},
   "outputs": [],
   "source": [
    "# plot everything\n",
    "import matplotlib.pyplot as plt\n",
    "import pandas as pd\n",
    "\n",
    "\n",
    "# from matplotlib import font_manager, rcParams\n",
    "\n",
    "# # Add custom font path\n",
    "# font_dirs = ['/wynton/home/gartner/zhuqin/.conda/envs/cellpath/fonts']  # Your custom fonts directory\n",
    "# font_files = font_manager.findSystemFonts(fontpaths=font_dirs)\n",
    "\n",
    "# # Create FontProperties for each custom font and add to the font manager\n",
    "# for font_path in font_files:\n",
    "#     font_manager.fontManager.addfont(font_path)\n",
    "\n",
    "# Set Arial as the default font\n",
    "custom_rc = {\n",
    "    'font.family': 'Arial',  # Set the desired font for this plot\n",
    "}\n",
    "\n",
    "color_bys = [state_key, batch_key]\n",
    "basis_types = ['KNN', 'UMAP']\n",
    "#basis_types = ['PCA']\n",
    "#basis_types = ['KNN']\n",
    "font_size=8\n",
    "point_size=5\n",
    "alpha=0.8\n",
    "figsize=(0.9*len(combined_keys),1)\n",
    "ncols = len(combined_keys)\n",
    "nrows = int(np.ceil(len(combined_keys) / ncols))\n",
    "pal = {state_key:'tab10', batch_key:'Set1'}\n",
    "k=10\n",
    "edges_color='grey'\n",
    "edges_width=0\n",
    "layout='kk'\n",
    "threshold = 0.1\n",
    "node_size_scale=0.1\n",
    "edge_width_scale=0.1\n",
    "\n",
    "rasterized = True\n",
    "with plt.rc_context(rc=custom_rc):\n",
    "    ccd.pl.plot_all_embeddings(\n",
    "        adata,\n",
    "        combined_keys,\n",
    "        color_bys=color_bys,\n",
    "        basis_types=basis_types,\n",
    "        pal=pal,\n",
    "        k=k,\n",
    "        edges_color=edges_color,\n",
    "        edges_width=edges_width,\n",
    "        layout=layout,\n",
    "        threshold=threshold,\n",
    "        node_size_scale=node_size_scale,\n",
    "        edge_width_scale=edge_width_scale,\n",
    "        font_size=font_size,\n",
    "        point_size=point_size,\n",
    "        alpha=alpha,\n",
    "        rasterized=rasterized,\n",
    "        figsize=figsize,\n",
    "        ncols=ncols,\n",
    "        seed=seed,\n",
    "        leiden_key='leiden',\n",
    "        save_dir=save_dir,\n",
    "        file_suffix=file_suffix+f'rasterized_{rasterized}',\n",
    "        save_format='svg'\n",
    "    )\n"
   ]
  },
  {
   "cell_type": "code",
   "execution_count": 53,
   "metadata": {},
   "outputs": [],
   "source": [
    "adata.layers['no_noise'] = np.zeros_like(adata.X)\n",
    "adata.layers['wt_noise'] = np.zeros_like(adata.X)\n",
    "# Find the indices of common genes between `adata` and `adata_state`\n",
    "common_genes = adata.var_names.intersection(adata_state.var_names)\n",
    "adata_indices = adata.var_names.get_indexer(common_genes)\n",
    "adata_state_indices = adata_state.var_names.get_indexer(common_genes)\n",
    "\n",
    "# Copy data from `adata_state` to `adata` for these common genes\n",
    "adata.layers['no_noise'][:, adata_indices] = adata_state.layers['no_noise'][:, adata_state_indices].copy()\n",
    "adata.layers['wt_noise'][:, adata_indices] = adata_state.layers['wt_noise'][:, adata_state_indices].copy()\n",
    "\n",
    "# sort and smooth the signal along the path\n",
    "#batch_id=adata.obs['batch'].unique()[0]\n",
    "cell_order = np.arange(adata.n_obs)\n",
    "_, _, _, feature_order = ccd.ul.sort_and_smooth_signal_along_path(adata, signal_key='Concord', path=cell_order, sigma=2)\n",
    "adata.obsm['Concord_sorted'] = adata.obsm['Concord'][:, feature_order]\n",
    "\n",
    "_, _, _, feature_order = ccd.ul.sort_and_smooth_signal_along_path(adata, signal_key='Concord-decoder', path=cell_order, sigma=2)\n",
    "adata.obsm['Concord-decoder_sorted'] = adata.obsm['Concord-decoder'][:, feature_order]"
   ]
  },
  {
   "cell_type": "code",
   "execution_count": null,
   "metadata": {},
   "outputs": [],
   "source": [
    "# Plot heatmap of original data and Concord latent\n",
    "import matplotlib.pyplot as plt\n",
    "figsize = (2.3, 1.8)\n",
    "ncols = 5\n",
    "title_fontsize = 9\n",
    "dpi = 600\n",
    "with plt.rc_context(rc=custom_rc):\n",
    "    fig, axes = plt.subplots(1, ncols, figsize=(figsize[0] * ncols, figsize[1]), dpi=dpi)\n",
    "    ccd.pl.heatmap_with_annotations(adata, val='no_noise', obs_keys=[state_key], ax = axes[0], use_clustermap=False, yticklabels=False, cluster_cols=False, cluster_rows=False, value_annot=False, cmap='viridis', title='State', save_path=None, figsize=figsize, dpi=dpi, title_fontsize=title_fontsize)\n",
    "    ccd.pl.heatmap_with_annotations(adata, val='wt_noise', obs_keys=[state_key], ax = axes[1], use_clustermap=False, yticklabels=False, cluster_cols=False, cluster_rows=False, value_annot=False, cmap='viridis', title='State+noise', save_path=None, figsize=figsize, dpi=dpi, title_fontsize=title_fontsize)\n",
    "    ccd.pl.heatmap_with_annotations(adata, val='X', obs_keys=[state_key, batch_key], ax = axes[2], use_clustermap=False, yticklabels=False, cluster_cols=False, cluster_rows=False, value_annot=False, cmap='viridis', title='State+noise+batch', save_path=None, figsize=figsize, dpi=dpi, title_fontsize=title_fontsize)\n",
    "    ccd.pl.heatmap_with_annotations(adata, val='Concord_sorted', obs_keys=[state_key, batch_key], ax = axes[3], use_clustermap=False, yticklabels=False, cluster_cols=False, cluster_rows=False, value_annot=False, cmap='viridis', title='Concord latent', save_path=None, figsize=figsize, dpi=dpi, title_fontsize=title_fontsize)\n",
    "    ccd.pl.heatmap_with_annotations(adata, val='Concord-decoder_sorted', obs_keys=[state_key, batch_key], ax = axes[4], use_clustermap=False, yticklabels=False, cluster_cols=False, cluster_rows=False, value_annot=False, cmap='viridis', title='Concord-decoder latent', save_path=None, figsize=figsize, dpi=dpi, title_fontsize=title_fontsize)\n",
    "    plt.tight_layout(w_pad=0.0, h_pad=0.1)\n",
    "    plt.savefig(save_dir / f\"all_heatmaps_{file_suffix}.svg\", dpi=dpi, bbox_inches='tight')"
   ]
  },
  {
   "cell_type": "code",
   "execution_count": null,
   "metadata": {},
   "outputs": [],
   "source": [
    "adata_time_sorted = adata[cell_order]\n",
    "ccd.pl.heatmap_with_annotations(adata_time_sorted, val='Concord_sorted', obs_keys=[state_key, batch_key], ax = axes[3], use_clustermap=True, yticklabels=False, cluster_cols=False, cluster_rows=False, value_annot=False, cmap='viridis', title='Concord latent', \n",
    "                                save_path=save_dir/f'Concord_sorted_heatmap_{file_suffix}.svg', figsize=figsize, dpi=dpi, title_fontsize=title_fontsize)"
   ]
  },
  {
   "cell_type": "markdown",
   "metadata": {},
   "source": [
    "# Evaluation"
   ]
  },
  {
   "cell_type": "code",
   "execution_count": 4,
   "metadata": {},
   "outputs": [],
   "source": [
    "# adata = sc.read(data_dir / f\"adata_Nov15-1812.h5ad\")\n",
    "# adata_state = sc.read(data_dir / f\"adata_state_Nov15-1812.h5ad\")\n",
    "\n",
    "adata = sc.read(data_dir / f\"adata_Dec03-1059.h5ad\")\n",
    "adata_state = sc.read(data_dir / f\"adata_state_Dec03-1059.h5ad\")"
   ]
  },
  {
   "cell_type": "markdown",
   "metadata": {},
   "source": [
    "### Scib"
   ]
  },
  {
   "cell_type": "code",
   "execution_count": null,
   "metadata": {},
   "outputs": [],
   "source": [
    "from scib_metrics.benchmark import Benchmarker\n",
    "bm = Benchmarker(\n",
    "    adata,\n",
    "    batch_key=batch_key,\n",
    "    label_key=state_key,\n",
    "    embedding_obsm_keys=latent_keys,\n",
    "    n_jobs=6,\n",
    ")\n",
    "bm.benchmark()"
   ]
  },
  {
   "cell_type": "code",
   "execution_count": null,
   "metadata": {},
   "outputs": [],
   "source": [
    "import matplotlib.pyplot as plt\n",
    "import os\n",
    "bm.plot_results_table(min_max_scale=False, show=False)\n",
    "fig = plt.gcf()\n",
    "fig.set_size_inches(15, 6) \n",
    "fig.savefig(os.path.join(save_dir, f'scibmetrics_results_{file_suffix}.pdf'), facecolor='white', dpi=600)\n",
    "plt.show()\n",
    "plt.close(fig)"
   ]
  },
  {
   "cell_type": "code",
   "execution_count": null,
   "metadata": {},
   "outputs": [],
   "source": [
    "scib_scores = bm.get_results(min_max_scale=False)\n",
    "# Convert row 'Metric Type' to multi-index column, first level is 'Metric Type', second level is existing column name\n",
    "metric_type = scib_scores.loc['Metric Type']\n",
    "scib_scores = scib_scores.drop('Metric Type')  # Drop the last row now that it's stored in metric_type\n",
    "scib_scores.columns = pd.MultiIndex.from_tuples([(metric_type[col], col) for col in scib_scores.columns])\n",
    "scib_scores = ccd.ul.benchmark_stats_to_score(scib_scores, min_max_scale=False, one_minus=False, aggregate_score=False, rank=True, rank_col=('Aggregate score', 'Total'), name_exact=False)\n",
    "\n",
    "ccd.pl.plot_benchmark_table(scib_scores, pal='PRGn', pal_agg='RdYlBu_r', cmap_method = 'minmax', save_path=save_dir / f\"scib_results_{file_suffix}.pdf\", figsize=(16, 6), dpi=300)"
   ]
  },
  {
   "cell_type": "markdown",
   "metadata": {},
   "source": [
    "### Topology"
   ]
  },
  {
   "cell_type": "markdown",
   "metadata": {},
   "source": [
    "Run topological analysis pipeline:"
   ]
  },
  {
   "cell_type": "code",
   "execution_count": null,
   "metadata": {},
   "outputs": [],
   "source": [
    "homology_dimensions = [0,1,2]\n",
    "#concord_keys = ['Concord', 'Concord-decoder', 'Concord-class']\n",
    "diagrams = {}\n",
    "for key in combined_keys:\n",
    "#for key in concord_keys:\n",
    "    print(f\"Computing persistent homology for {key}\")\n",
    "    diagrams[key] =  ccd.ul.compute_persistent_homology(adata, key=key, homology_dimensions=homology_dimensions)\n",
    "\n",
    "import pickle\n",
    "with open(save_dir / f\"topology_diagrams_{file_suffix}.pkl\", 'wb') as f:\n",
    "    pickle.dump(diagrams, f)"
   ]
  },
  {
   "cell_type": "code",
   "execution_count": null,
   "metadata": {},
   "outputs": [],
   "source": [
    "save_dir / f\"topology_diagrams_{file_suffix}.pkl\""
   ]
  },
  {
   "cell_type": "code",
   "execution_count": null,
   "metadata": {},
   "outputs": [],
   "source": [
    "import pickle\n",
    "with open(Path('../save/dev_simulation_cluster_overlap-Dec03/topology_diagrams_Dec03-1059.pkl', 'rb')) as f:\n",
    "    diagrams = pickle.load(f)"
   ]
  },
  {
   "cell_type": "code",
   "execution_count": null,
   "metadata": {},
   "outputs": [],
   "source": [
    "topology_results = ccd.ul.benchmark_topology(diagrams, expected_betti_numbers=[4,0,0], save_dir=save_dir, file_suffix=file_suffix)\n",
    "max_betti = 5\n",
    "topology_metrics = topology_results['combined_metrics'].drop(index=['PCA_no_noise', 'PCA_wt_noise'])\n",
    "topology_metrics[('Betti number', 'L1 distance')] = topology_metrics[('Betti number', 'L1 distance')].clip(upper=5)\n",
    "agg_name1 = 'Topology'\n",
    "agg_name2 = 'Score'\n",
    "topology_scores = ccd.ul.benchmark_stats_to_score(topology_metrics, min_max_scale=True, one_minus=True, aggregate_score=True, aggregate_score_name1=agg_name1, aggregate_score_name2=agg_name2, rank=True, rank_col=(agg_name1,agg_name2), name_exact=False)\n",
    "ccd.pl.plot_benchmark_table(topology_scores, pal='PRGn', pal_agg='RdYlBu_r', cmap_method = 'minmax', agg_name = agg_name1, save_path=save_dir / f\"topology_results_{file_suffix}.pdf\", figsize=(6, 6), dpi=300)"
   ]
  },
  {
   "cell_type": "code",
   "execution_count": null,
   "metadata": {},
   "outputs": [],
   "source": [
    "# Reorder diagrams with the same order as the combined keys\n",
    "diagrams_ordered = {key: diagrams[key] for key in combined_keys}\n",
    "# Change the key names to remove 'PCA_'\n",
    "diagrams_ordered = {key.replace('PCA_', ''): diagrams_ordered[key] for key in diagrams_ordered}\n",
    "ccd.pl.plot_persistence_diagrams(diagrams_ordered, base_size=(1.3, 1.5), dpi=300, marker_size=4, n_cols=11, fontsize=10, save_path=save_dir / f\"persistence_diagrams_{file_suffix}.pdf\", legend=False, label_axes=False, axis_ticks=False)"
   ]
  },
  {
   "cell_type": "code",
   "execution_count": null,
   "metadata": {},
   "outputs": [],
   "source": [
    "ccd.pl.plot_betti_curves(diagrams_ordered, nbins=100, base_size=(1.3, 1.5), n_cols=11, fontsize=10, save_path=save_dir / f\"betti_curves_{file_suffix}.pdf\", dpi=300, legend=False, label_axes=False, axis_ticks=False)"
   ]
  },
  {
   "cell_type": "code",
   "execution_count": null,
   "metadata": {},
   "outputs": [],
   "source": [
    "ccd.pl.plot_betti_statistic(topology_results['betti_stats'], statistic='Entropy', pal='tab10',\n",
    "                            figsize=(5, 3), dpi=300, \n",
    "                             save_path=save_dir / f\"betti_entropy_{file_suffix}.pdf\")"
   ]
  },
  {
   "cell_type": "code",
   "execution_count": null,
   "metadata": {},
   "outputs": [],
   "source": [
    "ccd.pl.plot_bar(\n",
    "    topology_results['distance_metrics'], \n",
    "    key = 'L1 Distance',\n",
    "    order=True, ascending=False, barh=False, legend=False,\n",
    "    xlabel_fontsize=8, ylabel_fontsize=8, \n",
    "    log_scale=True,\n",
    "    tick_fontsize=7, title_fontsize=9, bar_width=0.8,\n",
    "    figsize=(4, 3), dpi=300, \n",
    "    save_path=save_dir / f\"distance_metrics_{file_suffix}.pdf\"\n",
    ")"
   ]
  },
  {
   "cell_type": "markdown",
   "metadata": {},
   "source": [
    "knn graph:"
   ]
  },
  {
   "cell_type": "code",
   "execution_count": null,
   "metadata": {},
   "outputs": [],
   "source": [
    "# compare connectivity for latent vs ground truth, store the result in a pandas dataframe\n",
    "groundtruth_keys = {'(nn)': 'PCA_no_noise','(wn)': 'PCA_wt_noise'}\n",
    "connectivity_df = ccd.ul.benchmark_graph_connectivity(adata, emb_keys=combined_keys, groundtruth_keys=groundtruth_keys, k=100, use_faiss=False)\n",
    "agg_name1 = 'Connectivity'\n",
    "agg_name2 = 'Score'\n",
    "connectivity_scores = ccd.ul.benchmark_stats_to_score(connectivity_df, min_max_scale=False, one_minus=False, aggregate_score=True, aggregate_score_name1=agg_name1, aggregate_score_name2=agg_name2, rank=True, rank_col=(agg_name1,agg_name2), name_exact=False)\n",
    "ccd.pl.plot_benchmark_table(connectivity_scores, pal='PRGn', pal_agg='RdYlBu_r', cmap_method = 'minmax', agg_name = agg_name1, save_path=save_dir / f\"connectivity_results_{file_suffix}.pdf\", figsize=(8, 8), dpi=300)\n"
   ]
  },
  {
   "cell_type": "markdown",
   "metadata": {},
   "source": [
    "# Geomtric Features "
   ]
  },
  {
   "cell_type": "markdown",
   "metadata": {},
   "source": [
    "### Integrated benchmark pipeline"
   ]
  },
  {
   "cell_type": "code",
   "execution_count": 94,
   "metadata": {},
   "outputs": [],
   "source": [
    "geometry_metrics = ['cell_distance_corr', 'local_distal_corr', 'trustworthiness', 'state_distance_corr', 'state_dispersion_corr', 'state_batch_distance_ratio']\n",
    "dist_metric = 'cosine'\n",
    "corr_types = ['pearsonr', 'spearmanr', 'kendalltau']\n",
    "#groundtruth_key = 'PCA_wt_noise'\n",
    "\n",
    "groundtruth_key = 'PCA_no_noise'\n",
    "# Convert state_dispersion to a dict of groundtruth dispersion\n",
    "#groundtruth_dispersion = {'cluster_' + str(i): state_dispersion[i]**2 for i in range(5)} # convert to variance\n",
    "geometry_df, geometry_full = ccd.ul.benchmark_geometry(adata, keys=combined_keys, eval_metrics=geometry_metrics, \n",
    "                                      dist_metric=dist_metric,\n",
    "                                      corr_types = corr_types,\n",
    "                                      groundtruth_key = groundtruth_key,\n",
    "                                      state_key = state_key,\n",
    "                                      batch_key = batch_key,\n",
    "                                      #groundtruth_dispersion = groundtruth_dispersion,\n",
    "                                      dispersion_metric='var',\n",
    "                                      return_type='full',\n",
    "                                      start_point=0,\n",
    "                                      end_point=adata.n_obs-1,\n",
    "                                      pseudotime_k = 30,\n",
    "                                      truetime_key = 'time',\n",
    "                                      save_dir=save_dir, \n",
    "                                      file_suffix=file_suffix)"
   ]
  },
  {
   "cell_type": "code",
   "execution_count": null,
   "metadata": {},
   "outputs": [],
   "source": [
    "agg_name1 = 'Geometry'\n",
    "agg_name2 = 'Score'\n",
    "geometry_scores = ccd.ul.benchmark_stats_to_score(\n",
    "    geometry_df.drop(index=['PCA_no_noise', 'PCA_wt_noise']), fillna = 0,               \n",
    "    min_max_scale=False, one_minus=False, aggregate_score=True, aggregate_score_name1=agg_name1, aggregate_score_name2=agg_name2, rank=True, rank_col=(agg_name1,agg_name2))\n",
    "ccd.pl.plot_benchmark_table(geometry_scores, pal='PRGn', pal_agg='RdYlBu_r', cmap_method = 'minmax', agg_name = agg_name1, save_path=save_dir / f\"geometry_results_noscale_{dist_metric}_{groundtruth_key}_{file_suffix}.pdf\", figsize=(19, 7), dpi=300)"
   ]
  },
  {
   "cell_type": "code",
   "execution_count": null,
   "metadata": {},
   "outputs": [],
   "source": [
    "ccd.pl.plot_distance_heatmap(geometry_full['cell_distance_corr']['distance'], n_cols = 11, figsize=(1.1,1.3), cbar=False, dpi=300, save_path=save_dir / f\"cell_distance_hmap_{file_suffix}.svg\")"
   ]
  },
  {
   "cell_type": "code",
   "execution_count": null,
   "metadata": {},
   "outputs": [],
   "source": [
    "trustworthiness_scores = geometry_full['trustworthiness']['scores']\n",
    "ccd.pl.plot_trustworthiness(trustworthiness_scores, text_shift=2, legend=False, save_path=save_dir / f\"trustworthiness_{groundtruth_key}_{file_suffix}.pdf\", figsize=(4,3))"
   ]
  },
  {
   "cell_type": "code",
   "execution_count": null,
   "metadata": {},
   "outputs": [],
   "source": [
    "ccd.pl.plot_geometry_scatter(\n",
    "    data_dict = geometry_full['state_dispersion_corr']['dispersion'], \n",
    "    correlation= geometry_full['state_dispersion_corr']['correlation'],\n",
    "    s=30, c='darkblue',\n",
    "    ground_key = groundtruth_key,\n",
    "    n_cols = 11, figsize=(1.5,2.0), dpi=300, save_path=save_dir / f\"state_dispersion_scatter_{groundtruth_key}_{file_suffix}.pdf\")"
   ]
  }
 ],
 "metadata": {
  "kernelspec": {
   "display_name": "concord",
   "language": "python",
   "name": "python3"
  },
  "language_info": {
   "codemirror_mode": {
    "name": "ipython",
    "version": 3
   },
   "file_extension": ".py",
   "mimetype": "text/x-python",
   "name": "python",
   "nbconvert_exporter": "python",
   "pygments_lexer": "ipython3",
   "version": "3.12.2"
  }
 },
 "nbformat": 4,
 "nbformat_minor": 2
}
