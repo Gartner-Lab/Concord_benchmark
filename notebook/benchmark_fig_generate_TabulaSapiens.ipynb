{
 "cells": [
  {
   "cell_type": "code",
   "execution_count": null,
   "id": "d496120e",
   "metadata": {},
   "outputs": [],
   "source": [
    "%load_ext autoreload\n",
    "%autoreload 2\n"
   ]
  },
  {
   "cell_type": "code",
   "execution_count": null,
   "id": "8417af8a",
   "metadata": {},
   "outputs": [],
   "source": [
    "import os\n",
    "import numpy as np\n",
    "import pandas as pd\n",
    "import scanpy as sc\n",
    "import time\n",
    "from pathlib import Path\n",
    "import torch\n",
    "import concord as ccd\n",
    "import warnings\n",
    "warnings.filterwarnings('ignore')\n",
    "%matplotlib inline\n",
    "import matplotlib as mpl\n",
    "from scipy import sparse\n",
    "from scib_metrics.benchmark import Benchmarker, BioConservation, BatchCorrection\n",
    "import pickle"
   ]
  },
  {
   "cell_type": "code",
   "execution_count": null,
   "id": "5bddd52b",
   "metadata": {},
   "outputs": [],
   "source": [
    "proj_name = \"TabulaSapiens\"\n",
    "file_name = \"TabulaSapiens\"\n",
    "file_suffix = time.strftime('%b%d-%H%M')\n",
    "seed = 0\n",
    "\n",
    "save_dir = Path(f\"../save/{proj_name}-{file_suffix}\")\n",
    "save_dir.mkdir(parents=True, exist_ok=True)\n",
    "\n",
    "data_dir = Path(f\"../data/{proj_name}\")\n",
    "data_dir.mkdir(parents=True, exist_ok=True)\n",
    "\n",
    "ccd.ul.set_seed(seed)"
   ]
  },
  {
   "cell_type": "code",
   "execution_count": null,
   "id": "2b3efadb",
   "metadata": {},
   "outputs": [],
   "source": [
    "adata =  sc.read_h5ad(data_dir / f\"{file_name}_final.h5ad\")"
   ]
  },
  {
   "cell_type": "code",
   "execution_count": null,
   "id": "0bf2008b",
   "metadata": {},
   "outputs": [],
   "source": [
    "adata"
   ]
  },
  {
   "cell_type": "markdown",
   "id": "c81a404d",
   "metadata": {},
   "source": [
    "# upload obsm from h5 file"
   ]
  },
  {
   "cell_type": "code",
   "execution_count": null,
   "id": "41ad0b14",
   "metadata": {},
   "outputs": [],
   "source": [
    "import h5py\n",
    "\n",
    "h5_path = \"../save/obsm_concord-1.0.6_0.4-0.4_Jul15/obsm_TabulaSapiens_Jul18-1643.h5\"\n",
    "\n",
    "def print_h5_structure(g, prefix=\"\"):\n",
    "    for key in g.keys():\n",
    "        item = g[key]\n",
    "        if isinstance(item, h5py.Group):\n",
    "            print(f\"{prefix}{key}/ (Group)\")\n",
    "            print_h5_structure(item, prefix=prefix + key + \"/\")\n",
    "        elif isinstance(item, h5py.Dataset):\n",
    "            print(f\"{prefix}{key:50s} shape: {item.shape}\")\n",
    "\n",
    "with h5py.File(h5_path, 'r') as f:\n",
    "    print_h5_structure(f)"
   ]
  },
  {
   "cell_type": "code",
   "execution_count": null,
   "id": "9b06742e",
   "metadata": {},
   "outputs": [],
   "source": [
    "# obsm_keys_to_copy = [\n",
    "#     \"contrastive_UMAP\", \"contrastive_UMAP_3D\",\n",
    "#     \"harmony_UMAP\", \"harmony_UMAP_3D\",\n",
    "#     \"scanorama_UMAP\", \"scanorama_UMAP_3D\",\n",
    "#     \"scvi_UMAP\", \"scvi_UMAP_3D\",\n",
    "#     \"unintegrated_UMAP\", \"unintegrated_UMAP_3D\",\n",
    "#     \"liger_UMAP\", \"liger_UMAP_3D\",\n",
    "# ]\n",
    "obsm_keys_to_copy = [\n",
    "    \"concord_hcl_UMAP\", \n",
    "    \"concord_knn_UMAP\", \n",
    "    \"contrastive_UMAP\", \n",
    "    \"harmony_UMAP\", \n",
    "    \"scvi_UMAP\", \n",
    "    \"unintegrated_UMAP\", \n",
    "]"
   ]
  },
  {
   "cell_type": "code",
   "execution_count": null,
   "id": "a7309794",
   "metadata": {},
   "outputs": [],
   "source": [
    "with h5py.File(h5_path, 'r') as f:\n",
    "    obsm_group = f['obsm']\n",
    "    for key in obsm_keys_to_copy:\n",
    "        if key in obsm_group:\n",
    "            data = obsm_group[key][:]\n",
    "            assert data.shape[0] == adata.n_obs, f\"Shape mismatch for {key}\"\n",
    "            print(f\"✅ Appending: {key}\")\n",
    "            adata.obsm[key] = data\n",
    "        else:\n",
    "            print(f\"⚠️  Skipped (not found): {key}\")"
   ]
  },
  {
   "cell_type": "code",
   "execution_count": null,
   "id": "2b0074ae",
   "metadata": {},
   "outputs": [],
   "source": [
    "adata.write(data_dir / f\"{file_name}_final.h5ad\")"
   ]
  },
  {
   "cell_type": "code",
   "execution_count": null,
   "id": "969f03c7",
   "metadata": {},
   "outputs": [],
   "source": [
    "adata"
   ]
  },
  {
   "cell_type": "markdown",
   "id": "a5168581",
   "metadata": {},
   "source": [
    "----"
   ]
  },
  {
   "cell_type": "markdown",
   "id": "470e5434",
   "metadata": {},
   "source": [
    "# time and memory profiling"
   ]
  },
  {
   "cell_type": "code",
   "execution_count": null,
   "id": "bb800e20",
   "metadata": {},
   "outputs": [],
   "source": [
    "methods = [\"liger\", \"harmony\", \"scanorama\", \"scvi\", \"contrastive\", \"concord_knn\", \"concord_hcl\"]\n",
    "# methods = [\"unintegrated\", \"liger\", \"harmony\", \"scanorama\", \"scvi\", \"contrastive\", \"concord_knn\", \"concord_hcl\"]"
   ]
  },
  {
   "cell_type": "code",
   "execution_count": null,
   "id": "c3953d61",
   "metadata": {},
   "outputs": [],
   "source": [
    "from benchmark_utils import collect_benchmark_logs\n",
    "bench_df = collect_benchmark_logs(proj_name, methods)"
   ]
  },
  {
   "cell_type": "code",
   "execution_count": null,
   "id": "2097ab40",
   "metadata": {},
   "outputs": [],
   "source": [
    "for method in methods:\n",
    "    if method not in bench_df['method'].values:\n",
    "        new_row = pd.DataFrame([{\n",
    "            'method': method,\n",
    "        }])\n",
    "        bench_df = pd.concat([bench_df, new_row], ignore_index=True)\n"
   ]
  },
  {
   "cell_type": "code",
   "execution_count": null,
   "id": "71f3eb8e",
   "metadata": {},
   "outputs": [],
   "source": [
    "bench_df"
   ]
  },
  {
   "cell_type": "code",
   "execution_count": null,
   "id": "783155b8",
   "metadata": {},
   "outputs": [],
   "source": [
    "# Save the benchmark results\n",
    "bench_df.to_csv(save_dir / f\"benchmark_summary_{file_suffix}.tsv\", sep=\"\\t\", index=False)\n",
    "print(f\"✅ Benchmark summary saved to: {save_dir / f'benchmark_summary_{file_suffix}.tsv'}\")\n",
    "# Plot benchmark results\n",
    "from benchmark_utils import plot_benchmark_performance\n",
    "import matplotlib.pyplot as plt\n",
    "custom_rc = {\n",
    "    'font.family': 'DejaVu Sans',  # Set the desired font for this plot\n",
    "}\n",
    "with plt.rc_context(rc=custom_rc):\n",
    "    plot_benchmark_performance(bench_df, figsize=(8,2), dpi=300, \n",
    "                               save_path = save_dir / f\"benchmark_plot_{file_suffix}.pdf\",\n",
    "                               label_fontsize=8)\n"
   ]
  },
  {
   "cell_type": "markdown",
   "id": "ad74a49b",
   "metadata": {},
   "source": [
    "----"
   ]
  },
  {
   "cell_type": "markdown",
   "id": "8003feb7",
   "metadata": {},
   "source": [
    "# UMAP"
   ]
  },
  {
   "cell_type": "code",
   "execution_count": null,
   "id": "14c382a6",
   "metadata": {},
   "outputs": [],
   "source": [
    "methods = [\"unintegrated\", \"harmony\", \"scvi\", \"contrastive\", \"concord_knn\", \"concord_hcl\"]\n",
    "\n",
    "batch_key = 'donor_assay'\n",
    "state_key = 'cell_type'"
   ]
  },
  {
   "cell_type": "code",
   "execution_count": null,
   "id": "c5d391a0",
   "metadata": {},
   "outputs": [],
   "source": [
    "# plot everything\n",
    "import matplotlib.pyplot as plt\n",
    "import numpy as np\n",
    "from matplotlib import rcParams\n",
    "import seaborn as sns\n",
    "\n",
    "# Set DejaVu Sans as the default font\n",
    "custom_rc = {\n",
    "    'font.family': 'DejaVu Sans',  # Set the desired font for this plot\n",
    "}\n",
    "\n",
    "show_keys = methods\n",
    "show_cols = [batch_key, state_key]\n",
    "basis_types = ['UMAP']\n",
    "\n",
    "font_size=10\n",
    "point_size=1\n",
    "alpha=0.8\n",
    "ncols = len(show_keys)\n",
    "figsize=(ncols * 1.5,1.5)\n",
    "nrows = int(np.ceil(len(show_keys) / ncols))\n",
    "pal = {}\n",
    "for key in [batch_key, state_key]:\n",
    "    n_categories = adata.obs[key].nunique()\n",
    "    _, _, pal[key] = ccd.pl.get_color_mapping(adata,key, pal='tab20', seed=seed)\n",
    "\n",
    "with plt.rc_context(rc=custom_rc):\n",
    "    ccd.pl.plot_all_embeddings(\n",
    "        adata,\n",
    "        show_keys,\n",
    "        color_bys=show_cols,\n",
    "        basis_types=basis_types,\n",
    "        pal=pal,\n",
    "        font_size=font_size,\n",
    "        point_size=point_size,\n",
    "        alpha=alpha,\n",
    "        figsize=figsize,\n",
    "        ncols=ncols,\n",
    "        seed=seed,\n",
    "        save_dir=save_dir,\n",
    "        file_suffix=file_suffix,\n",
    "        dpi=600,\n",
    "        save_format='svg'\n",
    "    )\n"
   ]
  },
  {
   "cell_type": "code",
   "execution_count": null,
   "id": "f1576bfb",
   "metadata": {},
   "outputs": [],
   "source": [
    "show_basis = 'concord_hcl_UMAP'\n",
    "show_cols = [batch_key, state_key]\n",
    "\n",
    "pal = {}\n",
    "for key in [batch_key, state_key]:\n",
    "    n_categories = adata.obs[key].nunique()\n",
    "    _, _, pal[key] = ccd.pl.get_color_mapping(adata,key, pal='tab20', seed=seed)\n",
    "    \n",
    "ccd.pl.plot_embedding(\n",
    "    adata, show_basis, show_cols, pal=pal, figsize=(25,15), dpi=600, ncols=2, font_size=10, point_size=5, legend_loc='on data',\n",
    "    save_path=save_dir / f\"embedding_{show_basis}_{file_suffix}.svg\"\n",
    ")"
   ]
  },
  {
   "cell_type": "code",
   "execution_count": null,
   "id": "9c573ae6",
   "metadata": {},
   "outputs": [],
   "source": [
    "show_basis = 'concord_hcl_UMAP'\n",
    "show_cols = [state_key]\n",
    "\n",
    "pal = {}\n",
    "for key in [state_key]:\n",
    "    n_categories = adata.obs[key].nunique()\n",
    "    _, _, pal[key] = ccd.pl.get_color_mapping(adata,key, pal='tab20', seed=seed)\n",
    "    \n",
    "ccd.pl.plot_embedding(\n",
    "    adata, show_basis, show_cols, pal=pal, figsize=(25,25), dpi=600, ncols=1, font_size=10, point_size=5, legend_loc=None,\n",
    "    save_path=save_dir / f\"embedding_{show_basis}_{state_key}_{file_suffix}.svg\"\n",
    ")"
   ]
  },
  {
   "cell_type": "code",
   "execution_count": null,
   "id": "1da5753c",
   "metadata": {},
   "outputs": [],
   "source": [
    "show_basis = 'concord_knn_UMAP'\n",
    "show_cols = [batch_key, state_key]\n",
    "\n",
    "pal = {}\n",
    "for key in [batch_key, state_key]:\n",
    "    n_categories = adata.obs[key].nunique()\n",
    "    _, _, pal[key] = ccd.pl.get_color_mapping(adata,key, pal='tab20', seed=seed)\n",
    "    \n",
    "ccd.pl.plot_embedding(\n",
    "    adata, show_basis, show_cols, pal=pal, figsize=(25,15), dpi=600, ncols=2, font_size=10, point_size=5, legend_loc='on data',\n",
    "    save_path=save_dir / f\"embedding_{show_basis}_{file_suffix}.svg\"\n",
    ")"
   ]
  },
  {
   "cell_type": "code",
   "execution_count": null,
   "id": "c363bd4e",
   "metadata": {},
   "outputs": [],
   "source": [
    "show_basis = 'scvi_UMAP'\n",
    "show_cols = [batch_key, state_key]\n",
    "\n",
    "pal = {}\n",
    "for key in [batch_key, state_key]:\n",
    "    n_categories = adata.obs[key].nunique()\n",
    "    _, _, pal[key] = ccd.pl.get_color_mapping(adata,key, pal='tab20', seed=seed)\n",
    "    \n",
    "ccd.pl.plot_embedding(\n",
    "    adata, show_basis, show_cols, pal=pal, figsize=(25,15), dpi=600, ncols=2, font_size=10, point_size=5, legend_loc='on data',\n",
    "    save_path=save_dir / f\"embedding_{show_basis}_{file_suffix}.svg\"\n",
    ")"
   ]
  },
  {
   "cell_type": "code",
   "execution_count": null,
   "id": "b728297e",
   "metadata": {},
   "outputs": [],
   "source": [
    "adata.obs['broad_cell_class'].value_counts()"
   ]
  },
  {
   "cell_type": "code",
   "execution_count": null,
   "id": "7435e86e",
   "metadata": {},
   "outputs": [],
   "source": []
  }
 ],
 "metadata": {
  "kernelspec": {
   "display_name": "concord_env",
   "language": "python",
   "name": "python3"
  },
  "language_info": {
   "codemirror_mode": {
    "name": "ipython",
    "version": 3
   },
   "file_extension": ".py",
   "mimetype": "text/x-python",
   "name": "python",
   "nbconvert_exporter": "python",
   "pygments_lexer": "ipython3",
   "version": "3.12.2"
  }
 },
 "nbformat": 4,
 "nbformat_minor": 5
}
