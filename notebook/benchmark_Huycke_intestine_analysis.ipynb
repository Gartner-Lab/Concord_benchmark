{
 "cells": [
  {
   "cell_type": "code",
   "execution_count": null,
   "metadata": {},
   "outputs": [],
   "source": [
    "%load_ext autoreload\n",
    "%autoreload 2"
   ]
  },
  {
   "cell_type": "markdown",
   "metadata": {},
   "source": [
    "## Basic setup"
   ]
  },
  {
   "cell_type": "code",
   "execution_count": null,
   "metadata": {},
   "outputs": [],
   "source": [
    "import concord as ccd\n",
    "import scanpy as sc\n",
    "import torch\n",
    "import warnings\n",
    "from pathlib import Path\n",
    "warnings.filterwarnings('ignore')\n",
    "import time\n",
    "from pathlib import Path\n",
    "device = torch.device('cuda:0' if torch.cuda.is_available() else 'cpu')\n",
    "seed = 0\n",
    "ccd.ul.set_seed(seed)"
   ]
  },
  {
   "cell_type": "code",
   "execution_count": null,
   "metadata": {},
   "outputs": [],
   "source": [
    "proj_name = \"huycke_intestine_5k\"\n",
    "file_name = proj_name\n",
    "file_suffix = time.strftime('%b%d-%H%M')\n",
    "seed = 0\n",
    "\n",
    "save_dir = Path(f\"../save/{proj_name}\")\n",
    "save_dir.mkdir(parents=True, exist_ok=True)\n",
    "\n",
    "data_dir = Path(f\"../data/{proj_name}\")\n",
    "data_dir.mkdir(parents=True, exist_ok=True)\n"
   ]
  },
  {
   "cell_type": "code",
   "execution_count": null,
   "metadata": {},
   "outputs": [],
   "source": [
    "data_path = data_dir / 'adata_final_Jul17-1624.h5ad'\n",
    "adata = sc.read(\n",
    "    data_path\n",
    ")"
   ]
  },
  {
   "cell_type": "markdown",
   "metadata": {},
   "source": [
    "### Visualize global 2D and 3D umaps"
   ]
  },
  {
   "cell_type": "code",
   "execution_count": null,
   "metadata": {},
   "outputs": [],
   "source": [
    "# Define color palette for broad_cell_type_qz\n",
    "\n",
    "methods = [\"scvi\", \"harmony\", \"scanorama\", \"liger\", \"concord_hcl\", \"concord_knn\", \"contrastive\", \"seurat_cca\", \"seurat_rpca\"]\n",
    "\n",
    "adata.obs['stage'] = adata.obs['MouseAge_combined']\n",
    "_, _, celltype_pal = ccd.pl.get_color_mapping(adata, 'cell_type', pal='Paired', seed=seed)\n",
    "_, _, broad_celltype_pal = ccd.pl.get_color_mapping(adata, 'broad_cell_type', pal='tab20', seed=seed)\n",
    "broad_celltype_pal['Doublet-like'] = '#757575'\n",
    "_, _, mes_pal = ccd.pl.get_color_mapping(adata, 'mes_subtype', pal='Paired', seed=seed)\n",
    "_, _, epi_pal = ccd.pl.get_color_mapping(adata, 'epi_subtype', pal='Paired', seed=seed)\n",
    "_, _, batch_pal = ccd.pl.get_color_mapping(adata,'batch', pal='Set1', seed=seed)\n",
    "_, _, phase_pal = ccd.pl.get_color_mapping(adata, 'phase', pal='Set1', seed=seed)\n",
    "_, _, seg_pal = ccd.pl.get_color_mapping(adata, 'seg_classify', pal='tab10', seed=seed)\n",
    "_, _, lane_pal = ccd.pl.get_color_mapping(adata,'LaneID', pal='Paired', seed=7)\n",
    "stage_pal = {\n",
    "    '12.5':\"midnightblue\", \n",
    "    '13.5':\"dodgerblue\", \n",
    "    '14.5':\"seagreen\", \n",
    "    '15.5':\"#00C000\", \n",
    "    '16.5':\"#EEC900\", \n",
    "    '17.5':\"#FF7F00\", \n",
    "    '18.5':\"#FF0000\"\n",
    "}\n",
    "pal = {\"cell_type\": celltype_pal,\n",
    "    \"broad_cell_type\": broad_celltype_pal,\n",
    "    \"mes_subtype\": mes_pal,\n",
    "    \"epi_subtype\": epi_pal,\n",
    "    \"batch\": batch_pal,\n",
    "    'phase': phase_pal,\n",
    "    'stage': stage_pal,\n",
    "    'seg_classify': seg_pal,\n",
    "    'LaneID': lane_pal}"
   ]
  },
  {
   "cell_type": "code",
   "execution_count": null,
   "metadata": {},
   "outputs": [],
   "source": [
    "# plot everything\n",
    "import matplotlib.pyplot as plt\n",
    "import numpy as np\n",
    "from matplotlib import rcParams\n",
    "\n",
    "# Set Arial as the default font\n",
    "custom_rc = {\n",
    "    'font.family': 'Arial',  # Set the desired font for this plot\n",
    "}\n",
    "\n",
    "show_keys = methods\n",
    "show_cols = ['broad_cell_type', 'mes_subtype', 'phase', 'seg_classify', 'stage']\n",
    "basis_types = ['UMAP']\n",
    "\n",
    "font_size=10\n",
    "point_size=.1\n",
    "alpha=0.8\n",
    "ncols = len(show_keys)\n",
    "figsize=(ncols * 1.5,1.5)\n",
    "nrows = int(np.ceil(len(show_keys) / ncols))\n",
    "\n",
    "with plt.rc_context(rc=custom_rc):\n",
    "    ccd.pl.plot_all_embeddings(\n",
    "        adata,\n",
    "        show_keys,\n",
    "        color_bys=show_cols,\n",
    "        basis_types=basis_types,\n",
    "        pal=pal,\n",
    "        font_size=font_size,\n",
    "        point_size=point_size,\n",
    "        alpha=alpha,\n",
    "        figsize=figsize,\n",
    "        ncols=ncols,\n",
    "        seed=seed,\n",
    "        save_dir=save_dir,\n",
    "        file_suffix=file_suffix,\n",
    "        dpi=600,\n",
    "        save_format='svg'\n",
    "    )\n"
   ]
  },
  {
   "cell_type": "code",
   "execution_count": null,
   "metadata": {},
   "outputs": [],
   "source": [
    "\n",
    "show_cols = ['phase', 'broad_cell_type']\n",
    "concord_keys = ['concord_hcl']\n",
    "#azims = [0, 45, 90, 135, 180, 225, 270, 315]\n",
    "azims = [30, 60, 90, 120, 150, 180, 210, 240, 270, 300, 330]\n",
    "elevs = [10, 30, 45, 60]\n",
    "# azims =[330]\n",
    "# elevs = [10]\n",
    "for azim in azims:\n",
    "    for elev in elevs:\n",
    "        with plt.rc_context(rc=custom_rc):\n",
    "            ccd.pl.plot_all_embeddings_3d(\n",
    "                adata=adata,\n",
    "                combined_keys=concord_keys,         # or however you name your embeddings\n",
    "                color_bys=show_cols,  # columns or gene names to color by\n",
    "                basis_types=['UMAP_3D'],              # or whatever naming convention is in adata.obsm\n",
    "                pal=pal,    \n",
    "                ncols=2,\n",
    "                rasterized=True,                   # Points get rasterized\n",
    "                point_size=2,\n",
    "                alpha=0.8,\n",
    "                elev=elev,\n",
    "                azim=azim,\n",
    "                zoom_factor=0.05,\n",
    "                show_grid=True,\n",
    "                show_axis_labels=False,            # Turn off axis labels\n",
    "                show_ticks=False,                  # No ticks\n",
    "                show_legend=False,\n",
    "                tick_label_font_size=6,\n",
    "                legend_font_size=6,\n",
    "                save_dir=save_dir,\n",
    "                file_suffix=file_suffix + f'_azim{azim}_elev{elev}',\n",
    "                save_format='pdf',\n",
    "            )\n"
   ]
  },
  {
   "cell_type": "code",
   "execution_count": null,
   "metadata": {},
   "outputs": [],
   "source": []
  }
 ],
 "metadata": {
  "kernelspec": {
   "display_name": "concord",
   "language": "python",
   "name": "python3"
  },
  "language_info": {
   "codemirror_mode": {
    "name": "ipython",
    "version": 3
   },
   "file_extension": ".py",
   "mimetype": "text/x-python",
   "name": "python",
   "nbconvert_exporter": "python",
   "pygments_lexer": "ipython3",
   "version": "3.12.2"
  }
 },
 "nbformat": 4,
 "nbformat_minor": 2
}
