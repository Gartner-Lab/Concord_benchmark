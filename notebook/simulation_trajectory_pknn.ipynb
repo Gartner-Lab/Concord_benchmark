{
 "cells": [
  {
   "cell_type": "markdown",
   "metadata": {},
   "source": [
    "# Simulation using Concord"
   ]
  },
  {
   "cell_type": "code",
   "execution_count": null,
   "metadata": {},
   "outputs": [],
   "source": [
    "%load_ext autoreload\n",
    "%autoreload 2"
   ]
  },
  {
   "cell_type": "code",
   "execution_count": null,
   "metadata": {},
   "outputs": [],
   "source": [
    "import numpy as np\n",
    "import scanpy as sc\n",
    "import time\n",
    "from pathlib import Path\n",
    "import torch\n",
    "import Concord as ccd\n",
    "import warnings\n",
    "warnings.filterwarnings('ignore')\n",
    "%matplotlib inline\n",
    "import matplotlib as mpl\n",
    "\n",
    "from matplotlib import font_manager, rcParams\n",
    "custom_rc = {\n",
    "    'font.family': 'Arial',  # Set the desired font for this plot\n",
    "}\n",
    "\n",
    "mpl.rcParams['svg.fonttype'] = 'none'\n",
    "mpl.rcParams['pdf.fonttype'] = 42"
   ]
  },
  {
   "cell_type": "code",
   "execution_count": null,
   "metadata": {},
   "outputs": [],
   "source": [
    "proj_name = \"simulation_trajectory_singlebatch\"\n",
    "save_dir = f\"../save/dev_{proj_name}-{time.strftime('%b%d')}/\"\n",
    "save_dir = Path(save_dir)\n",
    "save_dir.mkdir(parents=True, exist_ok=True)\n",
    "\n",
    "data_dir = f\"../data/{proj_name}/\"\n",
    "data_dir = Path(data_dir)\n",
    "data_dir.mkdir(parents=True, exist_ok=True)\n",
    "device = torch.device('cuda:3' if torch.cuda.is_available() else 'cpu')\n",
    "print(device)\n",
    "seed = 0\n",
    "ccd.ul.set_seed(seed)\n",
    "\n",
    "file_suffix = f\"{time.strftime('%b%d-%H%M')}\"\n",
    "file_suffix"
   ]
  },
  {
   "cell_type": "code",
   "execution_count": null,
   "metadata": {},
   "outputs": [],
   "source": [
    "state_key = 'time'\n",
    "batch_key = 'batch'\n",
    "state_type = 'trajectory'\n",
    "batch_type = 'batch_specific_features'\n",
    "distribution = 'normal'\n",
    "leiden_key = 'leiden_no_noise'"
   ]
  },
  {
   "cell_type": "code",
   "execution_count": null,
   "metadata": {},
   "outputs": [],
   "source": [
    "from Concord.utils.simulation import Simulation\n",
    "\n",
    "# Create an instance of the Simulation class\n",
    "\n",
    "sim = Simulation(n_cells=4000, n_genes=500, n_batches=1, n_states=3, \n",
    "                 state_type=state_type, \n",
    "                 state_distribution = distribution, \n",
    "                 state_level=10, \n",
    "                 state_min_level=0,\n",
    "                 state_dispersion=2.0, \n",
    "                 program_structure='linear_bidirectional',\n",
    "                 program_on_time_fraction=0.95,\n",
    "                 trajectory_program_num=2,\n",
    "                 trajectory_cell_block_size_ratio=0.99,\n",
    "                 trajectory_loop_to=None,\n",
    "                 batch_distribution = distribution,\n",
    "                 batch_type=batch_type, \n",
    "                 batch_level=[10,10], \n",
    "                 batch_dispersion=[2.0, 2.0], \n",
    "                 non_neg=True, to_int=True,\n",
    "                 seed=42)\n",
    "\n",
    "adata_state =  sim.simulate_state()\n",
    "# Generate the simulated data\n",
    "#adata, adata_state = sim.simulate_data()"
   ]
  },
  {
   "cell_type": "code",
   "execution_count": null,
   "metadata": {},
   "outputs": [],
   "source": [
    "adata_state.shape"
   ]
  },
  {
   "cell_type": "code",
   "execution_count": null,
   "metadata": {},
   "outputs": [],
   "source": [
    "# Convert middle gene block to a on and off block\n",
    "gene_indices = np.arange(adata_state.n_vars//2 - 5, adata_state.n_vars//2 + 5)\n",
    "# Set corresponding gene expression to 0\n",
    "adata_state.layers['no_noise'][:, gene_indices] = 0\n",
    "cell_indices = np.arange(adata_state.n_obs//2 - 100, adata_state.n_obs//2 + 100)\n",
    "adata_state.layers['no_noise'] = sim.simulate_expression_block(\n",
    "    adata_state.layers['no_noise'], 'linear_bidirectional', gene_indices, cell_indices, mean_expression=10, min_expression=0, on_time_fraction=0.01\n",
    ")\n",
    "adata_state.layers['wt_noise'] = Simulation.simulate_distribution(distribution, adata_state.layers['no_noise'], dispersion=2.0)\n",
    "adata_state.X = adata_state.layers['wt_noise'].copy()\n",
    "adata = adata_state.copy()"
   ]
  },
  {
   "cell_type": "code",
   "execution_count": null,
   "metadata": {},
   "outputs": [],
   "source": [
    "ccd.pl.heatmap_with_annotations(adata, val='no_noise', obs_keys=[state_key], yticklabels=False, cluster_cols=False, cluster_rows=False, value_annot=False, cmap='viridis', title='True state', save_path=save_dir/f'true_state_heatmap_{file_suffix}.svg', figsize=(6, 4), dpi=300)\n",
    "ccd.pl.heatmap_with_annotations(adata, val='wt_noise', obs_keys=[state_key], yticklabels=False, cluster_cols=False, cluster_rows=False, value_annot=False, cmap='viridis', title='True state with noise', save_path=save_dir/f'true_state_with_noise_heatmap_{file_suffix}.svg', figsize=(6, 4), dpi=300)\n",
    "ccd.pl.heatmap_with_annotations(adata, val='X', obs_keys=[state_key], yticklabels=False, cluster_cols=False, cluster_rows=False, value_annot=False, cmap='viridis', title='Simulated data with batch signal', save_path=save_dir/f'simulated_data_heatmap_{file_suffix}.svg', figsize=(6, 4), dpi=300)"
   ]
  },
  {
   "cell_type": "code",
   "execution_count": null,
   "metadata": {},
   "outputs": [],
   "source": [
    "adata.shape"
   ]
  },
  {
   "cell_type": "markdown",
   "metadata": {},
   "source": [
    "### No batch effect, no noise"
   ]
  },
  {
   "cell_type": "code",
   "execution_count": null,
   "metadata": {},
   "outputs": [],
   "source": [
    "n_components = 15\n",
    "ccd.ul.run_pca(adata, source_key='no_noise', result_key='PCA_no_noise', n_pc=n_components, random_state=seed)\n",
    "ccd.ul.run_umap(adata, source_key='no_noise', result_key='UMAP_no_noise', random_state=seed)\n",
    "sc.pp.neighbors(adata, use_rep='PCA_no_noise', n_neighbors=30, random_state=seed)\n",
    "sc.tl.leiden(adata, resolution=1.0, key_added=leiden_key, random_state=seed)\n",
    "#adata.obs[leiden_key] = adata_state.obs[leiden_key]"
   ]
  },
  {
   "cell_type": "code",
   "execution_count": null,
   "metadata": {},
   "outputs": [],
   "source": [
    "show_basis = 'PCA_no_noise'\n",
    "show_cols = [state_key, leiden_key]\n",
    "\n",
    "ccd.pl.plot_embedding(\n",
    "    adata, show_basis, show_cols, figsize=(8,3), dpi=300, ncols=3, font_size=5, point_size=20, legend_loc='on data',\n",
    "    save_path=save_dir / f\"nobatch_{show_basis}_{file_suffix}.svg\"\n",
    ")"
   ]
  },
  {
   "cell_type": "code",
   "execution_count": null,
   "metadata": {},
   "outputs": [],
   "source": [
    "show_basis = 'UMAP_no_noise'\n",
    "\n",
    "ccd.pl.plot_embedding(\n",
    "    adata, show_basis, show_cols, figsize=(8,3), dpi=300, ncols=3, font_size=5, point_size=20, legend_loc='on data',\n",
    "    save_path=save_dir / f\"nobatch_{show_basis}_{file_suffix}.svg\"\n",
    ")"
   ]
  },
  {
   "cell_type": "code",
   "execution_count": null,
   "metadata": {},
   "outputs": [],
   "source": [
    "concord_args_base = {\n",
    "    'input_feature': None,\n",
    "    'latent_dim': 10,\n",
    "    'encoder_dims':[64],\n",
    "    'decoder_dims':[64],\n",
    "    'batch_size':16,\n",
    "    'n_epochs': 10,\n",
    "    'p_intra_knn': 0.2,\n",
    "    'lr': 1e-2,\n",
    "    'schedule_ratio': 0.97,\n",
    "    'augmentation_mask_prob': 0.2,\n",
    "    'clr_temperature':0.2,\n",
    "    'sampler_knn':300,\n",
    "    'dist_metric':'euclidean',\n",
    "    'domain_key': None,\n",
    "    'seed': seed,\n",
    "    'device': device,\n",
    "    'save_dir': save_dir\n",
    "}"
   ]
  },
  {
   "cell_type": "code",
   "execution_count": null,
   "metadata": {},
   "outputs": [],
   "source": [
    "import copy\n",
    "param_variations = {\n",
    "    'p_intra_knn': [0.0, 0.1, 0.2, 0.3, 0.4, 0.5, 0.6, 0.7, 0.8, 0.9, 1.0],  # Example: vary p_intra_knn\n",
    "    #'sampler_knn': [5, 10, 20, 30, 40, 50, 100]  # Example: vary sampler_knn\n",
    "}\n",
    "param_keys = []\n",
    "\n",
    "# -------------------------------------\n",
    "# 3. Loop over each parameter to vary\n",
    "# -------------------------------------\n",
    "for param_name, values in param_variations.items():\n",
    "    print(f\"\\n[INFO] Varying '{param_name}' with possible values: {values}\\n\")\n",
    "    \n",
    "    for value in values:\n",
    "        # 3a. Copy the base arguments\n",
    "        concord_args = copy.deepcopy(concord_args_base)\n",
    "        \n",
    "        # 3b. Update the specific parameter we want to vary\n",
    "        concord_args[param_name] = value\n",
    "        \n",
    "        # 3c. Indicate which param is varied and to which value\n",
    "        output_key = f\"Concord_{param_name}_{value}\"\n",
    "        # Append output_key to param_keys\n",
    "        param_keys.append(output_key)\n",
    "        umap_key   = output_key + '_UMAP'\n",
    "\n",
    "        print(f\"[INFO] Running Concord with {param_name} = {value}\")\n",
    "        \n",
    "        # -------------------------------------\n",
    "        # 4. Run Concord\n",
    "        # -------------------------------------\n",
    "        cur_ccd = ccd.Concord(adata, **concord_args)\n",
    "\n",
    "        # Encode data, saving the latent embedding in adata.obsm[output_key]\n",
    "        cur_ccd.encode_adata(\n",
    "            input_layer_key='X',\n",
    "            output_key=output_key,\n",
    "            preprocess=False\n",
    "        )\n",
    "        \n",
    "        # -------------------------------------\n",
    "        # 5. (Optional) run UMAP on the new embedding\n",
    "        # -------------------------------------\n",
    "        ccd.ul.run_umap(\n",
    "            adata,\n",
    "            source_key=output_key,\n",
    "            result_key=umap_key,\n",
    "            n_components=2,\n",
    "            n_neighbors=30,\n",
    "            min_dist=0.5,\n",
    "            metric='cosine',\n",
    "            random_state=seed\n",
    "        )\n",
    "        \n",
    "\n",
    "print(\"[DONE] Finished varying each parameter individually.\")\n"
   ]
  },
  {
   "cell_type": "code",
   "execution_count": null,
   "metadata": {},
   "outputs": [],
   "source": [
    "# plot everything\n",
    "import matplotlib.pyplot as plt\n",
    "import pandas as pd\n",
    "from matplotlib import font_manager, rcParams\n",
    "file_suffix = f\"{time.strftime('%b%d-%H%M')}\"\n",
    "# Set Arial as the default font\n",
    "custom_rc = {\n",
    "    'font.family': 'Arial',  # Set the desired font for this plot\n",
    "}\n",
    "\n",
    "color_bys = [state_key, leiden_key]\n",
    "#basis_types = ['', 'PAGA', 'KNN', 'PCA', 'UMAP']\n",
    "basis_types = ['KNN', 'UMAP']\n",
    "font_size=5\n",
    "point_size=3\n",
    "alpha=0.8\n",
    "figsize=(12,1.1)\n",
    "ncols = len(param_keys)\n",
    "nrows = int(np.ceil(len(param_keys) / ncols))\n",
    "pal = {state_key:'viridis', batch_key:'Set1'}\n",
    "k=10\n",
    "edges_color='grey'\n",
    "edges_width=0.05\n",
    "layout='kk'\n",
    "threshold = 0.1\n",
    "node_size_scale=0.1\n",
    "edge_width_scale=0.1\n",
    "\n",
    "with plt.rc_context(rc=custom_rc):\n",
    "    ccd.pl.plot_all_embeddings(\n",
    "        adata,\n",
    "        param_keys,\n",
    "        color_bys=color_bys,\n",
    "        basis_types=basis_types,\n",
    "        pal=pal,\n",
    "        k=k,\n",
    "        edges_color=edges_color,\n",
    "        edges_width=edges_width,\n",
    "        layout=layout,\n",
    "        threshold=threshold,\n",
    "        node_size_scale=node_size_scale,\n",
    "        edge_width_scale=edge_width_scale,\n",
    "        font_size=font_size,\n",
    "        point_size=point_size,\n",
    "        alpha=alpha,\n",
    "        figsize=figsize,\n",
    "        ncols=ncols,\n",
    "        seed=1,\n",
    "        leiden_key='leiden',\n",
    "        save_dir=save_dir,\n",
    "        file_suffix=file_suffix,\n",
    "        save_format='pdf'\n",
    "    )\n"
   ]
  },
  {
   "cell_type": "code",
   "execution_count": null,
   "metadata": {},
   "outputs": [],
   "source": []
  }
 ],
 "metadata": {
  "kernelspec": {
   "display_name": "concord",
   "language": "python",
   "name": "python3"
  },
  "language_info": {
   "codemirror_mode": {
    "name": "ipython",
    "version": 3
   },
   "file_extension": ".py",
   "mimetype": "text/x-python",
   "name": "python",
   "nbconvert_exporter": "python",
   "pygments_lexer": "ipython3",
   "version": "3.12.2"
  }
 },
 "nbformat": 4,
 "nbformat_minor": 2
}
