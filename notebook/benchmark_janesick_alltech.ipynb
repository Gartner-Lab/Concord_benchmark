{
 "cells": [
  {
   "cell_type": "markdown",
   "id": "fe0d4e41",
   "metadata": {},
   "source": [
    "## janesick_nature_comms_2023"
   ]
  },
  {
   "cell_type": "code",
   "execution_count": 1,
   "id": "f2a601bb",
   "metadata": {},
   "outputs": [],
   "source": [
    "%load_ext autoreload\n",
    "%autoreload 2"
   ]
  },
  {
   "cell_type": "code",
   "execution_count": 2,
   "id": "f5b3d0c2",
   "metadata": {},
   "outputs": [],
   "source": [
    "import concord as ccd\n",
    "import scanpy as sc\n",
    "import torch\n",
    "import warnings\n",
    "from pathlib import Path\n",
    "warnings.filterwarnings('ignore')\n",
    "import time\n",
    "from pathlib import Path\n",
    "device = torch.device('cuda:0' if torch.cuda.is_available() else 'cpu')\n",
    "seed = 0"
   ]
  },
  {
   "cell_type": "code",
   "execution_count": 3,
   "id": "17e2d94d",
   "metadata": {},
   "outputs": [],
   "source": [
    "import time\n",
    "from pathlib import Path\n",
    "proj_name = \"janesick_alltech\"\n",
    "file_name = proj_name\n",
    "file_suffix = time.strftime('%b%d-%H%M')\n",
    "seed = 0\n",
    "\n",
    "save_dir = Path(f\"../save/{proj_name}\")\n",
    "save_dir.mkdir(parents=True, exist_ok=True)\n",
    "\n",
    "data_dir = Path(f\"../data/{proj_name}\")\n",
    "data_dir.mkdir(parents=True, exist_ok=True)\n"
   ]
  },
  {
   "cell_type": "markdown",
   "id": "f46139af",
   "metadata": {},
   "source": [
    "### Load corresponding adata"
   ]
  },
  {
   "cell_type": "code",
   "execution_count": 4,
   "id": "aafbadcb",
   "metadata": {},
   "outputs": [],
   "source": [
    "import scanpy as sc\n",
    "scRNA_adata = sc.read_h5ad(data_dir / \"scRNA_adata_Jun06-1218.h5ad\")\n",
    "xenium_adata = sc.read_h5ad(data_dir / \"xenium_adata_Jun05-1233.h5ad\")"
   ]
  },
  {
   "cell_type": "code",
   "execution_count": 5,
   "id": "bad8b654",
   "metadata": {},
   "outputs": [
    {
     "name": "stderr",
     "output_type": "stream",
     "text": [
      "/wynton/home/gartner/zhuqin/.conda/envs/cellpath/lib/python3.9/site-packages/matplotlib_venn/_venn2.py:162: UserWarning: normalize_to is deprecated. Please use layout_algorithm=matplotlib_venn.layout.venn2.DefaultLayoutAlgorithm(normalize_to) instead.\n",
      "  warnings.warn(\n"
     ]
    },
    {
     "data": {
      "image/png": "[encoded data removed]",
      "text/plain": [
       "<Figure size 640x480 with 1 Axes>"
      ]
     },
     "metadata": {},
     "output_type": "display_data"
    }
   ],
   "source": [
    "# Check gene overlap with venn diagram\n",
    "from matplotlib_venn import venn2\n",
    "import matplotlib.pyplot as plt\n",
    "genes = [set(scRNA_adata.var_names), set(xenium_adata.var_names)]\n",
    "venn2(genes, \n",
    "      set_labels=('scRNA', 'Xenium'),\n",
    "      alpha=0.5,\n",
    "      normalize_to=1.0,\n",
    "      ax=None)\n",
    "plt.savefig(save_dir / f\"venn_genes_{file_suffix}.png\")\n",
    "plt.show()\n",
    "plt.close()"
   ]
  },
  {
   "cell_type": "code",
   "execution_count": 6,
   "id": "c6fbf201",
   "metadata": {},
   "outputs": [
    {
     "name": "stderr",
     "output_type": "stream",
     "text": [
      "/scratch/zhuqin/ipykernel_2868564/4153262838.py:1: FutureWarning: Use anndata.concat instead of AnnData.concatenate, AnnData.concatenate is deprecated and will be removed in the future. See the tutorial for concat at: https://anndata.readthedocs.io/en/latest/concatenation.html\n",
      "  adata = scRNA_adata.concatenate(xenium_adata)\n"
     ]
    },
    {
     "data": {
      "text/plain": [
       "(352254, 307)"
      ]
     },
     "execution_count": 6,
     "metadata": {},
     "output_type": "execute_result"
    }
   ],
   "source": [
    "\n",
    "adata = scRNA_adata.concatenate(xenium_adata)\n",
    "adata.shape"
   ]
  },
  {
   "cell_type": "code",
   "execution_count": 7,
   "id": "48a04d69",
   "metadata": {},
   "outputs": [
    {
     "name": "stdout",
     "output_type": "stream",
     "text": [
      "Cells after filtering: 337958\n"
     ]
    }
   ],
   "source": [
    "# Filter out cells with too few genes\n",
    "sc.pp.filter_cells(adata, min_genes=10)\n",
    "print(f\"Cells after filtering: {adata.shape[0]}\")"
   ]
  },
  {
   "cell_type": "code",
   "execution_count": 9,
   "id": "37181a01",
   "metadata": {},
   "outputs": [],
   "source": [
    "# Normalize visium_adata\n",
    "adata.X = adata.layers['counts'].copy()\n",
    "sc.pp.normalize_total(adata, target_sum=1e4)\n",
    "# log transform\n",
    "sc.pp.log1p(adata)"
   ]
  },
  {
   "cell_type": "code",
   "execution_count": 11,
   "id": "d549bbec",
   "metadata": {},
   "outputs": [
    {
     "data": {
      "text/plain": [
       "Technology\n",
       "xenium    281694\n",
       "FRP        29554\n",
       "P5         18031\n",
       "P3          8679\n",
       "Name: count, dtype: int64"
      ]
     },
     "execution_count": 11,
     "metadata": {},
     "output_type": "execute_result"
    }
   ],
   "source": [
    "xenium_idx = adata.obs_names.str.startswith('xenium')\n",
    "adata.obs['Technology'] = adata.obs['Technology'].astype('str')\n",
    "adata.obs.loc[xenium_idx, 'Technology'] = 'xenium'\n",
    "adata.obs['Technology'].value_counts()"
   ]
  },
  {
   "cell_type": "code",
   "execution_count": 12,
   "id": "83135f98",
   "metadata": {},
   "outputs": [
    {
     "name": "stderr",
     "output_type": "stream",
     "text": [
      "/wynton/home/gartner/zhuqin/.conda/envs/cellpath/lib/python3.9/site-packages/scanpy/preprocessing/_highly_variable_genes.py:75: UserWarning: `flavor='seurat_v3'` expects raw count data, but non-integers were found.\n",
      "  warnings.warn(\n"
     ]
    },
    {
     "name": "stdout",
     "output_type": "stream",
     "text": [
      "✅ Preprocessed data saved to ../data/janesick_alltech/janesick_alltech_preprocessed_HVG.h5ad\n"
     ]
    }
   ],
   "source": [
    "sc.pp.highly_variable_genes(adata, n_top_genes=10000, flavor='seurat_v3', subset=False)\n",
    "adata = adata[:, adata.var.highly_variable].copy()\n",
    "adata.write_h5ad(data_dir / f\"{file_name}_preprocessed_HVG.h5ad\")\n",
    "print(f\"✅ Preprocessed data saved to {data_dir / f'{file_name}_preprocessed_HVG.h5ad'}\")"
   ]
  },
  {
   "cell_type": "markdown",
   "id": "136595b6",
   "metadata": {},
   "source": [
    "### Generate jobs"
   ]
  },
  {
   "cell_type": "code",
   "execution_count": 4,
   "id": "f6eaaeba",
   "metadata": {},
   "outputs": [
    {
     "name": "stdout",
     "output_type": "stream",
     "text": [
      "✅ Generated: benchmark_janesick_alltech/benchmark_janesick_alltech_scvi.py\n",
      "✅ Generated: benchmark_janesick_alltech/benchmark_janesick_alltech_scvi.sh\n",
      "\n",
      "✅ Generated: benchmark_janesick_alltech/benchmark_janesick_alltech_harmony.py\n",
      "✅ Generated: benchmark_janesick_alltech/benchmark_janesick_alltech_harmony.sh\n",
      "\n",
      "✅ Generated: benchmark_janesick_alltech/benchmark_janesick_alltech_scanorama.py\n",
      "✅ Generated: benchmark_janesick_alltech/benchmark_janesick_alltech_scanorama.sh\n",
      "\n",
      "✅ Generated: benchmark_janesick_alltech/benchmark_janesick_alltech_liger.py\n",
      "✅ Generated: benchmark_janesick_alltech/benchmark_janesick_alltech_liger.sh\n",
      "\n",
      "✅ Generated: benchmark_janesick_alltech/benchmark_janesick_alltech_unintegrated.py\n",
      "✅ Generated: benchmark_janesick_alltech/benchmark_janesick_alltech_unintegrated.sh\n",
      "\n",
      "✅ Generated: benchmark_janesick_alltech/benchmark_janesick_alltech_concord_hcl.py\n",
      "✅ Generated: benchmark_janesick_alltech/benchmark_janesick_alltech_concord_hcl.sh\n",
      "\n",
      "✅ Generated: benchmark_janesick_alltech/benchmark_janesick_alltech_concord_knn.py\n",
      "✅ Generated: benchmark_janesick_alltech/benchmark_janesick_alltech_concord_knn.sh\n",
      "\n",
      "✅ Generated: benchmark_janesick_alltech/benchmark_janesick_alltech_contrastive.py\n",
      "✅ Generated: benchmark_janesick_alltech/benchmark_janesick_alltech_contrastive.sh\n",
      "\n"
     ]
    },
    {
     "data": {
      "text/plain": [
       "CompletedProcess(args=['python', './generate_py_jobs.py', '--proj_name', 'janesick_alltech', '--adata_filename', 'janesick_alltech_preprocessed_HVG.h5ad', '--methods', 'scvi', 'harmony', 'scanorama', 'liger', 'unintegrated', 'concord_hcl', 'concord_knn', 'contrastive', '--batch_key', 'Technology', '--state_key', 'None', '--latent_dim', '50', '--output_dir', '../jobs', '--device', 'auto', '--mem', '32G', '--conda_env', 'cellpath', '--runtime', '3:00:00', '--mode', 'wynton'], returncode=0)"
      ]
     },
     "execution_count": 4,
     "metadata": {},
     "output_type": "execute_result"
    }
   ],
   "source": [
    "import subprocess, json\n",
    "py_methods = [\"scvi\", \"harmony\", \"scanorama\", \"liger\", \"unintegrated\", \"concord_hcl\", \"concord_knn\", \"contrastive\"]\n",
    "output_dir = '../jobs'\n",
    "device = 'auto'\n",
    "conda_env = 'cellpath'\n",
    "batch_key = 'Technology'\n",
    "state_key = 'None'\n",
    "latent_dim = '50'  # Adjust as needed, but should match the encoder_dims in concord_args\n",
    "subprocess.run([\n",
    "    \"python\", \"./generate_py_jobs.py\",\n",
    "    \"--proj_name\", proj_name,\n",
    "    \"--adata_filename\", f\"{file_name}_preprocessed_HVG.h5ad\",\n",
    "    \"--methods\", *py_methods,\n",
    "    \"--batch_key\", batch_key,\n",
    "    \"--state_key\", state_key,\n",
    "    \"--latent_dim\", latent_dim,\n",
    "    \"--output_dir\", output_dir,\n",
    "    \"--device\", device,\n",
    "    \"--mem\", \"32G\",  # Adjust memory as needed\n",
    "    \"--conda_env\", conda_env,\n",
    "    \"--runtime\", \"3:00:00\",\n",
    "    \"--mode\", \"wynton\"\n",
    "])\n"
   ]
  },
  {
   "cell_type": "code",
   "execution_count": 16,
   "id": "3c45cc33",
   "metadata": {},
   "outputs": [
    {
     "name": "stdout",
     "output_type": "stream",
     "text": [
      "VisCello project created at ../data/janesick_alltech/viscello_janesick_alltech\n"
     ]
    }
   ],
   "source": [
    "ccd.ul.anndata_to_viscello(adata,\n",
    "                        output_dir=data_dir / f\"viscello_{proj_name}\",\n",
    "                        project_name=proj_name,\n",
    "                        organism='hsa')"
   ]
  },
  {
   "cell_type": "code",
   "execution_count": 17,
   "id": "696376db",
   "metadata": {},
   "outputs": [
    {
     "name": "stdout",
     "output_type": "stream",
     "text": [
      "✅ Generated: benchmark_janesick_alltech/benchmark_janesick_alltech_seurat_cca.R\n",
      "✅ Generated: benchmark_janesick_alltech/benchmark_janesick_alltech_seurat_cca.sh\n",
      "\n",
      "✅ Generated: benchmark_janesick_alltech/benchmark_janesick_alltech_seurat_rpca.R\n",
      "✅ Generated: benchmark_janesick_alltech/benchmark_janesick_alltech_seurat_rpca.sh\n",
      "\n"
     ]
    },
    {
     "data": {
      "text/plain": [
       "CompletedProcess(args=['python', './generate_seurat_script.py', '--proj_name', 'janesick_alltech', '--eset_dir', '../../data/janesick_alltech/viscello_janesick_alltech', '--methods', 'seurat_cca', 'seurat_rpca', '--batch_key', 'Technology', '--state_key', 'None', '--latent_dim', '50', '--mem', '120G', '--runtime', '48:00:00', '--output_dir', '../jobs', '--device', 'auto', '--conda_env', 'cellpath'], returncode=0)"
      ]
     },
     "execution_count": 17,
     "metadata": {},
     "output_type": "execute_result"
    }
   ],
   "source": [
    "# Generate script for Seurat\n",
    "import subprocess\n",
    "r_methods = [\"seurat_cca\", \"seurat_rpca\"]\n",
    "output_dir = '../jobs'\n",
    "device = 'auto'\n",
    "subprocess.run([\n",
    "    \"python\", \"./generate_seurat_script.py\",\n",
    "    \"--proj_name\", proj_name,\n",
    "    \"--eset_dir\", '../'+ str(data_dir / f\"viscello_{proj_name}\"),   # <- folder w/ eset.rds\n",
    "    \"--methods\", *r_methods,\n",
    "    \"--batch_key\", batch_key,\n",
    "    \"--state_key\", state_key,\n",
    "    \"--latent_dim\", latent_dim,\n",
    "    \"--mem\", \"120G\",  # Adjust memory as needed\n",
    "    \"--runtime\", \"48:00:00\",\n",
    "    \"--output_dir\", output_dir,\n",
    "    \"--device\", device,\n",
    "    \"--conda_env\", conda_env\n",
    "])"
   ]
  },
  {
   "cell_type": "code",
   "execution_count": 18,
   "id": "34c447e3",
   "metadata": {},
   "outputs": [
    {
     "name": "stdout",
     "output_type": "stream",
     "text": [
      "📌  Run “../jobs/benchmark_janesick_alltech/submit_all_janesick_alltech.sh” to queue every job.\n"
     ]
    }
   ],
   "source": [
    "proj_folder = Path(output_dir) / f\"benchmark_{proj_name}\"   # ../jobs/benchmark_<proj>\n",
    "proj_folder.mkdir(exist_ok=True)                      # defensive\n",
    "\n",
    "submit_all = proj_folder / f\"submit_all_{proj_name}.sh\"\n",
    "with submit_all.open(\"w\") as f:\n",
    "    f.write(\"#!/bin/bash\\n\")\n",
    "    f.write(\"# Auto-generated — submits every job for this project\\n\")\n",
    "    f.write(\"# Run from this folder, or let the script cd into it.\\n\\n\")\n",
    "    f.write('cd \"$(dirname \"$0\")\"\\n\\n')          # ensures we’re in the right dir\n",
    "    for sh_file in sorted(proj_folder.glob(f\"benchmark_{proj_name}_*.sh\")):\n",
    "        f.write(f'qsub \"{sh_file.name}\"\\n')\n",
    "\n",
    "submit_all.chmod(0o755)\n",
    "print(f\"📌  Run “{submit_all}” to queue every job.\")"
   ]
  },
  {
   "cell_type": "code",
   "execution_count": null,
   "id": "40d2b24e",
   "metadata": {},
   "outputs": [],
   "source": []
  }
 ],
 "metadata": {
  "kernelspec": {
   "display_name": "cellpath",
   "language": "python",
   "name": "python3"
  },
  "language_info": {
   "codemirror_mode": {
    "name": "ipython",
    "version": 3
   },
   "file_extension": ".py",
   "mimetype": "text/x-python",
   "name": "python",
   "nbconvert_exporter": "python",
   "pygments_lexer": "ipython3",
   "version": "3.9.18"
  }
 },
 "nbformat": 4,
 "nbformat_minor": 5
}
