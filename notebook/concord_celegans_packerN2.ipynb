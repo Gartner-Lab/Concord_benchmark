{
 "cells": [
  {
   "cell_type": "code",
   "execution_count": 1,
   "metadata": {},
   "outputs": [],
   "source": [
    "%load_ext autoreload\n",
    "%autoreload 2"
   ]
  },
  {
   "cell_type": "markdown",
   "metadata": {},
   "source": [
    "## data loading"
   ]
  },
  {
   "cell_type": "code",
   "execution_count": 2,
   "metadata": {},
   "outputs": [],
   "source": [
    "import concord as ccd\n",
    "import scanpy as sc\n",
    "import torch\n",
    "import warnings\n",
    "from pathlib import Path\n",
    "warnings.filterwarnings('ignore')\n",
    "import time\n",
    "from pathlib import Path\n",
    "device = torch.device('cuda:3' if torch.cuda.is_available() else 'cpu')\n",
    "seed = 0"
   ]
  },
  {
   "cell_type": "code",
   "execution_count": 3,
   "metadata": {},
   "outputs": [],
   "source": [
    "adata = sc.read_h5ad(Path('../data/CBCEcombineN2/') / 'adata_celsub_Jun26-1610.h5ad')"
   ]
  },
  {
   "cell_type": "code",
   "execution_count": null,
   "metadata": {},
   "outputs": [],
   "source": [
    "# Compute basic QC metrics\n",
    "\n",
    "adata.layers['counts'] = adata.X.copy()  # Store raw counts\n",
    "sc.pp.calculate_qc_metrics(adata, inplace=True)\n",
    "# filter cells based on QC metrics\n",
    "sc.pp.filter_cells(adata, min_genes=300)\n",
    "sc.pp.normalize_total(adata, target_sum=1e4)\n",
    "sc.pp.log1p(adata)\n",
    "\n"
   ]
  },
  {
   "cell_type": "code",
   "execution_count": null,
   "metadata": {},
   "outputs": [],
   "source": [
    "# Select HVG\n",
    "sc.pp.highly_variable_genes(adata, flavor='seurat_v3', n_top_genes=2000, subset=True)"
   ]
  },
  {
   "cell_type": "code",
   "execution_count": 4,
   "metadata": {},
   "outputs": [],
   "source": [
    "proj_name = \"cel_packerN2\"\n",
    "file_name = \"cel_packerN2\"\n",
    "file_suffix = time.strftime('%b%d-%H%M')\n",
    "seed = 0\n",
    "\n",
    "save_dir = Path(f\"../save/{proj_name}\")\n",
    "save_dir.mkdir(parents=True, exist_ok=True)\n",
    "\n",
    "data_dir = Path(f\"../data/{proj_name}\")\n",
    "data_dir.mkdir(parents=True, exist_ok=True)\n"
   ]
  },
  {
   "cell_type": "code",
   "execution_count": null,
   "metadata": {},
   "outputs": [],
   "source": [
    "sc.pp.highly_variable_genes(adata, flavor='seurat_v3', n_top_genes=10000, subset=False)\n",
    "sc.tl.pca(adata, n_comps=300, svd_solver='arpack', use_highly_variable=True)\n",
    "adata = adata[:, adata.var.highly_variable].copy()"
   ]
  },
  {
   "cell_type": "code",
   "execution_count": null,
   "metadata": {},
   "outputs": [
    {
     "name": "stdout",
     "output_type": "stream",
     "text": [
      "✅ Preprocessed data saved to ../data/cel_packerN2/cel_packerN2_preprocessed.h5ad\n"
     ]
    }
   ],
   "source": [
    "adata.write_h5ad(data_dir / f\"{file_name}_preprocessed.h5ad\")\n",
    "print(f\"✅ Preprocessed data saved to {data_dir / f'{file_name}_preprocessed.h5ad'}\")"
   ]
  },
  {
   "cell_type": "markdown",
   "metadata": {},
   "source": [
    "### Create jobs"
   ]
  },
  {
   "cell_type": "code",
   "execution_count": 20,
   "metadata": {},
   "outputs": [
    {
     "data": {
      "text/plain": [
       "PosixPath('../save/cel_packerN2')"
      ]
     },
     "execution_count": 20,
     "metadata": {},
     "output_type": "execute_result"
    }
   ],
   "source": [
    "save_dir"
   ]
  },
  {
   "cell_type": "code",
   "execution_count": 21,
   "metadata": {},
   "outputs": [],
   "source": [
    "concord_args = {\n",
    "        'batch_size':64, # Batch size for training, adjust as needed\n",
    "        'encoder_dims':[1000], # Encoder dimensions, recommended to be larger than latent_dim\n",
    "        'augmentation_mask_prob': 0.3, # Probability of masking features, recommended to be between 0.2 and 0.5\n",
    "        'clr_temperature': 0.3, # Temperature for contrastive loss, recommended to be between 0.1 and 0.5\n",
    "        'sampler_knn': 1000, # Size of neighbohood for intra-neighborhood sampling\n",
    "        'n_epochs': 15, # Number of epochs for training, adjust as needed\n",
    "        'save_dir': '../'+str(save_dir) # Directory to save the model and results\n",
    "    }"
   ]
  },
  {
   "cell_type": "code",
   "execution_count": 22,
   "metadata": {},
   "outputs": [
    {
     "name": "stdout",
     "output_type": "stream",
     "text": [
      "✅ Generated: benchmark_cel_packerN2/benchmark_cel_packerN2_scvi.py\n",
      "✅ Generated: benchmark_cel_packerN2/benchmark_cel_packerN2_scvi.sh\n",
      "\n",
      "✅ Generated: benchmark_cel_packerN2/benchmark_cel_packerN2_harmony.py\n",
      "✅ Generated: benchmark_cel_packerN2/benchmark_cel_packerN2_harmony.sh\n",
      "\n",
      "✅ Generated: benchmark_cel_packerN2/benchmark_cel_packerN2_scanorama.py\n",
      "✅ Generated: benchmark_cel_packerN2/benchmark_cel_packerN2_scanorama.sh\n",
      "\n",
      "✅ Generated: benchmark_cel_packerN2/benchmark_cel_packerN2_liger.py\n",
      "✅ Generated: benchmark_cel_packerN2/benchmark_cel_packerN2_liger.sh\n",
      "\n",
      "✅ Generated: benchmark_cel_packerN2/benchmark_cel_packerN2_unintegrated.py\n",
      "✅ Generated: benchmark_cel_packerN2/benchmark_cel_packerN2_unintegrated.sh\n",
      "\n",
      "✅ Generated: benchmark_cel_packerN2/benchmark_cel_packerN2_concord_hcl.py\n",
      "✅ Generated: benchmark_cel_packerN2/benchmark_cel_packerN2_concord_hcl.sh\n",
      "\n",
      "✅ Generated: benchmark_cel_packerN2/benchmark_cel_packerN2_concord_knn.py\n",
      "✅ Generated: benchmark_cel_packerN2/benchmark_cel_packerN2_concord_knn.sh\n",
      "\n",
      "✅ Generated: benchmark_cel_packerN2/benchmark_cel_packerN2_contrastive.py\n",
      "✅ Generated: benchmark_cel_packerN2/benchmark_cel_packerN2_contrastive.sh\n",
      "\n"
     ]
    },
    {
     "data": {
      "text/plain": [
       "CompletedProcess(args=['python', './generate_py_sh_jobs.py', '--proj_name', 'cel_packerN2', '--adata_filename', 'cel_packerN2_preprocessed.h5ad', '--methods', 'scvi', 'harmony', 'scanorama', 'liger', 'unintegrated', 'concord_hcl', 'concord_knn', 'contrastive', '--batch_key', 'batch', '--state_key', 'None', '--latent_dim', '300', '--output_dir', '../jobs', '--device', 'auto', '--conda_env', 'cellpath', '--runtime', '02:00:00', '--concord_kwargs', '{\"batch_size\": 64, \"encoder_dims\": [1000], \"augmentation_mask_prob\": 0.3, \"clr_temperature\": 0.3, \"sampler_knn\": 1000, \"n_epochs\": 15, \"save_dir\": \"../../save/cel_packerN2\"}'], returncode=0)"
      ]
     },
     "execution_count": 22,
     "metadata": {},
     "output_type": "execute_result"
    }
   ],
   "source": [
    "import subprocess, json\n",
    "methods = [\"scvi\", \"harmony\", \"scanorama\", \"liger\", \"unintegrated\", \"concord_hcl\", \"concord_knn\", \"contrastive\"]\n",
    "output_dir = '../jobs'\n",
    "device = 'auto'\n",
    "conda_env = 'cellpath'\n",
    "batch_key = 'batch'\n",
    "state_key = 'None'\n",
    "latent_dim = '300'  # Adjust as needed, but should match the encoder_dims in concord_args\n",
    "subprocess.run([\n",
    "    \"python\", \"./generate_py_sh_jobs.py\",\n",
    "    \"--proj_name\", proj_name,\n",
    "    \"--adata_filename\", f\"{file_name}_preprocessed.h5ad\",\n",
    "    \"--methods\", *methods,\n",
    "    \"--batch_key\", batch_key,\n",
    "    \"--state_key\", state_key,\n",
    "    \"--latent_dim\", latent_dim,\n",
    "    \"--output_dir\", output_dir,\n",
    "    \"--device\", device,\n",
    "    \"--conda_env\", conda_env,\n",
    "    \"--runtime\", \"02:00:00\",\n",
    "    \"--concord_kwargs\", json.dumps(concord_args)\n",
    "])\n"
   ]
  },
  {
   "cell_type": "code",
   "execution_count": 18,
   "metadata": {},
   "outputs": [
    {
     "name": "stdout",
     "output_type": "stream",
     "text": [
      "📌  Run “../jobs/benchmark_cel_packerN2/submit_all_cel_packerN2.sh” to queue every job.\n"
     ]
    }
   ],
   "source": [
    "proj_folder = Path(output_dir) / f\"benchmark_{proj_name}\"   # ../jobs/benchmark_<proj>\n",
    "proj_folder.mkdir(exist_ok=True)                      # defensive\n",
    "\n",
    "submit_all = proj_folder / f\"submit_all_{proj_name}.sh\"\n",
    "with submit_all.open(\"w\") as f:\n",
    "    f.write(\"#!/bin/bash\\n\")\n",
    "    f.write(\"# Auto-generated — submits every job for this project\\n\")\n",
    "    f.write(\"# Run from this folder, or let the script cd into it.\\n\\n\")\n",
    "    f.write('cd \"$(dirname \"$0\")\"\\n\\n')          # ensures we’re in the right dir\n",
    "    for sh_file in sorted(proj_folder.glob(f\"benchmark_{proj_name}_*.sh\")):\n",
    "        f.write(f'qsub \"{sh_file.name}\"\\n')\n",
    "\n",
    "submit_all.chmod(0o755)\n",
    "print(f\"📌  Run “{submit_all}” to queue every job.\")"
   ]
  },
  {
   "cell_type": "code",
   "execution_count": null,
   "metadata": {},
   "outputs": [
    {
     "name": "stdout",
     "output_type": "stream",
     "text": [
      "✅ obsm['X_scvi'] loaded\n",
      "Concord - INFO - UMAP embedding stored in adata.obsm['scvi_UMAP']\n",
      "✅ obsm['scvi_UMAP'] computed\n",
      "✅ obsm['X_harmony'] loaded\n",
      "Concord - INFO - UMAP embedding stored in adata.obsm['harmony_UMAP']\n",
      "✅ obsm['harmony_UMAP'] computed\n",
      "✅ obsm['X_scanorama'] loaded\n",
      "Concord - INFO - UMAP embedding stored in adata.obsm['scanorama_UMAP']\n",
      "✅ obsm['scanorama_UMAP'] computed\n",
      "✅ obsm['X_liger'] loaded\n",
      "Concord - INFO - UMAP embedding stored in adata.obsm['liger_UMAP']\n",
      "✅ obsm['liger_UMAP'] computed\n",
      "✅ obsm['X_unintegrated'] loaded\n",
      "Concord - INFO - UMAP embedding stored in adata.obsm['unintegrated_UMAP']\n",
      "✅ obsm['unintegrated_UMAP'] computed\n",
      "✅ obsm['X_concord_hcl'] loaded\n",
      "Concord - INFO - UMAP embedding stored in adata.obsm['concord_hcl_UMAP']\n",
      "✅ obsm['concord_hcl_UMAP'] computed\n",
      "✅ obsm['X_concord_knn'] loaded\n",
      "Concord - INFO - UMAP embedding stored in adata.obsm['concord_knn_UMAP']\n",
      "✅ obsm['concord_knn_UMAP'] computed\n",
      "✅ obsm['X_contrastive'] loaded\n",
      "Concord - INFO - UMAP embedding stored in adata.obsm['contrastive_UMAP']\n",
      "✅ obsm['contrastive_UMAP'] computed\n"
     ]
    }
   ],
   "source": [
    "methods = [\"scvi\", \"harmony\", \"scanorama\", \"liger\", \"unintegrated\", \"concord_hcl\", \"concord_knn\", \"contrastive\"]\n",
    "from benchmark_utils import add_embeddings\n",
    "# ---------------------------- Add Embeddings ----------------------------\n",
    "adata = sc.read_h5ad(Path('../data/CBCEcombineN2/') / 'adata_celsub_Jun26-1610.h5ad') # Load the log normalized but unfiltered adata\n",
    "adata = add_embeddings(adata, proj_name=proj_name, methods=methods)\n",
    "ccd.ul.save_obsm_to_hdf5(adata, save_dir / f\"obsm_{file_suffix}.h5\")\n",
    "print(f\"✅ Embeddings saved to {save_dir / f'obsm_{file_suffix}.h5'}\")\n",
    "final_path = data_dir / f\"{file_name}_final.h5ad\"\n",
    "adata.write_h5ad(final_path)\n",
    "print(f\"✅ Final AnnData saved to: {final_path}\")"
   ]
  },
  {
   "cell_type": "code",
   "execution_count": 38,
   "metadata": {},
   "outputs": [
    {
     "name": "stdout",
     "output_type": "stream",
     "text": [
      "VisCello project created at ../data/cel_packerN2/cello_cel_packerN2_Jun27-1115\n",
      "Saved viscello to ../data/cel_packerN2/cello_cel_packerN2_Jun27-1115\n"
     ]
    }
   ],
   "source": [
    "ccd.ul.anndata_to_viscello(adata, data_dir / f\"cello_{proj_name}_{file_suffix}\", project_name = proj_name, organism='cel')\n",
    "print(f\"Saved viscello to {data_dir / f'cello_{proj_name}_{file_suffix}'}\")"
   ]
  },
  {
   "cell_type": "code",
   "execution_count": 25,
   "metadata": {},
   "outputs": [
    {
     "data": {
      "text/plain": [
       "(94276, 13405)"
      ]
     },
     "execution_count": 25,
     "metadata": {},
     "output_type": "execute_result"
    }
   ],
   "source": [
    "adata.shape"
   ]
  },
  {
   "cell_type": "code",
   "execution_count": null,
   "metadata": {},
   "outputs": [],
   "source": []
  }
 ],
 "metadata": {
  "kernelspec": {
   "display_name": "cellpath",
   "language": "python",
   "name": "python3"
  },
  "language_info": {
   "codemirror_mode": {
    "name": "ipython",
    "version": 3
   },
   "file_extension": ".py",
   "mimetype": "text/x-python",
   "name": "python",
   "nbconvert_exporter": "python",
   "pygments_lexer": "ipython3",
   "version": "3.9.18"
  }
 },
 "nbformat": 4,
 "nbformat_minor": 2
}
