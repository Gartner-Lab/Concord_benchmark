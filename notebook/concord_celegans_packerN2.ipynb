{
 "cells": [
  {
   "cell_type": "code",
   "execution_count": 1,
   "metadata": {},
   "outputs": [],
   "source": [
    "%load_ext autoreload\n",
    "%autoreload 2"
   ]
  },
  {
   "cell_type": "markdown",
   "metadata": {},
   "source": [
    "## data loading"
   ]
  },
  {
   "cell_type": "code",
   "execution_count": 2,
   "metadata": {},
   "outputs": [],
   "source": [
    "import concord as ccd\n",
    "import scanpy as sc\n",
    "import torch\n",
    "import warnings\n",
    "from pathlib import Path\n",
    "warnings.filterwarnings('ignore')\n",
    "import time\n",
    "from pathlib import Path\n",
    "device = torch.device('cuda:3' if torch.cuda.is_available() else 'cpu')\n",
    "seed = 0"
   ]
  },
  {
   "cell_type": "code",
   "execution_count": null,
   "metadata": {},
   "outputs": [],
   "source": [
    "adata = sc.read_h5ad(Path('../data/CBCEcombineN2/') / 'adata_celsub_Jun26-1610.h5ad')"
   ]
  },
  {
   "cell_type": "code",
   "execution_count": 5,
   "metadata": {},
   "outputs": [],
   "source": [
    "proj_name = \"cel_packerN2\"\n",
    "file_name = \"cel_packerN2\"\n",
    "file_suffix = time.strftime('%b%d-%H%M')\n",
    "seed = 0\n",
    "\n",
    "save_dir = Path(f\"../save/{proj_name}\")\n",
    "save_dir.mkdir(parents=True, exist_ok=True)\n",
    "\n",
    "data_dir = Path(f\"../data/{proj_name}\")\n",
    "data_dir.mkdir(parents=True, exist_ok=True)\n"
   ]
  },
  {
   "cell_type": "code",
   "execution_count": null,
   "metadata": {},
   "outputs": [],
   "source": [
    "sc.pp.highly_variable_genes(adata, flavor='seurat_v3', n_top_genes=10000, subset=False)\n",
    "sc.tl.pca(adata, n_comps=300, svd_solver='arpack', use_highly_variable=True)\n",
    "adata = adata[:, adata.var.highly_variable].copy()"
   ]
  },
  {
   "cell_type": "code",
   "execution_count": null,
   "metadata": {},
   "outputs": [
    {
     "name": "stdout",
     "output_type": "stream",
     "text": [
      "✅ Preprocessed data saved to ../data/cel_packerN2/cel_packerN2_preprocessed.h5ad\n"
     ]
    }
   ],
   "source": [
    "adata.write_h5ad(data_dir / f\"{file_name}_preprocessed.h5ad\")\n",
    "print(f\"✅ Preprocessed data saved to {data_dir / f'{file_name}_preprocessed.h5ad'}\")"
   ]
  },
  {
   "cell_type": "markdown",
   "metadata": {},
   "source": [
    "### Create jobs"
   ]
  },
  {
   "cell_type": "code",
   "execution_count": null,
   "metadata": {},
   "outputs": [],
   "source": [
    "concord_args = {\n",
    "        'batch_size':64, # Batch size for training, adjust as needed\n",
    "        'encoder_dims':[1000], # Encoder dimensions, recommended to be larger than latent_dim\n",
    "        'augmentation_mask_prob': 0.3, # Probability of masking features, recommended to be between 0.2 and 0.5\n",
    "        'clr_temperature': 0.3, # Temperature for contrastive loss, recommended to be between 0.1 and 0.5\n",
    "        'sampler_knn': 1000, # Size of neighbohood for intra-neighborhood sampling\n",
    "        'n_epochs': 15, # Number of epochs for training, adjust as needed\n",
    "        'verbose': True, # Verbosity level, set to True for more detailed output\n",
    "        'seed': seed, # random seed for reproducibility\n",
    "        'save_dir': '../'+str(save_dir) # Directory to save the model and results\n",
    "    }"
   ]
  },
  {
   "cell_type": "code",
   "execution_count": null,
   "metadata": {},
   "outputs": [
    {
     "name": "stdout",
     "output_type": "stream",
     "text": [
      "✅ Generated: benchmark_cel_packerN2/benchmark_cel_packerN2_scvi.py\n",
      "✅ Generated: benchmark_cel_packerN2/benchmark_cel_packerN2_scvi.sh\n",
      "\n",
      "✅ Generated: benchmark_cel_packerN2/benchmark_cel_packerN2_harmony.py\n",
      "✅ Generated: benchmark_cel_packerN2/benchmark_cel_packerN2_harmony.sh\n",
      "\n",
      "✅ Generated: benchmark_cel_packerN2/benchmark_cel_packerN2_scanorama.py\n",
      "✅ Generated: benchmark_cel_packerN2/benchmark_cel_packerN2_scanorama.sh\n",
      "\n",
      "✅ Generated: benchmark_cel_packerN2/benchmark_cel_packerN2_liger.py\n",
      "✅ Generated: benchmark_cel_packerN2/benchmark_cel_packerN2_liger.sh\n",
      "\n",
      "✅ Generated: benchmark_cel_packerN2/benchmark_cel_packerN2_unintegrated.py\n",
      "✅ Generated: benchmark_cel_packerN2/benchmark_cel_packerN2_unintegrated.sh\n",
      "\n",
      "✅ Generated: benchmark_cel_packerN2/benchmark_cel_packerN2_concord_hcl.py\n",
      "✅ Generated: benchmark_cel_packerN2/benchmark_cel_packerN2_concord_hcl.sh\n",
      "\n",
      "✅ Generated: benchmark_cel_packerN2/benchmark_cel_packerN2_concord_knn.py\n",
      "✅ Generated: benchmark_cel_packerN2/benchmark_cel_packerN2_concord_knn.sh\n",
      "\n",
      "✅ Generated: benchmark_cel_packerN2/benchmark_cel_packerN2_contrastive.py\n",
      "✅ Generated: benchmark_cel_packerN2/benchmark_cel_packerN2_contrastive.sh\n",
      "\n"
     ]
    },
    {
     "data": {
      "text/plain": [
       "CompletedProcess(args=['python', './generate_py_sh_jobs.py', '--proj_name', 'cel_packerN2', '--adata_filename', 'cel_packerN2_preprocessed.h5ad', '--methods', 'scvi', 'harmony', 'scanorama', 'liger', 'unintegrated', 'concord_hcl', 'concord_knn', 'contrastive', '--batch_key', 'batch', '--state_key', 'None', '--latent_dim', '300', '--output_dir', '../jobs', '--device', 'auto', '--conda_env', 'cellpath', '--runtime', '02:00:00', '--concord_kwargs', '{\"batch_size\": 64, \"latent_dim\": 300, \"encoder_dims\": [1000], \"augmentation_mask_prob\": 0.3, \"clr_temperature\": 0.3, \"sampler_knn\": 1000, \"n_epochs\": 15, \"verbose\": true, \"seed\": 0, \"save_dir\": \"../../save/cel_packerN2\"}'], returncode=0)"
      ]
     },
     "execution_count": 25,
     "metadata": {},
     "output_type": "execute_result"
    }
   ],
   "source": [
    "import subprocess, json\n",
    "methods = [\"scvi\", \"harmony\", \"scanorama\", \"liger\", \"unintegrated\", \"concord_hcl\", \"concord_knn\", \"contrastive\"]\n",
    "output_dir = '../jobs'\n",
    "device = 'auto'\n",
    "conda_env = 'cellpath'\n",
    "batch_key = 'batch'\n",
    "state_key = 'None'\n",
    "latent_dim = 300  # Adjust as needed, but should match the encoder_dims in concord_args\n",
    "subprocess.run([\n",
    "    \"python\", \"./generate_py_sh_jobs.py\",\n",
    "    \"--proj_name\", proj_name,\n",
    "    \"--adata_filename\", f\"{file_name}_preprocessed.h5ad\",\n",
    "    \"--methods\", *methods,\n",
    "    \"--batch_key\", batch_key,\n",
    "    \"--state_key\", state_key,\n",
    "    \"--latent_dim\", latent_dim,\n",
    "    \"--output_dir\", output_dir,\n",
    "    \"--device\", device,\n",
    "    \"--conda_env\", conda_env,\n",
    "    \"--runtime\", \"02:00:00\",\n",
    "    \"--concord_kwargs\", json.dumps(concord_args)\n",
    "])\n"
   ]
  },
  {
   "cell_type": "code",
   "execution_count": null,
   "metadata": {},
   "outputs": [],
   "source": []
  }
 ],
 "metadata": {
  "kernelspec": {
   "display_name": "cellpath",
   "language": "python",
   "name": "python3"
  },
  "language_info": {
   "codemirror_mode": {
    "name": "ipython",
    "version": 3
   },
   "file_extension": ".py",
   "mimetype": "text/x-python",
   "name": "python",
   "nbconvert_exporter": "python",
   "pygments_lexer": "ipython3",
   "version": "3.9.18"
  }
 },
 "nbformat": 4,
 "nbformat_minor": 2
}
