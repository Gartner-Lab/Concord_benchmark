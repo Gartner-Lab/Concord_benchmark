{
 "cells": [
  {
   "cell_type": "markdown",
   "id": "2901e439",
   "metadata": {},
   "source": [
    "# Benchmark"
   ]
  },
  {
   "cell_type": "code",
   "execution_count": 1,
   "id": "9c9ffcec",
   "metadata": {},
   "outputs": [],
   "source": [
    "%load_ext autoreload\n",
    "%autoreload 2"
   ]
  },
  {
   "cell_type": "code",
   "execution_count": 2,
   "id": "95e5e20b",
   "metadata": {},
   "outputs": [
    {
     "name": "stderr",
     "output_type": "stream",
     "text": [
      "/wynton/group/gartner/zuzhi/.conda/envs/scenv/lib/python3.13/site-packages/louvain/__init__.py:54: UserWarning: pkg_resources is deprecated as an API. See https://setuptools.pypa.io/en/latest/pkg_resources.html. The pkg_resources package is slated for removal as early as 2025-11-30. Refrain from using this package or pin to Setuptools<81.\n",
      "  from pkg_resources import get_distribution, DistributionNotFound\n"
     ]
    }
   ],
   "source": [
    "import os\n",
    "import numpy as np\n",
    "import scanpy as sc\n",
    "import time\n",
    "from pathlib import Path\n",
    "import torch\n",
    "import concord as ccd\n",
    "import warnings\n",
    "warnings.filterwarnings('ignore')\n",
    "%matplotlib inline\n",
    "import matplotlib as mpl\n",
    "\n",
    "from matplotlib import font_manager, rcParams\n",
    "custom_rc = {\n",
    "    'font.family': 'Arial',  # Set the desired font for this plot\n",
    "}\n",
    "\n",
    "mpl.rcParams['svg.fonttype'] = 'none'\n",
    "mpl.rcParams['pdf.fonttype'] = 42"
   ]
  },
  {
   "cell_type": "code",
   "execution_count": 3,
   "id": "97b1e3f4",
   "metadata": {},
   "outputs": [
    {
     "name": "stdout",
     "output_type": "stream",
     "text": [
      "cuda:3\n"
     ]
    },
    {
     "data": {
      "text/plain": [
       "'Jun13-0001'"
      ]
     },
     "execution_count": 3,
     "metadata": {},
     "output_type": "execute_result"
    }
   ],
   "source": [
    "proj_name = \"HypoMap_Steuernagel\"\n",
    "save_dir = f\"../save/{proj_name}-{time.strftime('%b%d')}/\"\n",
    "save_dir = Path(save_dir)\n",
    "save_dir.mkdir(parents=True, exist_ok=True)\n",
    "\n",
    "data_dir = f\"../data/\"\n",
    "data_dir = Path(data_dir)\n",
    "data_dir.mkdir(parents=True, exist_ok=True)\n",
    "\n",
    "device = torch.device('cuda:3' if torch.cuda.is_available() else 'cpu')\n",
    "print(device)\n",
    "seed = 0\n",
    "ccd.ul.set_seed(seed)\n",
    "\n",
    "file_suffix = f\"{time.strftime('%b%d-%H%M')}\"\n",
    "file_suffix"
   ]
  },
  {
   "cell_type": "code",
   "execution_count": 4,
   "id": "7c5128f4",
   "metadata": {},
   "outputs": [],
   "source": [
    "# load the adata\n",
    "adata = sc.read_h5ad(data_dir / \"HypoMap_Steuernagel/HypoMap_Steuernagel.h5ad\")"
   ]
  },
  {
   "cell_type": "code",
   "execution_count": 5,
   "id": "900c0480",
   "metadata": {},
   "outputs": [
    {
     "data": {
      "text/plain": [
       "AnnData object with n_obs × n_vars = 384925 × 51676\n",
       "    obs: 'SRA_ID', 'Sample_ID', 'organism_ontology_term_id', 'donor_id', 'development_stage_ontology_term_id', 'sex_ontology_term_id', 'self_reported_ethnicity_ontology_term_id', 'disease_ontology_term_id', 'tissue_ontology_term_id', 'cell_type_ontology_term_id', 'assay_ontology_term_id', 'suspension_type', 'Dataset', 'Batch_ID', 'nCount_RNA', 'nFeature_RNA', 'percent_mt', 'C7_named', 'C25_named', 'C66_named', 'C185_named', 'C286_named', 'C465_named', 'Author_Class_Curated', 'Author_CellType', 'Region_summarized', 'is_primary_data', 'tissue_type', 'cell_type', 'assay', 'disease', 'organism', 'sex', 'tissue', 'self_reported_ethnicity', 'development_stage', 'observation_joinid'\n",
       "    var: 'features', 'feature_is_filtered', 'feature_name', 'feature_reference', 'feature_biotype', 'feature_length', 'feature_type'\n",
       "    uns: 'batch_condition', 'citation', 'schema_reference', 'schema_version', 'title'\n",
       "    obsm: 'X_umap'"
      ]
     },
     "execution_count": 5,
     "metadata": {},
     "output_type": "execute_result"
    }
   ],
   "source": [
    "adata"
   ]
  },
  {
   "cell_type": "code",
   "execution_count": null,
   "id": "d86b7998",
   "metadata": {},
   "outputs": [],
   "source": [
    "# save the raw counts to adata.layers\n",
    "# adata.layers[\"counts\"] = adata.raw.X.copy()"
   ]
  },
  {
   "cell_type": "code",
   "execution_count": 9,
   "id": "2058e1f5",
   "metadata": {},
   "outputs": [],
   "source": [
    "# save (overwrite) the adata object with layers\n",
    "adata.write_h5ad(data_dir / \"HypoMap_Steuernagel/HypoMap_Steuernagel.h5ad\")\n"
   ]
  },
  {
   "cell_type": "code",
   "execution_count": 10,
   "id": "460eb65a",
   "metadata": {},
   "outputs": [
    {
     "data": {
      "text/plain": [
       "Batch_ID\n",
       "Anderson10x_batch_1         60756\n",
       "Kim10x_batch_1              40599\n",
       "Rupp10x_batch_1             33502\n",
       "Dowsett10xnuc_batch_1       24759\n",
       "wen10x_batch_1              17483\n",
       "wenDropseq_batch_1          16181\n",
       "CampbellDropseq_batch_1     15641\n",
       "Moffit10x_batch_3           14958\n",
       "Morris10x_batch_1           13660\n",
       "ChenDropseq_batch_1         13329\n",
       "Morris10x_batch_3           11798\n",
       "Mousebrainorg10x_batch_2    11747\n",
       "Dowsett10xnuc_batch_2       11186\n",
       "Mousebrainorg10x_batch_1     9674\n",
       "RossiDropseq_batch_1         9292\n",
       "Moffit10x_batch_2            8892\n",
       "Affinati10x_batch_1          8477\n",
       "Mickelsen10x_batch_1         8441\n",
       "Affinati10x_batch_4          8404\n",
       "Flynn10x_batch_1             7489\n",
       "kimDev10x_batch_1            6912\n",
       "Affinati10x_batch_3          6056\n",
       "Flynn10x_batch_2             5864\n",
       "Morris10x_batch_2            5492\n",
       "CampbellDropseq_batch_2      5248\n",
       "Moffit10x_batch_1            4185\n",
       "LeeDropseq_batch_1           2212\n",
       "RomanovDev10x_batch_1        2152\n",
       "Affinati10x_batch_2           536\n",
       "Name: count, dtype: int64"
      ]
     },
     "execution_count": 10,
     "metadata": {},
     "output_type": "execute_result"
    }
   ],
   "source": [
    "adata.obs['Batch_ID'].value_counts()"
   ]
  },
  {
   "cell_type": "code",
   "execution_count": 11,
   "id": "0fd4e0e8",
   "metadata": {},
   "outputs": [
    {
     "data": {
      "text/plain": [
       "cell_type\n",
       "neuron                            219360\n",
       "astrocyte                          52186\n",
       "oligodendrocyte                    48817\n",
       "oligodendrocyte precursor cell     19865\n",
       "microglial cell                    14304\n",
       "endothelial cell                   10261\n",
       "tanycyte                            9737\n",
       "ependymal cell                      4425\n",
       "mural cell                          3776\n",
       "fibroblast                          1372\n",
       "pituitary gland cell                 729\n",
       "hypendymal cell                       52\n",
       "erythrocyte                           41\n",
       "Name: count, dtype: int64"
      ]
     },
     "execution_count": 11,
     "metadata": {},
     "output_type": "execute_result"
    }
   ],
   "source": [
    "adata.obs['cell_type'].value_counts()"
   ]
  },
  {
   "cell_type": "code",
   "execution_count": 7,
   "id": "2bab2e21",
   "metadata": {},
   "outputs": [],
   "source": [
    "batch_key = 'Batch_ID'\n",
    "state_key = 'cell_type'"
   ]
  },
  {
   "cell_type": "code",
   "execution_count": 27,
   "id": "e6b9e646",
   "metadata": {},
   "outputs": [],
   "source": [
    "# adata.obs[batch_key] = adata.obs[batch_key].astype(\"category\")\n",
    "# print(adata.obs[batch_key].dtype)\n"
   ]
  },
  {
   "cell_type": "markdown",
   "id": "6347e518",
   "metadata": {},
   "source": [
    "# preprocess data"
   ]
  },
  {
   "cell_type": "code",
   "execution_count": 4,
   "id": "615b7ca3",
   "metadata": {},
   "outputs": [],
   "source": [
    "adata = sc.read_h5ad(data_dir / \"HypoMap_Steuernagel/HypoMap_Steuernagel.h5ad\")"
   ]
  },
  {
   "cell_type": "code",
   "execution_count": 5,
   "id": "b22071c0",
   "metadata": {},
   "outputs": [
    {
     "data": {
      "text/plain": [
       "AnnData object with n_obs × n_vars = 384925 × 51676\n",
       "    obs: 'SRA_ID', 'Sample_ID', 'organism_ontology_term_id', 'donor_id', 'development_stage_ontology_term_id', 'sex_ontology_term_id', 'self_reported_ethnicity_ontology_term_id', 'disease_ontology_term_id', 'tissue_ontology_term_id', 'cell_type_ontology_term_id', 'assay_ontology_term_id', 'suspension_type', 'Dataset', 'Batch_ID', 'nCount_RNA', 'nFeature_RNA', 'percent_mt', 'C7_named', 'C25_named', 'C66_named', 'C185_named', 'C286_named', 'C465_named', 'Author_Class_Curated', 'Author_CellType', 'Region_summarized', 'is_primary_data', 'tissue_type', 'cell_type', 'assay', 'disease', 'organism', 'sex', 'tissue', 'self_reported_ethnicity', 'development_stage', 'observation_joinid'\n",
       "    var: 'features', 'feature_is_filtered', 'feature_name', 'feature_reference', 'feature_biotype', 'feature_length', 'feature_type'\n",
       "    uns: 'batch_condition', 'citation', 'schema_reference', 'schema_version', 'title'\n",
       "    obsm: 'X_umap'\n",
       "    layers: 'counts'"
      ]
     },
     "execution_count": 5,
     "metadata": {},
     "output_type": "execute_result"
    }
   ],
   "source": [
    "adata"
   ]
  },
  {
   "cell_type": "code",
   "execution_count": 8,
   "id": "ef1506f1",
   "metadata": {},
   "outputs": [],
   "source": [
    "sc.pp.highly_variable_genes(adata, n_top_genes=2000, flavor=\"seurat\", batch_key=batch_key)\n",
    "sc.tl.pca(adata, n_comps=30, use_highly_variable=True)"
   ]
  },
  {
   "cell_type": "code",
   "execution_count": 9,
   "id": "47b942b2",
   "metadata": {},
   "outputs": [
    {
     "data": {
      "text/plain": [
       "highly_variable\n",
       "False    49676\n",
       "True      2000\n",
       "Name: count, dtype: int64"
      ]
     },
     "execution_count": 9,
     "metadata": {},
     "output_type": "execute_result"
    }
   ],
   "source": [
    "adata.var.highly_variable.value_counts()"
   ]
  },
  {
   "cell_type": "code",
   "execution_count": 10,
   "id": "8e25ecac",
   "metadata": {},
   "outputs": [],
   "source": [
    "adata = adata[:, adata.var.highly_variable].copy()"
   ]
  },
  {
   "cell_type": "code",
   "execution_count": 11,
   "id": "6f7f7124",
   "metadata": {},
   "outputs": [],
   "source": [
    "# save the adata\n",
    "adata.write_h5ad(data_dir / \"HypoMap_Steuernagel/HypoMap_Steuernagel_processed.h5ad\")"
   ]
  },
  {
   "cell_type": "code",
   "execution_count": 12,
   "id": "00768305",
   "metadata": {},
   "outputs": [
    {
     "data": {
      "text/plain": [
       "AnnData object with n_obs × n_vars = 384925 × 2000\n",
       "    obs: 'SRA_ID', 'Sample_ID', 'organism_ontology_term_id', 'donor_id', 'development_stage_ontology_term_id', 'sex_ontology_term_id', 'self_reported_ethnicity_ontology_term_id', 'disease_ontology_term_id', 'tissue_ontology_term_id', 'cell_type_ontology_term_id', 'assay_ontology_term_id', 'suspension_type', 'Dataset', 'Batch_ID', 'nCount_RNA', 'nFeature_RNA', 'percent_mt', 'C7_named', 'C25_named', 'C66_named', 'C185_named', 'C286_named', 'C465_named', 'Author_Class_Curated', 'Author_CellType', 'Region_summarized', 'is_primary_data', 'tissue_type', 'cell_type', 'assay', 'disease', 'organism', 'sex', 'tissue', 'self_reported_ethnicity', 'development_stage', 'observation_joinid'\n",
       "    var: 'features', 'feature_is_filtered', 'feature_name', 'feature_reference', 'feature_biotype', 'feature_length', 'feature_type', 'highly_variable', 'means', 'dispersions', 'dispersions_norm', 'highly_variable_nbatches', 'highly_variable_intersection'\n",
       "    uns: 'batch_condition', 'citation', 'schema_reference', 'schema_version', 'title', 'hvg', 'pca'\n",
       "    obsm: 'X_umap', 'X_pca'\n",
       "    varm: 'PCs'\n",
       "    layers: 'counts'"
      ]
     },
     "execution_count": 12,
     "metadata": {},
     "output_type": "execute_result"
    }
   ],
   "source": [
    "adata"
   ]
  },
  {
   "cell_type": "markdown",
   "id": "e8eeedd3",
   "metadata": {},
   "source": [
    "----"
   ]
  },
  {
   "cell_type": "code",
   "execution_count": 31,
   "id": "95a8087e",
   "metadata": {},
   "outputs": [],
   "source": [
    "combined_keys = [\n",
    "        \"unintegrated\",\n",
    "        \"scanorama\", \"liger\", \"harmony\",\n",
    "        \"scvi\", \"scanvi\",\n",
    "        \"concord\",\n",
    "        \"concord_class\", \n",
    "        \"concord_decoder\", \"contrastive\"\n",
    "    ]"
   ]
  },
  {
   "cell_type": "code",
   "execution_count": null,
   "id": "4f444fe9",
   "metadata": {},
   "outputs": [],
   "source": [
    "time_log, ram_log, vram_log = ccd.ul.run_integration_methods_pipeline(\n",
    "    adata=adata,                          # Your input AnnData object\n",
    "    methods=combined_keys,            # List of methods to run\n",
    "    batch_key=batch_key,                    # Column in adata.obs for batch info\n",
    "    count_layer=\"counts\",                 # Layer name containing raw counts\n",
    "    class_key=state_key,               # Column in adata.obs for class labels (used in SCANVI and CONCORD variants)\n",
    "    latent_dim=30,                        # Latent dimensionality for PCA and embeddings\n",
    "    device=device,                        # Or \"cpu\", or \"mps\" for Apple Silicon\n",
    "    return_corrected=False,                   # Whether to store corrected expression matrices\n",
    "    transform_batch=None,                 # Optionally specify a batch to transform to in scVI\n",
    "    seed=42,                              # Random seed for reproducibility\n",
    "    compute_umap=True,                    # Run UMAP for all output embeddings\n",
    "    umap_n_components=2,\n",
    "    umap_n_neighbors=30,\n",
    "    umap_min_dist=0.5,\n",
    "    verbose=True,                        # Print progress messages\n",
    ")"
   ]
  },
  {
   "cell_type": "code",
   "execution_count": null,
   "id": "cc378b9d",
   "metadata": {},
   "outputs": [],
   "source": []
  }
 ],
 "metadata": {
  "kernelspec": {
   "display_name": "scenv",
   "language": "python",
   "name": "python3"
  },
  "language_info": {
   "codemirror_mode": {
    "name": "ipython",
    "version": 3
   },
   "file_extension": ".py",
   "mimetype": "text/x-python",
   "name": "python",
   "nbconvert_exporter": "python",
   "pygments_lexer": "ipython3",
   "version": "3.13.3"
  }
 },
 "nbformat": 4,
 "nbformat_minor": 5
}
