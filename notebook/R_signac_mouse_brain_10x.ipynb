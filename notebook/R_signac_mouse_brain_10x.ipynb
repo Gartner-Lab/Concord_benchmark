{
 "cells": [
  {
   "cell_type": "code",
   "execution_count": 1,
   "id": "33967478",
   "metadata": {
    "vscode": {
     "languageId": "r"
    }
   },
   "outputs": [
    {
     "name": "stderr",
     "output_type": "stream",
     "text": [
      "Loading required package: ensembldb\n",
      "\n",
      "Loading required package: BiocGenerics\n",
      "\n",
      "\n",
      "Attaching package: 'BiocGenerics'\n",
      "\n",
      "\n",
      "The following objects are masked from 'package:stats':\n",
      "\n",
      "    IQR, mad, sd, var, xtabs\n",
      "\n",
      "\n",
      "The following objects are masked from 'package:base':\n",
      "\n",
      "    Filter, Find, Map, Position, Reduce, anyDuplicated, aperm, append,\n",
      "    as.data.frame, basename, cbind, colnames, dirname, do.call,\n",
      "    duplicated, eval, evalq, get, grep, grepl, intersect, is.unsorted,\n",
      "    lapply, mapply, match, mget, order, paste, pmax, pmax.int, pmin,\n",
      "    pmin.int, rank, rbind, rownames, sapply, saveRDS, setdiff, table,\n",
      "    tapply, union, unique, unsplit, which.max, which.min\n",
      "\n",
      "\n",
      "Loading required package: GenomicRanges\n",
      "\n",
      "Loading required package: stats4\n",
      "\n",
      "Loading required package: S4Vectors\n",
      "\n",
      "\n",
      "Attaching package: 'S4Vectors'\n",
      "\n",
      "\n",
      "The following object is masked from 'package:utils':\n",
      "\n",
      "    findMatches\n",
      "\n",
      "\n",
      "The following objects are masked from 'package:base':\n",
      "\n",
      "    I, expand.grid, unname\n",
      "\n",
      "\n",
      "Loading required package: IRanges\n",
      "\n",
      "Loading required package: GenomeInfoDb\n",
      "\n",
      "Loading required package: GenomicFeatures\n",
      "\n",
      "Loading required package: AnnotationDbi\n",
      "\n",
      "Loading required package: Biobase\n",
      "\n",
      "Welcome to Bioconductor\n",
      "\n",
      "    Vignettes contain introductory material; view with\n",
      "    'browseVignettes()'. To cite Bioconductor, see\n",
      "    'citation(\"Biobase\")', and for packages 'citation(\"pkgname\")'.\n",
      "\n",
      "\n",
      "Loading required package: AnnotationFilter\n",
      "\n",
      "\n",
      "Attaching package: 'ensembldb'\n",
      "\n",
      "\n",
      "The following object is masked from 'package:stats':\n",
      "\n",
      "    filter\n",
      "\n",
      "\n",
      "Loading required package: SeuratObject\n",
      "\n",
      "Loading required package: sp\n",
      "\n",
      "\n",
      "Attaching package: 'sp'\n",
      "\n",
      "\n",
      "The following object is masked from 'package:IRanges':\n",
      "\n",
      "    %over%\n",
      "\n",
      "\n",
      "'SeuratObject' was built under R 4.4.1 but the current version is\n",
      "4.4.2; it is recomended that you reinstall 'SeuratObject' as the ABI\n",
      "for R may have changed\n",
      "\n",
      "\n",
      "Attaching package: 'SeuratObject'\n",
      "\n",
      "\n",
      "The following object is masked from 'package:GenomicRanges':\n",
      "\n",
      "    intersect\n",
      "\n",
      "\n",
      "The following object is masked from 'package:GenomeInfoDb':\n",
      "\n",
      "    intersect\n",
      "\n",
      "\n",
      "The following object is masked from 'package:IRanges':\n",
      "\n",
      "    intersect\n",
      "\n",
      "\n",
      "The following object is masked from 'package:S4Vectors':\n",
      "\n",
      "    intersect\n",
      "\n",
      "\n",
      "The following object is masked from 'package:BiocGenerics':\n",
      "\n",
      "    intersect\n",
      "\n",
      "\n",
      "The following objects are masked from 'package:base':\n",
      "\n",
      "    intersect, t\n",
      "\n",
      "\n"
     ]
    }
   ],
   "source": [
    "library(EnsDb.Mmusculus.v79)\n",
    "library(ggplot2)\n",
    "library(patchwork)\n",
    "library(Signac)\n",
    "library(Seurat)"
   ]
  },
  {
   "cell_type": "code",
   "execution_count": 2,
   "id": "a5abd96d",
   "metadata": {
    "vscode": {
     "languageId": "r"
    }
   },
   "outputs": [],
   "source": [
    "data_path = \"../data/mouse_brain_atac_10x/\"\n",
    "counts <- Read10X_h5(\n",
    "  filename = paste0(data_path, \"atac_v1_adult_brain_fresh_5k_filtered_peak_bc_matrix.h5\"),\n",
    "  use.names = TRUE\n",
    ")"
   ]
  },
  {
   "cell_type": "code",
   "execution_count": 3,
   "id": "57f8847a",
   "metadata": {
    "vscode": {
     "languageId": "r"
    }
   },
   "outputs": [
    {
     "ename": "ERROR",
     "evalue": "Error: vector memory limit of 64.0 Gb reached, see mem.maxVSize()\n",
     "output_type": "error",
     "traceback": [
      "Error: vector memory limit of 64.0 Gb reached, see mem.maxVSize()\nTraceback:\n",
      "1. StringToGRanges(regions = rownames(x = data.use), sep = sep)",
      "2. separate(data = ranges.df, col = \"ranges\", sep = paste0(sep[[1]], \n .     \"|\", sep[[2]]), into = c(\"chr\", \"start\", \"end\"))",
      "3. separate.data.frame(data = ranges.df, col = \"ranges\", sep = paste0(sep[[1]], \n .     \"|\", sep[[2]]), into = c(\"chr\", \"start\", \"end\"))",
      "4. str_separate(value, into = into, sep = sep, convert = convert, \n .     extra = extra, fill = fill)",
      "5. str_split_fixed(x, sep, length(into), extra = extra, fill = fill)",
      "6. simplifyPieces(pieces, n, fill == \"left\")",
      "7. .handleSimpleError(function (cnd) \n . {\n .     watcher$capture_plot_and_output()\n .     cnd <- sanitize_call(cnd)\n .     watcher$push(cnd)\n .     switch(on_error, continue = invokeRestart(\"eval_continue\"), \n .         stop = invokeRestart(\"eval_stop\"), error = NULL)\n . }, \"vector memory limit of 64.0 Gb reached, see mem.maxVSize()\", \n .     base::quote(NULL))"
     ]
    }
   ],
   "source": [
    "\n",
    "brain_assay <- CreateChromatinAssay(\n",
    "  counts = counts,\n",
    "  sep = c(\":\", \"-\"),\n",
    "  genome = \"mm10\",\n",
    "  fragments = paste0(data_path,'atac_v1_adult_brain_fresh_5k_fragments.tsv.gz'),\n",
    "  min.cells = 1\n",
    ")"
   ]
  },
  {
   "cell_type": "code",
   "execution_count": 5,
   "id": "a9364d19",
   "metadata": {
    "vscode": {
     "languageId": "r"
    }
   },
   "outputs": [
    {
     "name": "stdout",
     "output_type": "stream",
     "text": [
      "Read10X_h5               package:Seurat                R Documentation\n",
      "\n",
      "_\bR_\be_\ba_\bd _\b1_\b0_\bX _\bh_\bd_\bf_\b5 _\bf_\bi_\bl_\be\n",
      "\n",
      "_\bD_\be_\bs_\bc_\br_\bi_\bp_\bt_\bi_\bo_\bn:\n",
      "\n",
      "     Read count matrix from 10X CellRanger hdf5 file. This can be used\n",
      "     to read both scATAC-seq and scRNA-seq matrices.\n",
      "\n",
      "_\bU_\bs_\ba_\bg_\be:\n",
      "\n",
      "     Read10X_h5(filename, use.names = TRUE, unique.features = TRUE)\n",
      "     \n",
      "_\bA_\br_\bg_\bu_\bm_\be_\bn_\bt_\bs:\n",
      "\n",
      "filename: Path to h5 file\n",
      "\n",
      "use.names: Label row names with feature names rather than ID numbers.\n",
      "\n",
      "unique.features: Make feature names unique (default TRUE)\n",
      "\n",
      "_\bV_\ba_\bl_\bu_\be:\n",
      "\n",
      "     Returns a sparse matrix with rows and columns labeled. If multiple\n",
      "     genomes are present, returns a list of sparse matrices (one per\n",
      "     genome).\n"
     ]
    }
   ],
   "source": [
    "?Read10X_h5"
   ]
  },
  {
   "cell_type": "code",
   "execution_count": null,
   "id": "46a5a9f9",
   "metadata": {
    "vscode": {
     "languageId": "r"
    }
   },
   "outputs": [],
   "source": []
  }
 ],
 "metadata": {
  "kernelspec": {
   "display_name": "R",
   "language": "R",
   "name": "ir"
  },
  "language_info": {
   "codemirror_mode": "r",
   "file_extension": ".r",
   "mimetype": "text/x-r-source",
   "name": "R",
   "pygments_lexer": "r",
   "version": "4.4.2"
  }
 },
 "nbformat": 4,
 "nbformat_minor": 5
}
