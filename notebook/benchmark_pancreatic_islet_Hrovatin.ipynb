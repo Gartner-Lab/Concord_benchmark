{
 "cells": [
  {
   "cell_type": "markdown",
   "id": "2901e439",
   "metadata": {},
   "source": [
    "# Benchmark"
   ]
  },
  {
   "cell_type": "code",
   "execution_count": 9,
   "id": "9c9ffcec",
   "metadata": {},
   "outputs": [],
   "source": [
    "%load_ext autoreload\n",
    "%autoreload 2"
   ]
  },
  {
   "cell_type": "code",
   "execution_count": 10,
   "id": "95e5e20b",
   "metadata": {},
   "outputs": [],
   "source": [
    "import os\n",
    "import numpy as np\n",
    "import scanpy as sc\n",
    "import time\n",
    "from pathlib import Path\n",
    "import torch\n",
    "import concord as ccd\n",
    "import warnings\n",
    "warnings.filterwarnings('ignore')\n",
    "%matplotlib inline\n",
    "import matplotlib as mpl\n",
    "\n",
    "from matplotlib import font_manager, rcParams\n",
    "custom_rc = {\n",
    "    'font.family': 'Arial',  # Set the desired font for this plot\n",
    "}\n",
    "\n",
    "mpl.rcParams['svg.fonttype'] = 'none'\n",
    "mpl.rcParams['pdf.fonttype'] = 42"
   ]
  },
  {
   "cell_type": "code",
   "execution_count": 11,
   "id": "97b1e3f4",
   "metadata": {},
   "outputs": [
    {
     "name": "stdout",
     "output_type": "stream",
     "text": [
      "cpu\n"
     ]
    },
    {
     "data": {
      "text/plain": [
       "'Jun13-0318'"
      ]
     },
     "execution_count": 11,
     "metadata": {},
     "output_type": "execute_result"
    }
   ],
   "source": [
    "proj_name = \"pancreatic_islet_Hrovatin\"\n",
    "\n",
    "save_dir = f\"../save/{proj_name}-{time.strftime('%b%d')}/\"\n",
    "save_dir = Path(save_dir)\n",
    "save_dir.mkdir(parents=True, exist_ok=True)\n",
    "\n",
    "data_dir = f\"../data/\"\n",
    "data_dir = Path(data_dir)\n",
    "data_dir.mkdir(parents=True, exist_ok=True)\n",
    "\n",
    "device = torch.device('cuda:3' if torch.cuda.is_available() else 'cpu')\n",
    "print(device)\n",
    "seed = 0\n",
    "ccd.ul.set_seed(seed)\n",
    "\n",
    "file_suffix = f\"{time.strftime('%b%d-%H%M')}\"\n",
    "file_suffix"
   ]
  },
  {
   "cell_type": "code",
   "execution_count": 12,
   "id": "7c5128f4",
   "metadata": {},
   "outputs": [],
   "source": [
    "# load the adata\n",
    "adata = sc.read_h5ad(data_dir / \"pancreatic_islet_Hrovatin/pancreatic_islet_Hrovatin.h5ad\")"
   ]
  },
  {
   "cell_type": "code",
   "execution_count": 13,
   "id": "900c0480",
   "metadata": {},
   "outputs": [
    {
     "data": {
      "text/plain": [
       "AnnData object with n_obs × n_vars = 301796 × 31202\n",
       "    obs: 'batch_integration', 'dataset', 'design', 'cell_cycle_phase', 'ins_high', 'gcg_high', 'sst_high', 'ppy_high', 'cell_filtering', 'strain', 'age', 'cell_type_originalDataset_unified', 'cell_type_originalDataset', 'cell_type_reannotatedIntegrated', 'n_genes', 'mt_frac', 'doublet_score', 'log10_n_counts', 'age_approxDays', 'dataset__design__sample', 'cell_subtype_immune_reannotatedIntegrated', 'cell_subtype_endothelial_reannotatedIntegrated', 'emptyDrops_LogProb_scaled', 'cell_subtype_beta_coarse_reannotatedIntegrated', 'cell_subtype_beta_fine_reannotatedIntegrated', 'GP_1', 'GP_2', 'GP_3', 'GP_4', 'GP_5', 'GP_6', 'GP_7', 'GP_8', 'GP_9', 'GP_10', 'GP_11', 'GP_12', 'GP_13', 'GP_14', 'GP_15', 'GP_16', 'GP_17', 'GP_18', 'GP_19', 'GP_20', 'GP_21', 'GP_22', 'GP_23', 'GP_24', 'GP_25', 'GP_26', 'GP_27', 'assay_ontology_term_id', 'cell_type_ontology_term_id', 'development_stage_ontology_term_id', 'diabetes_model', 'chemical_stress', 'GEO_accession', 'disease_ontology_term_id', 'self_reported_ethnicity_ontology_term_id', 'is_primary_data', 'organism_ontology_term_id', 'sex_ontology_term_id', 'sex_annotation', 'tissue_ontology_term_id', 'low_q', 'donor_id', 'suspension_type', 'tissue_type', 'cell_type', 'assay', 'disease', 'organism', 'sex', 'tissue', 'self_reported_ethnicity', 'development_stage', 'observation_joinid'\n",
       "    var: 'present_Fltp_2y', 'present_Fltp_adult', 'present_Fltp_P16', 'present_NOD', 'present_NOD_elimination', 'present_spikein_drug', 'present_embryo', 'present_VSG', 'present_STZ', 'feature_is_filtered', 'feature_name', 'feature_reference', 'feature_biotype', 'feature_length', 'feature_type'\n",
       "    uns: 'batch_condition', 'cell_type_reannotatedIntegrated_colors', 'citation', 'dataset_colors', 'default_embedding', 'field_descriptions', 'schema_reference', 'schema_version', 'title'\n",
       "    obsm: 'X_integrated_umap', 'X_integrated_umap_beta'"
      ]
     },
     "execution_count": 13,
     "metadata": {},
     "output_type": "execute_result"
    }
   ],
   "source": [
    "adata"
   ]
  },
  {
   "cell_type": "code",
   "execution_count": 14,
   "id": "d86b7998",
   "metadata": {},
   "outputs": [],
   "source": [
    "# save the raw counts to adata.layers\n",
    "adata.layers[\"counts\"] = adata.raw.X.copy()"
   ]
  },
  {
   "cell_type": "code",
   "execution_count": 15,
   "id": "2058e1f5",
   "metadata": {},
   "outputs": [],
   "source": [
    "# save (overwrite) the adata object with layers\n",
    "adata.write_h5ad(data_dir / \"pancreatic_islet_Hrovatin/pancreatic_islet_Hrovatin.h5ad\")\n"
   ]
  },
  {
   "cell_type": "code",
   "execution_count": 16,
   "id": "460eb65a",
   "metadata": {},
   "outputs": [
    {
     "data": {
      "text/plain": [
       "batch_integration\n",
       "VSG_MUC13632                  19923\n",
       "embryo_E15_5                  11303\n",
       "embryo_E12_5                  11090\n",
       "embryo_E14_5                  10089\n",
       "STZ_G6                         9863\n",
       "VSG_MUC13639                   9442\n",
       "Fltp_P16_145_mGFP              9221\n",
       "STZ_G2                         9184\n",
       "VSG_MUC13641                   8788\n",
       "VSG_MUC13640                   8787\n",
       "VSG_MUC13642                   8439\n",
       "STZ_G1                         8388\n",
       "NOD_elimination_SRR7610298     8372\n",
       "NOD_elimination_SRR7610301     7564\n",
       "Fltp_2y_MUC13974               7534\n",
       "STZ_G5                         7280\n",
       "Fltp_P16_146_mRFP              7172\n",
       "STZ_G4                         6292\n",
       "NOD_elimination_SRR7610299     6271\n",
       "spikein_drug_SRR10751502       6164\n",
       "Fltp_2y_MUC13976               6081\n",
       "NOD_elimination_SRR7610302     5988\n",
       "NOD_elimination_SRR7610303     5972\n",
       "NOD_elimination_SRR7610300     5765\n",
       "VSG_MUC13634                   5633\n",
       "spikein_drug_SRR10751506       5562\n",
       "VSG_MUC13633                   5522\n",
       "Fltp_adult_mouse4              5359\n",
       "NOD_elimination_SRR7610297     5178\n",
       "embryo_E13_5                   5079\n",
       "NOD_elimination_SRR7610295     4881\n",
       "Fltp_adult_mouse2              4664\n",
       "NOD_elimination_SRR7610296     4338\n",
       "STZ_G8                         4303\n",
       "STZ_G3                         4235\n",
       "Fltp_adult_mouse1              4094\n",
       "Fltp_2y_MUC13975               3746\n",
       "Fltp_P16_147_mTmG              3488\n",
       "spikein_drug_SRR10751504       3301\n",
       "Fltp_adult_mouse3              3236\n",
       "VSG_MUC13631                   3211\n",
       "spikein_drug_SRR10751508       3082\n",
       "spikein_drug_SRR10751510       1955\n",
       "spikein_drug_SRR10751511       1877\n",
       "spikein_drug_SRR10751503       1875\n",
       "spikein_drug_SRR10751516       1570\n",
       "spikein_drug_SRR10751505       1526\n",
       "spikein_drug_SRR10751514       1437\n",
       "spikein_drug_SRR10751507       1322\n",
       "NOD_SRR10985099                1092\n",
       "spikein_drug_SRR10751509       1066\n",
       "NOD_SRR10985097                 976\n",
       "spikein_drug_SRR10751515        909\n",
       "spikein_drug_SRR10751513        909\n",
       "spikein_drug_SRR10751512        776\n",
       "NOD_SRR10985098                 622\n",
       "Name: count, dtype: int64"
      ]
     },
     "execution_count": 16,
     "metadata": {},
     "output_type": "execute_result"
    }
   ],
   "source": [
    "adata.obs['batch_integration'].value_counts()"
   ]
  },
  {
   "cell_type": "code",
   "execution_count": 17,
   "id": "0fd4e0e8",
   "metadata": {},
   "outputs": [
    {
     "data": {
      "text/plain": [
       "cell_type\n",
       "type B pancreatic cell       102143\n",
       "pancreatic A cell             40935\n",
       "unknown                       36925\n",
       "hematopoietic cell            31703\n",
       "pancreatic D cell             24775\n",
       "pancreatic stellate cell      23302\n",
       "endothelial cell              13469\n",
       "pancreatic endocrine cell     10853\n",
       "pancreatic ductal cell         8742\n",
       "pancreatic PP cell             6999\n",
       "cell                            853\n",
       "Schwann cell                    617\n",
       "pancreatic acinar cell          480\n",
       "Name: count, dtype: int64"
      ]
     },
     "execution_count": 17,
     "metadata": {},
     "output_type": "execute_result"
    }
   ],
   "source": [
    "adata.obs['cell_type'].value_counts()"
   ]
  },
  {
   "cell_type": "code",
   "execution_count": 18,
   "id": "2bab2e21",
   "metadata": {},
   "outputs": [],
   "source": [
    "batch_key = 'batch_integration'\n",
    "state_key = 'cell_type'"
   ]
  },
  {
   "cell_type": "code",
   "execution_count": null,
   "id": "e6b9e646",
   "metadata": {},
   "outputs": [],
   "source": [
    "# adata.obs[batch_key] = adata.obs[batch_key].astype(\"category\")\n",
    "# print(adata.obs[batch_key].dtype)\n"
   ]
  },
  {
   "cell_type": "markdown",
   "id": "6347e518",
   "metadata": {},
   "source": [
    "# preprocess data"
   ]
  },
  {
   "cell_type": "code",
   "execution_count": 19,
   "id": "b22071c0",
   "metadata": {},
   "outputs": [
    {
     "data": {
      "text/plain": [
       "AnnData object with n_obs × n_vars = 301796 × 31202\n",
       "    obs: 'batch_integration', 'dataset', 'design', 'cell_cycle_phase', 'ins_high', 'gcg_high', 'sst_high', 'ppy_high', 'cell_filtering', 'strain', 'age', 'cell_type_originalDataset_unified', 'cell_type_originalDataset', 'cell_type_reannotatedIntegrated', 'n_genes', 'mt_frac', 'doublet_score', 'log10_n_counts', 'age_approxDays', 'dataset__design__sample', 'cell_subtype_immune_reannotatedIntegrated', 'cell_subtype_endothelial_reannotatedIntegrated', 'emptyDrops_LogProb_scaled', 'cell_subtype_beta_coarse_reannotatedIntegrated', 'cell_subtype_beta_fine_reannotatedIntegrated', 'GP_1', 'GP_2', 'GP_3', 'GP_4', 'GP_5', 'GP_6', 'GP_7', 'GP_8', 'GP_9', 'GP_10', 'GP_11', 'GP_12', 'GP_13', 'GP_14', 'GP_15', 'GP_16', 'GP_17', 'GP_18', 'GP_19', 'GP_20', 'GP_21', 'GP_22', 'GP_23', 'GP_24', 'GP_25', 'GP_26', 'GP_27', 'assay_ontology_term_id', 'cell_type_ontology_term_id', 'development_stage_ontology_term_id', 'diabetes_model', 'chemical_stress', 'GEO_accession', 'disease_ontology_term_id', 'self_reported_ethnicity_ontology_term_id', 'is_primary_data', 'organism_ontology_term_id', 'sex_ontology_term_id', 'sex_annotation', 'tissue_ontology_term_id', 'low_q', 'donor_id', 'suspension_type', 'tissue_type', 'cell_type', 'assay', 'disease', 'organism', 'sex', 'tissue', 'self_reported_ethnicity', 'development_stage', 'observation_joinid'\n",
       "    var: 'present_Fltp_2y', 'present_Fltp_adult', 'present_Fltp_P16', 'present_NOD', 'present_NOD_elimination', 'present_spikein_drug', 'present_embryo', 'present_VSG', 'present_STZ', 'feature_is_filtered', 'feature_name', 'feature_reference', 'feature_biotype', 'feature_length', 'feature_type'\n",
       "    uns: 'batch_condition', 'cell_type_reannotatedIntegrated_colors', 'citation', 'dataset_colors', 'default_embedding', 'field_descriptions', 'schema_reference', 'schema_version', 'title'\n",
       "    obsm: 'X_integrated_umap', 'X_integrated_umap_beta'\n",
       "    layers: 'counts'"
      ]
     },
     "execution_count": 19,
     "metadata": {},
     "output_type": "execute_result"
    }
   ],
   "source": [
    "adata"
   ]
  },
  {
   "cell_type": "code",
   "execution_count": 20,
   "id": "ef1506f1",
   "metadata": {},
   "outputs": [],
   "source": [
    "sc.pp.highly_variable_genes(adata, n_top_genes=2000, flavor=\"seurat\", batch_key=batch_key)\n",
    "sc.tl.pca(adata, n_comps=30, use_highly_variable=True)"
   ]
  },
  {
   "cell_type": "code",
   "execution_count": 21,
   "id": "47b942b2",
   "metadata": {},
   "outputs": [
    {
     "data": {
      "text/plain": [
       "highly_variable\n",
       "False    29202\n",
       "True      2000\n",
       "Name: count, dtype: int64"
      ]
     },
     "execution_count": 21,
     "metadata": {},
     "output_type": "execute_result"
    }
   ],
   "source": [
    "adata.var.highly_variable.value_counts()"
   ]
  },
  {
   "cell_type": "code",
   "execution_count": 22,
   "id": "8e25ecac",
   "metadata": {},
   "outputs": [],
   "source": [
    "adata = adata[:, adata.var.highly_variable].copy()"
   ]
  },
  {
   "cell_type": "code",
   "execution_count": 23,
   "id": "6f7f7124",
   "metadata": {},
   "outputs": [],
   "source": [
    "# save the adata\n",
    "adata.write_h5ad(data_dir / \"pancreatic_islet_Hrovatin/pancreatic_islet_Hrovatin_processed.h5ad\")"
   ]
  },
  {
   "cell_type": "code",
   "execution_count": 3,
   "id": "00768305",
   "metadata": {},
   "outputs": [
    {
     "data": {
      "text/plain": [
       "AnnData object with n_obs × n_vars = 301796 × 2000\n",
       "    obs: 'batch_integration', 'dataset', 'design', 'cell_cycle_phase', 'ins_high', 'gcg_high', 'sst_high', 'ppy_high', 'cell_filtering', 'strain', 'age', 'cell_type_originalDataset_unified', 'cell_type_originalDataset', 'cell_type_reannotatedIntegrated', 'n_genes', 'mt_frac', 'doublet_score', 'log10_n_counts', 'age_approxDays', 'dataset__design__sample', 'cell_subtype_immune_reannotatedIntegrated', 'cell_subtype_endothelial_reannotatedIntegrated', 'emptyDrops_LogProb_scaled', 'cell_subtype_beta_coarse_reannotatedIntegrated', 'cell_subtype_beta_fine_reannotatedIntegrated', 'GP_1', 'GP_2', 'GP_3', 'GP_4', 'GP_5', 'GP_6', 'GP_7', 'GP_8', 'GP_9', 'GP_10', 'GP_11', 'GP_12', 'GP_13', 'GP_14', 'GP_15', 'GP_16', 'GP_17', 'GP_18', 'GP_19', 'GP_20', 'GP_21', 'GP_22', 'GP_23', 'GP_24', 'GP_25', 'GP_26', 'GP_27', 'assay_ontology_term_id', 'cell_type_ontology_term_id', 'development_stage_ontology_term_id', 'diabetes_model', 'chemical_stress', 'GEO_accession', 'disease_ontology_term_id', 'self_reported_ethnicity_ontology_term_id', 'is_primary_data', 'organism_ontology_term_id', 'sex_ontology_term_id', 'sex_annotation', 'tissue_ontology_term_id', 'low_q', 'donor_id', 'suspension_type', 'tissue_type', 'cell_type', 'assay', 'disease', 'organism', 'sex', 'tissue', 'self_reported_ethnicity', 'development_stage', 'observation_joinid'\n",
       "    var: 'present_Fltp_2y', 'present_Fltp_adult', 'present_Fltp_P16', 'present_NOD', 'present_NOD_elimination', 'present_spikein_drug', 'present_embryo', 'present_VSG', 'present_STZ', 'feature_is_filtered', 'feature_name', 'feature_reference', 'feature_biotype', 'feature_length', 'feature_type', 'highly_variable', 'means', 'dispersions', 'dispersions_norm', 'highly_variable_nbatches', 'highly_variable_intersection'\n",
       "    uns: 'batch_condition', 'cell_type_reannotatedIntegrated_colors', 'citation', 'dataset_colors', 'default_embedding', 'field_descriptions', 'hvg', 'pca', 'schema_reference', 'schema_version', 'title'\n",
       "    obsm: 'X_integrated_umap', 'X_integrated_umap_beta', 'X_pca'\n",
       "    varm: 'PCs'\n",
       "    layers: 'counts'"
      ]
     },
     "execution_count": 3,
     "metadata": {},
     "output_type": "execute_result"
    }
   ],
   "source": [
    "adata"
   ]
  },
  {
   "cell_type": "markdown",
   "id": "e8eeedd3",
   "metadata": {},
   "source": [
    "----"
   ]
  },
  {
   "cell_type": "code",
   "execution_count": null,
   "id": "95a8087e",
   "metadata": {},
   "outputs": [],
   "source": [
    "combined_keys = [\n",
    "        \"unintegrated\",\n",
    "        \"scanorama\", \"liger\", \"harmony\",\n",
    "        \"scvi\", \"scanvi\",\n",
    "        \"concord\",\n",
    "        \"concord_class\", \n",
    "        \"concord_decoder\", \"contrastive\"\n",
    "    ]"
   ]
  },
  {
   "cell_type": "code",
   "execution_count": null,
   "id": "4f444fe9",
   "metadata": {},
   "outputs": [],
   "source": [
    "time_log, ram_log, vram_log = ccd.ul.run_integration_methods_pipeline(\n",
    "    adata=adata,                          # Your input AnnData object\n",
    "    methods=combined_keys,            # List of methods to run\n",
    "    batch_key=batch_key,                    # Column in adata.obs for batch info\n",
    "    count_layer=\"counts\",                 # Layer name containing raw counts\n",
    "    class_key=state_key,               # Column in adata.obs for class labels (used in SCANVI and CONCORD variants)\n",
    "    latent_dim=30,                        # Latent dimensionality for PCA and embeddings\n",
    "    device=device,                        # Or \"cpu\", or \"mps\" for Apple Silicon\n",
    "    return_corrected=False,                   # Whether to store corrected expression matrices\n",
    "    transform_batch=None,                 # Optionally specify a batch to transform to in scVI\n",
    "    seed=42,                              # Random seed for reproducibility\n",
    "    compute_umap=True,                    # Run UMAP for all output embeddings\n",
    "    umap_n_components=2,\n",
    "    umap_n_neighbors=30,\n",
    "    umap_min_dist=0.5,\n",
    "    verbose=True,                        # Print progress messages\n",
    ")"
   ]
  },
  {
   "cell_type": "code",
   "execution_count": null,
   "id": "cc378b9d",
   "metadata": {},
   "outputs": [],
   "source": []
  }
 ],
 "metadata": {
  "kernelspec": {
   "display_name": "scenv",
   "language": "python",
   "name": "python3"
  },
  "language_info": {
   "codemirror_mode": {
    "name": "ipython",
    "version": 3
   },
   "file_extension": ".py",
   "mimetype": "text/x-python",
   "name": "python",
   "nbconvert_exporter": "python",
   "pygments_lexer": "ipython3",
   "version": "3.13.3"
  }
 },
 "nbformat": 4,
 "nbformat_minor": 5
}
