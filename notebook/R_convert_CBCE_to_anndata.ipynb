{
 "cells": [
  {
   "cell_type": "code",
   "execution_count": 1,
   "metadata": {
    "vscode": {
     "languageId": "r"
    }
   },
   "outputs": [
    {
     "name": "stderr",
     "output_type": "stream",
     "text": [
      "Loading required package: SeuratObject\n",
      "\n",
      "Loading required package: sp\n",
      "\n",
      "\n",
      "Attaching package: ‘SeuratObject’\n",
      "\n",
      "\n",
      "The following objects are masked from ‘package:base’:\n",
      "\n",
      "    intersect, t\n",
      "\n",
      "\n",
      "Loading required package: Biobase\n",
      "\n",
      "Warning message:\n",
      "“package ‘Biobase’ was built under R version 4.4.1”\n",
      "Loading required package: BiocGenerics\n",
      "\n",
      "Warning message:\n",
      "“package ‘BiocGenerics’ was built under R version 4.4.1”\n",
      "\n",
      "Attaching package: ‘BiocGenerics’\n",
      "\n",
      "\n",
      "The following object is masked from ‘package:SeuratObject’:\n",
      "\n",
      "    intersect\n",
      "\n",
      "\n",
      "The following objects are masked from ‘package:stats’:\n",
      "\n",
      "    IQR, mad, sd, var, xtabs\n",
      "\n",
      "\n",
      "The following objects are masked from ‘package:base’:\n",
      "\n",
      "    anyDuplicated, aperm, append, as.data.frame, basename, cbind,\n",
      "    colnames, dirname, do.call, duplicated, eval, evalq, Filter, Find,\n",
      "    get, grep, grepl, intersect, is.unsorted, lapply, Map, mapply,\n",
      "    match, mget, order, paste, pmax, pmax.int, pmin, pmin.int,\n",
      "    Position, rank, rbind, Reduce, rownames, sapply, setdiff, table,\n",
      "    tapply, union, unique, unsplit, which.max, which.min\n",
      "\n",
      "\n",
      "Welcome to Bioconductor\n",
      "\n",
      "    Vignettes contain introductory material; view with\n",
      "    'browseVignettes()'. To cite Bioconductor, see\n",
      "    'citation(\"Biobase\")', and for packages 'citation(\"pkgname\")'.\n",
      "\n",
      "\n",
      "Loading required package: SingleCellExperiment\n",
      "\n",
      "Loading required package: SummarizedExperiment\n",
      "\n",
      "Loading required package: MatrixGenerics\n",
      "\n",
      "Loading required package: matrixStats\n",
      "\n",
      "Warning message:\n",
      "“package ‘matrixStats’ was built under R version 4.4.1”\n",
      "\n",
      "Attaching package: ‘matrixStats’\n",
      "\n",
      "\n",
      "The following objects are masked from ‘package:Biobase’:\n",
      "\n",
      "    anyMissing, rowMedians\n",
      "\n",
      "\n",
      "\n",
      "Attaching package: ‘MatrixGenerics’\n",
      "\n",
      "\n",
      "The following objects are masked from ‘package:matrixStats’:\n",
      "\n",
      "    colAlls, colAnyNAs, colAnys, colAvgsPerRowSet, colCollapse,\n",
      "    colCounts, colCummaxs, colCummins, colCumprods, colCumsums,\n",
      "    colDiffs, colIQRDiffs, colIQRs, colLogSumExps, colMadDiffs,\n",
      "    colMads, colMaxs, colMeans2, colMedians, colMins, colOrderStats,\n",
      "    colProds, colQuantiles, colRanges, colRanks, colSdDiffs, colSds,\n",
      "    colSums2, colTabulates, colVarDiffs, colVars, colWeightedMads,\n",
      "    colWeightedMeans, colWeightedMedians, colWeightedSds,\n",
      "    colWeightedVars, rowAlls, rowAnyNAs, rowAnys, rowAvgsPerColSet,\n",
      "    rowCollapse, rowCounts, rowCummaxs, rowCummins, rowCumprods,\n",
      "    rowCumsums, rowDiffs, rowIQRDiffs, rowIQRs, rowLogSumExps,\n",
      "    rowMadDiffs, rowMads, rowMaxs, rowMeans2, rowMedians, rowMins,\n",
      "    rowOrderStats, rowProds, rowQuantiles, rowRanges, rowRanks,\n",
      "    rowSdDiffs, rowSds, rowSums2, rowTabulates, rowVarDiffs, rowVars,\n",
      "    rowWeightedMads, rowWeightedMeans, rowWeightedMedians,\n",
      "    rowWeightedSds, rowWeightedVars\n",
      "\n",
      "\n",
      "The following object is masked from ‘package:Biobase’:\n",
      "\n",
      "    rowMedians\n",
      "\n",
      "\n",
      "Loading required package: GenomicRanges\n",
      "\n",
      "Loading required package: stats4\n",
      "\n",
      "Loading required package: S4Vectors\n",
      "\n",
      "Warning message:\n",
      "“package ‘S4Vectors’ was built under R version 4.4.1”\n",
      "\n",
      "Attaching package: ‘S4Vectors’\n",
      "\n",
      "\n",
      "The following object is masked from ‘package:utils’:\n",
      "\n",
      "    findMatches\n",
      "\n",
      "\n",
      "The following objects are masked from ‘package:base’:\n",
      "\n",
      "    expand.grid, I, unname\n",
      "\n",
      "\n",
      "Loading required package: IRanges\n",
      "\n",
      "Warning message:\n",
      "“package ‘IRanges’ was built under R version 4.4.1”\n",
      "\n",
      "Attaching package: ‘IRanges’\n",
      "\n",
      "\n",
      "The following object is masked from ‘package:sp’:\n",
      "\n",
      "    %over%\n",
      "\n",
      "\n",
      "Loading required package: GenomeInfoDb\n",
      "\n",
      "Warning message:\n",
      "“package ‘GenomeInfoDb’ was built under R version 4.4.1”\n",
      "\n",
      "Attaching package: ‘SummarizedExperiment’\n",
      "\n",
      "\n",
      "The following object is masked from ‘package:Seurat’:\n",
      "\n",
      "    Assays\n",
      "\n",
      "\n",
      "The following object is masked from ‘package:SeuratObject’:\n",
      "\n",
      "    Assays\n",
      "\n",
      "\n",
      "\n",
      "Attaching package: ‘monocle3’\n",
      "\n",
      "\n",
      "The following objects are masked from ‘package:Biobase’:\n",
      "\n",
      "    exprs, fData, fData<-, pData, pData<-\n",
      "\n",
      "\n",
      "\n",
      "Attaching package: ‘anndata’\n",
      "\n",
      "\n",
      "The following object is masked from ‘package:SeuratObject’:\n",
      "\n",
      "    Layers\n",
      "\n",
      "\n"
     ]
    }
   ],
   "source": [
    "library(Seurat)\n",
    "library(monocle3)\n",
    "pyenv = 'cellpath'\n",
    "\n",
    "library(anndata)\n",
    "library(reticulate)\n",
    "use_condaenv(pyenv, required = TRUE)"
   ]
  },
  {
   "cell_type": "code",
   "execution_count": 25,
   "metadata": {
    "vscode": {
     "languageId": "r"
    }
   },
   "outputs": [],
   "source": [
    "cds = readRDS('../data/CE_CB/for_qin_briggsae_elegans/cds_bg_20240903.rds')"
   ]
  },
  {
   "cell_type": "code",
   "execution_count": null,
   "metadata": {
    "vscode": {
     "languageId": "r"
    }
   },
   "outputs": [
    {
     "data": {
      "text/html": [
       "<style>\n",
       ".list-inline {list-style: none; margin:0; padding: 0}\n",
       ".list-inline>li {display: inline-block}\n",
       ".list-inline>li:not(:last-child)::after {content: \"\\00b7\"; padding: 0 .5ex}\n",
       "</style>\n",
       "<ol class=list-inline><li>'barcode'</li><li>'Size_Factor'</li><li>'n.umi'</li><li>'cell'</li><li>'sample.name'</li><li>'batch'</li><li>'time.point'</li><li>'species'</li><li>'suffix'</li><li>'sample'</li><li>'ws260_n.umi'</li><li>'ws260_Size_Factor'</li><li>'cell.type'</li><li>'cell.subtype'</li><li>'plot.cell.type'</li><li>'raw.embryo.time'</li><li>'embryo.time'</li><li>'lineage_packer'</li><li>'genotype'</li><li>'assigned_cell_type'</li><li>'to.filter'</li><li>'cluster.cell.type'</li><li>'cell.subtype.2'</li><li>'cluster'</li><li>'umi.quant'</li><li>'umap_1'</li><li>'umap_2'</li><li>'cell.class'</li><li>'joint.cell.subtype'</li><li>'round.2.doublets'</li><li>'tissue.type'</li><li>'mt.frac'</li><li>'round.1.cell.type'</li><li>'plot.ct'</li><li>'n.r1ct.scores.past.thresh'</li><li>'initial.cluster'</li><li>'max.score'</li><li>'br.cell.subtype'</li><li>'to.filter2'</li><li>'cell.old.name'</li><li>'to.filter.bkgd'</li><li>'br.broad.cell.type'</li><li>'cluster_seurat'</li><li>'jt_cell_class'</li><li>'smoothed.embryo.time'</li><li>'embryo.time.bin'</li><li>'jt.cell.class.time.bin'</li><li>'jt.cell.subtype2'</li><li>'old_cds_barcodes'</li><li>'manual_lineage'</li><li>'lineage_auto_briggsae'</li><li>'manual_lineage2'</li><li>'db.version'</li><li>'batch4'</li><li>'batch3'</li><li>'batch_300'</li><li>'batch_400'</li><li>'batch_500'</li><li>'batch_120'</li><li>'batch_180'</li><li>'batch_240'</li><li>'batch_360'</li><li>'cell_short'</li><li>'source'</li><li>'ws260_cell'</li><li>'global_cluster'</li><li>'supp.cell.type'</li><li>'supp.cell.type2'</li><li>'supp.cell.type3'</li><li>'est.bg.prop.mus'</li><li>'est.bg.prop.hyp'</li><li>'est.bg.prop.both'</li><li>'est.bg.prop'</li><li>'dataset'</li><li>'dataset2'</li><li>'dataset3'</li><li>'cell_type'</li><li>'filter'</li><li>'cel_lineage_specific'</li><li>'cbr_lineage_specific'</li><li>'cel_lineage_broad'</li><li>'cbr_lineage_broad'</li><li>'lineage_broad'</li><li>'lineage_specific'</li><li>'cel_lineage_complete'</li><li>'cbr_lineage_complete'</li><li>'lineage_complete'</li><li>'germline_pseudotime'</li><li>'global_local_cluster'</li></ol>\n"
      ],
      "text/latex": [
       "\\begin{enumerate*}\n",
       "\\item 'barcode'\n",
       "\\item 'Size\\_Factor'\n",
       "\\item 'n.umi'\n",
       "\\item 'cell'\n",
       "\\item 'sample.name'\n",
       "\\item 'batch'\n",
       "\\item 'time.point'\n",
       "\\item 'species'\n",
       "\\item 'suffix'\n",
       "\\item 'sample'\n",
       "\\item 'ws260\\_n.umi'\n",
       "\\item 'ws260\\_Size\\_Factor'\n",
       "\\item 'cell.type'\n",
       "\\item 'cell.subtype'\n",
       "\\item 'plot.cell.type'\n",
       "\\item 'raw.embryo.time'\n",
       "\\item 'embryo.time'\n",
       "\\item 'lineage\\_packer'\n",
       "\\item 'genotype'\n",
       "\\item 'assigned\\_cell\\_type'\n",
       "\\item 'to.filter'\n",
       "\\item 'cluster.cell.type'\n",
       "\\item 'cell.subtype.2'\n",
       "\\item 'cluster'\n",
       "\\item 'umi.quant'\n",
       "\\item 'umap\\_1'\n",
       "\\item 'umap\\_2'\n",
       "\\item 'cell.class'\n",
       "\\item 'joint.cell.subtype'\n",
       "\\item 'round.2.doublets'\n",
       "\\item 'tissue.type'\n",
       "\\item 'mt.frac'\n",
       "\\item 'round.1.cell.type'\n",
       "\\item 'plot.ct'\n",
       "\\item 'n.r1ct.scores.past.thresh'\n",
       "\\item 'initial.cluster'\n",
       "\\item 'max.score'\n",
       "\\item 'br.cell.subtype'\n",
       "\\item 'to.filter2'\n",
       "\\item 'cell.old.name'\n",
       "\\item 'to.filter.bkgd'\n",
       "\\item 'br.broad.cell.type'\n",
       "\\item 'cluster\\_seurat'\n",
       "\\item 'jt\\_cell\\_class'\n",
       "\\item 'smoothed.embryo.time'\n",
       "\\item 'embryo.time.bin'\n",
       "\\item 'jt.cell.class.time.bin'\n",
       "\\item 'jt.cell.subtype2'\n",
       "\\item 'old\\_cds\\_barcodes'\n",
       "\\item 'manual\\_lineage'\n",
       "\\item 'lineage\\_auto\\_briggsae'\n",
       "\\item 'manual\\_lineage2'\n",
       "\\item 'db.version'\n",
       "\\item 'batch4'\n",
       "\\item 'batch3'\n",
       "\\item 'batch\\_300'\n",
       "\\item 'batch\\_400'\n",
       "\\item 'batch\\_500'\n",
       "\\item 'batch\\_120'\n",
       "\\item 'batch\\_180'\n",
       "\\item 'batch\\_240'\n",
       "\\item 'batch\\_360'\n",
       "\\item 'cell\\_short'\n",
       "\\item 'source'\n",
       "\\item 'ws260\\_cell'\n",
       "\\item 'global\\_cluster'\n",
       "\\item 'supp.cell.type'\n",
       "\\item 'supp.cell.type2'\n",
       "\\item 'supp.cell.type3'\n",
       "\\item 'est.bg.prop.mus'\n",
       "\\item 'est.bg.prop.hyp'\n",
       "\\item 'est.bg.prop.both'\n",
       "\\item 'est.bg.prop'\n",
       "\\item 'dataset'\n",
       "\\item 'dataset2'\n",
       "\\item 'dataset3'\n",
       "\\item 'cell\\_type'\n",
       "\\item 'filter'\n",
       "\\item 'cel\\_lineage\\_specific'\n",
       "\\item 'cbr\\_lineage\\_specific'\n",
       "\\item 'cel\\_lineage\\_broad'\n",
       "\\item 'cbr\\_lineage\\_broad'\n",
       "\\item 'lineage\\_broad'\n",
       "\\item 'lineage\\_specific'\n",
       "\\item 'cel\\_lineage\\_complete'\n",
       "\\item 'cbr\\_lineage\\_complete'\n",
       "\\item 'lineage\\_complete'\n",
       "\\item 'germline\\_pseudotime'\n",
       "\\item 'global\\_local\\_cluster'\n",
       "\\end{enumerate*}\n"
      ],
      "text/markdown": [
       "1. 'barcode'\n",
       "2. 'Size_Factor'\n",
       "3. 'n.umi'\n",
       "4. 'cell'\n",
       "5. 'sample.name'\n",
       "6. 'batch'\n",
       "7. 'time.point'\n",
       "8. 'species'\n",
       "9. 'suffix'\n",
       "10. 'sample'\n",
       "11. 'ws260_n.umi'\n",
       "12. 'ws260_Size_Factor'\n",
       "13. 'cell.type'\n",
       "14. 'cell.subtype'\n",
       "15. 'plot.cell.type'\n",
       "16. 'raw.embryo.time'\n",
       "17. 'embryo.time'\n",
       "18. 'lineage_packer'\n",
       "19. 'genotype'\n",
       "20. 'assigned_cell_type'\n",
       "21. 'to.filter'\n",
       "22. 'cluster.cell.type'\n",
       "23. 'cell.subtype.2'\n",
       "24. 'cluster'\n",
       "25. 'umi.quant'\n",
       "26. 'umap_1'\n",
       "27. 'umap_2'\n",
       "28. 'cell.class'\n",
       "29. 'joint.cell.subtype'\n",
       "30. 'round.2.doublets'\n",
       "31. 'tissue.type'\n",
       "32. 'mt.frac'\n",
       "33. 'round.1.cell.type'\n",
       "34. 'plot.ct'\n",
       "35. 'n.r1ct.scores.past.thresh'\n",
       "36. 'initial.cluster'\n",
       "37. 'max.score'\n",
       "38. 'br.cell.subtype'\n",
       "39. 'to.filter2'\n",
       "40. 'cell.old.name'\n",
       "41. 'to.filter.bkgd'\n",
       "42. 'br.broad.cell.type'\n",
       "43. 'cluster_seurat'\n",
       "44. 'jt_cell_class'\n",
       "45. 'smoothed.embryo.time'\n",
       "46. 'embryo.time.bin'\n",
       "47. 'jt.cell.class.time.bin'\n",
       "48. 'jt.cell.subtype2'\n",
       "49. 'old_cds_barcodes'\n",
       "50. 'manual_lineage'\n",
       "51. 'lineage_auto_briggsae'\n",
       "52. 'manual_lineage2'\n",
       "53. 'db.version'\n",
       "54. 'batch4'\n",
       "55. 'batch3'\n",
       "56. 'batch_300'\n",
       "57. 'batch_400'\n",
       "58. 'batch_500'\n",
       "59. 'batch_120'\n",
       "60. 'batch_180'\n",
       "61. 'batch_240'\n",
       "62. 'batch_360'\n",
       "63. 'cell_short'\n",
       "64. 'source'\n",
       "65. 'ws260_cell'\n",
       "66. 'global_cluster'\n",
       "67. 'supp.cell.type'\n",
       "68. 'supp.cell.type2'\n",
       "69. 'supp.cell.type3'\n",
       "70. 'est.bg.prop.mus'\n",
       "71. 'est.bg.prop.hyp'\n",
       "72. 'est.bg.prop.both'\n",
       "73. 'est.bg.prop'\n",
       "74. 'dataset'\n",
       "75. 'dataset2'\n",
       "76. 'dataset3'\n",
       "77. 'cell_type'\n",
       "78. 'filter'\n",
       "79. 'cel_lineage_specific'\n",
       "80. 'cbr_lineage_specific'\n",
       "81. 'cel_lineage_broad'\n",
       "82. 'cbr_lineage_broad'\n",
       "83. 'lineage_broad'\n",
       "84. 'lineage_specific'\n",
       "85. 'cel_lineage_complete'\n",
       "86. 'cbr_lineage_complete'\n",
       "87. 'lineage_complete'\n",
       "88. 'germline_pseudotime'\n",
       "89. 'global_local_cluster'\n",
       "\n",
       "\n"
      ],
      "text/plain": [
       " [1] \"barcode\"                   \"Size_Factor\"              \n",
       " [3] \"n.umi\"                     \"cell\"                     \n",
       " [5] \"sample.name\"               \"batch\"                    \n",
       " [7] \"time.point\"                \"species\"                  \n",
       " [9] \"suffix\"                    \"sample\"                   \n",
       "[11] \"ws260_n.umi\"               \"ws260_Size_Factor\"        \n",
       "[13] \"cell.type\"                 \"cell.subtype\"             \n",
       "[15] \"plot.cell.type\"            \"raw.embryo.time\"          \n",
       "[17] \"embryo.time\"               \"lineage_packer\"           \n",
       "[19] \"genotype\"                  \"assigned_cell_type\"       \n",
       "[21] \"to.filter\"                 \"cluster.cell.type\"        \n",
       "[23] \"cell.subtype.2\"            \"cluster\"                  \n",
       "[25] \"umi.quant\"                 \"umap_1\"                   \n",
       "[27] \"umap_2\"                    \"cell.class\"               \n",
       "[29] \"joint.cell.subtype\"        \"round.2.doublets\"         \n",
       "[31] \"tissue.type\"               \"mt.frac\"                  \n",
       "[33] \"round.1.cell.type\"         \"plot.ct\"                  \n",
       "[35] \"n.r1ct.scores.past.thresh\" \"initial.cluster\"          \n",
       "[37] \"max.score\"                 \"br.cell.subtype\"          \n",
       "[39] \"to.filter2\"                \"cell.old.name\"            \n",
       "[41] \"to.filter.bkgd\"            \"br.broad.cell.type\"       \n",
       "[43] \"cluster_seurat\"            \"jt_cell_class\"            \n",
       "[45] \"smoothed.embryo.time\"      \"embryo.time.bin\"          \n",
       "[47] \"jt.cell.class.time.bin\"    \"jt.cell.subtype2\"         \n",
       "[49] \"old_cds_barcodes\"          \"manual_lineage\"           \n",
       "[51] \"lineage_auto_briggsae\"     \"manual_lineage2\"          \n",
       "[53] \"db.version\"                \"batch4\"                   \n",
       "[55] \"batch3\"                    \"batch_300\"                \n",
       "[57] \"batch_400\"                 \"batch_500\"                \n",
       "[59] \"batch_120\"                 \"batch_180\"                \n",
       "[61] \"batch_240\"                 \"batch_360\"                \n",
       "[63] \"cell_short\"                \"source\"                   \n",
       "[65] \"ws260_cell\"                \"global_cluster\"           \n",
       "[67] \"supp.cell.type\"            \"supp.cell.type2\"          \n",
       "[69] \"supp.cell.type3\"           \"est.bg.prop.mus\"          \n",
       "[71] \"est.bg.prop.hyp\"           \"est.bg.prop.both\"         \n",
       "[73] \"est.bg.prop\"               \"dataset\"                  \n",
       "[75] \"dataset2\"                  \"dataset3\"                 \n",
       "[77] \"cell_type\"                 \"filter\"                   \n",
       "[79] \"cel_lineage_specific\"      \"cbr_lineage_specific\"     \n",
       "[81] \"cel_lineage_broad\"         \"cbr_lineage_broad\"        \n",
       "[83] \"lineage_broad\"             \"lineage_specific\"         \n",
       "[85] \"cel_lineage_complete\"      \"cbr_lineage_complete\"     \n",
       "[87] \"lineage_complete\"          \"germline_pseudotime\"      \n",
       "[89] \"global_local_cluster\"     "
      ]
     },
     "metadata": {},
     "output_type": "display_data"
    }
   ],
   "source": [
    "colnames(pData(cds))"
   ]
  },
  {
   "cell_type": "code",
   "execution_count": 5,
   "metadata": {
    "vscode": {
     "languageId": "r"
    }
   },
   "outputs": [],
   "source": [
    "seurat_obj = readRDS(\"../data/CE_CB/for_qin_briggsae_elegans/seurat_rpca_integration_joined_20240823.rds\")"
   ]
  },
  {
   "cell_type": "code",
   "execution_count": 42,
   "metadata": {
    "vscode": {
     "languageId": "r"
    }
   },
   "outputs": [
    {
     "data": {
      "text/plain": [
       "\n",
       " damaged  doublet   mutant stressed \n",
       "    7164    14746       45       19 "
      ]
     },
     "metadata": {},
     "output_type": "display_data"
    }
   ],
   "source": [
    "table(pData(cds)[!colnames(cds) %in% colnames(seurat_obj),]$filter)"
   ]
  },
  {
   "cell_type": "code",
   "execution_count": 8,
   "metadata": {
    "vscode": {
     "languageId": "r"
    }
   },
   "outputs": [
    {
     "data": {
      "text/html": [
       "<style>\n",
       ".list-inline {list-style: none; margin:0; padding: 0}\n",
       ".list-inline>li {display: inline-block}\n",
       ".list-inline>li:not(:last-child)::after {content: \"\\00b7\"; padding: 0 .5ex}\n",
       "</style>\n",
       "<ol class=list-inline><li>403200</li><li>300</li></ol>\n"
      ],
      "text/latex": [
       "\\begin{enumerate*}\n",
       "\\item 403200\n",
       "\\item 300\n",
       "\\end{enumerate*}\n"
      ],
      "text/markdown": [
       "1. 403200\n",
       "2. 300\n",
       "\n",
       "\n"
      ],
      "text/plain": [
       "[1] 403200    300"
      ]
     },
     "metadata": {},
     "output_type": "display_data"
    }
   ],
   "source": [
    "dim(seurat_obj@reductions$integrated.rpca@cell.embeddings)"
   ]
  },
  {
   "cell_type": "code",
   "execution_count": 11,
   "metadata": {
    "vscode": {
     "languageId": "r"
    }
   },
   "outputs": [
    {
     "data": {
      "text/html": [
       "TRUE"
      ],
      "text/latex": [
       "TRUE"
      ],
      "text/markdown": [
       "TRUE"
      ],
      "text/plain": [
       "[1] TRUE"
      ]
     },
     "metadata": {},
     "output_type": "display_data"
    }
   ],
   "source": [
    "# Check if all cells in seurat_obj are in cds\n",
    "all(colnames(seurat_obj) %in% colnames(cds))"
   ]
  },
  {
   "cell_type": "code",
   "execution_count": null,
   "metadata": {
    "vscode": {
     "languageId": "r"
    }
   },
   "outputs": [],
   "source": [
    "# Subset cds to only include cells in seurat_obj\n",
    "cds_match = cds[,colnames(seurat_obj)]\n",
    "pmeta = as.data.frame(pData(cds_match))"
   ]
  },
  {
   "cell_type": "code",
   "execution_count": 23,
   "metadata": {
    "vscode": {
     "languageId": "r"
    }
   },
   "outputs": [],
   "source": [
    "fmeta <- data.frame(gene_id = rownames(seurat_obj))\n",
    "rownames(fmeta) <- rownames(seurat_obj)\n",
    "seurat_obj@meta.data$filter <- NULL\n",
    "adata <- AnnData(\n",
    "    X =  t(seurat_obj@assays$RNA@layers$counts),\n",
    "    obs = pmeta,\n",
    "    var = fmeta,\n",
    ")\n",
    "# add obsm\n",
    "for (key in names(seurat_obj@reductions)) {\n",
    "    adata$obsm[[key]] <- seurat_obj@reductions[[key]]@cell.embeddings\n",
    "}\n"
   ]
  },
  {
   "cell_type": "code",
   "execution_count": 24,
   "metadata": {
    "vscode": {
     "languageId": "r"
    }
   },
   "outputs": [
    {
     "data": {
      "text/plain": [
       "None"
      ]
     },
     "metadata": {},
     "output_type": "display_data"
    }
   ],
   "source": [
    "adata$write_h5ad('../data/CE_CB/adata_cbce_1217.h5ad')"
   ]
  },
  {
   "cell_type": "code",
   "execution_count": 30,
   "metadata": {
    "vscode": {
     "languageId": "r"
    }
   },
   "outputs": [],
   "source": [
    "fmeta <- as.data.frame(fData(cds))\n",
    "pmeta <- as.data.frame(pData(cds))\n",
    "adata <- AnnData(\n",
    "    X =  t(exprs(cds)),\n",
    "    obs = pmeta,\n",
    "    var = fmeta,\n",
    ")\n"
   ]
  },
  {
   "cell_type": "code",
   "execution_count": 31,
   "metadata": {
    "vscode": {
     "languageId": "r"
    }
   },
   "outputs": [],
   "source": [
    "# add obsm\n",
    "for (key in names(seurat_obj@reductions)) {\n",
    "    adata$obsm[[key]] <- seurat_obj@reductions[[key]]@cell.embeddings[match(rownames(adata), colnames(seurat_obj)),]\n",
    "}\n"
   ]
  },
  {
   "cell_type": "code",
   "execution_count": 39,
   "metadata": {
    "vscode": {
     "languageId": "r"
    }
   },
   "outputs": [
    {
     "data": {
      "text/plain": [
       "None"
      ]
     },
     "metadata": {},
     "output_type": "display_data"
    }
   ],
   "source": [
    "adata$write_h5ad('../data/CE_CB/adata_cbce_1217_fullcds.h5ad')"
   ]
  },
  {
   "cell_type": "code",
   "execution_count": null,
   "metadata": {
    "vscode": {
     "languageId": "r"
    }
   },
   "outputs": [],
   "source": []
  }
 ],
 "metadata": {
  "kernelspec": {
   "display_name": "R",
   "language": "R",
   "name": "ir"
  },
  "language_info": {
   "codemirror_mode": "r",
   "file_extension": ".r",
   "mimetype": "text/x-r-source",
   "name": "R",
   "pygments_lexer": "r",
   "version": "4.3.3"
  }
 },
 "nbformat": 4,
 "nbformat_minor": 2
}
