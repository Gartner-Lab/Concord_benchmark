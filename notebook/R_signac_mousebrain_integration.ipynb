{
 "cells": [
  {
   "cell_type": "markdown",
   "id": "765f7b84",
   "metadata": {},
   "source": [
    "## Mouse brain scATAC signac integration"
   ]
  },
  {
   "cell_type": "code",
   "execution_count": 1,
   "id": "964f8d6e",
   "metadata": {
    "vscode": {
     "languageId": "r"
    }
   },
   "outputs": [
    {
     "name": "stderr",
     "output_type": "stream",
     "text": [
      "Loading required package: SeuratObject\n",
      "\n",
      "Loading required package: sp\n",
      "\n",
      "'SeuratObject' was built under R 4.4.0 but the current version is\n",
      "4.4.2; it is recomended that you reinstall 'SeuratObject' as the ABI\n",
      "for R may have changed\n",
      "\n",
      "'SeuratObject' was built with package 'Matrix' 1.7.0 but the current\n",
      "version is 1.7.1; it is recomended that you reinstall 'SeuratObject' as\n",
      "the ABI for 'Matrix' may have changed\n",
      "\n",
      "\n",
      "Attaching package: 'SeuratObject'\n",
      "\n",
      "\n",
      "The following objects are masked from 'package:base':\n",
      "\n",
      "    intersect, t\n",
      "\n",
      "\n"
     ]
    }
   ],
   "source": [
    "library(Signac)\n",
    "library(Seurat)\n",
    "library(patchwork)\n",
    "set.seed(1234)"
   ]
  },
  {
   "cell_type": "code",
   "execution_count": null,
   "id": "40e9d29d",
   "metadata": {
    "vscode": {
     "languageId": "r"
    }
   },
   "outputs": [],
   "source": [
    "data_path = \"../data/mouse_brain_atac_2018/\"\n",
    "\n",
    "# this object was created following the mouse brain vignette\n",
    "tenx <- readRDS(file = paste0(data_path,\"/adult_mouse_brain.rds\")\n",
    "tenx$tech <- '10x'\n",
    "tenx$celltype <- Idents(tenx)\n",
    "\n",
    "sci.metadata <- read.table(\n",
    "  file = \"../vignette_data/sci/cell_metadata.txt\",\n",
    "  header = TRUE,\n",
    "  row.names = 1,\n",
    "  sep = \"\\t\"\n",
    ")\n",
    "# subset to include only the brain data\n",
    "sci.metadata <- sci.metadata[sci.metadata$tissue == 'PreFrontalCortex', ]\n",
    "sci.counts <- readRDS(file = \"../vignette_data/sci/atac_matrix.binary.qc_filtered.rds\")\n",
    "sci.counts <- sci.counts[, rownames(x = sci.metadata)]"
   ]
  }
 ],
 "metadata": {
  "kernelspec": {
   "display_name": "R",
   "language": "R",
   "name": "ir"
  },
  "language_info": {
   "codemirror_mode": "r",
   "file_extension": ".r",
   "mimetype": "text/x-r-source",
   "name": "R",
   "pygments_lexer": "r",
   "version": "4.4.2"
  }
 },
 "nbformat": 4,
 "nbformat_minor": 5
}
