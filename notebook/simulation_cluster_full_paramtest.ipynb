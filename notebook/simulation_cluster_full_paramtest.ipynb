{
 "cells": [
  {
   "cell_type": "markdown",
   "metadata": {},
   "source": [
    "# Simulation using Concord"
   ]
  },
  {
   "cell_type": "code",
   "execution_count": null,
   "metadata": {},
   "outputs": [],
   "source": [
    "%load_ext autoreload\n",
    "%autoreload 2"
   ]
  },
  {
   "cell_type": "code",
   "execution_count": null,
   "metadata": {},
   "outputs": [],
   "source": [
    "import numpy as np\n",
    "import scanpy as sc\n",
    "import time\n",
    "from pathlib import Path\n",
    "import torch\n",
    "import Concord as ccd\n",
    "import warnings\n",
    "warnings.filterwarnings('ignore')\n",
    "%matplotlib inline\n",
    "import matplotlib as mpl\n",
    "\n",
    "from matplotlib import font_manager, rcParams\n",
    "custom_rc = {\n",
    "    'font.family': 'Arial',  # Set the desired font for this plot\n",
    "}\n",
    "\n",
    "mpl.rcParams['svg.fonttype'] = 'none'\n",
    "mpl.rcParams['pdf.fonttype'] = 42"
   ]
  },
  {
   "cell_type": "code",
   "execution_count": null,
   "metadata": {},
   "outputs": [],
   "source": [
    "proj_name = \"simulation_cluster\"\n",
    "save_dir = f\"../save/dev_{proj_name}-{time.strftime('%b%d')}/\"\n",
    "save_dir = Path(save_dir)\n",
    "save_dir.mkdir(parents=True, exist_ok=True)\n",
    "\n",
    "data_dir = f\"../data/{proj_name}/\"\n",
    "data_dir = Path(data_dir)\n",
    "data_dir.mkdir(parents=True, exist_ok=True)\n",
    "device = torch.device('cuda:3' if torch.cuda.is_available() else 'cpu')\n",
    "print(device)\n",
    "seed = 0\n",
    "ccd.ul.set_seed(seed)\n",
    "\n",
    "file_suffix = f\"{time.strftime('%b%d-%H%M')}\"\n",
    "file_suffix"
   ]
  },
  {
   "cell_type": "code",
   "execution_count": 4,
   "metadata": {},
   "outputs": [],
   "source": [
    "state_key = 'cluster'\n",
    "batch_key = 'batch'\n",
    "state_type = 'cluster'\n",
    "leiden_key='leiden'\n",
    "batch_type = 'batch_specific_features'\n",
    "distribution = 'normal'\n",
    "n_cells = [200,100,100,50,30]\n",
    "n_genes = [100,100,50,30,20]\n",
    "state_dispersion = [5.0,4.0,4.0,3.0,2.0]"
   ]
  },
  {
   "cell_type": "code",
   "execution_count": null,
   "metadata": {},
   "outputs": [],
   "source": [
    "from Concord.utils.simulation import Simulation\n",
    "\n",
    "# Create an instance of the Simulation class\n",
    "\n",
    "sim = Simulation(n_cells=n_cells, n_genes=n_genes,\n",
    "                 n_batches=2, n_states=5, \n",
    "                 state_type=state_type, \n",
    "                 state_distribution = distribution, \n",
    "                 state_level=5, \n",
    "                 state_min_level=0,\n",
    "                 state_dispersion=[5.0,4.0,4.0,3.0,2.0], \n",
    "                 program_structure=\"uniform\",\n",
    "                 program_on_time_fraction=0.3,\n",
    "                 trajectory_program_num=4,\n",
    "                 trajectory_loop_to=[1],\n",
    "                 batch_feature_frac=0.15,\n",
    "                 batch_distribution = distribution,\n",
    "                 batch_type=batch_type, \n",
    "                 batch_level=[5,5], \n",
    "                 batch_dispersion=[3.0, 3.0], \n",
    "                 global_non_specific_gene_fraction=0.1,\n",
    "                 pairwise_non_specific_gene_fraction={\n",
    "                     (0,1):0.7, (0,2):0.0, (0,3):0.0, (0,4):0.0, \n",
    "                     (1,2):0.0, (1,3):0.0, (1,4):0.0, \n",
    "                     (2,3):0.4, (2,4):0.0,\n",
    "                     (3,4):0.0\n",
    "                 },\n",
    "                 non_neg=True, to_int=True,\n",
    "                 seed=seed)\n",
    "\n",
    "# Generate the simulated data\n",
    "adata, adata_state = sim.simulate_data()\n",
    "adata.layers['counts'] = adata.X.copy()"
   ]
  },
  {
   "cell_type": "code",
   "execution_count": null,
   "metadata": {},
   "outputs": [],
   "source": [
    "ccd.pl.heatmap_with_annotations(adata_state, val='no_noise', obs_keys=[state_key], yticklabels=False, cluster_cols=False, cluster_rows=False, value_annot=False, cmap='viridis', title='True state', save_path=save_dir/f'true_state_heatmap_{file_suffix}.png', figsize=(6, 4), dpi=300)\n",
    "ccd.pl.heatmap_with_annotations(adata_state, val='wt_noise', obs_keys=[state_key], yticklabels=False, cluster_cols=False, cluster_rows=False, value_annot=False, cmap='viridis', title='True state with noise', save_path=save_dir/f'true_state_with_noise_heatmap_{file_suffix}.png', figsize=(6, 4), dpi=300)\n",
    "ccd.pl.heatmap_with_annotations(adata, val='X', obs_keys=[state_key, batch_key], yticklabels=False, cluster_cols=False, cluster_rows=False, value_annot=False, cmap='viridis', title='Simulated data with batch signal', save_path=save_dir/f'simulated_data_heatmap_{file_suffix}.png', figsize=(6, 4), dpi=300)"
   ]
  },
  {
   "cell_type": "markdown",
   "metadata": {},
   "source": [
    "### No batch effect, no noise"
   ]
  },
  {
   "cell_type": "code",
   "execution_count": null,
   "metadata": {},
   "outputs": [],
   "source": [
    "ccd.ul.run_pca(adata_state, source_key='no_noise', result_key='PCA_no_noise', n_pc=30, random_state=seed)\n",
    "ccd.ul.run_umap(adata_state, source_key='PCA_no_noise', result_key='UMAP_no_noise', random_state=seed)"
   ]
  },
  {
   "cell_type": "markdown",
   "metadata": {},
   "source": [
    "### NO batch effect, noise added, PCA and UMAP"
   ]
  },
  {
   "cell_type": "code",
   "execution_count": 70,
   "metadata": {},
   "outputs": [],
   "source": [
    "adata_state.X = adata_state.layers['wt_noise'].copy()\n",
    "ccd.ul.run_pca(adata_state, source_key='wt_noise', result_key='PCA_wt_noise', n_pc=30, random_state=seed)\n",
    "ccd.ul.run_umap(adata_state, source_key='PCA_wt_noise', result_key='UMAP_wt_noise', random_state=seed)"
   ]
  },
  {
   "cell_type": "markdown",
   "metadata": {},
   "source": [
    "### No batch correction, PCA and UMAP"
   ]
  },
  {
   "cell_type": "code",
   "execution_count": 12,
   "metadata": {},
   "outputs": [],
   "source": [
    "n_pcs = min(adata.n_obs, adata.n_vars)-1\n",
    "sc.pp.pca(adata, n_comps=n_pcs)\n",
    "sc.pp.neighbors(adata, n_neighbors=30, n_pcs=n_pcs)\n",
    "sc.tl.umap(adata, min_dist=0.5)\n",
    "adata.obsm[\"Unintegrated\"] = adata.obsm[\"X_pca\"]"
   ]
  },
  {
   "cell_type": "markdown",
   "metadata": {},
   "source": [
    "### Concord"
   ]
  },
  {
   "cell_type": "code",
   "execution_count": 56,
   "metadata": {},
   "outputs": [],
   "source": [
    "import copy\n",
    "\n",
    "# -------------------------------------\n",
    "# 1. Define base arguments (defaults)\n",
    "# -------------------------------------\n",
    "concord_args_base = {\n",
    "    'domain_key': batch_key,\n",
    "    'verbose': False,\n",
    "    'inplace': True,\n",
    "    'use_faiss': False,\n",
    "    'seed': seed,\n",
    "    'device': device,\n",
    "    'save_dir': save_dir,\n",
    "    # Put your default values here:\n",
    "    'use_decoder':False,\n",
    "    'batch_size': 64,\n",
    "    'n_epochs': 10,\n",
    "    'latent_dim': 32,\n",
    "    'min_p_intra_domain': 0.95,\n",
    "    'augmentation_mask_prob': 0.5,\n",
    "    'p_intra_knn': 0.3,\n",
    "    'clr_temperature': 0.5,\n",
    "    'sampler_knn': 30\n",
    "}\n"
   ]
  },
  {
   "cell_type": "code",
   "execution_count": null,
   "metadata": {},
   "outputs": [],
   "source": [
    "# -------------------------------------\n",
    "# 2. Prepare dictionary of parameter variations\n",
    "#    (one parameter at a time)\n",
    "# -------------------------------------\n",
    "param_variations = {\n",
    "    'use_decoder': [True, False],               # Example: vary use_decoder\n",
    "    'batch_size': [16, 32, 64, 128, 256],           # Example: vary batch size\n",
    "    'n_epochs': [1, 3, 5, 10, 20],             # Example: vary # epochs\n",
    "    'latent_dim': [4, 8, 16, 32, 64],          # Example: vary latent dimension\n",
    "    'min_p_intra_domain': [0.0, 0.1, 0.2, 0.3, 0.4, 0.5, 0.6, 0.7, 0.8, 0.9, 0.95, 0.99, 1.0],  # Example: vary min_p_intra_domain\n",
    "    'augmentation_mask_prob': [0.1, 0.2, 0.3, 0.4, 0.5, 0.6, 0.7, 0.8, 0.9],  # Example: vary augmentation_mask_prob\n",
    "    'p_intra_knn': [0.0, 0.1, 0.2, 0.3, 0.4, 0.5, 0.6, 0.7, 0.8, 0.9, 1.0],  # Example: vary p_intra_knn\n",
    "    'clr_temperature': [0.01, 0.1, 0.2, 0.3, 0.4, 0.5, 0.6, 0.7, 0.8, 0.9, 1.0, 2.0],  # Example: vary clr_temperature\n",
    "    'sampler_knn': [5, 10, 20, 30, 40, 50, 100]  # Example: vary sampler_knn\n",
    "}\n",
    "\n",
    "# -------------------------------------\n",
    "# 3. Loop over each parameter to vary\n",
    "# -------------------------------------\n",
    "for param_name, values in param_variations.items():\n",
    "    print(f\"\\n[INFO] Varying '{param_name}' with possible values: {values}\\n\")\n",
    "    \n",
    "    for value in values:\n",
    "        # 3a. Copy the base arguments\n",
    "        concord_args = copy.deepcopy(concord_args_base)\n",
    "        \n",
    "        # 3b. Update the specific parameter we want to vary\n",
    "        concord_args[param_name] = value\n",
    "        \n",
    "        # 3c. Indicate which param is varied and to which value\n",
    "        output_key = f\"Concord_{param_name}_{value}\"\n",
    "        umap_key   = f\"Concord_UMAP_2D_euc_{param_name}_{value}\"\n",
    "\n",
    "        print(f\"[INFO] Running Concord with {param_name} = {value}\")\n",
    "        \n",
    "        # -------------------------------------\n",
    "        # 4. Run Concord\n",
    "        # -------------------------------------\n",
    "        cur_ccd = ccd.Concord(adata, **concord_args)\n",
    "\n",
    "        # Encode data, saving the latent embedding in adata.obsm[output_key]\n",
    "        cur_ccd.encode_adata(\n",
    "            input_layer_key='X',\n",
    "            output_key=output_key,\n",
    "            preprocess=False\n",
    "        )\n",
    "        \n",
    "        # -------------------------------------\n",
    "        # 5. (Optional) run UMAP on the new embedding\n",
    "        # -------------------------------------\n",
    "        ccd.ul.run_umap(\n",
    "            adata,\n",
    "            source_key=output_key,\n",
    "            result_key=umap_key,\n",
    "            n_components=2,\n",
    "            n_neighbors=30,\n",
    "            min_dist=0.5,\n",
    "            metric='euclidean',\n",
    "            random_state=seed\n",
    "        )\n",
    "        \n",
    "\n",
    "print(\"[DONE] Finished varying each parameter individually.\")\n"
   ]
  },
  {
   "cell_type": "code",
   "execution_count": null,
   "metadata": {},
   "outputs": [],
   "source": [
    "show_cols = [state_key, batch_key]\n",
    "# Loop over each parameter you varied\n",
    "for param_name, values in param_variations.items():\n",
    "    for value in values:\n",
    "        # Construct the name of the embedding key.\n",
    "        # Make sure it matches exactly how you stored it in adata.obsm.\n",
    "        show_basis = f\"Concord_UMAP_2D_euc_{param_name}_{value}\"\n",
    "\n",
    "        # Optional: create a file suffix or descriptive filename\n",
    "        file_suffix = f\"{param_name}_{value}\"\n",
    "        \n",
    "        # Plot\n",
    "        print(f\"Plotting UMAP embedding: '{show_basis}'\")\n",
    "        ccd.pl.plot_embedding(\n",
    "            adata,\n",
    "            show_basis,   # embedding key\n",
    "            show_cols,     # which columns to color by\n",
    "            figsize=(3,1.5),\n",
    "            dpi=600,\n",
    "            ncols=2,\n",
    "            font_size=5,\n",
    "            point_size=2,\n",
    "            legend_loc='on data',\n",
    "            pal={\n",
    "                'cluster': 'Set1',\n",
    "                'batch': 'Set2',\n",
    "            },\n",
    "            # Save each figure with a unique name\n",
    "            save_path=save_dir / f\"{show_basis}_{file_suffix}.pdf\"\n",
    "        )\n",
    "\n",
    "print(\"[DONE] All plots generated.\")"
   ]
  },
  {
   "cell_type": "code",
   "execution_count": null,
   "metadata": {},
   "outputs": [],
   "source": [
    "show_cols = [state_key, batch_key]\n",
    "show_basis = 'Concord_UMAP_2D_euc_use_decoder_True'   \n",
    "ccd.pl.plot_embedding(\n",
    "    adata, show_basis, show_cols, figsize=(3,1.5), dpi=600, ncols=2, font_size=5, point_size=2, legend_loc='on data',\n",
    "    pal = {'cluster':'Set1', 'batch':'Set2', 'leiden':'tab20'},\n",
    "    save_path=save_dir / f\"{show_basis}_{file_suffix}.pdf\"\n",
    ")\n"
   ]
  },
  {
   "cell_type": "markdown",
   "metadata": {},
   "source": [
    "# Run other methods"
   ]
  },
  {
   "cell_type": "code",
   "execution_count": 6,
   "metadata": {},
   "outputs": [],
   "source": [
    "file_suffix = f\"{time.strftime('%b%d-%H%M')}\"\n",
    "ccd.set_verbose_mode(True)\n",
    "show_cols = [state_key, batch_key]\n",
    "timer = ccd.ul.Timer()\n",
    "time_log = {}"
   ]
  },
  {
   "cell_type": "markdown",
   "metadata": {},
   "source": [
    "### Scanorama"
   ]
  },
  {
   "cell_type": "code",
   "execution_count": null,
   "metadata": {},
   "outputs": [],
   "source": [
    "output_key = 'Scanorama'\n",
    "\n",
    "with timer:\n",
    "    ccd.ul.run_scanorama(adata, batch_key=\"batch\", output_key=output_key, return_corrected=True)\n",
    "\n",
    "time_log[output_key] = timer.interval\n",
    "ccd.ul.save_obsm_to_hdf5(adata, save_dir / f\"obsm_{file_suffix}.h5\")"
   ]
  },
  {
   "cell_type": "code",
   "execution_count": null,
   "metadata": {},
   "outputs": [],
   "source": [
    "# Plot heatmap of Scanorama corrected data\n",
    "ccd.pl.heatmap_with_annotations(adata, val=f'{output_key}_corrected', obs_keys=[state_key, batch_key], \n",
    "                                cluster_cols=False, cluster_rows=False, cmap='viridis', \n",
    "                                pal = {'cluster': 'Set1', 'batch':'Set2'}, add_color_legend=True,\n",
    "                                save_path=save_dir/f'{output_key}_corrected_heatmap_{file_suffix}.png')"
   ]
  },
  {
   "cell_type": "code",
   "execution_count": null,
   "metadata": {},
   "outputs": [],
   "source": [
    "ccd.ul.run_umap(adata, source_key=output_key, result_key=f'{output_key}_UMAP', n_components=2, n_neighbors=30, min_dist=0.5, metric='euclidean', random_state=seed)\n",
    "show_basis = f'{output_key}_UMAP'\n",
    "ccd.pl.plot_embedding(\n",
    "    adata, show_basis, show_cols, figsize=(8,3), dpi=300, ncols=3, font_size=5, point_size=10, legend_loc='on data',\n",
    "    save_path=save_dir / f\"{show_basis}_{file_suffix}.png\"\n",
    ")"
   ]
  },
  {
   "cell_type": "markdown",
   "metadata": {},
   "source": [
    "### Liger"
   ]
  },
  {
   "cell_type": "code",
   "execution_count": null,
   "metadata": {},
   "outputs": [],
   "source": [
    "output_key = 'Liger'\n",
    "adata.layers[\"counts\"] = adata.X.copy()\n",
    "with timer:\n",
    "    ccd.ul.run_liger(adata, batch_key=\"batch\", count_layer=\"counts\", output_key=output_key, k=30, return_corrected=True)\n",
    "\n",
    "time_log[output_key] = timer.interval\n",
    "ccd.ul.save_obsm_to_hdf5(adata, save_dir / f\"obsm_{file_suffix}.h5\")"
   ]
  },
  {
   "cell_type": "code",
   "execution_count": null,
   "metadata": {},
   "outputs": [],
   "source": [
    "# Plot heatmap of Scanorama corrected data\n",
    "ccd.pl.heatmap_with_annotations(adata, val=f'{output_key}_corrected', obs_keys=[state_key, batch_key], \n",
    "                                cluster_cols=False, cluster_rows=False, cmap='viridis', \n",
    "                                pal = {'cluster': 'Set1', 'batch':'Set2'}, add_color_legend=True,\n",
    "                                save_path=save_dir/f'{output_key}_corrected_heatmap_{file_suffix}.png')"
   ]
  },
  {
   "cell_type": "code",
   "execution_count": null,
   "metadata": {},
   "outputs": [],
   "source": [
    "ccd.ul.run_umap(adata, source_key=output_key, result_key=f'{output_key}_UMAP', n_components=2, n_neighbors=30, min_dist=0.5, metric='euclidean', random_state=seed)\n",
    "show_basis = f'{output_key}_UMAP'\n",
    "ccd.pl.plot_embedding(\n",
    "    adata, show_basis, show_cols, figsize=(8,3), dpi=300, ncols=3, font_size=5, point_size=10, legend_loc='on data',\n",
    "    save_path=save_dir / f\"{show_basis}_{file_suffix}.png\"\n",
    ")"
   ]
  },
  {
   "cell_type": "markdown",
   "metadata": {},
   "source": [
    "### Harmony"
   ]
  },
  {
   "cell_type": "code",
   "execution_count": null,
   "metadata": {},
   "outputs": [],
   "source": [
    "output_key = 'Harmony'\n",
    "with timer:\n",
    "    ccd.ul.run_harmony(adata, batch_key=\"batch\", input_key='X_pca', output_key=output_key)\n",
    "\n",
    "time_log[output_key] = timer.interval\n",
    "ccd.ul.save_obsm_to_hdf5(adata, save_dir / f\"obsm_{file_suffix}.h5\")"
   ]
  },
  {
   "cell_type": "code",
   "execution_count": null,
   "metadata": {},
   "outputs": [],
   "source": [
    "ccd.ul.run_umap(adata, source_key=output_key, result_key=f'{output_key}_UMAP', n_components=2, n_neighbors=30, min_dist=0.5, metric='euclidean', random_state=seed)\n",
    "show_basis = f'{output_key}_UMAP'\n",
    "ccd.pl.plot_embedding(\n",
    "    adata, show_basis, show_cols, figsize=(8,3), dpi=300, ncols=3, font_size=5, point_size=10, legend_loc='on data',\n",
    "    save_path=save_dir / f\"{show_basis}_{file_suffix}.png\"\n",
    ")"
   ]
  },
  {
   "cell_type": "markdown",
   "metadata": {},
   "source": [
    "### scVI"
   ]
  },
  {
   "cell_type": "code",
   "execution_count": null,
   "metadata": {},
   "outputs": [],
   "source": [
    "output_key = 'scVI'\n",
    "transform_batch = 'batch_1'\n",
    "with timer:\n",
    "    scvi_vae = ccd.ul.run_scvi(adata, batch_key=\"batch\", output_key=output_key, return_model=True, return_corrected=True, transform_batch=transform_batch)\n",
    "\n",
    "time_log[output_key] = timer.interval\n",
    "ccd.ul.save_obsm_to_hdf5(adata, save_dir / f\"obsm_{file_suffix}.h5\")"
   ]
  },
  {
   "cell_type": "code",
   "execution_count": null,
   "metadata": {},
   "outputs": [],
   "source": [
    "# Plot heatmap of Scanorama corrected data\n",
    "ccd.pl.heatmap_with_annotations(adata, val=f'{output_key}_corrected_{transform_batch}', obs_keys=[state_key, batch_key], \n",
    "                                cluster_cols=False, cluster_rows=False, cmap='viridis', \n",
    "                                pal = {'cluster': 'Set1', 'batch':'Set2'}, add_color_legend=True,\n",
    "                                save_path=save_dir/f'{output_key}_{transform_batch}_corrected_heatmap_{file_suffix}.png')"
   ]
  },
  {
   "cell_type": "code",
   "execution_count": null,
   "metadata": {},
   "outputs": [],
   "source": [
    "output_key = 'scVI'\n",
    "ccd.ul.run_umap(adata, source_key=output_key, result_key=f'{output_key}_UMAP', n_components=2, n_neighbors=30, min_dist=0.5, metric='euclidean', random_state=seed)\n",
    "show_basis = f'{output_key}_UMAP'\n",
    "ccd.pl.plot_embedding(\n",
    "    adata, show_basis, show_cols, figsize=(8,3), dpi=300, ncols=3, font_size=5, point_size=10, legend_loc='on data',\n",
    "    save_path=save_dir / f\"{show_basis}_{file_suffix}.png\"\n",
    ")"
   ]
  },
  {
   "cell_type": "markdown",
   "metadata": {},
   "source": [
    "### scANVI"
   ]
  },
  {
   "cell_type": "code",
   "execution_count": null,
   "metadata": {},
   "outputs": [],
   "source": [
    "time_log"
   ]
  },
  {
   "cell_type": "code",
   "execution_count": null,
   "metadata": {},
   "outputs": [],
   "source": [
    "output_key = 'scANVI'\n",
    "with timer:\n",
    "    ccd.ul.run_scanvi(adata, batch_key=\"batch\", labels_key=state_key, output_key=output_key, scvi_model=scvi_vae, return_corrected=True, transform_batch=transform_batch)\n",
    "\n",
    "time_log[output_key] = timer.interval\n",
    "ccd.ul.save_obsm_to_hdf5(adata, save_dir / f\"obsm_{file_suffix}.h5\")"
   ]
  },
  {
   "cell_type": "code",
   "execution_count": null,
   "metadata": {},
   "outputs": [],
   "source": [
    "# Plot heatmap of Scanorama corrected data\n",
    "ccd.pl.heatmap_with_annotations(adata, val=f'{output_key}_corrected_{transform_batch}', obs_keys=[state_key, batch_key], \n",
    "                                cluster_cols=False, cluster_rows=False, cmap='viridis', \n",
    "                                pal = {'cluster': 'Set1', 'batch':'Set2'}, add_color_legend=True,\n",
    "                                save_path=save_dir/f'{output_key}_{transform_batch}_corrected_heatmap_{file_suffix}.png')"
   ]
  },
  {
   "cell_type": "code",
   "execution_count": null,
   "metadata": {},
   "outputs": [],
   "source": [
    "ccd.ul.run_umap(adata, source_key=output_key, result_key=f'{output_key}_UMAP', n_components=2, n_neighbors=30, min_dist=0.5, metric='euclidean', random_state=seed)\n",
    "show_basis = f'{output_key}_UMAP'\n",
    "ccd.pl.plot_embedding(\n",
    "    adata, show_basis, show_cols, figsize=(8,3), dpi=300, ncols=3, font_size=5, point_size=10, legend_loc='on data',\n",
    "    save_path=save_dir / f\"{show_basis}_{file_suffix}.png\"\n",
    ")"
   ]
  },
  {
   "cell_type": "markdown",
   "metadata": {},
   "source": [
    "### Concord"
   ]
  },
  {
   "cell_type": "code",
   "execution_count": null,
   "metadata": {},
   "outputs": [],
   "source": [
    "cur_ccd = ccd.Concord(adata=adata, \n",
    "                      input_feature=None, \n",
    "                      batch_size=64,\n",
    "                      n_epochs=10,\n",
    "                      domain_key=batch_key, # key indicating batch\n",
    "                      seed=seed, # random seed\n",
    "                      verbose=False, # print training progress\n",
    "                      device=device, # device to run on\n",
    "                      save_dir=save_dir # directory to save model checkpoints\n",
    "                      ) \n",
    "\n",
    "# Encode data, saving the latent embedding in adata.obsm['Concord']\n",
    "output_key = 'Concord'\n",
    "with timer:\n",
    "    cur_ccd.encode_adata(input_layer_key='X', output_key=output_key, preprocess=False)\n",
    "    \n",
    "time_log[output_key] = timer.interval\n",
    "\n",
    "# Save the latent embedding to a file, so that it can be loaded later\n",
    "ccd.ul.save_obsm_to_hdf5(cur_ccd.adata, save_dir / f\"obsm_{file_suffix}.h5\")"
   ]
  },
  {
   "cell_type": "code",
   "execution_count": null,
   "metadata": {},
   "outputs": [],
   "source": [
    "ccd.ul.run_umap(adata, source_key=output_key, result_key=f'{output_key}_UMAP', n_components=2, n_neighbors=30, min_dist=0.5, metric='euclidean', random_state=seed)\n",
    "show_basis = f'{output_key}_UMAP'\n",
    "ccd.pl.plot_embedding(\n",
    "    adata, show_basis, show_cols, figsize=(8,3), dpi=300, ncols=3, font_size=5, point_size=10, legend_loc='on data',\n",
    "    save_path=save_dir / f\"{show_basis}_{file_suffix}.png\"\n",
    ")"
   ]
  },
  {
   "cell_type": "markdown",
   "metadata": {},
   "source": [
    "### Concord with decoder"
   ]
  },
  {
   "cell_type": "code",
   "execution_count": null,
   "metadata": {},
   "outputs": [],
   "source": [
    "decoder_ccd = ccd.Concord(adata=adata, \n",
    "                      input_feature=None, \n",
    "                      batch_size=64,\n",
    "                      n_epochs=10,\n",
    "                      domain_key=batch_key, # key indicating batch\n",
    "                      class_key=state_key, # key indicating class\n",
    "                      use_classifier=False, # use classifier\n",
    "                      use_decoder=True,\n",
    "                      domain_embedding_dim=8,\n",
    "                      seed=seed, # random seed\n",
    "                      verbose=False, # print training progress\n",
    "                      device=device, # device to run on\n",
    "                      save_dir=save_dir # directory to save model checkpoints\n",
    "                      ) \n",
    "\n",
    "output_key = 'Concord-decoder'\n",
    "with timer:\n",
    "    decoder_ccd.encode_adata(input_layer_key='X', output_key=output_key, preprocess=False)\n",
    "    \n",
    "time_log[output_key] = timer.interval\n",
    "# Save the latent embedding to a file, so that it can be loaded later\n",
    "ccd.ul.save_obsm_to_hdf5(decoder_ccd.adata, save_dir / f\"obsm_{file_suffix}.h5\")\n"
   ]
  },
  {
   "cell_type": "code",
   "execution_count": null,
   "metadata": {},
   "outputs": [],
   "source": [
    "ccd.ul.run_umap(adata, source_key=output_key, result_key=f'{output_key}_UMAP', n_components=2, n_neighbors=30, min_dist=0.5, metric='euclidean', random_state=seed)\n",
    "show_basis = f'{output_key}_UMAP'\n",
    "ccd.pl.plot_embedding(\n",
    "    adata, show_basis, show_cols, figsize=(8,3), dpi=300, ncols=3, font_size=5, point_size=10, legend_loc='on data',\n",
    "    save_path=save_dir / f\"{show_basis}_{file_suffix}.png\"\n",
    ")"
   ]
  },
  {
   "cell_type": "code",
   "execution_count": null,
   "metadata": {},
   "outputs": [],
   "source": [
    "# Predict and store the results\n",
    "decoder_domains = adata.obs[batch_key].unique()\n",
    "for domain in decoder_domains:\n",
    "    _, decoded, _, _, _, _ = decoder_ccd.predict(decoder_ccd.loader, return_decoded=True, decoder_domain=domain, return_class=True, return_class_prob=True)\n",
    "    save_key = f\"{output_key}_decoded_{domain}\"\n",
    "    adata.layers[save_key] = decoded\n",
    "\n",
    "adata.layers"
   ]
  },
  {
   "cell_type": "markdown",
   "metadata": {},
   "source": [
    "### Concord with classifier"
   ]
  },
  {
   "cell_type": "code",
   "execution_count": null,
   "metadata": {},
   "outputs": [],
   "source": [
    "cur_ccd = ccd.Concord(adata=adata, \n",
    "                      input_feature=None, \n",
    "                      batch_size=64,\n",
    "                      n_epochs=10,\n",
    "                      domain_key=batch_key, # key indicating batch\n",
    "                      class_key=state_key, # key indicating class\n",
    "                      use_classifier=True, # use classifier\n",
    "                      seed=seed, # random seed\n",
    "                      verbose=False, # print training progress\n",
    "                      device=device, # device to run on\n",
    "                      save_dir=save_dir # directory to save model checkpoints\n",
    "                      ) \n",
    "\n",
    "# Encode data, saving the latent embedding in adata.obsm['Concord']\n",
    "output_key = 'Concord-class'\n",
    "with timer:\n",
    "    cur_ccd.encode_adata(input_layer_key='X', output_key=output_key, preprocess=False)\n",
    "    \n",
    "time_log[output_key] = timer.interval\n",
    "# Save the latent embedding to a file, so that it can be loaded later\n",
    "ccd.ul.save_obsm_to_hdf5(cur_ccd.adata, save_dir / f\"obsm_{file_suffix}.h5\")"
   ]
  },
  {
   "cell_type": "code",
   "execution_count": 71,
   "metadata": {},
   "outputs": [
    {
     "name": "stdout",
     "output_type": "stream",
     "text": [
      "Concord - WARNING - No input feature list provided. It is recommended to first select features using the command `concord.ul.select_features()`.\n",
      "p_intra_knn: 0.3\n"
     ]
    },
    {
     "name": "stderr",
     "output_type": "stream",
     "text": [
      "Epoch 0 Training: 6it [00:00, 131.07it/s, loss=4.34]\n",
      "Epoch 1 Training: 100%|██████████| 6/6 [00:00<00:00, 163.11it/s, loss=4.24]\n",
      "Epoch 2 Training: 100%|██████████| 6/6 [00:00<00:00, 166.49it/s, loss=4.22]\n",
      "Epoch 3 Training: 100%|██████████| 6/6 [00:00<00:00, 165.80it/s, loss=4.15]\n",
      "Epoch 4 Training: 100%|██████████| 6/6 [00:00<00:00, 166.06it/s, loss=4.11]\n",
      "Epoch 5 Training: 100%|██████████| 6/6 [00:00<00:00, 164.19it/s, loss=3.94]\n",
      "Epoch 6 Training: 100%|██████████| 6/6 [00:00<00:00, 176.97it/s, loss=3.94]\n",
      "Epoch 7 Training: 100%|██████████| 6/6 [00:00<00:00, 174.05it/s, loss=4.03]\n",
      "Epoch 8 Training: 100%|██████████| 6/6 [00:00<00:00, 172.34it/s, loss=3.87]\n",
      "Epoch 9 Training: 100%|██████████| 6/6 [00:00<00:00, 144.91it/s, loss=3.97]\n"
     ]
    }
   ],
   "source": [
    "\n",
    "# 3c. Indicate which param is varied and to which value\n",
    "output_key = f\"Concord\"\n",
    "umap_key   = f\"Concord_UMAP_2D_euc\"\n",
    "\n",
    "# -------------------------------------\n",
    "# 4. Run Concord\n",
    "# -------------------------------------\n",
    "cur_ccd = ccd.Concord(adata, **concord_args_base)\n",
    "\n",
    "# Encode data, saving the latent embedding in adata.obsm[output_key]\n",
    "cur_ccd.encode_adata(\n",
    "    input_layer_key='X',\n",
    "    output_key=output_key,\n",
    "    preprocess=False\n",
    ")\n",
    "\n",
    "# -------------------------------------\n",
    "# 5. (Optional) run UMAP on the new embedding\n",
    "# -------------------------------------\n",
    "ccd.ul.run_umap(\n",
    "    adata,\n",
    "    source_key=output_key,\n",
    "    result_key=umap_key,\n",
    "    n_components=2,\n",
    "    n_neighbors=30,\n",
    "    min_dist=0.5,\n",
    "    metric='euclidean',\n",
    "    random_state=seed\n",
    ")"
   ]
  },
  {
   "cell_type": "code",
   "execution_count": 75,
   "metadata": {},
   "outputs": [
    {
     "data": {
      "image/png": "[encoded data removed]",
      "text/plain": [
       "<Figure size 2400x900 with 3 Axes>"
      ]
     },
     "metadata": {},
     "output_type": "display_data"
    }
   ],
   "source": [
    "ccd.ul.run_umap(adata, source_key=output_key, result_key=f'{output_key}_UMAP', n_components=2, n_neighbors=30, min_dist=0.5, metric='euclidean', random_state=seed)\n",
    "show_basis = f'{output_key}_UMAP'\n",
    "ccd.pl.plot_embedding(\n",
    "    adata, show_basis, show_cols, figsize=(8,3), dpi=300, ncols=3, font_size=5, point_size=10, legend_loc='on data',\n",
    "    save_path=save_dir / f\"{show_basis}_{file_suffix}.png\"\n",
    ")"
   ]
  },
  {
   "cell_type": "code",
   "execution_count": null,
   "metadata": {},
   "outputs": [],
   "source": [
    "adata.obsm['Unintegrated'] = adata.obsm['X_pca']\n",
    "n_pc=30\n",
    "ccd.ul.run_pca(adata_state, source_key='no_noise', result_key='PCA_no_noise', n_pc=n_pc, random_state=seed)\n",
    "ccd.ul.run_pca(adata_state, source_key='wt_noise', result_key='PCA_wt_noise', n_pc=n_pc, random_state=seed)\n",
    "\n",
    "# Put the PCA result in the adata object, so only one object is needed\n",
    "adata.obsm['PCA_no_noise'] = adata_state.obsm['PCA_no_noise']\n",
    "adata.obsm['PCA_wt_noise'] = adata_state.obsm['PCA_wt_noise']\n",
    "adata.obsm"
   ]
  },
  {
   "cell_type": "code",
   "execution_count": 10,
   "metadata": {},
   "outputs": [],
   "source": [
    "latent_keys = [\"Unintegrated\", \"Scanorama\", \"Liger\", \"Harmony\", \"scVI\", \"scANVI\", \"Concord\", 'Concord-decoder', \"Concord-class\"]\n",
    "ground_keys = ['PCA_no_noise', 'PCA_wt_noise']\n",
    "combined_keys = ground_keys + latent_keys "
   ]
  },
  {
   "cell_type": "code",
   "execution_count": null,
   "metadata": {},
   "outputs": [],
   "source": [
    "\n",
    "# Run umap and PCA for all latent embeddings\n",
    "for basis in combined_keys:\n",
    "    print(\"Running UMAP and PCA for\", basis)\n",
    "    if basis not in adata.obsm:\n",
    "        continue\n",
    "    #if 'UMAP' not in basis:\n",
    "    ccd.ul.run_umap(adata, source_key=basis, result_key=f'{basis}_UMAP', n_components=2, n_neighbors=30, min_dist=0.5, metric='euclidean', random_state=seed)\n",
    "    if 'PCA' not in basis:\n",
    "        n_pc = min(adata.obsm[basis].shape[1], adata.shape[0]) - 1\n",
    "        ccd.ul.run_pca(adata, source_key=basis, result_key=f'{basis}_PCA', n_pc=n_pc, random_state=seed)\n"
   ]
  },
  {
   "cell_type": "code",
   "execution_count": null,
   "metadata": {},
   "outputs": [],
   "source": [
    "adata.write_h5ad(data_dir / f\"adata_{file_suffix}.h5ad\")\n",
    "adata_state.write_h5ad(data_dir / f\"adata_state_{file_suffix}.h5ad\")\n",
    "file_suffix"
   ]
  },
  {
   "cell_type": "code",
   "execution_count": null,
   "metadata": {},
   "outputs": [],
   "source": [
    "# plot everything\n",
    "import matplotlib.pyplot as plt\n",
    "import pandas as pd\n",
    "\n",
    "color_bys = [state_key, batch_key]\n",
    "basis_types = ['PAGA', 'KNN', 'PCA', 'UMAP']\n",
    "\n",
    "font_size=7\n",
    "point_size=2.5\n",
    "alpha=0.8\n",
    "figsize=(9,0.9)\n",
    "ncols = 11\n",
    "nrows = int(np.ceil(len(combined_keys) / ncols))\n",
    "pal = {'state':'tab10', 'batch':'Set1'}\n",
    "k=15\n",
    "edges_color='grey'\n",
    "edges_width=0.05\n",
    "layout='kk'\n",
    "threshold = 0.1\n",
    "node_size_scale=0.1\n",
    "edge_width_scale=0.1\n",
    "\n",
    "custom_rc = {\n",
    "    'font.family': 'Arial',  # Set the desired font for this plot\n",
    "}\n",
    "\n",
    "with plt.rc_context(rc=custom_rc):\n",
    "    ccd.pl.plot_all_embeddings(\n",
    "        adata,\n",
    "        combined_keys,\n",
    "        color_bys=color_bys,\n",
    "        basis_types=basis_types,\n",
    "        pal=pal,\n",
    "        k=k,\n",
    "        edges_color=edges_color,\n",
    "        edges_width=edges_width,\n",
    "        layout=layout,\n",
    "        threshold=threshold,\n",
    "        node_size_scale=node_size_scale,\n",
    "        edge_width_scale=edge_width_scale,\n",
    "        font_size=font_size,\n",
    "        point_size=point_size,\n",
    "        alpha=alpha,\n",
    "        figsize=figsize,\n",
    "        ncols=ncols,\n",
    "        seed=seed,\n",
    "        leiden_key='leiden', \n",
    "        save_dir=save_dir,\n",
    "        file_suffix=file_suffix,\n",
    "        save_format='svg'\n",
    "    )\n"
   ]
  },
  {
   "cell_type": "code",
   "execution_count": 25,
   "metadata": {},
   "outputs": [],
   "source": [
    "adata.layers['no_noise'] = np.zeros_like(adata.X)\n",
    "adata.layers['wt_noise'] = np.zeros_like(adata.X)\n",
    "# Find the indices of common genes between `adata` and `adata_state`\n",
    "common_genes = adata.var_names.intersection(adata_state.var_names)\n",
    "adata_indices = adata.var_names.get_indexer(common_genes)\n",
    "adata_state_indices = adata_state.var_names.get_indexer(common_genes)\n",
    "\n",
    "# Copy data from `adata_state` to `adata` for these common genes\n",
    "adata.layers['no_noise'][:, adata_indices] = adata_state.layers['no_noise'][:, adata_state_indices].copy()\n",
    "adata.layers['wt_noise'][:, adata_indices] = adata_state.layers['wt_noise'][:, adata_state_indices].copy()\n",
    "\n",
    "# sort and smooth the signal along the path\n",
    "batch_id=adata.obs['batch'].unique()[0]\n",
    "batch_indices = np.where(adata.obs['batch'] == batch_id)[0]\n",
    "_, _, _, feature_order = ccd.ul.sort_and_smooth_signal_along_path(adata, signal_key='Concord', path=batch_indices, sigma=2)\n",
    "adata.obsm['Concord_sorted'] = adata.obsm['Concord'][:, feature_order]\n",
    "\n",
    "_, _, _, feature_order = ccd.ul.sort_and_smooth_signal_along_path(adata, signal_key='Concord-decoder', path=batch_indices, sigma=2)\n",
    "adata.obsm['Concord-decoder_sorted'] = adata.obsm['Concord-decoder'][:, feature_order]"
   ]
  },
  {
   "cell_type": "code",
   "execution_count": null,
   "metadata": {},
   "outputs": [],
   "source": [
    "# Plot heatmap of original data and Concord latent\n",
    "import matplotlib.pyplot as plt\n",
    "figsize = (2.3, 1.8)\n",
    "ncols = 5\n",
    "title_fontsize = 9\n",
    "dpi = 600\n",
    "fig, axes = plt.subplots(1, ncols, figsize=(figsize[0] * ncols, figsize[1]), dpi=dpi)\n",
    "ccd.pl.heatmap_with_annotations(adata, val='no_noise', obs_keys=[state_key], ax = axes[0], use_clustermap=False, yticklabels=False, cluster_cols=False, cluster_rows=False, value_annot=False, cmap='viridis', title='State', save_path=None, figsize=figsize, dpi=dpi, title_fontsize=title_fontsize)\n",
    "ccd.pl.heatmap_with_annotations(adata, val='wt_noise', obs_keys=[state_key], ax = axes[1], use_clustermap=False, yticklabels=False, cluster_cols=False, cluster_rows=False, value_annot=False, cmap='viridis', title='State+noise', save_path=None, figsize=figsize, dpi=dpi, title_fontsize=title_fontsize)\n",
    "ccd.pl.heatmap_with_annotations(adata, val='X', obs_keys=[state_key, batch_key], ax = axes[2], use_clustermap=False, yticklabels=False, cluster_cols=False, cluster_rows=False, value_annot=False, cmap='viridis', title='State+noise+batch', save_path=None, figsize=figsize, dpi=dpi, title_fontsize=title_fontsize)\n",
    "ccd.pl.heatmap_with_annotations(adata, val='Concord_sorted', obs_keys=[state_key, batch_key], ax = axes[3], use_clustermap=False, yticklabels=False, cluster_cols=False, cluster_rows=False, value_annot=False, cmap='viridis', title='Concord latent', save_path=None, figsize=figsize, dpi=dpi, title_fontsize=title_fontsize)\n",
    "ccd.pl.heatmap_with_annotations(adata, val='Concord-decoder_sorted', obs_keys=[state_key, batch_key], ax = axes[4], use_clustermap=False, yticklabels=False, cluster_cols=False, cluster_rows=False, value_annot=False, cmap='viridis', title='Concord-decoder latent', save_path=None, figsize=figsize, dpi=dpi, title_fontsize=title_fontsize)\n",
    "plt.tight_layout(w_pad=0.0, h_pad=0.1)\n",
    "plt.savefig(save_dir / f\"all_heatmaps_{file_suffix}.svg\", dpi=dpi, bbox_inches='tight')"
   ]
  },
  {
   "cell_type": "markdown",
   "metadata": {},
   "source": [
    "# Evaluation"
   ]
  },
  {
   "cell_type": "code",
   "execution_count": 7,
   "metadata": {},
   "outputs": [],
   "source": [
    "# adata = sc.read(data_dir / f\"adata_Nov19-1505.h5ad\")\n",
    "# adata_state = sc.read(data_dir / f\"adata_state_Nov19-1505.h5ad\")\n",
    "adata = sc.read(data_dir / f\"adata_Nov29-1033.h5ad\")\n",
    "adata_state = sc.read(data_dir / f\"adata_state_Nov29-1033.h5ad\")"
   ]
  },
  {
   "cell_type": "code",
   "execution_count": null,
   "metadata": {},
   "outputs": [],
   "source": [
    "latent_keys = [\"Unintegrated\", \"Scanorama\", \"Liger\", \"Harmony\", \"scVI\", \"scANVI\", \"Concord\", 'Concord-decoder', \"Concord-class\"]\n",
    "ground_keys = ['PCA_no_noise', 'PCA_wt_noise']\n",
    "combined_keys = latent_keys + ground_keys\n",
    "n_pc=30\n",
    "ccd.ul.run_pca(adata_state, source_key='no_noise', result_key='PCA_no_noise', n_pc=n_pc, random_state=seed)\n",
    "ccd.ul.run_pca(adata_state, source_key='wt_noise', result_key='PCA_wt_noise', n_pc=n_pc, random_state=seed)\n",
    "\n",
    "# Put the PCA result in the adata object, so only one object is needed\n",
    "adata.obsm['PCA_no_noise'] = adata_state.obsm['PCA_no_noise']\n",
    "adata.obsm['PCA_wt_noise'] = adata_state.obsm['PCA_wt_noise']\n",
    "adata.obsm"
   ]
  },
  {
   "cell_type": "markdown",
   "metadata": {},
   "source": [
    "### Scib"
   ]
  },
  {
   "cell_type": "code",
   "execution_count": null,
   "metadata": {},
   "outputs": [],
   "source": [
    "from scib_metrics.benchmark import Benchmarker\n",
    "bm = Benchmarker(\n",
    "    adata,\n",
    "    batch_key=batch_key,\n",
    "    label_key=state_key,\n",
    "    embedding_obsm_keys=latent_keys,\n",
    "    n_jobs=6,\n",
    ")\n",
    "bm.benchmark()"
   ]
  },
  {
   "cell_type": "code",
   "execution_count": null,
   "metadata": {},
   "outputs": [],
   "source": [
    "import matplotlib.pyplot as plt\n",
    "import os\n",
    "bm.plot_results_table(min_max_scale=False, show=False)\n",
    "fig = plt.gcf()\n",
    "fig.set_size_inches(15, 6) \n",
    "fig.savefig(os.path.join(save_dir, f'scibmetrics_results_{file_suffix}.pdf'), facecolor='white', dpi=600)\n",
    "plt.show()\n",
    "plt.close(fig)"
   ]
  },
  {
   "cell_type": "code",
   "execution_count": null,
   "metadata": {},
   "outputs": [],
   "source": [
    "scib_scores = bm.get_results(min_max_scale=False)\n",
    "# Convert row 'Metric Type' to multi-index column, first level is 'Metric Type', second level is existing column name\n",
    "metric_type = scib_scores.loc['Metric Type']\n",
    "scib_scores = scib_scores.drop('Metric Type')  # Drop the last row now that it's stored in metric_type\n",
    "scib_scores.columns = pd.MultiIndex.from_tuples([(metric_type[col], col) for col in scib_scores.columns])\n",
    "scib_scores = ccd.ul.benchmark_stats_to_score(scib_scores, min_max_scale=False, one_minus=False, aggregate_score=False, rank=True, rank_col=('Aggregate score', 'Total'), name_exact=False)\n",
    "\n",
    "ccd.pl.plot_benchmark_table(scib_scores, pal='PRGn', pal_agg='RdYlBu_r', cmap_method = 'minmax', save_path=save_dir / f\"scib_results_{file_suffix}.pdf\", figsize=(16, 6), dpi=300)"
   ]
  },
  {
   "cell_type": "markdown",
   "metadata": {},
   "source": [
    "### Topology"
   ]
  },
  {
   "cell_type": "markdown",
   "metadata": {},
   "source": [
    "Run topological analysis pipeline:"
   ]
  },
  {
   "cell_type": "code",
   "execution_count": null,
   "metadata": {},
   "outputs": [],
   "source": [
    "homology_dimensions = [0,1,2]\n",
    "#concord_keys = ['Concord', 'Concord-decoder', 'Concord-class']\n",
    "diagrams = {}\n",
    "for key in combined_keys:\n",
    "#for key in concord_keys:\n",
    "    print(f\"Computing persistent homology for {key}\")\n",
    "    diagrams[key] =  ccd.ul.compute_persistent_homology(adata, key=key, homology_dimensions=homology_dimensions)\n",
    "\n",
    "import pickle\n",
    "with open(save_dir / f\"topology_diagrams_{file_suffix}.pkl\", 'wb') as f:\n",
    "    pickle.dump(diagrams, f)"
   ]
  },
  {
   "cell_type": "code",
   "execution_count": null,
   "metadata": {},
   "outputs": [],
   "source": [
    "save_dir / f\"topology_diagrams_{file_suffix}.pkl\""
   ]
  },
  {
   "cell_type": "code",
   "execution_count": null,
   "metadata": {},
   "outputs": [],
   "source": [
    "import pickle\n",
    "with open(Path('../save/dev_simulation_cluster-Nov29/topology_diagrams_Nov29-1033.pkl', 'rb')) as f:\n",
    "    diagrams = pickle.load(f)"
   ]
  },
  {
   "cell_type": "code",
   "execution_count": null,
   "metadata": {},
   "outputs": [],
   "source": [
    "topology_results = ccd.ul.benchmark_topology(diagrams, expected_betti_numbers=[4,0,0], save_dir=save_dir, file_suffix=file_suffix)\n",
    "max_betti = 5\n",
    "topology_metrics = topology_results['combined_metrics'].drop(index=['PCA_no_noise', 'PCA_wt_noise'])\n",
    "topology_metrics[('Betti number', 'L1 distance')] = topology_metrics[('Betti number', 'L1 distance')].clip(upper=5)\n",
    "agg_name1 = 'Topology'\n",
    "agg_name2 = 'Score'\n",
    "topology_scores = ccd.ul.benchmark_stats_to_score(topology_metrics, min_max_scale=True, one_minus=True, aggregate_score=True, aggregate_score_name1=agg_name1, aggregate_score_name2=agg_name2, rank=True, rank_col=(agg_name1,agg_name2), name_exact=False)\n",
    "ccd.pl.plot_benchmark_table(topology_scores, pal='PRGn', pal_agg='RdYlBu_r', cmap_method = 'minmax', agg_name = agg_name1, save_path=save_dir / f\"topology_results_{file_suffix}.pdf\", figsize=(6, 6), dpi=300)"
   ]
  },
  {
   "cell_type": "code",
   "execution_count": null,
   "metadata": {},
   "outputs": [],
   "source": [
    "# Reorder diagrams with the same order as the combined keys\n",
    "diagrams_ordered = {key: diagrams[key] for key in combined_keys}\n",
    "# Change the key names to remove 'PCA_'\n",
    "diagrams_ordered = {key.replace('PCA_', ''): diagrams_ordered[key] for key in diagrams_ordered}\n",
    "ccd.pl.plot_persistence_diagrams(diagrams_ordered, base_size=(1.3, 1.5), dpi=300, marker_size=4, n_cols=11, fontsize=10, save_path=save_dir / f\"persistence_diagrams_{file_suffix}.pdf\", legend=False, label_axes=False, axis_ticks=False)"
   ]
  },
  {
   "cell_type": "code",
   "execution_count": null,
   "metadata": {},
   "outputs": [],
   "source": [
    "ccd.pl.plot_betti_curves(diagrams_ordered, nbins=100, base_size=(1.3, 1.5), n_cols=11, fontsize=10, save_path=save_dir / f\"betti_curves_{file_suffix}.pdf\", dpi=300, legend=False, label_axes=False, axis_ticks=False)"
   ]
  },
  {
   "cell_type": "code",
   "execution_count": null,
   "metadata": {},
   "outputs": [],
   "source": [
    "ccd.pl.plot_betti_statistic(topology_results['betti_stats'], statistic='Entropy', pal='tab10',\n",
    "                            figsize=(5, 3), dpi=300, \n",
    "                             save_path=save_dir / f\"betti_entropy_{file_suffix}.pdf\")"
   ]
  },
  {
   "cell_type": "code",
   "execution_count": null,
   "metadata": {},
   "outputs": [],
   "source": [
    "ccd.pl.plot_bar(\n",
    "    topology_results['distance_metrics'], \n",
    "    key = 'L1 Distance',\n",
    "    order=True, ascending=False, barh=False, legend=False,\n",
    "    xlabel_fontsize=8, ylabel_fontsize=8, \n",
    "    log_scale=True,\n",
    "    tick_fontsize=7, title_fontsize=9, bar_width=0.8,\n",
    "    figsize=(4, 3), dpi=300, \n",
    "    save_path=save_dir / f\"distance_metrics_{file_suffix}.pdf\"\n",
    ")"
   ]
  },
  {
   "cell_type": "markdown",
   "metadata": {},
   "source": [
    "knn graph:"
   ]
  },
  {
   "cell_type": "code",
   "execution_count": null,
   "metadata": {},
   "outputs": [],
   "source": [
    "adata.obs[state_key].value_counts()"
   ]
  },
  {
   "cell_type": "code",
   "execution_count": null,
   "metadata": {},
   "outputs": [],
   "source": [
    "# compare connectivity for latent vs ground truth, store the result in a pandas dataframe\n",
    "groundtruth_keys = {'(nn)': 'PCA_no_noise','(wn)': 'PCA_wt_noise'}\n",
    "connectivity_df = ccd.ul.benchmark_graph_connectivity(adata, emb_keys=combined_keys, groundtruth_keys=groundtruth_keys, k=100, use_faiss=False)\n",
    "agg_name1 = 'Connectivity'\n",
    "agg_name2 = 'Score'\n",
    "connectivity_scores = ccd.ul.benchmark_stats_to_score(connectivity_df, min_max_scale=False, one_minus=False, aggregate_score=True, aggregate_score_name1=agg_name1, aggregate_score_name2=agg_name2, rank=True, rank_col=(agg_name1,agg_name2), name_exact=False)\n",
    "ccd.pl.plot_benchmark_table(connectivity_scores, pal='PRGn', pal_agg='RdYlBu_r', cmap_method = 'minmax', agg_name = agg_name1, save_path=save_dir / f\"connectivity_results_{file_suffix}.pdf\", figsize=(8, 8), dpi=300)\n"
   ]
  },
  {
   "cell_type": "markdown",
   "metadata": {},
   "source": [
    "# Geomtric Features "
   ]
  },
  {
   "cell_type": "markdown",
   "metadata": {},
   "source": [
    "### Integrated benchmark pipeline"
   ]
  },
  {
   "cell_type": "code",
   "execution_count": null,
   "metadata": {},
   "outputs": [],
   "source": [
    "geometry_metrics = ['cell_distance_corr', 'local_distal_corr', 'trustworthiness', 'state_distance_corr', 'state_dispersion_corr', 'state_batch_distance_ratio']\n",
    "dist_metric = 'cosine'\n",
    "corr_types = ['pearsonr', 'spearmanr', 'kendalltau']\n",
    "groundtruth_key = 'PCA_wt_noise'\n",
    "\n",
    "#groundtruth_key = 'PCA_no_noise'\n",
    "# Convert state_dispersion to a dict of groundtruth dispersion\n",
    "#groundtruth_dispersion = {'cluster_' + str(i): state_dispersion[i]**2 for i in range(5)} # convert to variance\n",
    "geometry_df, geometry_full = ccd.ul.benchmark_geometry(adata, keys=combined_keys, eval_metrics=geometry_metrics, \n",
    "                                      dist_metric=dist_metric,\n",
    "                                      corr_types = corr_types,\n",
    "                                      groundtruth_key = groundtruth_key,\n",
    "                                      state_key = state_key,\n",
    "                                      batch_key = batch_key,\n",
    "                                      #groundtruth_dispersion = groundtruth_dispersion,\n",
    "                                      dispersion_metric='var',\n",
    "                                      return_type='full',\n",
    "                                      start_point=0,\n",
    "                                      end_point=adata.n_obs-1,\n",
    "                                      pseudotime_k = 30,\n",
    "                                      truetime_key = 'time',\n",
    "                                      save_dir=save_dir, \n",
    "                                      file_suffix=file_suffix)"
   ]
  },
  {
   "cell_type": "code",
   "execution_count": null,
   "metadata": {},
   "outputs": [],
   "source": [
    "agg_name1 = 'Geometry'\n",
    "agg_name2 = 'Score'\n",
    "geometry_scores = ccd.ul.benchmark_stats_to_score(\n",
    "    geometry_df.drop(index=['PCA_no_noise', 'PCA_wt_noise']), fillna = 0,               \n",
    "    min_max_scale=False, one_minus=False, aggregate_score=True, aggregate_score_name1=agg_name1, aggregate_score_name2=agg_name2, rank=True, rank_col=(agg_name1,agg_name2))\n",
    "ccd.pl.plot_benchmark_table(geometry_scores, pal='PRGn', pal_agg='RdYlBu_r', cmap_method = 'minmax', agg_name = agg_name1, save_path=save_dir / f\"geometry_results_noscale_{dist_metric}_{groundtruth_key}_{file_suffix}.pdf\", figsize=(19, 7), dpi=300)"
   ]
  },
  {
   "cell_type": "code",
   "execution_count": null,
   "metadata": {},
   "outputs": [],
   "source": [
    "ccd.pl.plot_distance_heatmap(geometry_full['cell_distance_corr']['distance'], n_cols = 11, figsize=(1.1,1.3), cbar=False, dpi=300, save_path=save_dir / f\"cell_distance_hmap_{file_suffix}.svg\")"
   ]
  },
  {
   "cell_type": "code",
   "execution_count": null,
   "metadata": {},
   "outputs": [],
   "source": [
    "ccd.pl.plot_geometry_scatter(\n",
    "    data_dict = geometry_full['cell_distance_corr']['distance'], \n",
    "    correlation= geometry_full['cell_distance_corr']['correlation'],\n",
    "    ground_key=groundtruth_key,\n",
    "    n_cols = 11, figsize=(2,2), dpi=300, save_path=save_dir / f\"cell_distance_scatter_{groundtruth_key}_{file_suffix}.pdf\")"
   ]
  },
  {
   "cell_type": "code",
   "execution_count": null,
   "metadata": {},
   "outputs": [],
   "source": [
    "trustworthiness_scores = geometry_full['trustworthiness']['scores']\n",
    "ccd.pl.plot_trustworthiness(trustworthiness_scores, text_shift=2, legend=False, save_path=save_dir / f\"trustworthiness_{groundtruth_key}_{file_suffix}.pdf\", figsize=(4,3))"
   ]
  },
  {
   "cell_type": "code",
   "execution_count": null,
   "metadata": {},
   "outputs": [],
   "source": [
    "ccd.pl.plot_distance_heatmap(geometry_full['state_distance_corr']['distance'], \n",
    "    n_cols = 11, annot_value=True,\n",
    "    figsize=(2,1.6), dpi=300, save_path=save_dir / f\"cell_distance_hmap_{groundtruth_key}_{file_suffix}.svg\")"
   ]
  },
  {
   "cell_type": "code",
   "execution_count": null,
   "metadata": {},
   "outputs": [],
   "source": [
    "ccd.pl.plot_geometry_scatter(\n",
    "    data_dict = geometry_full['state_distance_corr']['distance'], \n",
    "    correlation= geometry_full['state_distance_corr']['correlation'],\n",
    "    s=10,\n",
    "    n_cols = 11, figsize=(2,2), dpi=300, save_path=save_dir / f\"state_distance_scatter_{groundtruth_key}_{file_suffix}.pdf\")"
   ]
  },
  {
   "cell_type": "code",
   "execution_count": null,
   "metadata": {},
   "outputs": [],
   "source": [
    "ccd.pl.plot_geometry_scatter(\n",
    "    data_dict = geometry_full['state_dispersion_corr']['dispersion'], \n",
    "    correlation= geometry_full['state_dispersion_corr']['correlation'],\n",
    "    s=30, c='darkblue',\n",
    "    ground_key = groundtruth_key,\n",
    "    n_cols = 11, figsize=(1.5,2.0), dpi=300, save_path=save_dir / f\"state_dispersion_scatter_{groundtruth_key}_{file_suffix}.pdf\")"
   ]
  },
  {
   "cell_type": "markdown",
   "metadata": {},
   "source": [
    "### 2.0 Decoder reconstruction"
   ]
  },
  {
   "cell_type": "code",
   "execution_count": null,
   "metadata": {},
   "outputs": [],
   "source": [
    "adata.layers"
   ]
  },
  {
   "cell_type": "code",
   "execution_count": null,
   "metadata": {},
   "outputs": [],
   "source": [
    "# Align and copy the layer data based on observation names\n",
    "adata.layers['no_noise'] = np.zeros_like(adata.X)\n",
    "\n",
    "# Find the indices of common genes between `adata` and `adata_state`\n",
    "common_genes = adata.var_names.intersection(adata_state.var_names)\n",
    "adata_indices = adata.var_names.get_indexer(common_genes)\n",
    "adata_state_indices = adata_state.var_names.get_indexer(common_genes)\n",
    "\n",
    "# Copy data from `adata_state` to `adata` for these common genes\n",
    "adata.layers['no_noise'][:, adata_indices] = adata_state.layers['no_noise'][:, adata_state_indices].copy()\n",
    "\n",
    "decoded_layers = ['Concord-decoder_decoded_batch_1', 'Concord-decoder_decoded_batch_2']\n",
    "show_layers = ['no_noise', 'wt_noise'] + decoded_layers\n",
    "ccd.pl.plot_adata_layer_heatmaps(adata, ncells=None, ngenes=None, layers=show_layers, cmap='viridis', vmin=0, vmax=7, \n",
    "                                 obs_keys=[state_key, batch_key], transpose=False, figsize=(6,6),  dpi=300, save_path=save_dir/f'decoded_heatmap_{file_suffix}.png')"
   ]
  },
  {
   "cell_type": "code",
   "execution_count": null,
   "metadata": {},
   "outputs": [],
   "source": [
    "# Compute the reconstruction error between the original and reconstructed data\n",
    "mse_no_noise = np.zeros(len(decoded_layers))\n",
    "mse_wt_noise = np.zeros(len(decoded_layers))\n",
    "state_genes = adata.var_names[adata.var_names.isin(adata_state.var_names)]\n",
    "for layer in decoded_layers:\n",
    "    mse_no_noise[decoded_layers.index(layer)] = ccd.ul.compute_reconstruction_error(adata[:,state_genes], 'no_noise', layer, metric='mse')\n",
    "    mse_wt_noise[decoded_layers.index(layer)] = ccd.ul.compute_reconstruction_error(adata[:,state_genes], 'wt_noise', layer, metric='mse')\n",
    "\n",
    "# Report value, mean\n",
    "print(f\"MSE between no_noise and decoded layers: {mse_no_noise}\")\n",
    "print(f\"MSE between wt_noise and decoded layers: {mse_wt_noise}\")\n",
    "print(f\"Mean MSE between no_noise and decoded layers: {np.mean(mse_no_noise):.4f}\")\n",
    "print(f\"Mean MSE between wt_noise and decoded layers: {np.mean(mse_wt_noise):.4f}\")\n"
   ]
  },
  {
   "cell_type": "code",
   "execution_count": null,
   "metadata": {},
   "outputs": [],
   "source": []
  }
 ],
 "metadata": {
  "kernelspec": {
   "display_name": "concord",
   "language": "python",
   "name": "python3"
  },
  "language_info": {
   "codemirror_mode": {
    "name": "ipython",
    "version": 3
   },
   "file_extension": ".py",
   "mimetype": "text/x-python",
   "name": "python",
   "nbconvert_exporter": "python",
   "pygments_lexer": "ipython3",
   "version": "3.12.8"
  }
 },
 "nbformat": 4,
 "nbformat_minor": 2
}
