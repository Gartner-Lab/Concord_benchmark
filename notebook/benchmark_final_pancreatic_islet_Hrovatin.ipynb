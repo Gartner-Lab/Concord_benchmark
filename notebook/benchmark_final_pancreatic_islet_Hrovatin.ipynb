{
 "cells": [
  {
   "cell_type": "markdown",
   "id": "86977db1",
   "metadata": {},
   "source": [
    "# Benchmark "
   ]
  },
  {
   "cell_type": "code",
   "execution_count": 1,
   "id": "237ec61c",
   "metadata": {},
   "outputs": [],
   "source": [
    "%load_ext autoreload\n",
    "%autoreload 2\n"
   ]
  },
  {
   "cell_type": "code",
   "execution_count": 2,
   "id": "6d578d26",
   "metadata": {},
   "outputs": [],
   "source": [
    "import os\n",
    "import numpy as np\n",
    "import scanpy as sc\n",
    "import time\n",
    "from pathlib import Path\n",
    "import torch\n",
    "import concord as ccd\n",
    "import warnings\n",
    "warnings.filterwarnings('ignore')\n",
    "%matplotlib inline\n",
    "import matplotlib as mpl\n",
    "from scipy import sparse\n",
    "\n",
    "# from matplotlib import font_manager, rcParams\n",
    "# custom_rc = {\n",
    "#     'font.family': 'DejaVu Sans',\n",
    "# }\n",
    "\n",
    "# mpl.rcParams['svg.fonttype'] = 'none'\n",
    "# mpl.rcParams['pdf.fonttype'] = 42"
   ]
  },
  {
   "cell_type": "code",
   "execution_count": 3,
   "id": "9816cfad",
   "metadata": {},
   "outputs": [],
   "source": [
    "proj_name = \"pancreatic_islet_Hrovatin\"\n",
    "file_name = \"pancreatic_islet_Hrovatin\"\n",
    "file_suffix = time.strftime('%b%d-%H%M')\n",
    "\n",
    "save_dir = Path(f\"../save/{proj_name}-{file_suffix}\")\n",
    "save_dir.mkdir(parents=True, exist_ok=True)\n",
    "\n",
    "data_dir = Path(f\"../data/{proj_name}\")\n",
    "data_dir.mkdir(parents=True, exist_ok=True)\n",
    "\n",
    "seed = 0\n",
    "ccd.ul.set_seed(seed)"
   ]
  },
  {
   "cell_type": "code",
   "execution_count": 4,
   "id": "362873d5",
   "metadata": {},
   "outputs": [],
   "source": [
    "# load the data\n",
    "adata = sc.read_h5ad(data_dir / f\"{file_name}.h5ad\")"
   ]
  },
  {
   "cell_type": "code",
   "execution_count": 5,
   "id": "919be05c",
   "metadata": {},
   "outputs": [
    {
     "data": {
      "text/plain": [
       "AnnData object with n_obs × n_vars = 301796 × 31202\n",
       "    obs: 'batch_integration', 'dataset', 'design', 'cell_cycle_phase', 'ins_high', 'gcg_high', 'sst_high', 'ppy_high', 'cell_filtering', 'strain', 'age', 'cell_type_originalDataset_unified', 'cell_type_originalDataset', 'cell_type_reannotatedIntegrated', 'n_genes', 'mt_frac', 'doublet_score', 'log10_n_counts', 'age_approxDays', 'dataset__design__sample', 'cell_subtype_immune_reannotatedIntegrated', 'cell_subtype_endothelial_reannotatedIntegrated', 'emptyDrops_LogProb_scaled', 'cell_subtype_beta_coarse_reannotatedIntegrated', 'cell_subtype_beta_fine_reannotatedIntegrated', 'GP_1', 'GP_2', 'GP_3', 'GP_4', 'GP_5', 'GP_6', 'GP_7', 'GP_8', 'GP_9', 'GP_10', 'GP_11', 'GP_12', 'GP_13', 'GP_14', 'GP_15', 'GP_16', 'GP_17', 'GP_18', 'GP_19', 'GP_20', 'GP_21', 'GP_22', 'GP_23', 'GP_24', 'GP_25', 'GP_26', 'GP_27', 'assay_ontology_term_id', 'cell_type_ontology_term_id', 'development_stage_ontology_term_id', 'diabetes_model', 'chemical_stress', 'GEO_accession', 'disease_ontology_term_id', 'self_reported_ethnicity_ontology_term_id', 'is_primary_data', 'organism_ontology_term_id', 'sex_ontology_term_id', 'sex_annotation', 'tissue_ontology_term_id', 'low_q', 'donor_id', 'suspension_type', 'tissue_type', 'cell_type', 'assay', 'disease', 'organism', 'sex', 'tissue', 'self_reported_ethnicity', 'development_stage', 'observation_joinid'\n",
       "    var: 'present_Fltp_2y', 'present_Fltp_adult', 'present_Fltp_P16', 'present_NOD', 'present_NOD_elimination', 'present_spikein_drug', 'present_embryo', 'present_VSG', 'present_STZ', 'feature_is_filtered', 'feature_name', 'feature_reference', 'feature_biotype', 'feature_length', 'feature_type'\n",
       "    uns: 'batch_condition', 'cell_type_reannotatedIntegrated_colors', 'citation', 'dataset_colors', 'default_embedding', 'field_descriptions', 'schema_reference', 'schema_version', 'title'\n",
       "    obsm: 'X_integrated_umap', 'X_integrated_umap_beta'\n",
       "    layers: 'counts'"
      ]
     },
     "execution_count": 5,
     "metadata": {},
     "output_type": "execute_result"
    }
   ],
   "source": [
    "adata"
   ]
  },
  {
   "cell_type": "markdown",
   "id": "bd2127ad",
   "metadata": {},
   "source": [
    "### preprocessing"
   ]
  },
  {
   "cell_type": "code",
   "execution_count": 6,
   "id": "842d3cfc",
   "metadata": {},
   "outputs": [
    {
     "name": "stdout",
     "output_type": "stream",
     "text": [
      "✅ Restarted from raw: (301796, 31202)\n"
     ]
    }
   ],
   "source": [
    "# ---------------------- Config ----------------------\n",
    "MIN_GENES = 300\n",
    "MIN_CELLS_PER_GENE = 5\n",
    "N_TOP_HVG = 5000\n",
    "N_PCS = 300\n",
    "\n",
    "# ---------------------- Restart from Raw ----------------------\n",
    "adata = adata.raw.to_adata()\n",
    "print(f\"✅ Restarted from raw: {adata.shape}\")\n",
    "\n",
    "# ---------------------- Add 'counts' Layer ----------------------\n",
    "# Ensure integer counts and store them\n",
    "if not np.issubdtype(adata.X.dtype, np.integer):\n",
    "    adata.X = adata.X.astype(\"int32\")\n",
    "adata.layers[\"counts\"] = adata.X.copy()\n",
    "\n",
    "# ---------------------- QC Metrics ----------------------\n",
    "sc.pp.calculate_qc_metrics(adata, inplace=True)"
   ]
  },
  {
   "cell_type": "code",
   "execution_count": null,
   "id": "0e18dd55",
   "metadata": {},
   "outputs": [],
   "source": [
    "adata"
   ]
  },
  {
   "cell_type": "code",
   "execution_count": 7,
   "id": "3f6b4858",
   "metadata": {},
   "outputs": [
    {
     "data": {
      "text/plain": [
       "{'VSG_MUC13632': 19923,\n",
       " 'embryo_E15_5': 11303,\n",
       " 'embryo_E12_5': 11090,\n",
       " 'embryo_E14_5': 10089,\n",
       " 'STZ_G6': 9863,\n",
       " 'VSG_MUC13639': 9442,\n",
       " 'Fltp_P16_145_mGFP': 9221,\n",
       " 'STZ_G2': 9184,\n",
       " 'VSG_MUC13641': 8788,\n",
       " 'VSG_MUC13640': 8787,\n",
       " 'VSG_MUC13642': 8439,\n",
       " 'STZ_G1': 8388,\n",
       " 'NOD_elimination_SRR7610298': 8372,\n",
       " 'NOD_elimination_SRR7610301': 7564,\n",
       " 'Fltp_2y_MUC13974': 7534,\n",
       " 'STZ_G5': 7280,\n",
       " 'Fltp_P16_146_mRFP': 7172,\n",
       " 'STZ_G4': 6292,\n",
       " 'NOD_elimination_SRR7610299': 6271,\n",
       " 'spikein_drug_SRR10751502': 6164,\n",
       " 'Fltp_2y_MUC13976': 6081,\n",
       " 'NOD_elimination_SRR7610302': 5988,\n",
       " 'NOD_elimination_SRR7610303': 5972,\n",
       " 'NOD_elimination_SRR7610300': 5765,\n",
       " 'VSG_MUC13634': 5633,\n",
       " 'spikein_drug_SRR10751506': 5562,\n",
       " 'VSG_MUC13633': 5522,\n",
       " 'Fltp_adult_mouse4': 5359,\n",
       " 'NOD_elimination_SRR7610297': 5178,\n",
       " 'embryo_E13_5': 5079,\n",
       " 'NOD_elimination_SRR7610295': 4881,\n",
       " 'Fltp_adult_mouse2': 4664,\n",
       " 'NOD_elimination_SRR7610296': 4338,\n",
       " 'STZ_G8': 4303,\n",
       " 'STZ_G3': 4235,\n",
       " 'Fltp_adult_mouse1': 4094,\n",
       " 'Fltp_2y_MUC13975': 3746,\n",
       " 'Fltp_P16_147_mTmG': 3488,\n",
       " 'spikein_drug_SRR10751504': 3301,\n",
       " 'Fltp_adult_mouse3': 3236,\n",
       " 'VSG_MUC13631': 3211,\n",
       " 'spikein_drug_SRR10751508': 3082,\n",
       " 'spikein_drug_SRR10751510': 1955,\n",
       " 'spikein_drug_SRR10751511': 1877,\n",
       " 'spikein_drug_SRR10751503': 1875,\n",
       " 'spikein_drug_SRR10751516': 1570,\n",
       " 'spikein_drug_SRR10751505': 1526,\n",
       " 'spikein_drug_SRR10751514': 1437,\n",
       " 'spikein_drug_SRR10751507': 1322,\n",
       " 'NOD_SRR10985099': 1092,\n",
       " 'spikein_drug_SRR10751509': 1066,\n",
       " 'NOD_SRR10985097': 976,\n",
       " 'spikein_drug_SRR10751515': 909,\n",
       " 'spikein_drug_SRR10751513': 909,\n",
       " 'spikein_drug_SRR10751512': 776,\n",
       " 'NOD_SRR10985098': 622}"
      ]
     },
     "execution_count": 7,
     "metadata": {},
     "output_type": "execute_result"
    }
   ],
   "source": [
    "adata.obs['batch_integration'].value_counts().to_dict()"
   ]
  },
  {
   "cell_type": "code",
   "execution_count": 8,
   "id": "315e4344",
   "metadata": {},
   "outputs": [
    {
     "data": {
      "text/plain": [
       "(301723, 31202)"
      ]
     },
     "execution_count": 8,
     "metadata": {},
     "output_type": "execute_result"
    }
   ],
   "source": [
    "# ---------------------- Cell Filtering ----------------------\n",
    "adata = adata[adata.obs.n_genes_by_counts > MIN_GENES, :]\n",
    "adata.write(data_dir / f\"{file_name}_preprocessed.h5ad\")\n",
    "adata.shape"
   ]
  },
  {
   "cell_type": "code",
   "execution_count": 9,
   "id": "09aaf6f3",
   "metadata": {},
   "outputs": [
    {
     "data": {
      "text/plain": [
       "(301723, 24871)"
      ]
     },
     "execution_count": 9,
     "metadata": {},
     "output_type": "execute_result"
    }
   ],
   "source": [
    "# ---------------------- Gene Filtering ----------------------\n",
    "sc.pp.filter_genes(adata, min_cells=MIN_CELLS_PER_GENE)\n",
    "adata.shape"
   ]
  },
  {
   "cell_type": "code",
   "execution_count": 10,
   "id": "e2e52f38",
   "metadata": {},
   "outputs": [
    {
     "name": "stdout",
     "output_type": "stream",
     "text": [
      "✅ Preprocessing complete: (301723, 5000). 'counts' saved in layers and raw.\n"
     ]
    }
   ],
   "source": [
    "# ---------------------- Set Filtered Raw ----------------------\n",
    "adata.raw = adata.copy()\n",
    "\n",
    "# ---------------------- Normalize & Log Transform ----------------------\n",
    "sc.pp.normalize_total(adata, target_sum=1e4)\n",
    "sc.pp.log1p(adata)\n",
    "\n",
    "# ---------------------- Highly Variable Genes ----------------------\n",
    "sc.pp.highly_variable_genes(\n",
    "    adata,\n",
    "    flavor='seurat_v3',\n",
    "    n_top_genes=N_TOP_HVG,\n",
    "    subset=False\n",
    ")\n",
    "\n",
    "# ---------------------- PCA ----------------------\n",
    "sc.tl.pca(\n",
    "    adata,\n",
    "    n_comps=N_PCS,\n",
    "    svd_solver='arpack',\n",
    "    use_highly_variable=True\n",
    ")\n",
    "\n",
    "# ---------------------- Subset to HVGs ----------------------\n",
    "adata = adata[:, adata.var.highly_variable].copy()\n",
    "adata.write(data_dir / f\"{file_name}_preprocessed_HVG.h5ad\")  # after HVG subsetting\n",
    "\n",
    "print(f\"✅ Preprocessing complete: {adata.shape}. 'counts' saved in layers and raw.\")"
   ]
  },
  {
   "cell_type": "markdown",
   "id": "faf6981c",
   "metadata": {},
   "source": [
    "### run integration methods"
   ]
  },
  {
   "cell_type": "code",
   "execution_count": 4,
   "id": "915d886f",
   "metadata": {},
   "outputs": [],
   "source": [
    "adata = sc.read_h5ad(data_dir / f\"{file_name}_preprocessed_HVG.h5ad\")"
   ]
  },
  {
   "cell_type": "code",
   "execution_count": 5,
   "id": "8f7ba652",
   "metadata": {},
   "outputs": [
    {
     "data": {
      "text/plain": [
       "AnnData object with n_obs × n_vars = 301723 × 5000\n",
       "    obs: 'batch_integration', 'dataset', 'design', 'cell_cycle_phase', 'ins_high', 'gcg_high', 'sst_high', 'ppy_high', 'cell_filtering', 'strain', 'age', 'cell_type_originalDataset_unified', 'cell_type_originalDataset', 'cell_type_reannotatedIntegrated', 'n_genes', 'mt_frac', 'doublet_score', 'log10_n_counts', 'age_approxDays', 'dataset__design__sample', 'cell_subtype_immune_reannotatedIntegrated', 'cell_subtype_endothelial_reannotatedIntegrated', 'emptyDrops_LogProb_scaled', 'cell_subtype_beta_coarse_reannotatedIntegrated', 'cell_subtype_beta_fine_reannotatedIntegrated', 'GP_1', 'GP_2', 'GP_3', 'GP_4', 'GP_5', 'GP_6', 'GP_7', 'GP_8', 'GP_9', 'GP_10', 'GP_11', 'GP_12', 'GP_13', 'GP_14', 'GP_15', 'GP_16', 'GP_17', 'GP_18', 'GP_19', 'GP_20', 'GP_21', 'GP_22', 'GP_23', 'GP_24', 'GP_25', 'GP_26', 'GP_27', 'assay_ontology_term_id', 'cell_type_ontology_term_id', 'development_stage_ontology_term_id', 'diabetes_model', 'chemical_stress', 'GEO_accession', 'disease_ontology_term_id', 'self_reported_ethnicity_ontology_term_id', 'is_primary_data', 'organism_ontology_term_id', 'sex_ontology_term_id', 'sex_annotation', 'tissue_ontology_term_id', 'low_q', 'donor_id', 'suspension_type', 'tissue_type', 'cell_type', 'assay', 'disease', 'organism', 'sex', 'tissue', 'self_reported_ethnicity', 'development_stage', 'observation_joinid', 'n_genes_by_counts', 'log1p_n_genes_by_counts', 'total_counts', 'log1p_total_counts', 'pct_counts_in_top_50_genes', 'pct_counts_in_top_100_genes', 'pct_counts_in_top_200_genes', 'pct_counts_in_top_500_genes'\n",
       "    var: 'present_Fltp_2y', 'present_Fltp_adult', 'present_Fltp_P16', 'present_NOD', 'present_NOD_elimination', 'present_spikein_drug', 'present_embryo', 'present_VSG', 'present_STZ', 'feature_name', 'feature_reference', 'feature_biotype', 'feature_length', 'feature_type', 'n_cells_by_counts', 'mean_counts', 'log1p_mean_counts', 'pct_dropout_by_counts', 'total_counts', 'log1p_total_counts', 'n_cells', 'highly_variable', 'highly_variable_rank', 'means', 'variances', 'variances_norm'\n",
       "    uns: 'batch_condition', 'cell_type_reannotatedIntegrated_colors', 'citation', 'dataset_colors', 'default_embedding', 'field_descriptions', 'hvg', 'log1p', 'pca', 'schema_reference', 'schema_version', 'title'\n",
       "    obsm: 'X_integrated_umap', 'X_integrated_umap_beta', 'X_pca'\n",
       "    varm: 'PCs'\n",
       "    layers: 'counts'"
      ]
     },
     "execution_count": 5,
     "metadata": {},
     "output_type": "execute_result"
    }
   ],
   "source": [
    "adata"
   ]
  },
  {
   "cell_type": "code",
   "execution_count": 6,
   "id": "950df5cf",
   "metadata": {},
   "outputs": [
    {
     "name": "stdout",
     "output_type": "stream",
     "text": [
      "✅ Generated: benchmark_pancreatic_islet_Hrovatin/benchmark_pancreatic_islet_Hrovatin_unintegrated.py\n",
      "✅ Generated: benchmark_pancreatic_islet_Hrovatin/benchmark_pancreatic_islet_Hrovatin_unintegrated.sh\n",
      "\n",
      "✅ Generated: benchmark_pancreatic_islet_Hrovatin/benchmark_pancreatic_islet_Hrovatin_harmony.py\n",
      "✅ Generated: benchmark_pancreatic_islet_Hrovatin/benchmark_pancreatic_islet_Hrovatin_harmony.sh\n",
      "\n",
      "✅ Generated: benchmark_pancreatic_islet_Hrovatin/benchmark_pancreatic_islet_Hrovatin_liger.py\n",
      "✅ Generated: benchmark_pancreatic_islet_Hrovatin/benchmark_pancreatic_islet_Hrovatin_liger.sh\n",
      "\n",
      "✅ Generated: benchmark_pancreatic_islet_Hrovatin/benchmark_pancreatic_islet_Hrovatin_scanorama.py\n",
      "✅ Generated: benchmark_pancreatic_islet_Hrovatin/benchmark_pancreatic_islet_Hrovatin_scanorama.sh\n",
      "\n",
      "✅ Generated: benchmark_pancreatic_islet_Hrovatin/benchmark_pancreatic_islet_Hrovatin_scvi.py\n",
      "✅ Generated: benchmark_pancreatic_islet_Hrovatin/benchmark_pancreatic_islet_Hrovatin_scvi.sh\n",
      "\n",
      "✅ Generated: benchmark_pancreatic_islet_Hrovatin/benchmark_pancreatic_islet_Hrovatin_contrastive.py\n",
      "✅ Generated: benchmark_pancreatic_islet_Hrovatin/benchmark_pancreatic_islet_Hrovatin_contrastive.sh\n",
      "\n",
      "✅ Generated: benchmark_pancreatic_islet_Hrovatin/benchmark_pancreatic_islet_Hrovatin_concord_knn.py\n",
      "✅ Generated: benchmark_pancreatic_islet_Hrovatin/benchmark_pancreatic_islet_Hrovatin_concord_knn.sh\n",
      "\n",
      "✅ Generated: benchmark_pancreatic_islet_Hrovatin/benchmark_pancreatic_islet_Hrovatin_concord_hcl.py\n",
      "✅ Generated: benchmark_pancreatic_islet_Hrovatin/benchmark_pancreatic_islet_Hrovatin_concord_hcl.sh\n",
      "\n"
     ]
    },
    {
     "data": {
      "text/plain": [
       "CompletedProcess(args=['python', './generate_py_jobs.py', '--proj_name', 'pancreatic_islet_Hrovatin', '--adata_filename', 'pancreatic_islet_Hrovatin_preprocessed_HVG.h5ad', '--methods', 'unintegrated', 'harmony', 'liger', 'scanorama', 'scvi', 'contrastive', 'concord_knn', 'concord_hcl', '--batch_key', 'batch_integration', '--state_key', 'cell_type', '--latent_dim', '50', '--output_dir', '../jobs', '--device', 'auto', '--conda_env', 'concord_env', '--runtime', '02:00:00', '--mode', 'local', '--verbose'], returncode=0)"
      ]
     },
     "execution_count": 6,
     "metadata": {},
     "output_type": "execute_result"
    }
   ],
   "source": [
    "import subprocess, json\n",
    "methods = [\"unintegrated\", \"harmony\", \"liger\", \"scanorama\", \"scvi\", \"contrastive\", \"concord_knn\", \"concord_hcl\"]\n",
    "\n",
    "# concord_args = {\n",
    "#     \"encoder_dims\": [512, 256],\n",
    "#     \"beta\": 0.1,\n",
    "#     \"n_epochs\": 10\n",
    "# }\n",
    "\n",
    "output_dir = '../jobs'\n",
    "device = 'auto'\n",
    "conda_env = 'concord_env'\n",
    "batch_key = 'batch_integration'  # Use the same batch key as in the notebook  \n",
    "state_key = 'cell_type'\n",
    "latent_dim = '50'  # Adjust as needed, but should match the encoder_dims in concord_args\n",
    "\n",
    "mode = 'local'\n",
    "\n",
    "subprocess.run([\n",
    "    \"python\", \"./generate_py_jobs.py\",\n",
    "    \"--proj_name\", proj_name,\n",
    "    \"--adata_filename\", f\"{file_name}_preprocessed_HVG.h5ad\",\n",
    "    \"--methods\", *methods,\n",
    "    \"--batch_key\", batch_key,\n",
    "    \"--state_key\", state_key,\n",
    "    \"--latent_dim\", latent_dim,\n",
    "    \"--output_dir\", output_dir,\n",
    "    \"--device\", device,\n",
    "    \"--conda_env\", conda_env,\n",
    "    \"--runtime\", \"02:00:00\",\n",
    "    \"--mode\", mode,\n",
    "    # \"--concord_kwargs\", json.dumps(concord_args)\n",
    "    \"--verbose\"\n",
    "], check=True)"
   ]
  },
  {
   "cell_type": "code",
   "execution_count": 7,
   "id": "c775fdb3",
   "metadata": {},
   "outputs": [
    {
     "name": "stdout",
     "output_type": "stream",
     "text": [
      "📌  Next step: Run “../jobs/benchmark_pancreatic_islet_Hrovatin/submit_all_pancreatic_islet_Hrovatin.sh” to execute all batch integration methods sequentially.\n"
     ]
    }
   ],
   "source": [
    "proj_folder = Path(output_dir) / f\"benchmark_{proj_name}\"\n",
    "proj_folder.mkdir(parents=True, exist_ok=True)  # defensive\n",
    "\n",
    "submit_all = proj_folder / f\"submit_all_{proj_name}.sh\"\n",
    "\n",
    "with submit_all.open(\"w\") as f:\n",
    "    f.write(\"#!/bin/bash\\n\")\n",
    "    f.write(\"# Auto-generated — sequentially runs every benchmark Python file\\n\")\n",
    "    f.write('cd \"$(dirname \"$0\")\"\\n\\n')\n",
    "\n",
    "    f.write(\"source ~/.bashrc\\n\")\n",
    "    f.write(\"conda activate concord_env\\n\\n\")    \n",
    "    f.write(\"timestamp=$(date +'%m%d-%H%M')\\n\\n\")\n",
    "\n",
    "    # Set the Python executable to use\n",
    "    f.write('py_exec=\"${PYTHON_EXEC:-python}\"\\n\\n')\n",
    "\n",
    "    for py_file in sorted(proj_folder.glob(f\"benchmark_{proj_name}_*.py\")):\n",
    "        base = py_file.stem\n",
    "        f.write(f\"echo '🔄 Running: {py_file.name} (log: {base}_${{timestamp}}.log)'\\n\")\n",
    "        f.write(f\"${{py_exec}} {py_file.name} > {base}_${{timestamp}}.log 2>&1\\n\")\n",
    "        f.write(\"echo '✅ Done.'\\n\\n\")\n",
    "        \n",
    "submit_all.chmod(0o755)\n",
    "print(f\"📌  Next step: Run “{submit_all}” to execute all batch integration methods sequentially.\")"
   ]
  },
  {
   "cell_type": "code",
   "execution_count": 8,
   "id": "66ecedcf",
   "metadata": {},
   "outputs": [
    {
     "name": "stdout",
     "output_type": "stream",
     "text": [
      "🔄 Running: benchmark_pancreatic_islet_Hrovatin_concord_hcl.py (log: benchmark_pancreatic_islet_Hrovatin_concord_hcl_${timestamp}.log)\n",
      "✅ Done.\n",
      "🔄 Running: benchmark_pancreatic_islet_Hrovatin_concord_knn.py (log: benchmark_pancreatic_islet_Hrovatin_concord_knn_${timestamp}.log)\n",
      "✅ Done.\n",
      "🔄 Running: benchmark_pancreatic_islet_Hrovatin_contrastive.py (log: benchmark_pancreatic_islet_Hrovatin_contrastive_${timestamp}.log)\n",
      "✅ Done.\n",
      "🔄 Running: benchmark_pancreatic_islet_Hrovatin_harmony.py (log: benchmark_pancreatic_islet_Hrovatin_harmony_${timestamp}.log)\n",
      "✅ Done.\n",
      "🔄 Running: benchmark_pancreatic_islet_Hrovatin_liger.py (log: benchmark_pancreatic_islet_Hrovatin_liger_${timestamp}.log)\n",
      "../jobs/benchmark_pancreatic_islet_Hrovatin/submit_all_pancreatic_islet_Hrovatin.sh: line 29: 11553 Killed                  ${py_exec} benchmark_pancreatic_islet_Hrovatin_liger.py > benchmark_pancreatic_islet_Hrovatin_liger_${timestamp}.log 2>&1\n",
      "✅ Done.\n",
      "🔄 Running: benchmark_pancreatic_islet_Hrovatin_scanorama.py (log: benchmark_pancreatic_islet_Hrovatin_scanorama_${timestamp}.log)\n",
      "✅ Done.\n",
      "🔄 Running: benchmark_pancreatic_islet_Hrovatin_scvi.py (log: benchmark_pancreatic_islet_Hrovatin_scvi_${timestamp}.log)\n",
      "✅ Done.\n",
      "🔄 Running: benchmark_pancreatic_islet_Hrovatin_unintegrated.py (log: benchmark_pancreatic_islet_Hrovatin_unintegrated_${timestamp}.log)\n",
      "✅ Done.\n"
     ]
    }
   ],
   "source": [
    "# Run “{submit_all}” to execute all batch integration methods sequentially.\n",
    "!bash {submit_all}"
   ]
  },
  {
   "cell_type": "code",
   "execution_count": 8,
   "id": "8d5f6431",
   "metadata": {},
   "outputs": [
    {
     "name": "stdout",
     "output_type": "stream",
     "text": [
      "🔄 Running: benchmark_pancreatic_islet_Hrovatin_liger.py (log: benchmark_pancreatic_islet_Hrovatin_liger_${timestamp}.log)\n",
      "✅ Done.\n"
     ]
    }
   ],
   "source": [
    "!bash {submit_all}"
   ]
  },
  {
   "cell_type": "markdown",
   "id": "2a70e20e",
   "metadata": {},
   "source": [
    "----"
   ]
  },
  {
   "cell_type": "code",
   "execution_count": 9,
   "id": "ad59d60f",
   "metadata": {},
   "outputs": [],
   "source": [
    "# load adata with genes without HVG selection\n",
    "adata = sc.read_h5ad(data_dir / f\"{file_name}_preprocessed.h5ad\")\n",
    "\n",
    "methods = [\"unintegrated\", \"liger\", \"harmony\", \"scanorama\", \"scvi\", \"contrastive\", \"concord_knn\", \"concord_hcl\"]"
   ]
  },
  {
   "cell_type": "code",
   "execution_count": 10,
   "id": "0db08106",
   "metadata": {},
   "outputs": [
    {
     "data": {
      "text/plain": [
       "AnnData object with n_obs × n_vars = 301723 × 31202\n",
       "    obs: 'batch_integration', 'dataset', 'design', 'cell_cycle_phase', 'ins_high', 'gcg_high', 'sst_high', 'ppy_high', 'cell_filtering', 'strain', 'age', 'cell_type_originalDataset_unified', 'cell_type_originalDataset', 'cell_type_reannotatedIntegrated', 'n_genes', 'mt_frac', 'doublet_score', 'log10_n_counts', 'age_approxDays', 'dataset__design__sample', 'cell_subtype_immune_reannotatedIntegrated', 'cell_subtype_endothelial_reannotatedIntegrated', 'emptyDrops_LogProb_scaled', 'cell_subtype_beta_coarse_reannotatedIntegrated', 'cell_subtype_beta_fine_reannotatedIntegrated', 'GP_1', 'GP_2', 'GP_3', 'GP_4', 'GP_5', 'GP_6', 'GP_7', 'GP_8', 'GP_9', 'GP_10', 'GP_11', 'GP_12', 'GP_13', 'GP_14', 'GP_15', 'GP_16', 'GP_17', 'GP_18', 'GP_19', 'GP_20', 'GP_21', 'GP_22', 'GP_23', 'GP_24', 'GP_25', 'GP_26', 'GP_27', 'assay_ontology_term_id', 'cell_type_ontology_term_id', 'development_stage_ontology_term_id', 'diabetes_model', 'chemical_stress', 'GEO_accession', 'disease_ontology_term_id', 'self_reported_ethnicity_ontology_term_id', 'is_primary_data', 'organism_ontology_term_id', 'sex_ontology_term_id', 'sex_annotation', 'tissue_ontology_term_id', 'low_q', 'donor_id', 'suspension_type', 'tissue_type', 'cell_type', 'assay', 'disease', 'organism', 'sex', 'tissue', 'self_reported_ethnicity', 'development_stage', 'observation_joinid', 'n_genes_by_counts', 'log1p_n_genes_by_counts', 'total_counts', 'log1p_total_counts', 'pct_counts_in_top_50_genes', 'pct_counts_in_top_100_genes', 'pct_counts_in_top_200_genes', 'pct_counts_in_top_500_genes'\n",
       "    var: 'present_Fltp_2y', 'present_Fltp_adult', 'present_Fltp_P16', 'present_NOD', 'present_NOD_elimination', 'present_spikein_drug', 'present_embryo', 'present_VSG', 'present_STZ', 'feature_name', 'feature_reference', 'feature_biotype', 'feature_length', 'feature_type', 'n_cells_by_counts', 'mean_counts', 'log1p_mean_counts', 'pct_dropout_by_counts', 'total_counts', 'log1p_total_counts'\n",
       "    uns: 'batch_condition', 'cell_type_reannotatedIntegrated_colors', 'citation', 'dataset_colors', 'default_embedding', 'field_descriptions', 'schema_reference', 'schema_version', 'title'\n",
       "    obsm: 'X_integrated_umap', 'X_integrated_umap_beta'\n",
       "    layers: 'counts'"
      ]
     },
     "execution_count": 10,
     "metadata": {},
     "output_type": "execute_result"
    }
   ],
   "source": [
    "adata"
   ]
  },
  {
   "cell_type": "code",
   "execution_count": 11,
   "id": "19ab39b3",
   "metadata": {},
   "outputs": [
    {
     "name": "stdout",
     "output_type": "stream",
     "text": [
      "✅ obsm['unintegrated'] loaded\n",
      "✅ obsm['liger'] loaded\n",
      "✅ obsm['harmony'] loaded\n",
      "✅ obsm['scanorama'] loaded\n",
      "✅ obsm['scvi'] loaded\n",
      "✅ obsm['contrastive'] loaded\n",
      "✅ obsm['concord_knn'] loaded\n",
      "✅ obsm['concord_hcl'] loaded\n"
     ]
    }
   ],
   "source": [
    "from benchmark_utils import add_embeddings\n",
    "\n",
    "adata = add_embeddings(adata, proj_name=proj_name, methods=methods)"
   ]
  },
  {
   "cell_type": "code",
   "execution_count": 12,
   "id": "e0cbd325",
   "metadata": {},
   "outputs": [
    {
     "data": {
      "text/plain": [
       "AnnData object with n_obs × n_vars = 301723 × 31202\n",
       "    obs: 'batch_integration', 'dataset', 'design', 'cell_cycle_phase', 'ins_high', 'gcg_high', 'sst_high', 'ppy_high', 'cell_filtering', 'strain', 'age', 'cell_type_originalDataset_unified', 'cell_type_originalDataset', 'cell_type_reannotatedIntegrated', 'n_genes', 'mt_frac', 'doublet_score', 'log10_n_counts', 'age_approxDays', 'dataset__design__sample', 'cell_subtype_immune_reannotatedIntegrated', 'cell_subtype_endothelial_reannotatedIntegrated', 'emptyDrops_LogProb_scaled', 'cell_subtype_beta_coarse_reannotatedIntegrated', 'cell_subtype_beta_fine_reannotatedIntegrated', 'GP_1', 'GP_2', 'GP_3', 'GP_4', 'GP_5', 'GP_6', 'GP_7', 'GP_8', 'GP_9', 'GP_10', 'GP_11', 'GP_12', 'GP_13', 'GP_14', 'GP_15', 'GP_16', 'GP_17', 'GP_18', 'GP_19', 'GP_20', 'GP_21', 'GP_22', 'GP_23', 'GP_24', 'GP_25', 'GP_26', 'GP_27', 'assay_ontology_term_id', 'cell_type_ontology_term_id', 'development_stage_ontology_term_id', 'diabetes_model', 'chemical_stress', 'GEO_accession', 'disease_ontology_term_id', 'self_reported_ethnicity_ontology_term_id', 'is_primary_data', 'organism_ontology_term_id', 'sex_ontology_term_id', 'sex_annotation', 'tissue_ontology_term_id', 'low_q', 'donor_id', 'suspension_type', 'tissue_type', 'cell_type', 'assay', 'disease', 'organism', 'sex', 'tissue', 'self_reported_ethnicity', 'development_stage', 'observation_joinid', 'n_genes_by_counts', 'log1p_n_genes_by_counts', 'total_counts', 'log1p_total_counts', 'pct_counts_in_top_50_genes', 'pct_counts_in_top_100_genes', 'pct_counts_in_top_200_genes', 'pct_counts_in_top_500_genes'\n",
       "    var: 'present_Fltp_2y', 'present_Fltp_adult', 'present_Fltp_P16', 'present_NOD', 'present_NOD_elimination', 'present_spikein_drug', 'present_embryo', 'present_VSG', 'present_STZ', 'feature_name', 'feature_reference', 'feature_biotype', 'feature_length', 'feature_type', 'n_cells_by_counts', 'mean_counts', 'log1p_mean_counts', 'pct_dropout_by_counts', 'total_counts', 'log1p_total_counts'\n",
       "    uns: 'batch_condition', 'cell_type_reannotatedIntegrated_colors', 'citation', 'dataset_colors', 'default_embedding', 'field_descriptions', 'schema_reference', 'schema_version', 'title'\n",
       "    obsm: 'X_integrated_umap', 'X_integrated_umap_beta', 'unintegrated', 'liger', 'harmony', 'scanorama', 'scvi', 'contrastive', 'concord_knn', 'concord_hcl'\n",
       "    layers: 'counts'"
      ]
     },
     "execution_count": 12,
     "metadata": {},
     "output_type": "execute_result"
    }
   ],
   "source": [
    "adata"
   ]
  },
  {
   "cell_type": "code",
   "execution_count": 13,
   "id": "25ad35f2",
   "metadata": {},
   "outputs": [],
   "source": [
    "# save adata with all embeddings\n",
    "adata.write_h5ad(data_dir / f\"{file_name}_final.h5ad\")"
   ]
  },
  {
   "cell_type": "markdown",
   "id": "caedc463",
   "metadata": {},
   "source": [
    "----"
   ]
  },
  {
   "cell_type": "code",
   "execution_count": 14,
   "id": "4a82cf61",
   "metadata": {},
   "outputs": [
    {
     "name": "stdout",
     "output_type": "stream",
     "text": [
      "✅ obsm['scvi'] loaded\n",
      "✅ obsm['harmony'] loaded\n",
      "✅ obsm['scanorama'] loaded\n",
      "✅ obsm['liger'] loaded\n",
      "✅ obsm['unintegrated'] loaded\n",
      "✅ obsm['concord_hcl'] loaded\n",
      "✅ obsm['contrastive'] loaded\n"
     ]
    }
   ],
   "source": [
    "# map the obsm back to the adata \n",
    "# for each method, uses the most recent run (based on timestamp)\n",
    "# methods = [\"scvi\", \"harmony\", \"scanorama\", \"liger\", \"unintegrated\", \"concord_hcl\", \"concord_knn\", \"contrastive\"]\n",
    "\n",
    "from benchmark_utils import add_embeddings\n",
    "\n",
    "adata = add_embeddings(adata, proj_name=proj_name, methods=methods)\n",
    "\n"
   ]
  },
  {
   "cell_type": "code",
   "execution_count": null,
   "id": "d6093ec3",
   "metadata": {},
   "outputs": [],
   "source": [
    "for method in methods:\n",
    "    if f\"{method}_UMAP\" in adata.obsm:\n",
    "        print(f\"[⚠️ Warning] obsm['{method}_UMAP'] already exists, skipping UMAP computation\")\n",
    "    else:\n",
    "        print(f\"Computing 2D UMAP for {method}...\")\n",
    "        ccd.ul.run_umap(adata, source_key=f\"{method}\", result_key=f\"{method}_UMAP\", n_components=2, n_neighbors=30, min_dist=0.1, metric='euclidean', random_state=seed)\n",
    "        print(f\"✅ obsm['{method}_UMAP'] computed\")\n",
    "    if f\"{method}_UMAP_3D\" in adata.obsm:\n",
    "        print(f\"[⚠️ Warning] obsm['{method}_UMAP_3D'] already exists, skipping UMAP computation\")\n",
    "    else:\n",
    "        print(f\"Computing 3D UMAP for {method}...\")\n",
    "        ccd.ul.run_umap(adata,source_key=f\"{method}\",result_key=f\"{method}_UMAP_3D\",n_components=3,  min_dist=0.1, metric='euclidean', random_state=seed)\n",
    "        print(f\"✅ obsm['{method}_UMAP_3D'] computed\")\n",
    "\n",
    "ccd.ul.save_obsm_to_hdf5(adata, save_dir / f\"obsm_{file_suffix}.h5\")\n",
    "print(f\"✅ Embeddings saved to {save_dir / f'obsm_{file_suffix}.h5'}\")\n",
    "final_path = data_dir / f\"{file_name}_final.h5ad\"\n",
    "adata.write_h5ad(final_path)\n",
    "print(f\"✅ Final AnnData saved to: {final_path}\")"
   ]
  },
  {
   "cell_type": "code",
   "execution_count": null,
   "id": "1b49eddf",
   "metadata": {},
   "outputs": [],
   "source": [
    "adata.write_h5ad(final_path)\n",
    "print(f\"✅ Final AnnData saved to: {final_path}\")"
   ]
  },
  {
   "cell_type": "code",
   "execution_count": null,
   "id": "17be074e",
   "metadata": {},
   "outputs": [],
   "source": [
    "# plot everything\n",
    "import matplotlib.pyplot as plt\n",
    "import numpy as np\n",
    "from matplotlib import rcParams\n",
    "\n",
    "# Set DejaVu Sans as the default font\n",
    "custom_rc = {\n",
    "    'font.family': 'DejaVu Sans',  # Set the desired font for this plot\n",
    "}\n",
    "\n",
    "show_keys = methods\n",
    "show_cols = [batch_key, state_key]\n",
    "basis_types = ['UMAP']\n",
    "\n",
    "font_size=10\n",
    "point_size=.1\n",
    "alpha=0.8\n",
    "ncols = len(show_keys)\n",
    "figsize=(ncols * 1.5,1.5)\n",
    "nrows = int(np.ceil(len(show_keys) / ncols))\n",
    "pal = {'donor_id': 'Set1', \n",
    "       'cell_type': 'Set1'}\n",
    "\n",
    "with plt.rc_context(rc=custom_rc):\n",
    "    ccd.pl.plot_all_embeddings(\n",
    "        adata,\n",
    "        show_keys,\n",
    "        color_bys=show_cols,\n",
    "        basis_types=basis_types,\n",
    "        pal=pal,\n",
    "        font_size=font_size,\n",
    "        point_size=point_size,\n",
    "        alpha=alpha,\n",
    "        figsize=figsize,\n",
    "        ncols=ncols,\n",
    "        seed=seed,\n",
    "        save_dir=save_dir,\n",
    "        file_suffix=file_suffix,\n",
    "        dpi=600,\n",
    "        save_format='svg'\n",
    "    )\n"
   ]
  },
  {
   "cell_type": "code",
   "execution_count": null,
   "id": "ec139d4d",
   "metadata": {},
   "outputs": [],
   "source": [
    "output_key = 'concord_hcl'\n",
    "basis = output_key\n",
    "show_basis = basis + '_UMAP'\n",
    "show_cols = ['donor_id', 'cell_type']\n",
    "with plt.rc_context(rc=custom_rc):\n",
    "    ccd.pl.plot_embedding(\n",
    "        adata, show_basis, show_cols, figsize=(8,4), dpi=600, ncols=2, font_size=4, point_size=0.5, legend_loc='on data',\n",
    "        pal = pal, seed=seed,\n",
    "        save_path=save_dir / f\"{show_basis}_{file_suffix}_wttext.pdf\"\n",
    "    )"
   ]
  },
  {
   "cell_type": "code",
   "execution_count": null,
   "id": "eb5e3324",
   "metadata": {},
   "outputs": [],
   "source": [
    "ccd.ul.anndata_to_viscello(adata, data_dir / f\"cello_{proj_name}_{file_suffix}\", project_name = proj_name, organism='hsa')\n",
    "print(f\"Saved viscello to {data_dir / f'cello_{proj_name}_{file_suffix}'}\")"
   ]
  },
  {
   "cell_type": "markdown",
   "id": "22545242",
   "metadata": {},
   "source": [
    "# Benchmarking"
   ]
  },
  {
   "cell_type": "code",
   "execution_count": null,
   "id": "650bd860",
   "metadata": {},
   "outputs": [],
   "source": [
    "from benchmark_utils import collect_benchmark_logs\n",
    "bench_df = collect_benchmark_logs(\"dkd_Wilson\", methods)\n",
    "# Save the benchmark results\n",
    "bench_df.to_csv(save_dir / f\"benchmark_summary_{file_suffix}.tsv\", sep=\"\\t\", index=False)\n",
    "print(f\"✅ Benchmark summary saved to: {save_dir / f'benchmark_summary_{file_suffix}.tsv'}\")\n",
    "# Plot benchmark results\n",
    "from benchmark_utils import plot_benchmark_performance\n",
    "import matplotlib.pyplot as plt\n",
    "custom_rc = {\n",
    "    'font.family': 'DejaVu Sans',  # Set the desired font for this plot\n",
    "}\n",
    "with plt.rc_context(rc=custom_rc):\n",
    "    plot_benchmark_performance(bench_df, figsize=(8,2), dpi=300, save_path = save_dir / f\"benchmark_plot_{file_suffix}.pdf\")\n"
   ]
  },
  {
   "cell_type": "code",
   "execution_count": null,
   "id": "21bbc0ed",
   "metadata": {},
   "outputs": [],
   "source": [
    "# Run the benchmark pipeline\n",
    "out = ccd.bm.run_benchmark_pipeline(\n",
    "    adata,\n",
    "    embedding_keys=methods,\n",
    "    state_key=state_key,\n",
    "    batch_key=batch_key,\n",
    "    save_dir=save_dir / \"benchmarks_celltype\",\n",
    "    file_suffix=file_suffix,  # e.g. \"2025-06-25\"\n",
    "    run=(\"scib\",\"probe\"),          # run only these blocks\n",
    "    plot_individual=False,          # skip the intermediate PDFs\n",
    ")\n",
    "combined_celltype = out[\"combined\"]\n",
    "\n",
    "# Save the benchmark results\n",
    "import pickle\n",
    "with open(save_dir / f\"benchmark_{state_key}_{file_suffix}.pkl\", \"wb\") as f:\n",
    "    pickle.dump(out, f)\n",
    "\n",
    "print(f\"✅ Benchmark results saved to: {save_dir / f'benchmark_{state_key}_{file_suffix}.pkl'}\")"
   ]
  },
  {
   "cell_type": "code",
   "execution_count": null,
   "id": "9c9e1965",
   "metadata": {},
   "outputs": [],
   "source": []
  }
 ],
 "metadata": {
  "kernelspec": {
   "display_name": "concord_env",
   "language": "python",
   "name": "python3"
  },
  "language_info": {
   "codemirror_mode": {
    "name": "ipython",
    "version": 3
   },
   "file_extension": ".py",
   "mimetype": "text/x-python",
   "name": "python",
   "nbconvert_exporter": "python",
   "pygments_lexer": "ipython3",
   "version": "3.12.2"
  }
 },
 "nbformat": 4,
 "nbformat_minor": 5
}
