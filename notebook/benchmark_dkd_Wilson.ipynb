{
 "cells": [
  {
   "cell_type": "markdown",
   "id": "2537a34a",
   "metadata": {},
   "source": [
    "# Benchmark"
   ]
  },
  {
   "cell_type": "code",
   "execution_count": 1,
   "id": "80f615fb",
   "metadata": {},
   "outputs": [],
   "source": [
    "%load_ext autoreload\n",
    "%autoreload 2\n"
   ]
  },
  {
   "cell_type": "code",
   "execution_count": 2,
   "id": "fd9f95b5",
   "metadata": {},
   "outputs": [],
   "source": [
    "import os\n",
    "import numpy as np\n",
    "import scanpy as sc\n",
    "import time\n",
    "from pathlib import Path\n",
    "import torch\n",
    "import concord as ccd\n",
    "import warnings\n",
    "warnings.filterwarnings('ignore')\n",
    "%matplotlib inline\n",
    "import matplotlib as mpl\n",
    "\n",
    "from matplotlib import font_manager, rcParams\n",
    "custom_rc = {\n",
    "    'font.family': 'Arial',  # Set the desired font for this plot\n",
    "}\n",
    "\n",
    "mpl.rcParams['svg.fonttype'] = 'none'\n",
    "mpl.rcParams['pdf.fonttype'] = 42"
   ]
  },
  {
   "cell_type": "code",
   "execution_count": 3,
   "id": "044ee5c2",
   "metadata": {},
   "outputs": [
    {
     "name": "stdout",
     "output_type": "stream",
     "text": [
      "cpu\n"
     ]
    },
    {
     "data": {
      "text/plain": [
       "'Jun10-2032'"
      ]
     },
     "execution_count": 3,
     "metadata": {},
     "output_type": "execute_result"
    }
   ],
   "source": [
    "proj_name = \"dkd_Wilson\"\n",
    "save_dir = f\"../save/{proj_name}-{time.strftime('%b%d')}/\"\n",
    "save_dir = Path(save_dir)\n",
    "save_dir.mkdir(parents=True, exist_ok=True)\n",
    "\n",
    "data_dir = f\"/Volumes/T7_ZJ/Datasets/Shared_Public\"\n",
    "data_dir = Path(data_dir)\n",
    "data_dir.mkdir(parents=True, exist_ok=True)\n",
    "\n",
    "device = torch.device('cuda:3' if torch.cuda.is_available() else 'cpu')\n",
    "print(device)\n",
    "seed = 0\n",
    "ccd.ul.set_seed(seed)\n",
    "\n",
    "file_suffix = f\"{time.strftime('%b%d-%H%M')}\"\n",
    "file_suffix"
   ]
  },
  {
   "cell_type": "code",
   "execution_count": 4,
   "id": "d341b379",
   "metadata": {},
   "outputs": [],
   "source": [
    "# load the adata\n",
    "# import scanpy as sc\n",
    "# data_dir = \"/Volumes/T7_ZJ/Datasets/Shared_Public/\"\n",
    "adata = sc.read_h5ad(data_dir / \"dkd_Wilson.h5ad\")"
   ]
  },
  {
   "cell_type": "code",
   "execution_count": null,
   "id": "e05a2d00",
   "metadata": {},
   "outputs": [],
   "source": [
    "# copy the raw counts to a new layer \"counts\"\n",
    "# adata.layers[\"counts\"] = adata.raw.X.copy()"
   ]
  },
  {
   "cell_type": "code",
   "execution_count": 5,
   "id": "4e3e5609",
   "metadata": {},
   "outputs": [],
   "source": [
    "batch_key = 'donor_id'\n",
    "state_key = 'cell_type'"
   ]
  },
  {
   "cell_type": "markdown",
   "id": "9b56596b",
   "metadata": {},
   "source": [
    "## preprocess data"
   ]
  },
  {
   "cell_type": "code",
   "execution_count": 6,
   "id": "505c63e7",
   "metadata": {},
   "outputs": [
    {
     "name": "stderr",
     "output_type": "stream",
     "text": [
      "OMP: Info #276: omp_set_nested routine deprecated, please use omp_set_max_active_levels instead.\n"
     ]
    }
   ],
   "source": [
    "sc.pp.highly_variable_genes(adata, n_top_genes=2000, flavor=\"seurat_v3\", batch_key=batch_key)\n",
    "sc.tl.pca(adata, n_comps=30, use_highly_variable=True)"
   ]
  },
  {
   "cell_type": "markdown",
   "id": "f378daac",
   "metadata": {},
   "source": [
    "----"
   ]
  },
  {
   "cell_type": "code",
   "execution_count": 7,
   "id": "ef9b6b71",
   "metadata": {},
   "outputs": [],
   "source": [
    "adata = adata[:, adata.var.highly_variable].copy()"
   ]
  },
  {
   "cell_type": "code",
   "execution_count": 8,
   "id": "91efc0f2",
   "metadata": {},
   "outputs": [],
   "source": [
    "# subset the adata to 2000 cells\n",
    "n_cells = 2000\n",
    "if adata.shape[0] > n_cells:\n",
    "    adata = adata[np.random.choice(adata.shape[0], n_cells, replace=False), :].copy()"
   ]
  },
  {
   "cell_type": "code",
   "execution_count": 9,
   "id": "682a165c",
   "metadata": {},
   "outputs": [
    {
     "data": {
      "text/plain": [
       "AnnData object with n_obs × n_vars = 2000 × 2000\n",
       "    obs: 'donor_id', 'self_reported_ethnicity_ontology_term_id', 'organism_ontology_term_id', 'sample_uuid', 'sample_preservation_method', 'tissue_ontology_term_id', 'development_stage_ontology_term_id', 'suspension_uuid', 'suspension_type', 'library_uuid', 'assay_ontology_term_id', 'mapped_reference_annotation', 'is_primary_data', 'cell_type_ontology_term_id', 'author_cell_type', 'disease_ontology_term_id', 'reported_diseases', 'sex_ontology_term_id', 'nCount_RNA', 'nFeature_RNA', 'percent.mt', 'percent.rpl', 'percent.rps', 'doublet_id', 'nCount_SCT', 'nFeature_SCT', 'seurat_clusters', 'tissue_type', 'cell_type', 'assay', 'disease', 'organism', 'sex', 'tissue', 'self_reported_ethnicity', 'development_stage', 'observation_joinid'\n",
       "    var: 'feature_is_filtered', 'feature_name', 'feature_reference', 'feature_biotype', 'feature_length', 'feature_type', 'highly_variable', 'highly_variable_rank', 'means', 'variances', 'variances_norm', 'highly_variable_nbatches'\n",
       "    uns: 'citation', 'default_embedding', 'schema_reference', 'schema_version', 'title', 'hvg', 'pca'\n",
       "    obsm: 'X_harmony', 'X_pca', 'X_umap'\n",
       "    varm: 'PCs'\n",
       "    layers: 'counts'"
      ]
     },
     "execution_count": 9,
     "metadata": {},
     "output_type": "execute_result"
    }
   ],
   "source": [
    "adata"
   ]
  },
  {
   "cell_type": "code",
   "execution_count": 14,
   "id": "2a0a4417",
   "metadata": {},
   "outputs": [],
   "source": [
    "combined_keys = [\n",
    "        # \"unintegrated\",\n",
    "        # \"scanorama\", \"liger\", \"harmony\",\n",
    "        \"scvi\", \"scanvi\",\n",
    "        # \"concord\",\n",
    "        # \"concord_class\", \n",
    "        # \"concord_decoder\", \"contrastive\"\n",
    "    ]"
   ]
  },
  {
   "cell_type": "code",
   "execution_count": 15,
   "id": "0afac4f2",
   "metadata": {},
   "outputs": [
    {
     "name": "stderr",
     "output_type": "stream",
     "text": [
      "GPU available: True (mps), used: False\n",
      "TPU available: False, using: 0 TPU cores\n",
      "IPU available: False, using: 0 IPUs\n",
      "HPU available: False, using: 0 HPUs\n"
     ]
    },
    {
     "name": "stdout",
     "output_type": "stream",
     "text": [
      "Epoch 400/400: 100%|██████████| 400/400 [01:09<00:00,  5.85it/s, v_num=1, train_loss_step=684, train_loss_epoch=536]   "
     ]
    },
    {
     "name": "stderr",
     "output_type": "stream",
     "text": [
      "`Trainer.fit` stopped: `max_epochs=400` reached.\n"
     ]
    },
    {
     "name": "stdout",
     "output_type": "stream",
     "text": [
      "Epoch 400/400: 100%|██████████| 400/400 [01:09<00:00,  5.75it/s, v_num=1, train_loss_step=684, train_loss_epoch=536]"
     ]
    },
    {
     "name": "stderr",
     "output_type": "stream",
     "text": [
      "scvi completed in 69.61 sec.\n",
      "Running UMAP on scvi...\n"
     ]
    },
    {
     "name": "stdout",
     "output_type": "stream",
     "text": [
      "\n",
      "\u001b[34mINFO    \u001b[0m Training for \u001b[1;36m20\u001b[0m epochs.                                                                                   \n"
     ]
    },
    {
     "name": "stderr",
     "output_type": "stream",
     "text": [
      "GPU available: True (mps), used: False\n",
      "TPU available: False, using: 0 TPU cores\n",
      "IPU available: False, using: 0 IPUs\n",
      "HPU available: False, using: 0 HPUs\n"
     ]
    },
    {
     "name": "stdout",
     "output_type": "stream",
     "text": [
      "Epoch 20/20: 100%|██████████| 20/20 [00:07<00:00,  2.59it/s, v_num=1, train_loss_step=540, train_loss_epoch=529]"
     ]
    },
    {
     "name": "stderr",
     "output_type": "stream",
     "text": [
      "`Trainer.fit` stopped: `max_epochs=20` reached.\n"
     ]
    },
    {
     "name": "stdout",
     "output_type": "stream",
     "text": [
      "Epoch 20/20: 100%|██████████| 20/20 [00:07<00:00,  2.58it/s, v_num=1, train_loss_step=540, train_loss_epoch=529]"
     ]
    },
    {
     "name": "stderr",
     "output_type": "stream",
     "text": [
      "scanvi completed in 7.80 sec.\n",
      "Running UMAP on scanvi...\n"
     ]
    },
    {
     "name": "stdout",
     "output_type": "stream",
     "text": [
      "\n"
     ]
    },
    {
     "name": "stderr",
     "output_type": "stream",
     "text": [
      "✅ Selected methods completed.\n"
     ]
    }
   ],
   "source": [
    "time_log, ram_log, vram_log = ccd.ul.run_integration_methods_pipeline(\n",
    "    adata=adata,                          # Your input AnnData object\n",
    "    methods=combined_keys,            # List of methods to run\n",
    "    batch_key=batch_key,                    # Column in adata.obs for batch info\n",
    "    count_layer=\"counts\",                 # Layer name containing raw counts\n",
    "    class_key=state_key,               # Column in adata.obs for class labels (used in SCANVI and CONCORD variants)\n",
    "    latent_dim=30,                        # Latent dimensionality for PCA and embeddings\n",
    "    device='cpu',                        # Or \"cpu\", or \"mps\" for Apple Silicon\n",
    "    return_corrected=False,                   # Whether to store corrected expression matrices\n",
    "    transform_batch=None,                 # Optionally specify a batch to transform to in scVI\n",
    "    seed=42,                              # Random seed for reproducibility\n",
    "    compute_umap=True,                    # Run UMAP for all output embeddings\n",
    "    umap_n_components=2,\n",
    "    umap_n_neighbors=30,\n",
    "    umap_min_dist=0.5,\n",
    "    verbose=True,                        # Print progress messages\n",
    ")"
   ]
  },
  {
   "cell_type": "code",
   "execution_count": 16,
   "id": "da21a635",
   "metadata": {},
   "outputs": [
    {
     "data": {
      "text/plain": [
       "AnnData object with n_obs × n_vars = 2000 × 2000\n",
       "    obs: 'donor_id', 'self_reported_ethnicity_ontology_term_id', 'organism_ontology_term_id', 'sample_uuid', 'sample_preservation_method', 'tissue_ontology_term_id', 'development_stage_ontology_term_id', 'suspension_uuid', 'suspension_type', 'library_uuid', 'assay_ontology_term_id', 'mapped_reference_annotation', 'is_primary_data', 'cell_type_ontology_term_id', 'author_cell_type', 'disease_ontology_term_id', 'reported_diseases', 'sex_ontology_term_id', 'nCount_RNA', 'nFeature_RNA', 'percent.mt', 'percent.rpl', 'percent.rps', 'doublet_id', 'nCount_SCT', 'nFeature_SCT', 'seurat_clusters', 'tissue_type', 'cell_type', 'assay', 'disease', 'organism', 'sex', 'tissue', 'self_reported_ethnicity', 'development_stage', 'observation_joinid', 'concord_class_class_true', 'concord_class_class_pred', 'class_prob_fibroblast', 'class_prob_endothelial cell', 'class_prob_mesangial cell', 'class_prob_podocyte', 'class_prob_leukocyte', 'class_prob_renal beta-intercalated cell', 'class_prob_epithelial cell of proximal tubule', 'class_prob_renal principal cell', 'class_prob_renal alpha-intercalated cell', 'class_prob_parietal epithelial cell', 'class_prob_kidney distal convoluted tubule epithelial cell', 'class_prob_kidney loop of Henle thick ascending limb epithelial cell', 'class_prob_kidney loop of Henle thin ascending limb epithelial cell', 'tmp_domain_label', '_scvi_batch', '_scvi_labels'\n",
       "    var: 'feature_is_filtered', 'feature_name', 'feature_reference', 'feature_biotype', 'feature_length', 'feature_type', 'highly_variable', 'highly_variable_rank', 'means', 'variances', 'variances_norm', 'highly_variable_nbatches'\n",
       "    uns: 'citation', 'default_embedding', 'schema_reference', 'schema_version', 'title', 'hvg', 'pca', '_scvi_uuid', '_scvi_manager_uuid'\n",
       "    obsm: 'X_harmony', 'X_pca', 'X_umap', 'concord', 'concord_UMAP', 'concord_class', 'concord_class_UMAP', 'concord_decoder', 'concord_decoder_UMAP', 'contrastive', 'contrastive_UMAP', 'unintegrated', 'unintegrated_UMAP', 'scanorama', 'scanorama_UMAP', 'liger', 'liger_UMAP', 'harmony', 'harmony_UMAP', 'scvi', 'scvi_UMAP', 'scanvi', 'scanvi_UMAP'\n",
       "    varm: 'PCs'\n",
       "    layers: 'counts'"
      ]
     },
     "execution_count": 16,
     "metadata": {},
     "output_type": "execute_result"
    }
   ],
   "source": [
    "adata"
   ]
  },
  {
   "cell_type": "code",
   "execution_count": 11,
   "id": "b0701e6a",
   "metadata": {},
   "outputs": [],
   "source": [
    "# save the adata object and overwrite the existing file\n",
    "adata.write_h5ad(data_dir / \"dkd_Wilson.h5ad\", )"
   ]
  },
  {
   "cell_type": "markdown",
   "id": "7b83b247",
   "metadata": {},
   "source": []
  },
  {
   "cell_type": "code",
   "execution_count": 13,
   "id": "0b7540cb",
   "metadata": {},
   "outputs": [],
   "source": [
    "import scvi.model"
   ]
  },
  {
   "cell_type": "code",
   "execution_count": null,
   "id": "b2039149",
   "metadata": {},
   "outputs": [],
   "source": []
  }
 ],
 "metadata": {
  "kernelspec": {
   "display_name": "scenv",
   "language": "python",
   "name": "python3"
  },
  "language_info": {
   "codemirror_mode": {
    "name": "ipython",
    "version": 3
   },
   "file_extension": ".py",
   "mimetype": "text/x-python",
   "name": "python",
   "nbconvert_exporter": "python",
   "pygments_lexer": "ipython3",
   "version": "3.13.2"
  }
 },
 "nbformat": 4,
 "nbformat_minor": 5
}
