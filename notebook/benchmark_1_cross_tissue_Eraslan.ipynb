{
 "cells": [
  {
   "cell_type": "markdown",
   "id": "86977db1",
   "metadata": {},
   "source": [
    "# Benchmark "
   ]
  },
  {
   "cell_type": "code",
   "execution_count": null,
   "id": "237ec61c",
   "metadata": {},
   "outputs": [],
   "source": [
    "%load_ext autoreload\n",
    "%autoreload 2\n"
   ]
  },
  {
   "cell_type": "code",
   "execution_count": null,
   "id": "6d578d26",
   "metadata": {},
   "outputs": [],
   "source": [
    "import os\n",
    "import numpy as np\n",
    "import scanpy as sc\n",
    "import time\n",
    "from pathlib import Path\n",
    "import torch\n",
    "import concord as ccd\n",
    "import warnings\n",
    "warnings.filterwarnings('ignore')\n",
    "%matplotlib inline\n",
    "import matplotlib as mpl\n",
    "from scipy import sparse\n",
    "\n",
    "# from matplotlib import font_manager, rcParams\n",
    "# custom_rc = {\n",
    "#     'font.family': 'Arial',  # Set the desired font for this plot\n",
    "# }\n",
    "\n",
    "# mpl.rcParams['svg.fonttype'] = 'none'\n",
    "# mpl.rcParams['pdf.fonttype'] = 42"
   ]
  },
  {
   "cell_type": "code",
   "execution_count": null,
   "id": "9816cfad",
   "metadata": {},
   "outputs": [],
   "source": [
    "proj_name = \"dkd_Wilson\"\n",
    "file_name = \"dkd_Wilson\"\n",
    "file_suffix = time.strftime('%b%d-%H%M')\n",
    "\n",
    "# save_dir = Path(f\"../save/{proj_name}-{file_suffix}\")\n",
    "# save_dir.mkdir(parents=True, exist_ok=True)\n",
    "\n",
    "data_dir = Path(f\"../data/{proj_name}\")\n",
    "data_dir.mkdir(parents=True, exist_ok=True)\n",
    "\n",
    "seed = 0\n",
    "ccd.ul.set_seed(seed)"
   ]
  },
  {
   "cell_type": "code",
   "execution_count": null,
   "id": "362873d5",
   "metadata": {},
   "outputs": [],
   "source": [
    "# load the data\n",
    "adata = sc.read_h5ad(data_dir / f\"{file_name}.h5ad\")"
   ]
  },
  {
   "cell_type": "code",
   "execution_count": null,
   "id": "919be05c",
   "metadata": {},
   "outputs": [],
   "source": [
    "adata"
   ]
  },
  {
   "cell_type": "code",
   "execution_count": null,
   "id": "e812fd9a",
   "metadata": {},
   "outputs": [],
   "source": [
    "sc.pp.highly_variable_genes(adata, flavor='seurat_v3', n_top_genes=5000, subset=False)\n",
    "sc.tl.pca(adata, n_comps=300, svd_solver='arpack', use_highly_variable=True)\n",
    "adata = adata[:, adata.var.highly_variable].copy()"
   ]
  },
  {
   "cell_type": "code",
   "execution_count": null,
   "id": "c28625f7",
   "metadata": {},
   "outputs": [],
   "source": [
    "# Add raw counts to adata.layers[\"counts\"] after HVG filtering\n",
    "if adata.raw is not None:\n",
    "    adata.layers[\"counts\"] = adata.raw[:, adata.var_names].X.astype(np.int32)\n",
    "    print(\"✅ counts layer set from adata.raw (shape matched to HVGs)\")\n",
    "else:\n",
    "    raise ValueError(\"❌ adata.raw is None — cannot set counts layer.\")\n"
   ]
  },
  {
   "cell_type": "code",
   "execution_count": null,
   "id": "7e2682a9",
   "metadata": {},
   "outputs": [],
   "source": [
    "import numpy as np\n",
    "\n",
    "zero_expression = np.array(adata.X.sum(axis=1)).flatten() == 0\n",
    "n_zero_cells = np.sum(zero_expression)\n",
    "\n",
    "print(f\"❗ {n_zero_cells} cells have 0 expression in `adata.X`\")\n"
   ]
  },
  {
   "cell_type": "code",
   "execution_count": null,
   "id": "46e6be59",
   "metadata": {},
   "outputs": [],
   "source": [
    "# import pandas as pd\n",
    "\n",
    "batch_key = 'donor_id'  # or your actual batch column in adata.obs\n",
    "for batch in adata.obs[batch_key].unique():\n",
    "    sub = adata[adata.obs[batch_key] == batch]\n",
    "    X = sub.X.toarray() if sparse.issparse(sub.X) else sub.X\n",
    "    zero_var = np.sum(np.var(X, axis=0) == 0)\n",
    "    print(f\"{batch}: {zero_var} zero-variance genes\")\n"
   ]
  },
  {
   "cell_type": "code",
   "execution_count": null,
   "id": "0077035f",
   "metadata": {},
   "outputs": [],
   "source": [
    "min_val = adata.X.min()\n",
    "print(f\"🔍 Minimum value in adata.X: {min_val}\")\n",
    "\n",
    "max_val = adata.X.max()\n",
    "print(f\"🔍 Maximum value in adata.X: {max_val}\")\n",
    "\n",
    "if min_val < 0:\n",
    "    print(\"⚠️ adata.X is scaled — contains negative values.\")\n",
    "else:\n",
    "    print(\"✅ adata.X is non-negative — likely log1p transformed, not scaled.\")\n"
   ]
  },
  {
   "cell_type": "code",
   "execution_count": null,
   "id": "b17f42d8",
   "metadata": {},
   "outputs": [],
   "source": [
    "counts = adata.layers[\"counts\"]\n",
    "if counts is None:\n",
    "    print(\"❌ adata.layers['counts'] does not exist.\")\n",
    "else:\n",
    "    # Check min and integer-ness\n",
    "    if sparse.issparse(counts):\n",
    "        counts = counts.data  # only nonzero values\n",
    "    else:\n",
    "        counts = counts.flatten()\n",
    "\n",
    "    min_val = counts.min()\n",
    "    is_integer = np.allclose(counts, np.round(counts))\n",
    "\n",
    "    print(f\"🔍 counts layer — min: {min_val}, integer-like: {is_integer}\")\n",
    "    if min_val < 0:\n",
    "        print(\"❌ counts layer contains negative values!\")\n",
    "    elif not is_integer:\n",
    "        print(\"❌ counts layer contains non-integer values!\")\n",
    "    else:\n",
    "        print(\"✅ counts layer looks valid: non-negative integers.\")\n"
   ]
  },
  {
   "cell_type": "code",
   "execution_count": null,
   "id": "70695829",
   "metadata": {},
   "outputs": [],
   "source": [
    "# save the adata object\n",
    "adata.write_h5ad(data_dir / f\"{file_name}_preprocessed.h5ad\")\n",
    "print(f\"✅ Preprocessed data saved to {data_dir / f'{file_name}_preprocessed.h5ad'}\")"
   ]
  },
  {
   "cell_type": "code",
   "execution_count": null,
   "id": "915d886f",
   "metadata": {},
   "outputs": [],
   "source": [
    "adata = sc.read_h5ad(data_dir / f\"{file_name}_preprocessed.h5ad\")"
   ]
  },
  {
   "cell_type": "code",
   "execution_count": null,
   "id": "950df5cf",
   "metadata": {},
   "outputs": [],
   "source": [
    "import subprocess, json\n",
    "methods = [\"scvi\", \"harmony\", \"scanorama\", \"liger\", \"unintegrated\", \"concord_hcl\", \"concord_knn\", \"contrastive\"]\n",
    "\n",
    "# concord_args = {\n",
    "#     \"encoder_dims\": [512, 256],\n",
    "#     \"beta\": 0.1,\n",
    "#     \"n_epochs\": 10\n",
    "# }\n",
    "\n",
    "output_dir = '../jobs'\n",
    "device = 'auto'\n",
    "conda_env = 'concord_env'\n",
    "batch_key = 'donor_id'\n",
    "state_key = 'cell_type'\n",
    "latent_dim = '50'  # Adjust as needed, but should match the encoder_dims in concord_args\n",
    "\n",
    "mode = 'local'\n",
    "\n",
    "subprocess.run([\n",
    "    \"python\", \"./generate_py_sh_jobs.py\",\n",
    "    \"--proj_name\", proj_name,\n",
    "    \"--adata_filename\", f\"{file_name}_preprocessed.h5ad\",\n",
    "    \"--methods\", *methods,\n",
    "    \"--batch_key\", batch_key,\n",
    "    \"--state_key\", state_key,\n",
    "    \"--latent_dim\", latent_dim,\n",
    "    \"--output_dir\", output_dir,\n",
    "    \"--device\", device,\n",
    "    \"--conda_env\", conda_env,\n",
    "    \"--runtime\", \"02:00:00\",\n",
    "    \"--mode\", mode,\n",
    "    # \"--concord_kwargs\", json.dumps(concord_args)\n",
    "], check=True)"
   ]
  },
  {
   "cell_type": "code",
   "execution_count": null,
   "id": "c775fdb3",
   "metadata": {},
   "outputs": [],
   "source": [
    "proj_folder = Path(output_dir) / f\"benchmark_{proj_name}\"\n",
    "proj_folder.mkdir(parents=True, exist_ok=True)  # defensive\n",
    "\n",
    "submit_all = proj_folder / f\"submit_all_{proj_name}.sh\"\n",
    "\n",
    "with submit_all.open(\"w\") as f:\n",
    "    f.write(\"#!/bin/bash\\n\")\n",
    "    f.write(\"# Auto-generated — sequentially runs every job script\\n\")\n",
    "    f.write('cd \"$(dirname \"$0\")\"\\n\\n')\n",
    "    f.write(\"timestamp=$(date +'%m%d-%H%M')\\n\\n\")\n",
    "\n",
    "    for sh_file in sorted(proj_folder.glob(f\"benchmark_{proj_name}_*.sh\")):\n",
    "        base = sh_file.stem\n",
    "        f.write(f\"echo '🔄 Running: {sh_file.name} (log: {base}_${{timestamp}}.log)'\\n\")\n",
    "        f.write(f\"bash {sh_file.name} > {base}_${{timestamp}}.log 2>&1\\n\")\n",
    "        f.write(\"echo '✅ Done.'\\n\\n\")\n",
    "\n",
    "submit_all.chmod(0o755)\n",
    "print(f\"📌  Next step: Run “{submit_all}” to execute all jobs sequentially.\")"
   ]
  },
  {
   "cell_type": "code",
   "execution_count": null,
   "id": "4a82cf61",
   "metadata": {},
   "outputs": [],
   "source": [
    "# map the obsm back to the adata \n",
    "# for each method, uses the most recent run (based on timestamp)\n",
    "# methods = [\"scvi\", \"harmony\", \"scanorama\", \"liger\", \"unintegrated\", \"concord_hcl\", \"concord_knn\", \"contrastive\"]\n",
    "methods = [\"scvi\", \"harmony\", \"scanorama\", \"unintegrated\", \"concord_hcl\", \"concord_knn\", \"contrastive\"]\n",
    "\n",
    "from benchmark_utils import add_embeddings\n",
    "\n",
    "adata = add_embeddings(adata, proj_name=proj_name, methods=methods)\n",
    "\n"
   ]
  },
  {
   "cell_type": "code",
   "execution_count": null,
   "id": "c772d40b",
   "metadata": {},
   "outputs": [],
   "source": [
    "adata"
   ]
  },
  {
   "cell_type": "code",
   "execution_count": null,
   "id": "8f6d6993",
   "metadata": {},
   "outputs": [],
   "source": [
    "save_dir = Path(f\"../save/{proj_name}-{file_suffix}\")\n",
    "save_dir.mkdir(parents=True, exist_ok=True)"
   ]
  },
  {
   "cell_type": "code",
   "execution_count": null,
   "id": "d6093ec3",
   "metadata": {},
   "outputs": [],
   "source": [
    "for method in methods:\n",
    "    if f\"{method}_UMAP\" in adata.obsm:\n",
    "        print(f\"[⚠️ Warning] obsm['{method}_UMAP'] already exists, skipping UMAP computation\")\n",
    "    else:\n",
    "        print(f\"Computing 2D UMAP for {method}...\")\n",
    "        ccd.ul.run_umap(adata, source_key=f\"{method}\", result_key=f\"{method}_UMAP\", n_components=2, n_neighbors=30, min_dist=0.1, metric='euclidean', random_state=seed)\n",
    "        print(f\"✅ obsm['{method}_UMAP'] computed\")\n",
    "    if f\"{method}_UMAP_3D\" in adata.obsm:\n",
    "        print(f\"[⚠️ Warning] obsm['{method}_UMAP_3D'] already exists, skipping UMAP computation\")\n",
    "    else:\n",
    "        print(f\"Computing 3D UMAP for {method}...\")\n",
    "        ccd.ul.run_umap(adata,source_key=f\"{method}\",result_key=f\"{method}_UMAP_3D\",n_components=3,  min_dist=0.1, metric='euclidean', random_state=seed)\n",
    "        print(f\"✅ obsm['{method}_UMAP_3D'] computed\")\n",
    "\n",
    "ccd.ul.save_obsm_to_hdf5(adata, save_dir / f\"obsm_{file_suffix}.h5\")\n",
    "print(f\"✅ Embeddings saved to {save_dir / f'obsm_{file_suffix}.h5'}\")\n",
    "final_path = data_dir / f\"{file_name}_final.h5ad\"\n",
    "adata.write_h5ad(final_path)\n",
    "print(f\"✅ Final AnnData saved to: {final_path}\")"
   ]
  },
  {
   "cell_type": "code",
   "execution_count": null,
   "id": "edbc2ba8",
   "metadata": {},
   "outputs": [],
   "source": [
    "adata"
   ]
  },
  {
   "cell_type": "code",
   "execution_count": null,
   "id": "17be074e",
   "metadata": {},
   "outputs": [],
   "source": [
    "# plot everything\n",
    "import matplotlib.pyplot as plt\n",
    "import numpy as np\n",
    "from matplotlib import rcParams\n",
    "\n",
    "# Set DejaVu Sans as the default font\n",
    "custom_rc = {\n",
    "    'font.family': 'DejaVu Sans',  # Set the desired font for this plot\n",
    "}\n",
    "\n",
    "show_keys = methods\n",
    "show_cols = ['donor_id', 'cell_type']\n",
    "basis_types = ['UMAP']\n",
    "\n",
    "font_size=10\n",
    "point_size=.1\n",
    "alpha=0.8\n",
    "ncols = len(show_keys)\n",
    "figsize=(ncols * 1.5,1.5)\n",
    "nrows = int(np.ceil(len(show_keys) / ncols))\n",
    "pal = {'donor_id': 'Set1', \n",
    "       'cell_type': 'Set1'}\n",
    "\n",
    "with plt.rc_context(rc=custom_rc):\n",
    "    ccd.pl.plot_all_embeddings(\n",
    "        adata,\n",
    "        show_keys,\n",
    "        color_bys=show_cols,\n",
    "        basis_types=basis_types,\n",
    "        pal=pal,\n",
    "        font_size=font_size,\n",
    "        point_size=point_size,\n",
    "        alpha=alpha,\n",
    "        figsize=figsize,\n",
    "        ncols=ncols,\n",
    "        seed=seed,\n",
    "        save_dir=save_dir,\n",
    "        file_suffix=file_suffix,\n",
    "        dpi=600,\n",
    "        save_format='svg'\n",
    "    )\n"
   ]
  },
  {
   "cell_type": "code",
   "execution_count": null,
   "id": "ec139d4d",
   "metadata": {},
   "outputs": [],
   "source": [
    "output_key = 'concord_hcl'\n",
    "basis = output_key\n",
    "show_basis = basis + '_UMAP'\n",
    "show_cols = ['donor_id', 'cell_type']\n",
    "with plt.rc_context(rc=custom_rc):\n",
    "    ccd.pl.plot_embedding(\n",
    "        adata, show_basis, show_cols, figsize=(8,4), dpi=600, ncols=2, font_size=4, point_size=0.5, legend_loc='on data',\n",
    "        pal = pal, seed=seed,\n",
    "        save_path=save_dir / f\"{show_basis}_{file_suffix}_wttext.pdf\"\n",
    "    )"
   ]
  },
  {
   "cell_type": "code",
   "execution_count": null,
   "id": "0a9e592c",
   "metadata": {},
   "outputs": [],
   "source": [
    "output_key = 'concord_knn'\n",
    "basis = output_key\n",
    "show_basis = basis + '_UMAP'\n",
    "show_cols = ['donor_id', 'cell_type']\n",
    "with plt.rc_context(rc=custom_rc):\n",
    "    ccd.pl.plot_embedding(\n",
    "        adata, show_basis, show_cols, figsize=(8,4), dpi=600, ncols=2, font_size=4, point_size=0.5, legend_loc='on data',\n",
    "        pal = pal, seed=seed,\n",
    "        save_path=save_dir / f\"{show_basis}_{file_suffix}_wttext.pdf\"\n",
    "    )"
   ]
  },
  {
   "cell_type": "code",
   "execution_count": null,
   "id": "eb5e3324",
   "metadata": {},
   "outputs": [],
   "source": [
    "ccd.ul.anndata_to_viscello(adata, data_dir / f\"cello_{proj_name}_{file_suffix}\", project_name = proj_name, organism='cel')\n",
    "print(f\"Saved viscello to {data_dir / f'cello_{proj_name}_{file_suffix}'}\")"
   ]
  },
  {
   "cell_type": "markdown",
   "id": "22545242",
   "metadata": {},
   "source": [
    "# Benchmarking"
   ]
  },
  {
   "cell_type": "code",
   "execution_count": null,
   "id": "650bd860",
   "metadata": {},
   "outputs": [],
   "source": [
    "from benchmark_utils import collect_benchmark_logs\n",
    "bench_df = collect_benchmark_logs(\"dkd_Wilson\", methods)\n",
    "# Save the benchmark results\n",
    "bench_df.to_csv(save_dir / f\"benchmark_summary_{file_suffix}.tsv\", sep=\"\\t\", index=False)\n",
    "print(f\"✅ Benchmark summary saved to: {save_dir / f'benchmark_summary_{file_suffix}.tsv'}\")\n",
    "# Plot benchmark results\n",
    "from benchmark_utils import plot_benchmark_performance\n",
    "import matplotlib.pyplot as plt\n",
    "custom_rc = {\n",
    "    'font.family': 'DejaVu Sans',  # Set the desired font for this plot\n",
    "}\n",
    "with plt.rc_context(rc=custom_rc):\n",
    "    plot_benchmark_performance(bench_df, figsize=(8,2), dpi=300, save_path = save_dir / f\"benchmark_plot_{file_suffix}.pdf\")\n"
   ]
  },
  {
   "cell_type": "code",
   "execution_count": null,
   "id": "e8130996",
   "metadata": {},
   "outputs": [],
   "source": [
    "import scib_metrics\n",
    "print(\"scib_metrics version:\", scib_metrics.__version__)"
   ]
  },
  {
   "cell_type": "code",
   "execution_count": null,
   "id": "9f72b95c",
   "metadata": {},
   "outputs": [],
   "source": [
    "state_key = 'cell_type'\n",
    "batch_key = 'donor_id'\n",
    "save_dir = Path(f\"../save/{proj_name}-{file_suffix}\")\n",
    "out = ccd.bm.run_benchmark_pipeline(\n",
    "    adata,\n",
    "    embedding_keys=methods,\n",
    "    state_key=state_key,\n",
    "    batch_key=batch_key,\n",
    "    save_dir=save_dir / \"benchmarks_celltype\",\n",
    "    file_suffix=file_suffix,  # e.g. \"2025-06-25\"\n",
    "    run=(\"probe\"),          # run only these blocks\n",
    "    plot_individual=False,          # skip the intermediate PDFs\n",
    ")\n",
    "combined_celltype = out[\"combined\"]\n",
    "\n",
    "# Save the benchmark results\n",
    "import pickle\n",
    "with open(save_dir / f\"benchmark_{state_key}_{file_suffix}.pkl\", \"wb\") as f:\n",
    "    pickle.dump(out, f)\n",
    "\n",
    "print(f\"✅ Benchmark results saved to: {save_dir / f'benchmark_{state_key}_{file_suffix}.pkl'}\")"
   ]
  },
  {
   "cell_type": "code",
   "execution_count": null,
   "id": "f3a21194",
   "metadata": {},
   "outputs": [],
   "source": [
    "methods = [\"scvi\", \"harmony\", \"scanorama\", \"unintegrated\", \"concord_hcl\", \"concord_knn\", \"contrastive\"]\n",
    "state_key = \"cell_type\"\n",
    "batch_key = \"donor_id\""
   ]
  },
  {
   "cell_type": "code",
   "execution_count": null,
   "id": "d8bc04b2",
   "metadata": {},
   "outputs": [],
   "source": [
    "adata = sc.read_h5ad(data_dir / f\"{file_name}_final.h5ad\")"
   ]
  },
  {
   "cell_type": "code",
   "execution_count": null,
   "id": "e1a7e94e",
   "metadata": {},
   "outputs": [],
   "source": [
    "from scib_metrics.benchmark import Benchmarker, BioConservation, BatchCorrection"
   ]
  },
  {
   "cell_type": "code",
   "execution_count": null,
   "id": "37b66fea",
   "metadata": {},
   "outputs": [],
   "source": [
    "bm = Benchmarker(\n",
    "    adata,\n",
    "    batch_key=\"donor_id\",\n",
    "    label_key=\"cell_type\",\n",
    "    bio_conservation_metrics=BioConservation(),\n",
    "    batch_correction_metrics=BatchCorrection(),\n",
    "    embedding_obsm_keys=[\"unintegrated\", \"scanorama\", \"harmony\", \"scvi\", \"concord_hcl\", \"concord_knn\", \"contrastive\"],\n",
    "    n_jobs=4,\n",
    ")\n",
    "bm.benchmark()"
   ]
  },
  {
   "cell_type": "code",
   "execution_count": null,
   "id": "21bbc0ed",
   "metadata": {},
   "outputs": [],
   "source": []
  }
 ],
 "metadata": {
  "kernelspec": {
   "display_name": "concord_env",
   "language": "python",
   "name": "python3"
  },
  "language_info": {
   "codemirror_mode": {
    "name": "ipython",
    "version": 3
   },
   "file_extension": ".py",
   "mimetype": "text/x-python",
   "name": "python",
   "nbconvert_exporter": "python",
   "pygments_lexer": "ipython3",
   "version": "3.12.2"
  }
 },
 "nbformat": 4,
 "nbformat_minor": 5
}
