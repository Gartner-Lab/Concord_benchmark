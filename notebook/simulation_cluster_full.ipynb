{
 "cells": [
  {
   "cell_type": "markdown",
   "metadata": {},
   "source": [
    "# Simulation using Concord"
   ]
  },
  {
   "cell_type": "code",
   "execution_count": null,
   "metadata": {},
   "outputs": [],
   "source": [
    "%load_ext autoreload\n",
    "%autoreload 2"
   ]
  },
  {
   "cell_type": "code",
   "execution_count": null,
   "metadata": {},
   "outputs": [],
   "source": [
    "import numpy as np\n",
    "import scanpy as sc\n",
    "import time\n",
    "from pathlib import Path\n",
    "import torch\n",
    "import concord as ccd\n",
    "import warnings\n",
    "warnings.filterwarnings('ignore')\n",
    "%matplotlib inline\n",
    "import matplotlib as mpl\n",
    "import matplotlib.pyplot as plt\n",
    "\n",
    "from matplotlib import font_manager, rcParams\n",
    "custom_rc = {\n",
    "    'font.family': 'Arial',  # Set the desired font for this plot\n",
    "}\n",
    "\n",
    "mpl.rcParams['svg.fonttype'] = 'none'\n",
    "mpl.rcParams['pdf.fonttype'] = 42"
   ]
  },
  {
   "cell_type": "code",
   "execution_count": null,
   "metadata": {},
   "outputs": [],
   "source": [
    "proj_name = \"simulation_cluster\"\n",
    "save_dir = f\"../save/dev_{proj_name}-{time.strftime('%b%d')}/\"\n",
    "save_dir = Path(save_dir)\n",
    "save_dir.mkdir(parents=True, exist_ok=True)\n",
    "\n",
    "data_dir = f\"../data/{proj_name}/\"\n",
    "data_dir = Path(data_dir)\n",
    "data_dir.mkdir(parents=True, exist_ok=True)\n",
    "device = torch.device('cuda:3' if torch.cuda.is_available() else 'cpu')\n",
    "print(device)\n",
    "seed = 0\n",
    "ccd.ul.set_seed(seed)\n",
    "\n",
    "file_suffix = f\"{time.strftime('%b%d-%H%M')}\"\n",
    "file_suffix"
   ]
  },
  {
   "cell_type": "code",
   "execution_count": null,
   "metadata": {},
   "outputs": [],
   "source": [
    "concord_methods = ['concord_hcl', 'concord_knn', 'contrastive']\n",
    "other_methods = [\n",
    "        \"unintegrated\",\n",
    "        \"scanorama\", \"liger\", \"harmony\",\n",
    "        \"scvi\", \n",
    "]\n",
    "run_methods = concord_methods + other_methods\n",
    "# exclude [\"UMAP\", \"t-SNE\"] from run_method, and save as combined_keys\n",
    "exclude_keys = [\"PCA\", \"UMAP\", \"t-SNE\"]\n",
    "combined_keys = ['no_noise', 'wt_noise'] + [key for key in run_methods if key not in exclude_keys]"
   ]
  },
  {
   "cell_type": "code",
   "execution_count": null,
   "metadata": {},
   "outputs": [],
   "source": [
    "state_key = 'cluster'\n",
    "batch_key = 'batch'\n",
    "state_type = 'cluster'\n",
    "leiden_key='leiden'\n",
    "batch_type = 'batch_specific_features'\n",
    "distribution = 'normal'\n",
    "n_cells = [200,100,100,50,30]\n",
    "n_genes = [100,100,50,30,20]\n",
    "state_dispersion = [5.0,4.0,4.0,3.0,2.0]"
   ]
  },
  {
   "cell_type": "code",
   "execution_count": null,
   "metadata": {},
   "outputs": [],
   "source": [
    "from concord.simulation import (\n",
    "    SimConfig, ClusterConfig, BatchConfig, Simulation\n",
    ")\n",
    "\n",
    "seed = 42                     # or whatever you used earlier\n",
    "\n",
    "# ───────────────────────────────────── SimConfig ──\n",
    "sim_cfg = SimConfig(\n",
    "    n_cells=n_cells,                # one entry per cluster\n",
    "    n_genes=n_genes,                # one entry per cluster\n",
    "    seed=seed,\n",
    "    non_neg=True,\n",
    "    to_int=True,\n",
    ")\n",
    "\n",
    "# ─────────────────────────────────── ClusterConfig ──\n",
    "state_cfg = ClusterConfig(\n",
    "    n_states=5,\n",
    "    distribution=\"normal\",\n",
    "    level=5.0,                # state_level\n",
    "    min_level=0.0,            # state_min_level\n",
    "    dispersion=[5.0, 4.0, 4.0, 3.0, 2.0],\n",
    "    program_structure=\"uniform\",\n",
    "    program_on_time_fraction=0.3,\n",
    "    global_non_specific_gene_fraction=0.10,\n",
    "    pairwise_non_specific_gene_fraction={\n",
    "        (0, 1): 0.7,\n",
    "        (2, 3): 0.4,\n",
    "        # all other pairs → 0.0, so omit them for brevity\n",
    "    },\n",
    ")\n",
    "\n",
    "# ──────────────────────────────────── BatchConfig ──\n",
    "batch_cfg = BatchConfig(\n",
    "    n_batches=2,\n",
    "    effect_type=\"batch_specific_features\",\n",
    "    distribution=\"normal\",\n",
    "    level=[5, 5],\n",
    "    dispersion=[3.0, 3.0],\n",
    "    feature_frac=0.15,            # batch_feature_frac\n",
    "    cell_proportion=[0.5, 0.5],  # proportion of cells in each batch\n",
    ")\n",
    "\n",
    "# ─────────────────────────────────── Simulation ──\n",
    "sim = Simulation(sim_cfg, state_cfg, batch_cfg)\n",
    "\n",
    "adata, adata_state = sim.simulate_data()\n",
    "adata.layers[\"counts\"] = adata.X.copy()\n",
    "print(f\"Simulated data shape: {adata.shape}\")"
   ]
  },
  {
   "cell_type": "code",
   "execution_count": null,
   "metadata": {},
   "outputs": [],
   "source": [
    "import matplotlib.pyplot as plt\n",
    "figsize = (2.3, 1.8)\n",
    "ncols = 3\n",
    "title_fontsize = 9\n",
    "dpi = 600\n",
    "fig, axes = plt.subplots(1, ncols, figsize=(figsize[0] * ncols, figsize[1]), dpi=dpi)\n",
    "ccd.pl.heatmap_with_annotations(adata, val='no_noise', obs_keys=[state_key], ax = axes[0], use_clustermap=False, yticklabels=False, cluster_cols=False, cluster_rows=False, value_annot=False, cmap='viridis', title='State', save_path=None, figsize=figsize, dpi=dpi, title_fontsize=title_fontsize)\n",
    "ccd.pl.heatmap_with_annotations(adata, val='wt_noise', obs_keys=[state_key], ax = axes[1], use_clustermap=False, yticklabels=False, cluster_cols=False, cluster_rows=False, value_annot=False, cmap='viridis', title='State+noise', save_path=None, figsize=figsize, dpi=dpi, title_fontsize=title_fontsize)\n",
    "ccd.pl.heatmap_with_annotations(adata, val='X', obs_keys=[state_key, batch_key], ax = axes[2], use_clustermap=False, yticklabels=False, cluster_cols=False, cluster_rows=False, value_annot=False, cmap='viridis', title='State+noise+batch', save_path=None, figsize=figsize, dpi=dpi, title_fontsize=title_fontsize)\n",
    "plt.tight_layout(w_pad=0.0, h_pad=0.1)\n",
    "plt.savefig(save_dir / f\"data_heatmaps_{file_suffix}.svg\", dpi=dpi, bbox_inches='tight')"
   ]
  },
  {
   "cell_type": "code",
   "execution_count": null,
   "metadata": {},
   "outputs": [],
   "source": [
    "ccd.pl.heatmap_with_annotations(adata_state, val='no_noise', obs_keys=[state_key], yticklabels=False, cluster_cols=False, cluster_rows=False, value_annot=False, cmap='viridis', title='True state', save_path=save_dir/f'true_state_heatmap_{file_suffix}.png', figsize=(6, 4), dpi=300)\n",
    "ccd.pl.heatmap_with_annotations(adata_state, val='wt_noise', obs_keys=[state_key], yticklabels=False, cluster_cols=False, cluster_rows=False, value_annot=False, cmap='viridis', title='True state with noise', save_path=save_dir/f'true_state_with_noise_heatmap_{file_suffix}.png', figsize=(6, 4), dpi=300)\n",
    "ccd.pl.heatmap_with_annotations(adata, val='X', obs_keys=[state_key, batch_key], yticklabels=False, cluster_cols=False, cluster_rows=False, value_annot=False, cmap='viridis', title='Simulated data with batch signal', save_path=save_dir/f'simulated_data_heatmap_{file_suffix}.png', figsize=(6, 4), dpi=300)"
   ]
  },
  {
   "cell_type": "markdown",
   "metadata": {},
   "source": [
    "### Integration pipeline"
   ]
  },
  {
   "cell_type": "code",
   "execution_count": null,
   "metadata": {},
   "outputs": [],
   "source": [
    "adata = sc.read(data_dir / f\"adata_Nov29-1033.h5ad\")\n",
    "adata_state = sc.read(data_dir / f\"adata_state_Nov29-1033.h5ad\")"
   ]
  },
  {
   "cell_type": "code",
   "execution_count": null,
   "metadata": {},
   "outputs": [],
   "source": [
    "run_methods = concord_methods + other_methods\n",
    "#run_methods = concord_methods\n",
    "latent_dim = 30"
   ]
  },
  {
   "cell_type": "code",
   "execution_count": null,
   "metadata": {},
   "outputs": [],
   "source": [
    "# Add ground truth\n",
    "ccd.ul.run_pca(adata_state, source_key='no_noise', result_key='PCA_no_noise', n_pc=latent_dim, random_state=seed)\n",
    "ccd.ul.run_pca(adata_state, source_key='wt_noise', result_key='PCA_wt_noise', n_pc=latent_dim, random_state=seed)\n",
    "# Put the PCA result in the adata object, so only one object is needed\n",
    "adata.obsm['no_noise'] = adata_state.obsm['PCA_no_noise']\n",
    "adata.obsm['wt_noise'] = adata_state.obsm['PCA_wt_noise']"
   ]
  },
  {
   "cell_type": "code",
   "execution_count": null,
   "metadata": {},
   "outputs": [],
   "source": [
    "concord_kwargs = {\n",
    "    'batch_size': 32,\n",
    "    'n_epochs': 20,\n",
    "    'preload_dense': True,\n",
    "    'verbose': False,\n",
    "}\n",
    "profile_logs = ccd.bm.run_integration_methods_pipeline(\n",
    "    adata=adata,                          \n",
    "    methods=run_methods,            # List of methods to run\n",
    "    batch_key=batch_key,                    # Column in adata.obs for batch info\n",
    "    count_layer=\"counts\",                 # Layer name containing raw counts\n",
    "    class_key=state_key,               # Column in adata.obs for class labels (used in SCANVI and CONCORD variants)\n",
    "    latent_dim=latent_dim,                        # Latent dimensionality for PCA and embeddings\n",
    "    device=\"cpu\",                        # Or \"cpu\", or \"mps\" for Apple Silicon\n",
    "    return_corrected=False,                   # Whether to store corrected expression matrices\n",
    "    transform_batch=None,                 # Optionally specify a batch to transform to in scVI\n",
    "    seed=seed,                              # Random seed for reproducibility\n",
    "    compute_umap=False,                        # Run UMAP for all output embeddings\n",
    "    umap_n_components=2,\n",
    "    umap_n_neighbors=30,\n",
    "    umap_min_dist=0.5,\n",
    "    verbose=True,                        # Print progress messages\n",
    "    save_dir=save_dir,\n",
    "    concord_kwargs=concord_kwargs,\n",
    ")\n"
   ]
  },
  {
   "cell_type": "code",
   "execution_count": null,
   "metadata": {},
   "outputs": [],
   "source": [
    "for basis in combined_keys:\n",
    "    print(\"Running UMAP for\", basis)\n",
    "    #if 'UMAP' not in basis:\n",
    "    ccd.ul.run_umap(adata, source_key=basis, result_key=f'{basis}_UMAP', n_components=2, n_neighbors=30, min_dist=0.5, metric='cosine', random_state=seed)"
   ]
  },
  {
   "cell_type": "code",
   "execution_count": null,
   "metadata": {},
   "outputs": [],
   "source": [
    "# plot everything\n",
    "import matplotlib.pyplot as plt\n",
    "\n",
    "show_keys = combined_keys\n",
    "# check which methods are run successfully\n",
    "color_bys = [state_key, batch_key]\n",
    "basis_types = ['UMAP']\n",
    "#basis_types = ['KNN']\n",
    "font_size=8\n",
    "point_size=2\n",
    "alpha=0.8\n",
    "figsize=(0.9*len(show_keys),1)\n",
    "ncols = len(show_keys)\n",
    "nrows = int(np.ceil(len(show_keys) / ncols))\n",
    "pal = {'time':'viridis', 'batch':'Set1'}\n",
    "k=15\n",
    "edges_color='grey'\n",
    "edges_width=0\n",
    "layout='kk'\n",
    "threshold = 0.1\n",
    "node_size_scale=0.1\n",
    "edge_width_scale=0.1\n",
    "\n",
    "rasterized = True\n",
    "with plt.rc_context(rc=custom_rc):\n",
    "    ccd.pl.plot_all_embeddings(\n",
    "        adata,\n",
    "        show_keys,\n",
    "        color_bys=color_bys,\n",
    "        basis_types=basis_types,\n",
    "        pal=pal,\n",
    "        k=k,\n",
    "        edges_color=edges_color,\n",
    "        edges_width=edges_width,\n",
    "        layout=layout,\n",
    "        threshold=threshold,\n",
    "        node_size_scale=node_size_scale,\n",
    "        edge_width_scale=edge_width_scale,\n",
    "        font_size=font_size,\n",
    "        point_size=point_size,\n",
    "        alpha=alpha,\n",
    "        rasterized=rasterized,\n",
    "        figsize=figsize,\n",
    "        ncols=ncols,\n",
    "        seed=seed,\n",
    "        leiden_key='leiden',\n",
    "        save_dir=save_dir,\n",
    "        file_suffix=file_suffix+f'rasterized_{rasterized}',\n",
    "        save_format='svg'\n",
    "    )\n"
   ]
  },
  {
   "cell_type": "code",
   "execution_count": null,
   "metadata": {},
   "outputs": [],
   "source": [
    "# Find the indices of common genes between `adata` and `adata_state`\n",
    "# sort and smooth the signal along the path\n",
    "batch_id=adata.obs['batch'].unique()[0]\n",
    "batch_indices = np.where(adata.obs['batch'] == batch_id)[0]\n",
    "_, _, _, feature_order = ccd.ul.sort_and_smooth_signal_along_path(adata, signal_key='concord_knn', path=batch_indices, sigma=2)\n",
    "adata.obsm['concord_knn_sorted'] = adata.obsm['concord_knn'][:, feature_order]\n",
    "_, _, _, feature_order = ccd.ul.sort_and_smooth_signal_along_path(adata, signal_key='concord_hcl', path=batch_indices, sigma=2)\n",
    "adata.obsm['concord_hcl_sorted'] = adata.obsm['concord_hcl'][:, feature_order]\n"
   ]
  },
  {
   "cell_type": "code",
   "execution_count": null,
   "metadata": {},
   "outputs": [],
   "source": [
    "# Plot heatmap of original data and Concord latent\n",
    "import matplotlib.pyplot as plt\n",
    "figsize = (2.3, 1.8)\n",
    "ncols = 5\n",
    "title_fontsize = 9\n",
    "_, _, state_pal = ccd.pl.get_color_mapping(adata, state_key, pal='Paired', seed=seed)\n",
    "_, _, batch_pal = ccd.pl.get_color_mapping(adata, batch_key, pal='Set1', seed=seed)\n",
    "pal = {state_key: state_pal, batch_key: batch_pal}\n",
    "dpi = 600\n",
    "with plt.rc_context(rc=custom_rc):\n",
    "    fig, axes = plt.subplots(1, ncols, figsize=(figsize[0] * ncols, figsize[1]), dpi=dpi)\n",
    "    ccd.pl.heatmap_with_annotations(adata, val='no_noise', obs_keys=[state_key], ax = axes[0], use_clustermap=False, pal=pal, yticklabels=False, cluster_cols=False, cluster_rows=False, value_annot=False, cmap='viridis', title='State', save_path=None, figsize=figsize, dpi=dpi, title_fontsize=title_fontsize)\n",
    "    ccd.pl.heatmap_with_annotations(adata, val='wt_noise', obs_keys=[state_key], ax = axes[1], use_clustermap=False, pal=pal, yticklabels=False, cluster_cols=False, cluster_rows=False, value_annot=False, cmap='viridis', title='State+noise', save_path=None, figsize=figsize, dpi=dpi, title_fontsize=title_fontsize)\n",
    "    ccd.pl.heatmap_with_annotations(adata, val='X', obs_keys=[state_key, batch_key], ax = axes[2], use_clustermap=False, pal=pal, yticklabels=False, cluster_cols=False, cluster_rows=False, value_annot=False, cmap='viridis', title='State+noise+batch', save_path=None, figsize=figsize, dpi=dpi, title_fontsize=title_fontsize)\n",
    "    ccd.pl.heatmap_with_annotations(adata, val='concord_knn_sorted', obs_keys=[state_key, batch_key], ax = axes[3], use_clustermap=False, pal=pal, yticklabels=False, cluster_cols=False, cluster_rows=False, value_annot=False, cmap='viridis', title='Concord KNN latent', save_path=None, figsize=figsize, dpi=dpi, title_fontsize=title_fontsize)\n",
    "    ccd.pl.heatmap_with_annotations(adata, val='concord_hcl_sorted', obs_keys=[state_key, batch_key], ax = axes[4], use_clustermap=False, pal=pal, yticklabels=False, cluster_cols=False, cluster_rows=False, value_annot=False, cmap='viridis', title='Concord HCL latent', save_path=None, figsize=figsize, dpi=dpi, title_fontsize=title_fontsize)\n",
    "    plt.tight_layout(w_pad=0.0, h_pad=0.1)\n",
    "    plt.savefig(save_dir / f\"all_heatmaps_{file_suffix}.svg\", dpi=dpi, bbox_inches='tight')"
   ]
  },
  {
   "cell_type": "code",
   "execution_count": null,
   "metadata": {},
   "outputs": [],
   "source": [
    "# Save result\n",
    "adata.write_h5ad(data_dir / f\"adata_{file_suffix}.h5ad\", compression='gzip')\n",
    "adata_state.write_h5ad(data_dir / f\"adata_state_{file_suffix}.h5ad\", compression='gzip')\n",
    "print(f\"Saved adata to {data_dir / f'adata_{file_suffix}.h5ad'}\")\n",
    "print(f\"Saved adata_state to {data_dir / f'adata_state_{file_suffix}.h5ad'}\")"
   ]
  },
  {
   "cell_type": "markdown",
   "metadata": {},
   "source": [
    "# Evaluation"
   ]
  },
  {
   "cell_type": "code",
   "execution_count": null,
   "metadata": {},
   "outputs": [],
   "source": [
    "\n",
    "# adata = sc.read(data_dir / f\"adata_Nov29-1033.h5ad\")\n",
    "# adata_state = sc.read(data_dir / f\"adata_state_Nov29-1033.h5ad\")\n",
    "adata = sc.read(data_dir / f\"adata_Jul23-2051.h5ad\")\n",
    "adata.shape"
   ]
  },
  {
   "cell_type": "code",
   "execution_count": null,
   "metadata": {},
   "outputs": [],
   "source": [
    "out = ccd.bm.run_benchmark_pipeline(\n",
    "    adata,\n",
    "    embedding_keys=combined_keys,\n",
    "    state_key=state_key,\n",
    "    batch_key=batch_key,\n",
    "    groundtruth_key=\"no_noise\",  # use the Leiden clusters as ground truth\n",
    "    save_dir=save_dir / \"benchmarks_out\",\n",
    "    file_suffix=file_suffix,  # e.g. \"2025-06-25\"\n",
    "    run=(\"scib\", \"probe\", \"geometry\", \"topology\"),          # run only these blocks\n",
    "    plot_individual=False,          # skip the intermediate PDFs\n",
    "    expected_betti_numbers=[4,0,0],  # expected Betti numbers for the geometry and topology blocks\n",
    "    max_points=1500,\n",
    "    seed=seed,  # for reproducibility\n",
    ")\n",
    "combined = out[\"combined\"]\n",
    "combined.head()"
   ]
  },
  {
   "cell_type": "code",
   "execution_count": null,
   "metadata": {},
   "outputs": [],
   "source": [
    "import pickle\n",
    "out = pickle.load(open(Path(\"../save/dev_simulation_cluster-Jul23/benchmarks_out\") / f\"benchmark_results_Jul23-2317.pkl\", \"rb\"))\n",
    "combined = out[\"combined\"]\n",
    "\n",
    "with open('../save/dev_simulation_cluster-Jul23/benchmarks_out/topology_diagrams_Jul23-2317.pkl', 'rb') as f:\n",
    "    diagrams = pickle.load(f)\n",
    "\n",
    "geometry_full = pickle.load(open(Path(\"../save/dev_simulation_cluster-Jul23/benchmarks_out/geometry_results_Jul23-2317.pkl\"), \"rb\"))\n"
   ]
  },
  {
   "cell_type": "code",
   "execution_count": null,
   "metadata": {},
   "outputs": [],
   "source": [
    "out = pickle.load(open(Path(\"../save/dev_simulation_cluster-Jul23/benchmarks_out\") / f\"benchmark_results_Jul23-2317.pkl\", \"rb\"))\n",
    "table_plot_kw = dict(\n",
    "        pal=\"viridis\", pal_agg=\"viridis\", cmap_method=\"minmax\", dpi=300)\n",
    "with plt.rc_context(rc=custom_rc):\n",
    "    combined_df = ccd.bm.combine_benchmark_results(\n",
    "        out,\n",
    "        block_include=(\"geometry\", \"topology\", \"scib\", \"probe\"),\n",
    "        plot=False,\n",
    "        save_path=save_dir / f\"combined_res_{file_suffix}.pdf\",\n",
    "        table_plot_kw=table_plot_kw,\n",
    "    )\n",
    "    ccd.bm.plot_benchmark_table(\n",
    "            combined_df.dropna(axis=0, how='any'),\n",
    "            save_path=save_dir / f\"benchmark_table_{file_suffix}.svg\",\n",
    "            agg_name=\"Aggregate score\",\n",
    "            figsize=(25, 6),\n",
    "            **table_plot_kw\n",
    "            )"
   ]
  },
  {
   "cell_type": "code",
   "execution_count": null,
   "metadata": {},
   "outputs": [],
   "source": [
    "probe_acc_cols = {\"KNN state accuracy\", \"Linear state accuracy\"}\n",
    "\n",
    "sorted(combined_df.columns,\n",
    "        key=lambda c: (c[0] == \"Aggregate score\",\n",
    "                        c[0],\n",
    "                        c[1] in probe_acc_cols,\n",
    "                        str(c[1]).lower()))"
   ]
  },
  {
   "cell_type": "code",
   "execution_count": null,
   "metadata": {},
   "outputs": [],
   "source": [
    "# Reorder diagrams with the same order as the combined keys\n",
    "diagrams_ordered = {key: diagrams[key] for key in combined_keys}\n",
    "ccd.pl.plot_persistence_diagrams(diagrams_ordered, base_size=(1.3, 1.5), dpi=300, marker_size=4, n_cols=len(diagrams_ordered), fontsize=10, save_path=save_dir / f\"persistence_diagrams_{file_suffix}.pdf\", legend=False, label_axes=False, axis_ticks=False)"
   ]
  },
  {
   "cell_type": "code",
   "execution_count": null,
   "metadata": {},
   "outputs": [],
   "source": [
    "ccd.pl.plot_betti_curves(diagrams_ordered, nbins=100, base_size=(1.3, 1.5), n_cols=len(diagrams_ordered), fontsize=10, save_path=save_dir / f\"betti_curves_{file_suffix}.pdf\", dpi=300, legend=False, label_axes=False, axis_ticks=False)"
   ]
  },
  {
   "cell_type": "code",
   "execution_count": null,
   "metadata": {},
   "outputs": [],
   "source": [
    "trustworthiness_scores = geometry_full['trustworthiness']['scores']\n",
    "drop_methods = []\n",
    "# Drop row with column 'Embedding' in drop_methods\n",
    "trustworthiness_scores = trustworthiness_scores[~trustworthiness_scores['Embedding'].isin(drop_methods)]\n",
    "with plt.rc_context(rc=custom_rc):\n",
    "    ccd.pl.plot_trustworthiness(trustworthiness_scores, text_shift=0.2, min_gap=0.002, legend=False, save_path=save_dir / f\"trustworthiness_{file_suffix}.pdf\", figsize=(2.8,1.9))"
   ]
  },
  {
   "cell_type": "code",
   "execution_count": null,
   "metadata": {},
   "outputs": [],
   "source": [
    "geometry_full['state_dispersion_corr']['correlation']"
   ]
  },
  {
   "cell_type": "code",
   "execution_count": null,
   "metadata": {},
   "outputs": [],
   "source": [
    "# Drop value with keys in drop_methods from dictionary\n",
    "import matplotlib.pyplot as plt\n",
    "dispersion_dict = geometry_full['state_dispersion_corr']['dispersion']\n",
    "dispersion_dict = {key: dispersion_dict[key] for key in dispersion_dict if key not in drop_methods}\n",
    "correlation_df = geometry_full['state_dispersion_corr']['correlation'].drop(index=drop_methods)\n",
    "with plt.rc_context(rc=custom_rc):\n",
    "    ccd.pl.plot_geometry_scatter(\n",
    "        data_dict = dispersion_dict,\n",
    "        correlation= correlation_df,\n",
    "        s=30, c='darkblue',\n",
    "        ground_key = 'wt_noise',\n",
    "        linear_fit = True,\n",
    "        n_cols = len(dispersion_dict), figsize=(1.5,1.75), dpi=300, save_path=save_dir / f\"state_dispersion_scatter_{file_suffix}.pdf\")"
   ]
  },
  {
   "cell_type": "markdown",
   "metadata": {},
   "source": [
    "### 2.0 Decoder reconstruction (if concord is run with decoder)"
   ]
  },
  {
   "cell_type": "code",
   "execution_count": null,
   "metadata": {},
   "outputs": [],
   "source": [
    "adata.layers"
   ]
  },
  {
   "cell_type": "code",
   "execution_count": null,
   "metadata": {},
   "outputs": [],
   "source": [
    "# Align and copy the layer data based on observation names\n",
    "adata.layers['no_noise'] = np.zeros_like(adata.X)\n",
    "\n",
    "# Find the indices of common genes between `adata` and `adata_state`\n",
    "common_genes = adata.var_names.intersection(adata_state.var_names)\n",
    "adata_indices = adata.var_names.get_indexer(common_genes)\n",
    "adata_state_indices = adata_state.var_names.get_indexer(common_genes)\n",
    "\n",
    "# Copy data from `adata_state` to `adata` for these common genes\n",
    "adata.layers['no_noise'][:, adata_indices] = adata_state.layers['no_noise'][:, adata_state_indices].copy()\n",
    "\n",
    "decoded_layers = ['Concord-decoder_decoded_batch_1', 'Concord-decoder_decoded_batch_2']\n",
    "show_layers = ['no_noise', 'wt_noise'] + decoded_layers\n",
    "ccd.pl.plot_adata_layer_heatmaps(adata, ncells=None, ngenes=None, layers=show_layers, cmap='viridis', vmin=0, vmax=7, \n",
    "                                 obs_keys=[state_key, batch_key], transpose=False, figsize=(6,6),  dpi=300, save_path=save_dir/f'decoded_heatmap_{file_suffix}.png')"
   ]
  },
  {
   "cell_type": "code",
   "execution_count": null,
   "metadata": {},
   "outputs": [],
   "source": [
    "# Compute the reconstruction error between the original and reconstructed data\n",
    "mse_no_noise = np.zeros(len(decoded_layers))\n",
    "mse_wt_noise = np.zeros(len(decoded_layers))\n",
    "state_genes = adata.var_names[adata.var_names.isin(adata_state.var_names)]\n",
    "for layer in decoded_layers:\n",
    "    mse_no_noise[decoded_layers.index(layer)] = ccd.ul.compute_reconstruction_error(adata[:,state_genes], 'no_noise', layer, metric='mse')\n",
    "    mse_wt_noise[decoded_layers.index(layer)] = ccd.ul.compute_reconstruction_error(adata[:,state_genes], 'wt_noise', layer, metric='mse')\n",
    "\n",
    "# Report value, mean\n",
    "print(f\"MSE between no_noise and decoded layers: {mse_no_noise}\")\n",
    "print(f\"MSE between wt_noise and decoded layers: {mse_wt_noise}\")\n",
    "print(f\"Mean MSE between no_noise and decoded layers: {np.mean(mse_no_noise):.4f}\")\n",
    "print(f\"Mean MSE between wt_noise and decoded layers: {np.mean(mse_wt_noise):.4f}\")\n"
   ]
  },
  {
   "cell_type": "code",
   "execution_count": null,
   "metadata": {},
   "outputs": [],
   "source": []
  }
 ],
 "metadata": {
  "kernelspec": {
   "display_name": "concord",
   "language": "python",
   "name": "python3"
  },
  "language_info": {
   "codemirror_mode": {
    "name": "ipython",
    "version": 3
   },
   "file_extension": ".py",
   "mimetype": "text/x-python",
   "name": "python",
   "nbconvert_exporter": "python",
   "pygments_lexer": "ipython3",
   "version": "3.12.2"
  }
 },
 "nbformat": 4,
 "nbformat_minor": 2
}
