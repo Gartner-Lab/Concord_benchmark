{
 "cells": [
  {
   "cell_type": "code",
   "execution_count": 1,
   "metadata": {},
   "outputs": [],
   "source": [
    "%load_ext autoreload\n",
    "%autoreload 2"
   ]
  },
  {
   "cell_type": "markdown",
   "metadata": {},
   "source": [
    "## Basic setup"
   ]
  },
  {
   "cell_type": "code",
   "execution_count": 2,
   "metadata": {},
   "outputs": [],
   "source": [
    "import concord as ccd\n",
    "import scanpy as sc\n",
    "import torch\n",
    "import warnings\n",
    "from pathlib import Path\n",
    "warnings.filterwarnings('ignore')\n",
    "\n",
    "data_dir = Path('../data/CBCEcombineN2')\n",
    "data_dir.mkdir(parents=True, exist_ok=True)\n",
    "import time\n",
    "from pathlib import Path\n",
    "proj_name = \"CBCEcombineN2\"\n",
    "save_dir = f\"../save/dev_{proj_name}-{time.strftime('%b%d')}/\"\n",
    "save_dir = Path(save_dir)\n",
    "save_dir.mkdir(parents=True, exist_ok=True)\n",
    "device = torch.device('cuda:3' if torch.cuda.is_available() else 'cpu')\n",
    "file_suffix = f\"{time.strftime('%b%d-%H%M')}\"\n",
    "seed = 0"
   ]
  },
  {
   "cell_type": "code",
   "execution_count": 22,
   "metadata": {},
   "outputs": [],
   "source": [
    "n2_adata = sc.read_h5ad('../data/celegans_binyamin/N2_outs/concord_celN2_Jun12-1457.h5ad')\n",
    "cbce_adata = sc.read_h5ad('../data/CE_CB/adata_cbce_Jan30-1028.h5ad')"
   ]
  },
  {
   "cell_type": "code",
   "execution_count": 23,
   "metadata": {},
   "outputs": [
    {
     "name": "stdout",
     "output_type": "stream",
     "text": [
      "Saved adata to ../data/CBCEcombineN2/CBCEcombineN2_Jun26-1610.h5ad\n"
     ]
    }
   ],
   "source": [
    "n2_adata.obs['embryo.time'] = n2_adata.obs['raw.embryo.time']\n",
    "n2_adata.obs['batch'] = 'BZ_N2'\n",
    "n2_adata.obs['batch_fine'] = 'BZ_N2'\n",
    "n2_adata.obs['batch_broad'] = 'BZ_N2'\n",
    "n2_adata.obs['species'] = 'C.elegans'\n",
    "n2_adata.obs_names = [f\"{name}-BZ_N2\" for name in n2_adata.obs_names]\n",
    "\n",
    "cbce_adata.obs['batch_fine'] = cbce_adata.obs['batch'].copy()\n",
    "cbce_adata.obs['batch_broad'] = cbce_adata.obs['dataset3'].astype(str).copy()\n",
    "adata = cbce_adata.concatenate(n2_adata, batch_key='lab', batch_categories=['Murray_CBCE','Gartner_BZ'])\n",
    "adata.X = adata.layers[\"counts\"].copy()\n",
    "# Compute basic statistics\n",
    "sc.pp.calculate_qc_metrics(adata, inplace=True)\n",
    "sc.pp.normalize_total(adata)\n",
    "sc.pp.log1p(adata)\n",
    "\n",
    "adata.write_h5ad(data_dir / f\"{proj_name}_{file_suffix}.h5ad\") # Save the adata object with the encoded embeddings\n",
    "print(f\"Saved adata to {data_dir / f'{proj_name}_{file_suffix}.h5ad'}\")"
   ]
  },
  {
   "cell_type": "code",
   "execution_count": null,
   "metadata": {},
   "outputs": [
    {
     "name": "stdout",
     "output_type": "stream",
     "text": [
      "Unique batches: ['Waterston_300_minutes', 'Waterston_400_minutes', 'Waterston_500_1_minutes', 'Waterston_500_2_minutes', 'Ce_M03D44_300_minutes', ..., 'batch_300', 'batch_360', 'batch_400', 'batch_500', 'BZ_N2']\n",
      "Length: 22\n",
      "Categories (22, object): ['BZ_N2', 'Ce_M03D44_300_minutes', 'Ce_M03D44_500_minutes', 'Ce_ceh9_300_minutes', ..., 'batch_300', 'batch_360', 'batch_400', 'batch_500']\n",
      "Filtered batches: ['Waterston_300_minutes', 'Waterston_400_minutes', 'Waterston_500_1_minutes', 'Waterston_500_2_minutes', 'Murray_b01', 'Murray_b02', 'Murray_r17', 'BZ_N2']\n",
      "adata_celsub shape: (94276, 13405)\n"
     ]
    }
   ],
   "source": [
    "# Save Packer dataset + N2 dataset separately\n",
    "unique_batches = adata.obs['batch_broad'].unique()\n",
    "print(f\"Unique batches: {unique_batches}\")\n",
    "# If the batch name contains Waterston, Murray or BZ_N2, get it\n",
    "filtered_batches = [batch for batch in unique_batches if 'Waterston' in batch or 'Murray' in batch or 'BZ_N2' in batch]\n",
    "print(f\"Filtered batches: {filtered_batches}\")\n",
    "adata_celsub = adata[adata.obs['batch_broad'].isin(filtered_batches)].copy()\n",
    "print(f\"adata_celsub shape: {adata_celsub.shape}\")\n",
    "adata_celsub.write_h5ad(data_dir / f\"adata_celsub_{file_suffix}.h5ad\")\n",
    "print(f\"Saved adata_celsub to {data_dir / f'adata_celsub_{file_suffix}.h5ad'}\")"
   ]
  },
  {
   "cell_type": "code",
   "execution_count": 29,
   "metadata": {},
   "outputs": [],
   "source": [
    "# save adata_celegans and adata_cbriggsae separately\n",
    "adata_celegans = adata[adata.obs['species'] == 'C.elegans'].copy()\n",
    "adata_cbriggsae = adata[adata.obs['species'] == 'C.briggsae'].copy()\n",
    "adata_celegans.write_h5ad(data_dir / f\"adata_celegans_{file_suffix}.h5ad\")\n",
    "adata_cbriggsae.write_h5ad(data_dir / f\"adata_cbriggsae_{file_suffix}.h5ad\")"
   ]
  },
  {
   "cell_type": "code",
   "execution_count": null,
   "metadata": {},
   "outputs": [],
   "source": []
  },
  {
   "cell_type": "markdown",
   "metadata": {},
   "source": [
    "## Run Concord"
   ]
  },
  {
   "cell_type": "code",
   "execution_count": null,
   "metadata": {},
   "outputs": [],
   "source": [
    "\n",
    "adata = sc.read_h5ad(\"../data/CBCEcombineN2/CBCEcombineN2_Jun26-1610.h5ad\")"
   ]
  },
  {
   "cell_type": "code",
   "execution_count": null,
   "metadata": {},
   "outputs": [],
   "source": [
    "feature_list = ccd.ul.select_features(adata, n_top_features=10000, flavor='seurat_v3') # Loosely select features based on Seurat v3 method (so that enough information is preserved)\n",
    "\n",
    "concord_args = {\n",
    "        'adata': adata,\n",
    "        'input_feature': feature_list,\n",
    "        'domain_key': 'batch',\n",
    "        'batch_size':64, # Batch size for training, adjust as needed\n",
    "        'latent_dim': 300, # Latent dimension size, adjust as needed\n",
    "        'encoder_dims':[1000], # Encoder dimensions, recommended to be larger than latent_dim\n",
    "        'use_decoder': False, # Whether to use a decoder, set to True if you want to use the decoder\n",
    "        'decoder_dims':[1000], # Decoder dimensions, ignored if use_decoder is False\n",
    "        'augmentation_mask_prob': 0.3, # Probability of masking features, recommended to be between 0.2 and 0.5\n",
    "        'clr_temperature': 0.3, # Temperature for contrastive loss, recommended to be between 0.1 and 0.5\n",
    "        'sampler_emb': None,\n",
    "        'p_intra_knn': 0.3, # Probability of intra-neighborhood sampling, must be less than 0.5\n",
    "        'sampler_knn': 300, # Size of neighbohood for intra-neighborhood sampling\n",
    "        'p_intra_domain': .95, # Enrichment probability for intra-domain sampling, recommended to be between 0.85 and 1.0, note the lower the value, the more dataset-specific information (may contain batch effects) is preserved\n",
    "        'n_epochs': 15, # Number of epochs for training, adjust as needed\n",
    "        'verbose': True, # Verbosity level, set to True for more detailed output\n",
    "        'seed': seed, # random seed for reproducibility\n",
    "        'device': device, # Device for training, can be 'cpu', 'cuda', or 'mps'\n",
    "        'save_dir': save_dir # Directory to save the model and results\n",
    "    }"
   ]
  },
  {
   "cell_type": "code",
   "execution_count": null,
   "metadata": {},
   "outputs": [],
   "source": [
    "output_key = 'Concord'\n",
    "cur_ccd = ccd.Concord(**concord_args)\n",
    "cur_ccd.fit_transform(output_key=output_key) # Result saved to ccd.adata.obsm[output_key]\n",
    "ccd.ul.save_obsm_to_hdf5(adata, save_dir / f\"obsm_{file_suffix}.h5\")"
   ]
  },
  {
   "cell_type": "code",
   "execution_count": null,
   "metadata": {},
   "outputs": [],
   "source": [
    "import numpy as np\n",
    "np.sum(adata.obs['raw.embryo.time'] < 0)"
   ]
  },
  {
   "cell_type": "code",
   "execution_count": null,
   "metadata": {},
   "outputs": [],
   "source": [
    "adata.obs['batch'].value_counts()"
   ]
  },
  {
   "cell_type": "code",
   "execution_count": null,
   "metadata": {},
   "outputs": [],
   "source": [
    "adata.obs.loc[adata.obs['batch'] == 'BZ_N2' , 'embryo.time'] = adata.obs.loc[adata.obs['batch'] == 'BZ_N2' , 'raw.embryo.time'].astype(float) # Convert to float for consistency"
   ]
  },
  {
   "cell_type": "code",
   "execution_count": null,
   "metadata": {},
   "outputs": [],
   "source": [
    "adata.obs['batch'] = adata.obs['batch'].astype(str) # Ensure batch is string type\n",
    "adata.obs.loc[adata.obs['batch'] == 'BZ_N2' , 'species'] = 'C.elegans'\n",
    "adata.obs['plot.cell.type'] = adata.obs['plot.cell.type'].astype(str) # Ensure cell type is string type\n",
    "adata.obs.loc[adata.obs['plot.cell.type'] == 'BZ_N2' , 'plot.cell.type'] = 'Unannotated'\n",
    "adata.obs.loc[adata.obs['plot.cell.type'] == 'nan', 'plot.cell.type'] = np.nan"
   ]
  },
  {
   "cell_type": "code",
   "execution_count": null,
   "metadata": {},
   "outputs": [],
   "source": [
    "basis = 'Concord'\n",
    "ccd.ul.run_umap(adata, source_key=basis, result_key=f'{basis}_UMAP', n_components=2, n_neighbors=30, min_dist=0.1, metric='euclidean', random_state=seed)\n",
    "show_basis = basis + '_UMAP'\n",
    "show_cols = ['plot.cell.type', 'embryo.time', \"batch\", 'lab', 'species']\n",
    "pal = {'plot.cell.type': 'tab20', 'embryo.time': 'BlueGreenRed', \"batch\": 'tab20', 'lab':'Set2', 'species': 'Set1'}\n",
    "ccd.pl.plot_embedding(\n",
    "    adata, show_basis, show_cols, figsize=(13,9), dpi=600, ncols=3, font_size=5, point_size=.3, legend_loc='on data', \n",
    "    pal = pal,\n",
    "    save_path=save_dir / f\"{show_basis}_{file_suffix}.png\"\n",
    ")"
   ]
  },
  {
   "cell_type": "code",
   "execution_count": null,
   "metadata": {},
   "outputs": [],
   "source": [
    "ccd.ul.save_obsm_to_hdf5(adata, save_dir / f\"obsm_{file_suffix}_pca_init.h5\")"
   ]
  },
  {
   "cell_type": "code",
   "execution_count": null,
   "metadata": {},
   "outputs": [],
   "source": [
    "ccd.ul.run_umap(adata, source_key=basis, result_key=f'{basis}_UMAP_3D_cosine', n_components=3, n_neighbors=30, min_dist=0.1, metric='cosine', random_state=seed)\n",
    "import plotly.io as pio\n",
    "pio.renderers.default = 'notebook'\n",
    "for col in show_cols:\n",
    "    show_basis = f'{basis}_UMAP_3D_cosine'\n",
    "    ccd.pl.plot_embedding_3d(\n",
    "            adata, basis=show_basis, color_by=col,\n",
    "            pal = pal[col],\n",
    "            save_path=save_dir / f'{show_basis}_{col}_{file_suffix}.html',\n",
    "            point_size=1, opacity=0.8, width=1500, height=1000\n",
    "        )"
   ]
  },
  {
   "cell_type": "code",
   "execution_count": null,
   "metadata": {},
   "outputs": [],
   "source": [
    "import pandas as pd\n",
    "pd.crosstab(adata.obs['batch'], adata.obs['species'])"
   ]
  },
  {
   "cell_type": "code",
   "execution_count": null,
   "metadata": {},
   "outputs": [],
   "source": [
    "adata.write_h5ad(data_dir / f\"{proj_name}_{file_suffix}.h5ad\") # Save the adata object with the encoded embeddings\n",
    "print(f\"Saved adata to {data_dir / f'{proj_name}_{file_suffix}.h5ad'}\")\n"
   ]
  },
  {
   "cell_type": "code",
   "execution_count": null,
   "metadata": {},
   "outputs": [],
   "source": [
    "ccd.ul.anndata_to_viscello(adata, data_dir / f\"cello_{proj_name}_{file_suffix}\", project_name = proj_name, organism='hsa')\n",
    "print(f\"Saved viscello to {data_dir / f'cello_{proj_name}_{file_suffix}'}\")"
   ]
  },
  {
   "cell_type": "code",
   "execution_count": null,
   "metadata": {},
   "outputs": [],
   "source": []
  }
 ],
 "metadata": {
  "kernelspec": {
   "display_name": "concord",
   "language": "python",
   "name": "python3"
  },
  "language_info": {
   "codemirror_mode": {
    "name": "ipython",
    "version": 3
   },
   "file_extension": ".py",
   "mimetype": "text/x-python",
   "name": "python",
   "nbconvert_exporter": "python",
   "pygments_lexer": "ipython3",
   "version": "3.12.2"
  }
 },
 "nbformat": 4,
 "nbformat_minor": 2
}
